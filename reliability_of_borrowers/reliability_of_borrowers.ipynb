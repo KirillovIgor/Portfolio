{
 "cells": [
  {
   "attachments": {},
   "cell_type": "markdown",
   "id": "389324f3",
   "metadata": {},
   "source": [
    "<h2>Описание проекта <a class=\"tocSkip\"> </h2>\n",
    "\n",
    "**Заказчик** — кредитный отдел банка.\n",
    "    \n",
    "**Цель проекта** - выявить, влияет ли семейное положение и количество детей клиента на факт погашения кредита в срок. \n",
    "\n",
    "**Задачи проекта** - обработать и исследовать полученные данные.\n",
    "\n",
    "**Входные данные от банка** — статистика о платёжеспособности клиентов. Ниже описаны значения столбцов:\n",
    "- `children` — количество детей в семье\n",
    "- `days_employed` — общий трудовой стаж в днях\n",
    "- `dob_years` — возраст клиента в годах\n",
    "- `education` — уровень образования клиента\n",
    "- `education_id` — идентификатор уровня образования\n",
    "- `family_status` — семейное положение\n",
    "- `family_status_id` — идентификатор семейного положения\n",
    "- `gender` — пол клиента\n",
    "- `income_type` — тип занятости\n",
    "- `debt` — имел ли задолженность по возврату кредитов\n",
    "- `total_income` — ежемесячный доход\n",
    "- `purpose` — цель получения кредита"
   ]
  },
  {
   "attachments": {},
   "cell_type": "markdown",
   "id": "7a05d2be",
   "metadata": {},
   "source": [
    "<a id=\"introduction\"></a>"
   ]
  },
  {
   "attachments": {},
   "cell_type": "markdown",
   "id": "33b8bfb8",
   "metadata": {},
   "source": [
    "**План работ:**\n",
    "\n",
    "- [Изучение общей информации о данных](#start)\n",
    "- [Предобработка данных](#preprocessing)\n",
    "- [Ответы на поставленные вопросы](#analyzing)\n",
    "- [Вывод](#end)\n"
   ]
  },
  {
   "attachments": {},
   "cell_type": "markdown",
   "id": "532ac913",
   "metadata": {
    "deletable": false,
    "editable": false,
    "id": "744d7639"
   },
   "source": [
    "## Изучение общей информации о данных"
   ]
  },
  {
   "attachments": {},
   "cell_type": "markdown",
   "id": "ab9a372b",
   "metadata": {},
   "source": [
    "<a id=\"start\"></a>"
   ]
  },
  {
   "cell_type": "code",
   "execution_count": 126,
   "id": "23d4b8c1",
   "metadata": {},
   "outputs": [],
   "source": [
    "#Импортируем библиотеку pandas\n",
    "import pandas as pd"
   ]
  },
  {
   "cell_type": "code",
   "execution_count": 127,
   "id": "919ebdb7",
   "metadata": {
    "deletable": false,
    "id": "7bcf75c9"
   },
   "outputs": [],
   "source": [
    "data = pd.read_csv('https://code.s3.yandex.net/datasets/data.csv')"
   ]
  },
  {
   "cell_type": "code",
   "execution_count": 128,
   "id": "cf8c06e6",
   "metadata": {
    "deletable": false,
    "id": "2a7cab99",
    "outputId": "1a8f3ef2-d323-4ec2-ddf7-89670b5944c4"
   },
   "outputs": [
    {
     "data": {
      "text/html": [
       "<div>\n",
       "<style scoped>\n",
       "    .dataframe tbody tr th:only-of-type {\n",
       "        vertical-align: middle;\n",
       "    }\n",
       "\n",
       "    .dataframe tbody tr th {\n",
       "        vertical-align: top;\n",
       "    }\n",
       "\n",
       "    .dataframe thead th {\n",
       "        text-align: right;\n",
       "    }\n",
       "</style>\n",
       "<table border=\"1\" class=\"dataframe\">\n",
       "  <thead>\n",
       "    <tr style=\"text-align: right;\">\n",
       "      <th></th>\n",
       "      <th>children</th>\n",
       "      <th>days_employed</th>\n",
       "      <th>dob_years</th>\n",
       "      <th>education</th>\n",
       "      <th>education_id</th>\n",
       "      <th>family_status</th>\n",
       "      <th>family_status_id</th>\n",
       "      <th>gender</th>\n",
       "      <th>income_type</th>\n",
       "      <th>debt</th>\n",
       "      <th>total_income</th>\n",
       "      <th>purpose</th>\n",
       "    </tr>\n",
       "  </thead>\n",
       "  <tbody>\n",
       "    <tr>\n",
       "      <th>0</th>\n",
       "      <td>1</td>\n",
       "      <td>-8437.673028</td>\n",
       "      <td>42</td>\n",
       "      <td>высшее</td>\n",
       "      <td>0</td>\n",
       "      <td>женат / замужем</td>\n",
       "      <td>0</td>\n",
       "      <td>F</td>\n",
       "      <td>сотрудник</td>\n",
       "      <td>0</td>\n",
       "      <td>253875.639453</td>\n",
       "      <td>покупка жилья</td>\n",
       "    </tr>\n",
       "    <tr>\n",
       "      <th>1</th>\n",
       "      <td>1</td>\n",
       "      <td>-4024.803754</td>\n",
       "      <td>36</td>\n",
       "      <td>среднее</td>\n",
       "      <td>1</td>\n",
       "      <td>женат / замужем</td>\n",
       "      <td>0</td>\n",
       "      <td>F</td>\n",
       "      <td>сотрудник</td>\n",
       "      <td>0</td>\n",
       "      <td>112080.014102</td>\n",
       "      <td>приобретение автомобиля</td>\n",
       "    </tr>\n",
       "    <tr>\n",
       "      <th>2</th>\n",
       "      <td>0</td>\n",
       "      <td>-5623.422610</td>\n",
       "      <td>33</td>\n",
       "      <td>Среднее</td>\n",
       "      <td>1</td>\n",
       "      <td>женат / замужем</td>\n",
       "      <td>0</td>\n",
       "      <td>M</td>\n",
       "      <td>сотрудник</td>\n",
       "      <td>0</td>\n",
       "      <td>145885.952297</td>\n",
       "      <td>покупка жилья</td>\n",
       "    </tr>\n",
       "    <tr>\n",
       "      <th>3</th>\n",
       "      <td>3</td>\n",
       "      <td>-4124.747207</td>\n",
       "      <td>32</td>\n",
       "      <td>среднее</td>\n",
       "      <td>1</td>\n",
       "      <td>женат / замужем</td>\n",
       "      <td>0</td>\n",
       "      <td>M</td>\n",
       "      <td>сотрудник</td>\n",
       "      <td>0</td>\n",
       "      <td>267628.550329</td>\n",
       "      <td>дополнительное образование</td>\n",
       "    </tr>\n",
       "    <tr>\n",
       "      <th>4</th>\n",
       "      <td>0</td>\n",
       "      <td>340266.072047</td>\n",
       "      <td>53</td>\n",
       "      <td>среднее</td>\n",
       "      <td>1</td>\n",
       "      <td>гражданский брак</td>\n",
       "      <td>1</td>\n",
       "      <td>F</td>\n",
       "      <td>пенсионер</td>\n",
       "      <td>0</td>\n",
       "      <td>158616.077870</td>\n",
       "      <td>сыграть свадьбу</td>\n",
       "    </tr>\n",
       "    <tr>\n",
       "      <th>5</th>\n",
       "      <td>0</td>\n",
       "      <td>-926.185831</td>\n",
       "      <td>27</td>\n",
       "      <td>высшее</td>\n",
       "      <td>0</td>\n",
       "      <td>гражданский брак</td>\n",
       "      <td>1</td>\n",
       "      <td>M</td>\n",
       "      <td>компаньон</td>\n",
       "      <td>0</td>\n",
       "      <td>255763.565419</td>\n",
       "      <td>покупка жилья</td>\n",
       "    </tr>\n",
       "    <tr>\n",
       "      <th>6</th>\n",
       "      <td>0</td>\n",
       "      <td>-2879.202052</td>\n",
       "      <td>43</td>\n",
       "      <td>высшее</td>\n",
       "      <td>0</td>\n",
       "      <td>женат / замужем</td>\n",
       "      <td>0</td>\n",
       "      <td>F</td>\n",
       "      <td>компаньон</td>\n",
       "      <td>0</td>\n",
       "      <td>240525.971920</td>\n",
       "      <td>операции с жильем</td>\n",
       "    </tr>\n",
       "    <tr>\n",
       "      <th>7</th>\n",
       "      <td>0</td>\n",
       "      <td>-152.779569</td>\n",
       "      <td>50</td>\n",
       "      <td>СРЕДНЕЕ</td>\n",
       "      <td>1</td>\n",
       "      <td>женат / замужем</td>\n",
       "      <td>0</td>\n",
       "      <td>M</td>\n",
       "      <td>сотрудник</td>\n",
       "      <td>0</td>\n",
       "      <td>135823.934197</td>\n",
       "      <td>образование</td>\n",
       "    </tr>\n",
       "    <tr>\n",
       "      <th>8</th>\n",
       "      <td>2</td>\n",
       "      <td>-6929.865299</td>\n",
       "      <td>35</td>\n",
       "      <td>ВЫСШЕЕ</td>\n",
       "      <td>0</td>\n",
       "      <td>гражданский брак</td>\n",
       "      <td>1</td>\n",
       "      <td>F</td>\n",
       "      <td>сотрудник</td>\n",
       "      <td>0</td>\n",
       "      <td>95856.832424</td>\n",
       "      <td>на проведение свадьбы</td>\n",
       "    </tr>\n",
       "    <tr>\n",
       "      <th>9</th>\n",
       "      <td>0</td>\n",
       "      <td>-2188.756445</td>\n",
       "      <td>41</td>\n",
       "      <td>среднее</td>\n",
       "      <td>1</td>\n",
       "      <td>женат / замужем</td>\n",
       "      <td>0</td>\n",
       "      <td>M</td>\n",
       "      <td>сотрудник</td>\n",
       "      <td>0</td>\n",
       "      <td>144425.938277</td>\n",
       "      <td>покупка жилья для семьи</td>\n",
       "    </tr>\n",
       "    <tr>\n",
       "      <th>10</th>\n",
       "      <td>2</td>\n",
       "      <td>-4171.483647</td>\n",
       "      <td>36</td>\n",
       "      <td>высшее</td>\n",
       "      <td>0</td>\n",
       "      <td>женат / замужем</td>\n",
       "      <td>0</td>\n",
       "      <td>M</td>\n",
       "      <td>компаньон</td>\n",
       "      <td>0</td>\n",
       "      <td>113943.491460</td>\n",
       "      <td>покупка недвижимости</td>\n",
       "    </tr>\n",
       "    <tr>\n",
       "      <th>11</th>\n",
       "      <td>0</td>\n",
       "      <td>-792.701887</td>\n",
       "      <td>40</td>\n",
       "      <td>среднее</td>\n",
       "      <td>1</td>\n",
       "      <td>женат / замужем</td>\n",
       "      <td>0</td>\n",
       "      <td>F</td>\n",
       "      <td>сотрудник</td>\n",
       "      <td>0</td>\n",
       "      <td>77069.234271</td>\n",
       "      <td>покупка коммерческой недвижимости</td>\n",
       "    </tr>\n",
       "    <tr>\n",
       "      <th>12</th>\n",
       "      <td>0</td>\n",
       "      <td>NaN</td>\n",
       "      <td>65</td>\n",
       "      <td>среднее</td>\n",
       "      <td>1</td>\n",
       "      <td>гражданский брак</td>\n",
       "      <td>1</td>\n",
       "      <td>M</td>\n",
       "      <td>пенсионер</td>\n",
       "      <td>0</td>\n",
       "      <td>NaN</td>\n",
       "      <td>сыграть свадьбу</td>\n",
       "    </tr>\n",
       "    <tr>\n",
       "      <th>13</th>\n",
       "      <td>0</td>\n",
       "      <td>-1846.641941</td>\n",
       "      <td>54</td>\n",
       "      <td>неоконченное высшее</td>\n",
       "      <td>2</td>\n",
       "      <td>женат / замужем</td>\n",
       "      <td>0</td>\n",
       "      <td>F</td>\n",
       "      <td>сотрудник</td>\n",
       "      <td>0</td>\n",
       "      <td>130458.228857</td>\n",
       "      <td>приобретение автомобиля</td>\n",
       "    </tr>\n",
       "    <tr>\n",
       "      <th>14</th>\n",
       "      <td>0</td>\n",
       "      <td>-1844.956182</td>\n",
       "      <td>56</td>\n",
       "      <td>высшее</td>\n",
       "      <td>0</td>\n",
       "      <td>гражданский брак</td>\n",
       "      <td>1</td>\n",
       "      <td>F</td>\n",
       "      <td>компаньон</td>\n",
       "      <td>1</td>\n",
       "      <td>165127.911772</td>\n",
       "      <td>покупка жилой недвижимости</td>\n",
       "    </tr>\n",
       "    <tr>\n",
       "      <th>15</th>\n",
       "      <td>1</td>\n",
       "      <td>-972.364419</td>\n",
       "      <td>26</td>\n",
       "      <td>среднее</td>\n",
       "      <td>1</td>\n",
       "      <td>женат / замужем</td>\n",
       "      <td>0</td>\n",
       "      <td>F</td>\n",
       "      <td>сотрудник</td>\n",
       "      <td>0</td>\n",
       "      <td>116820.904450</td>\n",
       "      <td>строительство собственной недвижимости</td>\n",
       "    </tr>\n",
       "    <tr>\n",
       "      <th>16</th>\n",
       "      <td>0</td>\n",
       "      <td>-1719.934226</td>\n",
       "      <td>35</td>\n",
       "      <td>среднее</td>\n",
       "      <td>1</td>\n",
       "      <td>женат / замужем</td>\n",
       "      <td>0</td>\n",
       "      <td>F</td>\n",
       "      <td>сотрудник</td>\n",
       "      <td>0</td>\n",
       "      <td>289202.704229</td>\n",
       "      <td>недвижимость</td>\n",
       "    </tr>\n",
       "    <tr>\n",
       "      <th>17</th>\n",
       "      <td>0</td>\n",
       "      <td>-2369.999720</td>\n",
       "      <td>33</td>\n",
       "      <td>высшее</td>\n",
       "      <td>0</td>\n",
       "      <td>гражданский брак</td>\n",
       "      <td>1</td>\n",
       "      <td>M</td>\n",
       "      <td>сотрудник</td>\n",
       "      <td>0</td>\n",
       "      <td>90410.586745</td>\n",
       "      <td>строительство недвижимости</td>\n",
       "    </tr>\n",
       "    <tr>\n",
       "      <th>18</th>\n",
       "      <td>0</td>\n",
       "      <td>400281.136913</td>\n",
       "      <td>53</td>\n",
       "      <td>среднее</td>\n",
       "      <td>1</td>\n",
       "      <td>вдовец / вдова</td>\n",
       "      <td>2</td>\n",
       "      <td>F</td>\n",
       "      <td>пенсионер</td>\n",
       "      <td>0</td>\n",
       "      <td>56823.777243</td>\n",
       "      <td>на покупку подержанного автомобиля</td>\n",
       "    </tr>\n",
       "    <tr>\n",
       "      <th>19</th>\n",
       "      <td>0</td>\n",
       "      <td>-10038.818549</td>\n",
       "      <td>48</td>\n",
       "      <td>СРЕДНЕЕ</td>\n",
       "      <td>1</td>\n",
       "      <td>в разводе</td>\n",
       "      <td>3</td>\n",
       "      <td>F</td>\n",
       "      <td>сотрудник</td>\n",
       "      <td>0</td>\n",
       "      <td>242831.107982</td>\n",
       "      <td>на покупку своего автомобиля</td>\n",
       "    </tr>\n",
       "  </tbody>\n",
       "</table>\n",
       "</div>"
      ],
      "text/plain": [
       "    children  days_employed  dob_years            education  education_id  \\\n",
       "0          1   -8437.673028         42               высшее             0   \n",
       "1          1   -4024.803754         36              среднее             1   \n",
       "2          0   -5623.422610         33              Среднее             1   \n",
       "3          3   -4124.747207         32              среднее             1   \n",
       "4          0  340266.072047         53              среднее             1   \n",
       "5          0    -926.185831         27               высшее             0   \n",
       "6          0   -2879.202052         43               высшее             0   \n",
       "7          0    -152.779569         50              СРЕДНЕЕ             1   \n",
       "8          2   -6929.865299         35               ВЫСШЕЕ             0   \n",
       "9          0   -2188.756445         41              среднее             1   \n",
       "10         2   -4171.483647         36               высшее             0   \n",
       "11         0    -792.701887         40              среднее             1   \n",
       "12         0            NaN         65              среднее             1   \n",
       "13         0   -1846.641941         54  неоконченное высшее             2   \n",
       "14         0   -1844.956182         56               высшее             0   \n",
       "15         1    -972.364419         26              среднее             1   \n",
       "16         0   -1719.934226         35              среднее             1   \n",
       "17         0   -2369.999720         33               высшее             0   \n",
       "18         0  400281.136913         53              среднее             1   \n",
       "19         0  -10038.818549         48              СРЕДНЕЕ             1   \n",
       "\n",
       "       family_status  family_status_id gender income_type  debt  \\\n",
       "0    женат / замужем                 0      F   сотрудник     0   \n",
       "1    женат / замужем                 0      F   сотрудник     0   \n",
       "2    женат / замужем                 0      M   сотрудник     0   \n",
       "3    женат / замужем                 0      M   сотрудник     0   \n",
       "4   гражданский брак                 1      F   пенсионер     0   \n",
       "5   гражданский брак                 1      M   компаньон     0   \n",
       "6    женат / замужем                 0      F   компаньон     0   \n",
       "7    женат / замужем                 0      M   сотрудник     0   \n",
       "8   гражданский брак                 1      F   сотрудник     0   \n",
       "9    женат / замужем                 0      M   сотрудник     0   \n",
       "10   женат / замужем                 0      M   компаньон     0   \n",
       "11   женат / замужем                 0      F   сотрудник     0   \n",
       "12  гражданский брак                 1      M   пенсионер     0   \n",
       "13   женат / замужем                 0      F   сотрудник     0   \n",
       "14  гражданский брак                 1      F   компаньон     1   \n",
       "15   женат / замужем                 0      F   сотрудник     0   \n",
       "16   женат / замужем                 0      F   сотрудник     0   \n",
       "17  гражданский брак                 1      M   сотрудник     0   \n",
       "18    вдовец / вдова                 2      F   пенсионер     0   \n",
       "19         в разводе                 3      F   сотрудник     0   \n",
       "\n",
       "     total_income                                 purpose  \n",
       "0   253875.639453                           покупка жилья  \n",
       "1   112080.014102                 приобретение автомобиля  \n",
       "2   145885.952297                           покупка жилья  \n",
       "3   267628.550329              дополнительное образование  \n",
       "4   158616.077870                         сыграть свадьбу  \n",
       "5   255763.565419                           покупка жилья  \n",
       "6   240525.971920                       операции с жильем  \n",
       "7   135823.934197                             образование  \n",
       "8    95856.832424                   на проведение свадьбы  \n",
       "9   144425.938277                 покупка жилья для семьи  \n",
       "10  113943.491460                    покупка недвижимости  \n",
       "11   77069.234271       покупка коммерческой недвижимости  \n",
       "12            NaN                         сыграть свадьбу  \n",
       "13  130458.228857                 приобретение автомобиля  \n",
       "14  165127.911772              покупка жилой недвижимости  \n",
       "15  116820.904450  строительство собственной недвижимости  \n",
       "16  289202.704229                            недвижимость  \n",
       "17   90410.586745              строительство недвижимости  \n",
       "18   56823.777243      на покупку подержанного автомобиля  \n",
       "19  242831.107982            на покупку своего автомобиля  "
      ]
     },
     "execution_count": 128,
     "metadata": {},
     "output_type": "execute_result"
    }
   ],
   "source": [
    "#Изучим первые 20 строк датафрейма\n",
    "data.head(20)"
   ]
  },
  {
   "cell_type": "code",
   "execution_count": 129,
   "id": "bcdbf780",
   "metadata": {
    "deletable": false,
    "id": "2b757bca",
    "outputId": "15376089-8dad-46c9-b520-c05248d43158"
   },
   "outputs": [
    {
     "name": "stdout",
     "output_type": "stream",
     "text": [
      "<class 'pandas.core.frame.DataFrame'>\n",
      "RangeIndex: 21525 entries, 0 to 21524\n",
      "Data columns (total 12 columns):\n",
      " #   Column            Non-Null Count  Dtype  \n",
      "---  ------            --------------  -----  \n",
      " 0   children          21525 non-null  int64  \n",
      " 1   days_employed     19351 non-null  float64\n",
      " 2   dob_years         21525 non-null  int64  \n",
      " 3   education         21525 non-null  object \n",
      " 4   education_id      21525 non-null  int64  \n",
      " 5   family_status     21525 non-null  object \n",
      " 6   family_status_id  21525 non-null  int64  \n",
      " 7   gender            21525 non-null  object \n",
      " 8   income_type       21525 non-null  object \n",
      " 9   debt              21525 non-null  int64  \n",
      " 10  total_income      19351 non-null  float64\n",
      " 11  purpose           21525 non-null  object \n",
      "dtypes: float64(2), int64(5), object(5)\n",
      "memory usage: 2.0+ MB\n"
     ]
    }
   ],
   "source": [
    "#Выведем общую информацию о данных\n",
    "data.info()"
   ]
  },
  {
   "attachments": {},
   "cell_type": "markdown",
   "id": "041a78c4",
   "metadata": {},
   "source": [
    "В данных присутствуют пропуски в столбцах:\n",
    "- `days_employed`\n",
    "- `total_income`"
   ]
  },
  {
   "attachments": {},
   "cell_type": "markdown",
   "id": "66bac0d3",
   "metadata": {
    "deletable": false,
    "editable": false,
    "id": "333ec665"
   },
   "source": [
    "## Предобработка данных\n",
    "[Описание проекта](#introduction)"
   ]
  },
  {
   "attachments": {},
   "cell_type": "markdown",
   "id": "09243bff",
   "metadata": {},
   "source": [
    "<a id=\"preprocessing\"></a>"
   ]
  },
  {
   "cell_type": "markdown",
   "id": "39ca8277",
   "metadata": {
    "deletable": false,
    "editable": false,
    "id": "02d92d53"
   },
   "source": [
    "### Удаление пропусков"
   ]
  },
  {
   "cell_type": "code",
   "execution_count": 130,
   "id": "b0776b6e",
   "metadata": {
    "deletable": false,
    "id": "7f9b2309",
    "outputId": "81f4d817-781c-465c-ed15-91ce4446810d"
   },
   "outputs": [
    {
     "data": {
      "text/plain": [
       "children               0\n",
       "days_employed       2174\n",
       "dob_years              0\n",
       "education              0\n",
       "education_id           0\n",
       "family_status          0\n",
       "family_status_id       0\n",
       "gender                 0\n",
       "income_type            0\n",
       "debt                   0\n",
       "total_income        2174\n",
       "purpose                0\n",
       "dtype: int64"
      ]
     },
     "execution_count": 130,
     "metadata": {},
     "output_type": "execute_result"
    }
   ],
   "source": [
    "#Посмотрим на количество пропущенных значений для каждого столбца\n",
    "data.isna().sum()"
   ]
  },
  {
   "attachments": {},
   "cell_type": "markdown",
   "id": "cf3bc9d2",
   "metadata": {},
   "source": [
    "Заполним пропуски в столбце `total_income` медианными значениями по каждому типу занятости из столбца `income_type`, потому что он хранит данные о доходах, а на сумму дохода сильнее всего влияет тип занятости."
   ]
  },
  {
   "cell_type": "code",
   "execution_count": 131,
   "id": "f028f939",
   "metadata": {
    "deletable": false,
    "id": "42006a93"
   },
   "outputs": [],
   "source": [
    "#Напишем цикл, который заполнит пропуски в total_income' по типу занятости из 'income_type'\n",
    "for _ in data['income_type'].unique():\n",
    "    data.loc[(data['income_type'] == _) & (data['total_income'].isna()), 'total_income'] = \\\n",
    "    data.loc[(data['income_type'] == _), 'total_income'].median()"
   ]
  },
  {
   "cell_type": "markdown",
   "id": "55279c0a",
   "metadata": {
    "deletable": false,
    "editable": false,
    "id": "89da5ece"
   },
   "source": [
    "### Обработка аномальных значений"
   ]
  },
  {
   "cell_type": "code",
   "execution_count": 132,
   "id": "00a9380a",
   "metadata": {
    "deletable": false,
    "id": "f6f055bf"
   },
   "outputs": [],
   "source": [
    "#В столбце days_employed присутсвуют отрицательные значения - ошибка выгрузки\n",
    "#Обработаем значения и заменим все отрицательные значения положительными методом abs()\n",
    "data['days_employed'] = data['days_employed'].abs()"
   ]
  },
  {
   "cell_type": "code",
   "execution_count": 133,
   "id": "37539464",
   "metadata": {
    "deletable": false,
    "id": "85a5faf6",
    "outputId": "801ef80e-522b-4668-f34e-565af7432bcf"
   },
   "outputs": [
    {
     "data": {
      "text/plain": [
       "income_type\n",
       "безработный        366413.652744\n",
       "в декрете            3296.759962\n",
       "госслужащий          2689.368353\n",
       "компаньон            1547.382223\n",
       "пенсионер          365213.306266\n",
       "предприниматель       520.848083\n",
       "сотрудник            1574.202821\n",
       "студент               578.751554\n",
       "Name: days_employed, dtype: float64"
      ]
     },
     "execution_count": 133,
     "metadata": {},
     "output_type": "execute_result"
    }
   ],
   "source": [
    "#Выведем для каждого типа занятости медианное значение трудового стажа\n",
    "data.groupby('income_type')['days_employed'].agg('median')"
   ]
  },
  {
   "attachments": {},
   "cell_type": "markdown",
   "id": "1f9f747b",
   "metadata": {
    "deletable": false,
    "editable": false,
    "id": "38d1a030"
   },
   "source": [
    "У двух типов (безработные и пенсионеры) получатся аномально большие значения. Исправить такие значения сложно, поэтому оставим как есть. Также этот столбец не понадобится нам в дальнейшем."
   ]
  },
  {
   "cell_type": "code",
   "execution_count": 134,
   "id": "b527adb2",
   "metadata": {
    "deletable": false,
    "id": "ef5056eb",
    "outputId": "6975b15c-7f95-4697-d16d-a0c79b657b03"
   },
   "outputs": [
    {
     "data": {
      "text/plain": [
       "array([ 1,  0,  3,  2, -1,  4, 20,  5], dtype=int64)"
      ]
     },
     "execution_count": 134,
     "metadata": {},
     "output_type": "execute_result"
    }
   ],
   "source": [
    "#Выведем перечень уникальных значений столбца `children`\n",
    "data['children'].unique()"
   ]
  },
  {
   "attachments": {},
   "cell_type": "markdown",
   "id": "234dec79",
   "metadata": {
    "deletable": false,
    "editable": false,
    "id": "40b9ebf2"
   },
   "source": [
    "В столбце `children` есть два аномальных значения. Удалим строки, в которых встречаются такие аномальные значения из датафрейма `data`."
   ]
  },
  {
   "cell_type": "code",
   "execution_count": 135,
   "id": "1eff9583",
   "metadata": {
    "deletable": false,
    "id": "3ff9801d"
   },
   "outputs": [],
   "source": [
    "#Удаляем строки с аномальными значениями\n",
    "data = data[(data['children'] != -1) & (data['children'] != 20)]"
   ]
  },
  {
   "cell_type": "code",
   "execution_count": 136,
   "id": "58494dc5",
   "metadata": {
    "deletable": false,
    "id": "af6b1a7e"
   },
   "outputs": [],
   "source": [
    "#Заполним пропуски в столбце `days_employed` медианными значениями по каждого типа занятости `income_type`\n",
    "for t in data['income_type'].unique():\n",
    "    data.loc[(data['income_type'] == t) & (data['days_employed'].isna()), 'days_employed'] = \\\n",
    "    data.loc[(data['income_type'] == t), 'days_employed'].median()"
   ]
  },
  {
   "cell_type": "code",
   "execution_count": 137,
   "id": "46416ba5",
   "metadata": {
    "deletable": false,
    "id": "55f78bc2",
    "outputId": "8da1e4e1-358e-4e87-98c9-f261bce0a7b2"
   },
   "outputs": [
    {
     "data": {
      "text/plain": [
       "children            0\n",
       "days_employed       0\n",
       "dob_years           0\n",
       "education           0\n",
       "education_id        0\n",
       "family_status       0\n",
       "family_status_id    0\n",
       "gender              0\n",
       "income_type         0\n",
       "debt                0\n",
       "total_income        0\n",
       "purpose             0\n",
       "dtype: int64"
      ]
     },
     "execution_count": 137,
     "metadata": {},
     "output_type": "execute_result"
    }
   ],
   "source": [
    "#Убедимся, что все пропуски заполнены\n",
    "data.isna().sum()"
   ]
  },
  {
   "cell_type": "markdown",
   "id": "8d513524",
   "metadata": {
    "deletable": false,
    "editable": false,
    "id": "ddc81e43"
   },
   "source": [
    "### Изменение типов данных"
   ]
  },
  {
   "cell_type": "code",
   "execution_count": 138,
   "id": "fd6f5066",
   "metadata": {
    "deletable": false,
    "id": "920b65ad"
   },
   "outputs": [],
   "source": [
    "#Заменим вещественный тип данных в столбце `total_income` на целочисленный с помощью метода `astype()`\n",
    "data['total_income'] = data['total_income'].astype(int)"
   ]
  },
  {
   "cell_type": "markdown",
   "id": "4ca346b5",
   "metadata": {
    "deletable": false,
    "editable": false,
    "id": "80c420ba"
   },
   "source": [
    "### Обработка дубликатов"
   ]
  },
  {
   "cell_type": "code",
   "execution_count": 139,
   "id": "71f34bbf",
   "metadata": {
    "deletable": false
   },
   "outputs": [],
   "source": [
    "#Обработаем неявные дубликаты в столбце `education`\n",
    "data['education'] = data['education'].str.lower()"
   ]
  },
  {
   "cell_type": "code",
   "execution_count": 140,
   "id": "3420f9f7",
   "metadata": {
    "deletable": false,
    "id": "3ee445e4",
    "outputId": "9684deba-1934-42d1-99e1-cda61740f822"
   },
   "outputs": [
    {
     "data": {
      "text/plain": [
       "71"
      ]
     },
     "execution_count": 140,
     "metadata": {},
     "output_type": "execute_result"
    }
   ],
   "source": [
    "#Выведем на экран количество строк-дубликатов в данных\n",
    "data.duplicated().sum()"
   ]
  },
  {
   "cell_type": "code",
   "execution_count": 141,
   "id": "8eb3e6f2",
   "metadata": {
    "deletable": false,
    "id": "8575fe05"
   },
   "outputs": [],
   "source": [
    "#Удалим 71 дубликат\n",
    "data = data.drop_duplicates()"
   ]
  },
  {
   "cell_type": "markdown",
   "id": "39eac377",
   "metadata": {
    "deletable": false,
    "editable": false,
    "id": "9904cf55"
   },
   "source": [
    "### Категоризация данных"
   ]
  },
  {
   "attachments": {},
   "cell_type": "markdown",
   "id": "a1efa5ff",
   "metadata": {
    "deletable": false,
    "editable": false,
    "id": "72fcc8a2"
   },
   "source": [
    "Создадим в датафрейме `data` столбец `total_income_category` с категориями:\n",
    "- 0–30000 — `'E'`;\n",
    "- 30001–50000 — `'D'`;\n",
    "- 50001–200000 — `'C'`;\n",
    "- 200001–1000000 — `'B'`;\n",
    "- 1000001 и выше — `'A'`."
   ]
  },
  {
   "cell_type": "code",
   "execution_count": 142,
   "id": "69465267",
   "metadata": {
    "deletable": false,
    "id": "e1771346"
   },
   "outputs": [],
   "source": [
    "#Напишем функцию на вход которой будет подаваться значением из столбца 'total_income',\n",
    "#а на выходе будем получать категорию\n",
    "def categorize_income(income):\n",
    "    try:\n",
    "        if 0 <= income <= 30000:\n",
    "            return 'E'\n",
    "        elif 30001 <= income <= 50000:\n",
    "            return 'D'\n",
    "        elif 50001 <= income <= 200000:\n",
    "            return 'C'\n",
    "        elif 200001 <= income <= 1000000:\n",
    "            return 'B'\n",
    "        elif income >= 1000001:\n",
    "            return 'A'\n",
    "    except:\n",
    "        pass"
   ]
  },
  {
   "cell_type": "code",
   "execution_count": 143,
   "id": "22abfff9",
   "metadata": {
    "deletable": false,
    "id": "d5f3586d"
   },
   "outputs": [],
   "source": [
    "#Применим нашу функцию\n",
    "data['total_income_category'] = data['total_income'].apply(categorize_income)"
   ]
  },
  {
   "cell_type": "code",
   "execution_count": 144,
   "id": "908ec42e",
   "metadata": {
    "deletable": false,
    "id": "f67ce9b3",
    "outputId": "673c12d9-7d7e-4ae0-9812-c622c89dd244"
   },
   "outputs": [
    {
     "data": {
      "text/plain": [
       "array(['покупка жилья', 'приобретение автомобиля',\n",
       "       'дополнительное образование', 'сыграть свадьбу',\n",
       "       'операции с жильем', 'образование', 'на проведение свадьбы',\n",
       "       'покупка жилья для семьи', 'покупка недвижимости',\n",
       "       'покупка коммерческой недвижимости', 'покупка жилой недвижимости',\n",
       "       'строительство собственной недвижимости', 'недвижимость',\n",
       "       'строительство недвижимости', 'на покупку подержанного автомобиля',\n",
       "       'на покупку своего автомобиля',\n",
       "       'операции с коммерческой недвижимостью',\n",
       "       'строительство жилой недвижимости', 'жилье',\n",
       "       'операции со своей недвижимостью', 'автомобили',\n",
       "       'заняться образованием', 'сделка с подержанным автомобилем',\n",
       "       'получение образования', 'автомобиль', 'свадьба',\n",
       "       'получение дополнительного образования', 'покупка своего жилья',\n",
       "       'операции с недвижимостью', 'получение высшего образования',\n",
       "       'свой автомобиль', 'сделка с автомобилем',\n",
       "       'профильное образование', 'высшее образование',\n",
       "       'покупка жилья для сдачи', 'на покупку автомобиля', 'ремонт жилью',\n",
       "       'заняться высшим образованием'], dtype=object)"
      ]
     },
     "execution_count": 144,
     "metadata": {},
     "output_type": "execute_result"
    }
   ],
   "source": [
    "#Выведем на экран перечень уникальных целей взятия кредита\n",
    "data['purpose'].unique()"
   ]
  },
  {
   "attachments": {},
   "cell_type": "markdown",
   "id": "e336c55e",
   "metadata": {
    "deletable": false,
    "editable": false,
    "id": "85d0aef0"
   },
   "source": [
    "Создадим функцию, которая на основании данных из столбца `purpose` сформирует новый столбец `purpose_category`, в который войдут следующие категории:**\n",
    "- `'операции с автомобилем'`,\n",
    "- `'операции с недвижимостью'`,\n",
    "- `'проведение свадьбы'`,\n",
    "- `'получение образования'`."
   ]
  },
  {
   "cell_type": "code",
   "execution_count": 145,
   "id": "71e1dc68",
   "metadata": {
    "deletable": false,
    "id": "e149fab4"
   },
   "outputs": [],
   "source": [
    "#Напишем функцию, которая будет проверять наличие ключевой части слова в строке \n",
    "def categorize_purpose(row):\n",
    "    try:\n",
    "        if 'автом' in row:\n",
    "            return 'операции с автомобилем'\n",
    "        elif 'жил' in row or 'недвиж' in row:\n",
    "            return 'операции с недвижимостью'\n",
    "        elif 'свад' in row:\n",
    "            return 'проведение свадьбы'\n",
    "        elif 'образов' in row:\n",
    "            return 'получение образования'\n",
    "    except:\n",
    "        return 'нет категории'"
   ]
  },
  {
   "cell_type": "code",
   "execution_count": 146,
   "id": "fc8f6433",
   "metadata": {
    "deletable": false,
    "id": "bf36e69b"
   },
   "outputs": [],
   "source": [
    "#Применим функцию\n",
    "data['purpose_category'] = data['purpose'].apply(categorize_purpose)"
   ]
  },
  {
   "attachments": {},
   "cell_type": "markdown",
   "id": "7de93444",
   "metadata": {
    "deletable": false,
    "editable": false,
    "id": "09b242bf"
   },
   "source": [
    "## Ответы на поставленные вопросы\n",
    "[Описание проекта](#introduction)"
   ]
  },
  {
   "attachments": {},
   "cell_type": "markdown",
   "id": "93a07c69",
   "metadata": {},
   "source": [
    "<a id=\"analyzing\"></a>"
   ]
  },
  {
   "attachments": {},
   "cell_type": "markdown",
   "id": "cf9bb96a",
   "metadata": {
    "deletable": false,
    "editable": false,
    "id": "c5d66278"
   },
   "source": [
    "#### Есть ли зависимость между количеством детей и возвратом кредита в срок?"
   ]
  },
  {
   "cell_type": "code",
   "execution_count": 147,
   "id": "c8ee4177",
   "metadata": {
    "deletable": false,
    "id": "2cacfc4a",
    "scrolled": false
   },
   "outputs": [
    {
     "data": {
      "text/html": [
       "<div>\n",
       "<style scoped>\n",
       "    .dataframe tbody tr th:only-of-type {\n",
       "        vertical-align: middle;\n",
       "    }\n",
       "\n",
       "    .dataframe tbody tr th {\n",
       "        vertical-align: top;\n",
       "    }\n",
       "\n",
       "    .dataframe thead th {\n",
       "        text-align: right;\n",
       "    }\n",
       "</style>\n",
       "<table border=\"1\" class=\"dataframe\">\n",
       "  <thead>\n",
       "    <tr style=\"text-align: right;\">\n",
       "      <th></th>\n",
       "      <th>number_of_borrower</th>\n",
       "      <th>number_of_debtors</th>\n",
       "      <th>percentage_of_debtors</th>\n",
       "    </tr>\n",
       "    <tr>\n",
       "      <th>children</th>\n",
       "      <th></th>\n",
       "      <th></th>\n",
       "      <th></th>\n",
       "    </tr>\n",
       "  </thead>\n",
       "  <tbody>\n",
       "    <tr>\n",
       "      <th>0</th>\n",
       "      <td>14091</td>\n",
       "      <td>1063</td>\n",
       "      <td>7.54</td>\n",
       "    </tr>\n",
       "    <tr>\n",
       "      <th>1</th>\n",
       "      <td>4808</td>\n",
       "      <td>444</td>\n",
       "      <td>9.23</td>\n",
       "    </tr>\n",
       "    <tr>\n",
       "      <th>2</th>\n",
       "      <td>2052</td>\n",
       "      <td>194</td>\n",
       "      <td>9.45</td>\n",
       "    </tr>\n",
       "    <tr>\n",
       "      <th>3</th>\n",
       "      <td>330</td>\n",
       "      <td>27</td>\n",
       "      <td>8.18</td>\n",
       "    </tr>\n",
       "    <tr>\n",
       "      <th>4</th>\n",
       "      <td>41</td>\n",
       "      <td>4</td>\n",
       "      <td>9.76</td>\n",
       "    </tr>\n",
       "    <tr>\n",
       "      <th>5</th>\n",
       "      <td>9</td>\n",
       "      <td>0</td>\n",
       "      <td>0.00</td>\n",
       "    </tr>\n",
       "  </tbody>\n",
       "</table>\n",
       "</div>"
      ],
      "text/plain": [
       "          number_of_borrower  number_of_debtors  percentage_of_debtors\n",
       "children                                                              \n",
       "0                      14091               1063                   7.54\n",
       "1                       4808                444                   9.23\n",
       "2                       2052                194                   9.45\n",
       "3                        330                 27                   8.18\n",
       "4                         41                  4                   9.76\n",
       "5                          9                  0                   0.00"
      ]
     },
     "execution_count": 147,
     "metadata": {},
     "output_type": "execute_result"
    }
   ],
   "source": [
    "#Создадим сводную таблицу\n",
    "data_pivot_children = data.pivot_table(index = 'children', values = 'debt', aggfunc = 'count')\n",
    "#Добавим столбец с количеством должников\n",
    "data_pivot_children['number_of_debtors'] = data.groupby('children')['debt'].sum()\n",
    "#Добавим столбец с долей должников от общей массы\n",
    "data_pivot_children['percentage_of_debtors'] = round(data_pivot_children['number_of_debtors'] / data_pivot_children['debt'] * 100, 2)\n",
    "#Переименуем первый столбец с количеством заемщиков\n",
    "data_pivot_children = data_pivot_children.rename(columns={'debt':'number_of_borrower'})\n",
    "data_pivot_children\n"
   ]
  },
  {
   "cell_type": "code",
   "execution_count": 148,
   "id": "0e0731dc",
   "metadata": {},
   "outputs": [
    {
     "data": {
      "text/plain": [
       "9.23"
      ]
     },
     "execution_count": 148,
     "metadata": {},
     "output_type": "execute_result"
    }
   ],
   "source": [
    "# Посчитаем медианный процент невозврата кредита среди тех, у кого есть дети.\n",
    "# Считаем медианой, потому что в данных мало данных по людям, у которых 5 детей - \n",
    "# это может сильно исказить значение средней.\n",
    "avg_child = round(data_pivot_children.loc[1:]['percentage_of_debtors'].median(), 2)\n",
    "avg_child"
   ]
  },
  {
   "cell_type": "code",
   "execution_count": 149,
   "id": "228c6465",
   "metadata": {
    "scrolled": true
   },
   "outputs": [
    {
     "data": {
      "text/plain": [
       "1.69"
      ]
     },
     "execution_count": 149,
     "metadata": {},
     "output_type": "execute_result"
    }
   ],
   "source": [
    "#Посчитаем разницу между процентами\n",
    "round(avg_child - data_pivot_children.loc[0, 'percentage_of_debtors'], 2)"
   ]
  },
  {
   "cell_type": "markdown",
   "id": "aeefafb4",
   "metadata": {
    "deletable": false,
    "id": "3a6b99ec"
   },
   "source": [
    "**Вывод: было выявленно то, что есть прямая зависимость между наличием детей и возвратом кредита в срок. Шанс того, что человек , у которого нету детей, вернет кредит в срок больше чем у того, у кого ребенок есть. В среднем человек, у которого есть дети задолжает по кредиту с вероятностью на `1.69%` больше.**"
   ]
  },
  {
   "attachments": {},
   "cell_type": "markdown",
   "id": "b903b574",
   "metadata": {
    "deletable": false,
    "editable": false,
    "id": "97be82ca"
   },
   "source": [
    "#### Есть ли зависимость между семейным положением и возвратом кредита в срок?"
   ]
  },
  {
   "cell_type": "code",
   "execution_count": 150,
   "id": "ab43de0f",
   "metadata": {
    "deletable": false,
    "id": "dc3f7ee8",
    "scrolled": true
   },
   "outputs": [
    {
     "data": {
      "text/html": [
       "<div>\n",
       "<style scoped>\n",
       "    .dataframe tbody tr th:only-of-type {\n",
       "        vertical-align: middle;\n",
       "    }\n",
       "\n",
       "    .dataframe tbody tr th {\n",
       "        vertical-align: top;\n",
       "    }\n",
       "\n",
       "    .dataframe thead th {\n",
       "        text-align: right;\n",
       "    }\n",
       "</style>\n",
       "<table border=\"1\" class=\"dataframe\">\n",
       "  <thead>\n",
       "    <tr style=\"text-align: right;\">\n",
       "      <th></th>\n",
       "      <th>number_of_borrower</th>\n",
       "      <th>number_of_debtors</th>\n",
       "      <th>percentage_of_debtors</th>\n",
       "    </tr>\n",
       "    <tr>\n",
       "      <th>family_status</th>\n",
       "      <th></th>\n",
       "      <th></th>\n",
       "      <th></th>\n",
       "    </tr>\n",
       "  </thead>\n",
       "  <tbody>\n",
       "    <tr>\n",
       "      <th>Не женат / не замужем</th>\n",
       "      <td>2796</td>\n",
       "      <td>273</td>\n",
       "      <td>9.76</td>\n",
       "    </tr>\n",
       "    <tr>\n",
       "      <th>гражданский брак</th>\n",
       "      <td>4134</td>\n",
       "      <td>385</td>\n",
       "      <td>9.31</td>\n",
       "    </tr>\n",
       "    <tr>\n",
       "      <th>женат / замужем</th>\n",
       "      <td>12261</td>\n",
       "      <td>927</td>\n",
       "      <td>7.56</td>\n",
       "    </tr>\n",
       "    <tr>\n",
       "      <th>в разводе</th>\n",
       "      <td>1189</td>\n",
       "      <td>84</td>\n",
       "      <td>7.06</td>\n",
       "    </tr>\n",
       "    <tr>\n",
       "      <th>вдовец / вдова</th>\n",
       "      <td>951</td>\n",
       "      <td>63</td>\n",
       "      <td>6.62</td>\n",
       "    </tr>\n",
       "  </tbody>\n",
       "</table>\n",
       "</div>"
      ],
      "text/plain": [
       "                       number_of_borrower  number_of_debtors  \\\n",
       "family_status                                                  \n",
       "Не женат / не замужем                2796                273   \n",
       "гражданский брак                     4134                385   \n",
       "женат / замужем                     12261                927   \n",
       "в разводе                            1189                 84   \n",
       "вдовец / вдова                        951                 63   \n",
       "\n",
       "                       percentage_of_debtors  \n",
       "family_status                                 \n",
       "Не женат / не замужем                   9.76  \n",
       "гражданский брак                        9.31  \n",
       "женат / замужем                         7.56  \n",
       "в разводе                               7.06  \n",
       "вдовец / вдова                          6.62  "
      ]
     },
     "execution_count": 150,
     "metadata": {},
     "output_type": "execute_result"
    }
   ],
   "source": [
    "#Создадим сводную таблицу\n",
    "data_pivot_status = data.pivot_table(index ='family_status', values = 'debt', aggfunc = 'count').sort_values('debt', ascending = False)\n",
    "#Добавим столбец с количеством должников в каждой категории\n",
    "data_pivot_status['number_of_debtors'] = data.groupby('family_status')['debt'].sum()\n",
    "#Добавим столбец с долей должников от общей массы\n",
    "data_pivot_status['percentage_of_debtors'] = round(data_pivot_status['number_of_debtors'] / data_pivot_status['debt'] * 100, 2)\n",
    "#Переименуем столбец с заемщиками\n",
    "data_pivot_status = data_pivot_status.rename(columns={'debt':'number_of_borrower'})\n",
    "#Отсортируем значения по убыванию доли должников\n",
    "data_pivot_status = data_pivot_status.sort_values('percentage_of_debtors', ascending = False)\n",
    "data_pivot_status"
   ]
  },
  {
   "cell_type": "markdown",
   "id": "fe09ef81",
   "metadata": {
    "deletable": false,
    "id": "1cef7837"
   },
   "source": [
    "**Вывод: было выявленно, что люди, состоящие/состоявшие в официальном браке имеют больший шанс погасить задолженность по кредиту в срок - это следующие категории граждан (в порядке убывания шанса непогашения кредита в срок):**\n",
    " - женат / замужем - `7.56%`\n",
    " - в разводе - `7.06%`\n",
    " - вдовец / вдова - `6.62%`"
   ]
  },
  {
   "attachments": {},
   "cell_type": "markdown",
   "id": "a6302c28",
   "metadata": {
    "deletable": false,
    "editable": false,
    "id": "1e8b2fca"
   },
   "source": [
    "#### Есть ли зависимость между уровнем дохода и возвратом кредита в срок?"
   ]
  },
  {
   "cell_type": "markdown",
   "id": "cef524d4",
   "metadata": {},
   "source": [
    "- 0–30000 — `'E'`;\n",
    "- 30001–50000 — `'D'`;\n",
    "- 50001–200000 — `'C'`;\n",
    "- 200001–1000000 — `'B'`;\n",
    "- 1000001 и выше — `'A'`.\n"
   ]
  },
  {
   "cell_type": "code",
   "execution_count": 151,
   "id": "33b0833e",
   "metadata": {
    "deletable": false,
    "id": "cd7e3720",
    "scrolled": false
   },
   "outputs": [
    {
     "data": {
      "text/html": [
       "<div>\n",
       "<style scoped>\n",
       "    .dataframe tbody tr th:only-of-type {\n",
       "        vertical-align: middle;\n",
       "    }\n",
       "\n",
       "    .dataframe tbody tr th {\n",
       "        vertical-align: top;\n",
       "    }\n",
       "\n",
       "    .dataframe thead th {\n",
       "        text-align: right;\n",
       "    }\n",
       "</style>\n",
       "<table border=\"1\" class=\"dataframe\">\n",
       "  <thead>\n",
       "    <tr style=\"text-align: right;\">\n",
       "      <th></th>\n",
       "      <th>number_of_borrower</th>\n",
       "      <th>number_of_debtors</th>\n",
       "      <th>percentage_of_debtors</th>\n",
       "    </tr>\n",
       "    <tr>\n",
       "      <th>total_income_category</th>\n",
       "      <th></th>\n",
       "      <th></th>\n",
       "      <th></th>\n",
       "    </tr>\n",
       "  </thead>\n",
       "  <tbody>\n",
       "    <tr>\n",
       "      <th>A</th>\n",
       "      <td>25</td>\n",
       "      <td>2</td>\n",
       "      <td>8.00</td>\n",
       "    </tr>\n",
       "    <tr>\n",
       "      <th>B</th>\n",
       "      <td>5014</td>\n",
       "      <td>354</td>\n",
       "      <td>7.06</td>\n",
       "    </tr>\n",
       "    <tr>\n",
       "      <th>C</th>\n",
       "      <td>15921</td>\n",
       "      <td>1353</td>\n",
       "      <td>8.50</td>\n",
       "    </tr>\n",
       "    <tr>\n",
       "      <th>D</th>\n",
       "      <td>349</td>\n",
       "      <td>21</td>\n",
       "      <td>6.02</td>\n",
       "    </tr>\n",
       "    <tr>\n",
       "      <th>E</th>\n",
       "      <td>22</td>\n",
       "      <td>2</td>\n",
       "      <td>9.09</td>\n",
       "    </tr>\n",
       "  </tbody>\n",
       "</table>\n",
       "</div>"
      ],
      "text/plain": [
       "                       number_of_borrower  number_of_debtors  \\\n",
       "total_income_category                                          \n",
       "A                                      25                  2   \n",
       "B                                    5014                354   \n",
       "C                                   15921               1353   \n",
       "D                                     349                 21   \n",
       "E                                      22                  2   \n",
       "\n",
       "                       percentage_of_debtors  \n",
       "total_income_category                         \n",
       "A                                       8.00  \n",
       "B                                       7.06  \n",
       "C                                       8.50  \n",
       "D                                       6.02  \n",
       "E                                       9.09  "
      ]
     },
     "execution_count": 151,
     "metadata": {},
     "output_type": "execute_result"
    }
   ],
   "source": [
    "#Создадим сводную таблицу\n",
    "data_pivot_salary = data.pivot_table(index ='total_income_category', values = 'debt', aggfunc = 'count')\n",
    "#Добавим столбец с количеством должников в каждой категории\n",
    "data_pivot_salary['number_of_debtors'] = data.groupby('total_income_category')['debt'].sum()\n",
    "#Добавим столбец с долей должников от общей массы\n",
    "data_pivot_salary['percentage_of_debtors'] = round(data_pivot_salary['number_of_debtors'] / data_pivot_salary['debt'] * 100, 2)\n",
    "#Переименуем столбец с заемщиками\n",
    "data_pivot_salary = data_pivot_salary.rename(columns={'debt':'number_of_borrower'})\n",
    "data_pivot_salary"
   ]
  },
  {
   "cell_type": "markdown",
   "id": "e349c59d",
   "metadata": {
    "deletable": false,
    "id": "e8593def"
   },
   "source": [
    "**Вывод: больше всего кредитов берут люди, которых можно отнести к группе со средним достатком - категория `\"С\"`. Для точной оценки не хватает данных по остальным категориям, по получившимся результатам из таблицы можно лишь предположить, что чем выше зарплатная категория, тем чаще кредит возвращается в срок.** "
   ]
  },
  {
   "attachments": {},
   "cell_type": "markdown",
   "id": "1be209f0",
   "metadata": {
    "deletable": false,
    "editable": false,
    "id": "99ecbd1f"
   },
   "source": [
    "#### Как разные цели кредита влияют на его возврат в срок?"
   ]
  },
  {
   "cell_type": "code",
   "execution_count": 152,
   "id": "b33a6f6a",
   "metadata": {
    "deletable": false,
    "id": "2b687290",
    "scrolled": true
   },
   "outputs": [
    {
     "data": {
      "text/html": [
       "<div>\n",
       "<style scoped>\n",
       "    .dataframe tbody tr th:only-of-type {\n",
       "        vertical-align: middle;\n",
       "    }\n",
       "\n",
       "    .dataframe tbody tr th {\n",
       "        vertical-align: top;\n",
       "    }\n",
       "\n",
       "    .dataframe thead th {\n",
       "        text-align: right;\n",
       "    }\n",
       "</style>\n",
       "<table border=\"1\" class=\"dataframe\">\n",
       "  <thead>\n",
       "    <tr style=\"text-align: right;\">\n",
       "      <th></th>\n",
       "      <th>number_of_borrower</th>\n",
       "      <th>number_of_debtors</th>\n",
       "      <th>percentage_of_debtors</th>\n",
       "    </tr>\n",
       "    <tr>\n",
       "      <th>purpose_category</th>\n",
       "      <th></th>\n",
       "      <th></th>\n",
       "      <th></th>\n",
       "    </tr>\n",
       "  </thead>\n",
       "  <tbody>\n",
       "    <tr>\n",
       "      <th>операции с автомобилем</th>\n",
       "      <td>4279</td>\n",
       "      <td>400</td>\n",
       "      <td>9.35</td>\n",
       "    </tr>\n",
       "    <tr>\n",
       "      <th>получение образования</th>\n",
       "      <td>3988</td>\n",
       "      <td>369</td>\n",
       "      <td>9.25</td>\n",
       "    </tr>\n",
       "    <tr>\n",
       "      <th>проведение свадьбы</th>\n",
       "      <td>2313</td>\n",
       "      <td>183</td>\n",
       "      <td>7.91</td>\n",
       "    </tr>\n",
       "    <tr>\n",
       "      <th>операции с недвижимостью</th>\n",
       "      <td>10751</td>\n",
       "      <td>780</td>\n",
       "      <td>7.26</td>\n",
       "    </tr>\n",
       "  </tbody>\n",
       "</table>\n",
       "</div>"
      ],
      "text/plain": [
       "                          number_of_borrower  number_of_debtors  \\\n",
       "purpose_category                                                  \n",
       "операции с автомобилем                  4279                400   \n",
       "получение образования                   3988                369   \n",
       "проведение свадьбы                      2313                183   \n",
       "операции с недвижимостью               10751                780   \n",
       "\n",
       "                          percentage_of_debtors  \n",
       "purpose_category                                 \n",
       "операции с автомобилем                     9.35  \n",
       "получение образования                      9.25  \n",
       "проведение свадьбы                         7.91  \n",
       "операции с недвижимостью                   7.26  "
      ]
     },
     "execution_count": 152,
     "metadata": {},
     "output_type": "execute_result"
    }
   ],
   "source": [
    "#Создадим сводную таблицу\n",
    "data_pivot_purpose = data.pivot_table(index ='purpose_category', values = 'debt', aggfunc = 'count')\n",
    "#Добавим столбец с количеством должников в каждой категории\n",
    "data_pivot_purpose['number_of_debtors'] = data.groupby('purpose_category')['debt'].sum()\n",
    "#Добавим столбец с долей должников от общей массы\n",
    "data_pivot_purpose['percentage_of_debtors'] = round(data_pivot_purpose['number_of_debtors'] / data_pivot_purpose['debt'] * 100, 2)\n",
    "data_pivot_purpose = data_pivot_purpose.sort_values('percentage_of_debtors', ascending = False)\n",
    "#Переименуем столбец с заемщиками\n",
    "data_pivot_purpose = data_pivot_purpose.rename(columns={'debt':'number_of_borrower'})\n",
    "data_pivot_purpose"
   ]
  },
  {
   "cell_type": "markdown",
   "id": "d3bf219b",
   "metadata": {
    "deletable": false,
    "id": "b4bb2ce6"
   },
   "source": [
    "**Вывод**\n",
    "\n",
    " Данные в таблице были отсортированы по убыванию доли должников в категории, исходя из полученных данных следует:\n",
    " - больше всего не возвращаются в срок кредиты, связанные с автомобилями, доля составляет `9.35%` от всего количества в категории `операции с автомобилем`\n",
    " - после следует категория `получение образования`, доля составляет `9.25%` от всего количества.\n",
    " - доля составляет `7.91%` от всего количества кредитов, взятых на проведение свадьбы.\n",
    " - больше всего в срок возвращаются кредиты, связанные с покупкой недвижимости `7.26%`\n",
    "\n"
   ]
  },
  {
   "attachments": {},
   "cell_type": "markdown",
   "id": "40886246",
   "metadata": {
    "deletable": false,
    "editable": false,
    "id": "09c3ac4c"
   },
   "source": [
    "#### Возможные причины появления пропусков в исходных данных"
   ]
  },
  {
   "attachments": {},
   "cell_type": "markdown",
   "id": "480772f6",
   "metadata": {
    "deletable": false,
    "id": "9da2ceda"
   },
   "source": [
    "- `Технологическая ошибка выгрузки данных, потому что в пропусках нет хаотичности, пропуски имели четкий алгоритм - если в столбце \"days_employed\" есть пропуск, то и в \"total_income\" есть пропуск`,\n",
    "- `Наличие какого - то заполнения алгоритма в заполнении данных у кредитного отдел банка. Например, сотрудники банка ставят пропуски по причине того, что клиент является безработным, эту гипотезу необходимо уточнять.`"
   ]
  },
  {
   "attachments": {},
   "cell_type": "markdown",
   "id": "b4b0c5c8",
   "metadata": {},
   "source": [
    "## Вывод\n",
    "[Описание проекта](#introduction)"
   ]
  },
  {
   "attachments": {},
   "cell_type": "markdown",
   "id": "507f4b0f",
   "metadata": {},
   "source": [
    "<a id=\"end\"></a>"
   ]
  },
  {
   "attachments": {},
   "cell_type": "markdown",
   "id": "4379f764",
   "metadata": {},
   "source": [
    "В ходе исследования было выявленно то, что:\n",
    "- есть прямая зависимость между наличием детей и возвратом кредита в срок. Шанс того, что человек , у которого нету детей, вернет кредит в срок больше чем у того, у кого ребенок есть. В среднем человек, у которого есть дети задолжает по кредиту с вероятностью на `1.69%` больше.**\n",
    "- люди, состоящие/состоявшие в официальном браке имеют больший шанс погасить задолженность по кредиту в срок - это следующие категории граждан (в порядке убывания шанса непогашения кредита в срок):\n",
    "    - женат / замужем - `7.56%`\n",
    "    - в разводе - `7.06%`\n",
    "    - вдовец / вдова - `6.62%`\n",
    "- больше всего кредитов берут люди, которых можно отнести к группе со средним достатком - категория `\"С\"`. Для точной оценки не хватает данных по остальным категориям, по получившимся результатам из таблицы можно лишь предположить, что чем выше зарплатная категория, тем чаще кредит возвращается в срок.\n",
    "- больше всего не возвращаются в срок кредиты, связанные с автомобилями, доля составляет `9.35%` от всего количества в категории `операции с автомобилем`\n",
    "- больше всего в срок возвращаются кредиты, связанные с покупкой недвижимости `7.26%`"
   ]
  },
  {
   "cell_type": "markdown",
   "id": "eb31dfb9",
   "metadata": {},
   "source": [
    "<h2>Рекомендации заказчику <a class=\"tocSkip\"> </h2>\n",
    "    \n",
    " - `Проверить систему выгрузки данных, в полученном датасете есть пропуски, но они систематезированные, имеют четкий алгоритм - если в столбце \"days_employed\" есть пропуск, то и в \"total_income\" есть пропуск`.\n",
    "    \n",
    " - `Если пропуски не связанны с технической частью, и они были оставлены или не заполнены умышленно сотрудниками банка, то вместо пропусков было бы удобно ставить значение/слово \"заглушку\".`"
   ]
  },
  {
   "cell_type": "markdown",
   "id": "cd8e0aba",
   "metadata": {},
   "source": []
  }
 ],
 "metadata": {
  "ExecuteTimeLog": [
   {
    "duration": 46,
    "start_time": "2022-10-11T15:31:21.023Z"
   },
   {
    "duration": 688,
    "start_time": "2022-10-11T15:31:27.511Z"
   },
   {
    "duration": 20,
    "start_time": "2022-10-11T15:31:28.382Z"
   },
   {
    "duration": 16,
    "start_time": "2022-10-11T15:31:28.404Z"
   },
   {
    "duration": 8,
    "start_time": "2022-10-11T15:31:28.421Z"
   },
   {
    "duration": 28,
    "start_time": "2022-10-11T15:31:28.430Z"
   },
   {
    "duration": 3,
    "start_time": "2022-10-11T15:31:28.460Z"
   },
   {
    "duration": 10,
    "start_time": "2022-10-11T15:31:28.464Z"
   },
   {
    "duration": 26,
    "start_time": "2022-10-11T15:31:28.476Z"
   },
   {
    "duration": 7,
    "start_time": "2022-10-11T15:31:28.503Z"
   },
   {
    "duration": 5,
    "start_time": "2022-10-11T15:31:28.512Z"
   },
   {
    "duration": 31,
    "start_time": "2022-10-11T15:31:28.518Z"
   },
   {
    "duration": 8,
    "start_time": "2022-10-11T15:31:28.551Z"
   },
   {
    "duration": 5,
    "start_time": "2022-10-11T15:31:28.560Z"
   },
   {
    "duration": 36,
    "start_time": "2022-10-11T15:31:28.567Z"
   },
   {
    "duration": 18,
    "start_time": "2022-10-11T15:31:28.604Z"
   },
   {
    "duration": 15,
    "start_time": "2022-10-11T15:31:28.623Z"
   },
   {
    "duration": 2,
    "start_time": "2022-10-11T15:31:28.640Z"
   },
   {
    "duration": 12,
    "start_time": "2022-10-11T15:31:28.643Z"
   },
   {
    "duration": 5,
    "start_time": "2022-10-11T15:31:28.656Z"
   },
   {
    "duration": 2,
    "start_time": "2022-10-11T15:31:28.663Z"
   },
   {
    "duration": 33,
    "start_time": "2022-10-11T15:31:28.667Z"
   },
   {
    "duration": 5,
    "start_time": "2022-10-11T15:31:28.702Z"
   },
   {
    "duration": 4,
    "start_time": "2022-10-11T15:31:28.708Z"
   },
   {
    "duration": 6,
    "start_time": "2022-10-11T15:31:28.714Z"
   },
   {
    "duration": 6,
    "start_time": "2022-10-11T15:31:28.721Z"
   },
   {
    "duration": 7,
    "start_time": "2022-10-11T15:36:54.761Z"
   },
   {
    "duration": 31,
    "start_time": "2022-10-11T15:37:40.417Z"
   },
   {
    "duration": 8,
    "start_time": "2022-10-11T15:38:03.177Z"
   },
   {
    "duration": 6,
    "start_time": "2022-10-11T15:38:12.744Z"
   },
   {
    "duration": 7,
    "start_time": "2022-10-11T15:38:16.278Z"
   },
   {
    "duration": 45,
    "start_time": "2022-10-11T20:01:33.084Z"
   },
   {
    "duration": 489,
    "start_time": "2022-10-11T20:01:41.453Z"
   },
   {
    "duration": 23,
    "start_time": "2022-10-11T20:01:41.944Z"
   },
   {
    "duration": 14,
    "start_time": "2022-10-11T20:01:41.968Z"
   },
   {
    "duration": 10,
    "start_time": "2022-10-11T20:01:41.985Z"
   },
   {
    "duration": 32,
    "start_time": "2022-10-11T20:01:41.997Z"
   },
   {
    "duration": 3,
    "start_time": "2022-10-11T20:01:42.031Z"
   },
   {
    "duration": 10,
    "start_time": "2022-10-11T20:01:42.036Z"
   },
   {
    "duration": 5,
    "start_time": "2022-10-11T20:01:42.048Z"
   },
   {
    "duration": 12,
    "start_time": "2022-10-11T20:01:42.054Z"
   },
   {
    "duration": 6,
    "start_time": "2022-10-11T20:01:42.094Z"
   },
   {
    "duration": 38,
    "start_time": "2022-10-11T20:01:42.102Z"
   },
   {
    "duration": 9,
    "start_time": "2022-10-11T20:01:42.142Z"
   },
   {
    "duration": 5,
    "start_time": "2022-10-11T20:01:42.153Z"
   },
   {
    "duration": 12,
    "start_time": "2022-10-11T20:01:42.159Z"
   },
   {
    "duration": 39,
    "start_time": "2022-10-11T20:01:42.173Z"
   },
   {
    "duration": 18,
    "start_time": "2022-10-11T20:01:42.214Z"
   },
   {
    "duration": 4,
    "start_time": "2022-10-11T20:01:42.233Z"
   },
   {
    "duration": 13,
    "start_time": "2022-10-11T20:01:42.238Z"
   },
   {
    "duration": 9,
    "start_time": "2022-10-11T20:01:42.253Z"
   },
   {
    "duration": 4,
    "start_time": "2022-10-11T20:01:42.264Z"
   },
   {
    "duration": 8,
    "start_time": "2022-10-11T20:01:42.295Z"
   },
   {
    "duration": 14,
    "start_time": "2022-10-11T20:01:42.305Z"
   },
   {
    "duration": 12,
    "start_time": "2022-10-11T20:01:42.321Z"
   },
   {
    "duration": 8,
    "start_time": "2022-10-11T20:01:42.334Z"
   },
   {
    "duration": 4,
    "start_time": "2022-10-11T20:01:42.344Z"
   },
   {
    "duration": 5,
    "start_time": "2022-10-11T20:06:48.705Z"
   },
   {
    "duration": 5,
    "start_time": "2022-10-11T20:07:03.840Z"
   },
   {
    "duration": 14,
    "start_time": "2022-10-11T20:16:44.451Z"
   },
   {
    "duration": 10,
    "start_time": "2022-10-11T20:17:51.054Z"
   },
   {
    "duration": 6,
    "start_time": "2022-10-11T20:22:13.472Z"
   },
   {
    "duration": 31,
    "start_time": "2022-10-11T20:22:27.616Z"
   },
   {
    "duration": 13,
    "start_time": "2022-10-11T20:22:30.976Z"
   },
   {
    "duration": 10,
    "start_time": "2022-10-11T20:22:48.080Z"
   },
   {
    "duration": 1246,
    "start_time": "2022-10-11T20:23:46.970Z"
   },
   {
    "duration": 515,
    "start_time": "2022-10-11T20:24:02.818Z"
   },
   {
    "duration": 7,
    "start_time": "2022-10-11T20:24:31.786Z"
   },
   {
    "duration": 10,
    "start_time": "2022-10-11T20:24:39.338Z"
   },
   {
    "duration": 7,
    "start_time": "2022-10-11T20:28:28.423Z"
   },
   {
    "duration": 120,
    "start_time": "2022-10-11T20:29:06.647Z"
   },
   {
    "duration": 15,
    "start_time": "2022-10-11T20:29:09.583Z"
   },
   {
    "duration": 83,
    "start_time": "2022-10-11T20:29:21.933Z"
   },
   {
    "duration": 8,
    "start_time": "2022-10-11T20:29:24.254Z"
   },
   {
    "duration": 9,
    "start_time": "2022-10-11T20:29:58.919Z"
   },
   {
    "duration": 9,
    "start_time": "2022-10-11T20:30:17.943Z"
   },
   {
    "duration": 8,
    "start_time": "2022-10-11T20:31:28.097Z"
   },
   {
    "duration": 10,
    "start_time": "2022-10-11T20:31:33.481Z"
   },
   {
    "duration": 8,
    "start_time": "2022-10-11T20:31:47.841Z"
   },
   {
    "duration": 43,
    "start_time": "2022-10-11T20:41:31.819Z"
   },
   {
    "duration": 409,
    "start_time": "2022-10-11T20:42:05.940Z"
   },
   {
    "duration": 29,
    "start_time": "2022-10-11T20:42:06.350Z"
   },
   {
    "duration": 14,
    "start_time": "2022-10-11T20:42:06.380Z"
   },
   {
    "duration": 11,
    "start_time": "2022-10-11T20:42:06.396Z"
   },
   {
    "duration": 32,
    "start_time": "2022-10-11T20:42:06.408Z"
   },
   {
    "duration": 3,
    "start_time": "2022-10-11T20:42:06.441Z"
   },
   {
    "duration": 9,
    "start_time": "2022-10-11T20:42:06.446Z"
   },
   {
    "duration": 4,
    "start_time": "2022-10-11T20:42:06.456Z"
   },
   {
    "duration": 33,
    "start_time": "2022-10-11T20:42:06.462Z"
   },
   {
    "duration": 5,
    "start_time": "2022-10-11T20:42:06.497Z"
   },
   {
    "duration": 35,
    "start_time": "2022-10-11T20:42:06.504Z"
   },
   {
    "duration": 10,
    "start_time": "2022-10-11T20:42:06.541Z"
   },
   {
    "duration": 4,
    "start_time": "2022-10-11T20:42:06.552Z"
   },
   {
    "duration": 37,
    "start_time": "2022-10-11T20:42:06.557Z"
   },
   {
    "duration": 21,
    "start_time": "2022-10-11T20:42:06.596Z"
   },
   {
    "duration": 18,
    "start_time": "2022-10-11T20:42:06.619Z"
   },
   {
    "duration": 3,
    "start_time": "2022-10-11T20:42:06.639Z"
   },
   {
    "duration": 24,
    "start_time": "2022-10-11T20:42:06.644Z"
   },
   {
    "duration": 14,
    "start_time": "2022-10-11T20:42:06.670Z"
   },
   {
    "duration": 4,
    "start_time": "2022-10-11T20:42:06.695Z"
   },
   {
    "duration": 27,
    "start_time": "2022-10-11T20:42:06.701Z"
   },
   {
    "duration": 11,
    "start_time": "2022-10-11T20:42:06.730Z"
   },
   {
    "duration": 16,
    "start_time": "2022-10-11T20:42:06.743Z"
   },
   {
    "duration": 16,
    "start_time": "2022-10-11T20:42:06.761Z"
   },
   {
    "duration": 13,
    "start_time": "2022-10-11T20:42:06.779Z"
   },
   {
    "duration": 5,
    "start_time": "2022-10-11T20:55:33.663Z"
   },
   {
    "duration": 6,
    "start_time": "2022-10-11T20:55:40.913Z"
   },
   {
    "duration": 486,
    "start_time": "2022-10-11T21:09:14.725Z"
   },
   {
    "duration": 24,
    "start_time": "2022-10-11T21:09:15.213Z"
   },
   {
    "duration": 16,
    "start_time": "2022-10-11T21:09:15.238Z"
   },
   {
    "duration": 10,
    "start_time": "2022-10-11T21:09:15.256Z"
   },
   {
    "duration": 55,
    "start_time": "2022-10-11T21:09:15.268Z"
   },
   {
    "duration": 4,
    "start_time": "2022-10-11T21:09:15.325Z"
   },
   {
    "duration": 18,
    "start_time": "2022-10-11T21:09:15.331Z"
   },
   {
    "duration": 7,
    "start_time": "2022-10-11T21:09:15.352Z"
   },
   {
    "duration": 16,
    "start_time": "2022-10-11T21:09:15.361Z"
   },
   {
    "duration": 6,
    "start_time": "2022-10-11T21:09:15.394Z"
   },
   {
    "duration": 45,
    "start_time": "2022-10-11T21:09:15.402Z"
   },
   {
    "duration": 9,
    "start_time": "2022-10-11T21:09:15.449Z"
   },
   {
    "duration": 6,
    "start_time": "2022-10-11T21:09:15.459Z"
   },
   {
    "duration": 45,
    "start_time": "2022-10-11T21:09:15.466Z"
   },
   {
    "duration": 25,
    "start_time": "2022-10-11T21:09:15.512Z"
   },
   {
    "duration": 20,
    "start_time": "2022-10-11T21:09:15.540Z"
   },
   {
    "duration": 4,
    "start_time": "2022-10-11T21:09:15.562Z"
   },
   {
    "duration": 31,
    "start_time": "2022-10-11T21:09:15.568Z"
   },
   {
    "duration": 11,
    "start_time": "2022-10-11T21:09:15.602Z"
   },
   {
    "duration": 3,
    "start_time": "2022-10-11T21:09:15.615Z"
   },
   {
    "duration": 12,
    "start_time": "2022-10-11T21:09:15.620Z"
   },
   {
    "duration": 11,
    "start_time": "2022-10-11T21:09:15.634Z"
   },
   {
    "duration": 11,
    "start_time": "2022-10-11T21:09:15.647Z"
   },
   {
    "duration": 40,
    "start_time": "2022-10-11T21:09:15.660Z"
   },
   {
    "duration": 13,
    "start_time": "2022-10-11T21:09:15.702Z"
   },
   {
    "duration": 592,
    "start_time": "2022-10-11T21:46:05.577Z"
   },
   {
    "duration": 33,
    "start_time": "2022-10-11T21:46:06.171Z"
   },
   {
    "duration": 25,
    "start_time": "2022-10-11T21:46:06.206Z"
   },
   {
    "duration": 10,
    "start_time": "2022-10-11T21:46:06.233Z"
   },
   {
    "duration": 65,
    "start_time": "2022-10-11T21:46:06.245Z"
   },
   {
    "duration": 4,
    "start_time": "2022-10-11T21:46:06.311Z"
   },
   {
    "duration": 10,
    "start_time": "2022-10-11T21:46:06.317Z"
   },
   {
    "duration": 5,
    "start_time": "2022-10-11T21:46:06.329Z"
   },
   {
    "duration": 11,
    "start_time": "2022-10-11T21:46:06.335Z"
   },
   {
    "duration": 6,
    "start_time": "2022-10-11T21:46:06.349Z"
   },
   {
    "duration": 87,
    "start_time": "2022-10-11T21:46:06.357Z"
   },
   {
    "duration": 15,
    "start_time": "2022-10-11T21:46:06.446Z"
   },
   {
    "duration": 4,
    "start_time": "2022-10-11T21:46:06.464Z"
   },
   {
    "duration": 23,
    "start_time": "2022-10-11T21:46:06.490Z"
   },
   {
    "duration": 32,
    "start_time": "2022-10-11T21:46:06.516Z"
   },
   {
    "duration": 51,
    "start_time": "2022-10-11T21:46:06.550Z"
   },
   {
    "duration": 9,
    "start_time": "2022-10-11T21:46:06.603Z"
   },
   {
    "duration": 14,
    "start_time": "2022-10-11T21:46:06.614Z"
   },
   {
    "duration": 10,
    "start_time": "2022-10-11T21:46:06.630Z"
   },
   {
    "duration": 4,
    "start_time": "2022-10-11T21:46:06.642Z"
   },
   {
    "duration": 12,
    "start_time": "2022-10-11T21:46:06.648Z"
   },
   {
    "duration": 8,
    "start_time": "2022-10-11T21:46:06.662Z"
   },
   {
    "duration": 24,
    "start_time": "2022-10-11T21:46:06.690Z"
   },
   {
    "duration": 10,
    "start_time": "2022-10-11T21:46:06.716Z"
   },
   {
    "duration": 21,
    "start_time": "2022-10-11T21:46:06.728Z"
   },
   {
    "duration": 79,
    "start_time": "2022-10-12T09:31:58.829Z"
   },
   {
    "duration": 118,
    "start_time": "2022-10-12T09:32:27.059Z"
   },
   {
    "duration": 3,
    "start_time": "2022-10-12T09:32:39.401Z"
   },
   {
    "duration": 108,
    "start_time": "2022-10-12T10:03:14.478Z"
   },
   {
    "duration": 39,
    "start_time": "2022-10-12T10:03:24.628Z"
   },
   {
    "duration": 539,
    "start_time": "2022-10-12T10:03:37.384Z"
   },
   {
    "duration": 21,
    "start_time": "2022-10-12T10:03:37.925Z"
   },
   {
    "duration": 14,
    "start_time": "2022-10-12T10:03:37.948Z"
   },
   {
    "duration": 8,
    "start_time": "2022-10-12T10:03:37.964Z"
   },
   {
    "duration": 45,
    "start_time": "2022-10-12T10:03:37.973Z"
   },
   {
    "duration": 3,
    "start_time": "2022-10-12T10:03:38.019Z"
   },
   {
    "duration": 16,
    "start_time": "2022-10-12T10:03:38.024Z"
   },
   {
    "duration": 9,
    "start_time": "2022-10-12T10:03:38.041Z"
   },
   {
    "duration": 11,
    "start_time": "2022-10-12T10:03:38.052Z"
   },
   {
    "duration": 4,
    "start_time": "2022-10-12T10:03:38.066Z"
   },
   {
    "duration": 48,
    "start_time": "2022-10-12T10:03:38.072Z"
   },
   {
    "duration": 8,
    "start_time": "2022-10-12T10:03:38.122Z"
   },
   {
    "duration": 7,
    "start_time": "2022-10-12T10:03:38.131Z"
   },
   {
    "duration": 14,
    "start_time": "2022-10-12T10:03:38.139Z"
   },
   {
    "duration": 18,
    "start_time": "2022-10-12T10:03:38.155Z"
   },
   {
    "duration": 14,
    "start_time": "2022-10-12T10:03:38.175Z"
   },
   {
    "duration": 17,
    "start_time": "2022-10-12T10:03:38.190Z"
   },
   {
    "duration": 15,
    "start_time": "2022-10-12T10:03:38.209Z"
   },
   {
    "duration": 5,
    "start_time": "2022-10-12T10:03:38.225Z"
   },
   {
    "duration": 4,
    "start_time": "2022-10-12T10:03:38.232Z"
   },
   {
    "duration": 12,
    "start_time": "2022-10-12T10:03:38.237Z"
   },
   {
    "duration": 81,
    "start_time": "2022-10-12T10:03:38.251Z"
   },
   {
    "duration": 0,
    "start_time": "2022-10-12T10:03:38.333Z"
   },
   {
    "duration": 0,
    "start_time": "2022-10-12T10:03:38.334Z"
   },
   {
    "duration": 0,
    "start_time": "2022-10-12T10:03:38.335Z"
   },
   {
    "duration": 14,
    "start_time": "2022-10-12T10:03:59.468Z"
   },
   {
    "duration": 13,
    "start_time": "2022-10-12T10:04:19.709Z"
   },
   {
    "duration": 20,
    "start_time": "2022-10-12T10:04:32.828Z"
   },
   {
    "duration": 16,
    "start_time": "2022-10-12T10:04:37.410Z"
   },
   {
    "duration": 11,
    "start_time": "2022-10-12T10:05:57.858Z"
   },
   {
    "duration": 14,
    "start_time": "2022-10-12T10:06:25.349Z"
   },
   {
    "duration": 14,
    "start_time": "2022-10-12T10:06:30.623Z"
   },
   {
    "duration": 13,
    "start_time": "2022-10-12T10:06:51.102Z"
   },
   {
    "duration": 11,
    "start_time": "2022-10-12T10:08:54.292Z"
   },
   {
    "duration": 15,
    "start_time": "2022-10-12T10:09:04.696Z"
   },
   {
    "duration": 14,
    "start_time": "2022-10-12T10:09:45.428Z"
   },
   {
    "duration": 14,
    "start_time": "2022-10-12T10:09:53.677Z"
   },
   {
    "duration": 15,
    "start_time": "2022-10-12T10:09:58.875Z"
   },
   {
    "duration": 13,
    "start_time": "2022-10-12T10:10:20.955Z"
   },
   {
    "duration": 15,
    "start_time": "2022-10-12T10:10:25.451Z"
   },
   {
    "duration": 16,
    "start_time": "2022-10-12T10:12:02.514Z"
   },
   {
    "duration": 7,
    "start_time": "2022-10-12T10:13:51.601Z"
   },
   {
    "duration": 15,
    "start_time": "2022-10-12T10:14:25.515Z"
   },
   {
    "duration": 15,
    "start_time": "2022-10-12T10:14:56.534Z"
   },
   {
    "duration": 2850,
    "start_time": "2022-10-12T10:24:08.215Z"
   },
   {
    "duration": 1441,
    "start_time": "2022-10-12T10:25:34.594Z"
   },
   {
    "duration": 5,
    "start_time": "2022-10-12T10:25:52.775Z"
   },
   {
    "duration": 5,
    "start_time": "2022-10-12T10:25:58.135Z"
   },
   {
    "duration": 14,
    "start_time": "2022-10-12T10:27:30.641Z"
   },
   {
    "duration": 16,
    "start_time": "2022-10-12T10:27:47.192Z"
   },
   {
    "duration": 6,
    "start_time": "2022-10-12T10:27:59.243Z"
   },
   {
    "duration": 7,
    "start_time": "2022-10-12T10:28:03.695Z"
   },
   {
    "duration": 5,
    "start_time": "2022-10-12T10:28:12.362Z"
   },
   {
    "duration": 6,
    "start_time": "2022-10-12T10:28:39.890Z"
   },
   {
    "duration": 5,
    "start_time": "2022-10-12T10:29:01.985Z"
   },
   {
    "duration": 6,
    "start_time": "2022-10-12T10:29:43.035Z"
   },
   {
    "duration": 5,
    "start_time": "2022-10-12T10:29:53.019Z"
   },
   {
    "duration": 6,
    "start_time": "2022-10-12T10:30:03.842Z"
   },
   {
    "duration": 3,
    "start_time": "2022-10-12T10:33:08.832Z"
   },
   {
    "duration": 7,
    "start_time": "2022-10-12T10:33:13.279Z"
   },
   {
    "duration": 5,
    "start_time": "2022-10-12T10:33:41.278Z"
   },
   {
    "duration": 4,
    "start_time": "2022-10-12T10:34:51.909Z"
   },
   {
    "duration": 9,
    "start_time": "2022-10-12T10:46:35.960Z"
   },
   {
    "duration": 12,
    "start_time": "2022-10-12T10:46:42.745Z"
   },
   {
    "duration": 141,
    "start_time": "2022-10-12T10:49:22.821Z"
   },
   {
    "duration": 96,
    "start_time": "2022-10-12T10:49:44.742Z"
   },
   {
    "duration": 3,
    "start_time": "2022-10-12T10:50:00.107Z"
   },
   {
    "duration": 3,
    "start_time": "2022-10-12T10:50:07.381Z"
   },
   {
    "duration": 74,
    "start_time": "2022-10-12T10:50:12.085Z"
   },
   {
    "duration": 102,
    "start_time": "2022-10-12T10:50:18.205Z"
   },
   {
    "duration": 12,
    "start_time": "2022-10-12T10:51:02.181Z"
   },
   {
    "duration": 17,
    "start_time": "2022-10-12T10:51:55.854Z"
   },
   {
    "duration": 17,
    "start_time": "2022-10-12T10:52:45.503Z"
   },
   {
    "duration": 18,
    "start_time": "2022-10-12T10:53:04.800Z"
   },
   {
    "duration": 18,
    "start_time": "2022-10-12T10:53:14.439Z"
   },
   {
    "duration": 18,
    "start_time": "2022-10-12T10:53:29.849Z"
   },
   {
    "duration": 445,
    "start_time": "2022-10-12T10:53:45.505Z"
   },
   {
    "duration": 22,
    "start_time": "2022-10-12T10:53:45.951Z"
   },
   {
    "duration": 14,
    "start_time": "2022-10-12T10:53:45.974Z"
   },
   {
    "duration": 22,
    "start_time": "2022-10-12T10:53:45.990Z"
   },
   {
    "duration": 31,
    "start_time": "2022-10-12T10:53:46.014Z"
   },
   {
    "duration": 3,
    "start_time": "2022-10-12T10:53:46.047Z"
   },
   {
    "duration": 11,
    "start_time": "2022-10-12T10:53:46.052Z"
   },
   {
    "duration": 5,
    "start_time": "2022-10-12T10:53:46.065Z"
   },
   {
    "duration": 7,
    "start_time": "2022-10-12T10:53:46.071Z"
   },
   {
    "duration": 5,
    "start_time": "2022-10-12T10:53:46.107Z"
   },
   {
    "duration": 32,
    "start_time": "2022-10-12T10:53:46.114Z"
   },
   {
    "duration": 8,
    "start_time": "2022-10-12T10:53:46.147Z"
   },
   {
    "duration": 7,
    "start_time": "2022-10-12T10:53:46.156Z"
   },
   {
    "duration": 11,
    "start_time": "2022-10-12T10:53:46.165Z"
   },
   {
    "duration": 33,
    "start_time": "2022-10-12T10:53:46.177Z"
   },
   {
    "duration": 20,
    "start_time": "2022-10-12T10:53:46.212Z"
   },
   {
    "duration": 5,
    "start_time": "2022-10-12T10:53:46.233Z"
   },
   {
    "duration": 12,
    "start_time": "2022-10-12T10:53:46.239Z"
   },
   {
    "duration": 6,
    "start_time": "2022-10-12T10:53:46.252Z"
   },
   {
    "duration": 5,
    "start_time": "2022-10-12T10:53:46.260Z"
   },
   {
    "duration": 10,
    "start_time": "2022-10-12T10:53:46.266Z"
   },
   {
    "duration": 38,
    "start_time": "2022-10-12T10:53:46.278Z"
   },
   {
    "duration": 4,
    "start_time": "2022-10-12T10:53:46.318Z"
   },
   {
    "duration": 5,
    "start_time": "2022-10-12T10:53:46.323Z"
   },
   {
    "duration": 17,
    "start_time": "2022-10-12T10:53:46.329Z"
   },
   {
    "duration": 5,
    "start_time": "2022-10-12T10:53:46.348Z"
   },
   {
    "duration": 11,
    "start_time": "2022-10-12T10:53:46.355Z"
   },
   {
    "duration": 60,
    "start_time": "2022-10-12T20:33:41.689Z"
   },
   {
    "duration": 866,
    "start_time": "2022-10-12T20:33:48.893Z"
   },
   {
    "duration": 22,
    "start_time": "2022-10-12T20:33:49.761Z"
   },
   {
    "duration": 18,
    "start_time": "2022-10-12T20:33:49.785Z"
   },
   {
    "duration": 17,
    "start_time": "2022-10-12T20:33:49.805Z"
   },
   {
    "duration": 31,
    "start_time": "2022-10-12T20:33:49.824Z"
   },
   {
    "duration": 3,
    "start_time": "2022-10-12T20:33:49.857Z"
   },
   {
    "duration": 46,
    "start_time": "2022-10-12T20:33:49.862Z"
   },
   {
    "duration": 8,
    "start_time": "2022-10-12T20:33:49.911Z"
   },
   {
    "duration": 14,
    "start_time": "2022-10-12T20:33:49.920Z"
   },
   {
    "duration": 4,
    "start_time": "2022-10-12T20:33:49.936Z"
   },
   {
    "duration": 56,
    "start_time": "2022-10-12T20:33:49.942Z"
   },
   {
    "duration": 21,
    "start_time": "2022-10-12T20:33:50.000Z"
   },
   {
    "duration": 9,
    "start_time": "2022-10-12T20:33:50.022Z"
   },
   {
    "duration": 19,
    "start_time": "2022-10-12T20:33:50.035Z"
   },
   {
    "duration": 45,
    "start_time": "2022-10-12T20:33:50.056Z"
   },
   {
    "duration": 24,
    "start_time": "2022-10-12T20:33:50.104Z"
   },
   {
    "duration": 3,
    "start_time": "2022-10-12T20:33:50.130Z"
   },
   {
    "duration": 12,
    "start_time": "2022-10-12T20:33:50.135Z"
   },
   {
    "duration": 12,
    "start_time": "2022-10-12T20:33:50.148Z"
   },
   {
    "duration": 3,
    "start_time": "2022-10-12T20:33:50.162Z"
   },
   {
    "duration": 39,
    "start_time": "2022-10-12T20:33:50.166Z"
   },
   {
    "duration": 26,
    "start_time": "2022-10-12T20:33:50.213Z"
   },
   {
    "duration": 6,
    "start_time": "2022-10-12T20:33:50.240Z"
   },
   {
    "duration": 6,
    "start_time": "2022-10-12T20:33:50.248Z"
   },
   {
    "duration": 23,
    "start_time": "2022-10-12T20:33:50.255Z"
   },
   {
    "duration": 1267,
    "start_time": "2022-10-12T20:33:50.279Z"
   },
   {
    "duration": 0,
    "start_time": "2022-10-12T20:33:51.548Z"
   },
   {
    "duration": 1291,
    "start_time": "2022-10-12T20:34:12.533Z"
   },
   {
    "duration": 9,
    "start_time": "2022-10-12T20:34:38.069Z"
   },
   {
    "duration": 13,
    "start_time": "2022-10-12T20:34:54.198Z"
   },
   {
    "duration": 16,
    "start_time": "2022-10-12T20:35:09.080Z"
   },
   {
    "duration": 22,
    "start_time": "2022-10-12T20:35:55.860Z"
   },
   {
    "duration": 17,
    "start_time": "2022-10-12T20:38:37.944Z"
   },
   {
    "duration": 19,
    "start_time": "2022-10-12T20:38:59.576Z"
   },
   {
    "duration": 19,
    "start_time": "2022-10-12T20:39:18.848Z"
   },
   {
    "duration": 17,
    "start_time": "2022-10-12T20:46:56.277Z"
   },
   {
    "duration": 44,
    "start_time": "2022-10-12T20:47:33.291Z"
   },
   {
    "duration": 17,
    "start_time": "2022-10-12T20:48:22.843Z"
   },
   {
    "duration": 33,
    "start_time": "2022-10-12T20:48:42.792Z"
   },
   {
    "duration": 21,
    "start_time": "2022-10-12T20:48:53.449Z"
   },
   {
    "duration": 23,
    "start_time": "2022-10-12T20:49:11.072Z"
   },
   {
    "duration": 479,
    "start_time": "2022-10-12T21:31:15.577Z"
   },
   {
    "duration": 21,
    "start_time": "2022-10-12T21:31:16.057Z"
   },
   {
    "duration": 17,
    "start_time": "2022-10-12T21:31:16.079Z"
   },
   {
    "duration": 8,
    "start_time": "2022-10-12T21:31:16.098Z"
   },
   {
    "duration": 34,
    "start_time": "2022-10-12T21:31:16.108Z"
   },
   {
    "duration": 2,
    "start_time": "2022-10-12T21:31:16.144Z"
   },
   {
    "duration": 12,
    "start_time": "2022-10-12T21:31:16.148Z"
   },
   {
    "duration": 4,
    "start_time": "2022-10-12T21:31:16.162Z"
   },
   {
    "duration": 7,
    "start_time": "2022-10-12T21:31:16.167Z"
   },
   {
    "duration": 5,
    "start_time": "2022-10-12T21:31:16.194Z"
   },
   {
    "duration": 35,
    "start_time": "2022-10-12T21:31:16.200Z"
   },
   {
    "duration": 9,
    "start_time": "2022-10-12T21:31:16.236Z"
   },
   {
    "duration": 10,
    "start_time": "2022-10-12T21:31:16.247Z"
   },
   {
    "duration": 13,
    "start_time": "2022-10-12T21:31:16.258Z"
   },
   {
    "duration": 45,
    "start_time": "2022-10-12T21:31:16.272Z"
   },
   {
    "duration": 16,
    "start_time": "2022-10-12T21:31:16.318Z"
   },
   {
    "duration": 4,
    "start_time": "2022-10-12T21:31:16.335Z"
   },
   {
    "duration": 14,
    "start_time": "2022-10-12T21:31:16.340Z"
   },
   {
    "duration": 5,
    "start_time": "2022-10-12T21:31:16.355Z"
   },
   {
    "duration": 7,
    "start_time": "2022-10-12T21:31:16.362Z"
   },
   {
    "duration": 26,
    "start_time": "2022-10-12T21:31:16.370Z"
   },
   {
    "duration": 17,
    "start_time": "2022-10-12T21:31:16.398Z"
   },
   {
    "duration": 4,
    "start_time": "2022-10-12T21:31:16.417Z"
   },
   {
    "duration": 7,
    "start_time": "2022-10-12T21:31:16.423Z"
   },
   {
    "duration": 23,
    "start_time": "2022-10-12T21:31:16.431Z"
   },
   {
    "duration": 44,
    "start_time": "2022-10-12T21:31:16.456Z"
   },
   {
    "duration": 24,
    "start_time": "2022-10-12T21:31:16.502Z"
   },
   {
    "duration": 18,
    "start_time": "2022-10-12T21:31:16.529Z"
   },
   {
    "duration": 24,
    "start_time": "2022-10-12T21:31:16.549Z"
   },
   {
    "duration": 20,
    "start_time": "2022-10-12T21:31:16.596Z"
   },
   {
    "duration": 23,
    "start_time": "2022-10-12T21:31:16.618Z"
   },
   {
    "duration": 434,
    "start_time": "2022-10-13T10:16:38.666Z"
   },
   {
    "duration": 20,
    "start_time": "2022-10-13T10:16:39.101Z"
   },
   {
    "duration": 18,
    "start_time": "2022-10-13T10:16:39.122Z"
   },
   {
    "duration": 8,
    "start_time": "2022-10-13T10:16:39.142Z"
   },
   {
    "duration": 29,
    "start_time": "2022-10-13T10:16:39.152Z"
   },
   {
    "duration": 3,
    "start_time": "2022-10-13T10:16:39.200Z"
   },
   {
    "duration": 14,
    "start_time": "2022-10-13T10:16:39.204Z"
   },
   {
    "duration": 14,
    "start_time": "2022-10-13T10:16:39.219Z"
   },
   {
    "duration": 7,
    "start_time": "2022-10-13T10:16:39.235Z"
   },
   {
    "duration": 3,
    "start_time": "2022-10-13T10:16:39.246Z"
   },
   {
    "duration": 32,
    "start_time": "2022-10-13T10:16:39.251Z"
   },
   {
    "duration": 8,
    "start_time": "2022-10-13T10:16:39.284Z"
   },
   {
    "duration": 3,
    "start_time": "2022-10-13T10:16:39.300Z"
   },
   {
    "duration": 12,
    "start_time": "2022-10-13T10:16:39.305Z"
   },
   {
    "duration": 17,
    "start_time": "2022-10-13T10:16:39.318Z"
   },
   {
    "duration": 15,
    "start_time": "2022-10-13T10:16:39.336Z"
   },
   {
    "duration": 3,
    "start_time": "2022-10-13T10:16:39.352Z"
   },
   {
    "duration": 13,
    "start_time": "2022-10-13T10:16:39.356Z"
   },
   {
    "duration": 16,
    "start_time": "2022-10-13T10:16:39.370Z"
   },
   {
    "duration": 3,
    "start_time": "2022-10-13T10:16:39.400Z"
   },
   {
    "duration": 14,
    "start_time": "2022-10-13T10:16:39.405Z"
   },
   {
    "duration": 16,
    "start_time": "2022-10-13T10:16:39.420Z"
   },
   {
    "duration": 5,
    "start_time": "2022-10-13T10:16:39.438Z"
   },
   {
    "duration": 25,
    "start_time": "2022-10-13T10:16:39.444Z"
   },
   {
    "duration": 21,
    "start_time": "2022-10-13T10:16:39.471Z"
   },
   {
    "duration": 19,
    "start_time": "2022-10-13T10:16:39.494Z"
   },
   {
    "duration": 17,
    "start_time": "2022-10-13T10:16:39.515Z"
   },
   {
    "duration": 13,
    "start_time": "2022-10-13T10:16:39.535Z"
   },
   {
    "duration": 16,
    "start_time": "2022-10-13T10:16:39.550Z"
   },
   {
    "duration": 46,
    "start_time": "2022-10-13T10:16:39.568Z"
   },
   {
    "duration": 17,
    "start_time": "2022-10-13T10:16:39.616Z"
   },
   {
    "duration": 498,
    "start_time": "2022-10-13T14:11:27.968Z"
   },
   {
    "duration": 19,
    "start_time": "2022-10-13T14:11:28.467Z"
   },
   {
    "duration": 12,
    "start_time": "2022-10-13T14:11:28.487Z"
   },
   {
    "duration": 16,
    "start_time": "2022-10-13T14:11:28.502Z"
   },
   {
    "duration": 31,
    "start_time": "2022-10-13T14:11:28.520Z"
   },
   {
    "duration": 3,
    "start_time": "2022-10-13T14:11:28.553Z"
   },
   {
    "duration": 9,
    "start_time": "2022-10-13T14:11:28.557Z"
   },
   {
    "duration": 34,
    "start_time": "2022-10-13T14:11:28.568Z"
   },
   {
    "duration": 11,
    "start_time": "2022-10-13T14:11:28.604Z"
   },
   {
    "duration": 5,
    "start_time": "2022-10-13T14:11:28.620Z"
   },
   {
    "duration": 29,
    "start_time": "2022-10-13T14:11:28.626Z"
   },
   {
    "duration": 7,
    "start_time": "2022-10-13T14:11:28.657Z"
   },
   {
    "duration": 3,
    "start_time": "2022-10-13T14:11:28.666Z"
   },
   {
    "duration": 21,
    "start_time": "2022-10-13T14:11:28.701Z"
   },
   {
    "duration": 20,
    "start_time": "2022-10-13T14:11:28.724Z"
   },
   {
    "duration": 16,
    "start_time": "2022-10-13T14:11:28.745Z"
   },
   {
    "duration": 3,
    "start_time": "2022-10-13T14:11:28.762Z"
   },
   {
    "duration": 14,
    "start_time": "2022-10-13T14:11:28.767Z"
   },
   {
    "duration": 9,
    "start_time": "2022-10-13T14:11:28.807Z"
   },
   {
    "duration": 5,
    "start_time": "2022-10-13T14:11:28.819Z"
   },
   {
    "duration": 11,
    "start_time": "2022-10-13T14:11:28.826Z"
   },
   {
    "duration": 16,
    "start_time": "2022-10-13T14:11:28.838Z"
   },
   {
    "duration": 3,
    "start_time": "2022-10-13T14:11:28.856Z"
   },
   {
    "duration": 5,
    "start_time": "2022-10-13T14:11:28.861Z"
   },
   {
    "duration": 50,
    "start_time": "2022-10-13T14:11:28.867Z"
   },
   {
    "duration": 15,
    "start_time": "2022-10-13T14:11:28.920Z"
   },
   {
    "duration": 15,
    "start_time": "2022-10-13T14:11:28.937Z"
   },
   {
    "duration": 11,
    "start_time": "2022-10-13T14:11:28.955Z"
   },
   {
    "duration": 55,
    "start_time": "2022-10-13T14:11:28.968Z"
   },
   {
    "duration": 16,
    "start_time": "2022-10-13T14:11:29.025Z"
   },
   {
    "duration": 17,
    "start_time": "2022-10-13T14:11:29.042Z"
   },
   {
    "duration": 513,
    "start_time": "2022-10-13T14:27:54.578Z"
   },
   {
    "duration": 33,
    "start_time": "2022-10-13T14:27:55.093Z"
   },
   {
    "duration": 15,
    "start_time": "2022-10-13T14:27:55.128Z"
   },
   {
    "duration": 14,
    "start_time": "2022-10-13T14:27:55.144Z"
   },
   {
    "duration": 50,
    "start_time": "2022-10-13T14:27:55.161Z"
   },
   {
    "duration": 5,
    "start_time": "2022-10-13T14:27:55.213Z"
   },
   {
    "duration": 16,
    "start_time": "2022-10-13T14:27:55.220Z"
   },
   {
    "duration": 11,
    "start_time": "2022-10-13T14:27:55.237Z"
   },
   {
    "duration": 10,
    "start_time": "2022-10-13T14:27:55.250Z"
   },
   {
    "duration": 4,
    "start_time": "2022-10-13T14:27:55.261Z"
   },
   {
    "duration": 39,
    "start_time": "2022-10-13T14:27:55.267Z"
   },
   {
    "duration": 15,
    "start_time": "2022-10-13T14:27:55.308Z"
   },
   {
    "duration": 12,
    "start_time": "2022-10-13T14:27:55.325Z"
   },
   {
    "duration": 16,
    "start_time": "2022-10-13T14:27:55.339Z"
   },
   {
    "duration": 21,
    "start_time": "2022-10-13T14:27:55.356Z"
   },
   {
    "duration": 22,
    "start_time": "2022-10-13T14:27:55.378Z"
   },
   {
    "duration": 6,
    "start_time": "2022-10-13T14:27:55.402Z"
   },
   {
    "duration": 18,
    "start_time": "2022-10-13T14:27:55.411Z"
   },
   {
    "duration": 10,
    "start_time": "2022-10-13T14:27:55.430Z"
   },
   {
    "duration": 3,
    "start_time": "2022-10-13T14:27:55.442Z"
   },
   {
    "duration": 21,
    "start_time": "2022-10-13T14:27:55.446Z"
   },
   {
    "duration": 17,
    "start_time": "2022-10-13T14:27:55.469Z"
   },
   {
    "duration": 15,
    "start_time": "2022-10-13T14:27:55.487Z"
   },
   {
    "duration": 21,
    "start_time": "2022-10-13T14:27:55.504Z"
   },
   {
    "duration": 19,
    "start_time": "2022-10-13T14:27:55.526Z"
   },
   {
    "duration": 16,
    "start_time": "2022-10-13T14:27:55.546Z"
   },
   {
    "duration": 16,
    "start_time": "2022-10-13T14:27:55.563Z"
   },
   {
    "duration": 27,
    "start_time": "2022-10-13T14:27:55.580Z"
   },
   {
    "duration": 17,
    "start_time": "2022-10-13T14:27:55.609Z"
   },
   {
    "duration": 14,
    "start_time": "2022-10-13T14:27:55.628Z"
   },
   {
    "duration": 21,
    "start_time": "2022-10-13T14:28:11.406Z"
   },
   {
    "duration": 404,
    "start_time": "2022-10-13T14:33:04.444Z"
   },
   {
    "duration": 21,
    "start_time": "2022-10-13T14:33:04.850Z"
   },
   {
    "duration": 32,
    "start_time": "2022-10-13T14:33:04.873Z"
   },
   {
    "duration": 24,
    "start_time": "2022-10-13T14:33:04.907Z"
   },
   {
    "duration": 43,
    "start_time": "2022-10-13T14:33:04.932Z"
   },
   {
    "duration": 3,
    "start_time": "2022-10-13T14:33:04.976Z"
   },
   {
    "duration": 31,
    "start_time": "2022-10-13T14:33:04.980Z"
   },
   {
    "duration": 24,
    "start_time": "2022-10-13T14:33:05.013Z"
   },
   {
    "duration": 32,
    "start_time": "2022-10-13T14:33:05.038Z"
   },
   {
    "duration": 34,
    "start_time": "2022-10-13T14:33:05.074Z"
   },
   {
    "duration": 46,
    "start_time": "2022-10-13T14:33:05.109Z"
   },
   {
    "duration": 9,
    "start_time": "2022-10-13T14:33:05.157Z"
   },
   {
    "duration": 34,
    "start_time": "2022-10-13T14:33:05.168Z"
   },
   {
    "duration": 33,
    "start_time": "2022-10-13T14:33:05.203Z"
   },
   {
    "duration": 47,
    "start_time": "2022-10-13T14:33:05.237Z"
   },
   {
    "duration": 37,
    "start_time": "2022-10-13T14:33:05.286Z"
   },
   {
    "duration": 11,
    "start_time": "2022-10-13T14:33:05.326Z"
   },
   {
    "duration": 28,
    "start_time": "2022-10-13T14:33:05.339Z"
   },
   {
    "duration": 34,
    "start_time": "2022-10-13T14:33:05.369Z"
   },
   {
    "duration": 25,
    "start_time": "2022-10-13T14:33:05.404Z"
   },
   {
    "duration": 40,
    "start_time": "2022-10-13T14:33:05.430Z"
   },
   {
    "duration": 37,
    "start_time": "2022-10-13T14:33:05.471Z"
   },
   {
    "duration": 6,
    "start_time": "2022-10-13T14:33:05.509Z"
   },
   {
    "duration": 49,
    "start_time": "2022-10-13T14:33:05.516Z"
   },
   {
    "duration": 49,
    "start_time": "2022-10-13T14:33:05.567Z"
   },
   {
    "duration": 56,
    "start_time": "2022-10-13T14:33:05.617Z"
   },
   {
    "duration": 28,
    "start_time": "2022-10-13T14:33:05.675Z"
   },
   {
    "duration": 29,
    "start_time": "2022-10-13T14:33:05.706Z"
   },
   {
    "duration": 28,
    "start_time": "2022-10-13T14:33:05.736Z"
   },
   {
    "duration": 39,
    "start_time": "2022-10-13T14:33:05.766Z"
   },
   {
    "duration": 45,
    "start_time": "2022-10-13T14:33:05.806Z"
   },
   {
    "duration": 20,
    "start_time": "2022-10-13T14:33:42.408Z"
   }
  ],
  "colab": {
   "name": "dpp_template_part2.ipynb",
   "provenance": []
  },
  "kernelspec": {
   "display_name": "Python 3 (ipykernel)",
   "language": "python",
   "name": "python3"
  },
  "language_info": {
   "codemirror_mode": {
    "name": "ipython",
    "version": 3
   },
   "file_extension": ".py",
   "mimetype": "text/x-python",
   "name": "python",
   "nbconvert_exporter": "python",
   "pygments_lexer": "ipython3",
   "version": "3.9.12"
  },
  "toc": {
   "base_numbering": 1,
   "nav_menu": {},
   "number_sections": true,
   "sideBar": true,
   "skip_h1_title": true,
   "title_cell": "Table of Contents",
   "title_sidebar": "Contents",
   "toc_cell": false,
   "toc_position": {},
   "toc_section_display": true,
   "toc_window_display": false
  }
 },
 "nbformat": 4,
 "nbformat_minor": 5
}
