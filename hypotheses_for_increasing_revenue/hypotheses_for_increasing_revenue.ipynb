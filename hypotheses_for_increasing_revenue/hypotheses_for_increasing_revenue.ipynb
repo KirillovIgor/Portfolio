{
 "cells": [
  {
   "cell_type": "markdown",
   "metadata": {},
   "source": [
    "<h2>Описание проекта <a class=\"tocSkip\"> </h2>\n",
    "\n",
    "**Заказчик** — интернет - магазин\n",
    "    \n",
    "**Цель проекта** - выполнить A/B-тестирование для проверки подготовленных гипотез для увеличения выручки\n",
    "    \n",
    "**Описание данных для первой части проекта:**\n",
    "    \n",
    "Файл /datasets/hypothesis.csv\n",
    "    \n",
    "- `Hypothesis` — краткое описание гипотезы;\n",
    "- `Reach` — охват пользователей по 10-балльной шкале;\n",
    "- `Impact` — влияние на пользователей по 10-балльной шкале;\n",
    "- `Confidence` — уверенность в гипотезе по 10-балльной шкале;\n",
    "- `Efforts` — затраты ресурсов на проверку гипотезы по 10-балльной шкале. Чем больше значение Efforts, тем дороже проверка гипотезы.\n",
    "\n",
    "**Описание данных для второй части проекта:**\n",
    "    \n",
    "Файл /datasets/orders.csv\n",
    "    \n",
    "- `transactionId` — идентификатор заказа;\n",
    "- `visitorId` — идентификатор пользователя, совершившего заказ;\n",
    "- `date` — дата, когда был совершён заказ;\n",
    "- `revenue` — выручка заказа;\n",
    "- `group` — группа A/B-теста, в которую попал заказ.\n",
    "    \n",
    "Файл /datasets/visitors.csv\n",
    "    \n",
    "- `date` — дата;\n",
    "- `group` — группа A/B-теста;\n",
    "- `visitors` — количество пользователей в указанную дату в указанной группе A/B-теста"
   ]
  },
  {
   "cell_type": "markdown",
   "metadata": {},
   "source": [
    "### Откроем файлы с данными и изучим информацию"
   ]
  },
  {
   "cell_type": "code",
   "execution_count": 3,
   "metadata": {},
   "outputs": [],
   "source": [
    "#Импортируем библиотеки\n",
    "import pandas as pd\n",
    "import numpy as np\n",
    "import scipy.stats as stats\n",
    "import matplotlib.pyplot as plt\n",
    "import warnings\n",
    "import datetime as dt\n",
    "#Код для предотвращения всплывающих ошибок\n",
    "warnings.filterwarnings(\"ignore\")"
   ]
  },
  {
   "cell_type": "markdown",
   "metadata": {},
   "source": [
    "#### Файл с гипотезами"
   ]
  },
  {
   "cell_type": "code",
   "execution_count": 4,
   "metadata": {},
   "outputs": [],
   "source": [
    "#Сохраним датасет в переменную hypothesis\n",
    "hypothesis = pd.read_csv('hypothesis.csv')"
   ]
  },
  {
   "cell_type": "code",
   "execution_count": 5,
   "metadata": {},
   "outputs": [
    {
     "data": {
      "text/html": [
       "<div>\n",
       "<style scoped>\n",
       "    .dataframe tbody tr th:only-of-type {\n",
       "        vertical-align: middle;\n",
       "    }\n",
       "\n",
       "    .dataframe tbody tr th {\n",
       "        vertical-align: top;\n",
       "    }\n",
       "\n",
       "    .dataframe thead th {\n",
       "        text-align: right;\n",
       "    }\n",
       "</style>\n",
       "<table border=\"1\" class=\"dataframe\">\n",
       "  <thead>\n",
       "    <tr style=\"text-align: right;\">\n",
       "      <th></th>\n",
       "      <th>Hypothesis</th>\n",
       "      <th>Reach</th>\n",
       "      <th>Impact</th>\n",
       "      <th>Confidence</th>\n",
       "      <th>Efforts</th>\n",
       "    </tr>\n",
       "  </thead>\n",
       "  <tbody>\n",
       "    <tr>\n",
       "      <th>0</th>\n",
       "      <td>Добавить два новых канала привлечения трафика, что позволит привлекать на 30% больше пользователей</td>\n",
       "      <td>3</td>\n",
       "      <td>10</td>\n",
       "      <td>8</td>\n",
       "      <td>6</td>\n",
       "    </tr>\n",
       "    <tr>\n",
       "      <th>1</th>\n",
       "      <td>Запустить собственную службу доставки, что сократит срок доставки заказов</td>\n",
       "      <td>2</td>\n",
       "      <td>5</td>\n",
       "      <td>4</td>\n",
       "      <td>10</td>\n",
       "    </tr>\n",
       "    <tr>\n",
       "      <th>2</th>\n",
       "      <td>Добавить блоки рекомендаций товаров на сайт интернет магазина, чтобы повысить конверсию и средний чек заказа</td>\n",
       "      <td>8</td>\n",
       "      <td>3</td>\n",
       "      <td>7</td>\n",
       "      <td>3</td>\n",
       "    </tr>\n",
       "    <tr>\n",
       "      <th>3</th>\n",
       "      <td>Изменить структура категорий, что увеличит конверсию, т.к. пользователи быстрее найдут нужный товар</td>\n",
       "      <td>8</td>\n",
       "      <td>3</td>\n",
       "      <td>3</td>\n",
       "      <td>8</td>\n",
       "    </tr>\n",
       "    <tr>\n",
       "      <th>4</th>\n",
       "      <td>Изменить цвет фона главной страницы, чтобы увеличить вовлеченность пользователей</td>\n",
       "      <td>3</td>\n",
       "      <td>1</td>\n",
       "      <td>1</td>\n",
       "      <td>1</td>\n",
       "    </tr>\n",
       "    <tr>\n",
       "      <th>5</th>\n",
       "      <td>Добавить страницу отзывов клиентов о магазине, что позволит увеличить количество заказов</td>\n",
       "      <td>3</td>\n",
       "      <td>2</td>\n",
       "      <td>2</td>\n",
       "      <td>3</td>\n",
       "    </tr>\n",
       "    <tr>\n",
       "      <th>6</th>\n",
       "      <td>Показать на главной странице баннеры с актуальными акциями и распродажами, чтобы увеличить конверсию</td>\n",
       "      <td>5</td>\n",
       "      <td>3</td>\n",
       "      <td>8</td>\n",
       "      <td>3</td>\n",
       "    </tr>\n",
       "    <tr>\n",
       "      <th>7</th>\n",
       "      <td>Добавить форму подписки на все основные страницы, чтобы собрать базу клиентов для email-рассылок</td>\n",
       "      <td>10</td>\n",
       "      <td>7</td>\n",
       "      <td>8</td>\n",
       "      <td>5</td>\n",
       "    </tr>\n",
       "    <tr>\n",
       "      <th>8</th>\n",
       "      <td>Запустить акцию, дающую скидку на товар в день рождения</td>\n",
       "      <td>1</td>\n",
       "      <td>9</td>\n",
       "      <td>9</td>\n",
       "      <td>5</td>\n",
       "    </tr>\n",
       "  </tbody>\n",
       "</table>\n",
       "</div>"
      ],
      "text/plain": [
       "                                                                                                     Hypothesis  \\\n",
       "0            Добавить два новых канала привлечения трафика, что позволит привлекать на 30% больше пользователей   \n",
       "1                                     Запустить собственную службу доставки, что сократит срок доставки заказов   \n",
       "2  Добавить блоки рекомендаций товаров на сайт интернет магазина, чтобы повысить конверсию и средний чек заказа   \n",
       "3           Изменить структура категорий, что увеличит конверсию, т.к. пользователи быстрее найдут нужный товар   \n",
       "4                              Изменить цвет фона главной страницы, чтобы увеличить вовлеченность пользователей   \n",
       "5                      Добавить страницу отзывов клиентов о магазине, что позволит увеличить количество заказов   \n",
       "6          Показать на главной странице баннеры с актуальными акциями и распродажами, чтобы увеличить конверсию   \n",
       "7              Добавить форму подписки на все основные страницы, чтобы собрать базу клиентов для email-рассылок   \n",
       "8                                                       Запустить акцию, дающую скидку на товар в день рождения   \n",
       "\n",
       "   Reach  Impact  Confidence  Efforts  \n",
       "0      3      10           8        6  \n",
       "1      2       5           4       10  \n",
       "2      8       3           7        3  \n",
       "3      8       3           3        8  \n",
       "4      3       1           1        1  \n",
       "5      3       2           2        3  \n",
       "6      5       3           8        3  \n",
       "7     10       7           8        5  \n",
       "8      1       9           9        5  "
      ]
     },
     "execution_count": 5,
     "metadata": {},
     "output_type": "execute_result"
    }
   ],
   "source": [
    "pd.options.display.max_colwidth = 110\n",
    "hypothesis"
   ]
  },
  {
   "cell_type": "markdown",
   "metadata": {},
   "source": [
    "Наш датасет содержит 9 гипотез с проставленными параметрами Reach, Impact, Confidence, Effort"
   ]
  },
  {
   "cell_type": "code",
   "execution_count": 6,
   "metadata": {},
   "outputs": [],
   "source": [
    "#Сразу же приведем наименования колонок к правильному регистру\n",
    "hypothesis.columns = ['hypothesis', 'reach', 'impact', 'confidence', 'efforts']"
   ]
  },
  {
   "cell_type": "markdown",
   "metadata": {},
   "source": [
    "#### Файл с заказами"
   ]
  },
  {
   "cell_type": "code",
   "execution_count": 7,
   "metadata": {},
   "outputs": [],
   "source": [
    "#Сохраним датасет в переменную orders\n",
    "orders = pd.read_csv('orders.csv')"
   ]
  },
  {
   "cell_type": "code",
   "execution_count": 8,
   "metadata": {},
   "outputs": [
    {
     "data": {
      "text/html": [
       "<div>\n",
       "<style scoped>\n",
       "    .dataframe tbody tr th:only-of-type {\n",
       "        vertical-align: middle;\n",
       "    }\n",
       "\n",
       "    .dataframe tbody tr th {\n",
       "        vertical-align: top;\n",
       "    }\n",
       "\n",
       "    .dataframe thead th {\n",
       "        text-align: right;\n",
       "    }\n",
       "</style>\n",
       "<table border=\"1\" class=\"dataframe\">\n",
       "  <thead>\n",
       "    <tr style=\"text-align: right;\">\n",
       "      <th></th>\n",
       "      <th>transactionId</th>\n",
       "      <th>visitorId</th>\n",
       "      <th>date</th>\n",
       "      <th>revenue</th>\n",
       "      <th>group</th>\n",
       "    </tr>\n",
       "  </thead>\n",
       "  <tbody>\n",
       "    <tr>\n",
       "      <th>0</th>\n",
       "      <td>3667963787</td>\n",
       "      <td>3312258926</td>\n",
       "      <td>2019-08-15</td>\n",
       "      <td>1650</td>\n",
       "      <td>B</td>\n",
       "    </tr>\n",
       "    <tr>\n",
       "      <th>1</th>\n",
       "      <td>2804400009</td>\n",
       "      <td>3642806036</td>\n",
       "      <td>2019-08-15</td>\n",
       "      <td>730</td>\n",
       "      <td>B</td>\n",
       "    </tr>\n",
       "    <tr>\n",
       "      <th>2</th>\n",
       "      <td>2961555356</td>\n",
       "      <td>4069496402</td>\n",
       "      <td>2019-08-15</td>\n",
       "      <td>400</td>\n",
       "      <td>A</td>\n",
       "    </tr>\n",
       "    <tr>\n",
       "      <th>3</th>\n",
       "      <td>3797467345</td>\n",
       "      <td>1196621759</td>\n",
       "      <td>2019-08-15</td>\n",
       "      <td>9759</td>\n",
       "      <td>B</td>\n",
       "    </tr>\n",
       "    <tr>\n",
       "      <th>4</th>\n",
       "      <td>2282983706</td>\n",
       "      <td>2322279887</td>\n",
       "      <td>2019-08-15</td>\n",
       "      <td>2308</td>\n",
       "      <td>B</td>\n",
       "    </tr>\n",
       "  </tbody>\n",
       "</table>\n",
       "</div>"
      ],
      "text/plain": [
       "   transactionId   visitorId        date  revenue group\n",
       "0     3667963787  3312258926  2019-08-15     1650     B\n",
       "1     2804400009  3642806036  2019-08-15      730     B\n",
       "2     2961555356  4069496402  2019-08-15      400     A\n",
       "3     3797467345  1196621759  2019-08-15     9759     B\n",
       "4     2282983706  2322279887  2019-08-15     2308     B"
      ]
     },
     "execution_count": 8,
     "metadata": {},
     "output_type": "execute_result"
    }
   ],
   "source": [
    "#Выведем первые 5 строк для ознакомления с датасетом\n",
    "orders.head()"
   ]
  },
  {
   "cell_type": "code",
   "execution_count": 9,
   "metadata": {
    "scrolled": false
   },
   "outputs": [
    {
     "name": "stdout",
     "output_type": "stream",
     "text": [
      "<class 'pandas.core.frame.DataFrame'>\n",
      "RangeIndex: 1197 entries, 0 to 1196\n",
      "Data columns (total 5 columns):\n",
      " #   Column         Non-Null Count  Dtype \n",
      "---  ------         --------------  ----- \n",
      " 0   transactionId  1197 non-null   int64 \n",
      " 1   visitorId      1197 non-null   int64 \n",
      " 2   date           1197 non-null   object\n",
      " 3   revenue        1197 non-null   int64 \n",
      " 4   group          1197 non-null   object\n",
      "dtypes: int64(3), object(2)\n",
      "memory usage: 46.9+ KB\n"
     ]
    }
   ],
   "source": [
    "#Проверим наличие пропусков и типы колонок\n",
    "orders.info()"
   ]
  },
  {
   "cell_type": "code",
   "execution_count": 10,
   "metadata": {},
   "outputs": [],
   "source": [
    "#Необходимо изменить тип данных на date\n",
    "orders['date'] = orders['date'].map(\n",
    "    lambda x: dt.datetime.strptime(x, '%Y-%m-%d'))"
   ]
  },
  {
   "cell_type": "code",
   "execution_count": 11,
   "metadata": {},
   "outputs": [
    {
     "data": {
      "text/plain": [
       "0"
      ]
     },
     "execution_count": 11,
     "metadata": {},
     "output_type": "execute_result"
    }
   ],
   "source": [
    "#Проверим датасет на наличие дубликатов\n",
    "orders.duplicated().sum()"
   ]
  },
  {
   "cell_type": "markdown",
   "metadata": {},
   "source": [
    "#### Файл с посещениями сайта"
   ]
  },
  {
   "cell_type": "code",
   "execution_count": 12,
   "metadata": {},
   "outputs": [],
   "source": [
    "#Сохраним датасет в переменную orders\n",
    "visitors = pd.read_csv('visitors.csv')"
   ]
  },
  {
   "cell_type": "code",
   "execution_count": 13,
   "metadata": {},
   "outputs": [
    {
     "data": {
      "text/html": [
       "<div>\n",
       "<style scoped>\n",
       "    .dataframe tbody tr th:only-of-type {\n",
       "        vertical-align: middle;\n",
       "    }\n",
       "\n",
       "    .dataframe tbody tr th {\n",
       "        vertical-align: top;\n",
       "    }\n",
       "\n",
       "    .dataframe thead th {\n",
       "        text-align: right;\n",
       "    }\n",
       "</style>\n",
       "<table border=\"1\" class=\"dataframe\">\n",
       "  <thead>\n",
       "    <tr style=\"text-align: right;\">\n",
       "      <th></th>\n",
       "      <th>date</th>\n",
       "      <th>group</th>\n",
       "      <th>visitors</th>\n",
       "    </tr>\n",
       "  </thead>\n",
       "  <tbody>\n",
       "    <tr>\n",
       "      <th>0</th>\n",
       "      <td>2019-08-01</td>\n",
       "      <td>A</td>\n",
       "      <td>719</td>\n",
       "    </tr>\n",
       "    <tr>\n",
       "      <th>1</th>\n",
       "      <td>2019-08-02</td>\n",
       "      <td>A</td>\n",
       "      <td>619</td>\n",
       "    </tr>\n",
       "    <tr>\n",
       "      <th>2</th>\n",
       "      <td>2019-08-03</td>\n",
       "      <td>A</td>\n",
       "      <td>507</td>\n",
       "    </tr>\n",
       "    <tr>\n",
       "      <th>3</th>\n",
       "      <td>2019-08-04</td>\n",
       "      <td>A</td>\n",
       "      <td>717</td>\n",
       "    </tr>\n",
       "    <tr>\n",
       "      <th>4</th>\n",
       "      <td>2019-08-05</td>\n",
       "      <td>A</td>\n",
       "      <td>756</td>\n",
       "    </tr>\n",
       "  </tbody>\n",
       "</table>\n",
       "</div>"
      ],
      "text/plain": [
       "         date group  visitors\n",
       "0  2019-08-01     A       719\n",
       "1  2019-08-02     A       619\n",
       "2  2019-08-03     A       507\n",
       "3  2019-08-04     A       717\n",
       "4  2019-08-05     A       756"
      ]
     },
     "execution_count": 13,
     "metadata": {},
     "output_type": "execute_result"
    }
   ],
   "source": [
    "#Выведем первые 5 строк для ознакомления с датасетом\n",
    "visitors.head()"
   ]
  },
  {
   "cell_type": "code",
   "execution_count": 14,
   "metadata": {
    "scrolled": true
   },
   "outputs": [
    {
     "name": "stdout",
     "output_type": "stream",
     "text": [
      "<class 'pandas.core.frame.DataFrame'>\n",
      "RangeIndex: 62 entries, 0 to 61\n",
      "Data columns (total 3 columns):\n",
      " #   Column    Non-Null Count  Dtype \n",
      "---  ------    --------------  ----- \n",
      " 0   date      62 non-null     object\n",
      " 1   group     62 non-null     object\n",
      " 2   visitors  62 non-null     int64 \n",
      "dtypes: int64(1), object(2)\n",
      "memory usage: 1.6+ KB\n"
     ]
    }
   ],
   "source": [
    "#Проверим наличие пропусков и типы колонок\n",
    "visitors.info()"
   ]
  },
  {
   "cell_type": "code",
   "execution_count": 15,
   "metadata": {},
   "outputs": [],
   "source": [
    "#Необходимо изменить тип данных на date\n",
    "visitors['date'] = visitors['date'].map(\n",
    "    lambda x: dt.datetime.strptime(x, '%Y-%m-%d'))"
   ]
  },
  {
   "cell_type": "code",
   "execution_count": 16,
   "metadata": {},
   "outputs": [
    {
     "data": {
      "text/plain": [
       "0"
      ]
     },
     "execution_count": 16,
     "metadata": {},
     "output_type": "execute_result"
    }
   ],
   "source": [
    "#Проверим датасет на наличие дубликатов\n",
    "visitors.duplicated().sum()"
   ]
  },
  {
   "cell_type": "code",
   "execution_count": 17,
   "metadata": {},
   "outputs": [
    {
     "name": "stdout",
     "output_type": "stream",
     "text": [
      "<class 'pandas.core.frame.DataFrame'>\n",
      "RangeIndex: 62 entries, 0 to 61\n",
      "Data columns (total 3 columns):\n",
      " #   Column    Non-Null Count  Dtype         \n",
      "---  ------    --------------  -----         \n",
      " 0   date      62 non-null     datetime64[ns]\n",
      " 1   group     62 non-null     object        \n",
      " 2   visitors  62 non-null     int64         \n",
      "dtypes: datetime64[ns](1), int64(1), object(1)\n",
      "memory usage: 1.6+ KB\n"
     ]
    }
   ],
   "source": [
    "visitors.info()"
   ]
  },
  {
   "cell_type": "code",
   "execution_count": 18,
   "metadata": {},
   "outputs": [
    {
     "data": {
      "text/html": [
       "<div>\n",
       "<style scoped>\n",
       "    .dataframe tbody tr th:only-of-type {\n",
       "        vertical-align: middle;\n",
       "    }\n",
       "\n",
       "    .dataframe tbody tr th {\n",
       "        vertical-align: top;\n",
       "    }\n",
       "\n",
       "    .dataframe thead th {\n",
       "        text-align: right;\n",
       "    }\n",
       "</style>\n",
       "<table border=\"1\" class=\"dataframe\">\n",
       "  <thead>\n",
       "    <tr style=\"text-align: right;\">\n",
       "      <th></th>\n",
       "      <th>date</th>\n",
       "      <th>group</th>\n",
       "      <th>visitors</th>\n",
       "    </tr>\n",
       "  </thead>\n",
       "  <tbody>\n",
       "    <tr>\n",
       "      <th>0</th>\n",
       "      <td>2019-08-01</td>\n",
       "      <td>A</td>\n",
       "      <td>719</td>\n",
       "    </tr>\n",
       "    <tr>\n",
       "      <th>1</th>\n",
       "      <td>2019-08-02</td>\n",
       "      <td>A</td>\n",
       "      <td>619</td>\n",
       "    </tr>\n",
       "    <tr>\n",
       "      <th>2</th>\n",
       "      <td>2019-08-03</td>\n",
       "      <td>A</td>\n",
       "      <td>507</td>\n",
       "    </tr>\n",
       "    <tr>\n",
       "      <th>3</th>\n",
       "      <td>2019-08-04</td>\n",
       "      <td>A</td>\n",
       "      <td>717</td>\n",
       "    </tr>\n",
       "    <tr>\n",
       "      <th>4</th>\n",
       "      <td>2019-08-05</td>\n",
       "      <td>A</td>\n",
       "      <td>756</td>\n",
       "    </tr>\n",
       "  </tbody>\n",
       "</table>\n",
       "</div>"
      ],
      "text/plain": [
       "        date group  visitors\n",
       "0 2019-08-01     A       719\n",
       "1 2019-08-02     A       619\n",
       "2 2019-08-03     A       507\n",
       "3 2019-08-04     A       717\n",
       "4 2019-08-05     A       756"
      ]
     },
     "execution_count": 18,
     "metadata": {},
     "output_type": "execute_result"
    }
   ],
   "source": [
    "visitors.head()"
   ]
  },
  {
   "cell_type": "markdown",
   "metadata": {},
   "source": [
    "### Приоритезация гипотез"
   ]
  },
  {
   "cell_type": "markdown",
   "metadata": {},
   "source": [
    "#### Фреймворк ICE"
   ]
  },
  {
   "cell_type": "code",
   "execution_count": 19,
   "metadata": {},
   "outputs": [],
   "source": [
    "#Добавим в наш датасет с гипотезами столбец с расчитаной оценкой ICE \n",
    "hypothesis['ICE'] = round(hypothesis['impact'] *  hypothesis['confidence'] /  hypothesis['efforts'], 2)"
   ]
  },
  {
   "cell_type": "code",
   "execution_count": 20,
   "metadata": {
    "scrolled": true
   },
   "outputs": [
    {
     "data": {
      "text/html": [
       "<div>\n",
       "<style scoped>\n",
       "    .dataframe tbody tr th:only-of-type {\n",
       "        vertical-align: middle;\n",
       "    }\n",
       "\n",
       "    .dataframe tbody tr th {\n",
       "        vertical-align: top;\n",
       "    }\n",
       "\n",
       "    .dataframe thead th {\n",
       "        text-align: right;\n",
       "    }\n",
       "</style>\n",
       "<table border=\"1\" class=\"dataframe\">\n",
       "  <thead>\n",
       "    <tr style=\"text-align: right;\">\n",
       "      <th></th>\n",
       "      <th>hypothesis</th>\n",
       "      <th>ICE</th>\n",
       "    </tr>\n",
       "  </thead>\n",
       "  <tbody>\n",
       "    <tr>\n",
       "      <th>8</th>\n",
       "      <td>Запустить акцию, дающую скидку на товар в день рождения</td>\n",
       "      <td>16.20</td>\n",
       "    </tr>\n",
       "    <tr>\n",
       "      <th>0</th>\n",
       "      <td>Добавить два новых канала привлечения трафика, что позволит привлекать на 30% больше пользователей</td>\n",
       "      <td>13.33</td>\n",
       "    </tr>\n",
       "    <tr>\n",
       "      <th>7</th>\n",
       "      <td>Добавить форму подписки на все основные страницы, чтобы собрать базу клиентов для email-рассылок</td>\n",
       "      <td>11.20</td>\n",
       "    </tr>\n",
       "    <tr>\n",
       "      <th>6</th>\n",
       "      <td>Показать на главной странице баннеры с актуальными акциями и распродажами, чтобы увеличить конверсию</td>\n",
       "      <td>8.00</td>\n",
       "    </tr>\n",
       "    <tr>\n",
       "      <th>2</th>\n",
       "      <td>Добавить блоки рекомендаций товаров на сайт интернет магазина, чтобы повысить конверсию и средний чек заказа</td>\n",
       "      <td>7.00</td>\n",
       "    </tr>\n",
       "    <tr>\n",
       "      <th>1</th>\n",
       "      <td>Запустить собственную службу доставки, что сократит срок доставки заказов</td>\n",
       "      <td>2.00</td>\n",
       "    </tr>\n",
       "    <tr>\n",
       "      <th>5</th>\n",
       "      <td>Добавить страницу отзывов клиентов о магазине, что позволит увеличить количество заказов</td>\n",
       "      <td>1.33</td>\n",
       "    </tr>\n",
       "    <tr>\n",
       "      <th>3</th>\n",
       "      <td>Изменить структура категорий, что увеличит конверсию, т.к. пользователи быстрее найдут нужный товар</td>\n",
       "      <td>1.12</td>\n",
       "    </tr>\n",
       "    <tr>\n",
       "      <th>4</th>\n",
       "      <td>Изменить цвет фона главной страницы, чтобы увеличить вовлеченность пользователей</td>\n",
       "      <td>1.00</td>\n",
       "    </tr>\n",
       "  </tbody>\n",
       "</table>\n",
       "</div>"
      ],
      "text/plain": [
       "                                                                                                     hypothesis  \\\n",
       "8                                                       Запустить акцию, дающую скидку на товар в день рождения   \n",
       "0            Добавить два новых канала привлечения трафика, что позволит привлекать на 30% больше пользователей   \n",
       "7              Добавить форму подписки на все основные страницы, чтобы собрать базу клиентов для email-рассылок   \n",
       "6          Показать на главной странице баннеры с актуальными акциями и распродажами, чтобы увеличить конверсию   \n",
       "2  Добавить блоки рекомендаций товаров на сайт интернет магазина, чтобы повысить конверсию и средний чек заказа   \n",
       "1                                     Запустить собственную службу доставки, что сократит срок доставки заказов   \n",
       "5                      Добавить страницу отзывов клиентов о магазине, что позволит увеличить количество заказов   \n",
       "3           Изменить структура категорий, что увеличит конверсию, т.к. пользователи быстрее найдут нужный товар   \n",
       "4                              Изменить цвет фона главной страницы, чтобы увеличить вовлеченность пользователей   \n",
       "\n",
       "     ICE  \n",
       "8  16.20  \n",
       "0  13.33  \n",
       "7  11.20  \n",
       "6   8.00  \n",
       "2   7.00  \n",
       "1   2.00  \n",
       "5   1.33  \n",
       "3   1.12  \n",
       "4   1.00  "
      ]
     },
     "execution_count": 20,
     "metadata": {},
     "output_type": "execute_result"
    }
   ],
   "source": [
    "#Выведем гипотезы и оценки ICE для них в порядке убывания\n",
    "hypothesis[['hypothesis','ICE']].sort_values('ICE', ascending=False)"
   ]
  },
  {
   "cell_type": "markdown",
   "metadata": {},
   "source": [
    "Наиболее перспективными гипотезами являются гипотезы под номерами:\n",
    "- 8 - Запустить акцию, дающую скидку на товар в день рождения\t\n",
    "- 0 - Добавить два новых канала привлечения трафика, что позволит привлекать на 30% больше пользователей\n",
    "- 7 - Добавить форму подписки на все основные страницы, чтобы собрать базу клиентов для email-рассылок\n",
    "- 6 - Показать на главной странице баннеры с актуальными акциями и распродажами, чтобы увеличить конверсию\n"
   ]
  },
  {
   "cell_type": "markdown",
   "metadata": {},
   "source": [
    "#### Фреймворк RICE"
   ]
  },
  {
   "cell_type": "code",
   "execution_count": 21,
   "metadata": {},
   "outputs": [],
   "source": [
    "#Добавим в наш датасет с гипотезами столбец с расчитаной оценкой RICE \n",
    "hypothesis['RICE'] =  hypothesis['reach'] * hypothesis['impact'] *  hypothesis['confidence'] /  hypothesis['efforts']"
   ]
  },
  {
   "cell_type": "code",
   "execution_count": 22,
   "metadata": {},
   "outputs": [
    {
     "data": {
      "text/html": [
       "<div>\n",
       "<style scoped>\n",
       "    .dataframe tbody tr th:only-of-type {\n",
       "        vertical-align: middle;\n",
       "    }\n",
       "\n",
       "    .dataframe tbody tr th {\n",
       "        vertical-align: top;\n",
       "    }\n",
       "\n",
       "    .dataframe thead th {\n",
       "        text-align: right;\n",
       "    }\n",
       "</style>\n",
       "<table border=\"1\" class=\"dataframe\">\n",
       "  <thead>\n",
       "    <tr style=\"text-align: right;\">\n",
       "      <th></th>\n",
       "      <th>hypothesis</th>\n",
       "      <th>RICE</th>\n",
       "    </tr>\n",
       "  </thead>\n",
       "  <tbody>\n",
       "    <tr>\n",
       "      <th>7</th>\n",
       "      <td>Добавить форму подписки на все основные страницы, чтобы собрать базу клиентов для email-рассылок</td>\n",
       "      <td>112.0</td>\n",
       "    </tr>\n",
       "    <tr>\n",
       "      <th>2</th>\n",
       "      <td>Добавить блоки рекомендаций товаров на сайт интернет магазина, чтобы повысить конверсию и средний чек заказа</td>\n",
       "      <td>56.0</td>\n",
       "    </tr>\n",
       "    <tr>\n",
       "      <th>0</th>\n",
       "      <td>Добавить два новых канала привлечения трафика, что позволит привлекать на 30% больше пользователей</td>\n",
       "      <td>40.0</td>\n",
       "    </tr>\n",
       "    <tr>\n",
       "      <th>6</th>\n",
       "      <td>Показать на главной странице баннеры с актуальными акциями и распродажами, чтобы увеличить конверсию</td>\n",
       "      <td>40.0</td>\n",
       "    </tr>\n",
       "    <tr>\n",
       "      <th>8</th>\n",
       "      <td>Запустить акцию, дающую скидку на товар в день рождения</td>\n",
       "      <td>16.2</td>\n",
       "    </tr>\n",
       "    <tr>\n",
       "      <th>3</th>\n",
       "      <td>Изменить структура категорий, что увеличит конверсию, т.к. пользователи быстрее найдут нужный товар</td>\n",
       "      <td>9.0</td>\n",
       "    </tr>\n",
       "    <tr>\n",
       "      <th>1</th>\n",
       "      <td>Запустить собственную службу доставки, что сократит срок доставки заказов</td>\n",
       "      <td>4.0</td>\n",
       "    </tr>\n",
       "    <tr>\n",
       "      <th>5</th>\n",
       "      <td>Добавить страницу отзывов клиентов о магазине, что позволит увеличить количество заказов</td>\n",
       "      <td>4.0</td>\n",
       "    </tr>\n",
       "    <tr>\n",
       "      <th>4</th>\n",
       "      <td>Изменить цвет фона главной страницы, чтобы увеличить вовлеченность пользователей</td>\n",
       "      <td>3.0</td>\n",
       "    </tr>\n",
       "  </tbody>\n",
       "</table>\n",
       "</div>"
      ],
      "text/plain": [
       "                                                                                                     hypothesis  \\\n",
       "7              Добавить форму подписки на все основные страницы, чтобы собрать базу клиентов для email-рассылок   \n",
       "2  Добавить блоки рекомендаций товаров на сайт интернет магазина, чтобы повысить конверсию и средний чек заказа   \n",
       "0            Добавить два новых канала привлечения трафика, что позволит привлекать на 30% больше пользователей   \n",
       "6          Показать на главной странице баннеры с актуальными акциями и распродажами, чтобы увеличить конверсию   \n",
       "8                                                       Запустить акцию, дающую скидку на товар в день рождения   \n",
       "3           Изменить структура категорий, что увеличит конверсию, т.к. пользователи быстрее найдут нужный товар   \n",
       "1                                     Запустить собственную службу доставки, что сократит срок доставки заказов   \n",
       "5                      Добавить страницу отзывов клиентов о магазине, что позволит увеличить количество заказов   \n",
       "4                              Изменить цвет фона главной страницы, чтобы увеличить вовлеченность пользователей   \n",
       "\n",
       "    RICE  \n",
       "7  112.0  \n",
       "2   56.0  \n",
       "0   40.0  \n",
       "6   40.0  \n",
       "8   16.2  \n",
       "3    9.0  \n",
       "1    4.0  \n",
       "5    4.0  \n",
       "4    3.0  "
      ]
     },
     "execution_count": 22,
     "metadata": {},
     "output_type": "execute_result"
    }
   ],
   "source": [
    "#Выведем гипотезы и оценки RICE для них в порядке убывания\n",
    "hypothesis[['hypothesis','RICE']].sort_values('RICE', ascending=False)"
   ]
  },
  {
   "cell_type": "markdown",
   "metadata": {},
   "source": [
    "**Выводы:**\n",
    "\n",
    "При оценке гипотез фреймворком RICE наиболее перспективными гипотезами стали: `7, 2, 0, 6`. Если сравнивать полученные результаты с результатами, которые были получениы при оценке за счет фреймворка ICE, то список успешных гипотез изменился только на одну - это вторая гипотеза. Смещение гипотезы №8 произошло из - за слишком малого охвата пользователей (всего лишь 1 из 10), в то время, как у гипотезы №2 охват был оценен, как 8 из 10. Также самой успешной гипотезой стала седьмая за счет максимальной оценки показателя 'Reach'.\n",
    "Получившийся список наиболее успешных гипотез (гипотеза - оценка) с учетом того, что нам важен охват пользователей:\n",
    "- Добавить форму подписки на все основные страницы, чтобы собрать базу клиентов для email-рассылок - 112\n",
    "- Добавить блоки рекомендаций товаров на сайт интернет магазина, чтобы повысить конверсию и средний чек заказа - 56\n",
    "- Добавить два новых канала привлечения трафика, что позволит привлекать на 30% больше пользователей -  40\n",
    "- Показать на главной странице баннеры с актуальными акциями и распродажами, чтобы увеличить конверсию - 40"
   ]
  },
  {
   "cell_type": "markdown",
   "metadata": {},
   "source": [
    "### Анализ A/B-теста"
   ]
  },
  {
   "cell_type": "markdown",
   "metadata": {},
   "source": [
    "#### Датасет с кумулятивными данными"
   ]
  },
  {
   "cell_type": "markdown",
   "metadata": {},
   "source": [
    "Для начала проверим есть ли пользователи, которые попадают в обе группы разом. Ведь если показы накладываются друг на друга, это может исказить результаты."
   ]
  },
  {
   "cell_type": "code",
   "execution_count": 23,
   "metadata": {
    "scrolled": false
   },
   "outputs": [],
   "source": [
    "#Напишем цикл, который обнаружит пользователей, которые попали в обе группы A/B - тестирования\n",
    "povtor_us = orders.pivot_table(index=['visitorId', 'group'])\n",
    "userAB = []\n",
    "for _ in range(len(povtor_us)):\n",
    "    if povtor_us.index[_][0] == povtor_us.index[_ - 1][0]:\n",
    "        if povtor_us.index[_][1]!=povtor_us.index[_ - 1][1]:\n",
    "            userAB.append(povtor_us.index[_][0])"
   ]
  },
  {
   "cell_type": "code",
   "execution_count": 24,
   "metadata": {
    "scrolled": false
   },
   "outputs": [
    {
     "data": {
      "text/plain": [
       "1031"
      ]
     },
     "execution_count": 24,
     "metadata": {},
     "output_type": "execute_result"
    }
   ],
   "source": [
    "#Посчитаем уникальных пользователей, которые сделали заказ\n",
    "orders['visitorId'].nunique()"
   ]
  },
  {
   "cell_type": "code",
   "execution_count": 25,
   "metadata": {
    "scrolled": true
   },
   "outputs": [
    {
     "data": {
      "text/plain": [
       "58"
      ]
     },
     "execution_count": 25,
     "metadata": {},
     "output_type": "execute_result"
    }
   ],
   "source": [
    "#Посчитаем этих пользователей\n",
    "pd.Series(userAB).count()"
   ]
  },
  {
   "cell_type": "markdown",
   "metadata": {},
   "source": [
    "Получилось 58 пользователей"
   ]
  },
  {
   "cell_type": "code",
   "execution_count": 26,
   "metadata": {
    "scrolled": true
   },
   "outputs": [
    {
     "data": {
      "text/plain": [
       "5.63"
      ]
     },
     "execution_count": 26,
     "metadata": {},
     "output_type": "execute_result"
    }
   ],
   "source": [
    "round(pd.Series(userAB).count() / orders['visitorId'].nunique() * 100, 2)"
   ]
  },
  {
   "cell_type": "markdown",
   "metadata": {},
   "source": [
    "Процент пользователей, которые попали в две группы A/B - теста одновременно составил 5.63% - это довольно много, такой процент говорит нам о том, что результаты нашего анализа могут быть искажены (но вряд ли значительно). Информацию об этом необходимо будет передать специалистам, проводившим A/B - тестирование."
   ]
  },
  {
   "cell_type": "code",
   "execution_count": 27,
   "metadata": {},
   "outputs": [],
   "source": [
    "# создаем массив уникальных пар значений дат и групп теста\n",
    "datesGroups = orders[['date','group']].drop_duplicates() "
   ]
  },
  {
   "cell_type": "code",
   "execution_count": 28,
   "metadata": {},
   "outputs": [],
   "source": [
    "#Агрегированные кумулятивные по дням данные о заказах в интернет-магазине: \n",
    "ordersAggregated = datesGroups.apply(lambda x: orders[np.logical_and(orders['date'] <= x['date'], orders['group'] == x['group'])]\\\n",
    ".agg({'date' : 'max', 'group' : 'max', 'transactionId' : 'nunique', 'visitorId' : 'nunique', 'revenue' : 'sum'}), axis=1).sort_values(by=['date','group'])"
   ]
  },
  {
   "cell_type": "code",
   "execution_count": 29,
   "metadata": {},
   "outputs": [],
   "source": [
    "#Агрегированные кумулятивные по дням данные о посетителях интернет-магазина: \n",
    "visitorsAggregated = datesGroups.apply(\n",
    "    lambda x: visitors[np.logical_and(visitors['date'] <= x['date'], visitors['group'] == x['group'])].agg(\n",
    "        {'date' : 'max', 'group' : 'max', 'visitors' : 'sum'}), axis=1).sort_values(by=['date','group'])"
   ]
  },
  {
   "cell_type": "code",
   "execution_count": 30,
   "metadata": {},
   "outputs": [
    {
     "data": {
      "text/html": [
       "<div>\n",
       "<style scoped>\n",
       "    .dataframe tbody tr th:only-of-type {\n",
       "        vertical-align: middle;\n",
       "    }\n",
       "\n",
       "    .dataframe tbody tr th {\n",
       "        vertical-align: top;\n",
       "    }\n",
       "\n",
       "    .dataframe thead th {\n",
       "        text-align: right;\n",
       "    }\n",
       "</style>\n",
       "<table border=\"1\" class=\"dataframe\">\n",
       "  <thead>\n",
       "    <tr style=\"text-align: right;\">\n",
       "      <th></th>\n",
       "      <th>date</th>\n",
       "      <th>group</th>\n",
       "      <th>orders</th>\n",
       "      <th>buyers</th>\n",
       "      <th>revenue</th>\n",
       "      <th>visitors</th>\n",
       "    </tr>\n",
       "  </thead>\n",
       "  <tbody>\n",
       "    <tr>\n",
       "      <th>0</th>\n",
       "      <td>2019-08-01</td>\n",
       "      <td>A</td>\n",
       "      <td>24</td>\n",
       "      <td>20</td>\n",
       "      <td>148579</td>\n",
       "      <td>719</td>\n",
       "    </tr>\n",
       "    <tr>\n",
       "      <th>1</th>\n",
       "      <td>2019-08-01</td>\n",
       "      <td>B</td>\n",
       "      <td>21</td>\n",
       "      <td>20</td>\n",
       "      <td>101217</td>\n",
       "      <td>713</td>\n",
       "    </tr>\n",
       "    <tr>\n",
       "      <th>2</th>\n",
       "      <td>2019-08-02</td>\n",
       "      <td>A</td>\n",
       "      <td>44</td>\n",
       "      <td>38</td>\n",
       "      <td>242401</td>\n",
       "      <td>1338</td>\n",
       "    </tr>\n",
       "    <tr>\n",
       "      <th>3</th>\n",
       "      <td>2019-08-02</td>\n",
       "      <td>B</td>\n",
       "      <td>45</td>\n",
       "      <td>43</td>\n",
       "      <td>266748</td>\n",
       "      <td>1294</td>\n",
       "    </tr>\n",
       "    <tr>\n",
       "      <th>4</th>\n",
       "      <td>2019-08-03</td>\n",
       "      <td>A</td>\n",
       "      <td>68</td>\n",
       "      <td>62</td>\n",
       "      <td>354874</td>\n",
       "      <td>1845</td>\n",
       "    </tr>\n",
       "  </tbody>\n",
       "</table>\n",
       "</div>"
      ],
      "text/plain": [
       "        date group  orders  buyers  revenue  visitors\n",
       "0 2019-08-01     A      24      20   148579       719\n",
       "1 2019-08-01     B      21      20   101217       713\n",
       "2 2019-08-02     A      44      38   242401      1338\n",
       "3 2019-08-02     B      45      43   266748      1294\n",
       "4 2019-08-03     A      68      62   354874      1845"
      ]
     },
     "execution_count": 30,
     "metadata": {},
     "output_type": "execute_result"
    }
   ],
   "source": [
    "#Объединяем кумулятивные данные в одной таблице и присваиваем ее столбцам понятные названия\n",
    "cumulativeData = ordersAggregated.merge(visitorsAggregated, left_on=['date', 'group'], right_on=['date', 'group'])\n",
    "cumulativeData.columns = ['date', 'group', 'orders', 'buyers', 'revenue', 'visitors']\n",
    "\n",
    "cumulativeData.head() "
   ]
  },
  {
   "cell_type": "markdown",
   "metadata": {},
   "source": [
    "#### График кумулятивной выручки по группам"
   ]
  },
  {
   "cell_type": "code",
   "execution_count": 31,
   "metadata": {
    "scrolled": false
   },
   "outputs": [
    {
     "data": {
      "text/plain": [
       "<matplotlib.legend.Legend at 0x146089f6af0>"
      ]
     },
     "execution_count": 31,
     "metadata": {},
     "output_type": "execute_result"
    },
    {
     "data": {
      "image/png": "[encoded data removed]",
      "text/plain": [
       "<Figure size 720x504 with 1 Axes>"
      ]
     },
     "metadata": {
      "needs_background": "light"
     },
     "output_type": "display_data"
    }
   ],
   "source": [
    "# датафрейм с кумулятивным количеством заказов и кумулятивной выручкой по дням в группе А\n",
    "cumulativeRevenueA = cumulativeData[cumulativeData['group']=='A'][['date','revenue', 'orders']]\n",
    "\n",
    "# датафрейм с кумулятивным количеством заказов и кумулятивной выручкой по дням в группе B\n",
    "cumulativeRevenueB = cumulativeData[cumulativeData['group']=='B'][['date','revenue', 'orders']]\n",
    "\n",
    "fig, ax = plt.subplots()\n",
    "# Строим график выручки группы А\n",
    "plt.plot(cumulativeRevenueA['date'], cumulativeRevenueA['revenue'], label='A')\n",
    "\n",
    "# Строим график выручки группы B\n",
    "plt.plot(cumulativeRevenueB['date'], cumulativeRevenueB['revenue'], label='B')\n",
    "\n",
    "#Добавляем сетку\n",
    "ax.grid()\n",
    "\n",
    "#Подписываем оси\n",
    "ax.set_xlabel('Дата')\n",
    "ax.set_ylabel('Выручка')\n",
    "\n",
    "#Устанавливаем размеры графика\n",
    "fig.set_figwidth(10)\n",
    "fig.set_figheight(7)\n",
    "#Устанавливаем масштаб оси x\n",
    "ax.margins(x=0.2)\n",
    "\n",
    "#Добавляем заголовок графику\n",
    "ax.set_title('График кумулятивной выручки по группам',\n",
    "                fontfamily = 'monospace',\n",
    "                fontstyle = 'normal',\n",
    "                fontsize = 15)\n",
    "#Выводим легенду\n",
    "plt.legend() "
   ]
  },
  {
   "cell_type": "markdown",
   "metadata": {},
   "source": [
    "Выручка почти равномерно увеличивается в течение всего теста за исключением одного периода, на графике видно, как произошел резкий всплеск выручки у группы B. Это может сигнализировать о всплесках числа заказов в группе B, либо о появлении очень дорогих заказов."
   ]
  },
  {
   "cell_type": "markdown",
   "metadata": {},
   "source": [
    "#### График кумулятивного среднего чека по группам"
   ]
  },
  {
   "cell_type": "code",
   "execution_count": 32,
   "metadata": {},
   "outputs": [
    {
     "data": {
      "text/plain": [
       "<matplotlib.legend.Legend at 0x14609899820>"
      ]
     },
     "execution_count": 32,
     "metadata": {},
     "output_type": "execute_result"
    },
    {
     "data": {
      "image/png": "[encoded data removed]",
      "text/plain": [
       "<Figure size 720x504 with 1 Axes>"
      ]
     },
     "metadata": {
      "needs_background": "light"
     },
     "output_type": "display_data"
    }
   ],
   "source": [
    "fig, ax = plt.subplots()\n",
    "plt.plot(cumulativeRevenueA['date'], cumulativeRevenueA['revenue']/cumulativeRevenueA['orders'], label='A')\n",
    "plt.plot(cumulativeRevenueB['date'], cumulativeRevenueB['revenue']/cumulativeRevenueB['orders'], label='B')\n",
    "\n",
    "#Добавляем сетку\n",
    "ax.grid()\n",
    "\n",
    "#Подписываем оси\n",
    "ax.set_xlabel('Дата')\n",
    "ax.set_ylabel('Среднее значение чека')\n",
    "\n",
    "#Устанавливаем размеры графика\n",
    "fig.set_figwidth(10)\n",
    "fig.set_figheight(7)\n",
    "#Устанавливаем масштаб оси x\n",
    "ax.margins(x=0.2)\n",
    "\n",
    "#Добавляем заголовок графику\n",
    "ax.set_title('График кумулятивного среднего чека по группам',\n",
    "                fontfamily = 'monospace',\n",
    "                fontstyle = 'normal',\n",
    "                fontsize = 15)\n",
    "#Выводим легенду\n",
    "plt.legend() "
   ]
  },
  {
   "cell_type": "markdown",
   "metadata": {},
   "source": [
    "Средний чек тоже становится равномерным ближе к концу теста: установился для группы A, для группы B не все так однозначно.\n",
    "В середине теста также заметен резкий всплеск роста среднего чека в группе B, после чего средняя начала падать, скорее всего ей нужно больше данных, чтобы прийти к реальному среднему чеку и установиться на его уровне после такого резкого скачка."
   ]
  },
  {
   "cell_type": "markdown",
   "metadata": {},
   "source": [
    "#### График относительного изменения кумулятивного среднего чека группы B к группе A"
   ]
  },
  {
   "cell_type": "code",
   "execution_count": 33,
   "metadata": {},
   "outputs": [
    {
     "data": {
      "text/plain": [
       "Text(0.5, 1.0, 'График относительного изменения кумулятивного среднего чека группы B к группе A')"
      ]
     },
     "execution_count": 33,
     "metadata": {},
     "output_type": "execute_result"
    },
    {
     "data": {
      "image/png": "[encoded data removed]",
      "text/plain": [
       "<Figure size 720x504 with 1 Axes>"
      ]
     },
     "metadata": {
      "needs_background": "light"
     },
     "output_type": "display_data"
    }
   ],
   "source": [
    "# собираем данные в одном датафрейме\n",
    "mergedCumulativeRevenue = cumulativeRevenueA.merge(cumulativeRevenueB, left_on='date', right_on='date', how='left', suffixes=['A', 'B'])\n",
    "\n",
    "fig, ax = plt.subplots()\n",
    "\n",
    "# cтроим отношение средних чеков\n",
    "plt.plot(mergedCumulativeRevenue['date'], (mergedCumulativeRevenue['revenueB']/mergedCumulativeRevenue['ordersB'])/(mergedCumulativeRevenue['revenueA']/mergedCumulativeRevenue['ordersA'])-1)\n",
    "\n",
    "\n",
    "# добавляем ось X\n",
    "plt.axhline(y=0, color='black', linestyle='--')\n",
    "\n",
    "\n",
    "\n",
    "#Добавляем сетку\n",
    "ax.grid()\n",
    "\n",
    "#Подписываем оси\n",
    "ax.set_xlabel('Дата')\n",
    "ax.set_ylabel('Отношение B к A')\n",
    "\n",
    "#Устанавливаем размеры графика\n",
    "fig.set_figwidth(10)\n",
    "fig.set_figheight(7)\n",
    "#Устанавливаем масштаб оси x\n",
    "ax.margins(x=0.2)\n",
    "\n",
    "#Добавляем заголовок графику\n",
    "ax.set_title('График относительного изменения кумулятивного среднего чека группы B к группе A',\n",
    "                fontfamily = 'monospace',\n",
    "                fontstyle = 'normal',\n",
    "                fontsize = 12)\n"
   ]
  },
  {
   "cell_type": "markdown",
   "metadata": {},
   "source": [
    "В нескольких точках на графике мы можем наблюдать различие между сегментами (резкие скачки). Скорее всего это связанно с крупными заказами и выбросами."
   ]
  },
  {
   "cell_type": "markdown",
   "metadata": {},
   "source": [
    "#### График кумулятивного среднего количества заказов на посетителя по группам"
   ]
  },
  {
   "cell_type": "code",
   "execution_count": 34,
   "metadata": {
    "scrolled": false
   },
   "outputs": [
    {
     "data": {
      "text/plain": [
       "<matplotlib.legend.Legend at 0x1460958c9d0>"
      ]
     },
     "execution_count": 34,
     "metadata": {},
     "output_type": "execute_result"
    },
    {
     "data": {
      "image/png": "[encoded data removed]",
      "text/plain": [
       "<Figure size 720x504 with 1 Axes>"
      ]
     },
     "metadata": {
      "needs_background": "light"
     },
     "output_type": "display_data"
    }
   ],
   "source": [
    "# считаем кумулятивную конверсию\n",
    "cumulativeData['conversion'] = cumulativeData['orders']/cumulativeData['visitors']\n",
    "\n",
    "# отделяем данные по группе A\n",
    "cumulativeDataA = cumulativeData[cumulativeData['group']=='A']\n",
    "\n",
    "# отделяем данные по группе B\n",
    "cumulativeDataB = cumulativeData[cumulativeData['group']=='B']\n",
    "\n",
    "# строим графики\n",
    "fig, ax = plt.subplots()\n",
    "\n",
    "plt.plot(cumulativeDataA['date'], cumulativeDataA['conversion'], label='A')\n",
    "plt.plot(cumulativeDataB['date'], cumulativeDataB['conversion'], label='B')\n",
    "plt.legend()\n",
    "\n",
    "\n",
    "#Добавляем сетку\n",
    "ax.grid()\n",
    "\n",
    "#Подписываем оси\n",
    "ax.set_xlabel('Дата')\n",
    "ax.set_ylabel('Конверсия')\n",
    "\n",
    "#Устанавливаем размеры графика\n",
    "fig.set_figwidth(10)\n",
    "fig.set_figheight(7)\n",
    "#Устанавливаем масштаб оси x\n",
    "ax.margins(x=0.2)\n",
    "\n",
    "#Добавляем заголовок графику\n",
    "ax.set_title('График кумулятивного среднего количества заказов на посетителя по группам',\n",
    "                fontfamily = 'monospace',\n",
    "                fontstyle = 'normal',\n",
    "                fontsize = 12)\n",
    "#Выводим легенду\n",
    "plt.legend() "
   ]
  },
  {
   "cell_type": "markdown",
   "metadata": {},
   "source": [
    "Группы колебались около одного значения, но затем конверсия группы B вырвалась вперёд, но начала падать, фиксации результатов не наблюдается, а конверсия группы A просела и зафиксировалась."
   ]
  },
  {
   "cell_type": "markdown",
   "metadata": {},
   "source": [
    "#### График относительного изменения кумулятивного среднего количества заказов на посетителя группы B к группе A"
   ]
  },
  {
   "cell_type": "code",
   "execution_count": 35,
   "metadata": {},
   "outputs": [
    {
     "data": {
      "text/plain": [
       "Text(0.5, 1.0, 'График относительного изменения кумулятивного среднего количества заказов на посетителя группы B к группе A')"
      ]
     },
     "execution_count": 35,
     "metadata": {},
     "output_type": "execute_result"
    },
    {
     "data": {
      "image/png": "[encoded data removed]",
      "text/plain": [
       "<Figure size 720x504 with 1 Axes>"
      ]
     },
     "metadata": {
      "needs_background": "light"
     },
     "output_type": "display_data"
    }
   ],
   "source": [
    "mergedCumulativeConversions = cumulativeDataA[['date','conversion']].merge(cumulativeDataB[['date','conversion']], left_on='date', right_on='date', how='left', suffixes=['A', 'B'])\n",
    "\n",
    "fig, ax = plt.subplots()\n",
    "\n",
    "plt.plot(mergedCumulativeConversions['date'], mergedCumulativeConversions['conversionB']/mergedCumulativeConversions['conversionA']-1)\n",
    "\n",
    "plt.axhline(y=0, color='black', linestyle='--')\n",
    "plt.axhline(y=-0.1, color='grey', linestyle='--')\n",
    "\n",
    "#Добавляем сетку\n",
    "ax.grid()\n",
    "\n",
    "#Подписываем оси\n",
    "ax.set_xlabel('Дата')\n",
    "ax.set_ylabel('Отношение B к A')\n",
    "\n",
    "#Устанавливаем размеры графика\n",
    "fig.set_figwidth(10)\n",
    "fig.set_figheight(7)\n",
    "#Устанавливаем масштаб оси x\n",
    "ax.margins(x=0.2)\n",
    "\n",
    "#Добавляем заголовок графику\n",
    "ax.set_title('График относительного изменения кумулятивного среднего количества заказов на посетителя группы B к группе A',\n",
    "                fontfamily = 'monospace',\n",
    "                fontstyle = 'normal',\n",
    "                fontsize = 12)\n"
   ]
  },
  {
   "cell_type": "markdown",
   "metadata": {},
   "source": [
    "В начале теста группа B незначительно проигрывала группе A, затем вырвалась вперёд. Но потом её конверсия начала постепенно падала, но под конец график пошел вверх."
   ]
  },
  {
   "cell_type": "markdown",
   "metadata": {},
   "source": [
    "*Промежуточные выводы:*\n",
    "Отношение изменения кумулятивного среднего количества заказов на посетителя (конверсия) еще не до конца установилась, также об этом нам говорит резкий всплеск в группе B, который мог значительно исказить результы, и на данный момент, конверсия стремится к своему истинному среднему значению (так как равномерного роста или падения не наблюдается)."
   ]
  },
  {
   "cell_type": "markdown",
   "metadata": {},
   "source": [
    "#### Датасет с количеством заказов по пользователям"
   ]
  },
  {
   "cell_type": "code",
   "execution_count": 36,
   "metadata": {},
   "outputs": [
    {
     "name": "stdout",
     "output_type": "stream",
     "text": [
      "          userId  orders\n",
      "1023  4256040402      11\n",
      "591   2458001652      11\n",
      "569   2378935119       9\n",
      "487   2038680547       8\n",
      "44     199603092       5\n",
      "744   3062433592       5\n",
      "55     237748145       5\n",
      "917   3803269165       5\n",
      "299   1230306981       5\n",
      "897   3717692402       5\n"
     ]
    }
   ],
   "source": [
    "ordersByUsers = (\n",
    "    orders.groupby('visitorId', as_index=False)\n",
    "    .agg({'transactionId': 'nunique'})\n",
    ")\n",
    "\n",
    "ordersByUsers.columns = ['userId', 'orders']\n",
    "\n",
    "print(ordersByUsers.sort_values(by='orders', ascending=False).head(10)) "
   ]
  },
  {
   "cell_type": "markdown",
   "metadata": {},
   "source": [
    "#### Точечный график количества заказов по пользователям"
   ]
  },
  {
   "cell_type": "code",
   "execution_count": 37,
   "metadata": {
    "scrolled": true
   },
   "outputs": [
    {
     "data": {
      "text/plain": [
       "Text(0.5, 1.0, 'Точечный график количества заказов по пользователям')"
      ]
     },
     "execution_count": 37,
     "metadata": {},
     "output_type": "execute_result"
    },
    {
     "data": {
      "image/png": "[encoded data removed]",
      "text/plain": [
       "<Figure size 432x288 with 1 Axes>"
      ]
     },
     "metadata": {
      "needs_background": "light"
     },
     "output_type": "display_data"
    }
   ],
   "source": [
    "x_values = pd.Series(range(0,len(ordersByUsers)))\n",
    "\n",
    "fig, ax = plt.subplots()\n",
    "plt.scatter(x_values, ordersByUsers['orders'])\n",
    "\n",
    "#Подписываем оси\n",
    "ax.set_xlabel('Кол - во заказов')\n",
    "ax.set_ylabel('Кол - во заказов на пользователя')\n",
    "ax.set_title('Точечный график количества заказов по пользователям',\n",
    "                fontfamily = 'monospace',\n",
    "                fontstyle = 'normal',\n",
    "                fontsize = 12)"
   ]
  },
  {
   "cell_type": "markdown",
   "metadata": {},
   "source": [
    "На графике мы наблюдаем много пользователей с 2-3 заказами. На этом этапе их точная доля не ясна, для определения их доли и, соответсвенно, считать ли их аномалиями, посчитаем 95-й и 99-й персентили."
   ]
  },
  {
   "cell_type": "markdown",
   "metadata": {},
   "source": [
    "#### 95-й и 99-й перцентили количества заказов на пользователя"
   ]
  },
  {
   "cell_type": "code",
   "execution_count": 38,
   "metadata": {},
   "outputs": [
    {
     "name": "stdout",
     "output_type": "stream",
     "text": [
      "[2. 4.]\n"
     ]
    }
   ],
   "source": [
    "print(np.percentile(ordersByUsers['orders'], [95, 99])) "
   ]
  },
  {
   "cell_type": "markdown",
   "metadata": {},
   "source": [
    "Не более 5% пользователей оформляли больше чем 2  заказа. И 1% пользователей заказывали 4 и более раз. \n",
    "Было бы логично выбрать 2 заказа на одного пользователя за верхнюю границу числа заказов и отсеять аномальных пользователей по ней."
   ]
  },
  {
   "cell_type": "markdown",
   "metadata": {},
   "source": [
    "#### Точечный график стоимостей заказов"
   ]
  },
  {
   "cell_type": "code",
   "execution_count": 39,
   "metadata": {
    "scrolled": true
   },
   "outputs": [
    {
     "data": {
      "text/plain": [
       "Text(0.5, 1.0, 'Точечный график стоимостей заказов')"
      ]
     },
     "execution_count": 39,
     "metadata": {},
     "output_type": "execute_result"
    },
    {
     "data": {
      "image/png": "[encoded data removed]",
      "text/plain": [
       "<Figure size 432x288 with 1 Axes>"
      ]
     },
     "metadata": {
      "needs_background": "light"
     },
     "output_type": "display_data"
    }
   ],
   "source": [
    "x_values = pd.Series(range(0,len(orders['revenue'])))\n",
    "\n",
    "fig, ax = plt.subplots()\n",
    "plt.scatter(x_values, orders['revenue']) \n",
    "\n",
    "ax.set_xlabel('Кол - во заказов')\n",
    "ax.set_ylabel('Стоимость за один заказ')\n",
    "ax.set_title('Точечный график стоимостей заказов',\n",
    "                fontfamily = 'monospace',\n",
    "                fontstyle = 'normal',\n",
    "                fontsize = 12)"
   ]
  },
  {
   "cell_type": "markdown",
   "metadata": {},
   "source": [
    "На графике видно, что были заказы по стоимости около 200 000 рублей и даже выше 1.2 млн. рублей, следует изменить масштаб, чтобы понимать реальную картину без таких аномально больших выбросов."
   ]
  },
  {
   "cell_type": "code",
   "execution_count": 40,
   "metadata": {
    "scrolled": true
   },
   "outputs": [
    {
     "data": {
      "text/plain": [
       "Text(0.5, 1.0, 'Точечный график стоимостей заказов')"
      ]
     },
     "execution_count": 40,
     "metadata": {},
     "output_type": "execute_result"
    },
    {
     "data": {
      "image/png": "[encoded data removed]",
      "text/plain": [
       "<Figure size 432x288 with 1 Axes>"
      ]
     },
     "metadata": {
      "needs_background": "light"
     },
     "output_type": "display_data"
    }
   ],
   "source": [
    "#Выведем все заказазы, сумма которых не превышала 100 000 рублей\n",
    "x_values = pd.Series(range(0,len(orders[orders['revenue'] < 100000])))\n",
    "\n",
    "fig, ax = plt.subplots()\n",
    "plt.scatter(x_values, orders[orders['revenue'] < 100000]['revenue']) \n",
    "\n",
    "\n",
    "ax.set_xlabel('Кол - во заказов')\n",
    "ax.set_ylabel('Стоимость за один заказ')\n",
    "ax.set_title('Точечный график стоимостей заказов',\n",
    "                fontfamily = 'monospace',\n",
    "                fontstyle = 'normal',\n",
    "                fontsize = 12)"
   ]
  },
  {
   "cell_type": "markdown",
   "metadata": {},
   "source": [
    "Из данного графика становится понятно, что основная масса заказов стоит до 40 000 рублей. На этом этапе их точная доля выбросов не ясна, для определения их доли и, соответсвенно, считать ли их аномалиями, посчитаем 95-й и 99-й персентили.\n"
   ]
  },
  {
   "cell_type": "markdown",
   "metadata": {},
   "source": [
    "#### 95-й и 99-й перцентили стоимости заказов"
   ]
  },
  {
   "cell_type": "code",
   "execution_count": 41,
   "metadata": {},
   "outputs": [
    {
     "name": "stdout",
     "output_type": "stream",
     "text": [
      "[28000.  58233.2]\n"
     ]
    }
   ],
   "source": [
    "print(np.percentile(orders['revenue'], [95, 99])) "
   ]
  },
  {
   "cell_type": "markdown",
   "metadata": {},
   "source": [
    "Не более 5% заказов стоят больше чем 28 000 рублей. И 1% заказов стоят больше, чем 58 233 рублей. Было бы логично отобрать заказы, стоимость которых не превышает 28 000 рублей (взять 28 000 за верхний порог и отсеять аномальных пользователей по ней)."
   ]
  },
  {
   "cell_type": "markdown",
   "metadata": {},
   "source": [
    "#### Статистическая значимость различий в среднем количестве заказов на посетителя между группами по «сырым» данным"
   ]
  },
  {
   "cell_type": "markdown",
   "metadata": {},
   "source": [
    "Для начала сформулируем гипотезы. \n",
    "\n",
    "Н0: различий в среднем количестве заказов на посетителя между группами нет.\n",
    "\n",
    "Н1: различия в среднем между группами есть."
   ]
  },
  {
   "cell_type": "code",
   "execution_count": 42,
   "metadata": {},
   "outputs": [
    {
     "data": {
      "text/html": [
       "<div>\n",
       "<style scoped>\n",
       "    .dataframe tbody tr th:only-of-type {\n",
       "        vertical-align: middle;\n",
       "    }\n",
       "\n",
       "    .dataframe tbody tr th {\n",
       "        vertical-align: top;\n",
       "    }\n",
       "\n",
       "    .dataframe thead th {\n",
       "        text-align: right;\n",
       "    }\n",
       "</style>\n",
       "<table border=\"1\" class=\"dataframe\">\n",
       "  <thead>\n",
       "    <tr style=\"text-align: right;\">\n",
       "      <th></th>\n",
       "      <th>date</th>\n",
       "      <th>ordersPerDateA</th>\n",
       "      <th>revenuePerDateA</th>\n",
       "      <th>ordersPerDateB</th>\n",
       "      <th>revenuePerDateB</th>\n",
       "      <th>ordersCummulativeA</th>\n",
       "      <th>revenueCummulativeA</th>\n",
       "      <th>ordersCummulativeB</th>\n",
       "      <th>revenueCummulativeB</th>\n",
       "      <th>visitorsPerDateA</th>\n",
       "      <th>visitorsPerDateB</th>\n",
       "      <th>visitorsCummulativeA</th>\n",
       "      <th>visitorsCummulativeB</th>\n",
       "    </tr>\n",
       "  </thead>\n",
       "  <tbody>\n",
       "    <tr>\n",
       "      <th>0</th>\n",
       "      <td>2019-08-01</td>\n",
       "      <td>24</td>\n",
       "      <td>148579</td>\n",
       "      <td>21</td>\n",
       "      <td>101217</td>\n",
       "      <td>24</td>\n",
       "      <td>148579</td>\n",
       "      <td>21</td>\n",
       "      <td>101217</td>\n",
       "      <td>719</td>\n",
       "      <td>713</td>\n",
       "      <td>719</td>\n",
       "      <td>713</td>\n",
       "    </tr>\n",
       "    <tr>\n",
       "      <th>1</th>\n",
       "      <td>2019-08-02</td>\n",
       "      <td>20</td>\n",
       "      <td>93822</td>\n",
       "      <td>24</td>\n",
       "      <td>165531</td>\n",
       "      <td>44</td>\n",
       "      <td>242401</td>\n",
       "      <td>45</td>\n",
       "      <td>266748</td>\n",
       "      <td>619</td>\n",
       "      <td>581</td>\n",
       "      <td>1338</td>\n",
       "      <td>1294</td>\n",
       "    </tr>\n",
       "    <tr>\n",
       "      <th>2</th>\n",
       "      <td>2019-08-03</td>\n",
       "      <td>24</td>\n",
       "      <td>112473</td>\n",
       "      <td>16</td>\n",
       "      <td>114248</td>\n",
       "      <td>68</td>\n",
       "      <td>354874</td>\n",
       "      <td>61</td>\n",
       "      <td>380996</td>\n",
       "      <td>507</td>\n",
       "      <td>509</td>\n",
       "      <td>1845</td>\n",
       "      <td>1803</td>\n",
       "    </tr>\n",
       "    <tr>\n",
       "      <th>3</th>\n",
       "      <td>2019-08-04</td>\n",
       "      <td>16</td>\n",
       "      <td>70825</td>\n",
       "      <td>17</td>\n",
       "      <td>108571</td>\n",
       "      <td>84</td>\n",
       "      <td>425699</td>\n",
       "      <td>78</td>\n",
       "      <td>489567</td>\n",
       "      <td>717</td>\n",
       "      <td>770</td>\n",
       "      <td>2562</td>\n",
       "      <td>2573</td>\n",
       "    </tr>\n",
       "    <tr>\n",
       "      <th>4</th>\n",
       "      <td>2019-08-05</td>\n",
       "      <td>25</td>\n",
       "      <td>124218</td>\n",
       "      <td>23</td>\n",
       "      <td>92428</td>\n",
       "      <td>109</td>\n",
       "      <td>549917</td>\n",
       "      <td>101</td>\n",
       "      <td>581995</td>\n",
       "      <td>756</td>\n",
       "      <td>707</td>\n",
       "      <td>3318</td>\n",
       "      <td>3280</td>\n",
       "    </tr>\n",
       "  </tbody>\n",
       "</table>\n",
       "</div>"
      ],
      "text/plain": [
       "        date  ordersPerDateA  revenuePerDateA  ordersPerDateB  \\\n",
       "0 2019-08-01              24           148579              21   \n",
       "1 2019-08-02              20            93822              24   \n",
       "2 2019-08-03              24           112473              16   \n",
       "3 2019-08-04              16            70825              17   \n",
       "4 2019-08-05              25           124218              23   \n",
       "\n",
       "   revenuePerDateB  ordersCummulativeA  revenueCummulativeA  \\\n",
       "0           101217                  24               148579   \n",
       "1           165531                  44               242401   \n",
       "2           114248                  68               354874   \n",
       "3           108571                  84               425699   \n",
       "4            92428                 109               549917   \n",
       "\n",
       "   ordersCummulativeB  revenueCummulativeB  visitorsPerDateA  \\\n",
       "0                  21               101217               719   \n",
       "1                  45               266748               619   \n",
       "2                  61               380996               507   \n",
       "3                  78               489567               717   \n",
       "4                 101               581995               756   \n",
       "\n",
       "   visitorsPerDateB  visitorsCummulativeA  visitorsCummulativeB  \n",
       "0               713                   719                   713  \n",
       "1               581                  1338                  1294  \n",
       "2               509                  1845                  1803  \n",
       "3               770                  2562                  2573  \n",
       "4               707                  3318                  3280  "
      ]
     },
     "execution_count": 42,
     "metadata": {},
     "output_type": "execute_result"
    }
   ],
   "source": [
    "#Подготовим все необходимые данные\n",
    "visitorsADaily = visitors[visitors['group'] == 'A'][['date', 'visitors']]\n",
    "visitorsADaily.columns = ['date', 'visitorsPerDateA']\n",
    "\n",
    "visitorsACummulative = visitorsADaily.apply(\n",
    "    lambda x: visitorsADaily[visitorsADaily['date'] <= x['date']].agg(\n",
    "        {'date': 'max', 'visitorsPerDateA': 'sum'}\n",
    "    ),\n",
    "    axis=1,\n",
    ")\n",
    "visitorsACummulative.columns = ['date', 'visitorsCummulativeA']\n",
    "\n",
    "visitorsBDaily = visitors[visitors['group'] == 'B'][['date', 'visitors']]\n",
    "visitorsBDaily.columns = ['date', 'visitorsPerDateB']\n",
    "\n",
    "visitorsBCummulative = visitorsBDaily.apply(\n",
    "    lambda x: visitorsBDaily[visitorsBDaily['date'] <= x['date']].agg(\n",
    "        {'date': 'max', 'visitorsPerDateB': 'sum'}\n",
    "    ),\n",
    "    axis=1,\n",
    ")\n",
    "visitorsBCummulative.columns = ['date', 'visitorsCummulativeB']\n",
    "\n",
    "ordersADaily = (\n",
    "    orders[orders['group'] == 'A'][['date', 'transactionId', 'visitorId', 'revenue']]\n",
    "    .groupby('date', as_index=False)\n",
    "    .agg({'transactionId': pd.Series.nunique, 'revenue': 'sum'})\n",
    ")\n",
    "ordersADaily.columns = ['date', 'ordersPerDateA', 'revenuePerDateA']\n",
    "\n",
    "ordersACummulative = ordersADaily.apply(\n",
    "    lambda x: ordersADaily[ordersADaily['date'] <= x['date']].agg(\n",
    "        {'date': 'max', 'ordersPerDateA': 'sum', 'revenuePerDateA': 'sum'}\n",
    "    ),\n",
    "    axis=1,\n",
    ").sort_values(by=['date'])\n",
    "ordersACummulative.columns = [\n",
    "    'date',\n",
    "    'ordersCummulativeA',\n",
    "    'revenueCummulativeA',\n",
    "]\n",
    "\n",
    "ordersBDaily = (\n",
    "    orders[orders['group'] == 'B'][['date', 'transactionId', 'visitorId', 'revenue']]\n",
    "    .groupby('date', as_index=False)\n",
    "    .agg({'transactionId': pd.Series.nunique, 'revenue': 'sum'})\n",
    ")\n",
    "ordersBDaily.columns = ['date', 'ordersPerDateB', 'revenuePerDateB']\n",
    "\n",
    "ordersBCummulative = ordersBDaily.apply(\n",
    "    lambda x: ordersBDaily[ordersBDaily['date'] <= x['date']].agg(\n",
    "        {'date': 'max', 'ordersPerDateB': 'sum', 'revenuePerDateB': 'sum'}\n",
    "    ),\n",
    "    axis=1,\n",
    ").sort_values(by=['date'])\n",
    "ordersBCummulative.columns = [\n",
    "    'date',\n",
    "    'ordersCummulativeB',\n",
    "    'revenueCummulativeB',\n",
    "]\n",
    "\n",
    "data = (\n",
    "    ordersADaily.merge(\n",
    "        ordersBDaily, left_on='date', right_on='date', how='left'\n",
    "    )\n",
    "    .merge(ordersACummulative, left_on='date', right_on='date', how='left')\n",
    "    .merge(ordersBCummulative, left_on='date', right_on='date', how='left')\n",
    "    .merge(visitorsADaily, left_on='date', right_on='date', how='left')\n",
    "    .merge(visitorsBDaily, left_on='date', right_on='date', how='left')\n",
    "    .merge(visitorsACummulative, left_on='date', right_on='date', how='left')\n",
    "    .merge(visitorsBCummulative, left_on='date', right_on='date', how='left')\n",
    ")\n",
    "\n",
    "#Выведем первые 5 строк для ознакомления\n",
    "data.head(5)"
   ]
  },
  {
   "cell_type": "markdown",
   "metadata": {},
   "source": [
    "- date — дата;\n",
    "- ordersPerDateA — количество заказов в выбранную дату в группе A;\n",
    "- revenuePerDateA — суммарная выручка в выбранную дату в группе A;\n",
    "- ordersPerDateB — количество заказов в выбранную дату в группе B;\n",
    "- revenuePerDateB — суммарная выручка в выбранную дату в группе B;\n",
    "- ordersCummulativeA — суммарное число заказов до выбранной даты включительно в группе A;\n",
    "- revenueCummulativeA — суммарная выручка до выбранной даты включительно в группе A;\n",
    "- ordersCummulativeB — суммарное количество заказов до выбранной даты включительно в группе B;\n",
    "- revenueCummulativeB — суммарная выручка до выбранной даты включительно в группе B;\n",
    "- visitorsPerDateA — количество пользователей в выбранную дату в группе A;\n",
    "- visitorsPerDateB — количество пользователей в выбранную дату в группе B;\n",
    "- visitorsCummulativeA — количество пользователей до выбранной даты включительно в группе A;\n",
    "- visitorsCummulativeB — количество пользователей до выбранной даты включительно в группе B."
   ]
  },
  {
   "cell_type": "code",
   "execution_count": 43,
   "metadata": {},
   "outputs": [],
   "source": [
    "#Переменные, в которых для пользователей, которые заказывали хотя бы 1 раз, указано число совершённых заказов. \n",
    "ordersByUsersA = (\n",
    "    orders[orders['group'] == 'A']\n",
    "    .groupby('visitorId', as_index=False)\n",
    "    .agg({'transactionId': pd.Series.nunique})\n",
    ")\n",
    "ordersByUsersA.columns = ['visitorId', 'orders']\n",
    "\n",
    "ordersByUsersB = (\n",
    "    orders[orders['group'] == 'B']\n",
    "    .groupby('visitorId', as_index=False)\n",
    "    .agg({'transactionId': pd.Series.nunique})\n",
    ")\n",
    "ordersByUsersB.columns = ['visitorId', 'orders']"
   ]
  },
  {
   "cell_type": "code",
   "execution_count": 44,
   "metadata": {
    "scrolled": true
   },
   "outputs": [
    {
     "name": "stdout",
     "output_type": "stream",
     "text": [
      "p-value = 0.017\n",
      "Относительный прирост среднего числа заказов = 0.138\n"
     ]
    }
   ],
   "source": [
    "#Объявим переменные sampleA и sampleB, в которых пользователям из разных групп будет соответствовать количество заказов.\n",
    "#Тем, кто ничего не заказал, будут соответствовать нули.\n",
    "\n",
    "sampleA = pd.concat(\n",
    "    [\n",
    "        ordersByUsersA['orders'],\n",
    "        pd.Series(\n",
    "            0,\n",
    "            index=np.arange(\n",
    "                data['visitorsPerDateA'].sum() - len(ordersByUsersA['orders'])\n",
    "            ),\n",
    "            name='orders',\n",
    "        ),\n",
    "    ],\n",
    "    axis=0,\n",
    ")\n",
    "\n",
    "sampleB = pd.concat(\n",
    "    [\n",
    "        ordersByUsersB['orders'],\n",
    "        pd.Series(\n",
    "            0,\n",
    "            index=np.arange(\n",
    "                data['visitorsPerDateB'].sum() - len(ordersByUsersB['orders'])\n",
    "            ),\n",
    "            name='orders',\n",
    "        ),\n",
    "    ],\n",
    "    axis=0,\n",
    ")\n",
    "#Выведем p-value\n",
    "print(\"p-value = {0:.3f}\".format(stats.mannwhitneyu(sampleA, sampleB)[1]))\n",
    "\n",
    "print(\"Относительный прирост среднего числа заказов = {0:.3f}\".format(sampleB.mean() / sampleA.mean() - 1))"
   ]
  },
  {
   "cell_type": "markdown",
   "metadata": {},
   "source": [
    "p-value = 0.017\n",
    "\n",
    "Относительный прирост среднего числа заказов = 0.138\n",
    "\n",
    "p-value = 0.017, меньше 0.05. Значит, нулевую гипотезу о том, что статистически значимых различий в среднем числе заказов между группами нет, отвергаем. Также относительный выигрыш группы B равен 13.8%.\n",
    "\n",
    "*Вывод*: По «сырым» данным есть различия между группами A и B, причем, положительная разница в размере 13.8% наблюдается в сторону группы B."
   ]
  },
  {
   "cell_type": "markdown",
   "metadata": {},
   "source": [
    "#### Статистическая значимость различий в среднем чеке заказа между группами по «сырым» данным"
   ]
  },
  {
   "cell_type": "markdown",
   "metadata": {},
   "source": [
    "Для начала сформулируем гипотезы.\n",
    "\n",
    "H0: различий в среднем чеке между группами нет\n",
    "    \n",
    "H1: различия в среднем чеке между группами есть"
   ]
  },
  {
   "cell_type": "code",
   "execution_count": 45,
   "metadata": {},
   "outputs": [
    {
     "name": "stdout",
     "output_type": "stream",
     "text": [
      "p-value = 0.729\n",
      "Относительный прирост значения среднего чека =  0.259\n"
     ]
    }
   ],
   "source": [
    "print('p-value = {0:.3f}'.format(stats.mannwhitneyu(orders[orders['group']=='A']['revenue'], orders[orders['group']=='B']['revenue'])[1]))\n",
    "print('Относительный прирост значения среднего чека =  {0:.3f}'.format(orders[orders['group']=='B']['revenue'].mean()/orders[orders['group']=='A']['revenue'].mean()-1))"
   ]
  },
  {
   "cell_type": "markdown",
   "metadata": {},
   "source": [
    "p-value = 0.729\n",
    "\n",
    "Относительный прирост значения среднего чека =  0.259\n",
    "\n",
    "p-value = 0.729, больше 0.05. Значит, причин отвергать нулевую гипотезу и считать, что в среднем чеке есть различия, нет. Относительная разница между средним чеком группы B и группы А составляет 25.9%.\n",
    "\n",
    "Вывод: По «сырым» данным различий в среднем чеке заказов групп A и B нет. Относительный выигрыш группы B равен 25.9% Вероятнее всего различие было получено случайным образом."
   ]
  },
  {
   "cell_type": "markdown",
   "metadata": {},
   "source": [
    "#### Статистическая значимость различий в среднем количестве заказов на посетителя между группами по «очищенным» данным"
   ]
  },
  {
   "cell_type": "markdown",
   "metadata": {},
   "source": [
    "Примем за аномальных пользователей тех, кто совершил от 3 заказов или совершил заказ дороже 28 000 рублей. Так мы уберём 5% пользователей с наибольшим числом заказов и от 1% до 5% пользователей с дорогими заказами. Сделаем срезы пользователей с числом заказов больше 2 — usersWithManyOrders и пользователей, совершивших заказы дороже 28 000 — usersWithExpensiveOrders. Объединим их в таблице abnormalUsers. "
   ]
  },
  {
   "cell_type": "code",
   "execution_count": 46,
   "metadata": {},
   "outputs": [
    {
     "name": "stdout",
     "output_type": "stream",
     "text": [
      "1099    148427295\n",
      "18      199603092\n",
      "928     204675465\n",
      "23      237748145\n",
      "37      249864742\n",
      "Name: visitorId, dtype: int64\n",
      "74\n"
     ]
    }
   ],
   "source": [
    "usersWithManyOrders = pd.concat(\n",
    "    [\n",
    "        ordersByUsersA[ordersByUsersA['orders'] > np.percentile(ordersByUsers['orders'], [95, 99])[0]]['visitorId'],\n",
    "        ordersByUsersB[ordersByUsersB['orders'] > np.percentile(ordersByUsers['orders'], [95, 99])[0]]['visitorId'],\n",
    "    ],\n",
    "    axis=0,\n",
    ")\n",
    "usersWithExpensiveOrders = orders[orders['revenue'] > np.percentile(orders['revenue'], [95, 99])[0]]['visitorId']\n",
    "abnormalUsers = (\n",
    "    pd.concat([usersWithManyOrders, usersWithExpensiveOrders], axis=0)\n",
    "    .drop_duplicates()\n",
    "    .sort_values()\n",
    ")\n",
    "print(abnormalUsers.head(5))\n",
    "print(abnormalUsers.shape[0])"
   ]
  },
  {
   "cell_type": "markdown",
   "metadata": {},
   "source": [
    "Всего 74 аномальных пользователя. "
   ]
  },
  {
   "cell_type": "markdown",
   "metadata": {},
   "source": [
    "Повторим гипотезы, которые мы проверяем. \n",
    "\n",
    "Н0: различий в среднем количестве заказов на посетителя между группами нет.\n",
    "\n",
    "Н1: различия в среднем между группами есть."
   ]
  },
  {
   "cell_type": "code",
   "execution_count": 47,
   "metadata": {
    "scrolled": true
   },
   "outputs": [
    {
     "name": "stdout",
     "output_type": "stream",
     "text": [
      "p-value = 0.013\n",
      "Относительный прирост среднего числа заказов = 0.173\n"
     ]
    }
   ],
   "source": [
    "#Подготовим очищенные выборки\n",
    "sampleAFiltered = pd.concat(\n",
    "    [\n",
    "        ordersByUsersA[\n",
    "            np.logical_not(ordersByUsersA['visitorId'].isin(abnormalUsers))\n",
    "        ]['orders'],\n",
    "        pd.Series(\n",
    "            0,\n",
    "            index=np.arange(\n",
    "                data['visitorsPerDateA'].sum() - len(ordersByUsersA['orders'])\n",
    "            ),\n",
    "            name='orders',\n",
    "        ),\n",
    "    ],\n",
    "    axis=0,\n",
    ")\n",
    "\n",
    "sampleBFiltered = pd.concat(\n",
    "    [\n",
    "        ordersByUsersB[\n",
    "            np.logical_not(ordersByUsersB['visitorId'].isin(abnormalUsers))\n",
    "        ]['orders'],\n",
    "        pd.Series(\n",
    "            0,\n",
    "            index=np.arange(\n",
    "                data['visitorsPerDateB'].sum() - len(ordersByUsersB['orders'])\n",
    "            ),\n",
    "            name='orders',\n",
    "        ),\n",
    "    ],\n",
    "    axis=0,\n",
    ")\n",
    "\n",
    "#Применим статистический критерий Манна-Уитни \n",
    "print('p-value = {0:.3f}'.format(stats.mannwhitneyu(sampleAFiltered, sampleBFiltered)[1]))\n",
    "print('Относительный прирост среднего числа заказов = {0:.3f}'.format(sampleBFiltered.mean()/sampleAFiltered.mean()-1))\n",
    "\n"
   ]
  },
  {
   "cell_type": "markdown",
   "metadata": {},
   "source": [
    "p-value = 0.013\n",
    "\n",
    "Относительный прирост среднего числа заказов = 0.173\n",
    "\n",
    "Результаты по среднему количеству заказов на пользователя: P-value уменьшился, теперь нулевая гипотеза о равенстве выборок еще дальше от того, чтобы быть правдой. Относительный выигрыш группы B равен уже не 13.8%, а 17.3%.\n",
    "\n",
    "Вывод: По «очищенным» данным есть различия между группами A и B, причем, положительная разница в размере 17.3% наблюдается в сторону группы B."
   ]
  },
  {
   "cell_type": "markdown",
   "metadata": {},
   "source": [
    "#### Статистическая значимость различий в среднем чеке заказа между группами по «очищенным» данным"
   ]
  },
  {
   "cell_type": "markdown",
   "metadata": {},
   "source": [
    "Повторим гипотезы, которые мы проверяем.\n",
    "\n",
    "H0: различий в среднем чеке между группами нет\n",
    "    \n",
    "H1: различия в среднем чеке между группами есть"
   ]
  },
  {
   "cell_type": "code",
   "execution_count": 48,
   "metadata": {},
   "outputs": [
    {
     "name": "stdout",
     "output_type": "stream",
     "text": [
      "p-value = 0.738\n",
      "Относительный прирост значения среднего чека = -0.020\n"
     ]
    }
   ],
   "source": [
    "print(\n",
    "    'p-value = {0:.3f}'.format(\n",
    "        stats.mannwhitneyu(\n",
    "            orders[\n",
    "                np.logical_and(\n",
    "                    orders['group'] == 'A',\n",
    "                    np.logical_not(orders['visitorId'].isin(abnormalUsers)),\n",
    "                )\n",
    "            ]['revenue'],\n",
    "            orders[\n",
    "                np.logical_and(\n",
    "                    orders['group'] == 'B',\n",
    "                    np.logical_not(orders['visitorId'].isin(abnormalUsers)),\n",
    "                )\n",
    "            ]['revenue'],\n",
    "        )[1]\n",
    "    )\n",
    ")\n",
    "\n",
    "print(\n",
    "    \"Относительный прирост значения среднего чека = {0:.3f}\".format(\n",
    "        orders[\n",
    "            np.logical_and(\n",
    "                orders['group'] == 'B',\n",
    "                np.logical_not(orders['visitorId'].isin(abnormalUsers)),\n",
    "            )\n",
    "        ]['revenue'].mean()\n",
    "        / orders[\n",
    "            np.logical_and(\n",
    "                orders['group'] == 'A',\n",
    "                np.logical_not(orders['visitorId'].isin(abnormalUsers)),\n",
    "            )\n",
    "        ]['revenue'].mean()\n",
    "        - 1\n",
    "    )\n",
    ")"
   ]
  },
  {
   "cell_type": "markdown",
   "metadata": {},
   "source": [
    "p-value = 0.738\n",
    "\n",
    "Относительный прирост значения среднего чека = -0.020\n",
    "\n",
    "p-value = 0.738 (после очистки изменился совсем немного), больше 0.05. Значит, причин отвергать нулевую гипотезу и считать, что в среднем чеке есть различия, нет. Относительная разница между средним чеком группы B и группы А составляет -2%.\n",
    "\n",
    "Вывод: По «очищенным» данным различий в среднем чеке заказов групп A и B нет. Относительный выигрыш группы А равен 2%. Вероятнее всего различие было получено случайным образом."
   ]
  },
  {
   "cell_type": "markdown",
   "metadata": {},
   "source": [
    "### Вывод"
   ]
  },
  {
   "cell_type": "markdown",
   "metadata": {},
   "source": [
    "Имеющиеся факты:\n",
    "- Статистически значимые различия есть по среднему количеству заказов между группами по «сырым» и по данным после фильтрации аномалий;\n",
    "- Нет статистически значимого различия по среднему чеку между группами ни по «сырым», ни по данным после фильтрации аномалий, но в \"сырых данных\" относительный выигрыш группы B составил 25.9%, также в очищенных данных относительный выигрыш группы А равен 2%. Вероятнее всего различия были получены случайным образом.\n",
    "- График различия среднего количества заказов между группами сообщает, что результаты группы B лучше группы A, не понятно куда график двинется дальше:"
   ]
  },
  {
   "attachments": {
    "image-2.png": {
     "image/png": "[encoded data removed]"
    }
   },
   "cell_type": "markdown",
   "metadata": {},
   "source": [
    "![image-2.png](attachment:image-2.png)"
   ]
  },
  {
   "cell_type": "markdown",
   "metadata": {},
   "source": [
    "- График различия среднего чека говорит о том, что был резкий положительный рост среднего чека в группе B, но после было заметное падение. Также после падения заметно что график начал стабилизироваться"
   ]
  },
  {
   "attachments": {
    "image-2.png": {
     "image/png": "[encoded data removed]"
    }
   },
   "cell_type": "markdown",
   "metadata": {},
   "source": [
    "![image-2.png](attachment:image-2.png)"
   ]
  },
  {
   "cell_type": "markdown",
   "metadata": {},
   "source": [
    "Исходя из обнаруженных фактов, можно сделать вывод о том, что тест следует продолжить. Есть вероятность, что сегмент B все таки лучше сегмента A, стоит еще понаблюдать, как со временем будет меняться отношение кумулятивного значения среднего чека группы B к группе A, стане ли оно равномерным или продолжит падать."
   ]
  }
 ],
 "metadata": {
  "ExecuteTimeLog": [
   {
    "duration": 78,
    "start_time": "2023-01-25T23:10:16.769Z"
   },
   {
    "duration": 58,
    "start_time": "2023-01-26T09:45:08.849Z"
   },
   {
    "duration": 486,
    "start_time": "2023-01-26T09:45:10.943Z"
   },
   {
    "duration": 422,
    "start_time": "2023-01-26T09:45:31.073Z"
   },
   {
    "duration": 3,
    "start_time": "2023-01-26T09:45:50.799Z"
   },
   {
    "duration": 81,
    "start_time": "2023-01-26T09:45:52.133Z"
   },
   {
    "duration": 12,
    "start_time": "2023-01-26T09:45:54.977Z"
   },
   {
    "duration": 25,
    "start_time": "2023-01-26T09:48:27.587Z"
   },
   {
    "duration": 11,
    "start_time": "2023-01-26T09:48:27.883Z"
   },
   {
    "duration": 81,
    "start_time": "2023-01-26T09:50:04.258Z"
   },
   {
    "duration": 13,
    "start_time": "2023-01-26T09:50:08.807Z"
   },
   {
    "duration": 16,
    "start_time": "2023-01-26T09:50:18.213Z"
   },
   {
    "duration": 11,
    "start_time": "2023-01-26T09:50:32.141Z"
   },
   {
    "duration": 6,
    "start_time": "2023-01-26T09:51:01.645Z"
   },
   {
    "duration": 9,
    "start_time": "2023-01-26T09:51:10.988Z"
   },
   {
    "duration": 68,
    "start_time": "2023-01-26T09:54:22.079Z"
   },
   {
    "duration": 8,
    "start_time": "2023-01-26T09:54:22.659Z"
   },
   {
    "duration": 12,
    "start_time": "2023-01-26T09:54:25.288Z"
   },
   {
    "duration": 5,
    "start_time": "2023-01-26T09:54:31.040Z"
   },
   {
    "duration": 48,
    "start_time": "2023-01-26T09:59:08.166Z"
   },
   {
    "duration": 181,
    "start_time": "2023-01-26T09:59:13.375Z"
   },
   {
    "duration": 3,
    "start_time": "2023-01-26T09:59:28.583Z"
   },
   {
    "duration": 12,
    "start_time": "2023-01-26T09:59:31.469Z"
   },
   {
    "duration": 11,
    "start_time": "2023-01-26T09:59:46.550Z"
   },
   {
    "duration": 9,
    "start_time": "2023-01-26T10:00:45.623Z"
   },
   {
    "duration": 4,
    "start_time": "2023-01-26T10:01:16.134Z"
   },
   {
    "duration": 4,
    "start_time": "2023-01-26T10:05:37.105Z"
   },
   {
    "duration": 10,
    "start_time": "2023-01-26T10:05:45.899Z"
   },
   {
    "duration": 6,
    "start_time": "2023-01-26T10:06:45.932Z"
   },
   {
    "duration": 9,
    "start_time": "2023-01-26T10:06:52.006Z"
   },
   {
    "duration": 4,
    "start_time": "2023-01-26T10:07:00.712Z"
   },
   {
    "duration": 9,
    "start_time": "2023-01-26T10:07:01.076Z"
   },
   {
    "duration": 5,
    "start_time": "2023-01-26T10:19:34.817Z"
   },
   {
    "duration": 11,
    "start_time": "2023-01-26T10:19:35.025Z"
   },
   {
    "duration": 10,
    "start_time": "2023-01-26T10:19:53.771Z"
   },
   {
    "duration": 10,
    "start_time": "2023-01-26T10:20:04.290Z"
   },
   {
    "duration": 5,
    "start_time": "2023-01-26T10:20:36.201Z"
   },
   {
    "duration": 5,
    "start_time": "2023-01-26T10:20:39.593Z"
   },
   {
    "duration": 4,
    "start_time": "2023-01-26T10:20:41.147Z"
   },
   {
    "duration": 9,
    "start_time": "2023-01-26T10:20:41.348Z"
   },
   {
    "duration": 10,
    "start_time": "2023-01-26T10:20:54.818Z"
   },
   {
    "duration": 5,
    "start_time": "2023-01-26T10:34:03.074Z"
   },
   {
    "duration": 9,
    "start_time": "2023-01-26T10:34:36.955Z"
   },
   {
    "duration": 5,
    "start_time": "2023-01-26T10:34:41.326Z"
   },
   {
    "duration": 5,
    "start_time": "2023-01-26T10:34:55.975Z"
   },
   {
    "duration": 6,
    "start_time": "2023-01-26T10:39:18.948Z"
   },
   {
    "duration": 122,
    "start_time": "2023-01-26T10:39:52.325Z"
   },
   {
    "duration": 24,
    "start_time": "2023-01-26T10:40:02.669Z"
   },
   {
    "duration": 167,
    "start_time": "2023-01-26T10:42:36.162Z"
   },
   {
    "duration": 165,
    "start_time": "2023-01-26T10:44:17.554Z"
   },
   {
    "duration": 126,
    "start_time": "2023-01-26T10:44:18.577Z"
   },
   {
    "duration": 11,
    "start_time": "2023-01-26T10:45:07.866Z"
   },
   {
    "duration": 14,
    "start_time": "2023-01-26T10:45:13.481Z"
   },
   {
    "duration": 297,
    "start_time": "2023-01-26T10:45:50.891Z"
   },
   {
    "duration": 185,
    "start_time": "2023-01-26T11:03:41.198Z"
   },
   {
    "duration": 205,
    "start_time": "2023-01-26T11:09:30.624Z"
   },
   {
    "duration": 307,
    "start_time": "2023-01-26T11:09:58.881Z"
   },
   {
    "duration": 367,
    "start_time": "2023-01-26T11:11:07.602Z"
   },
   {
    "duration": 329,
    "start_time": "2023-01-26T11:11:27.626Z"
   },
   {
    "duration": 296,
    "start_time": "2023-01-26T11:11:30.698Z"
   },
   {
    "duration": 9,
    "start_time": "2023-01-26T11:18:58.471Z"
   },
   {
    "duration": 225,
    "start_time": "2023-01-26T11:23:21.171Z"
   },
   {
    "duration": 208,
    "start_time": "2023-01-26T11:23:33.972Z"
   },
   {
    "duration": 13,
    "start_time": "2023-01-26T11:24:48.484Z"
   },
   {
    "duration": 19,
    "start_time": "2023-01-26T11:24:59.142Z"
   },
   {
    "duration": 221,
    "start_time": "2023-01-26T11:25:24.677Z"
   },
   {
    "duration": 219,
    "start_time": "2023-01-26T11:25:49.934Z"
   },
   {
    "duration": 227,
    "start_time": "2023-01-26T11:25:58.473Z"
   },
   {
    "duration": 321,
    "start_time": "2023-01-26T11:27:28.968Z"
   },
   {
    "duration": 299,
    "start_time": "2023-01-26T11:29:38.890Z"
   },
   {
    "duration": 447,
    "start_time": "2023-01-26T11:29:55.428Z"
   },
   {
    "duration": 311,
    "start_time": "2023-01-26T11:30:18.531Z"
   },
   {
    "duration": 288,
    "start_time": "2023-01-26T11:30:30.410Z"
   },
   {
    "duration": 292,
    "start_time": "2023-01-26T11:30:52.482Z"
   },
   {
    "duration": 7,
    "start_time": "2023-01-26T11:57:45.902Z"
   },
   {
    "duration": 133,
    "start_time": "2023-01-26T11:58:14.867Z"
   },
   {
    "duration": 2,
    "start_time": "2023-01-26T11:58:51.605Z"
   },
   {
    "duration": 8,
    "start_time": "2023-01-26T11:59:48.253Z"
   },
   {
    "duration": 77,
    "start_time": "2023-01-26T12:00:43.317Z"
   },
   {
    "duration": 14,
    "start_time": "2023-01-26T12:01:07.094Z"
   },
   {
    "duration": 9,
    "start_time": "2023-01-26T12:02:11.247Z"
   },
   {
    "duration": 10,
    "start_time": "2023-01-26T12:02:30.304Z"
   },
   {
    "duration": 10,
    "start_time": "2023-01-26T12:03:05.899Z"
   },
   {
    "duration": 126,
    "start_time": "2023-01-26T12:03:20.393Z"
   },
   {
    "duration": 5,
    "start_time": "2023-01-26T12:04:14.841Z"
   },
   {
    "duration": 5,
    "start_time": "2023-01-26T12:04:31.186Z"
   },
   {
    "duration": 42,
    "start_time": "2023-01-26T12:04:44.755Z"
   },
   {
    "duration": 118,
    "start_time": "2023-01-26T12:05:00.282Z"
   },
   {
    "duration": 132,
    "start_time": "2023-01-26T12:14:03.149Z"
   },
   {
    "duration": 139,
    "start_time": "2023-01-26T12:14:35.884Z"
   },
   {
    "duration": 151,
    "start_time": "2023-01-26T12:14:58.348Z"
   },
   {
    "duration": 4,
    "start_time": "2023-01-26T12:15:14.346Z"
   },
   {
    "duration": 16,
    "start_time": "2023-01-26T12:16:41.983Z"
   },
   {
    "duration": 19,
    "start_time": "2023-01-26T12:16:59.161Z"
   },
   {
    "duration": 8,
    "start_time": "2023-01-26T12:17:47.869Z"
   },
   {
    "duration": 13,
    "start_time": "2023-01-26T12:18:21.559Z"
   },
   {
    "duration": 121,
    "start_time": "2023-01-26T12:19:18.509Z"
   },
   {
    "duration": 152,
    "start_time": "2023-01-26T12:20:47.947Z"
   },
   {
    "duration": 128,
    "start_time": "2023-01-26T12:20:56.329Z"
   },
   {
    "duration": 210,
    "start_time": "2023-01-26T12:21:02.465Z"
   },
   {
    "duration": 141,
    "start_time": "2023-01-26T12:21:05.052Z"
   },
   {
    "duration": 158,
    "start_time": "2023-01-26T12:21:38.946Z"
   },
   {
    "duration": 142,
    "start_time": "2023-01-26T12:21:50.330Z"
   },
   {
    "duration": 157,
    "start_time": "2023-01-26T12:22:04.132Z"
   },
   {
    "duration": 144,
    "start_time": "2023-01-26T12:22:10.929Z"
   },
   {
    "duration": 154,
    "start_time": "2023-01-26T12:23:06.803Z"
   },
   {
    "duration": 146,
    "start_time": "2023-01-26T12:23:13.276Z"
   },
   {
    "duration": 146,
    "start_time": "2023-01-26T12:23:29.551Z"
   },
   {
    "duration": 144,
    "start_time": "2023-01-26T12:23:34.749Z"
   },
   {
    "duration": 155,
    "start_time": "2023-01-26T12:23:58.258Z"
   },
   {
    "duration": 157,
    "start_time": "2023-01-26T12:24:03.454Z"
   },
   {
    "duration": 141,
    "start_time": "2023-01-26T12:24:25.391Z"
   },
   {
    "duration": 176,
    "start_time": "2023-01-26T12:24:29.918Z"
   },
   {
    "duration": 169,
    "start_time": "2023-01-26T12:29:09.017Z"
   },
   {
    "duration": 74,
    "start_time": "2023-01-26T14:28:56.661Z"
   },
   {
    "duration": 840,
    "start_time": "2023-01-26T14:29:24.409Z"
   },
   {
    "duration": 60,
    "start_time": "2023-01-26T14:29:25.251Z"
   },
   {
    "duration": 13,
    "start_time": "2023-01-26T14:29:25.313Z"
   },
   {
    "duration": 9,
    "start_time": "2023-01-26T14:29:25.328Z"
   },
   {
    "duration": 83,
    "start_time": "2023-01-26T14:29:25.338Z"
   },
   {
    "duration": 9,
    "start_time": "2023-01-26T14:29:25.422Z"
   },
   {
    "duration": 40,
    "start_time": "2023-01-26T14:29:25.433Z"
   },
   {
    "duration": 37,
    "start_time": "2023-01-26T14:29:25.475Z"
   },
   {
    "duration": 63,
    "start_time": "2023-01-26T14:29:25.514Z"
   },
   {
    "duration": 98,
    "start_time": "2023-01-26T14:29:25.580Z"
   },
   {
    "duration": 32,
    "start_time": "2023-01-26T14:29:25.681Z"
   },
   {
    "duration": 18,
    "start_time": "2023-01-26T14:29:25.715Z"
   },
   {
    "duration": 36,
    "start_time": "2023-01-26T14:29:25.735Z"
   },
   {
    "duration": 44,
    "start_time": "2023-01-26T14:29:25.773Z"
   },
   {
    "duration": 23,
    "start_time": "2023-01-26T14:29:25.820Z"
   },
   {
    "duration": 23,
    "start_time": "2023-01-26T14:29:25.846Z"
   },
   {
    "duration": 16,
    "start_time": "2023-01-26T14:29:25.871Z"
   },
   {
    "duration": 39,
    "start_time": "2023-01-26T14:29:25.899Z"
   },
   {
    "duration": 25,
    "start_time": "2023-01-26T14:29:25.940Z"
   },
   {
    "duration": 303,
    "start_time": "2023-01-26T14:29:25.968Z"
   },
   {
    "duration": 150,
    "start_time": "2023-01-26T14:29:26.273Z"
   },
   {
    "duration": 17,
    "start_time": "2023-01-26T14:29:26.425Z"
   },
   {
    "duration": 297,
    "start_time": "2023-01-26T14:29:26.444Z"
   },
   {
    "duration": 240,
    "start_time": "2023-01-26T14:29:26.743Z"
   },
   {
    "duration": 329,
    "start_time": "2023-01-26T14:29:26.985Z"
   },
   {
    "duration": 282,
    "start_time": "2023-01-26T14:29:27.316Z"
   },
   {
    "duration": 346,
    "start_time": "2023-01-26T14:29:27.600Z"
   },
   {
    "duration": 10,
    "start_time": "2023-01-26T14:29:27.950Z"
   },
   {
    "duration": 147,
    "start_time": "2023-01-26T14:29:27.962Z"
   },
   {
    "duration": 5,
    "start_time": "2023-01-26T14:29:28.111Z"
   },
   {
    "duration": 154,
    "start_time": "2023-01-26T14:29:28.118Z"
   },
   {
    "duration": 150,
    "start_time": "2023-01-26T14:29:28.273Z"
   },
   {
    "duration": 5,
    "start_time": "2023-01-26T14:29:28.424Z"
   },
   {
    "duration": 19,
    "start_time": "2023-01-26T14:29:28.431Z"
   },
   {
    "duration": 6,
    "start_time": "2023-01-26T14:31:15.497Z"
   },
   {
    "duration": 239,
    "start_time": "2023-01-26T14:38:50.900Z"
   },
   {
    "duration": 234,
    "start_time": "2023-01-26T14:38:56.233Z"
   },
   {
    "duration": 10,
    "start_time": "2023-01-26T14:40:09.968Z"
   },
   {
    "duration": 91,
    "start_time": "2023-01-26T14:40:53.700Z"
   },
   {
    "duration": 155,
    "start_time": "2023-01-26T14:41:59.473Z"
   },
   {
    "duration": 15,
    "start_time": "2023-01-26T14:42:23.130Z"
   },
   {
    "duration": 518,
    "start_time": "2023-01-26T14:43:01.561Z"
   },
   {
    "duration": 28,
    "start_time": "2023-01-26T14:43:06.198Z"
   },
   {
    "duration": 137,
    "start_time": "2023-01-26T14:52:21.204Z"
   },
   {
    "duration": 40,
    "start_time": "2023-01-26T15:34:58.644Z"
   },
   {
    "duration": 10,
    "start_time": "2023-01-26T15:35:16.844Z"
   },
   {
    "duration": 1178,
    "start_time": "2023-01-26T15:42:41.072Z"
   },
   {
    "duration": 1343,
    "start_time": "2023-01-26T15:42:58.035Z"
   },
   {
    "duration": 11,
    "start_time": "2023-01-26T15:43:11.616Z"
   },
   {
    "duration": 12,
    "start_time": "2023-01-26T15:43:30.851Z"
   },
   {
    "duration": 11,
    "start_time": "2023-01-26T15:45:34.855Z"
   },
   {
    "duration": 1040,
    "start_time": "2023-01-26T15:47:33.714Z"
   },
   {
    "duration": 43,
    "start_time": "2023-01-26T15:48:02.190Z"
   },
   {
    "duration": 10,
    "start_time": "2023-01-26T15:49:14.975Z"
   },
   {
    "duration": 7,
    "start_time": "2023-01-26T15:49:21.728Z"
   },
   {
    "duration": 21,
    "start_time": "2023-01-26T15:49:30.782Z"
   },
   {
    "duration": 13,
    "start_time": "2023-01-26T15:49:45.278Z"
   },
   {
    "duration": 82,
    "start_time": "2023-01-26T15:50:47.208Z"
   },
   {
    "duration": 53,
    "start_time": "2023-01-26T15:51:01.716Z"
   },
   {
    "duration": 8,
    "start_time": "2023-01-26T15:51:07.329Z"
   },
   {
    "duration": 3,
    "start_time": "2023-01-26T15:51:17.071Z"
   },
   {
    "duration": 5,
    "start_time": "2023-01-26T15:51:21.472Z"
   },
   {
    "duration": 10,
    "start_time": "2023-01-26T15:52:41.813Z"
   },
   {
    "duration": 28,
    "start_time": "2023-01-26T15:55:39.082Z"
   },
   {
    "duration": 13,
    "start_time": "2023-01-26T15:58:26.828Z"
   },
   {
    "duration": 4,
    "start_time": "2023-01-26T15:59:18.661Z"
   },
   {
    "duration": 1025,
    "start_time": "2023-01-26T16:46:46.616Z"
   },
   {
    "duration": 89,
    "start_time": "2023-01-26T16:46:47.643Z"
   },
   {
    "duration": 14,
    "start_time": "2023-01-26T16:46:47.734Z"
   },
   {
    "duration": 17,
    "start_time": "2023-01-26T16:46:47.750Z"
   },
   {
    "duration": 62,
    "start_time": "2023-01-26T16:46:47.770Z"
   },
   {
    "duration": 8,
    "start_time": "2023-01-26T16:46:47.834Z"
   },
   {
    "duration": 20,
    "start_time": "2023-01-26T16:46:47.844Z"
   },
   {
    "duration": 32,
    "start_time": "2023-01-26T16:46:47.866Z"
   },
   {
    "duration": 12,
    "start_time": "2023-01-26T16:46:47.900Z"
   },
   {
    "duration": 37,
    "start_time": "2023-01-26T16:46:47.915Z"
   },
   {
    "duration": 9,
    "start_time": "2023-01-26T16:46:47.954Z"
   },
   {
    "duration": 24,
    "start_time": "2023-01-26T16:46:47.965Z"
   },
   {
    "duration": 46,
    "start_time": "2023-01-26T16:46:47.991Z"
   },
   {
    "duration": 6,
    "start_time": "2023-01-26T16:46:48.040Z"
   },
   {
    "duration": 8,
    "start_time": "2023-01-26T16:46:48.048Z"
   },
   {
    "duration": 18,
    "start_time": "2023-01-26T16:46:48.057Z"
   },
   {
    "duration": 6,
    "start_time": "2023-01-26T16:46:48.076Z"
   },
   {
    "duration": 58,
    "start_time": "2023-01-26T16:46:48.084Z"
   },
   {
    "duration": 11,
    "start_time": "2023-01-26T16:46:48.144Z"
   },
   {
    "duration": 176,
    "start_time": "2023-01-26T16:46:48.156Z"
   },
   {
    "duration": 135,
    "start_time": "2023-01-26T16:46:48.335Z"
   },
   {
    "duration": 12,
    "start_time": "2023-01-26T16:46:48.471Z"
   },
   {
    "duration": 335,
    "start_time": "2023-01-26T16:46:48.488Z"
   },
   {
    "duration": 199,
    "start_time": "2023-01-26T16:46:48.833Z"
   },
   {
    "duration": 264,
    "start_time": "2023-01-26T16:46:49.034Z"
   },
   {
    "duration": 227,
    "start_time": "2023-01-26T16:46:49.300Z"
   },
   {
    "duration": 286,
    "start_time": "2023-01-26T16:46:49.533Z"
   },
   {
    "duration": 12,
    "start_time": "2023-01-26T16:46:49.821Z"
   },
   {
    "duration": 129,
    "start_time": "2023-01-26T16:46:49.836Z"
   },
   {
    "duration": 5,
    "start_time": "2023-01-26T16:46:49.967Z"
   },
   {
    "duration": 188,
    "start_time": "2023-01-26T16:46:49.973Z"
   },
   {
    "duration": 138,
    "start_time": "2023-01-26T16:46:50.162Z"
   },
   {
    "duration": 7,
    "start_time": "2023-01-26T16:46:50.303Z"
   },
   {
    "duration": 246,
    "start_time": "2023-01-26T16:46:50.314Z"
   },
   {
    "duration": 160,
    "start_time": "2023-01-26T16:46:50.561Z"
   },
   {
    "duration": 25,
    "start_time": "2023-01-26T16:46:50.731Z"
   },
   {
    "duration": 9,
    "start_time": "2023-01-26T16:46:50.759Z"
   },
   {
    "duration": 8,
    "start_time": "2023-01-26T16:46:50.769Z"
   },
   {
    "duration": 43,
    "start_time": "2023-01-26T16:46:50.779Z"
   },
   {
    "duration": 17,
    "start_time": "2023-01-26T16:46:50.831Z"
   },
   {
    "duration": 85,
    "start_time": "2023-01-27T14:00:12.106Z"
   },
   {
    "duration": 1341,
    "start_time": "2023-01-27T14:01:29.694Z"
   },
   {
    "duration": 127,
    "start_time": "2023-01-27T14:01:31.037Z"
   },
   {
    "duration": 11,
    "start_time": "2023-01-27T14:01:31.166Z"
   },
   {
    "duration": 40,
    "start_time": "2023-01-27T14:01:31.179Z"
   },
   {
    "duration": 168,
    "start_time": "2023-01-27T14:01:31.220Z"
   },
   {
    "duration": 11,
    "start_time": "2023-01-27T14:01:31.389Z"
   },
   {
    "duration": 63,
    "start_time": "2023-01-27T14:01:31.401Z"
   },
   {
    "duration": 33,
    "start_time": "2023-01-27T14:01:31.465Z"
   },
   {
    "duration": 58,
    "start_time": "2023-01-27T14:01:31.500Z"
   },
   {
    "duration": 106,
    "start_time": "2023-01-27T14:01:31.561Z"
   },
   {
    "duration": 6,
    "start_time": "2023-01-27T14:01:31.669Z"
   },
   {
    "duration": 25,
    "start_time": "2023-01-27T14:01:31.677Z"
   },
   {
    "duration": 42,
    "start_time": "2023-01-27T14:01:31.704Z"
   },
   {
    "duration": 38,
    "start_time": "2023-01-27T14:01:31.748Z"
   },
   {
    "duration": 30,
    "start_time": "2023-01-27T14:01:31.788Z"
   },
   {
    "duration": 43,
    "start_time": "2023-01-27T14:01:31.819Z"
   },
   {
    "duration": 29,
    "start_time": "2023-01-27T14:01:31.864Z"
   },
   {
    "duration": 18,
    "start_time": "2023-01-27T14:01:31.895Z"
   },
   {
    "duration": 33,
    "start_time": "2023-01-27T14:01:31.922Z"
   },
   {
    "duration": 201,
    "start_time": "2023-01-27T14:01:31.957Z"
   },
   {
    "duration": 126,
    "start_time": "2023-01-27T14:01:32.160Z"
   },
   {
    "duration": 12,
    "start_time": "2023-01-27T14:01:32.288Z"
   },
   {
    "duration": 326,
    "start_time": "2023-01-27T14:01:32.301Z"
   },
   {
    "duration": 192,
    "start_time": "2023-01-27T14:01:32.636Z"
   },
   {
    "duration": 354,
    "start_time": "2023-01-27T14:01:32.830Z"
   },
   {
    "duration": 222,
    "start_time": "2023-01-27T14:01:33.185Z"
   },
   {
    "duration": 306,
    "start_time": "2023-01-27T14:01:33.410Z"
   },
   {
    "duration": 16,
    "start_time": "2023-01-27T14:01:33.723Z"
   },
   {
    "duration": 150,
    "start_time": "2023-01-27T14:01:33.745Z"
   },
   {
    "duration": 5,
    "start_time": "2023-01-27T14:01:33.897Z"
   },
   {
    "duration": 174,
    "start_time": "2023-01-27T14:01:33.915Z"
   },
   {
    "duration": 146,
    "start_time": "2023-01-27T14:01:34.092Z"
   },
   {
    "duration": 5,
    "start_time": "2023-01-27T14:01:34.240Z"
   },
   {
    "duration": 254,
    "start_time": "2023-01-27T14:01:34.247Z"
   },
   {
    "duration": 162,
    "start_time": "2023-01-27T14:01:34.510Z"
   },
   {
    "duration": 26,
    "start_time": "2023-01-27T14:01:34.673Z"
   },
   {
    "duration": 10,
    "start_time": "2023-01-27T14:01:34.710Z"
   },
   {
    "duration": 33,
    "start_time": "2023-01-27T14:01:34.721Z"
   },
   {
    "duration": 27,
    "start_time": "2023-01-27T14:01:34.756Z"
   },
   {
    "duration": 13,
    "start_time": "2023-01-27T14:01:34.785Z"
   },
   {
    "duration": 9,
    "start_time": "2023-01-27T14:01:56.489Z"
   },
   {
    "duration": 11,
    "start_time": "2023-01-27T14:02:00.888Z"
   },
   {
    "duration": 47,
    "start_time": "2023-01-27T14:02:27.736Z"
   },
   {
    "duration": 8,
    "start_time": "2023-01-27T14:03:37.335Z"
   },
   {
    "duration": 10,
    "start_time": "2023-01-27T14:03:37.839Z"
   },
   {
    "duration": 17,
    "start_time": "2023-01-27T14:09:56.272Z"
   },
   {
    "duration": 10,
    "start_time": "2023-01-27T14:11:00.736Z"
   },
   {
    "duration": 5,
    "start_time": "2023-01-27T14:11:08.153Z"
   },
   {
    "duration": 7,
    "start_time": "2023-01-27T14:11:54.539Z"
   },
   {
    "duration": 6,
    "start_time": "2023-01-27T14:12:03.939Z"
   },
   {
    "duration": 14,
    "start_time": "2023-01-27T14:12:35.342Z"
   },
   {
    "duration": 136,
    "start_time": "2023-01-27T14:13:22.394Z"
   },
   {
    "duration": 16,
    "start_time": "2023-01-27T14:15:58.436Z"
   },
   {
    "duration": 19,
    "start_time": "2023-01-27T14:16:12.877Z"
   },
   {
    "duration": 12,
    "start_time": "2023-01-27T14:21:33.377Z"
   },
   {
    "duration": 23,
    "start_time": "2023-01-27T14:23:19.736Z"
   },
   {
    "duration": 21,
    "start_time": "2023-01-27T14:23:38.432Z"
   },
   {
    "duration": 13,
    "start_time": "2023-01-27T14:24:15.636Z"
   },
   {
    "duration": 13,
    "start_time": "2023-01-27T14:24:21.875Z"
   },
   {
    "duration": 23,
    "start_time": "2023-01-27T14:24:34.237Z"
   },
   {
    "duration": 13,
    "start_time": "2023-01-27T14:24:48.260Z"
   },
   {
    "duration": 27,
    "start_time": "2023-01-27T14:26:21.540Z"
   },
   {
    "duration": 230,
    "start_time": "2023-01-27T14:26:28.901Z"
   },
   {
    "duration": 66,
    "start_time": "2023-01-27T14:27:13.573Z"
   },
   {
    "duration": 78,
    "start_time": "2023-01-27T14:27:18.287Z"
   },
   {
    "duration": 25,
    "start_time": "2023-01-27T14:27:23.598Z"
   },
   {
    "duration": 14,
    "start_time": "2023-01-27T14:27:27.670Z"
   },
   {
    "duration": 14,
    "start_time": "2023-01-27T14:27:40.993Z"
   },
   {
    "duration": 15,
    "start_time": "2023-01-27T14:27:47.633Z"
   },
   {
    "duration": 326,
    "start_time": "2023-01-27T14:40:12.449Z"
   },
   {
    "duration": 15,
    "start_time": "2023-01-27T14:40:16.436Z"
   },
   {
    "duration": 11,
    "start_time": "2023-01-27T14:40:21.089Z"
   },
   {
    "duration": 13,
    "start_time": "2023-01-27T14:41:00.745Z"
   },
   {
    "duration": 17,
    "start_time": "2023-01-27T14:41:20.579Z"
   },
   {
    "duration": 11,
    "start_time": "2023-01-27T14:41:27.994Z"
   },
   {
    "duration": 37,
    "start_time": "2023-01-27T14:41:52.532Z"
   },
   {
    "duration": 18,
    "start_time": "2023-01-27T14:42:06.491Z"
   },
   {
    "duration": 48,
    "start_time": "2023-01-27T14:42:10.099Z"
   },
   {
    "duration": 29,
    "start_time": "2023-01-27T14:42:14.698Z"
   },
   {
    "duration": 13,
    "start_time": "2023-01-27T14:42:17.379Z"
   },
   {
    "duration": 16,
    "start_time": "2023-01-27T14:42:23.769Z"
   },
   {
    "duration": 13,
    "start_time": "2023-01-27T14:42:27.653Z"
   },
   {
    "duration": 17,
    "start_time": "2023-01-27T14:42:36.535Z"
   },
   {
    "duration": 20,
    "start_time": "2023-01-27T14:42:39.351Z"
   },
   {
    "duration": 12,
    "start_time": "2023-01-27T14:42:42.195Z"
   },
   {
    "duration": 34,
    "start_time": "2023-01-27T14:42:45.803Z"
   },
   {
    "duration": 23,
    "start_time": "2023-01-27T14:43:59.086Z"
   },
   {
    "duration": 50,
    "start_time": "2023-01-27T14:44:03.453Z"
   },
   {
    "duration": 18,
    "start_time": "2023-01-27T14:44:07.868Z"
   },
   {
    "duration": 12,
    "start_time": "2023-01-27T14:44:12.145Z"
   },
   {
    "duration": 945,
    "start_time": "2023-01-27T14:44:43.253Z"
   },
   {
    "duration": 964,
    "start_time": "2023-01-27T14:45:02.630Z"
   },
   {
    "duration": 44,
    "start_time": "2023-01-27T14:45:34.693Z"
   },
   {
    "duration": 12,
    "start_time": "2023-01-27T14:46:13.830Z"
   },
   {
    "duration": 13,
    "start_time": "2023-01-27T14:46:18.470Z"
   },
   {
    "duration": 29,
    "start_time": "2023-01-27T14:48:42.976Z"
   },
   {
    "duration": 35,
    "start_time": "2023-01-27T14:49:27.089Z"
   },
   {
    "duration": 58,
    "start_time": "2023-01-27T14:49:34.675Z"
   },
   {
    "duration": 19,
    "start_time": "2023-01-27T14:49:42.602Z"
   },
   {
    "duration": 9,
    "start_time": "2023-01-27T14:49:55.641Z"
   },
   {
    "duration": 7,
    "start_time": "2023-01-27T14:49:58.386Z"
   },
   {
    "duration": 4,
    "start_time": "2023-01-27T14:50:12.498Z"
   },
   {
    "duration": 9,
    "start_time": "2023-01-27T14:50:16.786Z"
   },
   {
    "duration": 11,
    "start_time": "2023-01-27T14:50:55.132Z"
   },
   {
    "duration": 52,
    "start_time": "2023-01-27T14:51:26.828Z"
   },
   {
    "duration": 34,
    "start_time": "2023-01-27T14:51:34.347Z"
   },
   {
    "duration": 10,
    "start_time": "2023-01-27T14:51:36.948Z"
   },
   {
    "duration": 28,
    "start_time": "2023-01-27T14:52:48.343Z"
   },
   {
    "duration": 14,
    "start_time": "2023-01-27T14:52:49.591Z"
   },
   {
    "duration": 5,
    "start_time": "2023-01-27T14:52:50.103Z"
   },
   {
    "duration": 45,
    "start_time": "2023-01-27T14:53:06.046Z"
   },
   {
    "duration": 19,
    "start_time": "2023-01-27T14:53:07.227Z"
   },
   {
    "duration": 11,
    "start_time": "2023-01-27T14:53:07.670Z"
   },
   {
    "duration": 45,
    "start_time": "2023-01-27T14:53:26.824Z"
   },
   {
    "duration": 23,
    "start_time": "2023-01-27T14:53:27.295Z"
   },
   {
    "duration": 6,
    "start_time": "2023-01-27T14:53:27.534Z"
   },
   {
    "duration": 5,
    "start_time": "2023-01-27T14:53:44.507Z"
   },
   {
    "duration": 9,
    "start_time": "2023-01-27T14:57:38.131Z"
   },
   {
    "duration": 5,
    "start_time": "2023-01-27T14:58:04.700Z"
   },
   {
    "duration": 4,
    "start_time": "2023-01-27T14:58:51.192Z"
   },
   {
    "duration": 9,
    "start_time": "2023-01-27T14:58:56.172Z"
   },
   {
    "duration": 9,
    "start_time": "2023-01-27T14:59:07.375Z"
   },
   {
    "duration": 5,
    "start_time": "2023-01-27T14:59:11.470Z"
   },
   {
    "duration": 12,
    "start_time": "2023-01-27T15:00:45.168Z"
   },
   {
    "duration": 3,
    "start_time": "2023-01-27T15:01:15.472Z"
   },
   {
    "duration": 4,
    "start_time": "2023-01-27T15:01:19.621Z"
   },
   {
    "duration": 7,
    "start_time": "2023-01-27T15:01:24.496Z"
   },
   {
    "duration": 11,
    "start_time": "2023-01-27T15:01:34.456Z"
   },
   {
    "duration": 5,
    "start_time": "2023-01-27T15:03:18.525Z"
   },
   {
    "duration": 5,
    "start_time": "2023-01-27T15:03:29.325Z"
   },
   {
    "duration": 4,
    "start_time": "2023-01-27T15:03:37.987Z"
   },
   {
    "duration": 6,
    "start_time": "2023-01-27T15:03:38.301Z"
   },
   {
    "duration": 1028,
    "start_time": "2023-01-27T15:03:51.922Z"
   },
   {
    "duration": 72,
    "start_time": "2023-01-27T15:03:52.952Z"
   },
   {
    "duration": 15,
    "start_time": "2023-01-27T15:03:53.026Z"
   },
   {
    "duration": 15,
    "start_time": "2023-01-27T15:03:53.044Z"
   },
   {
    "duration": 38,
    "start_time": "2023-01-27T15:03:53.061Z"
   },
   {
    "duration": 14,
    "start_time": "2023-01-27T15:03:53.101Z"
   },
   {
    "duration": 21,
    "start_time": "2023-01-27T15:03:53.124Z"
   },
   {
    "duration": 16,
    "start_time": "2023-01-27T15:03:53.147Z"
   },
   {
    "duration": 9,
    "start_time": "2023-01-27T15:03:53.164Z"
   },
   {
    "duration": 18,
    "start_time": "2023-01-27T15:03:53.177Z"
   },
   {
    "duration": 9,
    "start_time": "2023-01-27T15:03:53.196Z"
   },
   {
    "duration": 19,
    "start_time": "2023-01-27T15:03:53.206Z"
   },
   {
    "duration": 7,
    "start_time": "2023-01-27T15:03:53.227Z"
   },
   {
    "duration": 16,
    "start_time": "2023-01-27T15:03:53.236Z"
   },
   {
    "duration": 17,
    "start_time": "2023-01-27T15:03:53.254Z"
   },
   {
    "duration": 10,
    "start_time": "2023-01-27T15:03:53.272Z"
   },
   {
    "duration": 19,
    "start_time": "2023-01-27T15:03:53.284Z"
   },
   {
    "duration": 13,
    "start_time": "2023-01-27T15:03:53.304Z"
   },
   {
    "duration": 42,
    "start_time": "2023-01-27T15:03:53.319Z"
   },
   {
    "duration": 5,
    "start_time": "2023-01-27T15:03:53.363Z"
   },
   {
    "duration": 8,
    "start_time": "2023-01-27T15:03:53.370Z"
   },
   {
    "duration": 6,
    "start_time": "2023-01-27T15:03:53.380Z"
   },
   {
    "duration": 6,
    "start_time": "2023-01-27T15:03:53.388Z"
   },
   {
    "duration": 57,
    "start_time": "2023-01-27T15:03:53.395Z"
   },
   {
    "duration": 0,
    "start_time": "2023-01-27T15:03:53.454Z"
   },
   {
    "duration": 0,
    "start_time": "2023-01-27T15:03:53.456Z"
   },
   {
    "duration": 0,
    "start_time": "2023-01-27T15:03:53.457Z"
   },
   {
    "duration": 0,
    "start_time": "2023-01-27T15:03:53.458Z"
   },
   {
    "duration": 0,
    "start_time": "2023-01-27T15:03:53.460Z"
   },
   {
    "duration": 0,
    "start_time": "2023-01-27T15:03:53.462Z"
   },
   {
    "duration": 0,
    "start_time": "2023-01-27T15:03:53.464Z"
   },
   {
    "duration": 0,
    "start_time": "2023-01-27T15:03:53.465Z"
   },
   {
    "duration": 0,
    "start_time": "2023-01-27T15:03:53.466Z"
   },
   {
    "duration": 0,
    "start_time": "2023-01-27T15:03:53.468Z"
   },
   {
    "duration": 0,
    "start_time": "2023-01-27T15:03:53.469Z"
   },
   {
    "duration": 0,
    "start_time": "2023-01-27T15:03:53.470Z"
   },
   {
    "duration": 0,
    "start_time": "2023-01-27T15:03:53.471Z"
   },
   {
    "duration": 0,
    "start_time": "2023-01-27T15:03:53.471Z"
   },
   {
    "duration": 0,
    "start_time": "2023-01-27T15:03:53.473Z"
   },
   {
    "duration": 0,
    "start_time": "2023-01-27T15:03:53.473Z"
   },
   {
    "duration": 0,
    "start_time": "2023-01-27T15:03:53.474Z"
   },
   {
    "duration": 0,
    "start_time": "2023-01-27T15:03:53.476Z"
   },
   {
    "duration": 0,
    "start_time": "2023-01-27T15:03:53.477Z"
   },
   {
    "duration": 0,
    "start_time": "2023-01-27T15:03:53.478Z"
   },
   {
    "duration": 0,
    "start_time": "2023-01-27T15:03:53.480Z"
   },
   {
    "duration": 0,
    "start_time": "2023-01-27T15:03:53.481Z"
   },
   {
    "duration": 1046,
    "start_time": "2023-01-27T15:04:18.681Z"
   },
   {
    "duration": 77,
    "start_time": "2023-01-27T15:04:19.728Z"
   },
   {
    "duration": 25,
    "start_time": "2023-01-27T15:04:19.806Z"
   },
   {
    "duration": 3,
    "start_time": "2023-01-27T15:04:19.833Z"
   },
   {
    "duration": 37,
    "start_time": "2023-01-27T15:04:19.839Z"
   },
   {
    "duration": 8,
    "start_time": "2023-01-27T15:04:19.877Z"
   },
   {
    "duration": 14,
    "start_time": "2023-01-27T15:04:19.887Z"
   },
   {
    "duration": 36,
    "start_time": "2023-01-27T15:04:19.903Z"
   },
   {
    "duration": 11,
    "start_time": "2023-01-27T15:04:19.940Z"
   },
   {
    "duration": 14,
    "start_time": "2023-01-27T15:04:19.952Z"
   },
   {
    "duration": 6,
    "start_time": "2023-01-27T15:04:19.968Z"
   },
   {
    "duration": 13,
    "start_time": "2023-01-27T15:04:19.976Z"
   },
   {
    "duration": 8,
    "start_time": "2023-01-27T15:04:19.991Z"
   },
   {
    "duration": 32,
    "start_time": "2023-01-27T15:04:20.003Z"
   },
   {
    "duration": 16,
    "start_time": "2023-01-27T15:04:20.037Z"
   },
   {
    "duration": 13,
    "start_time": "2023-01-27T15:04:20.054Z"
   },
   {
    "duration": 17,
    "start_time": "2023-01-27T15:04:20.069Z"
   },
   {
    "duration": 34,
    "start_time": "2023-01-27T15:04:20.088Z"
   },
   {
    "duration": 44,
    "start_time": "2023-01-27T15:04:20.124Z"
   },
   {
    "duration": 6,
    "start_time": "2023-01-27T15:04:20.169Z"
   },
   {
    "duration": 13,
    "start_time": "2023-01-27T15:04:20.176Z"
   },
   {
    "duration": 10,
    "start_time": "2023-01-27T15:04:20.191Z"
   },
   {
    "duration": 7,
    "start_time": "2023-01-27T15:04:20.202Z"
   },
   {
    "duration": 16,
    "start_time": "2023-01-27T15:04:20.220Z"
   },
   {
    "duration": 168,
    "start_time": "2023-01-27T15:04:20.237Z"
   },
   {
    "duration": 133,
    "start_time": "2023-01-27T15:04:20.407Z"
   },
   {
    "duration": 16,
    "start_time": "2023-01-27T15:04:20.542Z"
   },
   {
    "duration": 283,
    "start_time": "2023-01-27T15:04:20.559Z"
   },
   {
    "duration": 189,
    "start_time": "2023-01-27T15:04:20.843Z"
   },
   {
    "duration": 289,
    "start_time": "2023-01-27T15:04:21.034Z"
   },
   {
    "duration": 194,
    "start_time": "2023-01-27T15:04:21.330Z"
   },
   {
    "duration": 306,
    "start_time": "2023-01-27T15:04:21.525Z"
   },
   {
    "duration": 8,
    "start_time": "2023-01-27T15:04:21.833Z"
   },
   {
    "duration": 155,
    "start_time": "2023-01-27T15:04:21.843Z"
   },
   {
    "duration": 19,
    "start_time": "2023-01-27T15:04:22.000Z"
   },
   {
    "duration": 141,
    "start_time": "2023-01-27T15:04:22.021Z"
   },
   {
    "duration": 124,
    "start_time": "2023-01-27T15:04:22.164Z"
   },
   {
    "duration": 5,
    "start_time": "2023-01-27T15:04:22.290Z"
   },
   {
    "duration": 260,
    "start_time": "2023-01-27T15:04:22.297Z"
   },
   {
    "duration": 131,
    "start_time": "2023-01-27T15:04:22.559Z"
   },
   {
    "duration": 46,
    "start_time": "2023-01-27T15:04:22.693Z"
   },
   {
    "duration": 18,
    "start_time": "2023-01-27T15:04:22.741Z"
   },
   {
    "duration": 23,
    "start_time": "2023-01-27T15:04:22.760Z"
   },
   {
    "duration": 61,
    "start_time": "2023-01-27T15:04:22.785Z"
   },
   {
    "duration": 18,
    "start_time": "2023-01-27T15:04:22.848Z"
   },
   {
    "duration": 130,
    "start_time": "2023-01-27T15:09:42.189Z"
   },
   {
    "duration": 9,
    "start_time": "2023-01-27T15:09:46.229Z"
   },
   {
    "duration": 5,
    "start_time": "2023-01-27T15:10:39.033Z"
   },
   {
    "duration": 7,
    "start_time": "2023-01-27T15:11:13.370Z"
   },
   {
    "duration": 1018,
    "start_time": "2023-01-27T17:30:25.121Z"
   },
   {
    "duration": 64,
    "start_time": "2023-01-27T17:30:26.141Z"
   },
   {
    "duration": 10,
    "start_time": "2023-01-27T17:30:26.207Z"
   },
   {
    "duration": 28,
    "start_time": "2023-01-27T17:30:26.219Z"
   },
   {
    "duration": 59,
    "start_time": "2023-01-27T17:30:26.249Z"
   },
   {
    "duration": 7,
    "start_time": "2023-01-27T17:30:26.310Z"
   },
   {
    "duration": 36,
    "start_time": "2023-01-27T17:30:26.318Z"
   },
   {
    "duration": 27,
    "start_time": "2023-01-27T17:30:26.355Z"
   },
   {
    "duration": 38,
    "start_time": "2023-01-27T17:30:26.384Z"
   },
   {
    "duration": 39,
    "start_time": "2023-01-27T17:30:26.425Z"
   },
   {
    "duration": 16,
    "start_time": "2023-01-27T17:30:26.465Z"
   },
   {
    "duration": 41,
    "start_time": "2023-01-27T17:30:26.482Z"
   },
   {
    "duration": 21,
    "start_time": "2023-01-27T17:30:26.524Z"
   },
   {
    "duration": 31,
    "start_time": "2023-01-27T17:30:26.546Z"
   },
   {
    "duration": 63,
    "start_time": "2023-01-27T17:30:26.578Z"
   },
   {
    "duration": 32,
    "start_time": "2023-01-27T17:30:26.643Z"
   },
   {
    "duration": 32,
    "start_time": "2023-01-27T17:30:26.677Z"
   },
   {
    "duration": 32,
    "start_time": "2023-01-27T17:30:26.711Z"
   },
   {
    "duration": 140,
    "start_time": "2023-01-27T17:30:26.745Z"
   },
   {
    "duration": 0,
    "start_time": "2023-01-27T17:30:26.887Z"
   },
   {
    "duration": 0,
    "start_time": "2023-01-27T17:30:26.888Z"
   },
   {
    "duration": 0,
    "start_time": "2023-01-27T17:30:26.889Z"
   },
   {
    "duration": 0,
    "start_time": "2023-01-27T17:30:26.890Z"
   },
   {
    "duration": 0,
    "start_time": "2023-01-27T17:30:26.891Z"
   },
   {
    "duration": 0,
    "start_time": "2023-01-27T17:30:26.892Z"
   },
   {
    "duration": 0,
    "start_time": "2023-01-27T17:30:26.893Z"
   },
   {
    "duration": 0,
    "start_time": "2023-01-27T17:30:26.894Z"
   },
   {
    "duration": 0,
    "start_time": "2023-01-27T17:30:26.895Z"
   },
   {
    "duration": 0,
    "start_time": "2023-01-27T17:30:26.910Z"
   },
   {
    "duration": 0,
    "start_time": "2023-01-27T17:30:26.911Z"
   },
   {
    "duration": 0,
    "start_time": "2023-01-27T17:30:26.912Z"
   },
   {
    "duration": 0,
    "start_time": "2023-01-27T17:30:26.913Z"
   },
   {
    "duration": 0,
    "start_time": "2023-01-27T17:30:26.914Z"
   },
   {
    "duration": 0,
    "start_time": "2023-01-27T17:30:26.915Z"
   },
   {
    "duration": 0,
    "start_time": "2023-01-27T17:30:26.916Z"
   },
   {
    "duration": 0,
    "start_time": "2023-01-27T17:30:26.916Z"
   },
   {
    "duration": 0,
    "start_time": "2023-01-27T17:30:26.917Z"
   },
   {
    "duration": 0,
    "start_time": "2023-01-27T17:30:26.918Z"
   },
   {
    "duration": 0,
    "start_time": "2023-01-27T17:30:26.919Z"
   },
   {
    "duration": 0,
    "start_time": "2023-01-27T17:30:26.920Z"
   },
   {
    "duration": 0,
    "start_time": "2023-01-27T17:30:26.921Z"
   },
   {
    "duration": 0,
    "start_time": "2023-01-27T17:30:26.922Z"
   },
   {
    "duration": 0,
    "start_time": "2023-01-27T17:30:26.923Z"
   },
   {
    "duration": 0,
    "start_time": "2023-01-27T17:30:26.923Z"
   },
   {
    "duration": 29,
    "start_time": "2023-01-27T17:30:49.300Z"
   },
   {
    "duration": 5,
    "start_time": "2023-01-27T17:30:51.211Z"
   },
   {
    "duration": 4,
    "start_time": "2023-01-27T17:30:52.091Z"
   },
   {
    "duration": 6,
    "start_time": "2023-01-27T17:31:19.316Z"
   },
   {
    "duration": 9,
    "start_time": "2023-01-27T17:36:41.082Z"
   },
   {
    "duration": 1051,
    "start_time": "2023-01-27T17:36:49.073Z"
   },
   {
    "duration": 63,
    "start_time": "2023-01-27T17:36:50.126Z"
   },
   {
    "duration": 12,
    "start_time": "2023-01-27T17:36:50.191Z"
   },
   {
    "duration": 4,
    "start_time": "2023-01-27T17:36:50.205Z"
   },
   {
    "duration": 33,
    "start_time": "2023-01-27T17:36:50.210Z"
   },
   {
    "duration": 11,
    "start_time": "2023-01-27T17:36:50.245Z"
   },
   {
    "duration": 14,
    "start_time": "2023-01-27T17:36:50.257Z"
   },
   {
    "duration": 14,
    "start_time": "2023-01-27T17:36:50.273Z"
   },
   {
    "duration": 11,
    "start_time": "2023-01-27T17:36:50.288Z"
   },
   {
    "duration": 13,
    "start_time": "2023-01-27T17:36:50.301Z"
   },
   {
    "duration": 7,
    "start_time": "2023-01-27T17:36:50.315Z"
   },
   {
    "duration": 13,
    "start_time": "2023-01-27T17:36:50.323Z"
   },
   {
    "duration": 5,
    "start_time": "2023-01-27T17:36:50.337Z"
   },
   {
    "duration": 17,
    "start_time": "2023-01-27T17:36:50.343Z"
   },
   {
    "duration": 9,
    "start_time": "2023-01-27T17:36:50.362Z"
   },
   {
    "duration": 12,
    "start_time": "2023-01-27T17:36:50.373Z"
   },
   {
    "duration": 8,
    "start_time": "2023-01-27T17:36:50.386Z"
   },
   {
    "duration": 15,
    "start_time": "2023-01-27T17:36:50.395Z"
   },
   {
    "duration": 30,
    "start_time": "2023-01-27T17:36:50.411Z"
   },
   {
    "duration": 4,
    "start_time": "2023-01-27T17:36:50.443Z"
   },
   {
    "duration": 9,
    "start_time": "2023-01-27T17:36:50.448Z"
   },
   {
    "duration": 11,
    "start_time": "2023-01-27T17:36:50.458Z"
   },
   {
    "duration": 15,
    "start_time": "2023-01-27T17:36:50.470Z"
   },
   {
    "duration": 179,
    "start_time": "2023-01-27T17:36:50.486Z"
   },
   {
    "duration": 131,
    "start_time": "2023-01-27T17:36:50.666Z"
   },
   {
    "duration": 18,
    "start_time": "2023-01-27T17:36:50.799Z"
   },
   {
    "duration": 284,
    "start_time": "2023-01-27T17:36:50.819Z"
   },
   {
    "duration": 178,
    "start_time": "2023-01-27T17:36:51.109Z"
   },
   {
    "duration": 313,
    "start_time": "2023-01-27T17:36:51.288Z"
   },
   {
    "duration": 210,
    "start_time": "2023-01-27T17:36:51.602Z"
   },
   {
    "duration": 299,
    "start_time": "2023-01-27T17:36:51.813Z"
   },
   {
    "duration": 8,
    "start_time": "2023-01-27T17:36:52.114Z"
   },
   {
    "duration": 132,
    "start_time": "2023-01-27T17:36:52.123Z"
   },
   {
    "duration": 3,
    "start_time": "2023-01-27T17:36:52.257Z"
   },
   {
    "duration": 126,
    "start_time": "2023-01-27T17:36:52.262Z"
   },
   {
    "duration": 128,
    "start_time": "2023-01-27T17:36:52.389Z"
   },
   {
    "duration": 4,
    "start_time": "2023-01-27T17:36:52.518Z"
   },
   {
    "duration": 221,
    "start_time": "2023-01-27T17:36:52.523Z"
   },
   {
    "duration": 149,
    "start_time": "2023-01-27T17:36:52.745Z"
   },
   {
    "duration": 36,
    "start_time": "2023-01-27T17:36:52.896Z"
   },
   {
    "duration": 9,
    "start_time": "2023-01-27T17:36:52.934Z"
   },
   {
    "duration": 9,
    "start_time": "2023-01-27T17:36:52.944Z"
   },
   {
    "duration": 56,
    "start_time": "2023-01-27T17:36:52.956Z"
   },
   {
    "duration": 18,
    "start_time": "2023-01-27T17:36:53.014Z"
   },
   {
    "duration": 329,
    "start_time": "2023-01-27T17:37:43.770Z"
   },
   {
    "duration": 197,
    "start_time": "2023-01-27T17:38:26.805Z"
   },
   {
    "duration": 175,
    "start_time": "2023-01-27T17:39:40.950Z"
   },
   {
    "duration": 180,
    "start_time": "2023-01-27T17:39:44.957Z"
   },
   {
    "duration": 178,
    "start_time": "2023-01-27T17:39:56.933Z"
   },
   {
    "duration": 174,
    "start_time": "2023-01-27T17:40:05.517Z"
   },
   {
    "duration": 153,
    "start_time": "2023-01-27T17:41:32.303Z"
   },
   {
    "duration": 170,
    "start_time": "2023-01-27T17:41:50.451Z"
   },
   {
    "duration": 171,
    "start_time": "2023-01-27T17:41:58.575Z"
   },
   {
    "duration": 168,
    "start_time": "2023-01-27T17:42:05.632Z"
   },
   {
    "duration": 165,
    "start_time": "2023-01-27T17:42:52.432Z"
   },
   {
    "duration": 166,
    "start_time": "2023-01-27T17:42:55.985Z"
   },
   {
    "duration": 168,
    "start_time": "2023-01-27T17:42:59.104Z"
   },
   {
    "duration": 257,
    "start_time": "2023-01-27T17:43:06.192Z"
   },
   {
    "duration": 156,
    "start_time": "2023-01-27T17:44:47.979Z"
   },
   {
    "duration": 228,
    "start_time": "2023-01-27T17:45:01.115Z"
   },
   {
    "duration": 174,
    "start_time": "2023-01-27T17:45:06.187Z"
   },
   {
    "duration": 189,
    "start_time": "2023-01-27T17:45:45.068Z"
   },
   {
    "duration": 185,
    "start_time": "2023-01-27T17:46:06.878Z"
   },
   {
    "duration": 185,
    "start_time": "2023-01-27T17:46:14.764Z"
   },
   {
    "duration": 208,
    "start_time": "2023-01-27T17:46:30.314Z"
   },
   {
    "duration": 228,
    "start_time": "2023-01-27T17:46:39.373Z"
   },
   {
    "duration": 232,
    "start_time": "2023-01-27T17:46:53.933Z"
   },
   {
    "duration": 238,
    "start_time": "2023-01-27T17:47:16.959Z"
   },
   {
    "duration": 274,
    "start_time": "2023-01-27T17:47:37.015Z"
   },
   {
    "duration": 241,
    "start_time": "2023-01-27T17:47:52.487Z"
   },
   {
    "duration": 339,
    "start_time": "2023-01-27T17:49:26.437Z"
   },
   {
    "duration": 215,
    "start_time": "2023-01-27T17:50:17.753Z"
   },
   {
    "duration": 199,
    "start_time": "2023-01-27T17:50:34.257Z"
   },
   {
    "duration": 233,
    "start_time": "2023-01-27T17:50:43.499Z"
   },
   {
    "duration": 235,
    "start_time": "2023-01-27T17:50:49.253Z"
   },
   {
    "duration": 192,
    "start_time": "2023-01-27T17:50:55.729Z"
   },
   {
    "duration": 215,
    "start_time": "2023-01-27T17:51:15.626Z"
   },
   {
    "duration": 196,
    "start_time": "2023-01-27T17:51:20.250Z"
   },
   {
    "duration": 158,
    "start_time": "2023-01-27T17:51:25.451Z"
   },
   {
    "duration": 182,
    "start_time": "2023-01-27T17:51:29.443Z"
   },
   {
    "duration": 166,
    "start_time": "2023-01-27T17:51:31.402Z"
   },
   {
    "duration": 161,
    "start_time": "2023-01-27T17:51:34.642Z"
   },
   {
    "duration": 164,
    "start_time": "2023-01-27T17:51:59.458Z"
   },
   {
    "duration": 164,
    "start_time": "2023-01-27T17:52:10.010Z"
   },
   {
    "duration": 284,
    "start_time": "2023-01-27T17:52:17.021Z"
   },
   {
    "duration": 194,
    "start_time": "2023-01-27T17:52:28.331Z"
   },
   {
    "duration": 232,
    "start_time": "2023-01-27T17:52:33.475Z"
   },
   {
    "duration": 188,
    "start_time": "2023-01-27T17:52:37.131Z"
   },
   {
    "duration": 179,
    "start_time": "2023-01-27T17:52:43.187Z"
   },
   {
    "duration": 176,
    "start_time": "2023-01-27T17:52:46.259Z"
   },
   {
    "duration": 171,
    "start_time": "2023-01-27T17:52:50.731Z"
   },
   {
    "duration": 265,
    "start_time": "2023-01-27T17:54:14.645Z"
   },
   {
    "duration": 163,
    "start_time": "2023-01-27T17:54:21.444Z"
   },
   {
    "duration": 159,
    "start_time": "2023-01-27T17:54:29.086Z"
   },
   {
    "duration": 190,
    "start_time": "2023-01-27T17:55:30.191Z"
   },
   {
    "duration": 195,
    "start_time": "2023-01-27T17:55:34.726Z"
   },
   {
    "duration": 96,
    "start_time": "2023-01-27T17:55:56.888Z"
   },
   {
    "duration": 104,
    "start_time": "2023-01-27T17:55:58.919Z"
   },
   {
    "duration": 100,
    "start_time": "2023-01-27T17:56:03.357Z"
   },
   {
    "duration": 254,
    "start_time": "2023-01-27T17:56:12.559Z"
   },
   {
    "duration": 186,
    "start_time": "2023-01-27T17:56:22.556Z"
   },
   {
    "duration": 180,
    "start_time": "2023-01-27T17:56:33.391Z"
   },
   {
    "duration": 167,
    "start_time": "2023-01-27T17:56:41.727Z"
   },
   {
    "duration": 197,
    "start_time": "2023-01-27T17:57:43.344Z"
   },
   {
    "duration": 173,
    "start_time": "2023-01-27T17:57:47.472Z"
   },
   {
    "duration": 257,
    "start_time": "2023-01-27T17:58:37.640Z"
   },
   {
    "duration": 207,
    "start_time": "2023-01-27T17:58:52.874Z"
   },
   {
    "duration": 191,
    "start_time": "2023-01-27T17:59:21.328Z"
   },
   {
    "duration": 290,
    "start_time": "2023-01-27T18:16:01.722Z"
   },
   {
    "duration": 217,
    "start_time": "2023-01-27T18:17:17.571Z"
   },
   {
    "duration": 189,
    "start_time": "2023-01-27T18:17:21.771Z"
   },
   {
    "duration": 251,
    "start_time": "2023-01-27T18:17:24.946Z"
   },
   {
    "duration": 210,
    "start_time": "2023-01-27T18:17:27.994Z"
   },
   {
    "duration": 183,
    "start_time": "2023-01-27T18:17:45.843Z"
   },
   {
    "duration": 290,
    "start_time": "2023-01-27T18:18:28.083Z"
   },
   {
    "duration": 189,
    "start_time": "2023-01-27T18:20:04.869Z"
   },
   {
    "duration": 332,
    "start_time": "2023-01-27T18:20:39.277Z"
   },
   {
    "duration": 292,
    "start_time": "2023-01-27T18:20:55.917Z"
   },
   {
    "duration": 246,
    "start_time": "2023-01-27T18:20:58.849Z"
   },
   {
    "duration": 317,
    "start_time": "2023-01-27T18:21:33.102Z"
   },
   {
    "duration": 334,
    "start_time": "2023-01-27T18:21:40.598Z"
   },
   {
    "duration": 303,
    "start_time": "2023-01-27T18:21:47.397Z"
   },
   {
    "duration": 217,
    "start_time": "2023-01-27T18:22:43.873Z"
   },
   {
    "duration": 183,
    "start_time": "2023-01-27T18:23:11.472Z"
   },
   {
    "duration": 281,
    "start_time": "2023-01-27T18:23:27.671Z"
   },
   {
    "duration": 212,
    "start_time": "2023-01-27T18:23:46.192Z"
   },
   {
    "duration": 298,
    "start_time": "2023-01-27T18:24:37.121Z"
   },
   {
    "duration": 305,
    "start_time": "2023-01-27T18:24:52.498Z"
   },
   {
    "duration": 125,
    "start_time": "2023-01-27T18:26:23.047Z"
   },
   {
    "duration": 125,
    "start_time": "2023-01-27T18:26:57.322Z"
   },
   {
    "duration": 216,
    "start_time": "2023-01-27T18:27:24.117Z"
   },
   {
    "duration": 123,
    "start_time": "2023-01-27T18:27:55.571Z"
   },
   {
    "duration": 144,
    "start_time": "2023-01-27T18:29:13.925Z"
   },
   {
    "duration": 142,
    "start_time": "2023-01-27T18:29:31.477Z"
   },
   {
    "duration": 146,
    "start_time": "2023-01-27T18:30:01.686Z"
   },
   {
    "duration": 28,
    "start_time": "2023-01-27T18:30:42.742Z"
   },
   {
    "duration": 30,
    "start_time": "2023-01-27T18:31:16.582Z"
   },
   {
    "duration": 25,
    "start_time": "2023-01-27T18:35:45.938Z"
   },
   {
    "duration": 24,
    "start_time": "2023-01-27T18:35:50.170Z"
   },
   {
    "duration": 12,
    "start_time": "2023-01-27T18:38:13.343Z"
   },
   {
    "duration": 40,
    "start_time": "2023-01-27T18:43:22.562Z"
   },
   {
    "duration": 10,
    "start_time": "2023-01-27T18:47:00.414Z"
   },
   {
    "duration": 11,
    "start_time": "2023-01-27T18:47:48.278Z"
   },
   {
    "duration": 58,
    "start_time": "2023-01-27T19:05:43.717Z"
   },
   {
    "duration": 62,
    "start_time": "2023-01-27T19:07:07.166Z"
   },
   {
    "duration": 26,
    "start_time": "2023-01-27T19:08:30.128Z"
   },
   {
    "duration": 13,
    "start_time": "2023-01-27T19:11:46.035Z"
   },
   {
    "duration": 47,
    "start_time": "2023-01-27T19:13:03.816Z"
   },
   {
    "duration": 42,
    "start_time": "2023-01-27T19:16:01.857Z"
   },
   {
    "duration": 1069,
    "start_time": "2023-01-27T19:17:26.968Z"
   },
   {
    "duration": 65,
    "start_time": "2023-01-27T19:17:28.039Z"
   },
   {
    "duration": 10,
    "start_time": "2023-01-27T19:17:28.105Z"
   },
   {
    "duration": 6,
    "start_time": "2023-01-27T19:17:28.117Z"
   },
   {
    "duration": 35,
    "start_time": "2023-01-27T19:17:28.124Z"
   },
   {
    "duration": 8,
    "start_time": "2023-01-27T19:17:28.160Z"
   },
   {
    "duration": 13,
    "start_time": "2023-01-27T19:17:28.170Z"
   },
   {
    "duration": 25,
    "start_time": "2023-01-27T19:17:28.184Z"
   },
   {
    "duration": 10,
    "start_time": "2023-01-27T19:17:28.211Z"
   },
   {
    "duration": 13,
    "start_time": "2023-01-27T19:17:28.223Z"
   },
   {
    "duration": 6,
    "start_time": "2023-01-27T19:17:28.238Z"
   },
   {
    "duration": 29,
    "start_time": "2023-01-27T19:17:28.246Z"
   },
   {
    "duration": 6,
    "start_time": "2023-01-27T19:17:28.276Z"
   },
   {
    "duration": 7,
    "start_time": "2023-01-27T19:17:28.284Z"
   },
   {
    "duration": 5,
    "start_time": "2023-01-27T19:17:28.293Z"
   },
   {
    "duration": 13,
    "start_time": "2023-01-27T19:17:28.299Z"
   },
   {
    "duration": 12,
    "start_time": "2023-01-27T19:17:28.314Z"
   },
   {
    "duration": 17,
    "start_time": "2023-01-27T19:17:28.328Z"
   },
   {
    "duration": 29,
    "start_time": "2023-01-27T19:17:28.347Z"
   },
   {
    "duration": 5,
    "start_time": "2023-01-27T19:17:28.377Z"
   },
   {
    "duration": 7,
    "start_time": "2023-01-27T19:17:28.383Z"
   },
   {
    "duration": 19,
    "start_time": "2023-01-27T19:17:28.392Z"
   },
   {
    "duration": 17,
    "start_time": "2023-01-27T19:17:28.412Z"
   },
   {
    "duration": 167,
    "start_time": "2023-01-27T19:17:28.431Z"
   },
   {
    "duration": 125,
    "start_time": "2023-01-27T19:17:28.600Z"
   },
   {
    "duration": 13,
    "start_time": "2023-01-27T19:17:28.726Z"
   },
   {
    "duration": 280,
    "start_time": "2023-01-27T19:17:28.741Z"
   },
   {
    "duration": 204,
    "start_time": "2023-01-27T19:17:29.026Z"
   },
   {
    "duration": 287,
    "start_time": "2023-01-27T19:17:29.232Z"
   },
   {
    "duration": 216,
    "start_time": "2023-01-27T19:17:29.521Z"
   },
   {
    "duration": 287,
    "start_time": "2023-01-27T19:17:29.739Z"
   },
   {
    "duration": 9,
    "start_time": "2023-01-27T19:17:30.028Z"
   },
   {
    "duration": 150,
    "start_time": "2023-01-27T19:17:30.039Z"
   },
   {
    "duration": 4,
    "start_time": "2023-01-27T19:17:30.191Z"
   },
   {
    "duration": 191,
    "start_time": "2023-01-27T19:17:30.196Z"
   },
   {
    "duration": 150,
    "start_time": "2023-01-27T19:17:30.389Z"
   },
   {
    "duration": 3,
    "start_time": "2023-01-27T19:17:30.541Z"
   },
   {
    "duration": 229,
    "start_time": "2023-01-27T19:17:30.546Z"
   },
   {
    "duration": 148,
    "start_time": "2023-01-27T19:17:30.777Z"
   },
   {
    "duration": 26,
    "start_time": "2023-01-27T19:17:30.927Z"
   },
   {
    "duration": 15,
    "start_time": "2023-01-27T19:17:30.955Z"
   },
   {
    "duration": 32,
    "start_time": "2023-01-27T19:17:30.972Z"
   },
   {
    "duration": 46,
    "start_time": "2023-01-27T19:17:31.005Z"
   },
   {
    "duration": 43,
    "start_time": "2023-01-27T19:17:31.053Z"
   },
   {
    "duration": 6,
    "start_time": "2023-01-27T19:18:08.756Z"
   },
   {
    "duration": 988,
    "start_time": "2023-01-27T19:20:43.831Z"
   },
   {
    "duration": 65,
    "start_time": "2023-01-27T19:20:44.821Z"
   },
   {
    "duration": 11,
    "start_time": "2023-01-27T19:20:44.887Z"
   },
   {
    "duration": 13,
    "start_time": "2023-01-27T19:20:44.900Z"
   },
   {
    "duration": 33,
    "start_time": "2023-01-27T19:20:44.915Z"
   },
   {
    "duration": 7,
    "start_time": "2023-01-27T19:20:44.950Z"
   },
   {
    "duration": 17,
    "start_time": "2023-01-27T19:20:44.959Z"
   },
   {
    "duration": 16,
    "start_time": "2023-01-27T19:20:44.978Z"
   },
   {
    "duration": 19,
    "start_time": "2023-01-27T19:20:44.997Z"
   },
   {
    "duration": 27,
    "start_time": "2023-01-27T19:20:45.020Z"
   },
   {
    "duration": 18,
    "start_time": "2023-01-27T19:20:45.049Z"
   },
   {
    "duration": 14,
    "start_time": "2023-01-27T19:20:45.069Z"
   },
   {
    "duration": 13,
    "start_time": "2023-01-27T19:20:45.084Z"
   },
   {
    "duration": 23,
    "start_time": "2023-01-27T19:20:45.098Z"
   },
   {
    "duration": 21,
    "start_time": "2023-01-27T19:20:45.123Z"
   },
   {
    "duration": 14,
    "start_time": "2023-01-27T19:20:45.145Z"
   },
   {
    "duration": 8,
    "start_time": "2023-01-27T19:20:45.161Z"
   },
   {
    "duration": 11,
    "start_time": "2023-01-27T19:20:45.171Z"
   },
   {
    "duration": 27,
    "start_time": "2023-01-27T19:20:45.184Z"
   },
   {
    "duration": 5,
    "start_time": "2023-01-27T19:20:45.212Z"
   },
   {
    "duration": 10,
    "start_time": "2023-01-27T19:20:45.218Z"
   },
   {
    "duration": 9,
    "start_time": "2023-01-27T19:20:45.229Z"
   },
   {
    "duration": 13,
    "start_time": "2023-01-27T19:20:45.240Z"
   },
   {
    "duration": 177,
    "start_time": "2023-01-27T19:20:45.256Z"
   },
   {
    "duration": 129,
    "start_time": "2023-01-27T19:20:45.434Z"
   },
   {
    "duration": 12,
    "start_time": "2023-01-27T19:20:45.564Z"
   },
   {
    "duration": 305,
    "start_time": "2023-01-27T19:20:45.578Z"
   },
   {
    "duration": 201,
    "start_time": "2023-01-27T19:20:45.888Z"
   },
   {
    "duration": 350,
    "start_time": "2023-01-27T19:20:46.091Z"
   },
   {
    "duration": 259,
    "start_time": "2023-01-27T19:20:46.442Z"
   },
   {
    "duration": 339,
    "start_time": "2023-01-27T19:20:46.703Z"
   },
   {
    "duration": 9,
    "start_time": "2023-01-27T19:20:47.044Z"
   },
   {
    "duration": 145,
    "start_time": "2023-01-27T19:20:47.055Z"
   },
   {
    "duration": 8,
    "start_time": "2023-01-27T19:20:47.203Z"
   },
   {
    "duration": 162,
    "start_time": "2023-01-27T19:20:47.212Z"
   },
   {
    "duration": 158,
    "start_time": "2023-01-27T19:20:47.375Z"
   },
   {
    "duration": 6,
    "start_time": "2023-01-27T19:20:47.535Z"
   },
   {
    "duration": 243,
    "start_time": "2023-01-27T19:20:47.542Z"
   },
   {
    "duration": 154,
    "start_time": "2023-01-27T19:20:47.787Z"
   },
   {
    "duration": 28,
    "start_time": "2023-01-27T19:20:47.942Z"
   },
   {
    "duration": 11,
    "start_time": "2023-01-27T19:20:47.971Z"
   },
   {
    "duration": 28,
    "start_time": "2023-01-27T19:20:47.984Z"
   },
   {
    "duration": 30,
    "start_time": "2023-01-27T19:20:48.014Z"
   },
   {
    "duration": 15,
    "start_time": "2023-01-27T19:20:48.046Z"
   },
   {
    "duration": 53,
    "start_time": "2023-01-30T17:25:55.281Z"
   },
   {
    "duration": 1401,
    "start_time": "2023-01-30T17:26:01.616Z"
   },
   {
    "duration": 179,
    "start_time": "2023-01-30T17:26:03.020Z"
   },
   {
    "duration": 15,
    "start_time": "2023-01-30T17:26:03.202Z"
   },
   {
    "duration": 30,
    "start_time": "2023-01-30T17:26:03.219Z"
   },
   {
    "duration": 133,
    "start_time": "2023-01-30T17:26:03.251Z"
   },
   {
    "duration": 9,
    "start_time": "2023-01-30T17:26:03.386Z"
   },
   {
    "duration": 41,
    "start_time": "2023-01-30T17:26:03.397Z"
   },
   {
    "duration": 53,
    "start_time": "2023-01-30T17:26:03.440Z"
   },
   {
    "duration": 40,
    "start_time": "2023-01-30T17:26:03.496Z"
   },
   {
    "duration": 82,
    "start_time": "2023-01-30T17:26:03.539Z"
   },
   {
    "duration": 9,
    "start_time": "2023-01-30T17:26:03.624Z"
   },
   {
    "duration": 61,
    "start_time": "2023-01-30T17:26:03.635Z"
   },
   {
    "duration": 48,
    "start_time": "2023-01-30T17:26:03.698Z"
   },
   {
    "duration": 55,
    "start_time": "2023-01-30T17:26:03.748Z"
   },
   {
    "duration": 32,
    "start_time": "2023-01-30T17:26:03.805Z"
   },
   {
    "duration": 21,
    "start_time": "2023-01-30T17:26:03.838Z"
   },
   {
    "duration": 58,
    "start_time": "2023-01-30T17:26:03.861Z"
   },
   {
    "duration": 128,
    "start_time": "2023-01-30T17:26:03.920Z"
   },
   {
    "duration": 53,
    "start_time": "2023-01-30T17:26:04.050Z"
   },
   {
    "duration": 38,
    "start_time": "2023-01-30T17:26:04.105Z"
   },
   {
    "duration": 5,
    "start_time": "2023-01-30T17:26:04.145Z"
   },
   {
    "duration": 41,
    "start_time": "2023-01-30T17:26:04.154Z"
   },
   {
    "duration": 26,
    "start_time": "2023-01-30T17:26:04.196Z"
   },
   {
    "duration": 44,
    "start_time": "2023-01-30T17:26:04.225Z"
   },
   {
    "duration": 186,
    "start_time": "2023-01-30T17:26:04.271Z"
   },
   {
    "duration": 149,
    "start_time": "2023-01-30T17:26:04.466Z"
   },
   {
    "duration": 13,
    "start_time": "2023-01-30T17:26:04.617Z"
   },
   {
    "duration": 381,
    "start_time": "2023-01-30T17:26:04.634Z"
   },
   {
    "duration": 226,
    "start_time": "2023-01-30T17:26:05.018Z"
   },
   {
    "duration": 373,
    "start_time": "2023-01-30T17:26:05.246Z"
   },
   {
    "duration": 249,
    "start_time": "2023-01-30T17:26:05.621Z"
   },
   {
    "duration": 329,
    "start_time": "2023-01-30T17:26:05.873Z"
   },
   {
    "duration": 11,
    "start_time": "2023-01-30T17:26:06.204Z"
   },
   {
    "duration": 194,
    "start_time": "2023-01-30T17:26:06.217Z"
   },
   {
    "duration": 4,
    "start_time": "2023-01-30T17:26:06.413Z"
   },
   {
    "duration": 185,
    "start_time": "2023-01-30T17:26:06.419Z"
   },
   {
    "duration": 167,
    "start_time": "2023-01-30T17:26:06.606Z"
   },
   {
    "duration": 4,
    "start_time": "2023-01-30T17:26:06.775Z"
   },
   {
    "duration": 293,
    "start_time": "2023-01-30T17:26:06.780Z"
   },
   {
    "duration": 162,
    "start_time": "2023-01-30T17:26:07.075Z"
   },
   {
    "duration": 42,
    "start_time": "2023-01-30T17:26:07.238Z"
   },
   {
    "duration": 16,
    "start_time": "2023-01-30T17:26:07.282Z"
   },
   {
    "duration": 12,
    "start_time": "2023-01-30T17:26:07.300Z"
   },
   {
    "duration": 61,
    "start_time": "2023-01-30T17:26:07.314Z"
   },
   {
    "duration": 14,
    "start_time": "2023-01-30T17:26:07.376Z"
   },
   {
    "duration": 10,
    "start_time": "2023-01-30T17:26:23.807Z"
   },
   {
    "duration": 1024,
    "start_time": "2023-02-04T18:19:50.849Z"
   },
   {
    "duration": 140,
    "start_time": "2023-02-04T18:19:51.876Z"
   },
   {
    "duration": 16,
    "start_time": "2023-02-04T18:19:52.018Z"
   },
   {
    "duration": 5,
    "start_time": "2023-02-04T18:19:52.036Z"
   },
   {
    "duration": 97,
    "start_time": "2023-02-04T18:19:52.044Z"
   },
   {
    "duration": 10,
    "start_time": "2023-02-04T18:19:52.143Z"
   },
   {
    "duration": 20,
    "start_time": "2023-02-04T18:19:52.155Z"
   },
   {
    "duration": 26,
    "start_time": "2023-02-04T18:19:52.177Z"
   },
   {
    "duration": 13,
    "start_time": "2023-02-04T18:19:52.212Z"
   },
   {
    "duration": 63,
    "start_time": "2023-02-04T18:19:52.226Z"
   },
   {
    "duration": 8,
    "start_time": "2023-02-04T18:19:52.291Z"
   },
   {
    "duration": 27,
    "start_time": "2023-02-04T18:19:52.301Z"
   },
   {
    "duration": 8,
    "start_time": "2023-02-04T18:19:52.330Z"
   },
   {
    "duration": 9,
    "start_time": "2023-02-04T18:19:52.342Z"
   },
   {
    "duration": 16,
    "start_time": "2023-02-04T18:19:52.353Z"
   },
   {
    "duration": 12,
    "start_time": "2023-02-04T18:19:52.372Z"
   },
   {
    "duration": 35,
    "start_time": "2023-02-04T18:19:52.386Z"
   },
   {
    "duration": 12,
    "start_time": "2023-02-04T18:19:52.423Z"
   },
   {
    "duration": 8,
    "start_time": "2023-02-04T18:19:52.436Z"
   },
   {
    "duration": 19,
    "start_time": "2023-02-04T18:19:52.445Z"
   },
   {
    "duration": 26,
    "start_time": "2023-02-04T18:19:52.466Z"
   },
   {
    "duration": 19,
    "start_time": "2023-02-04T18:19:52.499Z"
   },
   {
    "duration": 9,
    "start_time": "2023-02-04T18:19:52.520Z"
   },
   {
    "duration": 12,
    "start_time": "2023-02-04T18:19:52.531Z"
   },
   {
    "duration": 8,
    "start_time": "2023-02-04T18:19:52.545Z"
   },
   {
    "duration": 7,
    "start_time": "2023-02-04T18:19:52.554Z"
   },
   {
    "duration": 179,
    "start_time": "2023-02-04T18:19:52.562Z"
   },
   {
    "duration": 127,
    "start_time": "2023-02-04T18:19:52.743Z"
   },
   {
    "duration": 23,
    "start_time": "2023-02-04T18:19:52.872Z"
   },
   {
    "duration": 306,
    "start_time": "2023-02-04T18:19:52.896Z"
   },
   {
    "duration": 242,
    "start_time": "2023-02-04T18:19:53.205Z"
   },
   {
    "duration": 308,
    "start_time": "2023-02-04T18:19:53.450Z"
   },
   {
    "duration": 244,
    "start_time": "2023-02-04T18:19:53.760Z"
   },
   {
    "duration": 380,
    "start_time": "2023-02-04T18:19:54.005Z"
   },
   {
    "duration": 20,
    "start_time": "2023-02-04T18:19:54.387Z"
   },
   {
    "duration": 192,
    "start_time": "2023-02-04T18:19:54.412Z"
   },
   {
    "duration": 7,
    "start_time": "2023-02-04T18:19:54.606Z"
   },
   {
    "duration": 164,
    "start_time": "2023-02-04T18:19:54.614Z"
   },
   {
    "duration": 154,
    "start_time": "2023-02-04T18:19:54.779Z"
   },
   {
    "duration": 4,
    "start_time": "2023-02-04T18:19:54.935Z"
   },
   {
    "duration": 272,
    "start_time": "2023-02-04T18:19:54.943Z"
   },
   {
    "duration": 198,
    "start_time": "2023-02-04T18:19:55.217Z"
   },
   {
    "duration": 36,
    "start_time": "2023-02-04T18:19:55.421Z"
   },
   {
    "duration": 12,
    "start_time": "2023-02-04T18:19:55.459Z"
   },
   {
    "duration": 31,
    "start_time": "2023-02-04T18:19:55.473Z"
   },
   {
    "duration": 48,
    "start_time": "2023-02-04T18:19:55.506Z"
   },
   {
    "duration": 16,
    "start_time": "2023-02-04T18:19:55.557Z"
   }
  ],
  "kernelspec": {
   "display_name": "base",
   "language": "python",
   "name": "python3"
  },
  "language_info": {
   "codemirror_mode": {
    "name": "ipython",
    "version": 3
   },
   "file_extension": ".py",
   "mimetype": "text/x-python",
   "name": "python",
   "nbconvert_exporter": "python",
   "pygments_lexer": "ipython3",
   "version": "3.9.12"
  },
  "toc": {
   "base_numbering": 1,
   "nav_menu": {},
   "number_sections": true,
   "sideBar": true,
   "skip_h1_title": true,
   "title_cell": "Table of Contents",
   "title_sidebar": "Contents",
   "toc_cell": false,
   "toc_position": {},
   "toc_section_display": true,
   "toc_window_display": false
  },
  "vscode": {
   "interpreter": {
    "hash": "ad2bdc8ecc057115af97d19610ffacc2b4e99fae6737bb82f5d7fb13d2f2c186"
   }
  }
 },
 "nbformat": 4,
 "nbformat_minor": 2
}
