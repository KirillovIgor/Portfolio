  {
   "attachments": {},
   "cell_type": "markdown",
   "metadata": {},
   "source": [
    "<h2>Описание проекта <a class=\"tocSkip\"> </h2>\n",
    "\n",
    "**Заказчик** — интернет - магазин\n",
    "    \n",
    "**Цель проекта** - выполнить A/B-тестирование для проверки подготовленных гипотез для увеличения выручки\n",
    "    \n",
    "**Описание данных для первой части проекта:**\n",
    "    \n",
    "Файл hypothesis.csv\n",
    "    \n",
    "- `Hypothesis` — краткое описание гипотезы;\n",
    "- `Reach` — охват пользователей по 10-балльной шкале;\n",
    "- `Impact` — влияние на пользователей по 10-балльной шкале;\n",
    "- `Confidence` — уверенность в гипотезе по 10-балльной шкале;\n",
    "- `Efforts` — затраты ресурсов на проверку гипотезы по 10-балльной шкале. Чем больше значение Efforts, тем дороже проверка гипотезы.\n",
    "\n",
    "**Описание данных для второй части проекта:**\n",
    "    \n",
    "Файл orders.csv\n",
    "    \n",
    "- `transactionId` — идентификатор заказа;\n",
    "- `visitorId` — идентификатор пользователя, совершившего заказ;\n",
    "- `date` — дата, когда был совершён заказ;\n",
    "- `revenue` — выручка заказа;\n",
    "- `group` — группа A/B-теста, в которую попал заказ.\n",
    "    \n",
    "Файл visitors.csv\n",
    "    \n",
    "- `date` — дата;\n",
    "- `group` — группа A/B-теста;\n",
    "- `visitors` — количество пользователей в указанную дату в указанной группе A/B-теста"
   ]
  },
  {
   "cell_type": "markdown",
   "metadata": {},
   "source": [
    "### Откроем файлы с данными и изучим информацию"
   ]
  },
  {
   "cell_type": "code",
   "execution_count": 13,
   "metadata": {},
   "outputs": [],
   "source": [
    "#Импортируем библиотеки\n",
    "import pandas as pd\n",
    "import numpy as np\n",
    "import scipy.stats as stats\n",
    "import matplotlib.pyplot as plt\n",
    "import warnings\n",
    "import datetime as dt\n",
    "#Код для предотвращения всплывающих ошибок\n",
    "warnings.filterwarnings(\"ignore\")"
   ]
  },
  {
   "cell_type": "markdown",
   "metadata": {},
   "source": [
    "#### Файл с гипотезами"
   ]
  },
  {
   "cell_type": "code",
   "execution_count": 14,
   "metadata": {},
   "outputs": [],
   "source": [
    "#Сохраним датасет в переменную hypothesis\n",
    "hypothesis = pd.read_csv('hypothesis.csv')"
   ]
  },
  {
   "cell_type": "code",
   "execution_count": 15,
   "metadata": {},
   "outputs": [
    {
     "data": {
      "text/html": [
       "<div>\n",
       "<style scoped>\n",
       "    .dataframe tbody tr th:only-of-type {\n",
       "        vertical-align: middle;\n",
       "    }\n",
       "\n",
       "    .dataframe tbody tr th {\n",
       "        vertical-align: top;\n",
       "    }\n",
       "\n",
       "    .dataframe thead th {\n",
       "        text-align: right;\n",
       "    }\n",
       "</style>\n",
       "<table border=\"1\" class=\"dataframe\">\n",
       "  <thead>\n",
       "    <tr style=\"text-align: right;\">\n",
       "      <th></th>\n",
       "      <th>Hypothesis</th>\n",
       "      <th>Reach</th>\n",
       "      <th>Impact</th>\n",
       "      <th>Confidence</th>\n",
       "      <th>Efforts</th>\n",
       "    </tr>\n",
       "  </thead>\n",
       "  <tbody>\n",
       "    <tr>\n",
       "      <th>0</th>\n",
       "      <td>Добавить два новых канала привлечения трафика, что позволит привлекать на 30% больше пользователей</td>\n",
       "      <td>3</td>\n",
       "      <td>10</td>\n",
       "      <td>8</td>\n",
       "      <td>6</td>\n",
       "    </tr>\n",
       "    <tr>\n",
       "      <th>1</th>\n",
       "      <td>Запустить собственную службу доставки, что сократит срок доставки заказов</td>\n",
       "      <td>2</td>\n",
       "      <td>5</td>\n",
       "      <td>4</td>\n",
       "      <td>10</td>\n",
       "    </tr>\n",
       "    <tr>\n",
       "      <th>2</th>\n",
       "      <td>Добавить блоки рекомендаций товаров на сайт интернет магазина, чтобы повысить конверсию и средний чек заказа</td>\n",
       "      <td>8</td>\n",
       "      <td>3</td>\n",
       "      <td>7</td>\n",
       "      <td>3</td>\n",
       "    </tr>\n",
       "    <tr>\n",
       "      <th>3</th>\n",
       "      <td>Изменить структура категорий, что увеличит конверсию, т.к. пользователи быстрее найдут нужный товар</td>\n",
       "      <td>8</td>\n",
       "      <td>3</td>\n",
       "      <td>3</td>\n",
       "      <td>8</td>\n",
       "    </tr>\n",
       "    <tr>\n",
       "      <th>4</th>\n",
       "      <td>Изменить цвет фона главной страницы, чтобы увеличить вовлеченность пользователей</td>\n",
       "      <td>3</td>\n",
       "      <td>1</td>\n",
       "      <td>1</td>\n",
       "      <td>1</td>\n",
       "    </tr>\n",
       "    <tr>\n",
       "      <th>5</th>\n",
       "      <td>Добавить страницу отзывов клиентов о магазине, что позволит увеличить количество заказов</td>\n",
       "      <td>3</td>\n",
       "      <td>2</td>\n",
       "      <td>2</td>\n",
       "      <td>3</td>\n",
       "    </tr>\n",
       "    <tr>\n",
       "      <th>6</th>\n",
       "      <td>Показать на главной странице баннеры с актуальными акциями и распродажами, чтобы увеличить конверсию</td>\n",
       "      <td>5</td>\n",
       "      <td>3</td>\n",
       "      <td>8</td>\n",
       "      <td>3</td>\n",
       "    </tr>\n",
       "    <tr>\n",
       "      <th>7</th>\n",
       "      <td>Добавить форму подписки на все основные страницы, чтобы собрать базу клиентов для email-рассылок</td>\n",
       "      <td>10</td>\n",
       "      <td>7</td>\n",
       "      <td>8</td>\n",
       "      <td>5</td>\n",
       "    </tr>\n",
       "    <tr>\n",
       "      <th>8</th>\n",
       "      <td>Запустить акцию, дающую скидку на товар в день рождения</td>\n",
       "      <td>1</td>\n",
       "      <td>9</td>\n",
       "      <td>9</td>\n",
       "      <td>5</td>\n",
       "    </tr>\n",
       "  </tbody>\n",
       "</table>\n",
       "</div>"
      ],
      "text/plain": [
       "                                                                                                     Hypothesis  \\\n",
       "0            Добавить два новых канала привлечения трафика, что позволит привлекать на 30% больше пользователей   \n",
       "1                                     Запустить собственную службу доставки, что сократит срок доставки заказов   \n",
       "2  Добавить блоки рекомендаций товаров на сайт интернет магазина, чтобы повысить конверсию и средний чек заказа   \n",
       "3           Изменить структура категорий, что увеличит конверсию, т.к. пользователи быстрее найдут нужный товар   \n",
       "4                              Изменить цвет фона главной страницы, чтобы увеличить вовлеченность пользователей   \n",
       "5                      Добавить страницу отзывов клиентов о магазине, что позволит увеличить количество заказов   \n",
       "6          Показать на главной странице баннеры с актуальными акциями и распродажами, чтобы увеличить конверсию   \n",
       "7              Добавить форму подписки на все основные страницы, чтобы собрать базу клиентов для email-рассылок   \n",
       "8                                                       Запустить акцию, дающую скидку на товар в день рождения   \n",
       "\n",
       "   Reach  Impact  Confidence  Efforts  \n",
       "0      3      10           8        6  \n",
       "1      2       5           4       10  \n",
       "2      8       3           7        3  \n",
       "3      8       3           3        8  \n",
       "4      3       1           1        1  \n",
       "5      3       2           2        3  \n",
       "6      5       3           8        3  \n",
       "7     10       7           8        5  \n",
       "8      1       9           9        5  "
      ]
     },
     "execution_count": 15,
     "metadata": {},
     "output_type": "execute_result"
    }
   ],
   "source": [
    "pd.options.display.max_colwidth = 110\n",
    "hypothesis"
   ]
  },
  {
   "cell_type": "markdown",
   "metadata": {},
   "source": [
    "Наш датасет содержит 9 гипотез с проставленными параметрами Reach, Impact, Confidence, Effort"
   ]
  },
  {
   "cell_type": "code",
   "execution_count": 16,
   "metadata": {},
   "outputs": [],
   "source": [
    "#Сразу же приведем наименования колонок к правильному регистру\n",
    "hypothesis.columns = ['hypothesis', 'reach', 'impact', 'confidence', 'efforts']"
   ]
  },
  {
   "cell_type": "markdown",
   "metadata": {},
   "source": [
    "#### Файл с заказами"
   ]
  },
  {
   "cell_type": "code",
   "execution_count": 17,
   "metadata": {},
   "outputs": [],
   "source": [
    "#Сохраним датасет в переменную orders\n",
    "orders = pd.read_csv('orders.csv')"
   ]
  },
  {
   "cell_type": "code",
   "execution_count": 18,
   "metadata": {},
   "outputs": [
    {
     "data": {
      "text/html": [
       "<div>\n",
       "<style scoped>\n",
       "    .dataframe tbody tr th:only-of-type {\n",
       "        vertical-align: middle;\n",
       "    }\n",
       "\n",
       "    .dataframe tbody tr th {\n",
       "        vertical-align: top;\n",
       "    }\n",
       "\n",
       "    .dataframe thead th {\n",
       "        text-align: right;\n",
       "    }\n",
       "</style>\n",
       "<table border=\"1\" class=\"dataframe\">\n",
       "  <thead>\n",
       "    <tr style=\"text-align: right;\">\n",
       "      <th></th>\n",
       "      <th>transactionId</th>\n",
       "      <th>visitorId</th>\n",
       "      <th>date</th>\n",
       "      <th>revenue</th>\n",
       "      <th>group</th>\n",
       "    </tr>\n",
       "  </thead>\n",
       "  <tbody>\n",
       "    <tr>\n",
       "      <th>0</th>\n",
       "      <td>3667963787</td>\n",
       "      <td>3312258926</td>\n",
       "      <td>2019-08-15</td>\n",
       "      <td>1650</td>\n",
       "      <td>B</td>\n",
       "    </tr>\n",
       "    <tr>\n",
       "      <th>1</th>\n",
       "      <td>2804400009</td>\n",
       "      <td>3642806036</td>\n",
       "      <td>2019-08-15</td>\n",
       "      <td>730</td>\n",
       "      <td>B</td>\n",
       "    </tr>\n",
       "    <tr>\n",
       "      <th>2</th>\n",
       "      <td>2961555356</td>\n",
       "      <td>4069496402</td>\n",
       "      <td>2019-08-15</td>\n",
       "      <td>400</td>\n",
       "      <td>A</td>\n",
       "    </tr>\n",
       "    <tr>\n",
       "      <th>3</th>\n",
       "      <td>3797467345</td>\n",
       "      <td>1196621759</td>\n",
       "      <td>2019-08-15</td>\n",
       "      <td>9759</td>\n",
       "      <td>B</td>\n",
       "    </tr>\n",
       "    <tr>\n",
       "      <th>4</th>\n",
       "      <td>2282983706</td>\n",
       "      <td>2322279887</td>\n",
       "      <td>2019-08-15</td>\n",
       "      <td>2308</td>\n",
       "      <td>B</td>\n",
       "    </tr>\n",
       "  </tbody>\n",
       "</table>\n",
       "</div>"
      ],
      "text/plain": [
       "   transactionId   visitorId        date  revenue group\n",
       "0     3667963787  3312258926  2019-08-15     1650     B\n",
       "1     2804400009  3642806036  2019-08-15      730     B\n",
       "2     2961555356  4069496402  2019-08-15      400     A\n",
       "3     3797467345  1196621759  2019-08-15     9759     B\n",
       "4     2282983706  2322279887  2019-08-15     2308     B"
      ]
     },
     "execution_count": 18,
     "metadata": {},
     "output_type": "execute_result"
    }
   ],
   "source": [
    "#Выведем первые 5 строк для ознакомления с датасетом\n",
    "orders.head()"
   ]
  },
  {
   "cell_type": "code",
   "execution_count": 19,
   "metadata": {
    "scrolled": false
   },
   "outputs": [
    {
     "name": "stdout",
     "output_type": "stream",
     "text": [
      "<class 'pandas.core.frame.DataFrame'>\n",
      "RangeIndex: 1197 entries, 0 to 1196\n",
      "Data columns (total 5 columns):\n",
      " #   Column         Non-Null Count  Dtype \n",
      "---  ------         --------------  ----- \n",
      " 0   transactionId  1197 non-null   int64 \n",
      " 1   visitorId      1197 non-null   int64 \n",
      " 2   date           1197 non-null   object\n",
      " 3   revenue        1197 non-null   int64 \n",
      " 4   group          1197 non-null   object\n",
      "dtypes: int64(3), object(2)\n",
      "memory usage: 46.9+ KB\n"
     ]
    }
   ],
   "source": [
    "#Проверим наличие пропусков и типы колонок\n",
    "orders.info()"
   ]
  },
  {
   "cell_type": "code",
   "execution_count": 20,
   "metadata": {},
   "outputs": [],
   "source": [
    "#Необходимо изменить тип данных на date\n",
    "orders['date'] = orders['date'].map(\n",
    "    lambda x: dt.datetime.strptime(x, '%Y-%m-%d'))"
   ]
  },
  {
   "cell_type": "code",
   "execution_count": 21,
   "metadata": {},
   "outputs": [
    {
     "data": {
      "text/plain": [
       "0"
      ]
     },
     "execution_count": 21,
     "metadata": {},
     "output_type": "execute_result"
    }
   ],
   "source": [
    "#Проверим датасет на наличие дубликатов\n",
    "orders.duplicated().sum()"
   ]
  },
  {
   "cell_type": "markdown",
   "metadata": {},
   "source": [
    "#### Файл с посещениями сайта"
   ]
  },
  {
   "cell_type": "code",
   "execution_count": 22,
   "metadata": {},
   "outputs": [],
   "source": [
    "#Сохраним датасет в переменную orders\n",
    "visitors = pd.read_csv('visitors.csv')"
   ]
  },
  {
   "cell_type": "code",
   "execution_count": 23,
   "metadata": {},
   "outputs": [
    {
     "data": {
      "text/html": [
       "<div>\n",
       "<style scoped>\n",
       "    .dataframe tbody tr th:only-of-type {\n",
       "        vertical-align: middle;\n",
       "    }\n",
       "\n",
       "    .dataframe tbody tr th {\n",
       "        vertical-align: top;\n",
       "    }\n",
       "\n",
       "    .dataframe thead th {\n",
       "        text-align: right;\n",
       "    }\n",
       "</style>\n",
       "<table border=\"1\" class=\"dataframe\">\n",
       "  <thead>\n",
       "    <tr style=\"text-align: right;\">\n",
       "      <th></th>\n",
       "      <th>date</th>\n",
       "      <th>group</th>\n",
       "      <th>visitors</th>\n",
       "    </tr>\n",
       "  </thead>\n",
       "  <tbody>\n",
       "    <tr>\n",
       "      <th>0</th>\n",
       "      <td>2019-08-01</td>\n",
       "      <td>A</td>\n",
       "      <td>719</td>\n",
       "    </tr>\n",
       "    <tr>\n",
       "      <th>1</th>\n",
       "      <td>2019-08-02</td>\n",
       "      <td>A</td>\n",
       "      <td>619</td>\n",
       "    </tr>\n",
       "    <tr>\n",
       "      <th>2</th>\n",
       "      <td>2019-08-03</td>\n",
       "      <td>A</td>\n",
       "      <td>507</td>\n",
       "    </tr>\n",
       "    <tr>\n",
       "      <th>3</th>\n",
       "      <td>2019-08-04</td>\n",
       "      <td>A</td>\n",
       "      <td>717</td>\n",
       "    </tr>\n",
       "    <tr>\n",
       "      <th>4</th>\n",
       "      <td>2019-08-05</td>\n",
       "      <td>A</td>\n",
       "      <td>756</td>\n",
       "    </tr>\n",
       "  </tbody>\n",
       "</table>\n",
       "</div>"
      ],
      "text/plain": [
       "         date group  visitors\n",
       "0  2019-08-01     A       719\n",
       "1  2019-08-02     A       619\n",
       "2  2019-08-03     A       507\n",
       "3  2019-08-04     A       717\n",
       "4  2019-08-05     A       756"
      ]
     },
     "execution_count": 23,
     "metadata": {},
     "output_type": "execute_result"
    }
   ],
   "source": [
    "#Выведем первые 5 строк для ознакомления с датасетом\n",
    "visitors.head()"
   ]
  },
  {
   "cell_type": "code",
   "execution_count": 24,
   "metadata": {
    "scrolled": true
   },
   "outputs": [
    {
     "name": "stdout",
     "output_type": "stream",
     "text": [
      "<class 'pandas.core.frame.DataFrame'>\n",
      "RangeIndex: 62 entries, 0 to 61\n",
      "Data columns (total 3 columns):\n",
      " #   Column    Non-Null Count  Dtype \n",
      "---  ------    --------------  ----- \n",
      " 0   date      62 non-null     object\n",
      " 1   group     62 non-null     object\n",
      " 2   visitors  62 non-null     int64 \n",
      "dtypes: int64(1), object(2)\n",
      "memory usage: 1.6+ KB\n"
     ]
    }
   ],
   "source": [
    "#Проверим наличие пропусков и типы колонок\n",
    "visitors.info()"
   ]
  },
  {
   "cell_type": "code",
   "execution_count": 25,
   "metadata": {},
   "outputs": [],
   "source": [
    "#Необходимо изменить тип данных на date\n",
    "visitors['date'] = visitors['date'].map(\n",
    "    lambda x: dt.datetime.strptime(x, '%Y-%m-%d'))"
   ]
  },
  {
   "cell_type": "code",
   "execution_count": 26,
   "metadata": {},
   "outputs": [
    {
     "data": {
      "text/plain": [
       "0"
      ]
     },
     "execution_count": 26,
     "metadata": {},
     "output_type": "execute_result"
    }
   ],
   "source": [
    "#Проверим датасет на наличие дубликатов\n",
    "visitors.duplicated().sum()"
   ]
  },
  {
   "cell_type": "code",
   "execution_count": 27,
   "metadata": {},
   "outputs": [
    {
     "name": "stdout",
     "output_type": "stream",
     "text": [
      "<class 'pandas.core.frame.DataFrame'>\n",
      "RangeIndex: 62 entries, 0 to 61\n",
      "Data columns (total 3 columns):\n",
      " #   Column    Non-Null Count  Dtype         \n",
      "---  ------    --------------  -----         \n",
      " 0   date      62 non-null     datetime64[ns]\n",
      " 1   group     62 non-null     object        \n",
      " 2   visitors  62 non-null     int64         \n",
      "dtypes: datetime64[ns](1), int64(1), object(1)\n",
      "memory usage: 1.6+ KB\n"
     ]
    }
   ],
   "source": [
    "visitors.info()"
   ]
  },
  {
   "cell_type": "code",
   "execution_count": 28,
   "metadata": {},
   "outputs": [
    {
     "data": {
      "text/html": [
       "<div>\n",
       "<style scoped>\n",
       "    .dataframe tbody tr th:only-of-type {\n",
       "        vertical-align: middle;\n",
       "    }\n",
       "\n",
       "    .dataframe tbody tr th {\n",
       "        vertical-align: top;\n",
       "    }\n",
       "\n",
       "    .dataframe thead th {\n",
       "        text-align: right;\n",
       "    }\n",
       "</style>\n",
       "<table border=\"1\" class=\"dataframe\">\n",
       "  <thead>\n",
       "    <tr style=\"text-align: right;\">\n",
       "      <th></th>\n",
       "      <th>date</th>\n",
       "      <th>group</th>\n",
       "      <th>visitors</th>\n",
       "    </tr>\n",
       "  </thead>\n",
       "  <tbody>\n",
       "    <tr>\n",
       "      <th>0</th>\n",
       "      <td>2019-08-01</td>\n",
       "      <td>A</td>\n",
       "      <td>719</td>\n",
       "    </tr>\n",
       "    <tr>\n",
       "      <th>1</th>\n",
       "      <td>2019-08-02</td>\n",
       "      <td>A</td>\n",
       "      <td>619</td>\n",
       "    </tr>\n",
       "    <tr>\n",
       "      <th>2</th>\n",
       "      <td>2019-08-03</td>\n",
       "      <td>A</td>\n",
       "      <td>507</td>\n",
       "    </tr>\n",
       "    <tr>\n",
       "      <th>3</th>\n",
       "      <td>2019-08-04</td>\n",
       "      <td>A</td>\n",
       "      <td>717</td>\n",
       "    </tr>\n",
       "    <tr>\n",
       "      <th>4</th>\n",
       "      <td>2019-08-05</td>\n",
       "      <td>A</td>\n",
       "      <td>756</td>\n",
       "    </tr>\n",
       "  </tbody>\n",
       "</table>\n",
       "</div>"
      ],
      "text/plain": [
       "        date group  visitors\n",
       "0 2019-08-01     A       719\n",
       "1 2019-08-02     A       619\n",
       "2 2019-08-03     A       507\n",
       "3 2019-08-04     A       717\n",
       "4 2019-08-05     A       756"
      ]
     },
     "execution_count": 28,
     "metadata": {},
     "output_type": "execute_result"
    }
   ],
   "source": [
    "visitors.head()"
   ]
  },
  {
   "cell_type": "markdown",
   "metadata": {},
   "source": [
    "### Приоритезация гипотез"
   ]
  },
  {
   "cell_type": "markdown",
   "metadata": {},
   "source": [
    "#### Фреймворк ICE"
   ]
  },
  {
   "cell_type": "code",
   "execution_count": 29,
   "metadata": {},
   "outputs": [],
   "source": [
    "#Добавим в наш датасет с гипотезами столбец с расчитаной оценкой ICE \n",
    "hypothesis['ICE'] = round(hypothesis['impact'] *  hypothesis['confidence'] /  hypothesis['efforts'], 2)"
   ]
  },
  {
   "cell_type": "code",
   "execution_count": 30,
   "metadata": {
    "scrolled": true
   },
   "outputs": [
    {
     "data": {
      "text/html": [
       "<div>\n",
       "<style scoped>\n",
       "    .dataframe tbody tr th:only-of-type {\n",
       "        vertical-align: middle;\n",
       "    }\n",
       "\n",
       "    .dataframe tbody tr th {\n",
       "        vertical-align: top;\n",
       "    }\n",
       "\n",
       "    .dataframe thead th {\n",
       "        text-align: right;\n",
       "    }\n",
       "</style>\n",
       "<table border=\"1\" class=\"dataframe\">\n",
       "  <thead>\n",
       "    <tr style=\"text-align: right;\">\n",
       "      <th></th>\n",
       "      <th>hypothesis</th>\n",
       "      <th>ICE</th>\n",
       "    </tr>\n",
       "  </thead>\n",
       "  <tbody>\n",
       "    <tr>\n",
       "      <th>8</th>\n",
       "      <td>Запустить акцию, дающую скидку на товар в день рождения</td>\n",
       "      <td>16.20</td>\n",
       "    </tr>\n",
       "    <tr>\n",
       "      <th>0</th>\n",
       "      <td>Добавить два новых канала привлечения трафика, что позволит привлекать на 30% больше пользователей</td>\n",
       "      <td>13.33</td>\n",
       "    </tr>\n",
       "    <tr>\n",
       "      <th>7</th>\n",
       "      <td>Добавить форму подписки на все основные страницы, чтобы собрать базу клиентов для email-рассылок</td>\n",
       "      <td>11.20</td>\n",
       "    </tr>\n",
       "    <tr>\n",
       "      <th>6</th>\n",
       "      <td>Показать на главной странице баннеры с актуальными акциями и распродажами, чтобы увеличить конверсию</td>\n",
       "      <td>8.00</td>\n",
       "    </tr>\n",
       "    <tr>\n",
       "      <th>2</th>\n",
       "      <td>Добавить блоки рекомендаций товаров на сайт интернет магазина, чтобы повысить конверсию и средний чек заказа</td>\n",
       "      <td>7.00</td>\n",
       "    </tr>\n",
       "    <tr>\n",
       "      <th>1</th>\n",
       "      <td>Запустить собственную службу доставки, что сократит срок доставки заказов</td>\n",
       "      <td>2.00</td>\n",
       "    </tr>\n",
       "    <tr>\n",
       "      <th>5</th>\n",
       "      <td>Добавить страницу отзывов клиентов о магазине, что позволит увеличить количество заказов</td>\n",
       "      <td>1.33</td>\n",
       "    </tr>\n",
       "    <tr>\n",
       "      <th>3</th>\n",
       "      <td>Изменить структура категорий, что увеличит конверсию, т.к. пользователи быстрее найдут нужный товар</td>\n",
       "      <td>1.12</td>\n",
       "    </tr>\n",
       "    <tr>\n",
       "      <th>4</th>\n",
       "      <td>Изменить цвет фона главной страницы, чтобы увеличить вовлеченность пользователей</td>\n",
       "      <td>1.00</td>\n",
       "    </tr>\n",
       "  </tbody>\n",
       "</table>\n",
       "</div>"
      ],
      "text/plain": [
       "                                                                                                     hypothesis  \\\n",
       "8                                                       Запустить акцию, дающую скидку на товар в день рождения   \n",
       "0            Добавить два новых канала привлечения трафика, что позволит привлекать на 30% больше пользователей   \n",
       "7              Добавить форму подписки на все основные страницы, чтобы собрать базу клиентов для email-рассылок   \n",
       "6          Показать на главной странице баннеры с актуальными акциями и распродажами, чтобы увеличить конверсию   \n",
       "2  Добавить блоки рекомендаций товаров на сайт интернет магазина, чтобы повысить конверсию и средний чек заказа   \n",
       "1                                     Запустить собственную службу доставки, что сократит срок доставки заказов   \n",
       "5                      Добавить страницу отзывов клиентов о магазине, что позволит увеличить количество заказов   \n",
       "3           Изменить структура категорий, что увеличит конверсию, т.к. пользователи быстрее найдут нужный товар   \n",
       "4                              Изменить цвет фона главной страницы, чтобы увеличить вовлеченность пользователей   \n",
       "\n",
       "     ICE  \n",
       "8  16.20  \n",
       "0  13.33  \n",
       "7  11.20  \n",
       "6   8.00  \n",
       "2   7.00  \n",
       "1   2.00  \n",
       "5   1.33  \n",
       "3   1.12  \n",
       "4   1.00  "
      ]
     },
     "execution_count": 30,
     "metadata": {},
     "output_type": "execute_result"
    }
   ],
   "source": [
    "#Выведем гипотезы и оценки ICE для них в порядке убывания\n",
    "hypothesis[['hypothesis','ICE']].sort_values('ICE', ascending=False)"
   ]
  },
  {
   "cell_type": "markdown",
   "metadata": {},
   "source": [
    "Наиболее перспективными гипотезами являются гипотезы под номерами:\n",
    "- 8 - Запустить акцию, дающую скидку на товар в день рождения\t\n",
    "- 0 - Добавить два новых канала привлечения трафика, что позволит привлекать на 30% больше пользователей\n",
    "- 7 - Добавить форму подписки на все основные страницы, чтобы собрать базу клиентов для email-рассылок\n",
    "- 6 - Показать на главной странице баннеры с актуальными акциями и распродажами, чтобы увеличить конверсию\n"
   ]
  },
  {
   "cell_type": "markdown",
   "metadata": {},
   "source": [
    "#### Фреймворк RICE"
   ]
  },
  {
   "cell_type": "code",
   "execution_count": 31,
   "metadata": {},
   "outputs": [],
   "source": [
    "#Добавим в наш датасет с гипотезами столбец с расчитаной оценкой RICE \n",
    "hypothesis['RICE'] =  hypothesis['reach'] * hypothesis['impact'] *  hypothesis['confidence'] /  hypothesis['efforts']"
   ]
  },
  {
   "cell_type": "code",
   "execution_count": 32,
   "metadata": {},
   "outputs": [
    {
     "data": {
      "text/html": [
       "<div>\n",
       "<style scoped>\n",
       "    .dataframe tbody tr th:only-of-type {\n",
       "        vertical-align: middle;\n",
       "    }\n",
       "\n",
       "    .dataframe tbody tr th {\n",
       "        vertical-align: top;\n",
       "    }\n",
       "\n",
       "    .dataframe thead th {\n",
       "        text-align: right;\n",
       "    }\n",
       "</style>\n",
       "<table border=\"1\" class=\"dataframe\">\n",
       "  <thead>\n",
       "    <tr style=\"text-align: right;\">\n",
       "      <th></th>\n",
       "      <th>hypothesis</th>\n",
       "      <th>RICE</th>\n",
       "    </tr>\n",
       "  </thead>\n",
       "  <tbody>\n",
       "    <tr>\n",
       "      <th>7</th>\n",
       "      <td>Добавить форму подписки на все основные страницы, чтобы собрать базу клиентов для email-рассылок</td>\n",
       "      <td>112.0</td>\n",
       "    </tr>\n",
       "    <tr>\n",
       "      <th>2</th>\n",
       "      <td>Добавить блоки рекомендаций товаров на сайт интернет магазина, чтобы повысить конверсию и средний чек заказа</td>\n",
       "      <td>56.0</td>\n",
       "    </tr>\n",
       "    <tr>\n",
       "      <th>0</th>\n",
       "      <td>Добавить два новых канала привлечения трафика, что позволит привлекать на 30% больше пользователей</td>\n",
       "      <td>40.0</td>\n",
       "    </tr>\n",
       "    <tr>\n",
       "      <th>6</th>\n",
       "      <td>Показать на главной странице баннеры с актуальными акциями и распродажами, чтобы увеличить конверсию</td>\n",
       "      <td>40.0</td>\n",
       "    </tr>\n",
       "    <tr>\n",
       "      <th>8</th>\n",
       "      <td>Запустить акцию, дающую скидку на товар в день рождения</td>\n",
       "      <td>16.2</td>\n",
       "    </tr>\n",
       "    <tr>\n",
       "      <th>3</th>\n",
       "      <td>Изменить структура категорий, что увеличит конверсию, т.к. пользователи быстрее найдут нужный товар</td>\n",
       "      <td>9.0</td>\n",
       "    </tr>\n",
       "    <tr>\n",
       "      <th>1</th>\n",
       "      <td>Запустить собственную службу доставки, что сократит срок доставки заказов</td>\n",
       "      <td>4.0</td>\n",
       "    </tr>\n",
       "    <tr>\n",
       "      <th>5</th>\n",
       "      <td>Добавить страницу отзывов клиентов о магазине, что позволит увеличить количество заказов</td>\n",
       "      <td>4.0</td>\n",
       "    </tr>\n",
       "    <tr>\n",
       "      <th>4</th>\n",
       "      <td>Изменить цвет фона главной страницы, чтобы увеличить вовлеченность пользователей</td>\n",
       "      <td>3.0</td>\n",
       "    </tr>\n",
       "  </tbody>\n",
       "</table>\n",
       "</div>"
      ],
      "text/plain": [
       "                                                                                                     hypothesis  \\\n",
       "7              Добавить форму подписки на все основные страницы, чтобы собрать базу клиентов для email-рассылок   \n",
       "2  Добавить блоки рекомендаций товаров на сайт интернет магазина, чтобы повысить конверсию и средний чек заказа   \n",
       "0            Добавить два новых канала привлечения трафика, что позволит привлекать на 30% больше пользователей   \n",
       "6          Показать на главной странице баннеры с актуальными акциями и распродажами, чтобы увеличить конверсию   \n",
       "8                                                       Запустить акцию, дающую скидку на товар в день рождения   \n",
       "3           Изменить структура категорий, что увеличит конверсию, т.к. пользователи быстрее найдут нужный товар   \n",
       "1                                     Запустить собственную службу доставки, что сократит срок доставки заказов   \n",
       "5                      Добавить страницу отзывов клиентов о магазине, что позволит увеличить количество заказов   \n",
       "4                              Изменить цвет фона главной страницы, чтобы увеличить вовлеченность пользователей   \n",
       "\n",
       "    RICE  \n",
       "7  112.0  \n",
       "2   56.0  \n",
       "0   40.0  \n",
       "6   40.0  \n",
       "8   16.2  \n",
       "3    9.0  \n",
       "1    4.0  \n",
       "5    4.0  \n",
       "4    3.0  "
      ]
     },
     "execution_count": 32,
     "metadata": {},
     "output_type": "execute_result"
    }
   ],
   "source": [
    "#Выведем гипотезы и оценки RICE для них в порядке убывания\n",
    "hypothesis[['hypothesis','RICE']].sort_values('RICE', ascending=False)"
   ]
  },
  {
   "cell_type": "markdown",
   "metadata": {},
   "source": [
    "**Выводы:**\n",
    "\n",
    "При оценке гипотез фреймворком RICE наиболее перспективными гипотезами стали: `7, 2, 0, 6`. Если сравнивать полученные результаты с результатами, которые были получениы при оценке за счет фреймворка ICE, то список успешных гипотез изменился только на одну - это вторая гипотеза. Смещение гипотезы №8 произошло из - за слишком малого охвата пользователей (всего лишь 1 из 10), в то время, как у гипотезы №2 охват был оценен, как 8 из 10. Также самой успешной гипотезой стала седьмая за счет максимальной оценки показателя 'Reach'.\n",
    "Получившийся список наиболее успешных гипотез (гипотеза - оценка) с учетом того, что нам важен охват пользователей:\n",
    "- Добавить форму подписки на все основные страницы, чтобы собрать базу клиентов для email-рассылок - 112\n",
    "- Добавить блоки рекомендаций товаров на сайт интернет магазина, чтобы повысить конверсию и средний чек заказа - 56\n",
    "- Добавить два новых канала привлечения трафика, что позволит привлекать на 30% больше пользователей -  40\n",
    "- Показать на главной странице баннеры с актуальными акциями и распродажами, чтобы увеличить конверсию - 40"
   ]
  },
  {
   "cell_type": "markdown",
   "metadata": {},
   "source": [
    "### Анализ A/B-теста"
   ]
  },
  {
   "cell_type": "markdown",
   "metadata": {},
   "source": [
    "#### Датасет с кумулятивными данными"
   ]
  },
  {
   "cell_type": "markdown",
   "metadata": {},
   "source": [
    "Для начала проверим есть ли пользователи, которые попадают в обе группы разом. Ведь если показы накладываются друг на друга, это может исказить результаты."
   ]
  },
  {
   "cell_type": "code",
   "execution_count": 33,
   "metadata": {
    "scrolled": false
   },
   "outputs": [],
   "source": [
    "#Напишем цикл, который обнаружит пользователей, которые попали в обе группы A/B - тестирования\n",
    "povtor_us = orders.pivot_table(index=['visitorId', 'group'])\n",
    "userAB = []\n",
    "for _ in range(len(povtor_us)):\n",
    "    if povtor_us.index[_][0] == povtor_us.index[_ - 1][0]:\n",
    "        if povtor_us.index[_][1]!=povtor_us.index[_ - 1][1]:\n",
    "            userAB.append(povtor_us.index[_][0])"
   ]
  },
  {
   "cell_type": "code",
   "execution_count": 34,
   "metadata": {
    "scrolled": false
   },
   "outputs": [
    {
     "data": {
      "text/plain": [
       "1031"
      ]
     },
     "execution_count": 34,
     "metadata": {},
     "output_type": "execute_result"
    }
   ],
   "source": [
    "#Посчитаем уникальных пользователей, которые сделали заказ\n",
    "orders['visitorId'].nunique()"
   ]
  },
  {
   "cell_type": "code",
   "execution_count": 35,
   "metadata": {
    "scrolled": true
   },
   "outputs": [
    {
     "data": {
      "text/plain": [
       "58"
      ]
     },
     "execution_count": 35,
     "metadata": {},
     "output_type": "execute_result"
    }
   ],
   "source": [
    "#Посчитаем этих пользователей\n",
    "pd.Series(userAB).count()"
   ]
  },
  {
   "cell_type": "markdown",
   "metadata": {},
   "source": [
    "Получилось 58 пользователей"
   ]
  },
  {
   "cell_type": "code",
   "execution_count": 36,
   "metadata": {
    "scrolled": true
   },
   "outputs": [
    {
     "data": {
      "text/plain": [
       "5.63"
      ]
     },
     "execution_count": 36,
     "metadata": {},
     "output_type": "execute_result"
    }
   ],
   "source": [
    "round(pd.Series(userAB).count() / orders['visitorId'].nunique() * 100, 2)"
   ]
  },
  {
   "cell_type": "markdown",
   "metadata": {},
   "source": [
    "Процент пользователей, которые попали в две группы A/B - теста одновременно составил 5.63% - это довольно много, такой процент говорит нам о том, что результаты нашего анализа могут быть искажены (но вряд ли значительно). Информацию об этом необходимо будет передать специалистам, проводившим A/B - тестирование."
   ]
  },
  {
   "cell_type": "code",
   "execution_count": 37,
   "metadata": {},
   "outputs": [],
   "source": [
    "# создаем массив уникальных пар значений дат и групп теста\n",
    "datesGroups = orders[['date','group']].drop_duplicates() "
   ]
  },
  {
   "cell_type": "code",
   "execution_count": 38,
   "metadata": {},
   "outputs": [],
   "source": [
    "#Агрегированные кумулятивные по дням данные о заказах в интернет-магазине: \n",
    "ordersAggregated = datesGroups.apply(lambda x: orders[np.logical_and(orders['date'] <= x['date'], orders['group'] == x['group'])]\\\n",
    ".agg({'date' : 'max', 'group' : 'max', 'transactionId' : 'nunique', 'visitorId' : 'nunique', 'revenue' : 'sum'}), axis=1).sort_values(by=['date','group'])"
   ]
  },
  {
   "cell_type": "code",
   "execution_count": 39,
   "metadata": {},
   "outputs": [],
   "source": [
    "#Агрегированные кумулятивные по дням данные о посетителях интернет-магазина: \n",
    "visitorsAggregated = datesGroups.apply(\n",
    "    lambda x: visitors[np.logical_and(visitors['date'] <= x['date'], visitors['group'] == x['group'])].agg(\n",
    "        {'date' : 'max', 'group' : 'max', 'visitors' : 'sum'}), axis=1).sort_values(by=['date','group'])"
   ]
  },
  {
   "cell_type": "code",
   "execution_count": 40,
   "metadata": {},
   "outputs": [
    {
     "data": {
      "text/html": [
       "<div>\n",
       "<style scoped>\n",
       "    .dataframe tbody tr th:only-of-type {\n",
       "        vertical-align: middle;\n",
       "    }\n",
       "\n",
       "    .dataframe tbody tr th {\n",
       "        vertical-align: top;\n",
       "    }\n",
       "\n",
       "    .dataframe thead th {\n",
       "        text-align: right;\n",
       "    }\n",
       "</style>\n",
       "<table border=\"1\" class=\"dataframe\">\n",
       "  <thead>\n",
       "    <tr style=\"text-align: right;\">\n",
       "      <th></th>\n",
       "      <th>date</th>\n",
       "      <th>group</th>\n",
       "      <th>orders</th>\n",
       "      <th>buyers</th>\n",
       "      <th>revenue</th>\n",
       "      <th>visitors</th>\n",
       "    </tr>\n",
       "  </thead>\n",
       "  <tbody>\n",
       "    <tr>\n",
       "      <th>0</th>\n",
       "      <td>2019-08-01</td>\n",
       "      <td>A</td>\n",
       "      <td>24</td>\n",
       "      <td>20</td>\n",
       "      <td>148579</td>\n",
       "      <td>719</td>\n",
       "    </tr>\n",
       "    <tr>\n",
       "      <th>1</th>\n",
       "      <td>2019-08-01</td>\n",
       "      <td>B</td>\n",
       "      <td>21</td>\n",
       "      <td>20</td>\n",
       "      <td>101217</td>\n",
       "      <td>713</td>\n",
       "    </tr>\n",
       "    <tr>\n",
       "      <th>2</th>\n",
       "      <td>2019-08-02</td>\n",
       "      <td>A</td>\n",
       "      <td>44</td>\n",
       "      <td>38</td>\n",
       "      <td>242401</td>\n",
       "      <td>1338</td>\n",
       "    </tr>\n",
       "    <tr>\n",
       "      <th>3</th>\n",
       "      <td>2019-08-02</td>\n",
       "      <td>B</td>\n",
       "      <td>45</td>\n",
       "      <td>43</td>\n",
       "      <td>266748</td>\n",
       "      <td>1294</td>\n",
       "    </tr>\n",
       "    <tr>\n",
       "      <th>4</th>\n",
       "      <td>2019-08-03</td>\n",
       "      <td>A</td>\n",
       "      <td>68</td>\n",
       "      <td>62</td>\n",
       "      <td>354874</td>\n",
       "      <td>1845</td>\n",
       "    </tr>\n",
       "  </tbody>\n",
       "</table>\n",
       "</div>"
      ],
      "text/plain": [
       "        date group  orders  buyers  revenue  visitors\n",
       "0 2019-08-01     A      24      20   148579       719\n",
       "1 2019-08-01     B      21      20   101217       713\n",
       "2 2019-08-02     A      44      38   242401      1338\n",
       "3 2019-08-02     B      45      43   266748      1294\n",
       "4 2019-08-03     A      68      62   354874      1845"
      ]
     },
     "execution_count": 40,
     "metadata": {},
     "output_type": "execute_result"
    }
   ],
   "source": [
    "#Объединяем кумулятивные данные в одной таблице и присваиваем ее столбцам понятные названия\n",
    "cumulativeData = ordersAggregated.merge(visitorsAggregated, left_on=['date', 'group'], right_on=['date', 'group'])\n",
    "cumulativeData.columns = ['date', 'group', 'orders', 'buyers', 'revenue', 'visitors']\n",
    "\n",
    "cumulativeData.head() "
   ]
  },
  {
   "cell_type": "markdown",
   "metadata": {},
   "source": [
    "#### График кумулятивной выручки по группам"
   ]
  },
  {
   "cell_type": "code",
   "execution_count": 41,
   "metadata": {
    "scrolled": false
   },
   "outputs": [
    {
     "data": {
      "text/plain": [
       "<matplotlib.legend.Legend at 0x1fc1d9b8280>"
      ]
     },
     "execution_count": 41,
     "metadata": {},
     "output_type": "execute_result"
    },
    {
     "data": {
      "image/png": "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",
      "text/plain": [
       "<Figure size 1000x700 with 1 Axes>"
      ]
     },
     "metadata": {},
     "output_type": "display_data"
    }
   ],
   "source": [
    "# датафрейм с кумулятивным количеством заказов и кумулятивной выручкой по дням в группе А\n",
    "cumulativeRevenueA = cumulativeData[cumulativeData['group']=='A'][['date','revenue', 'orders']]\n",
    "\n",
    "# датафрейм с кумулятивным количеством заказов и кумулятивной выручкой по дням в группе B\n",
    "cumulativeRevenueB = cumulativeData[cumulativeData['group']=='B'][['date','revenue', 'orders']]\n",
    "\n",
    "fig, ax = plt.subplots()\n",
    "# Строим график выручки группы А\n",
    "plt.plot(cumulativeRevenueA['date'], cumulativeRevenueA['revenue'], label='A')\n",
    "\n",
    "# Строим график выручки группы B\n",
    "plt.plot(cumulativeRevenueB['date'], cumulativeRevenueB['revenue'], label='B')\n",
    "\n",
    "#Добавляем сетку\n",
    "ax.grid()\n",
    "\n",
    "#Подписываем оси\n",
    "ax.set_xlabel('Дата')\n",
    "ax.set_ylabel('Выручка')\n",
    "\n",
    "#Устанавливаем размеры графика\n",
    "fig.set_figwidth(10)\n",
    "fig.set_figheight(7)\n",
    "#Устанавливаем масштаб оси x\n",
    "ax.margins(x=0.2)\n",
    "\n",
    "#Добавляем заголовок графику\n",
    "ax.set_title('График кумулятивной выручки по группам',\n",
    "                fontfamily = 'monospace',\n",
    "                fontstyle = 'normal',\n",
    "                fontsize = 15)\n",
    "#Выводим легенду\n",
    "plt.legend() "
   ]
  },
  {
   "cell_type": "markdown",
   "metadata": {},
   "source": [
    "Выручка почти равномерно увеличивается в течение всего теста за исключением одного периода, на графике видно, как произошел резкий всплеск выручки у группы B. Это может сигнализировать о всплесках числа заказов в группе B, либо о появлении очень дорогих заказов."
   ]
  },
  {
   "cell_type": "markdown",
   "metadata": {},
   "source": [
    "#### График кумулятивного среднего чека по группам"
   ]
  },
  {
   "cell_type": "code",
   "execution_count": 42,
   "metadata": {},
   "outputs": [
    {
     "data": {
      "text/plain": [
       "<matplotlib.legend.Legend at 0x1fc1fab5b10>"
      ]
     },
     "execution_count": 42,
     "metadata": {},
     "output_type": "execute_result"
    },
    {
     "data": {
      "image/png": "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",
      "text/plain": [
       "<Figure size 1000x700 with 1 Axes>"
      ]
     },
     "metadata": {},
     "output_type": "display_data"
    }
   ],
   "source": [
    "fig, ax = plt.subplots()\n",
    "plt.plot(cumulativeRevenueA['date'], cumulativeRevenueA['revenue']/cumulativeRevenueA['orders'], label='A')\n",
    "plt.plot(cumulativeRevenueB['date'], cumulativeRevenueB['revenue']/cumulativeRevenueB['orders'], label='B')\n",
    "\n",
    "#Добавляем сетку\n",
    "ax.grid()\n",
    "\n",
    "#Подписываем оси\n",
    "ax.set_xlabel('Дата')\n",
    "ax.set_ylabel('Среднее значение чека')\n",
    "\n",
    "#Устанавливаем размеры графика\n",
    "fig.set_figwidth(10)\n",
    "fig.set_figheight(7)\n",
    "#Устанавливаем масштаб оси x\n",
    "ax.margins(x=0.2)\n",
    "\n",
    "#Добавляем заголовок графику\n",
    "ax.set_title('График кумулятивного среднего чека по группам',\n",
    "                fontfamily = 'monospace',\n",
    "                fontstyle = 'normal',\n",
    "                fontsize = 15)\n",
    "#Выводим легенду\n",
    "plt.legend() "
   ]
  },
  {
   "cell_type": "markdown",
   "metadata": {},
   "source": [
    "Средний чек тоже становится равномерным ближе к концу теста: установился для группы A, для группы B не все так однозначно.\n",
    "В середине теста также заметен резкий всплеск роста среднего чека в группе B, после чего средняя начала падать, скорее всего ей нужно больше данных, чтобы прийти к реальному среднему чеку и установиться на его уровне после такого резкого скачка."
   ]
  },
  {
   "cell_type": "markdown",
   "metadata": {},
   "source": [
    "#### График относительного изменения кумулятивного среднего чека группы B к группе A"
   ]
  },
  {
   "cell_type": "code",
   "execution_count": 43,
   "metadata": {},
   "outputs": [
    {
     "data": {
      "text/plain": [
       "Text(0.5, 1.0, 'График относительного изменения кумулятивного среднего чека группы B к группе A')"
      ]
     },
     "execution_count": 43,
     "metadata": {},
     "output_type": "execute_result"
    },
    {
     "data": {
      "image/png": "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",
      "text/plain": [
       "<Figure size 1000x700 with 1 Axes>"
      ]
     },
     "metadata": {},
     "output_type": "display_data"
    }
   ],
   "source": [
    "# собираем данные в одном датафрейме\n",
    "mergedCumulativeRevenue = cumulativeRevenueA.merge(cumulativeRevenueB, left_on='date', right_on='date', how='left', suffixes=['A', 'B'])\n",
    "\n",
    "fig, ax = plt.subplots()\n",
    "\n",
    "# cтроим отношение средних чеков\n",
    "plt.plot(mergedCumulativeRevenue['date'], (mergedCumulativeRevenue['revenueB']/mergedCumulativeRevenue['ordersB'])/(mergedCumulativeRevenue['revenueA']/mergedCumulativeRevenue['ordersA'])-1)\n",
    "\n",
    "\n",
    "# добавляем ось X\n",
    "plt.axhline(y=0, color='black', linestyle='--')\n",
    "\n",
    "\n",
    "\n",
    "#Добавляем сетку\n",
    "ax.grid()\n",
    "\n",
    "#Подписываем оси\n",
    "ax.set_xlabel('Дата')\n",
    "ax.set_ylabel('Отношение B к A')\n",
    "\n",
    "#Устанавливаем размеры графика\n",
    "fig.set_figwidth(10)\n",
    "fig.set_figheight(7)\n",
    "#Устанавливаем масштаб оси x\n",
    "ax.margins(x=0.2)\n",
    "\n",
    "#Добавляем заголовок графику\n",
    "ax.set_title('График относительного изменения кумулятивного среднего чека группы B к группе A',\n",
    "                fontfamily = 'monospace',\n",
    "                fontstyle = 'normal',\n",
    "                fontsize = 12)\n"
   ]
  },
  {
   "cell_type": "markdown",
   "metadata": {},
   "source": [
    "В нескольких точках на графике мы можем наблюдать различие между сегментами (резкие скачки). Скорее всего это связанно с крупными заказами и выбросами."
   ]
  },
  {
   "cell_type": "markdown",
   "metadata": {},
   "source": [
    "#### График кумулятивного среднего количества заказов на посетителя по группам"
   ]
  },
  {
   "cell_type": "code",
   "execution_count": 44,
   "metadata": {
    "scrolled": false
   },
   "outputs": [
    {
     "data": {
      "text/plain": [
       "<matplotlib.legend.Legend at 0x1fc1fbb2560>"
      ]
     },
     "execution_count": 44,
     "metadata": {},
     "output_type": "execute_result"
    },
    {
     "data": {
      "image/png": "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",
      "text/plain": [
       "<Figure size 1000x700 with 1 Axes>"
      ]
     },
     "metadata": {},
     "output_type": "display_data"
    }
   ],
   "source": [
    "# считаем кумулятивную конверсию\n",
    "cumulativeData['conversion'] = cumulativeData['orders']/cumulativeData['visitors']\n",
    "\n",
    "# отделяем данные по группе A\n",
    "cumulativeDataA = cumulativeData[cumulativeData['group']=='A']\n",
    "\n",
    "# отделяем данные по группе B\n",
    "cumulativeDataB = cumulativeData[cumulativeData['group']=='B']\n",
    "\n",
    "# строим графики\n",
    "fig, ax = plt.subplots()\n",
    "\n",
    "plt.plot(cumulativeDataA['date'], cumulativeDataA['conversion'], label='A')\n",
    "plt.plot(cumulativeDataB['date'], cumulativeDataB['conversion'], label='B')\n",
    "plt.legend()\n",
    "\n",
    "\n",
    "#Добавляем сетку\n",
    "ax.grid()\n",
    "\n",
    "#Подписываем оси\n",
    "ax.set_xlabel('Дата')\n",
    "ax.set_ylabel('Конверсия')\n",
    "\n",
    "#Устанавливаем размеры графика\n",
    "fig.set_figwidth(10)\n",
    "fig.set_figheight(7)\n",
    "#Устанавливаем масштаб оси x\n",
    "ax.margins(x=0.2)\n",
    "\n",
    "#Добавляем заголовок графику\n",
    "ax.set_title('График кумулятивного среднего количества заказов на посетителя по группам',\n",
    "                fontfamily = 'monospace',\n",
    "                fontstyle = 'normal',\n",
    "                fontsize = 12)\n",
    "#Выводим легенду\n",
    "plt.legend() "
   ]
  },
  {
   "cell_type": "markdown",
   "metadata": {},
   "source": [
    "Группы колебались около одного значения, но затем конверсия группы B вырвалась вперёд, но начала падать, фиксации результатов не наблюдается, а конверсия группы A просела и зафиксировалась."
   ]
  },
  {
   "cell_type": "markdown",
   "metadata": {},
   "source": [
    "#### График относительного изменения кумулятивного среднего количества заказов на посетителя группы B к группе A"
   ]
  },
  {
   "cell_type": "code",
   "execution_count": 45,
   "metadata": {},
   "outputs": [
    {
     "data": {
      "text/plain": [
       "Text(0.5, 1.0, 'График относительного изменения кумулятивного среднего количества заказов на посетителя группы B к группе A')"
      ]
     },
     "execution_count": 45,
     "metadata": {},
     "output_type": "execute_result"
    },
    {
     "data": {
      "image/png": "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",
      "text/plain": [
       "<Figure size 1000x700 with 1 Axes>"
      ]
     },
     "metadata": {},
     "output_type": "display_data"
    }
   ],
   "source": [
    "mergedCumulativeConversions = cumulativeDataA[['date','conversion']].merge(cumulativeDataB[['date','conversion']], left_on='date', right_on='date', how='left', suffixes=['A', 'B'])\n",
    "\n",
    "fig, ax = plt.subplots()\n",
    "\n",
    "plt.plot(mergedCumulativeConversions['date'], mergedCumulativeConversions['conversionB']/mergedCumulativeConversions['conversionA']-1)\n",
    "\n",
    "plt.axhline(y=0, color='black', linestyle='--')\n",
    "plt.axhline(y=-0.1, color='grey', linestyle='--')\n",
    "\n",
    "#Добавляем сетку\n",
    "ax.grid()\n",
    "\n",
    "#Подписываем оси\n",
    "ax.set_xlabel('Дата')\n",
    "ax.set_ylabel('Отношение B к A')\n",
    "\n",
    "#Устанавливаем размеры графика\n",
    "fig.set_figwidth(10)\n",
    "fig.set_figheight(7)\n",
    "#Устанавливаем масштаб оси x\n",
    "ax.margins(x=0.2)\n",
    "\n",
    "#Добавляем заголовок графику\n",
    "ax.set_title('График относительного изменения кумулятивного среднего количества заказов на посетителя группы B к группе A',\n",
    "                fontfamily = 'monospace',\n",
    "                fontstyle = 'normal',\n",
    "                fontsize = 12)\n"
   ]
  },
  {
   "cell_type": "markdown",
   "metadata": {},
   "source": [
    "В начале теста группа B незначительно проигрывала группе A, затем вырвалась вперёд. Но потом её конверсия начала постепенно падала, но под конец график пошел вверх."
   ]
  },
  {
   "cell_type": "markdown",
   "metadata": {},
   "source": [
    "*Промежуточные выводы:*\n",
    "Отношение изменения кумулятивного среднего количества заказов на посетителя (конверсия) еще не до конца установилась, также об этом нам говорит резкий всплеск в группе B, который мог значительно исказить результы, и на данный момент, конверсия стремится к своему истинному среднему значению (так как равномерного роста или падения не наблюдается)."
   ]
  },
  {
   "cell_type": "markdown",
   "metadata": {},
   "source": [
    "#### Датасет с количеством заказов по пользователям"
   ]
  },
  {
   "cell_type": "code",
   "execution_count": 46,
   "metadata": {},
   "outputs": [
    {
     "name": "stdout",
     "output_type": "stream",
     "text": [
      "          userId  orders\n",
      "1023  4256040402      11\n",
      "591   2458001652      11\n",
      "569   2378935119       9\n",
      "487   2038680547       8\n",
      "44     199603092       5\n",
      "744   3062433592       5\n",
      "55     237748145       5\n",
      "917   3803269165       5\n",
      "299   1230306981       5\n",
      "897   3717692402       5\n"
     ]
    }
   ],
   "source": [
    "ordersByUsers = (\n",
    "    orders.groupby('visitorId', as_index=False)\n",
    "    .agg({'transactionId': 'nunique'})\n",
    ")\n",
    "\n",
    "ordersByUsers.columns = ['userId', 'orders']\n",
    "\n",
    "print(ordersByUsers.sort_values(by='orders', ascending=False).head(10)) "
   ]
  },
  {
   "cell_type": "markdown",
   "metadata": {},
   "source": [
    "#### Точечный график количества заказов по пользователям"
   ]
  },
  {
   "cell_type": "code",
   "execution_count": 47,
   "metadata": {
    "scrolled": true
   },
   "outputs": [
    {
     "data": {
      "text/plain": [
       "Text(0.5, 1.0, 'Точечный график количества заказов по пользователям')"
      ]
     },
     "execution_count": 47,
     "metadata": {},
     "output_type": "execute_result"
    },
    {
     "data": {
      "image/png": "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",
      "text/plain": [
       "<Figure size 640x480 with 1 Axes>"
      ]
     },
     "metadata": {},
     "output_type": "display_data"
    }
   ],
   "source": [
    "x_values = pd.Series(range(0,len(ordersByUsers)))\n",
    "\n",
    "fig, ax = plt.subplots()\n",
    "plt.scatter(x_values, ordersByUsers['orders'])\n",
    "\n",
    "#Подписываем оси\n",
    "ax.set_xlabel('Кол - во заказов')\n",
    "ax.set_ylabel('Кол - во заказов на пользователя')\n",
    "ax.set_title('Точечный график количества заказов по пользователям',\n",
    "                fontfamily = 'monospace',\n",
    "                fontstyle = 'normal',\n",
    "                fontsize = 12)"
   ]
  },
  {
   "cell_type": "markdown",
   "metadata": {},
   "source": [
    "На графике мы наблюдаем много пользователей с 2-3 заказами. На этом этапе их точная доля не ясна, для определения их доли и, соответсвенно, считать ли их аномалиями, посчитаем 95-й и 99-й персентили."
   ]
  },
  {
   "cell_type": "markdown",
   "metadata": {},
   "source": [
    "#### 95-й и 99-й перцентили количества заказов на пользователя"
   ]
  },
  {
   "cell_type": "code",
   "execution_count": 48,
   "metadata": {},
   "outputs": [
    {
     "name": "stdout",
     "output_type": "stream",
     "text": [
      "[2. 4.]\n"
     ]
    }
   ],
   "source": [
    "print(np.percentile(ordersByUsers['orders'], [95, 99])) "
   ]
  },
  {
   "cell_type": "markdown",
   "metadata": {},
   "source": [
    "Не более 5% пользователей оформляли больше чем 2  заказа. И 1% пользователей заказывали 4 и более раз. \n",
    "Было бы логично выбрать 2 заказа на одного пользователя за верхнюю границу числа заказов и отсеять аномальных пользователей по ней."
   ]
  },
  {
   "cell_type": "markdown",
   "metadata": {},
   "source": [
    "#### Точечный график стоимостей заказов"
   ]
  },
  {
   "cell_type": "code",
   "execution_count": 49,
   "metadata": {
    "scrolled": true
   },
   "outputs": [
    {
     "data": {
      "text/plain": [
       "Text(0.5, 1.0, 'Точечный график стоимостей заказов')"
      ]
     },
     "execution_count": 49,
     "metadata": {},
     "output_type": "execute_result"
    },
    {
     "data": {
      "image/png": "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",
      "text/plain": [
       "<Figure size 640x480 with 1 Axes>"
      ]
     },
     "metadata": {},
     "output_type": "display_data"
    }
   ],
   "source": [
    "x_values = pd.Series(range(0,len(orders['revenue'])))\n",
    "\n",
    "fig, ax = plt.subplots()\n",
    "plt.scatter(x_values, orders['revenue']) \n",
    "\n",
    "ax.set_xlabel('Кол - во заказов')\n",
    "ax.set_ylabel('Стоимость за один заказ')\n",
    "ax.set_title('Точечный график стоимостей заказов',\n",
    "                fontfamily = 'monospace',\n",
    "                fontstyle = 'normal',\n",
    "                fontsize = 12)"
   ]
  },
  {
   "cell_type": "markdown",
   "metadata": {},
   "source": [
    "На графике видно, что были заказы по стоимости около 200 000 рублей и даже выше 1.2 млн. рублей, следует изменить масштаб, чтобы понимать реальную картину без таких аномально больших выбросов."
   ]
  },
  {
   "cell_type": "code",
   "execution_count": 50,
   "metadata": {
    "scrolled": true
   },
   "outputs": [
    {
     "data": {
      "text/plain": [
       "Text(0.5, 1.0, 'Точечный график стоимостей заказов')"
      ]
     },
     "execution_count": 50,
     "metadata": {},
     "output_type": "execute_result"
    },
    {
     "data": {
      "image/png": "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",
      "text/plain": [
       "<Figure size 640x480 with 1 Axes>"
      ]
     },
     "metadata": {},
     "output_type": "display_data"
    }
   ],
   "source": [
    "#Выведем все заказазы, сумма которых не превышала 100 000 рублей\n",
    "x_values = pd.Series(range(0,len(orders[orders['revenue'] < 100000])))\n",
    "\n",
    "fig, ax = plt.subplots()\n",
    "plt.scatter(x_values, orders[orders['revenue'] < 100000]['revenue']) \n",
    "\n",
    "\n",
    "ax.set_xlabel('Кол - во заказов')\n",
    "ax.set_ylabel('Стоимость за один заказ')\n",
    "ax.set_title('Точечный график стоимостей заказов',\n",
    "                fontfamily = 'monospace',\n",
    "                fontstyle = 'normal',\n",
    "                fontsize = 12)"
   ]
  },
  {
   "cell_type": "markdown",
   "metadata": {},
   "source": [
    "Из данного графика становится понятно, что основная масса заказов стоит до 40 000 рублей. На этом этапе их точная доля выбросов не ясна, для определения их доли и, соответсвенно, считать ли их аномалиями, посчитаем 95-й и 99-й персентили.\n"
   ]
  },
  {
   "cell_type": "markdown",
   "metadata": {},
   "source": [
    "#### 95-й и 99-й перцентили стоимости заказов"
   ]
  },
  {
   "cell_type": "code",
   "execution_count": 51,
   "metadata": {},
   "outputs": [
    {
     "name": "stdout",
     "output_type": "stream",
     "text": [
      "[28000.  58233.2]\n"
     ]
    }
   ],
   "source": [
    "print(np.percentile(orders['revenue'], [95, 99])) "
   ]
  },
  {
   "cell_type": "markdown",
   "metadata": {},
   "source": [
    "Не более 5% заказов стоят больше чем 28 000 рублей. И 1% заказов стоят больше, чем 58 233 рублей. Было бы логично отобрать заказы, стоимость которых не превышает 28 000 рублей (взять 28 000 за верхний порог и отсеять аномальных пользователей по ней)."
   ]
  },
  {
   "cell_type": "markdown",
   "metadata": {},
   "source": [
    "#### Статистическая значимость различий в среднем количестве заказов на посетителя между группами по «сырым» данным"
   ]
  },
  {
   "cell_type": "markdown",
   "metadata": {},
   "source": [
    "Для начала сформулируем гипотезы. \n",
    "\n",
    "Н0: различий в среднем количестве заказов на посетителя между группами нет.\n",
    "\n",
    "Н1: различия в среднем между группами есть."
   ]
  },
  {
   "cell_type": "code",
   "execution_count": 52,
   "metadata": {},
   "outputs": [
    {
     "data": {
      "text/html": [
       "<div>\n",
       "<style scoped>\n",
       "    .dataframe tbody tr th:only-of-type {\n",
       "        vertical-align: middle;\n",
       "    }\n",
       "\n",
       "    .dataframe tbody tr th {\n",
       "        vertical-align: top;\n",
       "    }\n",
       "\n",
       "    .dataframe thead th {\n",
       "        text-align: right;\n",
       "    }\n",
       "</style>\n",
       "<table border=\"1\" class=\"dataframe\">\n",
       "  <thead>\n",
       "    <tr style=\"text-align: right;\">\n",
       "      <th></th>\n",
       "      <th>date</th>\n",
       "      <th>ordersPerDateA</th>\n",
       "      <th>revenuePerDateA</th>\n",
       "      <th>ordersPerDateB</th>\n",
       "      <th>revenuePerDateB</th>\n",
       "      <th>ordersCummulativeA</th>\n",
       "      <th>revenueCummulativeA</th>\n",
       "      <th>ordersCummulativeB</th>\n",
       "      <th>revenueCummulativeB</th>\n",
       "      <th>visitorsPerDateA</th>\n",
       "      <th>visitorsPerDateB</th>\n",
       "      <th>visitorsCummulativeA</th>\n",
       "      <th>visitorsCummulativeB</th>\n",
       "    </tr>\n",
       "  </thead>\n",
       "  <tbody>\n",
       "    <tr>\n",
       "      <th>0</th>\n",
       "      <td>2019-08-01</td>\n",
       "      <td>24</td>\n",
       "      <td>148579</td>\n",
       "      <td>21</td>\n",
       "      <td>101217</td>\n",
       "      <td>24</td>\n",
       "      <td>148579</td>\n",
       "      <td>21</td>\n",
       "      <td>101217</td>\n",
       "      <td>719</td>\n",
       "      <td>713</td>\n",
       "      <td>719</td>\n",
       "      <td>713</td>\n",
       "    </tr>\n",
       "    <tr>\n",
       "      <th>1</th>\n",
       "      <td>2019-08-02</td>\n",
       "      <td>20</td>\n",
       "      <td>93822</td>\n",
       "      <td>24</td>\n",
       "      <td>165531</td>\n",
       "      <td>44</td>\n",
       "      <td>242401</td>\n",
       "      <td>45</td>\n",
       "      <td>266748</td>\n",
       "      <td>619</td>\n",
       "      <td>581</td>\n",
       "      <td>1338</td>\n",
       "      <td>1294</td>\n",
       "    </tr>\n",
       "    <tr>\n",
       "      <th>2</th>\n",
       "      <td>2019-08-03</td>\n",
       "      <td>24</td>\n",
       "      <td>112473</td>\n",
       "      <td>16</td>\n",
       "      <td>114248</td>\n",
       "      <td>68</td>\n",
       "      <td>354874</td>\n",
       "      <td>61</td>\n",
       "      <td>380996</td>\n",
       "      <td>507</td>\n",
       "      <td>509</td>\n",
       "      <td>1845</td>\n",
       "      <td>1803</td>\n",
       "    </tr>\n",
       "    <tr>\n",
       "      <th>3</th>\n",
       "      <td>2019-08-04</td>\n",
       "      <td>16</td>\n",
       "      <td>70825</td>\n",
       "      <td>17</td>\n",
       "      <td>108571</td>\n",
       "      <td>84</td>\n",
       "      <td>425699</td>\n",
       "      <td>78</td>\n",
       "      <td>489567</td>\n",
       "      <td>717</td>\n",
       "      <td>770</td>\n",
       "      <td>2562</td>\n",
       "      <td>2573</td>\n",
       "    </tr>\n",
       "    <tr>\n",
       "      <th>4</th>\n",
       "      <td>2019-08-05</td>\n",
       "      <td>25</td>\n",
       "      <td>124218</td>\n",
       "      <td>23</td>\n",
       "      <td>92428</td>\n",
       "      <td>109</td>\n",
       "      <td>549917</td>\n",
       "      <td>101</td>\n",
       "      <td>581995</td>\n",
       "      <td>756</td>\n",
       "      <td>707</td>\n",
       "      <td>3318</td>\n",
       "      <td>3280</td>\n",
       "    </tr>\n",
       "  </tbody>\n",
       "</table>\n",
       "</div>"
      ],
      "text/plain": [
       "        date  ordersPerDateA  revenuePerDateA  ordersPerDateB  \\\n",
       "0 2019-08-01              24           148579              21   \n",
       "1 2019-08-02              20            93822              24   \n",
       "2 2019-08-03              24           112473              16   \n",
       "3 2019-08-04              16            70825              17   \n",
       "4 2019-08-05              25           124218              23   \n",
       "\n",
       "   revenuePerDateB  ordersCummulativeA  revenueCummulativeA  \\\n",
       "0           101217                  24               148579   \n",
       "1           165531                  44               242401   \n",
       "2           114248                  68               354874   \n",
       "3           108571                  84               425699   \n",
       "4            92428                 109               549917   \n",
       "\n",
       "   ordersCummulativeB  revenueCummulativeB  visitorsPerDateA  \\\n",
       "0                  21               101217               719   \n",
       "1                  45               266748               619   \n",
       "2                  61               380996               507   \n",
       "3                  78               489567               717   \n",
       "4                 101               581995               756   \n",
       "\n",
       "   visitorsPerDateB  visitorsCummulativeA  visitorsCummulativeB  \n",
       "0               713                   719                   713  \n",
       "1               581                  1338                  1294  \n",
       "2               509                  1845                  1803  \n",
       "3               770                  2562                  2573  \n",
       "4               707                  3318                  3280  "
      ]
     },
     "execution_count": 52,
     "metadata": {},
     "output_type": "execute_result"
    }
   ],
   "source": [
    "#Подготовим все необходимые данные\n",
    "visitorsADaily = visitors[visitors['group'] == 'A'][['date', 'visitors']]\n",
    "visitorsADaily.columns = ['date', 'visitorsPerDateA']\n",
    "\n",
    "visitorsACummulative = visitorsADaily.apply(\n",
    "    lambda x: visitorsADaily[visitorsADaily['date'] <= x['date']].agg(\n",
    "        {'date': 'max', 'visitorsPerDateA': 'sum'}\n",
    "    ),\n",
    "    axis=1,\n",
    ")\n",
    "visitorsACummulative.columns = ['date', 'visitorsCummulativeA']\n",
    "\n",
    "visitorsBDaily = visitors[visitors['group'] == 'B'][['date', 'visitors']]\n",
    "visitorsBDaily.columns = ['date', 'visitorsPerDateB']\n",
    "\n",
    "visitorsBCummulative = visitorsBDaily.apply(\n",
    "    lambda x: visitorsBDaily[visitorsBDaily['date'] <= x['date']].agg(\n",
    "        {'date': 'max', 'visitorsPerDateB': 'sum'}\n",
    "    ),\n",
    "    axis=1,\n",
    ")\n",
    "visitorsBCummulative.columns = ['date', 'visitorsCummulativeB']\n",
    "\n",
    "ordersADaily = (\n",
    "    orders[orders['group'] == 'A'][['date', 'transactionId', 'visitorId', 'revenue']]\n",
    "    .groupby('date', as_index=False)\n",
    "    .agg({'transactionId': pd.Series.nunique, 'revenue': 'sum'})\n",
    ")\n",
    "ordersADaily.columns = ['date', 'ordersPerDateA', 'revenuePerDateA']\n",
    "\n",
    "ordersACummulative = ordersADaily.apply(\n",
    "    lambda x: ordersADaily[ordersADaily['date'] <= x['date']].agg(\n",
    "        {'date': 'max', 'ordersPerDateA': 'sum', 'revenuePerDateA': 'sum'}\n",
    "    ),\n",
    "    axis=1,\n",
    ").sort_values(by=['date'])\n",
    "ordersACummulative.columns = [\n",
    "    'date',\n",
    "    'ordersCummulativeA',\n",
    "    'revenueCummulativeA',\n",
    "]\n",
    "\n",
    "ordersBDaily = (\n",
    "    orders[orders['group'] == 'B'][['date', 'transactionId', 'visitorId', 'revenue']]\n",
    "    .groupby('date', as_index=False)\n",
    "    .agg({'transactionId': pd.Series.nunique, 'revenue': 'sum'})\n",
    ")\n",
    "ordersBDaily.columns = ['date', 'ordersPerDateB', 'revenuePerDateB']\n",
    "\n",
    "ordersBCummulative = ordersBDaily.apply(\n",
    "    lambda x: ordersBDaily[ordersBDaily['date'] <= x['date']].agg(\n",
    "        {'date': 'max', 'ordersPerDateB': 'sum', 'revenuePerDateB': 'sum'}\n",
    "    ),\n",
    "    axis=1,\n",
    ").sort_values(by=['date'])\n",
    "ordersBCummulative.columns = [\n",
    "    'date',\n",
    "    'ordersCummulativeB',\n",
    "    'revenueCummulativeB',\n",
    "]\n",
    "\n",
    "data = (\n",
    "    ordersADaily.merge(\n",
    "        ordersBDaily, left_on='date', right_on='date', how='left'\n",
    "    )\n",
    "    .merge(ordersACummulative, left_on='date', right_on='date', how='left')\n",
    "    .merge(ordersBCummulative, left_on='date', right_on='date', how='left')\n",
    "    .merge(visitorsADaily, left_on='date', right_on='date', how='left')\n",
    "    .merge(visitorsBDaily, left_on='date', right_on='date', how='left')\n",
    "    .merge(visitorsACummulative, left_on='date', right_on='date', how='left')\n",
    "    .merge(visitorsBCummulative, left_on='date', right_on='date', how='left')\n",
    ")\n",
    "\n",
    "#Выведем первые 5 строк для ознакомления\n",
    "data.head(5)"
   ]
  },
  {
   "cell_type": "markdown",
   "metadata": {},
   "source": [
    "- date — дата;\n",
    "- ordersPerDateA — количество заказов в выбранную дату в группе A;\n",
    "- revenuePerDateA — суммарная выручка в выбранную дату в группе A;\n",
    "- ordersPerDateB — количество заказов в выбранную дату в группе B;\n",
    "- revenuePerDateB — суммарная выручка в выбранную дату в группе B;\n",
    "- ordersCummulativeA — суммарное число заказов до выбранной даты включительно в группе A;\n",
    "- revenueCummulativeA — суммарная выручка до выбранной даты включительно в группе A;\n",
    "- ordersCummulativeB — суммарное количество заказов до выбранной даты включительно в группе B;\n",
    "- revenueCummulativeB — суммарная выручка до выбранной даты включительно в группе B;\n",
    "- visitorsPerDateA — количество пользователей в выбранную дату в группе A;\n",
    "- visitorsPerDateB — количество пользователей в выбранную дату в группе B;\n",
    "- visitorsCummulativeA — количество пользователей до выбранной даты включительно в группе A;\n",
    "- visitorsCummulativeB — количество пользователей до выбранной даты включительно в группе B."
   ]
  },
  {
   "cell_type": "code",
   "execution_count": 53,
   "metadata": {},
   "outputs": [],
   "source": [
    "#Переменные, в которых для пользователей, которые заказывали хотя бы 1 раз, указано число совершённых заказов. \n",
    "ordersByUsersA = (\n",
    "    orders[orders['group'] == 'A']\n",
    "    .groupby('visitorId', as_index=False)\n",
    "    .agg({'transactionId': pd.Series.nunique})\n",
    ")\n",
    "ordersByUsersA.columns = ['visitorId', 'orders']\n",
    "\n",
    "ordersByUsersB = (\n",
    "    orders[orders['group'] == 'B']\n",
    "    .groupby('visitorId', as_index=False)\n",
    "    .agg({'transactionId': pd.Series.nunique})\n",
    ")\n",
    "ordersByUsersB.columns = ['visitorId', 'orders']"
   ]
  },
  {
   "cell_type": "code",
   "execution_count": 54,
   "metadata": {
    "scrolled": true
   },
   "outputs": [
    {
     "name": "stdout",
     "output_type": "stream",
     "text": [
      "p-value = 0.017\n",
      "Относительный прирост среднего числа заказов = 0.138\n"
     ]
    }
   ],
   "source": [
    "#Объявим переменные sampleA и sampleB, в которых пользователям из разных групп будет соответствовать количество заказов.\n",
    "#Тем, кто ничего не заказал, будут соответствовать нули.\n",
    "\n",
    "sampleA = pd.concat(\n",
    "    [\n",
    "        ordersByUsersA['orders'],\n",
    "        pd.Series(\n",
    "            0,\n",
    "            index=np.arange(\n",
    "                data['visitorsPerDateA'].sum() - len(ordersByUsersA['orders'])\n",
    "            ),\n",
    "            name='orders',\n",
    "        ),\n",
    "    ],\n",
    "    axis=0,\n",
    ")\n",
    "\n",
    "sampleB = pd.concat(\n",
    "    [\n",
    "        ordersByUsersB['orders'],\n",
    "        pd.Series(\n",
    "            0,\n",
    "            index=np.arange(\n",
    "                data['visitorsPerDateB'].sum() - len(ordersByUsersB['orders'])\n",
    "            ),\n",
    "            name='orders',\n",
    "        ),\n",
    "    ],\n",
    "    axis=0,\n",
    ")\n",
    "#Выведем p-value\n",
    "print(\"p-value = {0:.3f}\".format(stats.mannwhitneyu(sampleA, sampleB)[1]))\n",
    "\n",
    "print(\"Относительный прирост среднего числа заказов = {0:.3f}\".format(sampleB.mean() / sampleA.mean() - 1))"
   ]
  },
  {
   "cell_type": "markdown",
   "metadata": {},
   "source": [
    "p-value = 0.017\n",
    "\n",
    "Относительный прирост среднего числа заказов = 0.138\n",
    "\n",
    "p-value = 0.017, меньше 0.05. Значит, нулевую гипотезу о том, что статистически значимых различий в среднем числе заказов между группами нет, отвергаем. Также относительный выигрыш группы B равен 13.8%.\n",
    "\n",
    "*Вывод*: По «сырым» данным есть различия между группами A и B, причем, положительная разница в размере 13.8% наблюдается в сторону группы B."
   ]
  },
  {
   "cell_type": "markdown",
   "metadata": {},
   "source": [
    "#### Статистическая значимость различий в среднем чеке заказа между группами по «сырым» данным"
   ]
  },
  {
   "cell_type": "markdown",
   "metadata": {},
   "source": [
    "Для начала сформулируем гипотезы.\n",
    "\n",
    "H0: различий в среднем чеке между группами нет\n",
    "    \n",
    "H1: различия в среднем чеке между группами есть"
   ]
  },
  {
   "cell_type": "code",
   "execution_count": 55,
   "metadata": {},
   "outputs": [
    {
     "name": "stdout",
     "output_type": "stream",
     "text": [
      "p-value = 0.729\n",
      "Относительный прирост значения среднего чека =  0.259\n"
     ]
    }
   ],
   "source": [
    "print('p-value = {0:.3f}'.format(stats.mannwhitneyu(orders[orders['group']=='A']['revenue'], orders[orders['group']=='B']['revenue'])[1]))\n",
    "print('Относительный прирост значения среднего чека =  {0:.3f}'.format(orders[orders['group']=='B']['revenue'].mean()/orders[orders['group']=='A']['revenue'].mean()-1))"
   ]
  },
  {
   "cell_type": "markdown",
   "metadata": {},
   "source": [
    "p-value = 0.729\n",
    "\n",
    "Относительный прирост значения среднего чека =  0.259\n",
    "\n",
    "p-value = 0.729, больше 0.05. Значит, причин отвергать нулевую гипотезу и считать, что в среднем чеке есть различия, нет. Относительная разница между средним чеком группы B и группы А составляет 25.9%.\n",
    "\n",
    "Вывод: По «сырым» данным различий в среднем чеке заказов групп A и B нет. Относительный выигрыш группы B равен 25.9% Вероятнее всего различие было получено случайным образом."
   ]
  },
  {
   "cell_type": "markdown",
   "metadata": {},
   "source": [
    "#### Статистическая значимость различий в среднем количестве заказов на посетителя между группами по «очищенным» данным"
   ]
  },
  {
   "cell_type": "markdown",
   "metadata": {},
   "source": [
    "Примем за аномальных пользователей тех, кто совершил от 3 заказов или совершил заказ дороже 28 000 рублей. Так мы уберём 5% пользователей с наибольшим числом заказов и от 1% до 5% пользователей с дорогими заказами. Сделаем срезы пользователей с числом заказов больше 2 — usersWithManyOrders и пользователей, совершивших заказы дороже 28 000 — usersWithExpensiveOrders. Объединим их в таблице abnormalUsers. "
   ]
  },
  {
   "cell_type": "code",
   "execution_count": 56,
   "metadata": {},
   "outputs": [
    {
     "name": "stdout",
     "output_type": "stream",
     "text": [
      "1099    148427295\n",
      "18      199603092\n",
      "928     204675465\n",
      "23      237748145\n",
      "37      249864742\n",
      "Name: visitorId, dtype: int64\n",
      "74\n"
     ]
    }
   ],
   "source": [
    "usersWithManyOrders = pd.concat(\n",
    "    [\n",
    "        ordersByUsersA[ordersByUsersA['orders'] > np.percentile(ordersByUsers['orders'], [95, 99])[0]]['visitorId'],\n",
    "        ordersByUsersB[ordersByUsersB['orders'] > np.percentile(ordersByUsers['orders'], [95, 99])[0]]['visitorId'],\n",
    "    ],\n",
    "    axis=0,\n",
    ")\n",
    "usersWithExpensiveOrders = orders[orders['revenue'] > np.percentile(orders['revenue'], [95, 99])[0]]['visitorId']\n",
    "abnormalUsers = (\n",
    "    pd.concat([usersWithManyOrders, usersWithExpensiveOrders], axis=0)\n",
    "    .drop_duplicates()\n",
    "    .sort_values()\n",
    ")\n",
    "print(abnormalUsers.head(5))\n",
    "print(abnormalUsers.shape[0])"
   ]
  },
  {
   "cell_type": "markdown",
   "metadata": {},
   "source": [
    "Всего 74 аномальных пользователя. "
   ]
  },
  {
   "cell_type": "markdown",
   "metadata": {},
   "source": [
    "Повторим гипотезы, которые мы проверяем. \n",
    "\n",
    "Н0: различий в среднем количестве заказов на посетителя между группами нет.\n",
    "\n",
    "Н1: различия в среднем между группами есть."
   ]
  },
  {
   "cell_type": "code",
   "execution_count": 57,
   "metadata": {
    "scrolled": true
   },
   "outputs": [
    {
     "name": "stdout",
     "output_type": "stream",
     "text": [
      "p-value = 0.013\n",
      "Относительный прирост среднего числа заказов = 0.173\n"
     ]
    }
   ],
   "source": [
    "#Подготовим очищенные выборки\n",
    "sampleAFiltered = pd.concat(\n",
    "    [\n",
    "        ordersByUsersA[\n",
    "            np.logical_not(ordersByUsersA['visitorId'].isin(abnormalUsers))\n",
    "        ]['orders'],\n",
    "        pd.Series(\n",
    "            0,\n",
    "            index=np.arange(\n",
    "                data['visitorsPerDateA'].sum() - len(ordersByUsersA['orders'])\n",
    "            ),\n",
    "            name='orders',\n",
    "        ),\n",
    "    ],\n",
    "    axis=0,\n",
    ")\n",
    "\n",
    "sampleBFiltered = pd.concat(\n",
    "    [\n",
    "        ordersByUsersB[\n",
    "            np.logical_not(ordersByUsersB['visitorId'].isin(abnormalUsers))\n",
    "        ]['orders'],\n",
    "        pd.Series(\n",
    "            0,\n",
    "            index=np.arange(\n",
    "                data['visitorsPerDateB'].sum() - len(ordersByUsersB['orders'])\n",
    "            ),\n",
    "            name='orders',\n",
    "        ),\n",
    "    ],\n",
    "    axis=0,\n",
    ")\n",
    "\n",
    "#Применим статистический критерий Манна-Уитни \n",
    "print('p-value = {0:.3f}'.format(stats.mannwhitneyu(sampleAFiltered, sampleBFiltered)[1]))\n",
    "print('Относительный прирост среднего числа заказов = {0:.3f}'.format(sampleBFiltered.mean()/sampleAFiltered.mean()-1))\n",
    "\n"
   ]
  },
  {
   "cell_type": "markdown",
   "metadata": {},
   "source": [
    "p-value = 0.013\n",
    "\n",
    "Относительный прирост среднего числа заказов = 0.173\n",
    "\n",
    "Результаты по среднему количеству заказов на пользователя: P-value уменьшился, теперь нулевая гипотеза о равенстве выборок еще дальше от того, чтобы быть правдой. Относительный выигрыш группы B равен уже не 13.8%, а 17.3%.\n",
    "\n",
    "Вывод: По «очищенным» данным есть различия между группами A и B, причем, положительная разница в размере 17.3% наблюдается в сторону группы B."
   ]
  },
  {
   "cell_type": "markdown",
   "metadata": {},
   "source": [
    "#### Статистическая значимость различий в среднем чеке заказа между группами по «очищенным» данным"
   ]
  },
  {
   "cell_type": "markdown",
   "metadata": {},
   "source": [
    "Повторим гипотезы, которые мы проверяем.\n",
    "\n",
    "H0: различий в среднем чеке между группами нет\n",
    "    \n",
    "H1: различия в среднем чеке между группами есть"
   ]
  },
  {
   "cell_type": "code",
   "execution_count": 58,
   "metadata": {},
   "outputs": [
    {
     "name": "stdout",
     "output_type": "stream",
     "text": [
      "p-value = 0.738\n",
      "Относительный прирост значения среднего чека = -0.020\n"
     ]
    }
   ],
   "source": [
    "print(\n",
    "    'p-value = {0:.3f}'.format(\n",
    "        stats.mannwhitneyu(\n",
    "            orders[\n",
    "                np.logical_and(\n",
    "                    orders['group'] == 'A',\n",
    "                    np.logical_not(orders['visitorId'].isin(abnormalUsers)),\n",
    "                )\n",
    "            ]['revenue'],\n",
    "            orders[\n",
    "                np.logical_and(\n",
    "                    orders['group'] == 'B',\n",
    "                    np.logical_not(orders['visitorId'].isin(abnormalUsers)),\n",
    "                )\n",
    "            ]['revenue'],\n",
    "        )[1]\n",
    "    )\n",
    ")\n",
    "\n",
    "print(\n",
    "    \"Относительный прирост значения среднего чека = {0:.3f}\".format(\n",
    "        orders[\n",
    "            np.logical_and(\n",
    "                orders['group'] == 'B',\n",
    "                np.logical_not(orders['visitorId'].isin(abnormalUsers)),\n",
    "            )\n",
    "        ]['revenue'].mean()\n",
    "        / orders[\n",
    "            np.logical_and(\n",
    "                orders['group'] == 'A',\n",
    "                np.logical_not(orders['visitorId'].isin(abnormalUsers)),\n",
    "            )\n",
    "        ]['revenue'].mean()\n",
    "        - 1\n",
    "    )\n",
    ")"
   ]
  },
  {
   "cell_type": "markdown",
   "metadata": {},
   "source": [
    "p-value = 0.738\n",
    "\n",
    "Относительный прирост значения среднего чека = -0.020\n",
    "\n",
    "p-value = 0.738 (после очистки изменился совсем немного), больше 0.05. Значит, причин отвергать нулевую гипотезу и считать, что в среднем чеке есть различия, нет. Относительная разница между средним чеком группы B и группы А составляет -2%.\n",
    "\n",
    "Вывод: По «очищенным» данным различий в среднем чеке заказов групп A и B нет. Относительный выигрыш группы А равен 2%. Вероятнее всего различие было получено случайным образом."
   ]
  },
  {
   "cell_type": "markdown",
   "metadata": {},
   "source": [
    "### Вывод"
   ]
  },
  {
   "cell_type": "markdown",
   "metadata": {},
   "source": [
    "Имеющиеся факты:\n",
    "- Статистически значимые различия есть по среднему количеству заказов между группами по «сырым» и по данным после фильтрации аномалий;\n",
    "- Нет статистически значимого различия по среднему чеку между группами ни по «сырым», ни по данным после фильтрации аномалий, но в \"сырых данных\" относительный выигрыш группы B составил 25.9%, также в очищенных данных относительный выигрыш группы А равен 2%. Вероятнее всего различия были получены случайным образом.\n",
    "- График различия среднего количества заказов между группами сообщает, что результаты группы B лучше группы A, не понятно куда график двинется дальше:"
   ]
  },
  {
   "attachments": {
    "image-2.png": {
     "image/png": "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"
    }
   },
   "cell_type": "markdown",
   "metadata": {},
   "source": [
    "![image-2.png](attachment:image-2.png)"
   ]
  },
  {
   "cell_type": "markdown",
   "metadata": {},
   "source": [
    "- График различия среднего чека говорит о том, что был резкий положительный рост среднего чека в группе B, но после было заметное падение. Также после падения заметно что график начал стабилизироваться"
   ]
  },
  {
   "attachments": {
    "image-2.png": {
     "image/png": "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"
    }
   },
   "cell_type": "markdown",
   "metadata": {},
   "source": [
    "![image-2.png](attachment:image-2.png)"
   ]
  },
  {
   "cell_type": "markdown",
   "metadata": {},
   "source": [
    "Исходя из обнаруженных фактов, можно сделать вывод о том, что тест следует продолжить. Есть вероятность, что сегмент B все таки лучше сегмента A, стоит еще понаблюдать, как со временем будет меняться отношение кумулятивного значения среднего чека группы B к группе A, стане ли оно равномерным или продолжит падать."
   ]
  }
 ],
 "metadata": {
  "ExecuteTimeLog": [
   {
    "duration": 78,
    "start_time": "2023-01-25T23:10:16.769Z"
   },
   {
    "duration": 58,
    "start_time": "2023-01-26T09:45:08.849Z"
   },
   {
    "duration": 486,
    "start_time": "2023-01-26T09:45:10.943Z"
   },
   {
    "duration": 422,
    "start_time": "2023-01-26T09:45:31.073Z"
   },
   {
    "duration": 3,
    "start_time": "2023-01-26T09:45:50.799Z"
   },
   {
    "duration": 81,
    "start_time": "2023-01-26T09:45:52.133Z"
   },
   {
    "duration": 12,
    "start_time": "2023-01-26T09:45:54.977Z"
   },
   {
    "duration": 25,
    "start_time": "2023-01-26T09:48:27.587Z"
   },
   {
    "duration": 11,
    "start_time": "2023-01-26T09:48:27.883Z"
   },
   {
    "duration": 81,
    "start_time": "2023-01-26T09:50:04.258Z"
   },
   {
    "duration": 13,
    "start_time": "2023-01-26T09:50:08.807Z"
   },
   {
    "duration": 16,
    "start_time": "2023-01-26T09:50:18.213Z"
   },
   {
    "duration": 11,
    "start_time": "2023-01-26T09:50:32.141Z"
   },
   {
    "duration": 6,
    "start_time": "2023-01-26T09:51:01.645Z"
   },
   {
    "duration": 9,
    "start_time": "2023-01-26T09:51:10.988Z"
   },
   {
    "duration": 68,
    "start_time": "2023-01-26T09:54:22.079Z"
   },
   {
    "duration": 8,
    "start_time": "2023-01-26T09:54:22.659Z"
   },
   {
    "duration": 12,
    "start_time": "2023-01-26T09:54:25.288Z"
   },
   {
    "duration": 5,
    "start_time": "2023-01-26T09:54:31.040Z"
   },
   {
    "duration": 48,
    "start_time": "2023-01-26T09:59:08.166Z"
   },
   {
    "duration": 181,
    "start_time": "2023-01-26T09:59:13.375Z"
   },
   {
    "duration": 3,
    "start_time": "2023-01-26T09:59:28.583Z"
   },
   {
    "duration": 12,
    "start_time": "2023-01-26T09:59:31.469Z"
   },
   {
    "duration": 11,
    "start_time": "2023-01-26T09:59:46.550Z"
   },
   {
    "duration": 9,
    "start_time": "2023-01-26T10:00:45.623Z"
   },
   {
    "duration": 4,
    "start_time": "2023-01-26T10:01:16.134Z"
   },
   {
    "duration": 4,
    "start_time": "2023-01-26T10:05:37.105Z"
   },
   {
    "duration": 10,
    "start_time": "2023-01-26T10:05:45.899Z"
   },
   {
    "duration": 6,
    "start_time": "2023-01-26T10:06:45.932Z"
   },
   {
    "duration": 9,
    "start_time": "2023-01-26T10:06:52.006Z"
   },
   {
    "duration": 4,
    "start_time": "2023-01-26T10:07:00.712Z"
   },
   {
    "duration": 9,
    "start_time": "2023-01-26T10:07:01.076Z"
   },
   {
    "duration": 5,
    "start_time": "2023-01-26T10:19:34.817Z"
   },
   {
    "duration": 11,
    "start_time": "2023-01-26T10:19:35.025Z"
   },
   {
    "duration": 10,
    "start_time": "2023-01-26T10:19:53.771Z"
   },
   {
    "duration": 10,
    "start_time": "2023-01-26T10:20:04.290Z"
   },
   {
    "duration": 5,
    "start_time": "2023-01-26T10:20:36.201Z"
   },
   {
    "duration": 5,
    "start_time": "2023-01-26T10:20:39.593Z"
   },
   {
    "duration": 4,
    "start_time": "2023-01-26T10:20:41.147Z"
   },
   {
    "duration": 9,
    "start_time": "2023-01-26T10:20:41.348Z"
   },
   {
    "duration": 10,
    "start_time": "2023-01-26T10:20:54.818Z"
   },
   {
    "duration": 5,
    "start_time": "2023-01-26T10:34:03.074Z"
   },
   {
    "duration": 9,
    "start_time": "2023-01-26T10:34:36.955Z"
   },
   {
    "duration": 5,
    "start_time": "2023-01-26T10:34:41.326Z"
   },
   {
    "duration": 5,
    "start_time": "2023-01-26T10:34:55.975Z"
   },
   {
    "duration": 6,
    "start_time": "2023-01-26T10:39:18.948Z"
   },
   {
    "duration": 122,
    "start_time": "2023-01-26T10:39:52.325Z"
   },
   {
    "duration": 24,
    "start_time": "2023-01-26T10:40:02.669Z"
   },
   {
    "duration": 167,
    "start_time": "2023-01-26T10:42:36.162Z"
   },
   {
    "duration": 165,
    "start_time": "2023-01-26T10:44:17.554Z"
   },
   {
    "duration": 126,
    "start_time": "2023-01-26T10:44:18.577Z"
   },
   {
    "duration": 11,
    "start_time": "2023-01-26T10:45:07.866Z"
   },
   {
    "duration": 14,
    "start_time": "2023-01-26T10:45:13.481Z"
   },
   {
    "duration": 297,
    "start_time": "2023-01-26T10:45:50.891Z"
   },
   {
    "duration": 185,
    "start_time": "2023-01-26T11:03:41.198Z"
   },
   {
    "duration": 205,
    "start_time": "2023-01-26T11:09:30.624Z"
   },
   {
    "duration": 307,
    "start_time": "2023-01-26T11:09:58.881Z"
   },
   {
    "duration": 367,
    "start_time": "2023-01-26T11:11:07.602Z"
   },
   {
    "duration": 329,
    "start_time": "2023-01-26T11:11:27.626Z"
   },
   {
    "duration": 296,
    "start_time": "2023-01-26T11:11:30.698Z"
   },
   {
    "duration": 9,
    "start_time": "2023-01-26T11:18:58.471Z"
   },
   {
    "duration": 225,
    "start_time": "2023-01-26T11:23:21.171Z"
   },
   {
    "duration": 208,
    "start_time": "2023-01-26T11:23:33.972Z"
   },
   {
    "duration": 13,
    "start_time": "2023-01-26T11:24:48.484Z"
   },
   {
    "duration": 19,
    "start_time": "2023-01-26T11:24:59.142Z"
   },
   {
    "duration": 221,
    "start_time": "2023-01-26T11:25:24.677Z"
   },
   {
    "duration": 219,
    "start_time": "2023-01-26T11:25:49.934Z"
   },
   {
    "duration": 227,
    "start_time": "2023-01-26T11:25:58.473Z"
   },
   {
    "duration": 321,
    "start_time": "2023-01-26T11:27:28.968Z"
   },
   {
    "duration": 299,
    "start_time": "2023-01-26T11:29:38.890Z"
   },
   {
    "duration": 447,
    "start_time": "2023-01-26T11:29:55.428Z"
   },
   {
    "duration": 311,
    "start_time": "2023-01-26T11:30:18.531Z"
   },
   {
    "duration": 288,
    "start_time": "2023-01-26T11:30:30.410Z"
   },
   {
    "duration": 292,
    "start_time": "2023-01-26T11:30:52.482Z"
   },
   {
    "duration": 7,
    "start_time": "2023-01-26T11:57:45.902Z"
   },
   {
    "duration": 133,
    "start_time": "2023-01-26T11:58:14.867Z"
   },
   {
    "duration": 2,
    "start_time": "2023-01-26T11:58:51.605Z"
   },
   {
    "duration": 8,
    "start_time": "2023-01-26T11:59:48.253Z"
   },
   {
    "duration": 77,
    "start_time": "2023-01-26T12:00:43.317Z"
   },
   {
    "duration": 14,
    "start_time": "2023-01-26T12:01:07.094Z"
   },
   {
    "duration": 9,
    "start_time": "2023-01-26T12:02:11.247Z"
   },
   {
    "duration": 10,
    "start_time": "2023-01-26T12:02:30.304Z"
   },
   {
    "duration": 10,
    "start_time": "2023-01-26T12:03:05.899Z"
   },
   {
    "duration": 126,
    "start_time": "2023-01-26T12:03:20.393Z"
   },
   {
    "duration": 5,
    "start_time": "2023-01-26T12:04:14.841Z"
   },
   {
    "duration": 5,
    "start_time": "2023-01-26T12:04:31.186Z"
   },
   {
    "duration": 42,
    "start_time": "2023-01-26T12:04:44.755Z"
   },
   {
    "duration": 118,
    "start_time": "2023-01-26T12:05:00.282Z"
   },
   {
    "duration": 132,
    "start_time": "2023-01-26T12:14:03.149Z"
   },
   {
    "duration": 139,
    "start_time": "2023-01-26T12:14:35.884Z"
   },
   {
    "duration": 151,
    "start_time": "2023-01-26T12:14:58.348Z"
   },
   {
    "duration": 4,
    "start_time": "2023-01-26T12:15:14.346Z"
   },
   {
    "duration": 16,
    "start_time": "2023-01-26T12:16:41.983Z"
   },
   {
    "duration": 19,
    "start_time": "2023-01-26T12:16:59.161Z"
   },
   {
    "duration": 8,
    "start_time": "2023-01-26T12:17:47.869Z"
   },
   {
    "duration": 13,
    "start_time": "2023-01-26T12:18:21.559Z"
   },
   {
    "duration": 121,
    "start_time": "2023-01-26T12:19:18.509Z"
   },
   {
    "duration": 152,
    "start_time": "2023-01-26T12:20:47.947Z"
   },
   {
    "duration": 128,
    "start_time": "2023-01-26T12:20:56.329Z"
   },
   {
    "duration": 210,
    "start_time": "2023-01-26T12:21:02.465Z"
   },
   {
    "duration": 141,
    "start_time": "2023-01-26T12:21:05.052Z"
   },
   {
    "duration": 158,
    "start_time": "2023-01-26T12:21:38.946Z"
   },
   {
    "duration": 142,
    "start_time": "2023-01-26T12:21:50.330Z"
   },
   {
    "duration": 157,
    "start_time": "2023-01-26T12:22:04.132Z"
   },
   {
    "duration": 144,
    "start_time": "2023-01-26T12:22:10.929Z"
   },
   {
    "duration": 154,
    "start_time": "2023-01-26T12:23:06.803Z"
   },
   {
    "duration": 146,
    "start_time": "2023-01-26T12:23:13.276Z"
   },
   {
    "duration": 146,
    "start_time": "2023-01-26T12:23:29.551Z"
   },
   {
    "duration": 144,
    "start_time": "2023-01-26T12:23:34.749Z"
   },
   {
    "duration": 155,
    "start_time": "2023-01-26T12:23:58.258Z"
   },
   {
    "duration": 157,
    "start_time": "2023-01-26T12:24:03.454Z"
   },
   {
    "duration": 141,
    "start_time": "2023-01-26T12:24:25.391Z"
   },
   {
    "duration": 176,
    "start_time": "2023-01-26T12:24:29.918Z"
   },
   {
    "duration": 169,
    "start_time": "2023-01-26T12:29:09.017Z"
   },
   {
    "duration": 74,
    "start_time": "2023-01-26T14:28:56.661Z"
   },
   {
    "duration": 840,
    "start_time": "2023-01-26T14:29:24.409Z"
   },
   {
    "duration": 60,
    "start_time": "2023-01-26T14:29:25.251Z"
   },
   {
    "duration": 13,
    "start_time": "2023-01-26T14:29:25.313Z"
   },
   {
    "duration": 9,
    "start_time": "2023-01-26T14:29:25.328Z"
   },
   {
    "duration": 83,
    "start_time": "2023-01-26T14:29:25.338Z"
   },
   {
    "duration": 9,
    "start_time": "2023-01-26T14:29:25.422Z"
   },
   {
    "duration": 40,
    "start_time": "2023-01-26T14:29:25.433Z"
   },
   {
    "duration": 37,
    "start_time": "2023-01-26T14:29:25.475Z"
   },
   {
    "duration": 63,
    "start_time": "2023-01-26T14:29:25.514Z"
   },
   {
    "duration": 98,
    "start_time": "2023-01-26T14:29:25.580Z"
   },
   {
    "duration": 32,
    "start_time": "2023-01-26T14:29:25.681Z"
   },
   {
    "duration": 18,
    "start_time": "2023-01-26T14:29:25.715Z"
   },
   {
    "duration": 36,
    "start_time": "2023-01-26T14:29:25.735Z"
   },
   {
    "duration": 44,
    "start_time": "2023-01-26T14:29:25.773Z"
   },
   {
    "duration": 23,
    "start_time": "2023-01-26T14:29:25.820Z"
   },
   {
    "duration": 23,
    "start_time": "2023-01-26T14:29:25.846Z"
   },
   {
    "duration": 16,
    "start_time": "2023-01-26T14:29:25.871Z"
   },
   {
    "duration": 39,
    "start_time": "2023-01-26T14:29:25.899Z"
   },
   {
    "duration": 25,
    "start_time": "2023-01-26T14:29:25.940Z"
   },
   {
    "duration": 303,
    "start_time": "2023-01-26T14:29:25.968Z"
   },
   {
    "duration": 150,
    "start_time": "2023-01-26T14:29:26.273Z"
   },
   {
    "duration": 17,
    "start_time": "2023-01-26T14:29:26.425Z"
   },
   {
    "duration": 297,
    "start_time": "2023-01-26T14:29:26.444Z"
   },
   {
    "duration": 240,
    "start_time": "2023-01-26T14:29:26.743Z"
   },
   {
    "duration": 329,
    "start_time": "2023-01-26T14:29:26.985Z"
   },
   {
    "duration": 282,
    "start_time": "2023-01-26T14:29:27.316Z"
   },
   {
    "duration": 346,
    "start_time": "2023-01-26T14:29:27.600Z"
   },
   {
    "duration": 10,
    "start_time": "2023-01-26T14:29:27.950Z"
   },
   {
    "duration": 147,
    "start_time": "2023-01-26T14:29:27.962Z"
   },
   {
    "duration": 5,
    "start_time": "2023-01-26T14:29:28.111Z"
   },
   {
    "duration": 154,
    "start_time": "2023-01-26T14:29:28.118Z"
   },
   {
    "duration": 150,
    "start_time": "2023-01-26T14:29:28.273Z"
   },
   {
    "duration": 5,
    "start_time": "2023-01-26T14:29:28.424Z"
   },
   {
    "duration": 19,
    "start_time": "2023-01-26T14:29:28.431Z"
   },
   {
    "duration": 6,
    "start_time": "2023-01-26T14:31:15.497Z"
   },
   {
    "duration": 239,
    "start_time": "2023-01-26T14:38:50.900Z"
   },
   {
    "duration": 234,
    "start_time": "2023-01-26T14:38:56.233Z"
   },
   {
    "duration": 10,
    "start_time": "2023-01-26T14:40:09.968Z"
   },
   {
    "duration": 91,
    "start_time": "2023-01-26T14:40:53.700Z"
   },
   {
    "duration": 155,
    "start_time": "2023-01-26T14:41:59.473Z"
   },
   {
    "duration": 15,
    "start_time": "2023-01-26T14:42:23.130Z"
   },
   {
    "duration": 518,
    "start_time": "2023-01-26T14:43:01.561Z"
   },
   {
    "duration": 28,
    "start_time": "2023-01-26T14:43:06.198Z"
   },
   {
    "duration": 137,
    "start_time": "2023-01-26T14:52:21.204Z"
   },
   {
    "duration": 40,
    "start_time": "2023-01-26T15:34:58.644Z"
   },
   {
    "duration": 10,
    "start_time": "2023-01-26T15:35:16.844Z"
   },
   {
    "duration": 1178,
    "start_time": "2023-01-26T15:42:41.072Z"
   },
   {
    "duration": 1343,
    "start_time": "2023-01-26T15:42:58.035Z"
   },
   {
    "duration": 11,
    "start_time": "2023-01-26T15:43:11.616Z"
   },
   {
    "duration": 12,
    "start_time": "2023-01-26T15:43:30.851Z"
   },
   {
    "duration": 11,
    "start_time": "2023-01-26T15:45:34.855Z"
   },
   {
    "duration": 1040,
    "start_time": "2023-01-26T15:47:33.714Z"
   },
   {
    "duration": 43,
    "start_time": "2023-01-26T15:48:02.190Z"
   },
   {
    "duration": 10,
    "start_time": "2023-01-26T15:49:14.975Z"
   },
   {
    "duration": 7,
    "start_time": "2023-01-26T15:49:21.728Z"
   },
   {
    "duration": 21,
    "start_time": "2023-01-26T15:49:30.782Z"
   },
   {
    "duration": 13,
    "start_time": "2023-01-26T15:49:45.278Z"
   },
   {
    "duration": 82,
    "start_time": "2023-01-26T15:50:47.208Z"
   },
   {
    "duration": 53,
    "start_time": "2023-01-26T15:51:01.716Z"
   },
   {
    "duration": 8,
    "start_time": "2023-01-26T15:51:07.329Z"
   },
   {
    "duration": 3,
    "start_time": "2023-01-26T15:51:17.071Z"
   },
   {
    "duration": 5,
    "start_time": "2023-01-26T15:51:21.472Z"
   },
   {
    "duration": 10,
    "start_time": "2023-01-26T15:52:41.813Z"
   },
   {
    "duration": 28,
    "start_time": "2023-01-26T15:55:39.082Z"
   },
   {
    "duration": 13,
    "start_time": "2023-01-26T15:58:26.828Z"
   },
   {
    "duration": 4,
    "start_time": "2023-01-26T15:59:18.661Z"
   },
   {
    "duration": 1025,
    "start_time": "2023-01-26T16:46:46.616Z"
   },
   {
    "duration": 89,
    "start_time": "2023-01-26T16:46:47.643Z"
   },
   {
    "duration": 14,
    "start_time": "2023-01-26T16:46:47.734Z"
   },
   {
    "duration": 17,
    "start_time": "2023-01-26T16:46:47.750Z"
   },
   {
    "duration": 62,
    "start_time": "2023-01-26T16:46:47.770Z"
   },
   {
    "duration": 8,
    "start_time": "2023-01-26T16:46:47.834Z"
   },
   {
    "duration": 20,
    "start_time": "2023-01-26T16:46:47.844Z"
   },
   {
    "duration": 32,
    "start_time": "2023-01-26T16:46:47.866Z"
   },
   {
    "duration": 12,
    "start_time": "2023-01-26T16:46:47.900Z"
   },
   {
    "duration": 37,
    "start_time": "2023-01-26T16:46:47.915Z"
   },
   {
    "duration": 9,
    "start_time": "2023-01-26T16:46:47.954Z"
   },
   {
    "duration": 24,
    "start_time": "2023-01-26T16:46:47.965Z"
   },
   {
    "duration": 46,
    "start_time": "2023-01-26T16:46:47.991Z"
   },
   {
    "duration": 6,
    "start_time": "2023-01-26T16:46:48.040Z"
   },
   {
    "duration": 8,
    "start_time": "2023-01-26T16:46:48.048Z"
   },
   {
    "duration": 18,
    "start_time": "2023-01-26T16:46:48.057Z"
   },
   {
    "duration": 6,
    "start_time": "2023-01-26T16:46:48.076Z"
   },
   {
    "duration": 58,
    "start_time": "2023-01-26T16:46:48.084Z"
   },
   {
    "duration": 11,
    "start_time": "2023-01-26T16:46:48.144Z"
   },
   {
    "duration": 176,
    "start_time": "2023-01-26T16:46:48.156Z"
   },
   {
    "duration": 135,
    "start_time": "2023-01-26T16:46:48.335Z"
   },
   {
    "duration": 12,
    "start_time": "2023-01-26T16:46:48.471Z"
   },
   {
    "duration": 335,
    "start_time": "2023-01-26T16:46:48.488Z"
   },
   {
    "duration": 199,
    "start_time": "2023-01-26T16:46:48.833Z"
   },
   {
    "duration": 264,
    "start_time": "2023-01-26T16:46:49.034Z"
   },
   {
    "duration": 227,
    "start_time": "2023-01-26T16:46:49.300Z"
   },
   {
    "duration": 286,
    "start_time": "2023-01-26T16:46:49.533Z"
   },
   {
    "duration": 12,
    "start_time": "2023-01-26T16:46:49.821Z"
   },
   {
    "duration": 129,
    "start_time": "2023-01-26T16:46:49.836Z"
   },
   {
    "duration": 5,
    "start_time": "2023-01-26T16:46:49.967Z"
   },
   {
    "duration": 188,
    "start_time": "2023-01-26T16:46:49.973Z"
   },
   {
    "duration": 138,
    "start_time": "2023-01-26T16:46:50.162Z"
   },
   {
    "duration": 7,
    "start_time": "2023-01-26T16:46:50.303Z"
   },
   {
    "duration": 246,
    "start_time": "2023-01-26T16:46:50.314Z"
   },
   {
    "duration": 160,
    "start_time": "2023-01-26T16:46:50.561Z"
   },
   {
    "duration": 25,
    "start_time": "2023-01-26T16:46:50.731Z"
   },
   {
    "duration": 9,
    "start_time": "2023-01-26T16:46:50.759Z"
   },
   {
    "duration": 8,
    "start_time": "2023-01-26T16:46:50.769Z"
   },
   {
    "duration": 43,
    "start_time": "2023-01-26T16:46:50.779Z"
   },
   {
    "duration": 17,
    "start_time": "2023-01-26T16:46:50.831Z"
   },
   {
    "duration": 85,
    "start_time": "2023-01-27T14:00:12.106Z"
   },
   {
    "duration": 1341,
    "start_time": "2023-01-27T14:01:29.694Z"
   },
   {
    "duration": 127,
    "start_time": "2023-01-27T14:01:31.037Z"
   },
   {
    "duration": 11,
    "start_time": "2023-01-27T14:01:31.166Z"
   },
   {
    "duration": 40,
    "start_time": "2023-01-27T14:01:31.179Z"
   },
   {
    "duration": 168,
    "start_time": "2023-01-27T14:01:31.220Z"
   },
   {
    "duration": 11,
    "start_time": "2023-01-27T14:01:31.389Z"
   },
   {
    "duration": 63,
    "start_time": "2023-01-27T14:01:31.401Z"
   },
   {
    "duration": 33,
    "start_time": "2023-01-27T14:01:31.465Z"
   },
   {
    "duration": 58,
    "start_time": "2023-01-27T14:01:31.500Z"
   },
   {
    "duration": 106,
    "start_time": "2023-01-27T14:01:31.561Z"
   },
   {
    "duration": 6,
    "start_time": "2023-01-27T14:01:31.669Z"
   },
   {
    "duration": 25,
    "start_time": "2023-01-27T14:01:31.677Z"
   },
   {
    "duration": 42,
    "start_time": "2023-01-27T14:01:31.704Z"
   },
   {
    "duration": 38,
    "start_time": "2023-01-27T14:01:31.748Z"
   },
   {
    "duration": 30,
    "start_time": "2023-01-27T14:01:31.788Z"
   },
   {
    "duration": 43,
    "start_time": "2023-01-27T14:01:31.819Z"
   },
   {
    "duration": 29,
    "start_time": "2023-01-27T14:01:31.864Z"
   },
   {
    "duration": 18,
    "start_time": "2023-01-27T14:01:31.895Z"
   },
   {
    "duration": 33,
    "start_time": "2023-01-27T14:01:31.922Z"
   },
   {
    "duration": 201,
    "start_time": "2023-01-27T14:01:31.957Z"
   },
   {
    "duration": 126,
    "start_time": "2023-01-27T14:01:32.160Z"
   },
   {
    "duration": 12,
    "start_time": "2023-01-27T14:01:32.288Z"
   },
   {
    "duration": 326,
    "start_time": "2023-01-27T14:01:32.301Z"
   },
   {
    "duration": 192,
    "start_time": "2023-01-27T14:01:32.636Z"
   },
   {
    "duration": 354,
    "start_time": "2023-01-27T14:01:32.830Z"
   },
   {
    "duration": 222,
    "start_time": "2023-01-27T14:01:33.185Z"
   },
   {
    "duration": 306,
    "start_time": "2023-01-27T14:01:33.410Z"
   },
   {
    "duration": 16,
    "start_time": "2023-01-27T14:01:33.723Z"
   },
   {
    "duration": 150,
    "start_time": "2023-01-27T14:01:33.745Z"
   },
   {
    "duration": 5,
    "start_time": "2023-01-27T14:01:33.897Z"
   },
   {
    "duration": 174,
    "start_time": "2023-01-27T14:01:33.915Z"
   },
   {
    "duration": 146,
    "start_time": "2023-01-27T14:01:34.092Z"
   },
   {
    "duration": 5,
    "start_time": "2023-01-27T14:01:34.240Z"
   },
   {
    "duration": 254,
    "start_time": "2023-01-27T14:01:34.247Z"
   },
   {
    "duration": 162,
    "start_time": "2023-01-27T14:01:34.510Z"
   },
   {
    "duration": 26,
    "start_time": "2023-01-27T14:01:34.673Z"
   },
   {
    "duration": 10,
    "start_time": "2023-01-27T14:01:34.710Z"
   },
   {
    "duration": 33,
    "start_time": "2023-01-27T14:01:34.721Z"
   },
   {
    "duration": 27,
    "start_time": "2023-01-27T14:01:34.756Z"
   },
   {
    "duration": 13,
    "start_time": "2023-01-27T14:01:34.785Z"
   },
   {
    "duration": 9,
    "start_time": "2023-01-27T14:01:56.489Z"
   },
   {
    "duration": 11,
    "start_time": "2023-01-27T14:02:00.888Z"
   },
   {
    "duration": 47,
    "start_time": "2023-01-27T14:02:27.736Z"
   },
   {
    "duration": 8,
    "start_time": "2023-01-27T14:03:37.335Z"
   },
   {
    "duration": 10,
    "start_time": "2023-01-27T14:03:37.839Z"
   },
   {
    "duration": 17,
    "start_time": "2023-01-27T14:09:56.272Z"
   },
   {
    "duration": 10,
    "start_time": "2023-01-27T14:11:00.736Z"
   },
   {
    "duration": 5,
    "start_time": "2023-01-27T14:11:08.153Z"
   },
   {
    "duration": 7,
    "start_time": "2023-01-27T14:11:54.539Z"
   },
   {
    "duration": 6,
    "start_time": "2023-01-27T14:12:03.939Z"
   },
   {
    "duration": 14,
    "start_time": "2023-01-27T14:12:35.342Z"
   },
   {
    "duration": 136,
    "start_time": "2023-01-27T14:13:22.394Z"
   },
   {
    "duration": 16,
    "start_time": "2023-01-27T14:15:58.436Z"
   },
   {
    "duration": 19,
    "start_time": "2023-01-27T14:16:12.877Z"
   },
   {
    "duration": 12,
    "start_time": "2023-01-27T14:21:33.377Z"
   },
   {
    "duration": 23,
    "start_time": "2023-01-27T14:23:19.736Z"
   },
   {
    "duration": 21,
    "start_time": "2023-01-27T14:23:38.432Z"
   },
   {
    "duration": 13,
    "start_time": "2023-01-27T14:24:15.636Z"
   },
   {
    "duration": 13,
    "start_time": "2023-01-27T14:24:21.875Z"
   },
   {
    "duration": 23,
    "start_time": "2023-01-27T14:24:34.237Z"
   },
   {
    "duration": 13,
    "start_time": "2023-01-27T14:24:48.260Z"
   },
   {
    "duration": 27,
    "start_time": "2023-01-27T14:26:21.540Z"
   },
   {
    "duration": 230,
    "start_time": "2023-01-27T14:26:28.901Z"
   },
   {
    "duration": 66,
    "start_time": "2023-01-27T14:27:13.573Z"
   },
   {
    "duration": 78,
    "start_time": "2023-01-27T14:27:18.287Z"
   },
   {
    "duration": 25,
    "start_time": "2023-01-27T14:27:23.598Z"
   },
   {
    "duration": 14,
    "start_time": "2023-01-27T14:27:27.670Z"
   },
   {
    "duration": 14,
    "start_time": "2023-01-27T14:27:40.993Z"
   },
   {
    "duration": 15,
    "start_time": "2023-01-27T14:27:47.633Z"
   },
   {
    "duration": 326,
    "start_time": "2023-01-27T14:40:12.449Z"
   },
   {
    "duration": 15,
    "start_time": "2023-01-27T14:40:16.436Z"
   },
   {
    "duration": 11,
    "start_time": "2023-01-27T14:40:21.089Z"
   },
   {
    "duration": 13,
    "start_time": "2023-01-27T14:41:00.745Z"
   },
   {
    "duration": 17,
    "start_time": "2023-01-27T14:41:20.579Z"
   },
   {
    "duration": 11,
    "start_time": "2023-01-27T14:41:27.994Z"
   },
   {
    "duration": 37,
    "start_time": "2023-01-27T14:41:52.532Z"
   },
   {
    "duration": 18,
    "start_time": "2023-01-27T14:42:06.491Z"
   },
   {
    "duration": 48,
    "start_time": "2023-01-27T14:42:10.099Z"
   },
   {
    "duration": 29,
    "start_time": "2023-01-27T14:42:14.698Z"
   },
   {
    "duration": 13,
    "start_time": "2023-01-27T14:42:17.379Z"
   },
   {
    "duration": 16,
    "start_time": "2023-01-27T14:42:23.769Z"
   },
   {
    "duration": 13,
    "start_time": "2023-01-27T14:42:27.653Z"
   },
   {
    "duration": 17,
    "start_time": "2023-01-27T14:42:36.535Z"
   },
   {
    "duration": 20,
    "start_time": "2023-01-27T14:42:39.351Z"
   },
   {
    "duration": 12,
    "start_time": "2023-01-27T14:42:42.195Z"
   },
   {
    "duration": 34,
    "start_time": "2023-01-27T14:42:45.803Z"
   },
   {
    "duration": 23,
    "start_time": "2023-01-27T14:43:59.086Z"
   },
   {
    "duration": 50,
    "start_time": "2023-01-27T14:44:03.453Z"
   },
   {
    "duration": 18,
    "start_time": "2023-01-27T14:44:07.868Z"
   },
   {
    "duration": 12,
    "start_time": "2023-01-27T14:44:12.145Z"
   },
   {
    "duration": 945,
    "start_time": "2023-01-27T14:44:43.253Z"
   },
   {
    "duration": 964,
    "start_time": "2023-01-27T14:45:02.630Z"
   },
   {
    "duration": 44,
    "start_time": "2023-01-27T14:45:34.693Z"
   },
   {
    "duration": 12,
    "start_time": "2023-01-27T14:46:13.830Z"
   },
   {
    "duration": 13,
    "start_time": "2023-01-27T14:46:18.470Z"
   },
   {
    "duration": 29,
    "start_time": "2023-01-27T14:48:42.976Z"
   },
   {
    "duration": 35,
    "start_time": "2023-01-27T14:49:27.089Z"
   },
   {
    "duration": 58,
    "start_time": "2023-01-27T14:49:34.675Z"
   },
   {
    "duration": 19,
    "start_time": "2023-01-27T14:49:42.602Z"
   },
   {
    "duration": 9,
    "start_time": "2023-01-27T14:49:55.641Z"
   },
   {
    "duration": 7,
    "start_time": "2023-01-27T14:49:58.386Z"
   },
   {
    "duration": 4,
    "start_time": "2023-01-27T14:50:12.498Z"
   },
   {
    "duration": 9,
    "start_time": "2023-01-27T14:50:16.786Z"
   },
   {
    "duration": 11,
    "start_time": "2023-01-27T14:50:55.132Z"
   },
   {
    "duration": 52,
    "start_time": "2023-01-27T14:51:26.828Z"
   },
   {
    "duration": 34,
    "start_time": "2023-01-27T14:51:34.347Z"
   },
   {
    "duration": 10,
    "start_time": "2023-01-27T14:51:36.948Z"
   },
   {
    "duration": 28,
    "start_time": "2023-01-27T14:52:48.343Z"
   },
   {
    "duration": 14,
    "start_time": "2023-01-27T14:52:49.591Z"
   },
   {
    "duration": 5,
    "start_time": "2023-01-27T14:52:50.103Z"
   },
   {
    "duration": 45,
    "start_time": "2023-01-27T14:53:06.046Z"
   },
   {
    "duration": 19,
    "start_time": "2023-01-27T14:53:07.227Z"
   },
   {
    "duration": 11,
    "start_time": "2023-01-27T14:53:07.670Z"
   },
   {
    "duration": 45,
    "start_time": "2023-01-27T14:53:26.824Z"
   },
   {
    "duration": 23,
    "start_time": "2023-01-27T14:53:27.295Z"
   },
   {
    "duration": 6,
    "start_time": "2023-01-27T14:53:27.534Z"
   },
   {
    "duration": 5,
    "start_time": "2023-01-27T14:53:44.507Z"
   },
   {
    "duration": 9,
    "start_time": "2023-01-27T14:57:38.131Z"
   },
   {
    "duration": 5,
    "start_time": "2023-01-27T14:58:04.700Z"
   },
   {
    "duration": 4,
    "start_time": "2023-01-27T14:58:51.192Z"
   },
   {
    "duration": 9,
    "start_time": "2023-01-27T14:58:56.172Z"
   },
   {
    "duration": 9,
    "start_time": "2023-01-27T14:59:07.375Z"
   },
   {
    "duration": 5,
    "start_time": "2023-01-27T14:59:11.470Z"
   },
   {
    "duration": 12,
    "start_time": "2023-01-27T15:00:45.168Z"
   },
   {
    "duration": 3,
    "start_time": "2023-01-27T15:01:15.472Z"
   },
   {
    "duration": 4,
    "start_time": "2023-01-27T15:01:19.621Z"
   },
   {
    "duration": 7,
    "start_time": "2023-01-27T15:01:24.496Z"
   },
   {
    "duration": 11,
    "start_time": "2023-01-27T15:01:34.456Z"
   },
   {
    "duration": 5,
    "start_time": "2023-01-27T15:03:18.525Z"
   },
   {
    "duration": 5,
    "start_time": "2023-01-27T15:03:29.325Z"
   },
   {
    "duration": 4,
    "start_time": "2023-01-27T15:03:37.987Z"
   },
   {
    "duration": 6,
    "start_time": "2023-01-27T15:03:38.301Z"
   },
   {
    "duration": 1028,
    "start_time": "2023-01-27T15:03:51.922Z"
   },
   {
    "duration": 72,
    "start_time": "2023-01-27T15:03:52.952Z"
   },
   {
    "duration": 15,
    "start_time": "2023-01-27T15:03:53.026Z"
   },
   {
    "duration": 15,
    "start_time": "2023-01-27T15:03:53.044Z"
   },
   {
    "duration": 38,
    "start_time": "2023-01-27T15:03:53.061Z"
   },
   {
    "duration": 14,
    "start_time": "2023-01-27T15:03:53.101Z"
   },
   {
    "duration": 21,
    "start_time": "2023-01-27T15:03:53.124Z"
   },
   {
    "duration": 16,
    "start_time": "2023-01-27T15:03:53.147Z"
   },
   {
    "duration": 9,
    "start_time": "2023-01-27T15:03:53.164Z"
   },
   {
    "duration": 18,
    "start_time": "2023-01-27T15:03:53.177Z"
   },
   {
    "duration": 9,
    "start_time": "2023-01-27T15:03:53.196Z"
   },
   {
    "duration": 19,
    "start_time": "2023-01-27T15:03:53.206Z"
   },
   {
    "duration": 7,
    "start_time": "2023-01-27T15:03:53.227Z"
   },
   {
    "duration": 16,
    "start_time": "2023-01-27T15:03:53.236Z"
   },
   {
    "duration": 17,
    "start_time": "2023-01-27T15:03:53.254Z"
   },
   {
    "duration": 10,
    "start_time": "2023-01-27T15:03:53.272Z"
   },
   {
    "duration": 19,
    "start_time": "2023-01-27T15:03:53.284Z"
   },
   {
    "duration": 13,
    "start_time": "2023-01-27T15:03:53.304Z"
   },
   {
    "duration": 42,
    "start_time": "2023-01-27T15:03:53.319Z"
   },
   {
    "duration": 5,
    "start_time": "2023-01-27T15:03:53.363Z"
   },
   {
    "duration": 8,
    "start_time": "2023-01-27T15:03:53.370Z"
   },
   {
    "duration": 6,
    "start_time": "2023-01-27T15:03:53.380Z"
   },
   {
    "duration": 6,
    "start_time": "2023-01-27T15:03:53.388Z"
   },
   {
    "duration": 57,
    "start_time": "2023-01-27T15:03:53.395Z"
   },
   {
    "duration": 0,
    "start_time": "2023-01-27T15:03:53.454Z"
   },
   {
    "duration": 0,
    "start_time": "2023-01-27T15:03:53.456Z"
   },
   {
    "duration": 0,
    "start_time": "2023-01-27T15:03:53.457Z"
   },
   {
    "duration": 0,
    "start_time": "2023-01-27T15:03:53.458Z"
   },
   {
    "duration": 0,
    "start_time": "2023-01-27T15:03:53.460Z"
   },
   {
    "duration": 0,
    "start_time": "2023-01-27T15:03:53.462Z"
   },
   {
    "duration": 0,
    "start_time": "2023-01-27T15:03:53.464Z"
   },
   {
    "duration": 0,
    "start_time": "2023-01-27T15:03:53.465Z"
   },
   {
    "duration": 0,
    "start_time": "2023-01-27T15:03:53.466Z"
   },
   {
    "duration": 0,
    "start_time": "2023-01-27T15:03:53.468Z"
   },
   {
    "duration": 0,
    "start_time": "2023-01-27T15:03:53.469Z"
   },
   {
    "duration": 0,
    "start_time": "2023-01-27T15:03:53.470Z"
   },
   {
    "duration": 0,
    "start_time": "2023-01-27T15:03:53.471Z"
   },
   {
    "duration": 0,
    "start_time": "2023-01-27T15:03:53.471Z"
   },
   {
    "duration": 0,
    "start_time": "2023-01-27T15:03:53.473Z"
   },
   {
    "duration": 0,
    "start_time": "2023-01-27T15:03:53.473Z"
   },
   {
    "duration": 0,
    "start_time": "2023-01-27T15:03:53.474Z"
   },
   {
    "duration": 0,
    "start_time": "2023-01-27T15:03:53.476Z"
   },
   {
    "duration": 0,
    "start_time": "2023-01-27T15:03:53.477Z"
   },
   {
    "duration": 0,
    "start_time": "2023-01-27T15:03:53.478Z"
   },
   {
    "duration": 0,
    "start_time": "2023-01-27T15:03:53.480Z"
   },
   {
    "duration": 0,
    "start_time": "2023-01-27T15:03:53.481Z"
   },
   {
    "duration": 1046,
    "start_time": "2023-01-27T15:04:18.681Z"
   },
   {
    "duration": 77,
    "start_time": "2023-01-27T15:04:19.728Z"
   },
   {
    "duration": 25,
    "start_time": "2023-01-27T15:04:19.806Z"
   },
   {
    "duration": 3,
    "start_time": "2023-01-27T15:04:19.833Z"
   },
   {
    "duration": 37,
    "start_time": "2023-01-27T15:04:19.839Z"
   },
   {
    "duration": 8,
    "start_time": "2023-01-27T15:04:19.877Z"
   },
   {
    "duration": 14,
    "start_time": "2023-01-27T15:04:19.887Z"
   },
   {
    "duration": 36,
    "start_time": "2023-01-27T15:04:19.903Z"
   },
   {
    "duration": 11,
    "start_time": "2023-01-27T15:04:19.940Z"
   },
   {
    "duration": 14,
    "start_time": "2023-01-27T15:04:19.952Z"
   },
   {
    "duration": 6,
    "start_time": "2023-01-27T15:04:19.968Z"
   },
   {
    "duration": 13,
    "start_time": "2023-01-27T15:04:19.976Z"
   },
   {
    "duration": 8,
    "start_time": "2023-01-27T15:04:19.991Z"
   },
   {
    "duration": 32,
    "start_time": "2023-01-27T15:04:20.003Z"
   },
   {
    "duration": 16,
    "start_time": "2023-01-27T15:04:20.037Z"
   },
   {
    "duration": 13,
    "start_time": "2023-01-27T15:04:20.054Z"
   },
   {
    "duration": 17,
    "start_time": "2023-01-27T15:04:20.069Z"
   },
   {
    "duration": 34,
    "start_time": "2023-01-27T15:04:20.088Z"
   },
   {
    "duration": 44,
    "start_time": "2023-01-27T15:04:20.124Z"
   },
   {
    "duration": 6,
    "start_time": "2023-01-27T15:04:20.169Z"
   },
   {
    "duration": 13,
    "start_time": "2023-01-27T15:04:20.176Z"
   },
   {
    "duration": 10,
    "start_time": "2023-01-27T15:04:20.191Z"
   },
   {
    "duration": 7,
    "start_time": "2023-01-27T15:04:20.202Z"
   },
   {
    "duration": 16,
    "start_time": "2023-01-27T15:04:20.220Z"
   },
   {
    "duration": 168,
    "start_time": "2023-01-27T15:04:20.237Z"
   },
   {
    "duration": 133,
    "start_time": "2023-01-27T15:04:20.407Z"
   },
   {
    "duration": 16,
    "start_time": "2023-01-27T15:04:20.542Z"
   },
   {
    "duration": 283,
    "start_time": "2023-01-27T15:04:20.559Z"
   },
   {
    "duration": 189,
    "start_time": "2023-01-27T15:04:20.843Z"
   },
   {
    "duration": 289,
    "start_time": "2023-01-27T15:04:21.034Z"
   },
   {
    "duration": 194,
    "start_time": "2023-01-27T15:04:21.330Z"
   },
   {
    "duration": 306,
    "start_time": "2023-01-27T15:04:21.525Z"
   },
   {
    "duration": 8,
    "start_time": "2023-01-27T15:04:21.833Z"
   },
   {
    "duration": 155,
    "start_time": "2023-01-27T15:04:21.843Z"
   },
   {
    "duration": 19,
    "start_time": "2023-01-27T15:04:22.000Z"
   },
   {
    "duration": 141,
    "start_time": "2023-01-27T15:04:22.021Z"
   },
   {
    "duration": 124,
    "start_time": "2023-01-27T15:04:22.164Z"
   },
   {
    "duration": 5,
    "start_time": "2023-01-27T15:04:22.290Z"
   },
   {
    "duration": 260,
    "start_time": "2023-01-27T15:04:22.297Z"
   },
   {
    "duration": 131,
    "start_time": "2023-01-27T15:04:22.559Z"
   },
   {
    "duration": 46,
    "start_time": "2023-01-27T15:04:22.693Z"
   },
   {
    "duration": 18,
    "start_time": "2023-01-27T15:04:22.741Z"
   },
   {
    "duration": 23,
    "start_time": "2023-01-27T15:04:22.760Z"
   },
   {
    "duration": 61,
    "start_time": "2023-01-27T15:04:22.785Z"
   },
   {
    "duration": 18,
    "start_time": "2023-01-27T15:04:22.848Z"
   },
   {
    "duration": 130,
    "start_time": "2023-01-27T15:09:42.189Z"
   },
   {
    "duration": 9,
    "start_time": "2023-01-27T15:09:46.229Z"
   },
   {
    "duration": 5,
    "start_time": "2023-01-27T15:10:39.033Z"
   },
   {
    "duration": 7,
    "start_time": "2023-01-27T15:11:13.370Z"
   },
   {
    "duration": 1018,
    "start_time": "2023-01-27T17:30:25.121Z"
   },
   {
    "duration": 64,
    "start_time": "2023-01-27T17:30:26.141Z"
   },
   {
    "duration": 10,
    "start_time": "2023-01-27T17:30:26.207Z"
   },
   {
    "duration": 28,
    "start_time": "2023-01-27T17:30:26.219Z"
   },
   {
    "duration": 59,
    "start_time": "2023-01-27T17:30:26.249Z"
   },
   {
    "duration": 7,
    "start_time": "2023-01-27T17:30:26.310Z"
   },
   {
    "duration": 36,
    "start_time": "2023-01-27T17:30:26.318Z"
   },
   {
    "duration": 27,
    "start_time": "2023-01-27T17:30:26.355Z"
   },
   {
    "duration": 38,
    "start_time": "2023-01-27T17:30:26.384Z"
   },
   {
    "duration": 39,
    "start_time": "2023-01-27T17:30:26.425Z"
   },
   {
    "duration": 16,
    "start_time": "2023-01-27T17:30:26.465Z"
   },
   {
    "duration": 41,
    "start_time": "2023-01-27T17:30:26.482Z"
   },
   {
    "duration": 21,
    "start_time": "2023-01-27T17:30:26.524Z"
   },
   {
    "duration": 31,
    "start_time": "2023-01-27T17:30:26.546Z"
   },
   {
    "duration": 63,
    "start_time": "2023-01-27T17:30:26.578Z"
   },
   {
    "duration": 32,
    "start_time": "2023-01-27T17:30:26.643Z"
   },
   {
    "duration": 32,
    "start_time": "2023-01-27T17:30:26.677Z"
   },
   {
    "duration": 32,
    "start_time": "2023-01-27T17:30:26.711Z"
   },
   {
    "duration": 140,
    "start_time": "2023-01-27T17:30:26.745Z"
   },
   {
    "duration": 0,
    "start_time": "2023-01-27T17:30:26.887Z"
   },
   {
    "duration": 0,
    "start_time": "2023-01-27T17:30:26.888Z"
   },
   {
    "duration": 0,
    "start_time": "2023-01-27T17:30:26.889Z"
   },
   {
    "duration": 0,
    "start_time": "2023-01-27T17:30:26.890Z"
   },
   {
    "duration": 0,
    "start_time": "2023-01-27T17:30:26.891Z"
   },
   {
    "duration": 0,
    "start_time": "2023-01-27T17:30:26.892Z"
   },
   {
    "duration": 0,
    "start_time": "2023-01-27T17:30:26.893Z"
   },
   {
    "duration": 0,
    "start_time": "2023-01-27T17:30:26.894Z"
   },
   {
    "duration": 0,
    "start_time": "2023-01-27T17:30:26.895Z"
   },
   {
    "duration": 0,
    "start_time": "2023-01-27T17:30:26.910Z"
   },
   {
    "duration": 0,
    "start_time": "2023-01-27T17:30:26.911Z"
   },
   {
    "duration": 0,
    "start_time": "2023-01-27T17:30:26.912Z"
   },
   {
    "duration": 0,
    "start_time": "2023-01-27T17:30:26.913Z"
   },
   {
    "duration": 0,
    "start_time": "2023-01-27T17:30:26.914Z"
   },
   {
    "duration": 0,
    "start_time": "2023-01-27T17:30:26.915Z"
   },
   {
    "duration": 0,
    "start_time": "2023-01-27T17:30:26.916Z"
   },
   {
    "duration": 0,
    "start_time": "2023-01-27T17:30:26.916Z"
   },
   {
    "duration": 0,
    "start_time": "2023-01-27T17:30:26.917Z"
   },
   {
    "duration": 0,
    "start_time": "2023-01-27T17:30:26.918Z"
   },
   {
    "duration": 0,
    "start_time": "2023-01-27T17:30:26.919Z"
   },
   {
    "duration": 0,
    "start_time": "2023-01-27T17:30:26.920Z"
   },
   {
    "duration": 0,
    "start_time": "2023-01-27T17:30:26.921Z"
   },
   {
    "duration": 0,
    "start_time": "2023-01-27T17:30:26.922Z"
   },
   {
    "duration": 0,
    "start_time": "2023-01-27T17:30:26.923Z"
   },
   {
    "duration": 0,
    "start_time": "2023-01-27T17:30:26.923Z"
   },
   {
    "duration": 29,
    "start_time": "2023-01-27T17:30:49.300Z"
   },
   {
    "duration": 5,
    "start_time": "2023-01-27T17:30:51.211Z"
   },
   {
    "duration": 4,
    "start_time": "2023-01-27T17:30:52.091Z"
   },
   {
    "duration": 6,
    "start_time": "2023-01-27T17:31:19.316Z"
   },
   {
    "duration": 9,
    "start_time": "2023-01-27T17:36:41.082Z"
   },
   {
    "duration": 1051,
    "start_time": "2023-01-27T17:36:49.073Z"
   },
   {
    "duration": 63,
    "start_time": "2023-01-27T17:36:50.126Z"
   },
   {
    "duration": 12,
    "start_time": "2023-01-27T17:36:50.191Z"
   },
   {
    "duration": 4,
    "start_time": "2023-01-27T17:36:50.205Z"
   },
   {
    "duration": 33,
    "start_time": "2023-01-27T17:36:50.210Z"
   },
   {
    "duration": 11,
    "start_time": "2023-01-27T17:36:50.245Z"
   },
   {
    "duration": 14,
    "start_time": "2023-01-27T17:36:50.257Z"
   },
   {
    "duration": 14,
    "start_time": "2023-01-27T17:36:50.273Z"
   },
   {
    "duration": 11,
    "start_time": "2023-01-27T17:36:50.288Z"
   },
   {
    "duration": 13,
    "start_time": "2023-01-27T17:36:50.301Z"
   },
   {
    "duration": 7,
    "start_time": "2023-01-27T17:36:50.315Z"
   },
   {
    "duration": 13,
    "start_time": "2023-01-27T17:36:50.323Z"
   },
   {
    "duration": 5,
    "start_time": "2023-01-27T17:36:50.337Z"
   },
   {
    "duration": 17,
    "start_time": "2023-01-27T17:36:50.343Z"
   },
   {
    "duration": 9,
    "start_time": "2023-01-27T17:36:50.362Z"
   },
   {
    "duration": 12,
    "start_time": "2023-01-27T17:36:50.373Z"
   },
   {
    "duration": 8,
    "start_time": "2023-01-27T17:36:50.386Z"
   },
   {
    "duration": 15,
    "start_time": "2023-01-27T17:36:50.395Z"
   },
   {
    "duration": 30,
    "start_time": "2023-01-27T17:36:50.411Z"
   },
   {
    "duration": 4,
    "start_time": "2023-01-27T17:36:50.443Z"
   },
   {
    "duration": 9,
    "start_time": "2023-01-27T17:36:50.448Z"
   },
   {
    "duration": 11,
    "start_time": "2023-01-27T17:36:50.458Z"
   },
   {
    "duration": 15,
    "start_time": "2023-01-27T17:36:50.470Z"
   },
   {
    "duration": 179,
    "start_time": "2023-01-27T17:36:50.486Z"
   },
   {
    "duration": 131,
    "start_time": "2023-01-27T17:36:50.666Z"
   },
   {
    "duration": 18,
    "start_time": "2023-01-27T17:36:50.799Z"
   },
   {
    "duration": 284,
    "start_time": "2023-01-27T17:36:50.819Z"
   },
   {
    "duration": 178,
    "start_time": "2023-01-27T17:36:51.109Z"
   },
   {
    "duration": 313,
    "start_time": "2023-01-27T17:36:51.288Z"
   },
   {
    "duration": 210,
    "start_time": "2023-01-27T17:36:51.602Z"
   },
   {
    "duration": 299,
    "start_time": "2023-01-27T17:36:51.813Z"
   },
   {
    "duration": 8,
    "start_time": "2023-01-27T17:36:52.114Z"
   },
   {
    "duration": 132,
    "start_time": "2023-01-27T17:36:52.123Z"
   },
   {
    "duration": 3,
    "start_time": "2023-01-27T17:36:52.257Z"
   },
   {
    "duration": 126,
    "start_time": "2023-01-27T17:36:52.262Z"
   },
   {
    "duration": 128,
    "start_time": "2023-01-27T17:36:52.389Z"
   },
   {
    "duration": 4,
    "start_time": "2023-01-27T17:36:52.518Z"
   },
   {
    "duration": 221,
    "start_time": "2023-01-27T17:36:52.523Z"
   },
   {
    "duration": 149,
    "start_time": "2023-01-27T17:36:52.745Z"
   },
   {
    "duration": 36,
    "start_time": "2023-01-27T17:36:52.896Z"
   },
   {
    "duration": 9,
    "start_time": "2023-01-27T17:36:52.934Z"
   },
   {
    "duration": 9,
    "start_time": "2023-01-27T17:36:52.944Z"
   },
   {
    "duration": 56,
    "start_time": "2023-01-27T17:36:52.956Z"
   },
   {
    "duration": 18,
    "start_time": "2023-01-27T17:36:53.014Z"
   },
   {
    "duration": 329,
    "start_time": "2023-01-27T17:37:43.770Z"
   },
   {
    "duration": 197,
    "start_time": "2023-01-27T17:38:26.805Z"
   },
   {
    "duration": 175,
    "start_time": "2023-01-27T17:39:40.950Z"
   },
   {
    "duration": 180,
    "start_time": "2023-01-27T17:39:44.957Z"
   },
   {
    "duration": 178,
    "start_time": "2023-01-27T17:39:56.933Z"
   },
   {
    "duration": 174,
    "start_time": "2023-01-27T17:40:05.517Z"
   },
   {
    "duration": 153,
    "start_time": "2023-01-27T17:41:32.303Z"
   },
   {
    "duration": 170,
    "start_time": "2023-01-27T17:41:50.451Z"
   },
   {
    "duration": 171,
    "start_time": "2023-01-27T17:41:58.575Z"
   },
   {
    "duration": 168,
    "start_time": "2023-01-27T17:42:05.632Z"
   },
   {
    "duration": 165,
    "start_time": "2023-01-27T17:42:52.432Z"
   },
   {
    "duration": 166,
    "start_time": "2023-01-27T17:42:55.985Z"
   },
   {
    "duration": 168,
    "start_time": "2023-01-27T17:42:59.104Z"
   },
   {
    "duration": 257,
    "start_time": "2023-01-27T17:43:06.192Z"
   },
   {
    "duration": 156,
    "start_time": "2023-01-27T17:44:47.979Z"
   },
   {
    "duration": 228,
    "start_time": "2023-01-27T17:45:01.115Z"
   },
   {
    "duration": 174,
    "start_time": "2023-01-27T17:45:06.187Z"
   },
   {
    "duration": 189,
    "start_time": "2023-01-27T17:45:45.068Z"
   },
   {
    "duration": 185,
    "start_time": "2023-01-27T17:46:06.878Z"
   },
   {
    "duration": 185,
    "start_time": "2023-01-27T17:46:14.764Z"
   },
   {
    "duration": 208,
    "start_time": "2023-01-27T17:46:30.314Z"
   },
   {
    "duration": 228,
    "start_time": "2023-01-27T17:46:39.373Z"
   },
   {
    "duration": 232,
    "start_time": "2023-01-27T17:46:53.933Z"
   },
   {
    "duration": 238,
    "start_time": "2023-01-27T17:47:16.959Z"
   },
   {
    "duration": 274,
    "start_time": "2023-01-27T17:47:37.015Z"
   },
   {
    "duration": 241,
    "start_time": "2023-01-27T17:47:52.487Z"
   },
   {
    "duration": 339,
    "start_time": "2023-01-27T17:49:26.437Z"
   },
   {
    "duration": 215,
    "start_time": "2023-01-27T17:50:17.753Z"
   },
   {
    "duration": 199,
    "start_time": "2023-01-27T17:50:34.257Z"
   },
   {
    "duration": 233,
    "start_time": "2023-01-27T17:50:43.499Z"
   },
   {
    "duration": 235,
    "start_time": "2023-01-27T17:50:49.253Z"
   },
   {
    "duration": 192,
    "start_time": "2023-01-27T17:50:55.729Z"
   },
   {
    "duration": 215,
    "start_time": "2023-01-27T17:51:15.626Z"
   },
   {
    "duration": 196,
    "start_time": "2023-01-27T17:51:20.250Z"
   },
   {
    "duration": 158,
    "start_time": "2023-01-27T17:51:25.451Z"
   },
   {
    "duration": 182,
    "start_time": "2023-01-27T17:51:29.443Z"
   },
   {
    "duration": 166,
    "start_time": "2023-01-27T17:51:31.402Z"
   },
   {
    "duration": 161,
    "start_time": "2023-01-27T17:51:34.642Z"
   },
   {
    "duration": 164,
    "start_time": "2023-01-27T17:51:59.458Z"
   },
   {
    "duration": 164,
    "start_time": "2023-01-27T17:52:10.010Z"
   },
   {
    "duration": 284,
    "start_time": "2023-01-27T17:52:17.021Z"
   },
   {
    "duration": 194,
    "start_time": "2023-01-27T17:52:28.331Z"
   },
   {
    "duration": 232,
    "start_time": "2023-01-27T17:52:33.475Z"
   },
   {
    "duration": 188,
    "start_time": "2023-01-27T17:52:37.131Z"
   },
   {
    "duration": 179,
    "start_time": "2023-01-27T17:52:43.187Z"
   },
   {
    "duration": 176,
    "start_time": "2023-01-27T17:52:46.259Z"
   },
   {
    "duration": 171,
    "start_time": "2023-01-27T17:52:50.731Z"
   },
   {
    "duration": 265,
    "start_time": "2023-01-27T17:54:14.645Z"
   },
   {
    "duration": 163,
    "start_time": "2023-01-27T17:54:21.444Z"
   },
   {
    "duration": 159,
    "start_time": "2023-01-27T17:54:29.086Z"
   },
   {
    "duration": 190,
    "start_time": "2023-01-27T17:55:30.191Z"
   },
   {
    "duration": 195,
    "start_time": "2023-01-27T17:55:34.726Z"
   },
   {
    "duration": 96,
    "start_time": "2023-01-27T17:55:56.888Z"
   },
   {
    "duration": 104,
    "start_time": "2023-01-27T17:55:58.919Z"
   },
   {
    "duration": 100,
    "start_time": "2023-01-27T17:56:03.357Z"
   },
   {
    "duration": 254,
    "start_time": "2023-01-27T17:56:12.559Z"
   },
   {
    "duration": 186,
    "start_time": "2023-01-27T17:56:22.556Z"
   },
   {
    "duration": 180,
    "start_time": "2023-01-27T17:56:33.391Z"
   },
   {
    "duration": 167,
    "start_time": "2023-01-27T17:56:41.727Z"
   },
   {
    "duration": 197,
    "start_time": "2023-01-27T17:57:43.344Z"
   },
   {
    "duration": 173,
    "start_time": "2023-01-27T17:57:47.472Z"
   },
   {
    "duration": 257,
    "start_time": "2023-01-27T17:58:37.640Z"
   },
   {
    "duration": 207,
    "start_time": "2023-01-27T17:58:52.874Z"
   },
   {
    "duration": 191,
    "start_time": "2023-01-27T17:59:21.328Z"
   },
   {
    "duration": 290,
    "start_time": "2023-01-27T18:16:01.722Z"
   },
   {
    "duration": 217,
    "start_time": "2023-01-27T18:17:17.571Z"
   },
   {
    "duration": 189,
    "start_time": "2023-01-27T18:17:21.771Z"
   },
   {
    "duration": 251,
    "start_time": "2023-01-27T18:17:24.946Z"
   },
   {
    "duration": 210,
    "start_time": "2023-01-27T18:17:27.994Z"
   },
   {
    "duration": 183,
    "start_time": "2023-01-27T18:17:45.843Z"
   },
   {
    "duration": 290,
    "start_time": "2023-01-27T18:18:28.083Z"
   },
   {
    "duration": 189,
    "start_time": "2023-01-27T18:20:04.869Z"
   },
   {
    "duration": 332,
    "start_time": "2023-01-27T18:20:39.277Z"
   },
   {
    "duration": 292,
    "start_time": "2023-01-27T18:20:55.917Z"
   },
   {
    "duration": 246,
    "start_time": "2023-01-27T18:20:58.849Z"
   },
   {
    "duration": 317,
    "start_time": "2023-01-27T18:21:33.102Z"
   },
   {
    "duration": 334,
    "start_time": "2023-01-27T18:21:40.598Z"
   },
   {
    "duration": 303,
    "start_time": "2023-01-27T18:21:47.397Z"
   },
   {
    "duration": 217,
    "start_time": "2023-01-27T18:22:43.873Z"
   },
   {
    "duration": 183,
    "start_time": "2023-01-27T18:23:11.472Z"
   },
   {
    "duration": 281,
    "start_time": "2023-01-27T18:23:27.671Z"
   },
   {
    "duration": 212,
    "start_time": "2023-01-27T18:23:46.192Z"
   },
   {
    "duration": 298,
    "start_time": "2023-01-27T18:24:37.121Z"
   },
   {
    "duration": 305,
    "start_time": "2023-01-27T18:24:52.498Z"
   },
   {
    "duration": 125,
    "start_time": "2023-01-27T18:26:23.047Z"
   },
   {
    "duration": 125,
    "start_time": "2023-01-27T18:26:57.322Z"
   },
   {
    "duration": 216,
    "start_time": "2023-01-27T18:27:24.117Z"
   },
   {
    "duration": 123,
    "start_time": "2023-01-27T18:27:55.571Z"
   },
   {
    "duration": 144,
    "start_time": "2023-01-27T18:29:13.925Z"
   },
   {
    "duration": 142,
    "start_time": "2023-01-27T18:29:31.477Z"
   },
   {
    "duration": 146,
    "start_time": "2023-01-27T18:30:01.686Z"
   },
   {
    "duration": 28,
    "start_time": "2023-01-27T18:30:42.742Z"
   },
   {
    "duration": 30,
    "start_time": "2023-01-27T18:31:16.582Z"
   },
   {
    "duration": 25,
    "start_time": "2023-01-27T18:35:45.938Z"
   },
   {
    "duration": 24,
    "start_time": "2023-01-27T18:35:50.170Z"
   },
   {
    "duration": 12,
    "start_time": "2023-01-27T18:38:13.343Z"
   },
   {
    "duration": 40,
    "start_time": "2023-01-27T18:43:22.562Z"
   },
   {
    "duration": 10,
    "start_time": "2023-01-27T18:47:00.414Z"
   },
   {
    "duration": 11,
    "start_time": "2023-01-27T18:47:48.278Z"
   },
   {
    "duration": 58,
    "start_time": "2023-01-27T19:05:43.717Z"
   },
   {
    "duration": 62,
    "start_time": "2023-01-27T19:07:07.166Z"
   },
   {
    "duration": 26,
    "start_time": "2023-01-27T19:08:30.128Z"
   },
   {
    "duration": 13,
    "start_time": "2023-01-27T19:11:46.035Z"
   },
   {
    "duration": 47,
    "start_time": "2023-01-27T19:13:03.816Z"
   },
   {
    "duration": 42,
    "start_time": "2023-01-27T19:16:01.857Z"
   },
   {
    "duration": 1069,
    "start_time": "2023-01-27T19:17:26.968Z"
   },
   {
    "duration": 65,
    "start_time": "2023-01-27T19:17:28.039Z"
   },
   {
    "duration": 10,
    "start_time": "2023-01-27T19:17:28.105Z"
   },
   {
    "duration": 6,
    "start_time": "2023-01-27T19:17:28.117Z"
   },
   {
    "duration": 35,
    "start_time": "2023-01-27T19:17:28.124Z"
   },
   {
    "duration": 8,
    "start_time": "2023-01-27T19:17:28.160Z"
   },
   {
    "duration": 13,
    "start_time": "2023-01-27T19:17:28.170Z"
   },
   {
    "duration": 25,
    "start_time": "2023-01-27T19:17:28.184Z"
   },
   {
    "duration": 10,
    "start_time": "2023-01-27T19:17:28.211Z"
   },
   {
    "duration": 13,
    "start_time": "2023-01-27T19:17:28.223Z"
   },
   {
    "duration": 6,
    "start_time": "2023-01-27T19:17:28.238Z"
   },
   {
    "duration": 29,
    "start_time": "2023-01-27T19:17:28.246Z"
   },
   {
    "duration": 6,
    "start_time": "2023-01-27T19:17:28.276Z"
   },
   {
    "duration": 7,
    "start_time": "2023-01-27T19:17:28.284Z"
   },
   {
    "duration": 5,
    "start_time": "2023-01-27T19:17:28.293Z"
   },
   {
    "duration": 13,
    "start_time": "2023-01-27T19:17:28.299Z"
   },
   {
    "duration": 12,
    "start_time": "2023-01-27T19:17:28.314Z"
   },
   {
    "duration": 17,
    "start_time": "2023-01-27T19:17:28.328Z"
   },
   {
    "duration": 29,
    "start_time": "2023-01-27T19:17:28.347Z"
   },
   {
    "duration": 5,
    "start_time": "2023-01-27T19:17:28.377Z"
   },
   {
    "duration": 7,
    "start_time": "2023-01-27T19:17:28.383Z"
   },
   {
    "duration": 19,
    "start_time": "2023-01-27T19:17:28.392Z"
   },
   {
    "duration": 17,
    "start_time": "2023-01-27T19:17:28.412Z"
   },
   {
    "duration": 167,
    "start_time": "2023-01-27T19:17:28.431Z"
   },
   {
    "duration": 125,
    "start_time": "2023-01-27T19:17:28.600Z"
   },
   {
    "duration": 13,
    "start_time": "2023-01-27T19:17:28.726Z"
   },
   {
    "duration": 280,
    "start_time": "2023-01-27T19:17:28.741Z"
   },
   {
    "duration": 204,
    "start_time": "2023-01-27T19:17:29.026Z"
   },
   {
    "duration": 287,
    "start_time": "2023-01-27T19:17:29.232Z"
   },
   {
    "duration": 216,
    "start_time": "2023-01-27T19:17:29.521Z"
   },
   {
    "duration": 287,
    "start_time": "2023-01-27T19:17:29.739Z"
   },
   {
    "duration": 9,
    "start_time": "2023-01-27T19:17:30.028Z"
   },
   {
    "duration": 150,
    "start_time": "2023-01-27T19:17:30.039Z"
   },
   {
    "duration": 4,
    "start_time": "2023-01-27T19:17:30.191Z"
   },
   {
    "duration": 191,
    "start_time": "2023-01-27T19:17:30.196Z"
   },
   {
    "duration": 150,
    "start_time": "2023-01-27T19:17:30.389Z"
   },
   {
    "duration": 3,
    "start_time": "2023-01-27T19:17:30.541Z"
   },
   {
    "duration": 229,
    "start_time": "2023-01-27T19:17:30.546Z"
   },
   {
    "duration": 148,
    "start_time": "2023-01-27T19:17:30.777Z"
   },
   {
    "duration": 26,
    "start_time": "2023-01-27T19:17:30.927Z"
   },
   {
    "duration": 15,
    "start_time": "2023-01-27T19:17:30.955Z"
   },
   {
    "duration": 32,
    "start_time": "2023-01-27T19:17:30.972Z"
   },
   {
    "duration": 46,
    "start_time": "2023-01-27T19:17:31.005Z"
   },
   {
    "duration": 43,
    "start_time": "2023-01-27T19:17:31.053Z"
   },
   {
    "duration": 6,
    "start_time": "2023-01-27T19:18:08.756Z"
   },
   {
    "duration": 988,
    "start_time": "2023-01-27T19:20:43.831Z"
   },
   {
    "duration": 65,
    "start_time": "2023-01-27T19:20:44.821Z"
   },
   {
    "duration": 11,
    "start_time": "2023-01-27T19:20:44.887Z"
   },
   {
    "duration": 13,
    "start_time": "2023-01-27T19:20:44.900Z"
   },
   {
    "duration": 33,
    "start_time": "2023-01-27T19:20:44.915Z"
   },
   {
    "duration": 7,
    "start_time": "2023-01-27T19:20:44.950Z"
   },
   {
    "duration": 17,
    "start_time": "2023-01-27T19:20:44.959Z"
   },
   {
    "duration": 16,
    "start_time": "2023-01-27T19:20:44.978Z"
   },
   {
    "duration": 19,
    "start_time": "2023-01-27T19:20:44.997Z"
   },
   {
    "duration": 27,
    "start_time": "2023-01-27T19:20:45.020Z"
   },
   {
    "duration": 18,
    "start_time": "2023-01-27T19:20:45.049Z"
   },
   {
    "duration": 14,
    "start_time": "2023-01-27T19:20:45.069Z"
   },
   {
    "duration": 13,
    "start_time": "2023-01-27T19:20:45.084Z"
   },
   {
    "duration": 23,
    "start_time": "2023-01-27T19:20:45.098Z"
   },
   {
    "duration": 21,
    "start_time": "2023-01-27T19:20:45.123Z"
   },
   {
    "duration": 14,
    "start_time": "2023-01-27T19:20:45.145Z"
   },
   {
    "duration": 8,
    "start_time": "2023-01-27T19:20:45.161Z"
   },
   {
    "duration": 11,
    "start_time": "2023-01-27T19:20:45.171Z"
   },
   {
    "duration": 27,
    "start_time": "2023-01-27T19:20:45.184Z"
   },
   {
    "duration": 5,
    "start_time": "2023-01-27T19:20:45.212Z"
   },
   {
    "duration": 10,
    "start_time": "2023-01-27T19:20:45.218Z"
   },
   {
    "duration": 9,
    "start_time": "2023-01-27T19:20:45.229Z"
   },
   {
    "duration": 13,
    "start_time": "2023-01-27T19:20:45.240Z"
   },
   {
    "duration": 177,
    "start_time": "2023-01-27T19:20:45.256Z"
   },
   {
    "duration": 129,
    "start_time": "2023-01-27T19:20:45.434Z"
   },
   {
    "duration": 12,
    "start_time": "2023-01-27T19:20:45.564Z"
   },
   {
    "duration": 305,
    "start_time": "2023-01-27T19:20:45.578Z"
   },
   {
    "duration": 201,
    "start_time": "2023-01-27T19:20:45.888Z"
   },
   {
    "duration": 350,
    "start_time": "2023-01-27T19:20:46.091Z"
   },
   {
    "duration": 259,
    "start_time": "2023-01-27T19:20:46.442Z"
   },
   {
    "duration": 339,
    "start_time": "2023-01-27T19:20:46.703Z"
   },
   {
    "duration": 9,
    "start_time": "2023-01-27T19:20:47.044Z"
   },
   {
    "duration": 145,
    "start_time": "2023-01-27T19:20:47.055Z"
   },
   {
    "duration": 8,
    "start_time": "2023-01-27T19:20:47.203Z"
   },
   {
    "duration": 162,
    "start_time": "2023-01-27T19:20:47.212Z"
   },
   {
    "duration": 158,
    "start_time": "2023-01-27T19:20:47.375Z"
   },
   {
    "duration": 6,
    "start_time": "2023-01-27T19:20:47.535Z"
   },
   {
    "duration": 243,
    "start_time": "2023-01-27T19:20:47.542Z"
   },
   {
    "duration": 154,
    "start_time": "2023-01-27T19:20:47.787Z"
   },
   {
    "duration": 28,
    "start_time": "2023-01-27T19:20:47.942Z"
   },
   {
    "duration": 11,
    "start_time": "2023-01-27T19:20:47.971Z"
   },
   {
    "duration": 28,
    "start_time": "2023-01-27T19:20:47.984Z"
   },
   {
    "duration": 30,
    "start_time": "2023-01-27T19:20:48.014Z"
   },
   {
    "duration": 15,
    "start_time": "2023-01-27T19:20:48.046Z"
   },
   {
    "duration": 53,
    "start_time": "2023-01-30T17:25:55.281Z"
   },
   {
    "duration": 1401,
    "start_time": "2023-01-30T17:26:01.616Z"
   },
   {
    "duration": 179,
    "start_time": "2023-01-30T17:26:03.020Z"
   },
   {
    "duration": 15,
    "start_time": "2023-01-30T17:26:03.202Z"
   },
   {
    "duration": 30,
    "start_time": "2023-01-30T17:26:03.219Z"
   },
   {
    "duration": 133,
    "start_time": "2023-01-30T17:26:03.251Z"
   },
   {
    "duration": 9,
    "start_time": "2023-01-30T17:26:03.386Z"
   },
   {
    "duration": 41,
    "start_time": "2023-01-30T17:26:03.397Z"
   },
   {
    "duration": 53,
    "start_time": "2023-01-30T17:26:03.440Z"
   },
   {
    "duration": 40,
    "start_time": "2023-01-30T17:26:03.496Z"
   },
   {
    "duration": 82,
    "start_time": "2023-01-30T17:26:03.539Z"
   },
   {
    "duration": 9,
    "start_time": "2023-01-30T17:26:03.624Z"
   },
   {
    "duration": 61,
    "start_time": "2023-01-30T17:26:03.635Z"
   },
   {
    "duration": 48,
    "start_time": "2023-01-30T17:26:03.698Z"
   },
   {
    "duration": 55,
    "start_time": "2023-01-30T17:26:03.748Z"
   },
   {
    "duration": 32,
    "start_time": "2023-01-30T17:26:03.805Z"
   },
   {
    "duration": 21,
    "start_time": "2023-01-30T17:26:03.838Z"
   },
   {
    "duration": 58,
    "start_time": "2023-01-30T17:26:03.861Z"
   },
   {
    "duration": 128,
    "start_time": "2023-01-30T17:26:03.920Z"
   },
   {
    "duration": 53,
    "start_time": "2023-01-30T17:26:04.050Z"
   },
   {
    "duration": 38,
    "start_time": "2023-01-30T17:26:04.105Z"
   },
   {
    "duration": 5,
    "start_time": "2023-01-30T17:26:04.145Z"
   },
   {
    "duration": 41,
    "start_time": "2023-01-30T17:26:04.154Z"
   },
   {
    "duration": 26,
    "start_time": "2023-01-30T17:26:04.196Z"
   },
   {
    "duration": 44,
    "start_time": "2023-01-30T17:26:04.225Z"
   },
   {
    "duration": 186,
    "start_time": "2023-01-30T17:26:04.271Z"
   },
   {
    "duration": 149,
    "start_time": "2023-01-30T17:26:04.466Z"
   },
   {
    "duration": 13,
    "start_time": "2023-01-30T17:26:04.617Z"
   },
   {
    "duration": 381,
    "start_time": "2023-01-30T17:26:04.634Z"
   },
   {
    "duration": 226,
    "start_time": "2023-01-30T17:26:05.018Z"
   },
   {
    "duration": 373,
    "start_time": "2023-01-30T17:26:05.246Z"
   },
   {
    "duration": 249,
    "start_time": "2023-01-30T17:26:05.621Z"
   },
   {
    "duration": 329,
    "start_time": "2023-01-30T17:26:05.873Z"
   },
   {
    "duration": 11,
    "start_time": "2023-01-30T17:26:06.204Z"
   },
   {
    "duration": 194,
    "start_time": "2023-01-30T17:26:06.217Z"
   },
   {
    "duration": 4,
    "start_time": "2023-01-30T17:26:06.413Z"
   },
   {
    "duration": 185,
    "start_time": "2023-01-30T17:26:06.419Z"
   },
   {
    "duration": 167,
    "start_time": "2023-01-30T17:26:06.606Z"
   },
   {
    "duration": 4,
    "start_time": "2023-01-30T17:26:06.775Z"
   },
   {
    "duration": 293,
    "start_time": "2023-01-30T17:26:06.780Z"
   },
   {
    "duration": 162,
    "start_time": "2023-01-30T17:26:07.075Z"
   },
   {
    "duration": 42,
    "start_time": "2023-01-30T17:26:07.238Z"
   },
   {
    "duration": 16,
    "start_time": "2023-01-30T17:26:07.282Z"
   },
   {
    "duration": 12,
    "start_time": "2023-01-30T17:26:07.300Z"
   },
   {
    "duration": 61,
    "start_time": "2023-01-30T17:26:07.314Z"
   },
   {
    "duration": 14,
    "start_time": "2023-01-30T17:26:07.376Z"
   },
   {
    "duration": 10,
    "start_time": "2023-01-30T17:26:23.807Z"
   },
   {
    "duration": 1024,
    "start_time": "2023-02-04T18:19:50.849Z"
   },
   {
    "duration": 140,
    "start_time": "2023-02-04T18:19:51.876Z"
   },
   {
    "duration": 16,
    "start_time": "2023-02-04T18:19:52.018Z"
   },
   {
    "duration": 5,
    "start_time": "2023-02-04T18:19:52.036Z"
   },
   {
    "duration": 97,
    "start_time": "2023-02-04T18:19:52.044Z"
   },
   {
    "duration": 10,
    "start_time": "2023-02-04T18:19:52.143Z"
   },
   {
    "duration": 20,
    "start_time": "2023-02-04T18:19:52.155Z"
   },
   {
    "duration": 26,
    "start_time": "2023-02-04T18:19:52.177Z"
   },
   {
    "duration": 13,
    "start_time": "2023-02-04T18:19:52.212Z"
   },
   {
    "duration": 63,
    "start_time": "2023-02-04T18:19:52.226Z"
   },
   {
    "duration": 8,
    "start_time": "2023-02-04T18:19:52.291Z"
   },
   {
    "duration": 27,
    "start_time": "2023-02-04T18:19:52.301Z"
   },
   {
    "duration": 8,
    "start_time": "2023-02-04T18:19:52.330Z"
   },
   {
    "duration": 9,
    "start_time": "2023-02-04T18:19:52.342Z"
   },
   {
    "duration": 16,
    "start_time": "2023-02-04T18:19:52.353Z"
   },
   {
    "duration": 12,
    "start_time": "2023-02-04T18:19:52.372Z"
   },
   {
    "duration": 35,
    "start_time": "2023-02-04T18:19:52.386Z"
   },
   {
    "duration": 12,
    "start_time": "2023-02-04T18:19:52.423Z"
   },
   {
    "duration": 8,
    "start_time": "2023-02-04T18:19:52.436Z"
   },
   {
    "duration": 19,
    "start_time": "2023-02-04T18:19:52.445Z"
   },
   {
    "duration": 26,
    "start_time": "2023-02-04T18:19:52.466Z"
   },
   {
    "duration": 19,
    "start_time": "2023-02-04T18:19:52.499Z"
   },
   {
    "duration": 9,
    "start_time": "2023-02-04T18:19:52.520Z"
   },
   {
    "duration": 12,
    "start_time": "2023-02-04T18:19:52.531Z"
   },
   {
    "duration": 8,
    "start_time": "2023-02-04T18:19:52.545Z"
   },
   {
    "duration": 7,
    "start_time": "2023-02-04T18:19:52.554Z"
   },
   {
    "duration": 179,
    "start_time": "2023-02-04T18:19:52.562Z"
   },
   {
    "duration": 127,
    "start_time": "2023-02-04T18:19:52.743Z"
   },
   {
    "duration": 23,
    "start_time": "2023-02-04T18:19:52.872Z"
   },
   {
    "duration": 306,
    "start_time": "2023-02-04T18:19:52.896Z"
   },
   {
    "duration": 242,
    "start_time": "2023-02-04T18:19:53.205Z"
   },
   {
    "duration": 308,
    "start_time": "2023-02-04T18:19:53.450Z"
   },
   {
    "duration": 244,
    "start_time": "2023-02-04T18:19:53.760Z"
   },
   {
    "duration": 380,
    "start_time": "2023-02-04T18:19:54.005Z"
   },
   {
    "duration": 20,
    "start_time": "2023-02-04T18:19:54.387Z"
   },
   {
    "duration": 192,
    "start_time": "2023-02-04T18:19:54.412Z"
   },
   {
    "duration": 7,
    "start_time": "2023-02-04T18:19:54.606Z"
   },
   {
    "duration": 164,
    "start_time": "2023-02-04T18:19:54.614Z"
   },
   {
    "duration": 154,
    "start_time": "2023-02-04T18:19:54.779Z"
   },
   {
    "duration": 4,
    "start_time": "2023-02-04T18:19:54.935Z"
   },
   {
    "duration": 272,
    "start_time": "2023-02-04T18:19:54.943Z"
   },
   {
    "duration": 198,
    "start_time": "2023-02-04T18:19:55.217Z"
   },
   {
    "duration": 36,
    "start_time": "2023-02-04T18:19:55.421Z"
   },
   {
    "duration": 12,
    "start_time": "2023-02-04T18:19:55.459Z"
   },
   {
    "duration": 31,
    "start_time": "2023-02-04T18:19:55.473Z"
   },
   {
    "duration": 48,
    "start_time": "2023-02-04T18:19:55.506Z"
   },
   {
    "duration": 16,
    "start_time": "2023-02-04T18:19:55.557Z"
   }
  ],
  "kernelspec": {
   "display_name": "Python 3",
   "language": "python",
   "name": "python3"
  },
  "language_info": {
   "codemirror_mode": {
    "name": "ipython",
    "version": 3
   },
   "file_extension": ".py",
   "mimetype": "text/x-python",
   "name": "python",
   "nbconvert_exporter": "python",
   "pygments_lexer": "ipython3",
   "version": "3.10.10"
  },
  "toc": {
   "base_numbering": 1,
   "nav_menu": {},
   "number_sections": true,
   "sideBar": true,
   "skip_h1_title": true,
   "title_cell": "Table of Contents",
   "title_sidebar": "Contents",
   "toc_cell": false,
   "toc_position": {},
   "toc_section_display": true,
   "toc_window_display": false
  },
  "vscode": {
   "interpreter": {
    "hash": "5e582a46f76a3d749d672722c9e8992e01d8e600f1bb79ab6cfabe8a4b12a041"
   }
  }
 },
 "nbformat": 4,
 "nbformat_minor": 2
}
