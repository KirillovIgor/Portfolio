{
 "cells": [
  {
   "cell_type": "markdown",
   "metadata": {},
   "source": [
    "<h2>Описание проекта <a class=\"tocSkip\"> </h2>\n",
    "\n",
    "**Заказчик** - интернет-магазине «Стримчик».\n",
    "    \n",
    "**Цель проекта** - выявить определяющие успешность игры факторы и спланировать компанию продаж на 2017-й год.\n",
    "    \n",
    "**Входные данные»** - данные о выпущенных играх в период с начала выпуска первой игры до 2016 года. Ниже описаны обозначения столбцов:\n",
    "- `Name` — название игры;\n",
    "- `Platform` — Platform;\n",
    "- `Year_of_Release` — год выпуска;\n",
    "- `Genre` — жанр игры;\n",
    "- `NA_sales` — продажи в Северной Америке (миллионы проданных копий);\n",
    "- `EU_sales` — продажи в Европе (миллионы проданных копий);\n",
    "- `JP_sales` — продажи в Японии (миллионы проданных копий);\n",
    "- `Other_sales` — продажи в других странах (миллионы проданных копий);\n",
    "- `Critic_Score` — оценка критиков (максимум 100);\n",
    "- `User_Score` — оценка пользователей (максимум 10);\n",
    "- `Rating` — рейтинг от организации ESRB (англ. Entertainment Software Rating Board). Эта ассоциация определяет рейтинг компьютерных игр и присваивает им подходящую возрастную категорию.\n",
    "\n",
    "**План работ:**\n",
    "- *Изучение общей информации о данных*\n",
    " \n",
    "    \n",
    "- *Предобработка данных*\n",
    "    - удаление пропусков\n",
    "    - обработка аномальных значений\n",
    "    - изменение типов данных\n",
    "    - обработка дубликатов\n",
    "    - категоризация данных\n",
    "    \n",
    "    \n",
    "- *Исследовательский анализ данных*\n",
    "\n",
    "   \n",
    "- *Составить портрет пользователя каждого региона*\n",
    "    \n",
    "    \n",
    "- *Проверим следующие гипотезы:*\n",
    "   - Средние пользовательские рейтинги платформ Xbox One и PC одинаковые;\n",
    "   - Средние пользовательские рейтинги жанров Action (англ. «действие», экшен-игры) и Sports (англ. «спортивные соревнования») разные."
   ]
  },
  {
   "cell_type": "markdown",
   "metadata": {},
   "source": [
    "### Откроем файл с данными и изучим общую информацию.|"
   ]
  },
  {
   "cell_type": "code",
   "execution_count": 1,
   "metadata": {},
   "outputs": [],
   "source": [
    "#Импортируем библиотеку pandas\n",
    "import pandas as pd\n",
    "\n",
    "#Импортируем модуль библиотеки matplotlib  pyplot\n",
    "import matplotlib.pyplot as plt\n",
    "\n",
    "#Импортируем библиотеку numpy\n",
    "import numpy as np\n",
    "\n",
    "#Импортируем из библиотеки scipy  модуль stats\n",
    "from scipy import stats as st\n",
    "\n",
    "#Импортируем  библиотеку warnings и numpy для предотвращения возникновения всплывабщих ошибок\n",
    "import warnings\n",
    "\n",
    "#Код для предотвращения всплывающих ошибок\n",
    "warnings.filterwarnings(\"ignore\")"
   ]
  },
  {
   "cell_type": "code",
   "execution_count": 2,
   "metadata": {},
   "outputs": [],
   "source": [
    "#Считываем данные из файла games.csv и сохраняем датафрейм в переменную \"data\"\n",
    "data = pd.read_csv('games.csv')"
   ]
  },
  {
   "cell_type": "code",
   "execution_count": 3,
   "metadata": {
    "scrolled": true
   },
   "outputs": [
    {
     "name": "stdout",
     "output_type": "stream",
     "text": [
      "<class 'pandas.core.frame.DataFrame'>\n",
      "RangeIndex: 16715 entries, 0 to 16714\n",
      "Data columns (total 11 columns):\n",
      " #   Column           Non-Null Count  Dtype  \n",
      "---  ------           --------------  -----  \n",
      " 0   Name             16713 non-null  object \n",
      " 1   Platform         16715 non-null  object \n",
      " 2   Year_of_Release  16446 non-null  float64\n",
      " 3   Genre            16713 non-null  object \n",
      " 4   NA_sales         16715 non-null  float64\n",
      " 5   EU_sales         16715 non-null  float64\n",
      " 6   JP_sales         16715 non-null  float64\n",
      " 7   Other_sales      16715 non-null  float64\n",
      " 8   Critic_Score     8137 non-null   float64\n",
      " 9   User_Score       10014 non-null  object \n",
      " 10  Rating           9949 non-null   object \n",
      "dtypes: float64(6), object(5)\n",
      "memory usage: 1.4+ MB\n"
     ]
    }
   ],
   "source": [
    "#Выведем общую информацию о датафрейме\n",
    "data.info()"
   ]
  },
  {
   "cell_type": "markdown",
   "metadata": {},
   "source": [
    "*В данных присутствуют пропуски, в дальнейшем их надо будет обработать.*\n",
    "\n",
    "*Большое количество пропусков наблюдается в столбцах:*\n",
    "- `Critic_Score`\n",
    "- `User_Score`\n",
    "- `Rating`\n",
    "\n",
    "*Наименования столбцов не соответсвуют змеиному регистру*."
   ]
  },
  {
   "cell_type": "code",
   "execution_count": 4,
   "metadata": {},
   "outputs": [
    {
     "data": {
      "text/html": [
       "<div>\n",
       "<style scoped>\n",
       "    .dataframe tbody tr th:only-of-type {\n",
       "        vertical-align: middle;\n",
       "    }\n",
       "\n",
       "    .dataframe tbody tr th {\n",
       "        vertical-align: top;\n",
       "    }\n",
       "\n",
       "    .dataframe thead th {\n",
       "        text-align: right;\n",
       "    }\n",
       "</style>\n",
       "<table border=\"1\" class=\"dataframe\">\n",
       "  <thead>\n",
       "    <tr style=\"text-align: right;\">\n",
       "      <th></th>\n",
       "      <th>Name</th>\n",
       "      <th>Platform</th>\n",
       "      <th>Year_of_Release</th>\n",
       "      <th>Genre</th>\n",
       "      <th>NA_sales</th>\n",
       "      <th>EU_sales</th>\n",
       "      <th>JP_sales</th>\n",
       "      <th>Other_sales</th>\n",
       "      <th>Critic_Score</th>\n",
       "      <th>User_Score</th>\n",
       "      <th>Rating</th>\n",
       "    </tr>\n",
       "  </thead>\n",
       "  <tbody>\n",
       "    <tr>\n",
       "      <th>0</th>\n",
       "      <td>Wii Sports</td>\n",
       "      <td>Wii</td>\n",
       "      <td>2006.0</td>\n",
       "      <td>Sports</td>\n",
       "      <td>41.36</td>\n",
       "      <td>28.96</td>\n",
       "      <td>3.77</td>\n",
       "      <td>8.45</td>\n",
       "      <td>76.0</td>\n",
       "      <td>8</td>\n",
       "      <td>E</td>\n",
       "    </tr>\n",
       "    <tr>\n",
       "      <th>1</th>\n",
       "      <td>Super Mario Bros.</td>\n",
       "      <td>NES</td>\n",
       "      <td>1985.0</td>\n",
       "      <td>Platform</td>\n",
       "      <td>29.08</td>\n",
       "      <td>3.58</td>\n",
       "      <td>6.81</td>\n",
       "      <td>0.77</td>\n",
       "      <td>NaN</td>\n",
       "      <td>NaN</td>\n",
       "      <td>NaN</td>\n",
       "    </tr>\n",
       "    <tr>\n",
       "      <th>2</th>\n",
       "      <td>Mario Kart Wii</td>\n",
       "      <td>Wii</td>\n",
       "      <td>2008.0</td>\n",
       "      <td>Racing</td>\n",
       "      <td>15.68</td>\n",
       "      <td>12.76</td>\n",
       "      <td>3.79</td>\n",
       "      <td>3.29</td>\n",
       "      <td>82.0</td>\n",
       "      <td>8.3</td>\n",
       "      <td>E</td>\n",
       "    </tr>\n",
       "    <tr>\n",
       "      <th>3</th>\n",
       "      <td>Wii Sports Resort</td>\n",
       "      <td>Wii</td>\n",
       "      <td>2009.0</td>\n",
       "      <td>Sports</td>\n",
       "      <td>15.61</td>\n",
       "      <td>10.93</td>\n",
       "      <td>3.28</td>\n",
       "      <td>2.95</td>\n",
       "      <td>80.0</td>\n",
       "      <td>8</td>\n",
       "      <td>E</td>\n",
       "    </tr>\n",
       "    <tr>\n",
       "      <th>4</th>\n",
       "      <td>Pokemon Red/Pokemon Blue</td>\n",
       "      <td>GB</td>\n",
       "      <td>1996.0</td>\n",
       "      <td>Role-Playing</td>\n",
       "      <td>11.27</td>\n",
       "      <td>8.89</td>\n",
       "      <td>10.22</td>\n",
       "      <td>1.00</td>\n",
       "      <td>NaN</td>\n",
       "      <td>NaN</td>\n",
       "      <td>NaN</td>\n",
       "    </tr>\n",
       "  </tbody>\n",
       "</table>\n",
       "</div>"
      ],
      "text/plain": [
       "                       Name Platform  Year_of_Release         Genre  NA_sales  \\\n",
       "0                Wii Sports      Wii           2006.0        Sports     41.36   \n",
       "1         Super Mario Bros.      NES           1985.0      Platform     29.08   \n",
       "2            Mario Kart Wii      Wii           2008.0        Racing     15.68   \n",
       "3         Wii Sports Resort      Wii           2009.0        Sports     15.61   \n",
       "4  Pokemon Red/Pokemon Blue       GB           1996.0  Role-Playing     11.27   \n",
       "\n",
       "   EU_sales  JP_sales  Other_sales  Critic_Score User_Score Rating  \n",
       "0     28.96      3.77         8.45          76.0          8      E  \n",
       "1      3.58      6.81         0.77           NaN        NaN    NaN  \n",
       "2     12.76      3.79         3.29          82.0        8.3      E  \n",
       "3     10.93      3.28         2.95          80.0          8      E  \n",
       "4      8.89     10.22         1.00           NaN        NaN    NaN  "
      ]
     },
     "execution_count": 4,
     "metadata": {},
     "output_type": "execute_result"
    }
   ],
   "source": [
    "#Для ознакомления с датафреймом выведем первые 5 строк\n",
    "data.head()"
   ]
  },
  {
   "cell_type": "markdown",
   "metadata": {},
   "source": [
    "Столбец `User_Score` имеет числовые оценки, но тип данных указан, как строкой, в последущем поменяем тип данных на вещественные числа (float)."
   ]
  },
  {
   "cell_type": "code",
   "execution_count": 5,
   "metadata": {},
   "outputs": [
    {
     "data": {
      "text/plain": [
       "array([[<AxesSubplot:title={'center':'Year_of_Release'}>,\n",
       "        <AxesSubplot:title={'center':'NA_sales'}>],\n",
       "       [<AxesSubplot:title={'center':'EU_sales'}>,\n",
       "        <AxesSubplot:title={'center':'JP_sales'}>],\n",
       "       [<AxesSubplot:title={'center':'Other_sales'}>,\n",
       "        <AxesSubplot:title={'center':'Critic_Score'}>]], dtype=object)"
      ]
     },
     "execution_count": 5,
     "metadata": {},
     "output_type": "execute_result"
    },
    {
     "data": {
      "image/png": "[encoded data removed]",
      "text/plain": [
       "<Figure size 1080x1800 with 6 Axes>"
      ]
     },
     "metadata": {
      "needs_background": "light"
     },
     "output_type": "display_data"
    }
   ],
   "source": [
    "#Выведем гистограммы по всем количественным показателям\n",
    "data.hist(figsize=(15,25))"
   ]
  },
  {
   "cell_type": "markdown",
   "metadata": {},
   "source": [
    "**Предварительные выводы:**\n",
    "- Большая часть игр стала выходить после 2000 года.\n",
    "- Судя по графикам, есть аномально большие значения в столбцах c продажами: `Na_sales`, `EU_sales`, `JP_sales`, `Other_sales`.\n",
    "- Отсутсвует столбец `User_Score` из - за некорректного формата."
   ]
  },
  {
   "cell_type": "markdown",
   "metadata": {},
   "source": [
    "### Предобработка данных"
   ]
  },
  {
   "cell_type": "markdown",
   "metadata": {},
   "source": [
    "#### Работа с наименованиями столбцов"
   ]
  },
  {
   "cell_type": "code",
   "execution_count": 6,
   "metadata": {
    "scrolled": true
   },
   "outputs": [
    {
     "name": "stdout",
     "output_type": "stream",
     "text": [
      "<class 'pandas.core.frame.DataFrame'>\n",
      "RangeIndex: 16715 entries, 0 to 16714\n",
      "Data columns (total 11 columns):\n",
      " #   Column           Non-Null Count  Dtype  \n",
      "---  ------           --------------  -----  \n",
      " 0   name             16713 non-null  object \n",
      " 1   platform         16715 non-null  object \n",
      " 2   year_of_release  16446 non-null  float64\n",
      " 3   genre            16713 non-null  object \n",
      " 4   na_sales         16715 non-null  float64\n",
      " 5   eu_sales         16715 non-null  float64\n",
      " 6   jp_sales         16715 non-null  float64\n",
      " 7   other_sales      16715 non-null  float64\n",
      " 8   critic_score     8137 non-null   float64\n",
      " 9   user_score       10014 non-null  object \n",
      " 10  rating           9949 non-null   object \n",
      "dtypes: float64(6), object(5)\n",
      "memory usage: 1.4+ MB\n"
     ]
    }
   ],
   "source": [
    "#Приведем наименования столбцов к змеиному регистру\n",
    "data.columns = data.columns.str.lower()\n",
    "#Проверим, что все привелось к необходимому виду\n",
    "data.info()"
   ]
  },
  {
   "cell_type": "markdown",
   "metadata": {},
   "source": [
    "#### Работа с пропусками"
   ]
  },
  {
   "cell_type": "code",
   "execution_count": 7,
   "metadata": {
    "scrolled": false
   },
   "outputs": [
    {
     "data": {
      "text/plain": [
       "0"
      ]
     },
     "execution_count": 7,
     "metadata": {},
     "output_type": "execute_result"
    }
   ],
   "source": [
    "#Для начала проверим, имеются ли дубликаты в данных\n",
    "data.duplicated().sum()"
   ]
  },
  {
   "cell_type": "markdown",
   "metadata": {},
   "source": [
    "Дубликатов не обнаружилось."
   ]
  },
  {
   "cell_type": "code",
   "execution_count": 8,
   "metadata": {
    "scrolled": true
   },
   "outputs": [
    {
     "data": {
      "text/plain": [
       "array(['Sports', 'Platform', 'Racing', 'Role-Playing', 'Puzzle', 'Misc',\n",
       "       'Shooter', 'Simulation', 'Action', 'Fighting', 'Adventure',\n",
       "       'Strategy', nan], dtype=object)"
      ]
     },
     "execution_count": 8,
     "metadata": {},
     "output_type": "execute_result"
    }
   ],
   "source": [
    "#Также нельзя исключать того, что неявные дубликаты могут присутсвовать в столбце жанра, проверим\n",
    "data['genre'].unique()"
   ]
  },
  {
   "cell_type": "markdown",
   "metadata": {},
   "source": [
    "Дубликатов в столбце \"genre\" не обнаружилось."
   ]
  },
  {
   "cell_type": "code",
   "execution_count": 9,
   "metadata": {
    "scrolled": true
   },
   "outputs": [
    {
     "data": {
      "text/html": [
       "<div>\n",
       "<style scoped>\n",
       "    .dataframe tbody tr th:only-of-type {\n",
       "        vertical-align: middle;\n",
       "    }\n",
       "\n",
       "    .dataframe tbody tr th {\n",
       "        vertical-align: top;\n",
       "    }\n",
       "\n",
       "    .dataframe thead th {\n",
       "        text-align: right;\n",
       "    }\n",
       "</style>\n",
       "<table border=\"1\" class=\"dataframe\">\n",
       "  <thead>\n",
       "    <tr style=\"text-align: right;\">\n",
       "      <th></th>\n",
       "      <th>name</th>\n",
       "      <th>platform</th>\n",
       "      <th>year_of_release</th>\n",
       "      <th>genre</th>\n",
       "      <th>na_sales</th>\n",
       "      <th>eu_sales</th>\n",
       "      <th>jp_sales</th>\n",
       "      <th>other_sales</th>\n",
       "      <th>critic_score</th>\n",
       "      <th>user_score</th>\n",
       "      <th>rating</th>\n",
       "    </tr>\n",
       "  </thead>\n",
       "  <tbody>\n",
       "    <tr>\n",
       "      <th>659</th>\n",
       "      <td>NaN</td>\n",
       "      <td>GEN</td>\n",
       "      <td>1993.0</td>\n",
       "      <td>NaN</td>\n",
       "      <td>1.78</td>\n",
       "      <td>0.53</td>\n",
       "      <td>0.00</td>\n",
       "      <td>0.08</td>\n",
       "      <td>NaN</td>\n",
       "      <td>NaN</td>\n",
       "      <td>NaN</td>\n",
       "    </tr>\n",
       "    <tr>\n",
       "      <th>14244</th>\n",
       "      <td>NaN</td>\n",
       "      <td>GEN</td>\n",
       "      <td>1993.0</td>\n",
       "      <td>NaN</td>\n",
       "      <td>0.00</td>\n",
       "      <td>0.00</td>\n",
       "      <td>0.03</td>\n",
       "      <td>0.00</td>\n",
       "      <td>NaN</td>\n",
       "      <td>NaN</td>\n",
       "      <td>NaN</td>\n",
       "    </tr>\n",
       "  </tbody>\n",
       "</table>\n",
       "</div>"
      ],
      "text/plain": [
       "      name platform  year_of_release genre  na_sales  eu_sales  jp_sales  \\\n",
       "659    NaN      GEN           1993.0   NaN      1.78      0.53      0.00   \n",
       "14244  NaN      GEN           1993.0   NaN      0.00      0.00      0.03   \n",
       "\n",
       "       other_sales  critic_score user_score rating  \n",
       "659           0.08           NaN        NaN    NaN  \n",
       "14244         0.00           NaN        NaN    NaN  "
      ]
     },
     "execution_count": 9,
     "metadata": {},
     "output_type": "execute_result"
    }
   ],
   "source": [
    "#Посмотрим на строки, в которых имеются пропуски как в наименовании, так и в жанре\n",
    "data[data['name'].isna() == True]"
   ]
  },
  {
   "cell_type": "markdown",
   "metadata": {},
   "source": [
    "Как и предполагалось, в строках с пропущенным наименованием также отсутствует жанр, для анализа эти строки мало будут чем полезны, соответсвенно, их можно удалить.\n",
    "\n",
    "Можно предположить, что данные в источнике были изначально заполненны об этих играх некоректно, потому что рейтингов также нету."
   ]
  },
  {
   "cell_type": "code",
   "execution_count": 10,
   "metadata": {},
   "outputs": [],
   "source": [
    "#Оставляем в датафрейме игры с наименованием\n",
    "data = data[data['name'].isna() == False]"
   ]
  },
  {
   "cell_type": "code",
   "execution_count": 11,
   "metadata": {
    "scrolled": false
   },
   "outputs": [
    {
     "data": {
      "text/plain": [
       "0"
      ]
     },
     "execution_count": 11,
     "metadata": {},
     "output_type": "execute_result"
    }
   ],
   "source": [
    "#Проверим, что строки удалились\n",
    "sum(data['name'].isna() == True)"
   ]
  },
  {
   "cell_type": "code",
   "execution_count": 12,
   "metadata": {
    "scrolled": false
   },
   "outputs": [
    {
     "data": {
      "text/html": [
       "<div>\n",
       "<style scoped>\n",
       "    .dataframe tbody tr th:only-of-type {\n",
       "        vertical-align: middle;\n",
       "    }\n",
       "\n",
       "    .dataframe tbody tr th {\n",
       "        vertical-align: top;\n",
       "    }\n",
       "\n",
       "    .dataframe thead th {\n",
       "        text-align: right;\n",
       "    }\n",
       "</style>\n",
       "<table border=\"1\" class=\"dataframe\">\n",
       "  <thead>\n",
       "    <tr style=\"text-align: right;\">\n",
       "      <th></th>\n",
       "      <th>name</th>\n",
       "      <th>platform</th>\n",
       "      <th>year_of_release</th>\n",
       "      <th>genre</th>\n",
       "      <th>na_sales</th>\n",
       "      <th>eu_sales</th>\n",
       "      <th>jp_sales</th>\n",
       "      <th>other_sales</th>\n",
       "      <th>critic_score</th>\n",
       "      <th>user_score</th>\n",
       "      <th>rating</th>\n",
       "    </tr>\n",
       "  </thead>\n",
       "  <tbody>\n",
       "    <tr>\n",
       "      <th>183</th>\n",
       "      <td>Madden NFL 2004</td>\n",
       "      <td>PS2</td>\n",
       "      <td>NaN</td>\n",
       "      <td>Sports</td>\n",
       "      <td>4.26</td>\n",
       "      <td>0.26</td>\n",
       "      <td>0.01</td>\n",
       "      <td>0.71</td>\n",
       "      <td>94.0</td>\n",
       "      <td>8.5</td>\n",
       "      <td>E</td>\n",
       "    </tr>\n",
       "    <tr>\n",
       "      <th>377</th>\n",
       "      <td>FIFA Soccer 2004</td>\n",
       "      <td>PS2</td>\n",
       "      <td>NaN</td>\n",
       "      <td>Sports</td>\n",
       "      <td>0.59</td>\n",
       "      <td>2.36</td>\n",
       "      <td>0.04</td>\n",
       "      <td>0.51</td>\n",
       "      <td>84.0</td>\n",
       "      <td>6.4</td>\n",
       "      <td>E</td>\n",
       "    </tr>\n",
       "    <tr>\n",
       "      <th>456</th>\n",
       "      <td>LEGO Batman: The Videogame</td>\n",
       "      <td>Wii</td>\n",
       "      <td>NaN</td>\n",
       "      <td>Action</td>\n",
       "      <td>1.80</td>\n",
       "      <td>0.97</td>\n",
       "      <td>0.00</td>\n",
       "      <td>0.29</td>\n",
       "      <td>74.0</td>\n",
       "      <td>7.9</td>\n",
       "      <td>E10+</td>\n",
       "    </tr>\n",
       "    <tr>\n",
       "      <th>475</th>\n",
       "      <td>wwe Smackdown vs. Raw 2006</td>\n",
       "      <td>PS2</td>\n",
       "      <td>NaN</td>\n",
       "      <td>Fighting</td>\n",
       "      <td>1.57</td>\n",
       "      <td>1.02</td>\n",
       "      <td>0.00</td>\n",
       "      <td>0.41</td>\n",
       "      <td>NaN</td>\n",
       "      <td>NaN</td>\n",
       "      <td>NaN</td>\n",
       "    </tr>\n",
       "    <tr>\n",
       "      <th>609</th>\n",
       "      <td>Space Invaders</td>\n",
       "      <td>2600</td>\n",
       "      <td>NaN</td>\n",
       "      <td>Shooter</td>\n",
       "      <td>2.36</td>\n",
       "      <td>0.14</td>\n",
       "      <td>0.00</td>\n",
       "      <td>0.03</td>\n",
       "      <td>NaN</td>\n",
       "      <td>NaN</td>\n",
       "      <td>NaN</td>\n",
       "    </tr>\n",
       "    <tr>\n",
       "      <th>...</th>\n",
       "      <td>...</td>\n",
       "      <td>...</td>\n",
       "      <td>...</td>\n",
       "      <td>...</td>\n",
       "      <td>...</td>\n",
       "      <td>...</td>\n",
       "      <td>...</td>\n",
       "      <td>...</td>\n",
       "      <td>...</td>\n",
       "      <td>...</td>\n",
       "      <td>...</td>\n",
       "    </tr>\n",
       "    <tr>\n",
       "      <th>16373</th>\n",
       "      <td>PDC World Championship Darts 2008</td>\n",
       "      <td>PSP</td>\n",
       "      <td>NaN</td>\n",
       "      <td>Sports</td>\n",
       "      <td>0.01</td>\n",
       "      <td>0.00</td>\n",
       "      <td>0.00</td>\n",
       "      <td>0.00</td>\n",
       "      <td>43.0</td>\n",
       "      <td>tbd</td>\n",
       "      <td>E10+</td>\n",
       "    </tr>\n",
       "    <tr>\n",
       "      <th>16405</th>\n",
       "      <td>Freaky Flyers</td>\n",
       "      <td>GC</td>\n",
       "      <td>NaN</td>\n",
       "      <td>Racing</td>\n",
       "      <td>0.01</td>\n",
       "      <td>0.00</td>\n",
       "      <td>0.00</td>\n",
       "      <td>0.00</td>\n",
       "      <td>69.0</td>\n",
       "      <td>6.5</td>\n",
       "      <td>T</td>\n",
       "    </tr>\n",
       "    <tr>\n",
       "      <th>16448</th>\n",
       "      <td>Inversion</td>\n",
       "      <td>PC</td>\n",
       "      <td>NaN</td>\n",
       "      <td>Shooter</td>\n",
       "      <td>0.01</td>\n",
       "      <td>0.00</td>\n",
       "      <td>0.00</td>\n",
       "      <td>0.00</td>\n",
       "      <td>59.0</td>\n",
       "      <td>6.7</td>\n",
       "      <td>M</td>\n",
       "    </tr>\n",
       "    <tr>\n",
       "      <th>16458</th>\n",
       "      <td>Hakuouki: Shinsengumi Kitan</td>\n",
       "      <td>PS3</td>\n",
       "      <td>NaN</td>\n",
       "      <td>Adventure</td>\n",
       "      <td>0.01</td>\n",
       "      <td>0.00</td>\n",
       "      <td>0.00</td>\n",
       "      <td>0.00</td>\n",
       "      <td>NaN</td>\n",
       "      <td>NaN</td>\n",
       "      <td>NaN</td>\n",
       "    </tr>\n",
       "    <tr>\n",
       "      <th>16522</th>\n",
       "      <td>Virtua Quest</td>\n",
       "      <td>GC</td>\n",
       "      <td>NaN</td>\n",
       "      <td>Role-Playing</td>\n",
       "      <td>0.01</td>\n",
       "      <td>0.00</td>\n",
       "      <td>0.00</td>\n",
       "      <td>0.00</td>\n",
       "      <td>55.0</td>\n",
       "      <td>5.5</td>\n",
       "      <td>T</td>\n",
       "    </tr>\n",
       "  </tbody>\n",
       "</table>\n",
       "<p>269 rows × 11 columns</p>\n",
       "</div>"
      ],
      "text/plain": [
       "                                    name platform  year_of_release  \\\n",
       "183                      Madden NFL 2004      PS2              NaN   \n",
       "377                     FIFA Soccer 2004      PS2              NaN   \n",
       "456           LEGO Batman: The Videogame      Wii              NaN   \n",
       "475           wwe Smackdown vs. Raw 2006      PS2              NaN   \n",
       "609                       Space Invaders     2600              NaN   \n",
       "...                                  ...      ...              ...   \n",
       "16373  PDC World Championship Darts 2008      PSP              NaN   \n",
       "16405                      Freaky Flyers       GC              NaN   \n",
       "16448                          Inversion       PC              NaN   \n",
       "16458        Hakuouki: Shinsengumi Kitan      PS3              NaN   \n",
       "16522                       Virtua Quest       GC              NaN   \n",
       "\n",
       "              genre  na_sales  eu_sales  jp_sales  other_sales  critic_score  \\\n",
       "183          Sports      4.26      0.26      0.01         0.71          94.0   \n",
       "377          Sports      0.59      2.36      0.04         0.51          84.0   \n",
       "456          Action      1.80      0.97      0.00         0.29          74.0   \n",
       "475        Fighting      1.57      1.02      0.00         0.41           NaN   \n",
       "609         Shooter      2.36      0.14      0.00         0.03           NaN   \n",
       "...             ...       ...       ...       ...          ...           ...   \n",
       "16373        Sports      0.01      0.00      0.00         0.00          43.0   \n",
       "16405        Racing      0.01      0.00      0.00         0.00          69.0   \n",
       "16448       Shooter      0.01      0.00      0.00         0.00          59.0   \n",
       "16458     Adventure      0.01      0.00      0.00         0.00           NaN   \n",
       "16522  Role-Playing      0.01      0.00      0.00         0.00          55.0   \n",
       "\n",
       "      user_score rating  \n",
       "183          8.5      E  \n",
       "377          6.4      E  \n",
       "456          7.9   E10+  \n",
       "475          NaN    NaN  \n",
       "609          NaN    NaN  \n",
       "...          ...    ...  \n",
       "16373        tbd   E10+  \n",
       "16405        6.5      T  \n",
       "16448        6.7      M  \n",
       "16458        NaN    NaN  \n",
       "16522        5.5      T  \n",
       "\n",
       "[269 rows x 11 columns]"
      ]
     },
     "execution_count": 12,
     "metadata": {},
     "output_type": "execute_result"
    }
   ],
   "source": [
    "#Посмотрим на строки с пропуском в годе релиза\n",
    "data[data['year_of_release'].isna() == True]"
   ]
  },
  {
   "cell_type": "code",
   "execution_count": 13,
   "metadata": {},
   "outputs": [
    {
     "data": {
      "text/plain": [
       "1.6358550231087325"
      ]
     },
     "execution_count": 13,
     "metadata": {},
     "output_type": "execute_result"
    }
   ],
   "source": [
    "#Посччитаем процент пропусков от всех имеющихся строк\n",
    "(data['year_of_release'].isna().sum() / data['year_of_release'].count()) * 100"
   ]
  },
  {
   "cell_type": "markdown",
   "metadata": {},
   "source": [
    "Пропусков не так много - `1.64%` ,отсутствие этих строк не исказит общий анализ, поэтому  мы можем их удалить."
   ]
  },
  {
   "cell_type": "code",
   "execution_count": 14,
   "metadata": {
    "scrolled": false
   },
   "outputs": [],
   "source": [
    "#Удаляем строки\n",
    "data = data.dropna(subset=['year_of_release'])"
   ]
  },
  {
   "cell_type": "code",
   "execution_count": 15,
   "metadata": {
    "scrolled": false
   },
   "outputs": [
    {
     "data": {
      "text/html": [
       "<div>\n",
       "<style scoped>\n",
       "    .dataframe tbody tr th:only-of-type {\n",
       "        vertical-align: middle;\n",
       "    }\n",
       "\n",
       "    .dataframe tbody tr th {\n",
       "        vertical-align: top;\n",
       "    }\n",
       "\n",
       "    .dataframe thead th {\n",
       "        text-align: right;\n",
       "    }\n",
       "</style>\n",
       "<table border=\"1\" class=\"dataframe\">\n",
       "  <thead>\n",
       "    <tr style=\"text-align: right;\">\n",
       "      <th></th>\n",
       "      <th>name</th>\n",
       "      <th>platform</th>\n",
       "      <th>year_of_release</th>\n",
       "      <th>genre</th>\n",
       "      <th>na_sales</th>\n",
       "      <th>eu_sales</th>\n",
       "      <th>jp_sales</th>\n",
       "      <th>other_sales</th>\n",
       "      <th>critic_score</th>\n",
       "      <th>user_score</th>\n",
       "      <th>rating</th>\n",
       "    </tr>\n",
       "  </thead>\n",
       "  <tbody>\n",
       "    <tr>\n",
       "      <th>1</th>\n",
       "      <td>Super Mario Bros.</td>\n",
       "      <td>NES</td>\n",
       "      <td>1985.0</td>\n",
       "      <td>Platform</td>\n",
       "      <td>29.08</td>\n",
       "      <td>3.58</td>\n",
       "      <td>6.81</td>\n",
       "      <td>0.77</td>\n",
       "      <td>NaN</td>\n",
       "      <td>NaN</td>\n",
       "      <td>NaN</td>\n",
       "    </tr>\n",
       "    <tr>\n",
       "      <th>4</th>\n",
       "      <td>Pokemon Red/Pokemon Blue</td>\n",
       "      <td>GB</td>\n",
       "      <td>1996.0</td>\n",
       "      <td>Role-Playing</td>\n",
       "      <td>11.27</td>\n",
       "      <td>8.89</td>\n",
       "      <td>10.22</td>\n",
       "      <td>1.00</td>\n",
       "      <td>NaN</td>\n",
       "      <td>NaN</td>\n",
       "      <td>NaN</td>\n",
       "    </tr>\n",
       "    <tr>\n",
       "      <th>5</th>\n",
       "      <td>Tetris</td>\n",
       "      <td>GB</td>\n",
       "      <td>1989.0</td>\n",
       "      <td>Puzzle</td>\n",
       "      <td>23.20</td>\n",
       "      <td>2.26</td>\n",
       "      <td>4.22</td>\n",
       "      <td>0.58</td>\n",
       "      <td>NaN</td>\n",
       "      <td>NaN</td>\n",
       "      <td>NaN</td>\n",
       "    </tr>\n",
       "    <tr>\n",
       "      <th>9</th>\n",
       "      <td>Duck Hunt</td>\n",
       "      <td>NES</td>\n",
       "      <td>1984.0</td>\n",
       "      <td>Shooter</td>\n",
       "      <td>26.93</td>\n",
       "      <td>0.63</td>\n",
       "      <td>0.28</td>\n",
       "      <td>0.47</td>\n",
       "      <td>NaN</td>\n",
       "      <td>NaN</td>\n",
       "      <td>NaN</td>\n",
       "    </tr>\n",
       "    <tr>\n",
       "      <th>10</th>\n",
       "      <td>Nintendogs</td>\n",
       "      <td>DS</td>\n",
       "      <td>2005.0</td>\n",
       "      <td>Simulation</td>\n",
       "      <td>9.05</td>\n",
       "      <td>10.95</td>\n",
       "      <td>1.93</td>\n",
       "      <td>2.74</td>\n",
       "      <td>NaN</td>\n",
       "      <td>NaN</td>\n",
       "      <td>NaN</td>\n",
       "    </tr>\n",
       "    <tr>\n",
       "      <th>...</th>\n",
       "      <td>...</td>\n",
       "      <td>...</td>\n",
       "      <td>...</td>\n",
       "      <td>...</td>\n",
       "      <td>...</td>\n",
       "      <td>...</td>\n",
       "      <td>...</td>\n",
       "      <td>...</td>\n",
       "      <td>...</td>\n",
       "      <td>...</td>\n",
       "      <td>...</td>\n",
       "    </tr>\n",
       "    <tr>\n",
       "      <th>16710</th>\n",
       "      <td>Samurai Warriors: Sanada Maru</td>\n",
       "      <td>PS3</td>\n",
       "      <td>2016.0</td>\n",
       "      <td>Action</td>\n",
       "      <td>0.00</td>\n",
       "      <td>0.00</td>\n",
       "      <td>0.01</td>\n",
       "      <td>0.00</td>\n",
       "      <td>NaN</td>\n",
       "      <td>NaN</td>\n",
       "      <td>NaN</td>\n",
       "    </tr>\n",
       "    <tr>\n",
       "      <th>16711</th>\n",
       "      <td>LMA Manager 2007</td>\n",
       "      <td>X360</td>\n",
       "      <td>2006.0</td>\n",
       "      <td>Sports</td>\n",
       "      <td>0.00</td>\n",
       "      <td>0.01</td>\n",
       "      <td>0.00</td>\n",
       "      <td>0.00</td>\n",
       "      <td>NaN</td>\n",
       "      <td>NaN</td>\n",
       "      <td>NaN</td>\n",
       "    </tr>\n",
       "    <tr>\n",
       "      <th>16712</th>\n",
       "      <td>Haitaka no Psychedelica</td>\n",
       "      <td>PSV</td>\n",
       "      <td>2016.0</td>\n",
       "      <td>Adventure</td>\n",
       "      <td>0.00</td>\n",
       "      <td>0.00</td>\n",
       "      <td>0.01</td>\n",
       "      <td>0.00</td>\n",
       "      <td>NaN</td>\n",
       "      <td>NaN</td>\n",
       "      <td>NaN</td>\n",
       "    </tr>\n",
       "    <tr>\n",
       "      <th>16713</th>\n",
       "      <td>Spirits &amp; Spells</td>\n",
       "      <td>GBA</td>\n",
       "      <td>2003.0</td>\n",
       "      <td>Platform</td>\n",
       "      <td>0.01</td>\n",
       "      <td>0.00</td>\n",
       "      <td>0.00</td>\n",
       "      <td>0.00</td>\n",
       "      <td>NaN</td>\n",
       "      <td>NaN</td>\n",
       "      <td>NaN</td>\n",
       "    </tr>\n",
       "    <tr>\n",
       "      <th>16714</th>\n",
       "      <td>Winning Post 8 2016</td>\n",
       "      <td>PSV</td>\n",
       "      <td>2016.0</td>\n",
       "      <td>Simulation</td>\n",
       "      <td>0.00</td>\n",
       "      <td>0.00</td>\n",
       "      <td>0.01</td>\n",
       "      <td>0.00</td>\n",
       "      <td>NaN</td>\n",
       "      <td>NaN</td>\n",
       "      <td>NaN</td>\n",
       "    </tr>\n",
       "  </tbody>\n",
       "</table>\n",
       "<p>8461 rows × 11 columns</p>\n",
       "</div>"
      ],
      "text/plain": [
       "                                name platform  year_of_release         genre  \\\n",
       "1                  Super Mario Bros.      NES           1985.0      Platform   \n",
       "4           Pokemon Red/Pokemon Blue       GB           1996.0  Role-Playing   \n",
       "5                             Tetris       GB           1989.0        Puzzle   \n",
       "9                          Duck Hunt      NES           1984.0       Shooter   \n",
       "10                        Nintendogs       DS           2005.0    Simulation   \n",
       "...                              ...      ...              ...           ...   \n",
       "16710  Samurai Warriors: Sanada Maru      PS3           2016.0        Action   \n",
       "16711               LMA Manager 2007     X360           2006.0        Sports   \n",
       "16712        Haitaka no Psychedelica      PSV           2016.0     Adventure   \n",
       "16713               Spirits & Spells      GBA           2003.0      Platform   \n",
       "16714            Winning Post 8 2016      PSV           2016.0    Simulation   \n",
       "\n",
       "       na_sales  eu_sales  jp_sales  other_sales  critic_score user_score  \\\n",
       "1         29.08      3.58      6.81         0.77           NaN        NaN   \n",
       "4         11.27      8.89     10.22         1.00           NaN        NaN   \n",
       "5         23.20      2.26      4.22         0.58           NaN        NaN   \n",
       "9         26.93      0.63      0.28         0.47           NaN        NaN   \n",
       "10         9.05     10.95      1.93         2.74           NaN        NaN   \n",
       "...         ...       ...       ...          ...           ...        ...   \n",
       "16710      0.00      0.00      0.01         0.00           NaN        NaN   \n",
       "16711      0.00      0.01      0.00         0.00           NaN        NaN   \n",
       "16712      0.00      0.00      0.01         0.00           NaN        NaN   \n",
       "16713      0.01      0.00      0.00         0.00           NaN        NaN   \n",
       "16714      0.00      0.00      0.01         0.00           NaN        NaN   \n",
       "\n",
       "      rating  \n",
       "1        NaN  \n",
       "4        NaN  \n",
       "5        NaN  \n",
       "9        NaN  \n",
       "10       NaN  \n",
       "...      ...  \n",
       "16710    NaN  \n",
       "16711    NaN  \n",
       "16712    NaN  \n",
       "16713    NaN  \n",
       "16714    NaN  \n",
       "\n",
       "[8461 rows x 11 columns]"
      ]
     },
     "execution_count": 15,
     "metadata": {},
     "output_type": "execute_result"
    }
   ],
   "source": [
    "#Посмотрим на строки с пропусками в оценке критиков\n",
    "data[data['critic_score'].isna() == True]"
   ]
  },
  {
   "cell_type": "markdown",
   "metadata": {},
   "source": [
    "Пропуски пересекаются явно в столбцах:\n",
    "- `Critic_Score`\n",
    "- `User_Score`\n",
    "- `Rating`\n",
    "\n",
    "На мой взгляд это связанно с источниками информации открытого типа(различные сайты, форумы и т.п.), скорее всего люди не оценивали эти игры на вышеуказанных источниках по возможной причине малой известности этих игр. В таком случае пропуски необходимо оставить без измений.\n",
    "\n",
    "Заменить пропуски на медианные или средние значения не представляется возможным, потому что оценки - это очень субъективные показатели.\n",
    "\n",
    "Разберем столбец \"Rating\". Говоря о системе ESRB, то этот возрастной рейтинг распространяется только на территории США, Канады и Мексики. Соответственно, при более детальном изучении столбца \"Rating\" стало понятно, что скорее всего игры не имеющие рейтинг - это игры, которые не были выпущенны на территории Северной Америки (или же оцененны только по таким рейтинговым системам как CERO, PEGI, USK). Тогда можно пометить их как \"NOTESRB\"."
   ]
  },
  {
   "cell_type": "code",
   "execution_count": 16,
   "metadata": {},
   "outputs": [],
   "source": [
    "# Заполняем  пропуски в столбце\n",
    "data['rating'] = data['rating'].fillna('NOTESRB')"
   ]
  },
  {
   "cell_type": "markdown",
   "metadata": {},
   "source": [
    "#### Работа с типом данных"
   ]
  },
  {
   "cell_type": "code",
   "execution_count": 17,
   "metadata": {},
   "outputs": [],
   "source": [
    "#Приведем год релиза к целочисленному формату данных\n",
    "data['year_of_release'] = data['year_of_release'].astype('int')"
   ]
  },
  {
   "cell_type": "code",
   "execution_count": 18,
   "metadata": {},
   "outputs": [
    {
     "data": {
      "text/plain": [
       "array(['8', nan, '8.3', '8.5', '6.6', '8.4', '8.6', '7.7', '6.3', '7.4',\n",
       "       '8.2', '9', '7.9', '8.1', '8.7', '7.1', '3.4', '5.3', '4.8', '3.2',\n",
       "       '8.9', '6.4', '7.8', '7.5', '2.6', '7.2', '9.2', '7', '7.3', '4.3',\n",
       "       '7.6', '5.7', '5', '9.1', '6.5', 'tbd', '8.8', '6.9', '9.4', '6.8',\n",
       "       '6.1', '6.7', '5.4', '4', '4.9', '4.5', '9.3', '6.2', '4.2', '6',\n",
       "       '3.7', '4.1', '5.8', '5.6', '5.5', '4.4', '4.6', '5.9', '3.9',\n",
       "       '3.1', '2.9', '5.2', '3.3', '4.7', '5.1', '3.5', '2.5', '1.9', '3',\n",
       "       '2.7', '2.2', '2', '9.5', '2.1', '3.6', '2.8', '1.8', '3.8', '0',\n",
       "       '1.6', '9.6', '2.4', '1.7', '1.1', '0.3', '1.5', '0.7', '1.2',\n",
       "       '2.3', '0.5', '1.3', '0.2', '0.6', '1.4', '0.9', '1', '9.7'],\n",
       "      dtype=object)"
      ]
     },
     "execution_count": 18,
     "metadata": {},
     "output_type": "execute_result"
    }
   ],
   "source": [
    "#Нас заранее предупредили о значении \"tbd\" в столбце \"user_score\", посмотрим на все имеющиеся значения в данном столбце\n",
    "data['user_score'].unique()"
   ]
  },
  {
   "cell_type": "markdown",
   "metadata": {},
   "source": [
    "Да, действительно, значение \"tbd\" присутствует в столбце, при изучении информации, было выявленно то, что аббревиатура \"tbd\" обозначает \"To Be Determined\"(будет определенно), то есть на данный момент по какой - то причине оценки нету, значит это значение можно замение на \"NaN\"."
   ]
  },
  {
   "cell_type": "code",
   "execution_count": 19,
   "metadata": {},
   "outputs": [],
   "source": [
    "#Меняем значение \"tbd\" на NaN\n",
    "data['user_score'] = data['user_score'].replace('tbd', np.NaN)"
   ]
  },
  {
   "cell_type": "code",
   "execution_count": 20,
   "metadata": {},
   "outputs": [
    {
     "data": {
      "text/plain": [
       "array(['8', nan, '8.3', '8.5', '6.6', '8.4', '8.6', '7.7', '6.3', '7.4',\n",
       "       '8.2', '9', '7.9', '8.1', '8.7', '7.1', '3.4', '5.3', '4.8', '3.2',\n",
       "       '8.9', '6.4', '7.8', '7.5', '2.6', '7.2', '9.2', '7', '7.3', '4.3',\n",
       "       '7.6', '5.7', '5', '9.1', '6.5', '8.8', '6.9', '9.4', '6.8', '6.1',\n",
       "       '6.7', '5.4', '4', '4.9', '4.5', '9.3', '6.2', '4.2', '6', '3.7',\n",
       "       '4.1', '5.8', '5.6', '5.5', '4.4', '4.6', '5.9', '3.9', '3.1',\n",
       "       '2.9', '5.2', '3.3', '4.7', '5.1', '3.5', '2.5', '1.9', '3', '2.7',\n",
       "       '2.2', '2', '9.5', '2.1', '3.6', '2.8', '1.8', '3.8', '0', '1.6',\n",
       "       '9.6', '2.4', '1.7', '1.1', '0.3', '1.5', '0.7', '1.2', '2.3',\n",
       "       '0.5', '1.3', '0.2', '0.6', '1.4', '0.9', '1', '9.7'], dtype=object)"
      ]
     },
     "execution_count": 20,
     "metadata": {},
     "output_type": "execute_result"
    }
   ],
   "source": [
    "#Проверим, что все получилось.\n",
    "data['user_score'].unique()"
   ]
  },
  {
   "cell_type": "code",
   "execution_count": 21,
   "metadata": {},
   "outputs": [],
   "source": [
    "#Теперь изменим тип данных столбца 'user_score' со строки на вещественное число\n",
    "data['user_score'] = data['user_score'].astype('float')"
   ]
  },
  {
   "cell_type": "code",
   "execution_count": 22,
   "metadata": {},
   "outputs": [
    {
     "name": "stdout",
     "output_type": "stream",
     "text": [
      "<class 'pandas.core.frame.DataFrame'>\n",
      "Int64Index: 16444 entries, 0 to 16714\n",
      "Data columns (total 11 columns):\n",
      " #   Column           Non-Null Count  Dtype  \n",
      "---  ------           --------------  -----  \n",
      " 0   name             16444 non-null  object \n",
      " 1   platform         16444 non-null  object \n",
      " 2   year_of_release  16444 non-null  int32  \n",
      " 3   genre            16444 non-null  object \n",
      " 4   na_sales         16444 non-null  float64\n",
      " 5   eu_sales         16444 non-null  float64\n",
      " 6   jp_sales         16444 non-null  float64\n",
      " 7   other_sales      16444 non-null  float64\n",
      " 8   critic_score     7983 non-null   float64\n",
      " 9   user_score       7463 non-null   float64\n",
      " 10  rating           16444 non-null  object \n",
      "dtypes: float64(6), int32(1), object(4)\n",
      "memory usage: 1.4+ MB\n"
     ]
    }
   ],
   "source": [
    "#Проверим, что теперь везде нужный нам тип данных\n",
    "data.info()"
   ]
  },
  {
   "cell_type": "markdown",
   "metadata": {},
   "source": [
    "#### Добавление столбца общих продаж"
   ]
  },
  {
   "cell_type": "code",
   "execution_count": 23,
   "metadata": {},
   "outputs": [],
   "source": [
    "#Добавим столбец, содержащий суммарные продажи игры по всем регионам\n",
    "data['all_sales'] = data[['na_sales','eu_sales','jp_sales', 'other_sales']].sum(axis = 1)"
   ]
  },
  {
   "cell_type": "code",
   "execution_count": 24,
   "metadata": {},
   "outputs": [
    {
     "data": {
      "text/html": [
       "<div>\n",
       "<style scoped>\n",
       "    .dataframe tbody tr th:only-of-type {\n",
       "        vertical-align: middle;\n",
       "    }\n",
       "\n",
       "    .dataframe tbody tr th {\n",
       "        vertical-align: top;\n",
       "    }\n",
       "\n",
       "    .dataframe thead th {\n",
       "        text-align: right;\n",
       "    }\n",
       "</style>\n",
       "<table border=\"1\" class=\"dataframe\">\n",
       "  <thead>\n",
       "    <tr style=\"text-align: right;\">\n",
       "      <th></th>\n",
       "      <th>name</th>\n",
       "      <th>platform</th>\n",
       "      <th>year_of_release</th>\n",
       "      <th>genre</th>\n",
       "      <th>na_sales</th>\n",
       "      <th>eu_sales</th>\n",
       "      <th>jp_sales</th>\n",
       "      <th>other_sales</th>\n",
       "      <th>critic_score</th>\n",
       "      <th>user_score</th>\n",
       "      <th>rating</th>\n",
       "      <th>all_sales</th>\n",
       "    </tr>\n",
       "  </thead>\n",
       "  <tbody>\n",
       "    <tr>\n",
       "      <th>0</th>\n",
       "      <td>Wii Sports</td>\n",
       "      <td>Wii</td>\n",
       "      <td>2006</td>\n",
       "      <td>Sports</td>\n",
       "      <td>41.36</td>\n",
       "      <td>28.96</td>\n",
       "      <td>3.77</td>\n",
       "      <td>8.45</td>\n",
       "      <td>76.0</td>\n",
       "      <td>8.0</td>\n",
       "      <td>E</td>\n",
       "      <td>82.54</td>\n",
       "    </tr>\n",
       "    <tr>\n",
       "      <th>1</th>\n",
       "      <td>Super Mario Bros.</td>\n",
       "      <td>NES</td>\n",
       "      <td>1985</td>\n",
       "      <td>Platform</td>\n",
       "      <td>29.08</td>\n",
       "      <td>3.58</td>\n",
       "      <td>6.81</td>\n",
       "      <td>0.77</td>\n",
       "      <td>NaN</td>\n",
       "      <td>NaN</td>\n",
       "      <td>NOTESRB</td>\n",
       "      <td>40.24</td>\n",
       "    </tr>\n",
       "    <tr>\n",
       "      <th>2</th>\n",
       "      <td>Mario Kart Wii</td>\n",
       "      <td>Wii</td>\n",
       "      <td>2008</td>\n",
       "      <td>Racing</td>\n",
       "      <td>15.68</td>\n",
       "      <td>12.76</td>\n",
       "      <td>3.79</td>\n",
       "      <td>3.29</td>\n",
       "      <td>82.0</td>\n",
       "      <td>8.3</td>\n",
       "      <td>E</td>\n",
       "      <td>35.52</td>\n",
       "    </tr>\n",
       "    <tr>\n",
       "      <th>3</th>\n",
       "      <td>Wii Sports Resort</td>\n",
       "      <td>Wii</td>\n",
       "      <td>2009</td>\n",
       "      <td>Sports</td>\n",
       "      <td>15.61</td>\n",
       "      <td>10.93</td>\n",
       "      <td>3.28</td>\n",
       "      <td>2.95</td>\n",
       "      <td>80.0</td>\n",
       "      <td>8.0</td>\n",
       "      <td>E</td>\n",
       "      <td>32.77</td>\n",
       "    </tr>\n",
       "    <tr>\n",
       "      <th>4</th>\n",
       "      <td>Pokemon Red/Pokemon Blue</td>\n",
       "      <td>GB</td>\n",
       "      <td>1996</td>\n",
       "      <td>Role-Playing</td>\n",
       "      <td>11.27</td>\n",
       "      <td>8.89</td>\n",
       "      <td>10.22</td>\n",
       "      <td>1.00</td>\n",
       "      <td>NaN</td>\n",
       "      <td>NaN</td>\n",
       "      <td>NOTESRB</td>\n",
       "      <td>31.38</td>\n",
       "    </tr>\n",
       "  </tbody>\n",
       "</table>\n",
       "</div>"
      ],
      "text/plain": [
       "                       name platform  year_of_release         genre  na_sales  \\\n",
       "0                Wii Sports      Wii             2006        Sports     41.36   \n",
       "1         Super Mario Bros.      NES             1985      Platform     29.08   \n",
       "2            Mario Kart Wii      Wii             2008        Racing     15.68   \n",
       "3         Wii Sports Resort      Wii             2009        Sports     15.61   \n",
       "4  Pokemon Red/Pokemon Blue       GB             1996  Role-Playing     11.27   \n",
       "\n",
       "   eu_sales  jp_sales  other_sales  critic_score  user_score   rating  \\\n",
       "0     28.96      3.77         8.45          76.0         8.0        E   \n",
       "1      3.58      6.81         0.77           NaN         NaN  NOTESRB   \n",
       "2     12.76      3.79         3.29          82.0         8.3        E   \n",
       "3     10.93      3.28         2.95          80.0         8.0        E   \n",
       "4      8.89     10.22         1.00           NaN         NaN  NOTESRB   \n",
       "\n",
       "   all_sales  \n",
       "0      82.54  \n",
       "1      40.24  \n",
       "2      35.52  \n",
       "3      32.77  \n",
       "4      31.38  "
      ]
     },
     "execution_count": 24,
     "metadata": {},
     "output_type": "execute_result"
    }
   ],
   "source": [
    "#Посмотрим на таблицу с новым столбцом\n",
    "data.head()"
   ]
  },
  {
   "cell_type": "code",
   "execution_count": 25,
   "metadata": {
    "scrolled": true
   },
   "outputs": [
    {
     "data": {
      "text/html": [
       "<div>\n",
       "<style scoped>\n",
       "    .dataframe tbody tr th:only-of-type {\n",
       "        vertical-align: middle;\n",
       "    }\n",
       "\n",
       "    .dataframe tbody tr th {\n",
       "        vertical-align: top;\n",
       "    }\n",
       "\n",
       "    .dataframe thead th {\n",
       "        text-align: right;\n",
       "    }\n",
       "</style>\n",
       "<table border=\"1\" class=\"dataframe\">\n",
       "  <thead>\n",
       "    <tr style=\"text-align: right;\">\n",
       "      <th></th>\n",
       "      <th>year_of_release</th>\n",
       "      <th>na_sales</th>\n",
       "      <th>eu_sales</th>\n",
       "      <th>jp_sales</th>\n",
       "      <th>other_sales</th>\n",
       "      <th>critic_score</th>\n",
       "      <th>user_score</th>\n",
       "      <th>all_sales</th>\n",
       "    </tr>\n",
       "  </thead>\n",
       "  <tbody>\n",
       "    <tr>\n",
       "      <th>count</th>\n",
       "      <td>16444.000000</td>\n",
       "      <td>16444.000000</td>\n",
       "      <td>16444.000000</td>\n",
       "      <td>16444.000000</td>\n",
       "      <td>16444.000000</td>\n",
       "      <td>7983.000000</td>\n",
       "      <td>7463.000000</td>\n",
       "      <td>16444.000000</td>\n",
       "    </tr>\n",
       "    <tr>\n",
       "      <th>mean</th>\n",
       "      <td>2006.486256</td>\n",
       "      <td>0.264012</td>\n",
       "      <td>0.145930</td>\n",
       "      <td>0.078487</td>\n",
       "      <td>0.047594</td>\n",
       "      <td>68.994363</td>\n",
       "      <td>7.126330</td>\n",
       "      <td>0.536023</td>\n",
       "    </tr>\n",
       "    <tr>\n",
       "      <th>std</th>\n",
       "      <td>5.875525</td>\n",
       "      <td>0.818378</td>\n",
       "      <td>0.506716</td>\n",
       "      <td>0.311100</td>\n",
       "      <td>0.188005</td>\n",
       "      <td>13.920060</td>\n",
       "      <td>1.499447</td>\n",
       "      <td>1.558786</td>\n",
       "    </tr>\n",
       "    <tr>\n",
       "      <th>min</th>\n",
       "      <td>1980.000000</td>\n",
       "      <td>0.000000</td>\n",
       "      <td>0.000000</td>\n",
       "      <td>0.000000</td>\n",
       "      <td>0.000000</td>\n",
       "      <td>13.000000</td>\n",
       "      <td>0.000000</td>\n",
       "      <td>0.000000</td>\n",
       "    </tr>\n",
       "    <tr>\n",
       "      <th>25%</th>\n",
       "      <td>2003.000000</td>\n",
       "      <td>0.000000</td>\n",
       "      <td>0.000000</td>\n",
       "      <td>0.000000</td>\n",
       "      <td>0.000000</td>\n",
       "      <td>60.000000</td>\n",
       "      <td>6.400000</td>\n",
       "      <td>0.060000</td>\n",
       "    </tr>\n",
       "    <tr>\n",
       "      <th>50%</th>\n",
       "      <td>2007.000000</td>\n",
       "      <td>0.080000</td>\n",
       "      <td>0.020000</td>\n",
       "      <td>0.000000</td>\n",
       "      <td>0.010000</td>\n",
       "      <td>71.000000</td>\n",
       "      <td>7.500000</td>\n",
       "      <td>0.170000</td>\n",
       "    </tr>\n",
       "    <tr>\n",
       "      <th>75%</th>\n",
       "      <td>2010.000000</td>\n",
       "      <td>0.240000</td>\n",
       "      <td>0.110000</td>\n",
       "      <td>0.040000</td>\n",
       "      <td>0.030000</td>\n",
       "      <td>79.000000</td>\n",
       "      <td>8.200000</td>\n",
       "      <td>0.470000</td>\n",
       "    </tr>\n",
       "    <tr>\n",
       "      <th>max</th>\n",
       "      <td>2016.000000</td>\n",
       "      <td>41.360000</td>\n",
       "      <td>28.960000</td>\n",
       "      <td>10.220000</td>\n",
       "      <td>10.570000</td>\n",
       "      <td>98.000000</td>\n",
       "      <td>9.700000</td>\n",
       "      <td>82.540000</td>\n",
       "    </tr>\n",
       "  </tbody>\n",
       "</table>\n",
       "</div>"
      ],
      "text/plain": [
       "       year_of_release      na_sales      eu_sales      jp_sales  \\\n",
       "count     16444.000000  16444.000000  16444.000000  16444.000000   \n",
       "mean       2006.486256      0.264012      0.145930      0.078487   \n",
       "std           5.875525      0.818378      0.506716      0.311100   \n",
       "min        1980.000000      0.000000      0.000000      0.000000   \n",
       "25%        2003.000000      0.000000      0.000000      0.000000   \n",
       "50%        2007.000000      0.080000      0.020000      0.000000   \n",
       "75%        2010.000000      0.240000      0.110000      0.040000   \n",
       "max        2016.000000     41.360000     28.960000     10.220000   \n",
       "\n",
       "        other_sales  critic_score   user_score     all_sales  \n",
       "count  16444.000000   7983.000000  7463.000000  16444.000000  \n",
       "mean       0.047594     68.994363     7.126330      0.536023  \n",
       "std        0.188005     13.920060     1.499447      1.558786  \n",
       "min        0.000000     13.000000     0.000000      0.000000  \n",
       "25%        0.000000     60.000000     6.400000      0.060000  \n",
       "50%        0.010000     71.000000     7.500000      0.170000  \n",
       "75%        0.030000     79.000000     8.200000      0.470000  \n",
       "max       10.570000     98.000000     9.700000     82.540000  "
      ]
     },
     "execution_count": 25,
     "metadata": {},
     "output_type": "execute_result"
    }
   ],
   "source": [
    "#Изучим более детально информацию о данных\n",
    "data.describe()"
   ]
  },
  {
   "cell_type": "markdown",
   "metadata": {},
   "source": [
    "- оценки пользователей находятся в допустимых пределах, максимальная из 10 возможных - 9.7;\n",
    "- оценки пользователей находятся в допустимых пределах, максимальная из 100 возможных - 98;\n",
    "- максимальные значения продаж намного больше медианы, но, в нашем случае выбросы - залог успеха, ведь жанр и платформа игр с такими продажами может задать тренд и успех игр, которые выйдут в 2017."
   ]
  },
  {
   "cell_type": "code",
   "execution_count": 26,
   "metadata": {
    "scrolled": false
   },
   "outputs": [
    {
     "name": "stdout",
     "output_type": "stream",
     "text": [
      "<class 'pandas.core.frame.DataFrame'>\n",
      "Int64Index: 16444 entries, 0 to 16714\n",
      "Data columns (total 12 columns):\n",
      " #   Column           Non-Null Count  Dtype  \n",
      "---  ------           --------------  -----  \n",
      " 0   name             16444 non-null  object \n",
      " 1   platform         16444 non-null  object \n",
      " 2   year_of_release  16444 non-null  int32  \n",
      " 3   genre            16444 non-null  object \n",
      " 4   na_sales         16444 non-null  float64\n",
      " 5   eu_sales         16444 non-null  float64\n",
      " 6   jp_sales         16444 non-null  float64\n",
      " 7   other_sales      16444 non-null  float64\n",
      " 8   critic_score     7983 non-null   float64\n",
      " 9   user_score       7463 non-null   float64\n",
      " 10  rating           16444 non-null  object \n",
      " 11  all_sales        16444 non-null  float64\n",
      "dtypes: float64(7), int32(1), object(4)\n",
      "memory usage: 1.6+ MB\n",
      "None\n",
      "-------------------------\n",
      "name [' Beyblade Burst' ' Fire Emblem Fates' \" Frozen: Olaf's Quest\" ...\n",
      " 'uDraw Studio' 'uDraw Studio: Instant Artist'\n",
      " '¡Shin Chan Flipa en colores!']\n",
      "name : кол-во NaN 0 , процент NaN 0.0 %\n",
      "-------------------------\n",
      "platform ['2600' '3DO' '3DS' 'DC' 'DS' 'GB' 'GBA' 'GC' 'GEN' 'GG' 'N64' 'NES' 'NG'\n",
      " 'PC' 'PCFX' 'PS' 'PS2' 'PS3' 'PS4' 'PSP' 'PSV' 'SAT' 'SCD' 'SNES' 'TG16'\n",
      " 'WS' 'Wii' 'WiiU' 'X360' 'XB' 'XOne']\n",
      "platform : кол-во NaN 0 , процент NaN 0.0 %\n",
      "-------------------------\n",
      "year_of_release [1980 1981 1982 1983 1984 1985 1986 1987 1988 1989 1990 1991 1992 1993\n",
      " 1994 1995 1996 1997 1998 1999 2000 2001 2002 2003 2004 2005 2006 2007\n",
      " 2008 2009 2010 2011 2012 2013 2014 2015 2016]\n",
      "year_of_release : кол-во NaN 0 , процент NaN 0.0 %\n",
      "-------------------------\n",
      "genre ['Action' 'Adventure' 'Fighting' 'Misc' 'Platform' 'Puzzle' 'Racing'\n",
      " 'Role-Playing' 'Shooter' 'Simulation' 'Sports' 'Strategy']\n",
      "genre : кол-во NaN 0 , процент NaN 0.0 %\n",
      "-------------------------\n",
      "critic_score [13. 17. 19. 20. 21. 23. 24. 25. 26. 27. 28. 29. 30. 31. 32. 33. 34. 35.\n",
      " 36. 37. 38. 39. 40. 41. 42. 43. 44. 45. 46. 47. 48. 49. 50. 51. 52. 53.\n",
      " 54. 55. 56. 57. 58. 59. 60. 61. 62. 63. 64. 65. 66. 67. 68. 69. 70. 71.\n",
      " 72. 73. 74. 75. 76. 77. 78. 79. 80. 81. 82. 83. 84. 85. 86. 87. 88. 89.\n",
      " 90. 91. 92. 93. 94. 95. 96. 97. 98. nan]\n",
      "critic_score : кол-во NaN 8461 , процент NaN 51.45 %\n",
      "-------------------------\n",
      "user_score [0.  0.2 0.3 0.5 0.6 0.7 0.9 1.  1.1 1.2 1.3 1.4 1.5 1.6 1.7 1.8 1.9 2.\n",
      " 2.1 2.2 2.3 2.4 2.5 2.6 2.7 2.8 2.9 3.  3.1 3.2 3.3 3.4 3.5 3.6 3.7 3.8\n",
      " 3.9 4.  4.1 4.2 4.3 4.4 4.5 4.6 4.7 4.8 4.9 5.  5.1 5.2 5.3 5.4 5.5 5.6\n",
      " 5.7 5.8 5.9 6.  6.1 6.2 6.3 6.4 6.5 6.6 6.7 6.8 6.9 7.  7.1 7.2 7.3 7.4\n",
      " 7.5 7.6 7.7 7.8 7.9 8.  8.1 8.2 8.3 8.4 8.5 8.6 8.7 8.8 8.9 9.  9.1 9.2\n",
      " 9.3 9.4 9.5 9.6 9.7 nan]\n",
      "user_score : кол-во NaN 8981 , процент NaN 54.62 %\n",
      "-------------------------\n",
      "rating ['AO' 'E' 'E10+' 'EC' 'K-A' 'M' 'NOTESRB' 'RP' 'T']\n",
      "rating : кол-во NaN 0 , процент NaN 0.0 %\n"
     ]
    }
   ],
   "source": [
    "# Посмотрим, что у нас осталось\n",
    "temp = data.copy() \n",
    "list_c = ['name', 'platform', 'year_of_release', 'genre', 'critic_score', 'user_score', 'rating']\n",
    "print(temp.info())\n",
    "for col_l in list_c:\n",
    "  print('-'* 25)\n",
    "  print(col_l, temp[col_l].sort_values().unique())\n",
    "  print(col_l,': кол-во NaN',temp[col_l].isna().sum(),\n",
    "        ', процент NaN', round(temp[col_l].isna().sum()/len(temp)*100, 2),'%')"
   ]
  },
  {
   "cell_type": "markdown",
   "metadata": {},
   "source": [
    "### Исследовательский анализ данных"
   ]
  },
  {
   "cell_type": "markdown",
   "metadata": {},
   "source": [
    "#### Количество выпущенных игр по годам"
   ]
  },
  {
   "cell_type": "code",
   "execution_count": 27,
   "metadata": {
    "scrolled": false
   },
   "outputs": [
    {
     "data": {
      "text/plain": [
       "<AxesSubplot:title={'center':'Количество выпущенных игр с 1980 по 2016 год'}, xlabel='year_of_release'>"
      ]
     },
     "execution_count": 27,
     "metadata": {},
     "output_type": "execute_result"
    },
    {
     "data": {
      "image/png": "[encoded data removed]",
      "text/plain": [
       "<Figure size 720x720 with 1 Axes>"
      ]
     },
     "metadata": {
      "needs_background": "light"
     },
     "output_type": "display_data"
    }
   ],
   "source": [
    "#Посмотрим, сколько игр выпускалось в разные годы\n",
    "#Создаем сводную таблицу с индексами в виде года и значениями в виде продаж\n",
    "year_pivot = data.pivot_table(index='year_of_release', values='all_sales', aggfunc='count')\n",
    "\n",
    "#Выводим столбчатую диаграмму\n",
    "year_pivot.plot(y='all_sales', kind='bar', figsize=(10,10), title='Количество выпущенных игр с 1980 по 2016 год')"
   ]
  },
  {
   "cell_type": "markdown",
   "metadata": {},
   "source": [
    "Рост количества выпускаемых игр корелирует с переходом в новый 21 век."
   ]
  },
  {
   "cell_type": "markdown",
   "metadata": {},
   "source": [
    "Я считаю что мы можем взять период с 2002 по 2016 год, ведь количество игр, вышедших в 2002 году, больше в ~1.72 по сравнению с 2001, можно сказать, что в 2002 году был игровой бум или же статистику вышедших игр стали вести более активно, тем не менее, именно в это время начинают определятся четкие рамки для жанров.\n",
    "\n",
    "*Вывод: данные за все периоды - не важны, пока оставим период с 2002 по 2016 год.*"
   ]
  },
  {
   "cell_type": "code",
   "execution_count": 28,
   "metadata": {},
   "outputs": [],
   "source": [
    "#Поместим датасет с периодом 2002 по 2016 в переменную filtered_data\n",
    "filtered_data = data[data['year_of_release'] >= 2002]"
   ]
  },
  {
   "cell_type": "markdown",
   "metadata": {},
   "source": [
    "#### Продажи на популярных платформах"
   ]
  },
  {
   "cell_type": "code",
   "execution_count": 29,
   "metadata": {
    "scrolled": true
   },
   "outputs": [
    {
     "data": {
      "text/plain": [
       "<AxesSubplot:xlabel='platform'>"
      ]
     },
     "execution_count": 29,
     "metadata": {},
     "output_type": "execute_result"
    },
    {
     "data": {
      "image/png": "[encoded data removed]",
      "text/plain": [
       "<Figure size 432x288 with 1 Axes>"
      ]
     },
     "metadata": {
      "needs_background": "light"
     },
     "output_type": "display_data"
    }
   ],
   "source": [
    "#Определим платформы с наибольшими суммарными продажами\n",
    "filtered_data.pivot_table(index='platform', values='all_sales',\n",
    "                          aggfunc='sum').sort_values(by='all_sales',\n",
    "                                                     ascending=False).plot(y='all_sales', kind='bar')"
   ]
  },
  {
   "cell_type": "markdown",
   "metadata": {},
   "source": [
    "Выделим ТОП-5 платформ:\n",
    "- PS2 - 1050.17\n",
    "- X360 - 971.42\n",
    "- PS3 - 939.65\n",
    "- Wii - 907.51\n",
    "- DS - 806.10"
   ]
  },
  {
   "cell_type": "code",
   "execution_count": 30,
   "metadata": {
    "scrolled": false
   },
   "outputs": [
    {
     "data": {
      "text/html": [
       "<div>\n",
       "<style scoped>\n",
       "    .dataframe tbody tr th:only-of-type {\n",
       "        vertical-align: middle;\n",
       "    }\n",
       "\n",
       "    .dataframe tbody tr th {\n",
       "        vertical-align: top;\n",
       "    }\n",
       "\n",
       "    .dataframe thead th {\n",
       "        text-align: right;\n",
       "    }\n",
       "</style>\n",
       "<table border=\"1\" class=\"dataframe\">\n",
       "  <thead>\n",
       "    <tr style=\"text-align: right;\">\n",
       "      <th></th>\n",
       "      <th></th>\n",
       "      <th>all_sales</th>\n",
       "    </tr>\n",
       "    <tr>\n",
       "      <th>platform</th>\n",
       "      <th>year_of_release</th>\n",
       "      <th></th>\n",
       "    </tr>\n",
       "  </thead>\n",
       "  <tbody>\n",
       "    <tr>\n",
       "      <th rowspan=\"5\" valign=\"top\">3DS</th>\n",
       "      <th>2011</th>\n",
       "      <td>63.20</td>\n",
       "    </tr>\n",
       "    <tr>\n",
       "      <th>2012</th>\n",
       "      <td>51.36</td>\n",
       "    </tr>\n",
       "    <tr>\n",
       "      <th>2013</th>\n",
       "      <td>56.57</td>\n",
       "    </tr>\n",
       "    <tr>\n",
       "      <th>2014</th>\n",
       "      <td>43.76</td>\n",
       "    </tr>\n",
       "    <tr>\n",
       "      <th>2015</th>\n",
       "      <td>27.78</td>\n",
       "    </tr>\n",
       "    <tr>\n",
       "      <th>...</th>\n",
       "      <th>...</th>\n",
       "      <td>...</td>\n",
       "    </tr>\n",
       "    <tr>\n",
       "      <th>XB</th>\n",
       "      <th>2008</th>\n",
       "      <td>0.18</td>\n",
       "    </tr>\n",
       "    <tr>\n",
       "      <th rowspan=\"4\" valign=\"top\">XOne</th>\n",
       "      <th>2013</th>\n",
       "      <td>18.96</td>\n",
       "    </tr>\n",
       "    <tr>\n",
       "      <th>2014</th>\n",
       "      <td>54.07</td>\n",
       "    </tr>\n",
       "    <tr>\n",
       "      <th>2015</th>\n",
       "      <td>60.14</td>\n",
       "    </tr>\n",
       "    <tr>\n",
       "      <th>2016</th>\n",
       "      <td>26.15</td>\n",
       "    </tr>\n",
       "  </tbody>\n",
       "</table>\n",
       "<p>131 rows × 1 columns</p>\n",
       "</div>"
      ],
      "text/plain": [
       "                          all_sales\n",
       "platform year_of_release           \n",
       "3DS      2011                 63.20\n",
       "         2012                 51.36\n",
       "         2013                 56.57\n",
       "         2014                 43.76\n",
       "         2015                 27.78\n",
       "...                             ...\n",
       "XB       2008                  0.18\n",
       "XOne     2013                 18.96\n",
       "         2014                 54.07\n",
       "         2015                 60.14\n",
       "         2016                 26.15\n",
       "\n",
       "[131 rows x 1 columns]"
      ]
     },
     "execution_count": 30,
     "metadata": {},
     "output_type": "execute_result"
    }
   ],
   "source": [
    "#Создадим сводную таблицу, в которой будут продажи платформ по годам\n",
    "filtered_pivot = filtered_data.pivot_table(index=['platform','year_of_release'], values='all_sales', aggfunc='sum')\n",
    "filtered_pivot"
   ]
  },
  {
   "cell_type": "code",
   "execution_count": 31,
   "metadata": {
    "scrolled": false
   },
   "outputs": [
    {
     "data": {
      "image/png": "[encoded data removed]",
      "text/plain": [
       "<Figure size 432x288 with 1 Axes>"
      ]
     },
     "metadata": {
      "needs_background": "light"
     },
     "output_type": "display_data"
    },
    {
     "data": {
      "image/png": "[encoded data removed]",
      "text/plain": [
       "<Figure size 432x288 with 1 Axes>"
      ]
     },
     "metadata": {
      "needs_background": "light"
     },
     "output_type": "display_data"
    },
    {
     "data": {
      "image/png": "[encoded data removed]",
      "text/plain": [
       "<Figure size 432x288 with 1 Axes>"
      ]
     },
     "metadata": {
      "needs_background": "light"
     },
     "output_type": "display_data"
    },
    {
     "data": {
      "image/png": "[encoded data removed]",
      "text/plain": [
       "<Figure size 432x288 with 1 Axes>"
      ]
     },
     "metadata": {
      "needs_background": "light"
     },
     "output_type": "display_data"
    },
    {
     "data": {
      "image/png": "[encoded data removed]",
      "text/plain": [
       "<Figure size 432x288 with 1 Axes>"
      ]
     },
     "metadata": {
      "needs_background": "light"
     },
     "output_type": "display_data"
    }
   ],
   "source": [
    "#Напишем цикл для вывода графиков продаж консолей по годам\n",
    "top_platforms = ['PS2', 'X360', 'PS3', 'Wii', 'DS']\n",
    "for platform in top_platforms:\n",
    "    \n",
    "    filtered_pivot[filtered_pivot.index.get_level_values(0) == platform].plot(y='all_sales',kind='bar',\n",
    "                                                                              ylabel=\"Проданных копий(млн)\")"
   ]
  },
  {
   "cell_type": "markdown",
   "metadata": {},
   "source": [
    "**Выводы из графиков:**\n",
    "- Продажи PS2 резко упали с выходом PS3, или же с выходом так называемого нового поколения консолей(2006 год);\n",
    "- Продажи PS3 резко упали с выходом PS4, PS4 выходила в продажу в разных странах в период с конца 2013 - начало 2014, на графике виден резкий спад в 2014 году;\n",
    "- У XBOX 360 и PS3 графики очень схожи и не удивительно, ведь это главные конкуренты на рынке игровых консолей, также новое поколение под кодовым названием XBOX ONE выходила в продажу в разных странах в период с конца 2013 - начало 2014;\n",
    "- Резкий спад продаж игр на платформе \"Wii\" по графику произошел в 2011 году;\n",
    "- Резкий спад продаж игр на платформе \"DS\" по графику произошел в 2011 году."
   ]
  },
  {
   "cell_type": "markdown",
   "metadata": {},
   "source": [
    "#### Определение актуального периода"
   ]
  },
  {
   "cell_type": "markdown",
   "metadata": {},
   "source": [
    "Исходя из получившихся выводов и определия года затухания для каждой консоли, мы можем посчитать среднее количество лет, которое составляет жизненный цикл консоли.\n",
    "*Жизненные циклы ТОП-5 консолей:*\n",
    "- PS2 - 5 лет\n",
    "- X360 - 9 лет\n",
    "- PS3 - 8 лет\n",
    "- Wii - 5 лет\n",
    "- DS - 7 лет"
   ]
  },
  {
   "cell_type": "code",
   "execution_count": 32,
   "metadata": {},
   "outputs": [
    {
     "data": {
      "text/plain": [
       "6.8"
      ]
     },
     "execution_count": 32,
     "metadata": {},
     "output_type": "execute_result"
    }
   ],
   "source": [
    "#Посчитаем средний жизненный цикл\n",
    "(5 + 9 + 8 + 5 + 7) / 5"
   ]
  },
  {
   "cell_type": "markdown",
   "metadata": {},
   "source": [
    "Период жизненного цикла консоли составит `7 лет`. `Na_sales`"
   ]
  },
  {
   "cell_type": "markdown",
   "metadata": {},
   "source": [
    "На основании выводов, за актуальный период можно взять промежуток с 2014 года."
   ]
  },
  {
   "cell_type": "code",
   "execution_count": 33,
   "metadata": {},
   "outputs": [],
   "source": [
    "actual_data = data[data['year_of_release'] >= 2014]"
   ]
  },
  {
   "cell_type": "markdown",
   "metadata": {},
   "source": [
    "#### Отбор потенциально прибыльных платформ"
   ]
  },
  {
   "cell_type": "code",
   "execution_count": 34,
   "metadata": {
    "scrolled": false
   },
   "outputs": [
    {
     "data": {
      "text/html": [
       "<div>\n",
       "<style scoped>\n",
       "    .dataframe tbody tr th:only-of-type {\n",
       "        vertical-align: middle;\n",
       "    }\n",
       "\n",
       "    .dataframe tbody tr th {\n",
       "        vertical-align: top;\n",
       "    }\n",
       "\n",
       "    .dataframe thead th {\n",
       "        text-align: right;\n",
       "    }\n",
       "</style>\n",
       "<table border=\"1\" class=\"dataframe\">\n",
       "  <thead>\n",
       "    <tr style=\"text-align: right;\">\n",
       "      <th></th>\n",
       "      <th></th>\n",
       "      <th>all_sales</th>\n",
       "    </tr>\n",
       "    <tr>\n",
       "      <th>platform</th>\n",
       "      <th>year_of_release</th>\n",
       "      <th></th>\n",
       "    </tr>\n",
       "  </thead>\n",
       "  <tbody>\n",
       "    <tr>\n",
       "      <th rowspan=\"3\" valign=\"top\">3DS</th>\n",
       "      <th>2014</th>\n",
       "      <td>43.76</td>\n",
       "    </tr>\n",
       "    <tr>\n",
       "      <th>2015</th>\n",
       "      <td>27.78</td>\n",
       "    </tr>\n",
       "    <tr>\n",
       "      <th>2016</th>\n",
       "      <td>15.14</td>\n",
       "    </tr>\n",
       "    <tr>\n",
       "      <th rowspan=\"3\" valign=\"top\">PC</th>\n",
       "      <th>2014</th>\n",
       "      <td>13.28</td>\n",
       "    </tr>\n",
       "    <tr>\n",
       "      <th>2015</th>\n",
       "      <td>8.52</td>\n",
       "    </tr>\n",
       "    <tr>\n",
       "      <th>2016</th>\n",
       "      <td>5.25</td>\n",
       "    </tr>\n",
       "    <tr>\n",
       "      <th rowspan=\"3\" valign=\"top\">PS3</th>\n",
       "      <th>2014</th>\n",
       "      <td>47.76</td>\n",
       "    </tr>\n",
       "    <tr>\n",
       "      <th>2015</th>\n",
       "      <td>16.82</td>\n",
       "    </tr>\n",
       "    <tr>\n",
       "      <th>2016</th>\n",
       "      <td>3.60</td>\n",
       "    </tr>\n",
       "    <tr>\n",
       "      <th rowspan=\"3\" valign=\"top\">PS4</th>\n",
       "      <th>2014</th>\n",
       "      <td>100.00</td>\n",
       "    </tr>\n",
       "    <tr>\n",
       "      <th>2015</th>\n",
       "      <td>118.90</td>\n",
       "    </tr>\n",
       "    <tr>\n",
       "      <th>2016</th>\n",
       "      <td>69.25</td>\n",
       "    </tr>\n",
       "    <tr>\n",
       "      <th rowspan=\"2\" valign=\"top\">PSP</th>\n",
       "      <th>2014</th>\n",
       "      <td>0.24</td>\n",
       "    </tr>\n",
       "    <tr>\n",
       "      <th>2015</th>\n",
       "      <td>0.12</td>\n",
       "    </tr>\n",
       "    <tr>\n",
       "      <th rowspan=\"3\" valign=\"top\">PSV</th>\n",
       "      <th>2014</th>\n",
       "      <td>11.90</td>\n",
       "    </tr>\n",
       "    <tr>\n",
       "      <th>2015</th>\n",
       "      <td>6.25</td>\n",
       "    </tr>\n",
       "    <tr>\n",
       "      <th>2016</th>\n",
       "      <td>4.25</td>\n",
       "    </tr>\n",
       "    <tr>\n",
       "      <th rowspan=\"3\" valign=\"top\">Wii</th>\n",
       "      <th>2014</th>\n",
       "      <td>3.75</td>\n",
       "    </tr>\n",
       "    <tr>\n",
       "      <th>2015</th>\n",
       "      <td>1.14</td>\n",
       "    </tr>\n",
       "    <tr>\n",
       "      <th>2016</th>\n",
       "      <td>0.18</td>\n",
       "    </tr>\n",
       "    <tr>\n",
       "      <th rowspan=\"3\" valign=\"top\">WiiU</th>\n",
       "      <th>2014</th>\n",
       "      <td>22.03</td>\n",
       "    </tr>\n",
       "    <tr>\n",
       "      <th>2015</th>\n",
       "      <td>16.35</td>\n",
       "    </tr>\n",
       "    <tr>\n",
       "      <th>2016</th>\n",
       "      <td>4.60</td>\n",
       "    </tr>\n",
       "    <tr>\n",
       "      <th rowspan=\"3\" valign=\"top\">X360</th>\n",
       "      <th>2014</th>\n",
       "      <td>34.74</td>\n",
       "    </tr>\n",
       "    <tr>\n",
       "      <th>2015</th>\n",
       "      <td>11.96</td>\n",
       "    </tr>\n",
       "    <tr>\n",
       "      <th>2016</th>\n",
       "      <td>1.52</td>\n",
       "    </tr>\n",
       "    <tr>\n",
       "      <th rowspan=\"3\" valign=\"top\">XOne</th>\n",
       "      <th>2014</th>\n",
       "      <td>54.07</td>\n",
       "    </tr>\n",
       "    <tr>\n",
       "      <th>2015</th>\n",
       "      <td>60.14</td>\n",
       "    </tr>\n",
       "    <tr>\n",
       "      <th>2016</th>\n",
       "      <td>26.15</td>\n",
       "    </tr>\n",
       "  </tbody>\n",
       "</table>\n",
       "</div>"
      ],
      "text/plain": [
       "                          all_sales\n",
       "platform year_of_release           \n",
       "3DS      2014                 43.76\n",
       "         2015                 27.78\n",
       "         2016                 15.14\n",
       "PC       2014                 13.28\n",
       "         2015                  8.52\n",
       "         2016                  5.25\n",
       "PS3      2014                 47.76\n",
       "         2015                 16.82\n",
       "         2016                  3.60\n",
       "PS4      2014                100.00\n",
       "         2015                118.90\n",
       "         2016                 69.25\n",
       "PSP      2014                  0.24\n",
       "         2015                  0.12\n",
       "PSV      2014                 11.90\n",
       "         2015                  6.25\n",
       "         2016                  4.25\n",
       "Wii      2014                  3.75\n",
       "         2015                  1.14\n",
       "         2016                  0.18\n",
       "WiiU     2014                 22.03\n",
       "         2015                 16.35\n",
       "         2016                  4.60\n",
       "X360     2014                 34.74\n",
       "         2015                 11.96\n",
       "         2016                  1.52\n",
       "XOne     2014                 54.07\n",
       "         2015                 60.14\n",
       "         2016                 26.15"
      ]
     },
     "execution_count": 34,
     "metadata": {},
     "output_type": "execute_result"
    }
   ],
   "source": [
    "#Построим сводную таблицу по актуальным данным\n",
    "actual_pivot = actual_data.pivot_table(index=['platform','year_of_release'], values='all_sales', aggfunc='sum')\n",
    "actual_pivot"
   ]
  },
  {
   "cell_type": "code",
   "execution_count": 35,
   "metadata": {
    "scrolled": true
   },
   "outputs": [
    {
     "data": {
      "image/png": "[encoded data removed]",
      "text/plain": [
       "<Figure size 432x288 with 1 Axes>"
      ]
     },
     "metadata": {
      "needs_background": "light"
     },
     "output_type": "display_data"
    },
    {
     "data": {
      "image/png": "[encoded data removed]",
      "text/plain": [
       "<Figure size 432x288 with 1 Axes>"
      ]
     },
     "metadata": {
      "needs_background": "light"
     },
     "output_type": "display_data"
    },
    {
     "data": {
      "image/png": "[encoded data removed]",
      "text/plain": [
       "<Figure size 432x288 with 1 Axes>"
      ]
     },
     "metadata": {
      "needs_background": "light"
     },
     "output_type": "display_data"
    },
    {
     "data": {
      "image/png": "[encoded data removed]",
      "text/plain": [
       "<Figure size 432x288 with 1 Axes>"
      ]
     },
     "metadata": {
      "needs_background": "light"
     },
     "output_type": "display_data"
    },
    {
     "data": {
      "image/png": "[encoded data removed]",
      "text/plain": [
       "<Figure size 432x288 with 1 Axes>"
      ]
     },
     "metadata": {
      "needs_background": "light"
     },
     "output_type": "display_data"
    },
    {
     "data": {
      "image/png": "[encoded data removed]",
      "text/plain": [
       "<Figure size 432x288 with 1 Axes>"
      ]
     },
     "metadata": {
      "needs_background": "light"
     },
     "output_type": "display_data"
    },
    {
     "data": {
      "image/png": "[encoded data removed]",
      "text/plain": [
       "<Figure size 432x288 with 1 Axes>"
      ]
     },
     "metadata": {
      "needs_background": "light"
     },
     "output_type": "display_data"
    },
    {
     "data": {
      "image/png": "[encoded data removed]",
      "text/plain": [
       "<Figure size 432x288 with 1 Axes>"
      ]
     },
     "metadata": {
      "needs_background": "light"
     },
     "output_type": "display_data"
    },
    {
     "data": {
      "image/png": "[encoded data removed]",
      "text/plain": [
       "<Figure size 432x288 with 1 Axes>"
      ]
     },
     "metadata": {
      "needs_background": "light"
     },
     "output_type": "display_data"
    },
    {
     "data": {
      "image/png": "[encoded data removed]",
      "text/plain": [
       "<Figure size 432x288 with 1 Axes>"
      ]
     },
     "metadata": {
      "needs_background": "light"
     },
     "output_type": "display_data"
    }
   ],
   "source": [
    "#Цикл для построения столбчатой диаграммы по проданным копиям за актуальный промежуток времени\n",
    "for platform in actual_pivot.index.get_level_values(0).unique():\n",
    "    \n",
    "    actual_pivot[actual_pivot.index.get_level_values(0) == platform].plot(y='all_sales',kind='bar',\n",
    "                                                                          ylabel=\"Проданных копий(млн)\")"
   ]
  },
  {
   "cell_type": "markdown",
   "metadata": {},
   "source": [
    "**Выводы из полученных графиков:**\n",
    "- Для 3DS 2016 год будет является уже 6 годом ее существования, следовательно, платформа приближается к концу своего жизненного цикла, это также видно по подению продаж в 2015 году по сравнению с 2014. Данную платформу нельзя относить к потенциально прибыльным.\n",
    "- PC (или же настольный персональный компьютер) является игровой платформой, которая не устаревает в принципе, сама концепция компьютера не несет в себе политику замены устройства, достаточно менять комплектующие. Но исходя из отфильтрованных данных, видно тенденцию понижения покупок. График по актуальным данным также это подтверждает. Значит, данную платформу нельзя относить к потенциально прибыльным.\n",
    "- PS3 (относим к старому поколению). Продажи на данной консоли резко упали еще в 2014 году, в 2015 продажи просели более, чем в 2 раза. Данную платформу нельзя относить к потенциально прибыльным.\n",
    "- На графике PS4 видно, что в 2015 году продалось больше игр, по сравненю с предыдущем, также платформа новая, значит, данную платформу можно отнести к потенциально прибыльным.+\n",
    "- Удивительно, что в 2014 - 2015 годах выходили игры на платформу \"PSP\", ведь старт консоли приходится на 2004 год, хоть и продажи очень маленькие. Данная платформа не относится к потенциально прибыльным.\n",
    "- PSV вышла в 2011 года и в 2015, по сравнению с 2014, продажи упали в 2 раза. Данную платформу нельзя относить к потенциально прибыльным.\n",
    "- Wii вышла в 2006, жизненный цикл консоли уже прошел. Данную платформу нельзя относить к потенциально прибыльным.\n",
    "- WiiU вышла в 2012, в 2015 году, по сравнению с 2014, продажи упали не так сильно. Консоль будет актуальна еще 3 года. Данную платформу можно отнести к потенциально прибыльным. +\n",
    "- XBOX360 вышла в 2005, жизненный цикл консоли уже прошел. Данную платформу нельзя относить к потенциально прибыльным.\n",
    "- На графике XOne видно, что в 2015 году продалось больше игр, по сравненю с предыдущем, также платформа новая, значит, данную платформу можно отнести к потенциально прибыльным.+\n",
    "\n",
    "*В 2016 году объем проданных копий низкий, потому что данные за этот год не полные.*\n",
    "\n",
    "*Было отобранно 3 потенциально прибыльных платформы:*\n",
    "- PS4\n",
    "- WiiU\n",
    "- XOne"
   ]
  },
  {
   "cell_type": "markdown",
   "metadata": {},
   "source": [
    "#### «Ящик с усами» по глобальным продажам игр в разбивке по платформам"
   ]
  },
  {
   "cell_type": "code",
   "execution_count": 36,
   "metadata": {
    "scrolled": false
   },
   "outputs": [
    {
     "data": {
      "text/plain": [
       "Text(0.5, 1.0, 'Диаграмма размаха по глобальным продажам игр в разбивке по платформам')"
      ]
     },
     "execution_count": 36,
     "metadata": {},
     "output_type": "execute_result"
    },
    {
     "data": {
      "image/png": "[encoded data removed]",
      "text/plain": [
       "<Figure size 720x720 with 1 Axes>"
      ]
     },
     "metadata": {
      "needs_background": "light"
     },
     "output_type": "display_data"
    }
   ],
   "source": [
    "#Посмотрим на график с ограничем в 2млн копий\n",
    "boxplot = actual_data.boxplot(column='all_sales',\n",
    "                              by='platform', figsize=(10,10)).set_ylabel(\"Проданных копий (млн)\")\n",
    "plt.ylim(0, 2)\n",
    "plt.title('Диаграмма размаха по глобальным продажам игр в разбивке по платформам')\n"
   ]
  },
  {
   "cell_type": "code",
   "execution_count": 37,
   "metadata": {},
   "outputs": [
    {
     "name": "stdout",
     "output_type": "stream",
     "text": [
      "Количество выбросов для платформы PS4 : 53\n",
      "Количество выбросов для платформы 3DS : 27\n",
      "Количество выбросов для платформы XOne : 25\n",
      "Количество выбросов для платформы WiiU : 6\n",
      "Количество выбросов для платформы PS3 : 20\n",
      "Количество выбросов для платформы X360 : 10\n",
      "Количество выбросов для платформы PC : 14\n",
      "Количество выбросов для платформы Wii : 1\n",
      "Количество выбросов для платформы PSV : 20\n",
      "Количество выбросов для платформы PSP : 3\n"
     ]
    },
    {
     "data": {
      "text/html": [
       "<div>\n",
       "<style scoped>\n",
       "    .dataframe tbody tr th:only-of-type {\n",
       "        vertical-align: middle;\n",
       "    }\n",
       "\n",
       "    .dataframe tbody tr th {\n",
       "        vertical-align: top;\n",
       "    }\n",
       "\n",
       "    .dataframe thead th {\n",
       "        text-align: right;\n",
       "    }\n",
       "</style>\n",
       "<table border=\"1\" class=\"dataframe\">\n",
       "  <thead>\n",
       "    <tr style=\"text-align: right;\">\n",
       "      <th></th>\n",
       "      <th>PS4</th>\n",
       "      <th>3DS</th>\n",
       "      <th>XOne</th>\n",
       "      <th>WiiU</th>\n",
       "      <th>PS3</th>\n",
       "      <th>X360</th>\n",
       "      <th>PC</th>\n",
       "      <th>Wii</th>\n",
       "      <th>PSV</th>\n",
       "      <th>PSP</th>\n",
       "    </tr>\n",
       "  </thead>\n",
       "  <tbody>\n",
       "    <tr>\n",
       "      <th>count</th>\n",
       "      <td>376.000000</td>\n",
       "      <td>212.000000</td>\n",
       "      <td>228.000000</td>\n",
       "      <td>73.000000</td>\n",
       "      <td>219.000000</td>\n",
       "      <td>111.000000</td>\n",
       "      <td>151.000000</td>\n",
       "      <td>11.000000</td>\n",
       "      <td>295.000000</td>\n",
       "      <td>13.000000</td>\n",
       "    </tr>\n",
       "    <tr>\n",
       "      <th>mean</th>\n",
       "      <td>0.766356</td>\n",
       "      <td>0.408868</td>\n",
       "      <td>0.615614</td>\n",
       "      <td>0.588767</td>\n",
       "      <td>0.311324</td>\n",
       "      <td>0.434414</td>\n",
       "      <td>0.179139</td>\n",
       "      <td>0.460909</td>\n",
       "      <td>0.075932</td>\n",
       "      <td>0.027692</td>\n",
       "    </tr>\n",
       "    <tr>\n",
       "      <th>std</th>\n",
       "      <td>1.614969</td>\n",
       "      <td>1.188368</td>\n",
       "      <td>1.046513</td>\n",
       "      <td>1.161467</td>\n",
       "      <td>0.633059</td>\n",
       "      <td>0.628967</td>\n",
       "      <td>0.329359</td>\n",
       "      <td>0.625451</td>\n",
       "      <td>0.141591</td>\n",
       "      <td>0.027735</td>\n",
       "    </tr>\n",
       "    <tr>\n",
       "      <th>min</th>\n",
       "      <td>0.010000</td>\n",
       "      <td>0.010000</td>\n",
       "      <td>0.010000</td>\n",
       "      <td>0.010000</td>\n",
       "      <td>0.010000</td>\n",
       "      <td>0.010000</td>\n",
       "      <td>0.010000</td>\n",
       "      <td>0.010000</td>\n",
       "      <td>0.010000</td>\n",
       "      <td>0.010000</td>\n",
       "    </tr>\n",
       "    <tr>\n",
       "      <th>25%</th>\n",
       "      <td>0.057500</td>\n",
       "      <td>0.030000</td>\n",
       "      <td>0.050000</td>\n",
       "      <td>0.050000</td>\n",
       "      <td>0.040000</td>\n",
       "      <td>0.070000</td>\n",
       "      <td>0.020000</td>\n",
       "      <td>0.035000</td>\n",
       "      <td>0.020000</td>\n",
       "      <td>0.010000</td>\n",
       "    </tr>\n",
       "    <tr>\n",
       "      <th>50%</th>\n",
       "      <td>0.185000</td>\n",
       "      <td>0.090000</td>\n",
       "      <td>0.205000</td>\n",
       "      <td>0.190000</td>\n",
       "      <td>0.110000</td>\n",
       "      <td>0.180000</td>\n",
       "      <td>0.060000</td>\n",
       "      <td>0.180000</td>\n",
       "      <td>0.040000</td>\n",
       "      <td>0.020000</td>\n",
       "    </tr>\n",
       "    <tr>\n",
       "      <th>75%</th>\n",
       "      <td>0.690000</td>\n",
       "      <td>0.250000</td>\n",
       "      <td>0.632500</td>\n",
       "      <td>0.570000</td>\n",
       "      <td>0.325000</td>\n",
       "      <td>0.505000</td>\n",
       "      <td>0.200000</td>\n",
       "      <td>0.755000</td>\n",
       "      <td>0.090000</td>\n",
       "      <td>0.020000</td>\n",
       "    </tr>\n",
       "    <tr>\n",
       "      <th>max</th>\n",
       "      <td>14.630000</td>\n",
       "      <td>11.680000</td>\n",
       "      <td>7.390000</td>\n",
       "      <td>7.090000</td>\n",
       "      <td>5.270000</td>\n",
       "      <td>4.280000</td>\n",
       "      <td>3.050000</td>\n",
       "      <td>2.010000</td>\n",
       "      <td>1.960000</td>\n",
       "      <td>0.090000</td>\n",
       "    </tr>\n",
       "  </tbody>\n",
       "</table>\n",
       "</div>"
      ],
      "text/plain": [
       "              PS4         3DS        XOne       WiiU         PS3        X360  \\\n",
       "count  376.000000  212.000000  228.000000  73.000000  219.000000  111.000000   \n",
       "mean     0.766356    0.408868    0.615614   0.588767    0.311324    0.434414   \n",
       "std      1.614969    1.188368    1.046513   1.161467    0.633059    0.628967   \n",
       "min      0.010000    0.010000    0.010000   0.010000    0.010000    0.010000   \n",
       "25%      0.057500    0.030000    0.050000   0.050000    0.040000    0.070000   \n",
       "50%      0.185000    0.090000    0.205000   0.190000    0.110000    0.180000   \n",
       "75%      0.690000    0.250000    0.632500   0.570000    0.325000    0.505000   \n",
       "max     14.630000   11.680000    7.390000   7.090000    5.270000    4.280000   \n",
       "\n",
       "               PC        Wii         PSV        PSP  \n",
       "count  151.000000  11.000000  295.000000  13.000000  \n",
       "mean     0.179139   0.460909    0.075932   0.027692  \n",
       "std      0.329359   0.625451    0.141591   0.027735  \n",
       "min      0.010000   0.010000    0.010000   0.010000  \n",
       "25%      0.020000   0.035000    0.020000   0.010000  \n",
       "50%      0.060000   0.180000    0.040000   0.020000  \n",
       "75%      0.200000   0.755000    0.090000   0.020000  \n",
       "max      3.050000   2.010000    1.960000   0.090000  "
      ]
     },
     "execution_count": 37,
     "metadata": {},
     "output_type": "execute_result"
    }
   ],
   "source": [
    "#Создаем пустой датафрейм\n",
    "for_describing = pd.DataFrame()\n",
    "#Пишем цикл для заполнения датафреймами данными по каждой платформе\n",
    "for platform in actual_data['platform'].unique():\n",
    "    for_describing[platform] = actual_data.loc[actual_data['platform']==platform]['all_sales'].describe()\n",
    "    #Посчитаем также точное количество выбросов\n",
    "    iqr = for_describing[platform]['75%'] - for_describing[platform]['25%']\n",
    "    high_g = for_describing[platform]['75%'] + 1.5 * iqr\n",
    "    print('Количество выбросов для платформы',\n",
    "          platform,':', actual_data.loc[(actual_data['platform']==platform) & \n",
    "                                        (actual_data['all_sales'] > high_g)]['all_sales'].count())\n",
    "for_describing"
   ]
  },
  {
   "cell_type": "markdown",
   "metadata": {},
   "source": [
    "**Выводы по диаграмме размаха:**\n",
    "- Больше всего игр за актуальный период было выпущенно на платформах:\n",
    "    - PS4(376)\n",
    "    - PSV(295)\n",
    "    - XOne(228)\n",
    "    - 3DS(212)\n",
    "    - PS3 (219)\n",
    "- Больше всего игр, которые продались в аномально больших тиражах (рассматриваем внутри одной платформы) или же являются выбросами, продались на следующих платформах:\n",
    "    - PS4(53)\n",
    "    - 3DS(27)\n",
    "    - XOne(25)\n",
    "    - PSV(20)\n",
    "    - PS3(20)\n",
    "    \n",
    "- Лучше всего в среднем на следующих платформах игры продаются лучше всего (рассматриваем медианное значение, среднюю искажают выбросы):\n",
    "    - XOne (205 000 копий одной игры)\n",
    "    - WiiU (190 000 копий одной игры)\n",
    "    - PS4 (185 000 копий одной игры)\n",
    "    - Wii (180 000 копий одной игры)\n",
    "    - X360 (180 000 копий одной игры)"
   ]
  },
  {
   "cell_type": "markdown",
   "metadata": {},
   "source": [
    "#### Влияние отзывов пользователей и критиков на продажи"
   ]
  },
  {
   "cell_type": "markdown",
   "metadata": {},
   "source": [
    "Посмотрите, как влияют на продажи внутри одной популярной платформы отзывы пользователей и критиков. Постройте диаграмму рассеяния и посчитайте корреляцию между отзывами и продажами. Сформулируйте выводы."
   ]
  },
  {
   "cell_type": "code",
   "execution_count": 38,
   "metadata": {
    "scrolled": true
   },
   "outputs": [
    {
     "data": {
      "image/png": "[encoded data removed]",
      "text/plain": [
       "<Figure size 432x288 with 1 Axes>"
      ]
     },
     "metadata": {
      "needs_background": "light"
     },
     "output_type": "display_data"
    },
    {
     "data": {
      "image/png": "[encoded data removed]",
      "text/plain": [
       "<Figure size 432x288 with 1 Axes>"
      ]
     },
     "metadata": {
      "needs_background": "light"
     },
     "output_type": "display_data"
    },
    {
     "data": {
      "image/png": "[encoded data removed]",
      "text/plain": [
       "<Figure size 432x288 with 1 Axes>"
      ]
     },
     "metadata": {
      "needs_background": "light"
     },
     "output_type": "display_data"
    },
    {
     "data": {
      "image/png": "[encoded data removed]",
      "text/plain": [
       "<Figure size 432x288 with 1 Axes>"
      ]
     },
     "metadata": {
      "needs_background": "light"
     },
     "output_type": "display_data"
    },
    {
     "data": {
      "image/png": "[encoded data removed]",
      "text/plain": [
       "<Figure size 432x288 with 1 Axes>"
      ]
     },
     "metadata": {
      "needs_background": "light"
     },
     "output_type": "display_data"
    },
    {
     "data": {
      "image/png": "[encoded data removed]",
      "text/plain": [
       "<Figure size 432x288 with 1 Axes>"
      ]
     },
     "metadata": {
      "needs_background": "light"
     },
     "output_type": "display_data"
    },
    {
     "data": {
      "image/png": "[encoded data removed]",
      "text/plain": [
       "<Figure size 432x288 with 1 Axes>"
      ]
     },
     "metadata": {
      "needs_background": "light"
     },
     "output_type": "display_data"
    },
    {
     "data": {
      "image/png": "[encoded data removed]",
      "text/plain": [
       "<Figure size 432x288 with 1 Axes>"
      ]
     },
     "metadata": {
      "needs_background": "light"
     },
     "output_type": "display_data"
    },
    {
     "data": {
      "image/png": "[encoded data removed]",
      "text/plain": [
       "<Figure size 432x288 with 1 Axes>"
      ]
     },
     "metadata": {
      "needs_background": "light"
     },
     "output_type": "display_data"
    },
    {
     "data": {
      "image/png": "[encoded data removed]",
      "text/plain": [
       "<Figure size 432x288 with 1 Axes>"
      ]
     },
     "metadata": {
      "needs_background": "light"
     },
     "output_type": "display_data"
    }
   ],
   "source": [
    "#Посмотрим как вляют отзывы пользователей и критиков на потенциально прибыльных платформах,\n",
    "#также возьмем платформы с не самыми высокими продажами одной игры в среднем\n",
    "platforms = ['PS4', 'XOne', 'WiiU', 'PC', '3DS']\n",
    "for platform in platforms:\n",
    "    actual_data[actual_data['platform']==platform].plot(x='critic_score',\n",
    "                                                            y='all_sales', kind='scatter', alpha=0.4, title=platform)\n",
    "    actual_data[actual_data['platform']==platform].plot(x='user_score',\n",
    "                                                            y='all_sales', kind='scatter', alpha=0.4, title=platform) "
   ]
  },
  {
   "cell_type": "code",
   "execution_count": 39,
   "metadata": {
    "scrolled": true
   },
   "outputs": [
    {
     "name": "stdout",
     "output_type": "stream",
     "text": [
      "Корреляция между продажами на платформе PS4 и оценкой критиков составляет: 0.40266141068104083\n",
      "Корреляция между продажами на платформе PS4 и оценкой пользователей составляет: -0.040131589472697356\n",
      "----------------------------------\n",
      "Корреляция между продажами на платформе XOne и оценкой критиков составляет: 0.42867694370333226\n",
      "Корреляция между продажами на платформе XOne и оценкой пользователей составляет: -0.0703839280647581\n",
      "----------------------------------\n",
      "Корреляция между продажами на платформе WiiU и оценкой критиков составляет: 0.370201412480884\n",
      "Корреляция между продажами на платформе WiiU и оценкой пользователей составляет: 0.4079264579217078\n",
      "----------------------------------\n",
      "Корреляция между продажами на платформе PC и оценкой критиков составляет: 0.17463413769350036\n",
      "Корреляция между продажами на платформе PC и оценкой пользователей составляет: -0.07159665703472452\n",
      "----------------------------------\n",
      "Корреляция между продажами на платформе 3DS и оценкой критиков составляет: 0.31411749286905105\n",
      "Корреляция между продажами на платформе 3DS и оценкой пользователей составляет: 0.2151932718527028\n",
      "----------------------------------\n"
     ]
    }
   ],
   "source": [
    "for platform in platforms:  \n",
    "    print('Корреляция между продажами на платформе', platform, 'и оценкой критиков составляет:',\n",
    "         actual_data[actual_data['platform']==platform]['all_sales'].corr(filtered_data['critic_score']))\n",
    "    print('Корреляция между продажами на платформе', platform, 'и оценкой пользователей составляет:',\n",
    "         actual_data[actual_data['platform']==platform]['all_sales'].corr(filtered_data['user_score']))    \n",
    "    print('----------------------------------')"
   ]
  },
  {
   "cell_type": "markdown",
   "metadata": {},
   "source": [
    "**Выводы по полученным данным:**\n",
    "- На 4 из 5 платформах прослеживается схожая положительная корреляция - средняя составляет ~0.38. Это означает то, что чем выше отзыв критиков, тем выше число продаж игры, но так происходит не всегда, есть и другие факторы, которые влияют на продажи. Однако на платформе \"PC\" наблюдается очень малая положительная корреляция можно предположить, что так происходит из - за особенности данной платформы в том, что у нее по сути нету жизненного цикла, она присутсвует и актуальна на рынке всегда.\n",
    "- Между продажами и отзывами игроков прослеживается положительная корреляция на платформе WiiU - 0.4 и 3DS - 0.21. Также есть и другие факторы, которые влияют на продажи.\n",
    "- Между оценками игроков и продажами нет корреляции как на платформе PS4, XOne и PC на этих платформах отзывы игроков не влияют на общие продажи игр."
   ]
  },
  {
   "cell_type": "code",
   "execution_count": 40,
   "metadata": {},
   "outputs": [
    {
     "name": "stdout",
     "output_type": "stream",
     "text": [
      "В среднем критики оценивают игры от 66.0 баллов до 80.0 на платформе PS4\n",
      "В среднем игроки оценивают игры от 6.2 баллов до 7.875 на платформе PS4\n",
      "----------------------------------\n",
      "В среднем критики оценивают игры от 66.5 баллов до 83.0 на платформе XOne\n",
      "В среднем игроки оценивают игры от 5.8 баллов до 7.6 на платформе XOne\n",
      "----------------------------------\n",
      "В среднем критики оценивают игры от 66.5 баллов до 81.5 на платформе WiiU\n",
      "В среднем игроки оценивают игры от 6.5 баллов до 8.225 на платформе WiiU\n",
      "----------------------------------\n",
      "В среднем критики оценивают игры от 71.0 баллов до 83.25 на платформе PC\n",
      "В среднем игроки оценивают игры от 5.325 баллов до 7.6 на платформе PC\n",
      "----------------------------------\n",
      "В среднем критики оценивают игры от 63.5 баллов до 78.5 на платформе 3DS\n",
      "В среднем игроки оценивают игры от 6.5 баллов до 8.2 на платформе 3DS\n",
      "----------------------------------\n"
     ]
    }
   ],
   "source": [
    "for platform in platforms:\n",
    "\n",
    "    print('В среднем критики оценивают игры от',\n",
    "          actual_data[actual_data['platform'] == platform]['critic_score'].describe()['25%'],'баллов до',\n",
    "         actual_data[actual_data['platform'] == platform]['critic_score'].describe()['75%'], 'на платформе', platform)\n",
    "    print('В среднем игроки оценивают игры от',\n",
    "          actual_data[actual_data['platform'] == platform]['user_score'].describe()['25%'],'баллов до',\n",
    "         actual_data[actual_data['platform'] == platform]['user_score'].describe()['75%'], 'на платформе', platform)\n",
    "    print('----------------------------------')"
   ]
  },
  {
   "cell_type": "markdown",
   "metadata": {},
   "source": [
    "- Среди оценок игроков практически нет игр, оцененных выше 9 баллов.\n",
    "- Среди оценок критиков практически нет игр, оцененных выше 90 баллов."
   ]
  },
  {
   "cell_type": "markdown",
   "metadata": {},
   "source": [
    "#### Общее распределение игр по жанрам"
   ]
  },
  {
   "cell_type": "code",
   "execution_count": 41,
   "metadata": {
    "scrolled": false
   },
   "outputs": [
    {
     "data": {
      "text/html": [
       "<div>\n",
       "<style scoped>\n",
       "    .dataframe tbody tr th:only-of-type {\n",
       "        vertical-align: middle;\n",
       "    }\n",
       "\n",
       "    .dataframe tbody tr th {\n",
       "        vertical-align: top;\n",
       "    }\n",
       "\n",
       "    .dataframe thead tr th {\n",
       "        text-align: left;\n",
       "    }\n",
       "\n",
       "    .dataframe thead tr:last-of-type th {\n",
       "        text-align: right;\n",
       "    }\n",
       "</style>\n",
       "<table border=\"1\" class=\"dataframe\">\n",
       "  <thead>\n",
       "    <tr>\n",
       "      <th></th>\n",
       "      <th>median</th>\n",
       "      <th>count</th>\n",
       "    </tr>\n",
       "    <tr>\n",
       "      <th></th>\n",
       "      <th>all_sales</th>\n",
       "      <th>all_sales</th>\n",
       "    </tr>\n",
       "    <tr>\n",
       "      <th>genre</th>\n",
       "      <th></th>\n",
       "      <th></th>\n",
       "    </tr>\n",
       "  </thead>\n",
       "  <tbody>\n",
       "    <tr>\n",
       "      <th>Shooter</th>\n",
       "      <td>0.515</td>\n",
       "      <td>128</td>\n",
       "    </tr>\n",
       "    <tr>\n",
       "      <th>Sports</th>\n",
       "      <td>0.180</td>\n",
       "      <td>161</td>\n",
       "    </tr>\n",
       "    <tr>\n",
       "      <th>Platform</th>\n",
       "      <td>0.140</td>\n",
       "      <td>38</td>\n",
       "    </tr>\n",
       "    <tr>\n",
       "      <th>Fighting</th>\n",
       "      <td>0.125</td>\n",
       "      <td>60</td>\n",
       "    </tr>\n",
       "    <tr>\n",
       "      <th>Role-Playing</th>\n",
       "      <td>0.110</td>\n",
       "      <td>221</td>\n",
       "    </tr>\n",
       "    <tr>\n",
       "      <th>Simulation</th>\n",
       "      <td>0.100</td>\n",
       "      <td>44</td>\n",
       "    </tr>\n",
       "    <tr>\n",
       "      <th>Action</th>\n",
       "      <td>0.090</td>\n",
       "      <td>619</td>\n",
       "    </tr>\n",
       "    <tr>\n",
       "      <th>Misc</th>\n",
       "      <td>0.090</td>\n",
       "      <td>113</td>\n",
       "    </tr>\n",
       "    <tr>\n",
       "      <th>Racing</th>\n",
       "      <td>0.090</td>\n",
       "      <td>69</td>\n",
       "    </tr>\n",
       "    <tr>\n",
       "      <th>Strategy</th>\n",
       "      <td>0.060</td>\n",
       "      <td>37</td>\n",
       "    </tr>\n",
       "    <tr>\n",
       "      <th>Puzzle</th>\n",
       "      <td>0.045</td>\n",
       "      <td>14</td>\n",
       "    </tr>\n",
       "    <tr>\n",
       "      <th>Adventure</th>\n",
       "      <td>0.030</td>\n",
       "      <td>185</td>\n",
       "    </tr>\n",
       "  </tbody>\n",
       "</table>\n",
       "</div>"
      ],
      "text/plain": [
       "                median     count\n",
       "             all_sales all_sales\n",
       "genre                           \n",
       "Shooter          0.515       128\n",
       "Sports           0.180       161\n",
       "Platform         0.140        38\n",
       "Fighting         0.125        60\n",
       "Role-Playing     0.110       221\n",
       "Simulation       0.100        44\n",
       "Action           0.090       619\n",
       "Misc             0.090       113\n",
       "Racing           0.090        69\n",
       "Strategy         0.060        37\n",
       "Puzzle           0.045        14\n",
       "Adventure        0.030       185"
      ]
     },
     "execution_count": 41,
     "metadata": {},
     "output_type": "execute_result"
    }
   ],
   "source": [
    "genre_pivot = actual_data.pivot_table(index='genre',\n",
    "                                      values='all_sales',\n",
    "                                      aggfunc=['median', 'count']).sort_values(by=('median', 'all_sales'), ascending=False)\n",
    "genre_pivot"
   ]
  },
  {
   "cell_type": "code",
   "execution_count": 42,
   "metadata": {},
   "outputs": [
    {
     "data": {
      "text/plain": [
       "(0.0, 4.0)"
      ]
     },
     "execution_count": 42,
     "metadata": {},
     "output_type": "execute_result"
    },
    {
     "data": {
      "image/png": "[encoded data removed]",
      "text/plain": [
       "<Figure size 1080x1080 with 1 Axes>"
      ]
     },
     "metadata": {
      "needs_background": "light"
     },
     "output_type": "display_data"
    }
   ],
   "source": [
    "actual_data.boxplot('all_sales', by='genre', figsize=(15, 15))\n",
    "plt.ylim(0, 4)"
   ]
  },
  {
   "cell_type": "markdown",
   "metadata": {},
   "source": [
    "Жанр с самыми высокими продажами - Shooter\t(Шутер) - жанр компьютерных игр, в которых игровой процесс основывается на сражениях с использованием огнестрельного или любого другого оружия с видом от первого лица.\n",
    "\n",
    "Жанр с самыми низкими продажами - Adventure\t(приключенческая игра). Игры из этого жанра представляют из себя интерактивную историю с главным героем, управляемым игроком.\n",
    "\n",
    "Самые прибыльные жанры (в порядку убывания популярности):\n",
    "- Shooter (медианное значение - 515 000 проданный копий)\n",
    "- Sports (Спортивные игры) - жанр, в котором игра является имитацией существующих в действительности видов спорта(медианное значение - 180 000 проданный копий).\n",
    "- Platform (Платформер) - жанр компьютерных игр, в которых основу игрового процесса составляют прыжки по платформам, лазанье по лестницам, сбор предметов, необходимых для победы над врагами или завершения уровня(медианное значение - 140 000 проданный копий).\n",
    "- Fighting (Файтинг) - жанр компьютерных игр, имитирующих рукопашный бой малого числа персонажей в пределах ограниченного пространства, называемого ареной(медианное значение - 125 000 проданный копий).\n",
    "- Role-Playing (Ролевая игра) - жанр компьютерных игр, основанный на элементах игрового процесса традиционных настольных ролевых игр(медианное значение - 110 000 проданный копий).\n",
    "\n",
    "Отличительной особенностью в этих жанрах является то, что в них подразумевается взаимодействие с другими реальными игроками, как онлайн, так и на одном устройстве.\n"
   ]
  },
  {
   "cell_type": "markdown",
   "metadata": {},
   "source": [
    "### Портрет пользователя каждого региона"
   ]
  },
  {
   "cell_type": "markdown",
   "metadata": {},
   "source": [
    "#### Самые популярные платформы (топ-5)"
   ]
  },
  {
   "cell_type": "code",
   "execution_count": 43,
   "metadata": {},
   "outputs": [
    {
     "data": {
      "image/png": "[encoded data removed]",
      "text/plain": [
       "<Figure size 360x360 with 1 Axes>"
      ]
     },
     "metadata": {},
     "output_type": "display_data"
    }
   ],
   "source": [
    "#Создаем сводную таблицу для региона северной Америки\n",
    "na_platforms = actual_data.pivot_table(index='platform', values='na_sales',\n",
    "                                       aggfunc='sum').sort_values(by='na_sales', ascending=False)\n",
    "#Добавляем столбец, содержащий долю от всего объема проданных копий\n",
    "na_platforms[\"percentage_of_total\"] = round(na_platforms['na_sales'] / sum(na_platforms['na_sales']) * 100, 2)\n",
    "\n",
    "for platform in na_platforms.index:\n",
    "    if na_platforms.loc[platform][1] < 7.76:\n",
    "        na_platforms.rename(index={platform:'other_platforms'}, inplace=True)\n",
    "     \n",
    "na_platforms = na_platforms.groupby(level=0).sum()\n",
    "plot = na_platforms.plot.pie(y='percentage_of_total',\n",
    "                          title=\"Распределение продаж игр по платформам в регионе NA\", legend=False, \\\n",
    "                   autopct='%1.1f%%', \\\n",
    "                   shadow=False, startangle=0, figsize=(5,5))"
   ]
  },
  {
   "cell_type": "markdown",
   "metadata": {},
   "source": [
    "В регионе \"Северная Америка\" топ-5 платформ:\n",
    "- PS4\n",
    "- XOne\n",
    "- X360\n",
    "- 3DS\n",
    "- PS3\n",
    "\n",
    "Больше половины от всех проданных копий приходится на платформы нового поколения(PS4, XOne) - `63,3%`. `25,69%` предпочитают консоли старого поколения (XBOX 360, 3DS, PS3)"
   ]
  },
  {
   "cell_type": "code",
   "execution_count": 44,
   "metadata": {
    "scrolled": true
   },
   "outputs": [
    {
     "data": {
      "image/png": "[encoded data removed]",
      "text/plain": [
       "<Figure size 360x360 with 1 Axes>"
      ]
     },
     "metadata": {},
     "output_type": "display_data"
    }
   ],
   "source": [
    "#Создаем сводную таблицу для Европейского региона\n",
    "eu_platforms = actual_data.pivot_table(index='platform', values='eu_sales',\n",
    "                                       aggfunc='sum').sort_values(by='eu_sales', ascending=False)\n",
    "#Добавляем столбец, содержащий долю от всего объема проданных копий\n",
    "eu_platforms[\"percentage_of_total\"] = round(eu_platforms['eu_sales'] / sum(eu_platforms['eu_sales']) * 100, 2)\n",
    "\n",
    "for platform in eu_platforms.index:\n",
    "    if eu_platforms.loc[platform][1] < 5.96:\n",
    "        eu_platforms.rename(index={platform:'other_platforms'}, inplace=True)\n",
    "     \n",
    "eu_platforms = eu_platforms.groupby(level=0).sum()\n",
    "plot = eu_platforms.plot.pie(y='percentage_of_total',\n",
    "                          title=\"Распределение продаж игр по платформам в регионе EU\", legend=False, \\\n",
    "                   autopct='%1.1f%%', \\\n",
    "                   shadow=False, startangle=0, figsize=(5,5))"
   ]
  },
  {
   "cell_type": "markdown",
   "metadata": {},
   "source": [
    "В регионе \"Европа\" топ-5 платформ:\n",
    "- PS4\n",
    "- XOne\n",
    "- PS3\n",
    "- PC\n",
    "- 3DS\n",
    "\n",
    "Больше половины от всех проданных копий приходится на платформы нового поколения(PS4, XOne) - `65,11%`. `15,38%` предпочитают консоли старого поколения (3DS, PS3). Также `6,64%` проданных игр приходится на персональные компьютеры(PC).\n",
    "\n",
    "Можно сказать, что предпочтения в выборе платформы пользователя из Европы будут довольно схожими с пользователем из Северной Америки, за исключением того, что в Европе предпочитают PC, а в Северной Америке - XBOX 360."
   ]
  },
  {
   "cell_type": "code",
   "execution_count": 45,
   "metadata": {
    "scrolled": true
   },
   "outputs": [
    {
     "data": {
      "image/png": "[encoded data removed]",
      "text/plain": [
       "<Figure size 360x360 with 1 Axes>"
      ]
     },
     "metadata": {},
     "output_type": "display_data"
    }
   ],
   "source": [
    "#Создаем сводную таблицу для Японского региона\n",
    "jp_platforms = actual_data.pivot_table(index='platform', values='jp_sales',\n",
    "                                       aggfunc='sum').sort_values(by='jp_sales', ascending=False)\n",
    "#Добавляем столбец, содержащий долю от всего объема проданных копий\n",
    "jp_platforms[\"percentage_of_total\"] = round(jp_platforms['jp_sales'] / sum(jp_platforms['jp_sales']) * 100, 2)\n",
    "\n",
    "for platform in jp_platforms.index:\n",
    "    if jp_platforms.loc[platform][1] < 7.85:\n",
    "        jp_platforms.rename(index={platform:'other_platforms'}, inplace=True)\n",
    "     \n",
    "jp_platforms = jp_platforms.groupby(level=0).sum()\n",
    "plot = jp_platforms.plot.pie(y='percentage_of_total',\n",
    "                          title=\"Распределение продаж игр по платформам в регионе JP\", legend=False, \\\n",
    "                   autopct='%1.1f%%', \\\n",
    "                   shadow=False, startangle=0, figsize=(5,5))"
   ]
  },
  {
   "cell_type": "markdown",
   "metadata": {},
   "source": [
    "В регионе \"Япония\" топ-5 платформ:\n",
    "- 3DS\n",
    "- PS4\n",
    "- PSV\n",
    "- PS3\n",
    "- WiiU\n",
    "\n",
    "Отметим, что в данном регионе топ занимают консоли \"отечественного производства\", ведь все эти консоли были разработанны в Японии.\n",
    "\n",
    "Больше половины от всех проданных копий приходится на платформы старого поколения(3DS, PSV, PS3, WiiU) - `83,06%`. `16,12%` предпочитают консоли нового поколения (PS4).\n",
    "\n",
    "Можно сказать, что предпочтения в выборе платформы пользователя из Японии, достаточно самобытны и отличаются от вышеописанных регионов."
   ]
  },
  {
   "cell_type": "markdown",
   "metadata": {},
   "source": [
    "#### Самые популярные жанры (топ-5)"
   ]
  },
  {
   "cell_type": "code",
   "execution_count": 46,
   "metadata": {},
   "outputs": [
    {
     "data": {
      "image/png": "[encoded data removed]",
      "text/plain": [
       "<Figure size 360x360 with 1 Axes>"
      ]
     },
     "metadata": {},
     "output_type": "display_data"
    }
   ],
   "source": [
    "#Создаем сводную таблицу для региона северной Америки по жанру\n",
    "na_genres = actual_data.pivot_table(index='genre', values='na_sales',\n",
    "                                       aggfunc='sum').sort_values(by='na_sales', ascending=False)\n",
    "#Добавляем столбец, содержащий долю от всего объема проданных копий\n",
    "na_genres[\"percentage_of_total\"] = round(na_genres['na_sales'] / sum(na_genres['na_sales']) * 100, 2)\n",
    "\n",
    "for jenre in na_genres.index:\n",
    "    if na_genres.loc[jenre][1] < 5.30:\n",
    "        na_genres.rename(index={jenre:'other_jenre'}, inplace=True)\n",
    "     \n",
    "na_genres = na_genres.groupby(level=0).sum()\n",
    "plot = na_genres.plot.pie(y='percentage_of_total',\n",
    "                          title=\"Распределение продаж игр по жанру в регионе EU\", legend=False, \\\n",
    "                   autopct='%1.1f%%', \\\n",
    "                   shadow=False, startangle=0, figsize=(5,5))"
   ]
  },
  {
   "cell_type": "markdown",
   "metadata": {},
   "source": [
    "В регионе \"Северная Америка\" топ-5 жанров:\n",
    "- Shooter\n",
    "- Action\n",
    "- Sports\n",
    "- Role-Playing\n",
    "- Misc"
   ]
  },
  {
   "cell_type": "code",
   "execution_count": 47,
   "metadata": {
    "scrolled": false
   },
   "outputs": [
    {
     "data": {
      "image/png": "[encoded data removed]",
      "text/plain": [
       "<Figure size 360x360 with 1 Axes>"
      ]
     },
     "metadata": {},
     "output_type": "display_data"
    }
   ],
   "source": [
    "#Создаем сводную таблицу для региона Европы по жанрам\n",
    "eu_genres = actual_data.pivot_table(index='genre', values='eu_sales',\n",
    "                                       aggfunc='sum').sort_values(by='eu_sales', ascending=False)\n",
    "#Добавляем столбец, содержащий долю от всего объема проданных копий\n",
    "eu_genres[\"percentage_of_total\"] = round(eu_genres['eu_sales'] / sum(eu_genres['eu_sales']) * 100, 2)\n",
    "\n",
    "for jenre in eu_genres.index:\n",
    "    if eu_genres.loc[jenre][1] < 5.22:\n",
    "        eu_genres.rename(index={jenre:'other_jenre'}, inplace=True)\n",
    "     \n",
    "eu_genres = eu_genres.groupby(level=0).sum()\n",
    "plot = eu_genres.plot.pie(y='percentage_of_total',\n",
    "                          title=\"Распределение продаж игр по жанру в регионе EU\", legend=False, \\\n",
    "                   autopct='%1.1f%%', \\\n",
    "                   shadow=False, startangle=0, figsize=(5,5))"
   ]
  },
  {
   "cell_type": "markdown",
   "metadata": {},
   "source": [
    "В регионе \"Европа\" топ-5 жанров:\n",
    "- Action\n",
    "- Shooter\n",
    "- Sports\n",
    "- Role-Playing\n",
    "- Racing\n",
    "\n",
    "Топ - 4 жанра одинаковы, как для региона Северной Америки, так и для Европы (в скобках указаны значения для Северной Америки):\n",
    "- Action 27.58 (25.52)\n",
    "- Shooter 24.20 (27.81)\n",
    "- Sports 16.89 (16.23)\n",
    "- Role-Playing 10.42 (11.82)\n",
    "\n",
    "\n",
    "В Европе вместо жанра Misc игроки предпочитают жанр Racing."
   ]
  },
  {
   "cell_type": "code",
   "execution_count": 48,
   "metadata": {
    "scrolled": false
   },
   "outputs": [
    {
     "data": {
      "image/png": "[encoded data removed]",
      "text/plain": [
       "<Figure size 360x360 with 1 Axes>"
      ]
     },
     "metadata": {},
     "output_type": "display_data"
    }
   ],
   "source": [
    "#Создаем сводную таблицу для региона Японии по жанрам\n",
    "jp_genres = actual_data.pivot_table(index='genre', values='jp_sales',\n",
    "                                       aggfunc='sum').sort_values(by='jp_sales', ascending=False)\n",
    "#Добавляем столбец, содержащий долю от всего объема проданных копий\n",
    "jp_genres[\"percentage_of_total\"] = round(jp_genres['jp_sales'] / sum(jp_genres['jp_sales']) * 100, 2)\n",
    "\n",
    "\n",
    "for jenre in jp_genres.index:\n",
    "    if jp_genres.loc[jenre][1] < 5.23:\n",
    "        jp_genres.rename(index={jenre:'other_jenre'}, inplace=True)\n",
    "       \n",
    "jp_genres = jp_genres.groupby(level=0).sum()\n",
    "plot = jp_genres.plot.pie(y='percentage_of_total',\n",
    "                          title=\"Распределение продаж игр по жанру в регионе JP\", legend=False, \\\n",
    "                   autopct='%1.1f%%', \\\n",
    "                   shadow=False, startangle=0, figsize=(5,5))"
   ]
  },
  {
   "cell_type": "markdown",
   "metadata": {},
   "source": [
    "В регионе \"Япония\" топ-5 жанров:\n",
    "- Role-Playing\n",
    "- Action\t\n",
    "- Fighting\t\n",
    "- Misc\t\n",
    "- Shooter\n",
    "\n",
    "Жанровые предпочтения игроков данного рынка ближе к предпочтениям игроков из региона Европы.\n",
    "\n",
    "В отличие от двух регионов на первом месте по популярности стоит жанр Role-Playing. Можно предположить, что это из - за разницы в менталитете в этих регионах. Также первые игры жанра Role-Playing появились в Японии."
   ]
  },
  {
   "cell_type": "markdown",
   "metadata": {},
   "source": [
    "#### Влияние рейтинга ESRB на продажи"
   ]
  },
  {
   "cell_type": "code",
   "execution_count": 49,
   "metadata": {},
   "outputs": [
    {
     "data": {
      "image/png": "[encoded data removed]",
      "text/plain": [
       "<Figure size 360x360 with 1 Axes>"
      ]
     },
     "metadata": {},
     "output_type": "display_data"
    }
   ],
   "source": [
    "#Создаем сводную таблицу для региона северной Америки\n",
    "na_rating = actual_data.pivot_table(index='rating', values='na_sales',\n",
    "                                       aggfunc='sum').sort_values(by='na_sales', ascending=False)\n",
    "#Добавляем столбец, содержащий долю от всего объема проданных копий\n",
    "na_rating[\"percentage_of_total\"] = round(na_rating['na_sales'] / sum(na_rating['na_sales']) * 100, 2)\n",
    "na_rating\n",
    "\n",
    "plot = na_rating.plot.pie(y='percentage_of_total',\n",
    "                          title=\"Распределение продаж игр по возрастному рейтингу в регионе NA\", legend=False, \\\n",
    "                   autopct='%1.1f%%', \\\n",
    "                   shadow=True, startangle=0, figsize=(5,5))"
   ]
  },
  {
   "cell_type": "code",
   "execution_count": 50,
   "metadata": {
    "scrolled": true
   },
   "outputs": [
    {
     "data": {
      "image/png": "[encoded data removed]",
      "text/plain": [
       "<Figure size 360x360 with 1 Axes>"
      ]
     },
     "metadata": {},
     "output_type": "display_data"
    }
   ],
   "source": [
    "#Создаем сводную таблицу для региона северной Америки\n",
    "eu_rating = actual_data.pivot_table(index='rating', values='eu_sales',\n",
    "                                       aggfunc='sum').sort_values(by='eu_sales', ascending=False)\n",
    "#Добавляем столбец, содержащий долю от всего объема проданных копий\n",
    "eu_rating[\"percentage_of_total\"] = round(eu_rating['eu_sales'] / sum(eu_rating['eu_sales']) * 100, 2)\n",
    "plot = eu_rating.plot.pie(y='percentage_of_total',\n",
    "                          title=\"Распределение продаж игр по возрастному рейтингу в регионе NA\", legend=False, \\\n",
    "                   autopct='%1.1f%%', \\\n",
    "                   shadow=True, startangle=0, figsize=(5,5))"
   ]
  },
  {
   "cell_type": "code",
   "execution_count": 51,
   "metadata": {
    "scrolled": true
   },
   "outputs": [
    {
     "data": {
      "image/png": "[encoded data removed]",
      "text/plain": [
       "<Figure size 360x360 with 1 Axes>"
      ]
     },
     "metadata": {},
     "output_type": "display_data"
    }
   ],
   "source": [
    "#Создаем сводную таблицу для региона северной Америки\n",
    "jp_rating = actual_data.pivot_table(index='rating', values='jp_sales',\n",
    "                                       aggfunc='sum').sort_values(by='jp_sales', ascending=False)\n",
    "#Добавляем столбец, содержащий долю от всего объема проданных копий\n",
    "jp_rating[\"percentage_of_total\"] = round(jp_rating['jp_sales'] / sum(jp_rating['jp_sales']) * 100, 2)\n",
    "plot = jp_rating.plot.pie(y='percentage_of_total',\n",
    "                          title=\"Распределение продаж игр по возрастному рейтингу в регионе NA\", legend=False, \\\n",
    "                   autopct='%1.1f%%', \\\n",
    "                   shadow=True, startangle=0, figsize=(5,5))"
   ]
  },
  {
   "cell_type": "markdown",
   "metadata": {},
   "source": [
    "**Вывод:**\n",
    "- Рейтинги ESRB для регионов Северной Америки и Европы идентичны (Лучше всего продаются игры, которые имеют рейтинг «M» («Mature»)). Игры, которые продаются хуже всего имеют рейтинг ESRB - «E10+» («Everyone 10 and older»). Также для регионов Североной Америки и Европы приходится по 22.8% и 21.8%, соответсвенно, игр не имеющих рейтинг ESRB.\n",
    "- В Японии самая большая доля (61.1%) приходится на игры без рейтинга ESRB, вероятнее всего они имеют рейтинг CERO, который принят в Японии.\n",
    "- В Японии, напротив, игры с рейтингом «M» («Mature») находятся на предпоследнем месте по популярности. Игры с рейтингом «E10+» («Everyone 10 and older») также являются самыми непопулярными с долей от общих продаж - 4.79%.\n",
    "\n",
    "*Как итог - рейтинг ESRB влияет на продажи в отдельных регионах.*"
   ]
  },
  {
   "cell_type": "code",
   "execution_count": 52,
   "metadata": {},
   "outputs": [
    {
     "name": "stdout",
     "output_type": "stream",
     "text": [
      "0 0.0\n"
     ]
    },
    {
     "data": {
      "text/plain": [
       "NOTESRB    749\n",
       "T          271\n",
       "M          265\n",
       "E          219\n",
       "E10+       185\n",
       "Name: rating, dtype: int64"
      ]
     },
     "execution_count": 52,
     "metadata": {},
     "output_type": "execute_result"
    }
   ],
   "source": [
    "temp = actual_data.copy()\n",
    "print(temp.rating.isna().sum(), temp.rating.isna().sum()/len(temp))\n",
    "temp.rating.value_counts()"
   ]
  },
  {
   "cell_type": "markdown",
   "metadata": {},
   "source": [
    "### Проверка гипотез"
   ]
  },
  {
   "cell_type": "markdown",
   "metadata": {},
   "source": [
    "#### Проверка гипотезы: средние пользовательские рейтинги платформ Xbox One и PC одинаковые"
   ]
  },
  {
   "cell_type": "markdown",
   "metadata": {},
   "source": [
    "```\n",
    "H_0: Пользовательский рейтинг(user_score) платформы \"Xbox One\" = пользовательскому рейтингу (user_score) платформы \"PC\"\n",
    "H_a: Пользовательский рейтинг(user_score) платформы \"Xbox One\" ≠ пользовательскому рейтинг (user_score) платформы \"PC\"\n",
    "```"
   ]
  },
  {
   "cell_type": "markdown",
   "metadata": {},
   "source": [
    "Нулевая гипотеза была сформулированна исходя из условия гипотезы, которую требовалось проверить, то есть предполагалось, что средние пользовательские рейтинги платформ Xbox One и PC равны, соответственно, альтернативная гипотеза опровергает нулевую, обратным условием их неравенства."
   ]
  },
  {
   "cell_type": "code",
   "execution_count": 53,
   "metadata": {
    "scrolled": true
   },
   "outputs": [
    {
     "name": "stdout",
     "output_type": "stream",
     "text": [
      "0.10450507919348415\n",
      "Не получилось отвергнуть нулевую гипотезу\n"
     ]
    }
   ],
   "source": [
    "# Создадим генеральную совокупность пользовательских оценок игр на платформе XOne\n",
    "score_xone = actual_data.loc[actual_data['platform']=='XOne']['user_score'].dropna()\n",
    "\n",
    "# Создадим генеральную совокупность пользовательских оценок игр на платформе PC\n",
    "score_pc = actual_data.loc[actual_data['platform']=='PC']['user_score'].dropna()\n",
    "\n",
    "#Вызываем метод для проверки гипотезы\n",
    "results = st.ttest_ind(score_xone, score_pc)\n",
    "\n",
    "#Критический уровень статистической значимости задали значением в 5%\n",
    "alpha = 0.05\n",
    "\n",
    "#Выводим значения p-value на экран \n",
    "print(results.pvalue)\n",
    "\n",
    "#Условный оператор с выводом строки с ответом\n",
    "if results.pvalue < alpha:\n",
    "    print(\"Отвергаем нулевую гипотезу\")\n",
    "else:\n",
    "    print(\"Не получилось отвергнуть нулевую гипотезу\") "
   ]
  },
  {
   "cell_type": "markdown",
   "metadata": {},
   "source": [
    "*Отвергнуть нулевую гипотезу не удалось, значит, действительно, средние пользовательские рейтинги платформ Xbox One и PC одинаковые.*"
   ]
  },
  {
   "cell_type": "code",
   "execution_count": 54,
   "metadata": {
    "scrolled": true
   },
   "outputs": [
    {
     "data": {
      "text/html": [
       "<div>\n",
       "<style scoped>\n",
       "    .dataframe tbody tr th:only-of-type {\n",
       "        vertical-align: middle;\n",
       "    }\n",
       "\n",
       "    .dataframe tbody tr th {\n",
       "        vertical-align: top;\n",
       "    }\n",
       "\n",
       "    .dataframe thead th {\n",
       "        text-align: right;\n",
       "    }\n",
       "</style>\n",
       "<table border=\"1\" class=\"dataframe\">\n",
       "  <thead>\n",
       "    <tr style=\"text-align: right;\">\n",
       "      <th></th>\n",
       "      <th>user_score</th>\n",
       "    </tr>\n",
       "    <tr>\n",
       "      <th>platform</th>\n",
       "      <th></th>\n",
       "    </tr>\n",
       "  </thead>\n",
       "  <tbody>\n",
       "    <tr>\n",
       "      <th>PSV</th>\n",
       "      <td>7.656164</td>\n",
       "    </tr>\n",
       "    <tr>\n",
       "      <th>3DS</th>\n",
       "      <td>7.138182</td>\n",
       "    </tr>\n",
       "    <tr>\n",
       "      <th>WiiU</th>\n",
       "      <td>7.087500</td>\n",
       "    </tr>\n",
       "    <tr>\n",
       "      <th>PS4</th>\n",
       "      <td>6.828099</td>\n",
       "    </tr>\n",
       "    <tr>\n",
       "      <th>XOne</th>\n",
       "      <td>6.594545</td>\n",
       "    </tr>\n",
       "    <tr>\n",
       "      <th>Wii</th>\n",
       "      <td>6.350000</td>\n",
       "    </tr>\n",
       "    <tr>\n",
       "      <th>PC</th>\n",
       "      <td>6.298361</td>\n",
       "    </tr>\n",
       "    <tr>\n",
       "      <th>PS3</th>\n",
       "      <td>6.014286</td>\n",
       "    </tr>\n",
       "    <tr>\n",
       "      <th>X360</th>\n",
       "      <td>5.771084</td>\n",
       "    </tr>\n",
       "  </tbody>\n",
       "</table>\n",
       "</div>"
      ],
      "text/plain": [
       "          user_score\n",
       "platform            \n",
       "PSV         7.656164\n",
       "3DS         7.138182\n",
       "WiiU        7.087500\n",
       "PS4         6.828099\n",
       "XOne        6.594545\n",
       "Wii         6.350000\n",
       "PC          6.298361\n",
       "PS3         6.014286\n",
       "X360        5.771084"
      ]
     },
     "execution_count": 54,
     "metadata": {},
     "output_type": "execute_result"
    }
   ],
   "source": [
    "#Приведем в подтверждение сводную таблицу, чтобы проверить равенство средних пользовательских оценок\n",
    "actual_data.pivot_table(index='platform', values='user_score', aggfunc='mean').sort_values(by='user_score', ascending=False)"
   ]
  },
  {
   "cell_type": "markdown",
   "metadata": {},
   "source": [
    "6.59 у XOne и 6.30 у PC, действительно довольно схоже."
   ]
  },
  {
   "cell_type": "markdown",
   "metadata": {},
   "source": [
    "#### Средние пользовательские рейтинги жанров Action (англ. «действие», экшен-игры) и Sports (англ. «спортивные соревнования») разные."
   ]
  },
  {
   "cell_type": "markdown",
   "metadata": {},
   "source": [
    "\n",
    "```\n",
    "H_0: Пользовательский рейтинг(user_score) жанра \"Action\" = пользовательскому рейтингу(user_score) жанра Sports\n",
    "H_a: Пользовательский рейтинг(user_score) жанра \"Action\" ≠ пользовательскому рейтингу(user_score) жанра Sports\n",
    "```"
   ]
  },
  {
   "cell_type": "markdown",
   "metadata": {},
   "source": [
    "Нулевая гипотеза была сформулированна вопреки первоначальному условию о том, что средние пользовательские рейтинги жанров Action и Sports разные, в ней мы предполагаем , что их рейтинги одинаковые. Если нулевая гипотеза будет опровергнута, то гипотеза из условия или же - альтернативная, будет верна."
   ]
  },
  {
   "cell_type": "code",
   "execution_count": 55,
   "metadata": {},
   "outputs": [
    {
     "name": "stdout",
     "output_type": "stream",
     "text": [
      "2.8711147985105864e-19\n",
      "Отвергаем нулевую гипотезу\n"
     ]
    }
   ],
   "source": [
    "#Создадим генеральную совокупность пользовательских оценок игр жанра Action\n",
    "score_action = actual_data.loc[actual_data['genre']=='Action']['user_score'].dropna()\n",
    "\n",
    "#Создадим генеральную совокупность пользовательских оценок игр жанра Sports\n",
    "score_sports = actual_data.loc[actual_data['genre']=='Sports']['user_score'].dropna()\n",
    "\n",
    "#Вызываем метод для проверки гипотезы\n",
    "results = st.ttest_ind(score_action, score_sports)\n",
    "\n",
    "#Критический уровень статистической значимости задали значением в 5%\n",
    "alpha = 0.05\n",
    "\n",
    "#Выводим значения p-value на экран \n",
    "print(results.pvalue)\n",
    "\n",
    "#Условный оператор с выводом строки с ответом\n",
    "if results.pvalue < alpha:\n",
    "    print(\"Отвергаем нулевую гипотезу\")\n",
    "else:\n",
    "    print(\"Не получилось отвергнуть нулевую гипотезу\") "
   ]
  },
  {
   "cell_type": "markdown",
   "metadata": {},
   "source": [
    "*Нулевая гипотеза была отвергнута, следовательно, средние пользовательские рейтинги жанров Action и Sports разные.*"
   ]
  },
  {
   "cell_type": "code",
   "execution_count": 56,
   "metadata": {
    "scrolled": false
   },
   "outputs": [
    {
     "data": {
      "text/html": [
       "<div>\n",
       "<style scoped>\n",
       "    .dataframe tbody tr th:only-of-type {\n",
       "        vertical-align: middle;\n",
       "    }\n",
       "\n",
       "    .dataframe tbody tr th {\n",
       "        vertical-align: top;\n",
       "    }\n",
       "\n",
       "    .dataframe thead th {\n",
       "        text-align: right;\n",
       "    }\n",
       "</style>\n",
       "<table border=\"1\" class=\"dataframe\">\n",
       "  <thead>\n",
       "    <tr style=\"text-align: right;\">\n",
       "      <th></th>\n",
       "      <th>user_score</th>\n",
       "    </tr>\n",
       "    <tr>\n",
       "      <th>genre</th>\n",
       "      <th></th>\n",
       "    </tr>\n",
       "  </thead>\n",
       "  <tbody>\n",
       "    <tr>\n",
       "      <th>Puzzle</th>\n",
       "      <td>7.975000</td>\n",
       "    </tr>\n",
       "    <tr>\n",
       "      <th>Adventure</th>\n",
       "      <td>7.470213</td>\n",
       "    </tr>\n",
       "    <tr>\n",
       "      <th>Role-Playing</th>\n",
       "      <td>7.348571</td>\n",
       "    </tr>\n",
       "    <tr>\n",
       "      <th>Strategy</th>\n",
       "      <td>7.216667</td>\n",
       "    </tr>\n",
       "    <tr>\n",
       "      <th>Fighting</th>\n",
       "      <td>6.983784</td>\n",
       "    </tr>\n",
       "    <tr>\n",
       "      <th>Misc</th>\n",
       "      <td>6.968293</td>\n",
       "    </tr>\n",
       "    <tr>\n",
       "      <th>Action</th>\n",
       "      <td>6.760606</td>\n",
       "    </tr>\n",
       "    <tr>\n",
       "      <th>Platform</th>\n",
       "      <td>6.741379</td>\n",
       "    </tr>\n",
       "    <tr>\n",
       "      <th>Shooter</th>\n",
       "      <td>6.549074</td>\n",
       "    </tr>\n",
       "    <tr>\n",
       "      <th>Simulation</th>\n",
       "      <td>6.504167</td>\n",
       "    </tr>\n",
       "    <tr>\n",
       "      <th>Racing</th>\n",
       "      <td>6.327451</td>\n",
       "    </tr>\n",
       "    <tr>\n",
       "      <th>Sports</th>\n",
       "      <td>5.225197</td>\n",
       "    </tr>\n",
       "  </tbody>\n",
       "</table>\n",
       "</div>"
      ],
      "text/plain": [
       "              user_score\n",
       "genre                   \n",
       "Puzzle          7.975000\n",
       "Adventure       7.470213\n",
       "Role-Playing    7.348571\n",
       "Strategy        7.216667\n",
       "Fighting        6.983784\n",
       "Misc            6.968293\n",
       "Action          6.760606\n",
       "Platform        6.741379\n",
       "Shooter         6.549074\n",
       "Simulation      6.504167\n",
       "Racing          6.327451\n",
       "Sports          5.225197"
      ]
     },
     "execution_count": 56,
     "metadata": {},
     "output_type": "execute_result"
    }
   ],
   "source": [
    "#Приведем в подтверждение сводную таблицу, чтобы проверить неравенство средних пользовательских оценок\n",
    "actual_data.pivot_table(index='genre', values='user_score', aggfunc='mean').sort_values(by='user_score', ascending=False)"
   ]
  },
  {
   "cell_type": "markdown",
   "metadata": {},
   "source": [
    "6.76 у жанра Action и 5.23 у жанра Sports, у спортивных игр оценки в среднем ниже на 13%."
   ]
  },
  {
   "cell_type": "markdown",
   "metadata": {},
   "source": [
    "Для проверки гипотез был применен t-критерий Стьюдента.\n",
    "Мы применили данный критерий, потому что:\n",
    "- исходные данные имели нормальное распределение\n",
    "- предположили, что дисперсии сравниваемых групп равны"
   ]
  },
  {
   "cell_type": "markdown",
   "metadata": {},
   "source": [
    "### Общий вывод"
   ]
  },
  {
   "cell_type": "markdown",
   "metadata": {},
   "source": [
    "<h2>Общий вывод <a class=\"tocSkip\"> </h2>\n",
    "\n",
    "Исследование было завершено. В ходе него были проделанны следующие этапы:\n",
    "    \n",
    "- *Изучена общая информация о данных*\n",
    " \n",
    "    \n",
    "- *Обработали данные*\n",
    "    - удалили пропуски\n",
    "    - изменили типы данных\n",
    "    - проверили датасет на наличие дубликатов\n",
    "    - категоризация данных\n",
    "    - посчитали суммарные продажи во всех регионах\n",
    "    \n",
    "- *Исследовательский анализ данных*\n",
    "    - выявили актуальный период: промежуток с начала 2014 года - по конец 2016 года\n",
    "    - средний период жизненного цикла консоли составляет 7 лет\n",
    "    - было отобранно 3 потенциально прибыльных платформы:\n",
    "        - *PS4*\n",
    "        - *WiiU*\n",
    "        - *XOne*\n",
    "    - построили график «ящик с усами» по глобальным продажам игр в разбивке по платформам\n",
    "    - построили диаграмму рассеяния и посчитайте корреляцию между отзывами и продажами\n",
    "    - изучили общее распределение игр по жанрам\n",
    "    - выделили жанры с высокими и низкими продажами\n",
    "\n",
    "         \n",
    "- *Составили портрет пользователя каждого региона*\n",
    "    \n",
    "    \n",
    "- *Проверили следующие гипотезы:*\n",
    "   - Средние пользовательские рейтинги платформ Xbox One и PC одинаковые;\n",
    "   - Средние пользовательские рейтинги жанров Action (англ. «действие», экшен-игры) и Sports (англ. «спортивные соревнования») разные. "
   ]
  },
  {
   "cell_type": "markdown",
   "metadata": {},
   "source": [
    "**Предложения по распределению рекламного бюджета**\n",
    "\n",
    "</font><font color='Green'><b>*Северная Америка*</b></font><br>\n",
    "\n",
    "В данном регионе следует сделать акцент на игры двух платформ - это \"PS4\" и \"Xbox One\". Данные платформы за актуальный период имеют доли проданных копий игр в 63,3% и 25,69%, соответсвенно.\n",
    "\n",
    "В данном регионе популярны следующие жанры игр:\n",
    "- Shooter\n",
    "- Action\n",
    "- Sports\n",
    "- Role-Playing\n",
    "- Misc\n",
    "\n",
    "Лучше всего из этих жанров выделить игры жанра: \n",
    "- Shooter(одна игра в среднем расходится в тираже 515 000 проданных копий)\n",
    "- Sports (одна игра в среднем расходится в тираже 180 000 проданных копий)\n",
    "- Role-Playing (одна игра в среднем расходится в тираже 110 000  проданных копий)\n",
    "\n",
    "В регионе Северной Америки лучше продавать игры с имеющимся рейтингом ESRB, потому что потребителю он будет знаком больше, чем остальные рейтинги, стоит обратить особое внимание на игры рейтинга M и E. Игры с данным рейтингом за актуальный период имеют доли проданных копий в 33.9% и 17.9%, соответсвенно.\n",
    "\n",
    "При выборе игр на продажу стоит учитывать оценки критиков на обеих платформах.\n",
    "\n",
    "-------------------------------------------\n",
    "\n",
    "</font><font color='Green'><b>*Европа*</b></font><br>\n",
    "\n",
    "В данном регионе следует сделать акцент на игры двух платформ - это \"PS4\" и \"Xbox One\". Данные платформы за актуальный период имеют доли проданных копий игр в 48% и 17.1%, соответсвенно.\n",
    "\n",
    "В данном регионе популярны следующие жанры игр:\n",
    "- Action\n",
    "- Shooter\n",
    "- Sports\n",
    "- Role-Playing\n",
    "- Racing\n",
    "\n",
    "Лучше всего из этих жанров выделить игры жанра: \n",
    "- Shooter(одна игра в среднем расходится в тираже 515 000 проданных копий)\n",
    "- Sports (одна игра в среднем расходится в тираже 180 000 проданных копий)\n",
    "- Role-Playing (одна игра в среднем расходится в тираже 110 000  проданных копий)\n",
    "\n",
    "В регионе Европы лучше продавать игры с имеющимся рейтингом ESRB, потому что потребителю он будет знаком больше, чем остальные рейтинги, стоит обратить особое внимание на игры рейтинга M и E. Игры с данным рейтингом за актуальный период имеют доли проданных копий в 34.5% и 21.5%, соответсвенно.\n",
    "\n",
    "При выборе игр на продажу стоит учитывать оценки критиков на обеих платформах.\n",
    "\n",
    "\n",
    "-------------------------------------------\n",
    "\n",
    "\n",
    "\n",
    "</font><font color='Green'><b>*Япония*</b></font><br>\n",
    "\n",
    "В данном регионе следует сделать акцент на игры двух платформ - это \"PS4\" и \"WiiU\". Данные платформы за актуальный период имеют доли проданных копий игр в 16,1% и 7,9%, соответсвенно.\n",
    "\n",
    "В данном регионе популярны следующие жанры игр:\n",
    "- Role-Playing\n",
    "- Action\n",
    "- Fighting\n",
    "- Misc\n",
    "- Shooter\n",
    "\n",
    "Лучше всего из этих жанров выделить игры жанра: \n",
    "- Shooter(одна игра в среднем расходится в тираже 515 000 проданных копий)\n",
    "- Fighting(одна игра в среднем расходится в тираже 125 000  проданных копий)\n",
    "- Role-Playing (одна игра в среднем расходится в тираже 110 000  проданных копий)\n",
    "\n",
    "В регионе Японии рейтинг ESRB не будет иметь большого веса, так как 61.1% купленных видеоигр за актуальный период не имели его вовсе. Если же мы будем проводить аналогии с другими возрастными рейтингами то по ESRB они должны соответствовать Рейтингу \"T\" (Проданные игры с таким рейтином в Японии занимают долю в 15.9% от общего числа игр)\n",
    "\n",
    "При выборе игр на продажу стоит учитывать оценки критиков на обеих платформах. Также, если будет решено продавать игры на \"WiiU\", то стоит также учитывать отзывы игроков."
   ]
  }
 ],
 "metadata": {
  "ExecuteTimeLog": [
   {
    "duration": 1030,
    "start_time": "2022-11-14T12:08:30.825Z"
   },
   {
    "duration": 63,
    "start_time": "2022-11-14T12:09:34.855Z"
   },
   {
    "duration": 30,
    "start_time": "2022-11-14T12:09:48.994Z"
   },
   {
    "duration": 15,
    "start_time": "2022-11-14T12:10:50.461Z"
   },
   {
    "duration": 481,
    "start_time": "2022-11-14T12:14:35.759Z"
   },
   {
    "duration": 770,
    "start_time": "2022-11-14T12:14:50.156Z"
   },
   {
    "duration": 125,
    "start_time": "2022-11-14T12:16:28.497Z"
   },
   {
    "duration": 1776,
    "start_time": "2022-11-14T12:23:42.275Z"
   },
   {
    "duration": 987,
    "start_time": "2022-11-14T12:24:17.991Z"
   },
   {
    "duration": 5,
    "start_time": "2022-11-14T12:45:08.145Z"
   },
   {
    "duration": 16,
    "start_time": "2022-11-14T12:45:25.250Z"
   },
   {
    "duration": 15,
    "start_time": "2022-11-14T12:51:48.849Z"
   },
   {
    "duration": 15,
    "start_time": "2022-11-14T12:55:36.571Z"
   },
   {
    "duration": 26,
    "start_time": "2022-11-14T13:04:29.100Z"
   },
   {
    "duration": 7,
    "start_time": "2022-11-14T13:05:16.276Z"
   },
   {
    "duration": 11,
    "start_time": "2022-11-14T13:05:23.295Z"
   },
   {
    "duration": 99,
    "start_time": "2022-11-14T13:07:29.983Z"
   },
   {
    "duration": 12,
    "start_time": "2022-11-14T13:07:49.293Z"
   },
   {
    "duration": 96,
    "start_time": "2022-11-14T13:08:06.383Z"
   },
   {
    "duration": 24,
    "start_time": "2022-11-14T13:09:08.339Z"
   },
   {
    "duration": 30,
    "start_time": "2022-11-14T13:09:58.352Z"
   },
   {
    "duration": 33,
    "start_time": "2022-11-14T13:10:18.019Z"
   },
   {
    "duration": 23,
    "start_time": "2022-11-14T13:10:45.091Z"
   },
   {
    "duration": 9,
    "start_time": "2022-11-14T13:13:22.786Z"
   },
   {
    "duration": 12,
    "start_time": "2022-11-14T13:14:21.725Z"
   },
   {
    "duration": 1315,
    "start_time": "2022-11-14T13:23:06.323Z"
   },
   {
    "duration": 100,
    "start_time": "2022-11-14T13:23:18.848Z"
   },
   {
    "duration": 11,
    "start_time": "2022-11-14T13:24:01.005Z"
   },
   {
    "duration": 10,
    "start_time": "2022-11-14T13:24:57.550Z"
   },
   {
    "duration": 7,
    "start_time": "2022-11-14T13:25:27.958Z"
   },
   {
    "duration": 19,
    "start_time": "2022-11-14T13:26:22.992Z"
   },
   {
    "duration": 20,
    "start_time": "2022-11-14T13:26:38.119Z"
   },
   {
    "duration": 74,
    "start_time": "2022-11-14T13:38:01.378Z"
   },
   {
    "duration": 5,
    "start_time": "2022-11-14T13:43:37.327Z"
   },
   {
    "duration": 15,
    "start_time": "2022-11-14T13:45:13.105Z"
   },
   {
    "duration": 4,
    "start_time": "2022-11-14T13:45:40.672Z"
   },
   {
    "duration": 5,
    "start_time": "2022-11-14T13:50:42.252Z"
   },
   {
    "duration": 5,
    "start_time": "2022-11-14T13:57:24.490Z"
   },
   {
    "duration": 8,
    "start_time": "2022-11-14T17:47:12.440Z"
   },
   {
    "duration": 2,
    "start_time": "2022-11-14T17:47:55.027Z"
   },
   {
    "duration": 5,
    "start_time": "2022-11-14T17:48:00.169Z"
   },
   {
    "duration": 5,
    "start_time": "2022-11-14T17:48:08.088Z"
   },
   {
    "duration": 5,
    "start_time": "2022-11-14T17:50:43.186Z"
   },
   {
    "duration": 12,
    "start_time": "2022-11-14T17:51:21.290Z"
   },
   {
    "duration": 6,
    "start_time": "2022-11-14T17:55:50.734Z"
   },
   {
    "duration": 8,
    "start_time": "2022-11-14T17:57:30.769Z"
   },
   {
    "duration": 5,
    "start_time": "2022-11-14T19:34:14.825Z"
   },
   {
    "duration": 19,
    "start_time": "2022-11-14T19:34:20.821Z"
   },
   {
    "duration": 14,
    "start_time": "2022-11-14T19:34:34.592Z"
   },
   {
    "duration": 36,
    "start_time": "2022-11-14T19:39:27.937Z"
   },
   {
    "duration": 11,
    "start_time": "2022-11-14T19:55:04.480Z"
   },
   {
    "duration": 10,
    "start_time": "2022-11-14T19:55:49.221Z"
   },
   {
    "duration": 11,
    "start_time": "2022-11-14T19:55:58.655Z"
   },
   {
    "duration": 89,
    "start_time": "2022-11-14T19:57:39.121Z"
   },
   {
    "duration": 155,
    "start_time": "2022-11-14T19:58:09.810Z"
   },
   {
    "duration": 93,
    "start_time": "2022-11-14T19:58:18.513Z"
   },
   {
    "duration": 15,
    "start_time": "2022-11-14T19:58:33.321Z"
   },
   {
    "duration": 13,
    "start_time": "2022-11-14T19:58:46.305Z"
   },
   {
    "duration": 89,
    "start_time": "2022-11-14T20:01:35.971Z"
   },
   {
    "duration": 72,
    "start_time": "2022-11-14T20:02:22.092Z"
   },
   {
    "duration": 76,
    "start_time": "2022-11-14T20:03:21.845Z"
   },
   {
    "duration": 5,
    "start_time": "2022-11-14T20:12:34.861Z"
   },
   {
    "duration": 7,
    "start_time": "2022-11-14T20:17:03.218Z"
   },
   {
    "duration": 4,
    "start_time": "2022-11-14T20:17:08.174Z"
   },
   {
    "duration": 14,
    "start_time": "2022-11-14T20:17:10.288Z"
   },
   {
    "duration": 14,
    "start_time": "2022-11-14T20:18:03.960Z"
   },
   {
    "duration": 14,
    "start_time": "2022-11-14T20:18:10.185Z"
   },
   {
    "duration": 14,
    "start_time": "2022-11-14T20:18:26.507Z"
   },
   {
    "duration": 14,
    "start_time": "2022-11-14T20:18:36.505Z"
   },
   {
    "duration": 93716,
    "start_time": "2022-11-14T20:28:26.010Z"
   },
   {
    "duration": 876,
    "start_time": "2022-11-15T19:31:34.259Z"
   },
   {
    "duration": 90,
    "start_time": "2022-11-15T19:31:35.137Z"
   },
   {
    "duration": 13,
    "start_time": "2022-11-15T19:31:35.229Z"
   },
   {
    "duration": 19,
    "start_time": "2022-11-15T19:31:35.244Z"
   },
   {
    "duration": 761,
    "start_time": "2022-11-15T19:31:35.264Z"
   },
   {
    "duration": 15,
    "start_time": "2022-11-15T19:31:36.027Z"
   },
   {
    "duration": 13,
    "start_time": "2022-11-15T19:31:36.043Z"
   },
   {
    "duration": 20,
    "start_time": "2022-11-15T19:31:36.058Z"
   },
   {
    "duration": 15,
    "start_time": "2022-11-15T19:31:36.080Z"
   },
   {
    "duration": 5,
    "start_time": "2022-11-15T19:31:36.097Z"
   },
   {
    "duration": 13,
    "start_time": "2022-11-15T19:31:36.103Z"
   },
   {
    "duration": 22,
    "start_time": "2022-11-15T19:31:36.118Z"
   },
   {
    "duration": 106,
    "start_time": "2022-11-15T19:31:36.141Z"
   },
   {
    "duration": 5,
    "start_time": "2022-11-15T19:31:36.249Z"
   },
   {
    "duration": 32,
    "start_time": "2022-11-15T19:31:36.256Z"
   },
   {
    "duration": 3,
    "start_time": "2022-11-15T19:31:36.289Z"
   },
   {
    "duration": 9,
    "start_time": "2022-11-15T19:31:36.293Z"
   },
   {
    "duration": 9,
    "start_time": "2022-11-15T19:31:36.303Z"
   },
   {
    "duration": 6,
    "start_time": "2022-11-15T19:31:36.314Z"
   },
   {
    "duration": 8,
    "start_time": "2022-11-15T19:31:36.321Z"
   },
   {
    "duration": 13,
    "start_time": "2022-11-15T19:31:36.330Z"
   },
   {
    "duration": 4,
    "start_time": "2022-11-15T19:31:36.345Z"
   },
   {
    "duration": 31,
    "start_time": "2022-11-15T19:31:36.351Z"
   },
   {
    "duration": 34,
    "start_time": "2022-11-15T19:31:36.383Z"
   },
   {
    "duration": 8,
    "start_time": "2022-11-15T19:31:36.419Z"
   },
   {
    "duration": 121,
    "start_time": "2022-11-15T19:31:36.429Z"
   },
   {
    "duration": 5,
    "start_time": "2022-11-15T19:31:36.552Z"
   },
   {
    "duration": 29,
    "start_time": "2022-11-15T19:31:36.559Z"
   },
   {
    "duration": 44813,
    "start_time": "2022-11-15T19:31:36.590Z"
   },
   {
    "duration": 21,
    "start_time": "2022-11-15T19:32:21.405Z"
   },
   {
    "duration": 19,
    "start_time": "2022-11-15T19:32:50.630Z"
   },
   {
    "duration": 19,
    "start_time": "2022-11-15T19:33:14.553Z"
   },
   {
    "duration": 27,
    "start_time": "2022-11-15T19:34:20.305Z"
   },
   {
    "duration": 27,
    "start_time": "2022-11-15T19:35:02.878Z"
   },
   {
    "duration": 100618,
    "start_time": "2022-11-15T19:35:49.219Z"
   },
   {
    "duration": 4751,
    "start_time": "2022-11-15T19:39:11.476Z"
   },
   {
    "duration": 14,
    "start_time": "2022-11-15T19:40:13.974Z"
   },
   {
    "duration": 2002,
    "start_time": "2022-11-15T19:40:17.061Z"
   },
   {
    "duration": 574,
    "start_time": "2022-11-15T19:40:37.518Z"
   },
   {
    "duration": 127,
    "start_time": "2022-11-15T19:41:00.709Z"
   },
   {
    "duration": 68,
    "start_time": "2022-11-15T19:41:27.269Z"
   },
   {
    "duration": 28,
    "start_time": "2022-11-15T19:41:40.334Z"
   },
   {
    "duration": 143,
    "start_time": "2022-11-15T19:42:00.464Z"
   },
   {
    "duration": 2020,
    "start_time": "2022-11-15T19:42:22.710Z"
   },
   {
    "duration": 166,
    "start_time": "2022-11-15T19:43:43.786Z"
   },
   {
    "duration": 7,
    "start_time": "2022-11-15T19:44:30.857Z"
   },
   {
    "duration": 1045,
    "start_time": "2022-11-15T19:44:39.425Z"
   },
   {
    "duration": 4,
    "start_time": "2022-11-15T19:46:26.210Z"
   },
   {
    "duration": 171,
    "start_time": "2022-11-15T19:47:04.019Z"
   },
   {
    "duration": 725,
    "start_time": "2022-11-15T19:49:42.630Z"
   },
   {
    "duration": 1309,
    "start_time": "2022-11-15T19:50:15.398Z"
   },
   {
    "duration": 14,
    "start_time": "2022-11-15T19:52:45.769Z"
   },
   {
    "duration": 16,
    "start_time": "2022-11-15T19:53:24.340Z"
   },
   {
    "duration": 9,
    "start_time": "2022-11-15T19:54:12.841Z"
   },
   {
    "duration": 24,
    "start_time": "2022-11-15T19:55:09.281Z"
   },
   {
    "duration": 3,
    "start_time": "2022-11-15T20:31:23.811Z"
   },
   {
    "duration": 66,
    "start_time": "2022-11-15T20:36:48.308Z"
   },
   {
    "duration": 4,
    "start_time": "2022-11-15T20:37:08.205Z"
   },
   {
    "duration": 19,
    "start_time": "2022-11-15T20:38:43.892Z"
   },
   {
    "duration": 16,
    "start_time": "2022-11-15T20:38:48.630Z"
   },
   {
    "duration": 18544,
    "start_time": "2022-11-15T20:39:51.817Z"
   },
   {
    "duration": 2413,
    "start_time": "2022-11-15T20:40:26.940Z"
   },
   {
    "duration": 1048,
    "start_time": "2022-11-15T20:41:09.073Z"
   },
   {
    "duration": 9,
    "start_time": "2022-11-15T20:46:34.260Z"
   },
   {
    "duration": 10,
    "start_time": "2022-11-15T20:47:15.421Z"
   },
   {
    "duration": 210,
    "start_time": "2022-11-15T20:47:23.229Z"
   },
   {
    "duration": 11,
    "start_time": "2022-11-15T20:54:47.789Z"
   },
   {
    "duration": 48,
    "start_time": "2022-11-17T12:38:54.547Z"
   },
   {
    "duration": 9,
    "start_time": "2022-11-17T12:40:57.689Z"
   },
   {
    "duration": 852,
    "start_time": "2022-11-17T12:41:13.649Z"
   },
   {
    "duration": 93,
    "start_time": "2022-11-17T12:41:14.503Z"
   },
   {
    "duration": 17,
    "start_time": "2022-11-17T12:41:14.598Z"
   },
   {
    "duration": 24,
    "start_time": "2022-11-17T12:41:14.617Z"
   },
   {
    "duration": 842,
    "start_time": "2022-11-17T12:41:14.642Z"
   },
   {
    "duration": 18,
    "start_time": "2022-11-17T12:41:15.486Z"
   },
   {
    "duration": 37,
    "start_time": "2022-11-17T12:41:15.505Z"
   },
   {
    "duration": 4,
    "start_time": "2022-11-17T12:41:15.544Z"
   },
   {
    "duration": 18,
    "start_time": "2022-11-17T12:41:15.550Z"
   },
   {
    "duration": 5,
    "start_time": "2022-11-17T12:41:15.571Z"
   },
   {
    "duration": 7,
    "start_time": "2022-11-17T12:41:15.578Z"
   },
   {
    "duration": 68,
    "start_time": "2022-11-17T12:41:15.587Z"
   },
   {
    "duration": 119,
    "start_time": "2022-11-17T12:41:15.657Z"
   },
   {
    "duration": 6,
    "start_time": "2022-11-17T12:41:15.778Z"
   },
   {
    "duration": 26,
    "start_time": "2022-11-17T12:41:15.786Z"
   },
   {
    "duration": 25,
    "start_time": "2022-11-17T12:41:15.815Z"
   },
   {
    "duration": 20,
    "start_time": "2022-11-17T12:41:15.842Z"
   },
   {
    "duration": 9,
    "start_time": "2022-11-17T12:41:15.865Z"
   },
   {
    "duration": 15,
    "start_time": "2022-11-17T12:41:15.875Z"
   },
   {
    "duration": 6,
    "start_time": "2022-11-17T12:41:15.891Z"
   },
   {
    "duration": 15,
    "start_time": "2022-11-17T12:41:15.899Z"
   },
   {
    "duration": 25,
    "start_time": "2022-11-17T12:41:15.916Z"
   },
   {
    "duration": 19,
    "start_time": "2022-11-17T12:41:15.943Z"
   },
   {
    "duration": 36,
    "start_time": "2022-11-17T12:41:15.964Z"
   },
   {
    "duration": 9,
    "start_time": "2022-11-17T12:41:16.002Z"
   },
   {
    "duration": 146,
    "start_time": "2022-11-17T12:41:16.012Z"
   },
   {
    "duration": 5,
    "start_time": "2022-11-17T12:41:16.159Z"
   },
   {
    "duration": 16,
    "start_time": "2022-11-17T12:41:16.167Z"
   },
   {
    "duration": 52,
    "start_time": "2022-11-17T12:41:16.185Z"
   },
   {
    "duration": 989,
    "start_time": "2022-11-17T12:41:16.239Z"
   },
   {
    "duration": 9,
    "start_time": "2022-11-17T12:41:17.230Z"
   },
   {
    "duration": 7,
    "start_time": "2022-11-17T12:41:17.241Z"
   },
   {
    "duration": 27,
    "start_time": "2022-11-17T12:41:17.250Z"
   },
   {
    "duration": 1278,
    "start_time": "2022-11-17T12:41:17.279Z"
   },
   {
    "duration": 283,
    "start_time": "2022-11-17T12:41:18.559Z"
   },
   {
    "duration": 280,
    "start_time": "2022-11-17T12:42:12.882Z"
   },
   {
    "duration": 107,
    "start_time": "2022-11-17T12:42:20.819Z"
   },
   {
    "duration": 82,
    "start_time": "2022-11-17T12:42:53.336Z"
   },
   {
    "duration": 106,
    "start_time": "2022-11-17T12:43:01.065Z"
   },
   {
    "duration": 150,
    "start_time": "2022-11-17T12:44:13.749Z"
   },
   {
    "duration": 142,
    "start_time": "2022-11-17T12:44:23.877Z"
   },
   {
    "duration": 154,
    "start_time": "2022-11-17T12:44:51.678Z"
   },
   {
    "duration": 337,
    "start_time": "2022-11-17T12:46:05.231Z"
   },
   {
    "duration": 119,
    "start_time": "2022-11-17T12:46:59.056Z"
   },
   {
    "duration": 402,
    "start_time": "2022-11-17T12:47:03.966Z"
   },
   {
    "duration": 329,
    "start_time": "2022-11-17T12:48:55.417Z"
   },
   {
    "duration": 309,
    "start_time": "2022-11-17T12:49:08.101Z"
   },
   {
    "duration": 1274,
    "start_time": "2022-11-17T13:00:28.650Z"
   },
   {
    "duration": 1428,
    "start_time": "2022-11-17T13:01:03.376Z"
   },
   {
    "duration": 1196,
    "start_time": "2022-11-17T13:01:14.713Z"
   },
   {
    "duration": 988,
    "start_time": "2022-11-17T13:02:08.819Z"
   },
   {
    "duration": 5,
    "start_time": "2022-11-17T13:07:11.093Z"
   },
   {
    "duration": 5,
    "start_time": "2022-11-17T13:07:22.031Z"
   },
   {
    "duration": 5,
    "start_time": "2022-11-17T13:07:45.517Z"
   },
   {
    "duration": 263,
    "start_time": "2022-11-17T13:08:07.245Z"
   },
   {
    "duration": 9,
    "start_time": "2022-11-17T13:16:22.432Z"
   },
   {
    "duration": 140,
    "start_time": "2022-11-17T13:17:52.399Z"
   },
   {
    "duration": 275,
    "start_time": "2022-11-17T13:18:42.415Z"
   },
   {
    "duration": 248,
    "start_time": "2022-11-17T13:18:53.591Z"
   },
   {
    "duration": 168,
    "start_time": "2022-11-17T13:19:11.344Z"
   },
   {
    "duration": 176,
    "start_time": "2022-11-17T13:19:53.561Z"
   },
   {
    "duration": 158,
    "start_time": "2022-11-17T13:20:06.681Z"
   },
   {
    "duration": 170,
    "start_time": "2022-11-17T13:20:19.304Z"
   },
   {
    "duration": 173,
    "start_time": "2022-11-17T13:20:32.825Z"
   },
   {
    "duration": 144,
    "start_time": "2022-11-17T13:20:46.769Z"
   },
   {
    "duration": 166,
    "start_time": "2022-11-17T13:21:19.241Z"
   },
   {
    "duration": 165,
    "start_time": "2022-11-17T13:21:39.675Z"
   },
   {
    "duration": 132,
    "start_time": "2022-11-17T13:30:21.074Z"
   },
   {
    "duration": 160,
    "start_time": "2022-11-17T13:30:49.195Z"
   },
   {
    "duration": 153,
    "start_time": "2022-11-17T13:31:02.017Z"
   },
   {
    "duration": 229,
    "start_time": "2022-11-17T13:31:38.531Z"
   },
   {
    "duration": 158,
    "start_time": "2022-11-17T13:31:52.290Z"
   },
   {
    "duration": 191,
    "start_time": "2022-11-17T13:32:29.084Z"
   },
   {
    "duration": 152,
    "start_time": "2022-11-17T13:32:37.597Z"
   },
   {
    "duration": 305,
    "start_time": "2022-11-17T13:33:12.215Z"
   },
   {
    "duration": 260,
    "start_time": "2022-11-17T13:33:22.116Z"
   },
   {
    "duration": 255,
    "start_time": "2022-11-17T13:33:39.652Z"
   },
   {
    "duration": 259,
    "start_time": "2022-11-17T13:33:43.771Z"
   },
   {
    "duration": 254,
    "start_time": "2022-11-17T13:34:10.128Z"
   },
   {
    "duration": 842,
    "start_time": "2022-11-17T13:35:23.919Z"
   },
   {
    "duration": 976,
    "start_time": "2022-11-17T13:36:03.601Z"
   },
   {
    "duration": 12,
    "start_time": "2022-11-17T13:40:04.771Z"
   },
   {
    "duration": 19,
    "start_time": "2022-11-17T13:41:06.274Z"
   },
   {
    "duration": 28,
    "start_time": "2022-11-17T13:50:45.626Z"
   },
   {
    "duration": 60,
    "start_time": "2022-11-17T13:58:27.674Z"
   },
   {
    "duration": 81,
    "start_time": "2022-11-17T13:59:17.729Z"
   },
   {
    "duration": 32,
    "start_time": "2022-11-17T14:00:34.453Z"
   },
   {
    "duration": 3,
    "start_time": "2022-11-17T14:10:26.657Z"
   },
   {
    "duration": 13,
    "start_time": "2022-11-17T14:10:30.880Z"
   },
   {
    "duration": 29,
    "start_time": "2022-11-17T14:11:04.827Z"
   },
   {
    "duration": 28,
    "start_time": "2022-11-17T14:11:46.163Z"
   },
   {
    "duration": 28,
    "start_time": "2022-11-17T14:14:28.259Z"
   },
   {
    "duration": 52,
    "start_time": "2022-11-17T14:15:43.369Z"
   },
   {
    "duration": 53,
    "start_time": "2022-11-17T14:15:55.525Z"
   },
   {
    "duration": 315,
    "start_time": "2022-11-17T14:28:55.177Z"
   },
   {
    "duration": 929,
    "start_time": "2022-11-17T14:29:20.705Z"
   },
   {
    "duration": 50,
    "start_time": "2022-11-17T14:29:52.999Z"
   },
   {
    "duration": 20,
    "start_time": "2022-11-17T14:30:10.907Z"
   },
   {
    "duration": 10,
    "start_time": "2022-11-17T14:32:11.976Z"
   },
   {
    "duration": 73,
    "start_time": "2022-11-17T14:32:17.400Z"
   },
   {
    "duration": 18,
    "start_time": "2022-11-17T14:32:25.526Z"
   },
   {
    "duration": 18,
    "start_time": "2022-11-17T14:32:40.120Z"
   },
   {
    "duration": 18,
    "start_time": "2022-11-17T14:32:49.563Z"
   },
   {
    "duration": 15,
    "start_time": "2022-11-17T14:33:00.818Z"
   },
   {
    "duration": 70,
    "start_time": "2022-11-17T16:23:55.864Z"
   },
   {
    "duration": 12,
    "start_time": "2022-11-17T16:24:00.928Z"
   },
   {
    "duration": 11,
    "start_time": "2022-11-17T16:44:06.309Z"
   },
   {
    "duration": 13,
    "start_time": "2022-11-17T16:44:22.390Z"
   },
   {
    "duration": 16,
    "start_time": "2022-11-17T16:44:44.614Z"
   },
   {
    "duration": 16,
    "start_time": "2022-11-17T16:44:47.991Z"
   },
   {
    "duration": 12,
    "start_time": "2022-11-17T16:45:21.320Z"
   },
   {
    "duration": 15,
    "start_time": "2022-11-17T16:47:09.881Z"
   },
   {
    "duration": 15,
    "start_time": "2022-11-17T16:49:36.770Z"
   },
   {
    "duration": 10,
    "start_time": "2022-11-17T16:53:01.707Z"
   },
   {
    "duration": 13,
    "start_time": "2022-11-17T16:53:07.324Z"
   },
   {
    "duration": 13,
    "start_time": "2022-11-17T16:53:58.150Z"
   },
   {
    "duration": 13,
    "start_time": "2022-11-17T16:54:48.765Z"
   },
   {
    "duration": 16,
    "start_time": "2022-11-17T17:00:04.530Z"
   },
   {
    "duration": 14,
    "start_time": "2022-11-17T17:00:17.483Z"
   },
   {
    "duration": 16,
    "start_time": "2022-11-17T17:00:48.652Z"
   },
   {
    "duration": 1213,
    "start_time": "2022-11-17T17:02:08.340Z"
   },
   {
    "duration": 15,
    "start_time": "2022-11-17T17:02:23.669Z"
   },
   {
    "duration": 15,
    "start_time": "2022-11-17T17:03:42.662Z"
   },
   {
    "duration": 16,
    "start_time": "2022-11-17T17:32:52.901Z"
   },
   {
    "duration": 1063,
    "start_time": "2022-11-17T17:34:05.270Z"
   },
   {
    "duration": 16,
    "start_time": "2022-11-17T17:34:14.711Z"
   },
   {
    "duration": 16,
    "start_time": "2022-11-17T17:35:01.422Z"
   },
   {
    "duration": 15,
    "start_time": "2022-11-17T17:36:35.551Z"
   },
   {
    "duration": 21,
    "start_time": "2022-11-17T17:38:21.323Z"
   },
   {
    "duration": 16,
    "start_time": "2022-11-17T17:39:22.835Z"
   },
   {
    "duration": 12,
    "start_time": "2022-11-17T17:39:53.772Z"
   },
   {
    "duration": 70,
    "start_time": "2022-11-17T18:01:01.604Z"
   },
   {
    "duration": 5,
    "start_time": "2022-11-17T18:01:06.862Z"
   },
   {
    "duration": 5,
    "start_time": "2022-11-17T18:02:53.749Z"
   },
   {
    "duration": 4,
    "start_time": "2022-11-17T18:03:06.791Z"
   },
   {
    "duration": 8,
    "start_time": "2022-11-17T18:03:31.937Z"
   },
   {
    "duration": 9,
    "start_time": "2022-11-17T18:03:46.539Z"
   },
   {
    "duration": 9,
    "start_time": "2022-11-17T18:04:00.374Z"
   },
   {
    "duration": 24,
    "start_time": "2022-11-17T18:04:04.879Z"
   },
   {
    "duration": 4,
    "start_time": "2022-11-17T18:04:29.637Z"
   },
   {
    "duration": 16,
    "start_time": "2022-11-17T18:04:32.403Z"
   },
   {
    "duration": 4,
    "start_time": "2022-11-17T18:04:36.678Z"
   },
   {
    "duration": 15,
    "start_time": "2022-11-17T18:04:38.391Z"
   },
   {
    "duration": 4,
    "start_time": "2022-11-17T18:04:46.639Z"
   },
   {
    "duration": 15,
    "start_time": "2022-11-17T18:04:49.551Z"
   },
   {
    "duration": 9,
    "start_time": "2022-11-17T18:06:28.842Z"
   },
   {
    "duration": 3,
    "start_time": "2022-11-17T18:06:43.233Z"
   },
   {
    "duration": 4,
    "start_time": "2022-11-17T18:06:49.450Z"
   },
   {
    "duration": 14,
    "start_time": "2022-11-17T18:06:52.833Z"
   },
   {
    "duration": 15,
    "start_time": "2022-11-17T18:06:55.148Z"
   },
   {
    "duration": 1293,
    "start_time": "2022-11-18T14:25:38.607Z"
   },
   {
    "duration": 88,
    "start_time": "2022-11-18T14:34:24.270Z"
   },
   {
    "duration": 1053,
    "start_time": "2022-11-18T14:34:46.151Z"
   },
   {
    "duration": 185,
    "start_time": "2022-11-18T14:34:47.206Z"
   },
   {
    "duration": 18,
    "start_time": "2022-11-18T14:34:47.393Z"
   },
   {
    "duration": 20,
    "start_time": "2022-11-18T14:34:47.413Z"
   },
   {
    "duration": 805,
    "start_time": "2022-11-18T14:34:47.437Z"
   },
   {
    "duration": 18,
    "start_time": "2022-11-18T14:34:48.244Z"
   },
   {
    "duration": 41,
    "start_time": "2022-11-18T14:34:48.264Z"
   },
   {
    "duration": 6,
    "start_time": "2022-11-18T14:34:48.307Z"
   },
   {
    "duration": 34,
    "start_time": "2022-11-18T14:34:48.315Z"
   },
   {
    "duration": 7,
    "start_time": "2022-11-18T14:34:48.351Z"
   },
   {
    "duration": 10,
    "start_time": "2022-11-18T14:34:48.360Z"
   },
   {
    "duration": 22,
    "start_time": "2022-11-18T14:34:48.372Z"
   },
   {
    "duration": 132,
    "start_time": "2022-11-18T14:34:48.396Z"
   },
   {
    "duration": 5,
    "start_time": "2022-11-18T14:34:48.537Z"
   },
   {
    "duration": 25,
    "start_time": "2022-11-18T14:34:48.544Z"
   },
   {
    "duration": 4,
    "start_time": "2022-11-18T14:34:48.570Z"
   },
   {
    "duration": 10,
    "start_time": "2022-11-18T14:34:48.575Z"
   },
   {
    "duration": 6,
    "start_time": "2022-11-18T14:34:48.587Z"
   },
   {
    "duration": 6,
    "start_time": "2022-11-18T14:34:48.594Z"
   },
   {
    "duration": 37,
    "start_time": "2022-11-18T14:34:48.602Z"
   },
   {
    "duration": 14,
    "start_time": "2022-11-18T14:34:48.640Z"
   },
   {
    "duration": 5,
    "start_time": "2022-11-18T14:34:48.655Z"
   },
   {
    "duration": 15,
    "start_time": "2022-11-18T14:34:48.661Z"
   },
   {
    "duration": 65,
    "start_time": "2022-11-18T14:34:48.678Z"
   },
   {
    "duration": 8,
    "start_time": "2022-11-18T14:34:48.744Z"
   },
   {
    "duration": 143,
    "start_time": "2022-11-18T14:34:48.754Z"
   },
   {
    "duration": 6,
    "start_time": "2022-11-18T14:34:48.900Z"
   },
   {
    "duration": 33,
    "start_time": "2022-11-18T14:34:48.908Z"
   },
   {
    "duration": 26,
    "start_time": "2022-11-18T14:34:48.943Z"
   },
   {
    "duration": 930,
    "start_time": "2022-11-18T14:34:48.971Z"
   },
   {
    "duration": 4,
    "start_time": "2022-11-18T14:34:49.903Z"
   },
   {
    "duration": 11,
    "start_time": "2022-11-18T14:34:49.908Z"
   },
   {
    "duration": 35,
    "start_time": "2022-11-18T14:34:49.921Z"
   },
   {
    "duration": 1338,
    "start_time": "2022-11-18T14:34:49.958Z"
   },
   {
    "duration": 339,
    "start_time": "2022-11-18T14:34:51.298Z"
   },
   {
    "duration": 841,
    "start_time": "2022-11-18T14:34:51.639Z"
   },
   {
    "duration": 55,
    "start_time": "2022-11-18T14:34:52.482Z"
   },
   {
    "duration": 19,
    "start_time": "2022-11-18T14:34:52.539Z"
   },
   {
    "duration": 40,
    "start_time": "2022-11-18T14:34:52.559Z"
   },
   {
    "duration": 23,
    "start_time": "2022-11-18T14:34:52.601Z"
   },
   {
    "duration": 29,
    "start_time": "2022-11-18T14:34:52.628Z"
   },
   {
    "duration": 30,
    "start_time": "2022-11-18T14:34:52.659Z"
   },
   {
    "duration": 42,
    "start_time": "2022-11-18T14:34:52.691Z"
   },
   {
    "duration": 35,
    "start_time": "2022-11-18T14:34:52.736Z"
   },
   {
    "duration": 32,
    "start_time": "2022-11-18T14:34:52.772Z"
   },
   {
    "duration": 24,
    "start_time": "2022-11-18T14:34:52.806Z"
   },
   {
    "duration": 35,
    "start_time": "2022-11-18T14:34:52.832Z"
   },
   {
    "duration": 32,
    "start_time": "2022-11-18T14:34:52.869Z"
   },
   {
    "duration": 27,
    "start_time": "2022-11-18T14:34:52.903Z"
   },
   {
    "duration": 21,
    "start_time": "2022-11-18T14:34:52.931Z"
   },
   {
    "duration": 9,
    "start_time": "2022-11-18T14:35:22.591Z"
   },
   {
    "duration": 9,
    "start_time": "2022-11-18T14:35:32.609Z"
   },
   {
    "duration": 10,
    "start_time": "2022-11-18T14:35:51.237Z"
   },
   {
    "duration": 10,
    "start_time": "2022-11-18T14:38:29.680Z"
   },
   {
    "duration": 10,
    "start_time": "2022-11-18T14:38:36.506Z"
   },
   {
    "duration": 9,
    "start_time": "2022-11-18T14:38:44.892Z"
   },
   {
    "duration": 8,
    "start_time": "2022-11-18T15:18:08.738Z"
   },
   {
    "duration": 7,
    "start_time": "2022-11-18T15:18:31.745Z"
   },
   {
    "duration": 1145,
    "start_time": "2022-11-18T16:22:27.306Z"
   },
   {
    "duration": 52,
    "start_time": "2022-11-18T16:22:28.452Z"
   },
   {
    "duration": 16,
    "start_time": "2022-11-18T16:22:28.506Z"
   },
   {
    "duration": 18,
    "start_time": "2022-11-18T16:22:28.524Z"
   },
   {
    "duration": 797,
    "start_time": "2022-11-18T16:22:28.545Z"
   },
   {
    "duration": 18,
    "start_time": "2022-11-18T16:22:29.344Z"
   },
   {
    "duration": 40,
    "start_time": "2022-11-18T16:22:29.364Z"
   },
   {
    "duration": 5,
    "start_time": "2022-11-18T16:22:29.406Z"
   },
   {
    "duration": 33,
    "start_time": "2022-11-18T16:22:29.413Z"
   },
   {
    "duration": 5,
    "start_time": "2022-11-18T16:22:29.448Z"
   },
   {
    "duration": 7,
    "start_time": "2022-11-18T16:22:29.455Z"
   },
   {
    "duration": 20,
    "start_time": "2022-11-18T16:22:29.463Z"
   },
   {
    "duration": 132,
    "start_time": "2022-11-18T16:22:29.484Z"
   },
   {
    "duration": 5,
    "start_time": "2022-11-18T16:22:29.619Z"
   },
   {
    "duration": 20,
    "start_time": "2022-11-18T16:22:29.638Z"
   },
   {
    "duration": 3,
    "start_time": "2022-11-18T16:22:29.660Z"
   },
   {
    "duration": 16,
    "start_time": "2022-11-18T16:22:29.665Z"
   },
   {
    "duration": 6,
    "start_time": "2022-11-18T16:22:29.683Z"
   },
   {
    "duration": 5,
    "start_time": "2022-11-18T16:22:29.691Z"
   },
   {
    "duration": 6,
    "start_time": "2022-11-18T16:22:29.698Z"
   },
   {
    "duration": 40,
    "start_time": "2022-11-18T16:22:29.705Z"
   },
   {
    "duration": 4,
    "start_time": "2022-11-18T16:22:29.746Z"
   },
   {
    "duration": 16,
    "start_time": "2022-11-18T16:22:29.752Z"
   },
   {
    "duration": 33,
    "start_time": "2022-11-18T16:22:29.770Z"
   },
   {
    "duration": 33,
    "start_time": "2022-11-18T16:22:29.804Z"
   },
   {
    "duration": 107,
    "start_time": "2022-11-18T16:22:29.839Z"
   },
   {
    "duration": 5,
    "start_time": "2022-11-18T16:22:29.947Z"
   },
   {
    "duration": 17,
    "start_time": "2022-11-18T16:22:29.953Z"
   },
   {
    "duration": 17,
    "start_time": "2022-11-18T16:22:29.971Z"
   },
   {
    "duration": 879,
    "start_time": "2022-11-18T16:22:29.990Z"
   },
   {
    "duration": 4,
    "start_time": "2022-11-18T16:22:30.870Z"
   },
   {
    "duration": 28,
    "start_time": "2022-11-18T16:22:30.875Z"
   },
   {
    "duration": 22,
    "start_time": "2022-11-18T16:22:30.905Z"
   },
   {
    "duration": 1268,
    "start_time": "2022-11-18T16:22:30.929Z"
   },
   {
    "duration": 313,
    "start_time": "2022-11-18T16:22:32.199Z"
   },
   {
    "duration": 784,
    "start_time": "2022-11-18T16:22:32.513Z"
   },
   {
    "duration": 50,
    "start_time": "2022-11-18T16:22:33.298Z"
   },
   {
    "duration": 16,
    "start_time": "2022-11-18T16:22:33.350Z"
   },
   {
    "duration": 11,
    "start_time": "2022-11-18T16:22:33.368Z"
   },
   {
    "duration": 16,
    "start_time": "2022-11-18T16:22:33.381Z"
   },
   {
    "duration": 48,
    "start_time": "2022-11-18T16:22:33.401Z"
   },
   {
    "duration": 16,
    "start_time": "2022-11-18T16:22:33.450Z"
   },
   {
    "duration": 19,
    "start_time": "2022-11-18T16:22:33.467Z"
   },
   {
    "duration": 15,
    "start_time": "2022-11-18T16:22:33.487Z"
   },
   {
    "duration": 45,
    "start_time": "2022-11-18T16:22:33.503Z"
   },
   {
    "duration": 5,
    "start_time": "2022-11-18T16:22:33.550Z"
   },
   {
    "duration": 17,
    "start_time": "2022-11-18T16:22:33.556Z"
   },
   {
    "duration": 19,
    "start_time": "2022-11-18T16:22:33.575Z"
   },
   {
    "duration": 50,
    "start_time": "2022-11-18T16:22:33.596Z"
   },
   {
    "duration": 9,
    "start_time": "2022-11-18T16:22:33.648Z"
   },
   {
    "duration": 11,
    "start_time": "2022-11-18T16:22:33.659Z"
   },
   {
    "duration": 1054,
    "start_time": "2022-11-18T16:43:31.936Z"
   },
   {
    "duration": 54,
    "start_time": "2022-11-18T16:43:32.992Z"
   },
   {
    "duration": 18,
    "start_time": "2022-11-18T16:43:33.048Z"
   },
   {
    "duration": 25,
    "start_time": "2022-11-18T16:43:33.068Z"
   },
   {
    "duration": 872,
    "start_time": "2022-11-18T16:43:33.096Z"
   },
   {
    "duration": 16,
    "start_time": "2022-11-18T16:43:33.970Z"
   },
   {
    "duration": 29,
    "start_time": "2022-11-18T16:43:33.988Z"
   },
   {
    "duration": 5,
    "start_time": "2022-11-18T16:43:34.019Z"
   },
   {
    "duration": 206,
    "start_time": "2022-11-18T16:43:34.025Z"
   },
   {
    "duration": 11,
    "start_time": "2022-11-18T16:43:34.233Z"
   },
   {
    "duration": 9,
    "start_time": "2022-11-18T16:43:34.246Z"
   },
   {
    "duration": 25,
    "start_time": "2022-11-18T16:43:34.256Z"
   },
   {
    "duration": 146,
    "start_time": "2022-11-18T16:43:34.283Z"
   },
   {
    "duration": 5,
    "start_time": "2022-11-18T16:43:34.433Z"
   },
   {
    "duration": 26,
    "start_time": "2022-11-18T16:43:34.440Z"
   },
   {
    "duration": 5,
    "start_time": "2022-11-18T16:43:34.467Z"
   },
   {
    "duration": 7,
    "start_time": "2022-11-18T16:43:34.473Z"
   },
   {
    "duration": 32,
    "start_time": "2022-11-18T16:43:34.482Z"
   },
   {
    "duration": 6,
    "start_time": "2022-11-18T16:43:34.516Z"
   },
   {
    "duration": 9,
    "start_time": "2022-11-18T16:43:34.524Z"
   },
   {
    "duration": 29,
    "start_time": "2022-11-18T16:43:34.534Z"
   },
   {
    "duration": 5,
    "start_time": "2022-11-18T16:43:34.566Z"
   },
   {
    "duration": 15,
    "start_time": "2022-11-18T16:43:34.573Z"
   },
   {
    "duration": 50,
    "start_time": "2022-11-18T16:43:34.590Z"
   },
   {
    "duration": 8,
    "start_time": "2022-11-18T16:43:34.641Z"
   },
   {
    "duration": 124,
    "start_time": "2022-11-18T16:43:34.651Z"
   },
   {
    "duration": 6,
    "start_time": "2022-11-18T16:43:34.778Z"
   },
   {
    "duration": 30,
    "start_time": "2022-11-18T16:43:34.786Z"
   },
   {
    "duration": 22,
    "start_time": "2022-11-18T16:43:34.817Z"
   },
   {
    "duration": 952,
    "start_time": "2022-11-18T16:43:34.841Z"
   },
   {
    "duration": 4,
    "start_time": "2022-11-18T16:43:35.794Z"
   },
   {
    "duration": 16,
    "start_time": "2022-11-18T16:43:35.799Z"
   },
   {
    "duration": 20,
    "start_time": "2022-11-18T16:43:35.816Z"
   },
   {
    "duration": 1426,
    "start_time": "2022-11-18T16:43:35.837Z"
   },
   {
    "duration": 309,
    "start_time": "2022-11-18T16:43:37.264Z"
   },
   {
    "duration": 869,
    "start_time": "2022-11-18T16:43:37.574Z"
   },
   {
    "duration": 41,
    "start_time": "2022-11-18T16:43:38.444Z"
   },
   {
    "duration": 34,
    "start_time": "2022-11-18T16:43:38.487Z"
   },
   {
    "duration": 12,
    "start_time": "2022-11-18T16:43:38.522Z"
   },
   {
    "duration": 17,
    "start_time": "2022-11-18T16:43:38.536Z"
   },
   {
    "duration": 19,
    "start_time": "2022-11-18T16:43:38.556Z"
   },
   {
    "duration": 44,
    "start_time": "2022-11-18T16:43:38.576Z"
   },
   {
    "duration": 18,
    "start_time": "2022-11-18T16:43:38.621Z"
   },
   {
    "duration": 29,
    "start_time": "2022-11-18T16:43:38.641Z"
   },
   {
    "duration": 17,
    "start_time": "2022-11-18T16:43:38.672Z"
   },
   {
    "duration": 23,
    "start_time": "2022-11-18T16:43:38.690Z"
   },
   {
    "duration": 30,
    "start_time": "2022-11-18T16:43:38.715Z"
   },
   {
    "duration": 25,
    "start_time": "2022-11-18T16:43:38.746Z"
   },
   {
    "duration": 18,
    "start_time": "2022-11-18T16:43:38.773Z"
   },
   {
    "duration": 8,
    "start_time": "2022-11-18T16:43:38.793Z"
   },
   {
    "duration": 15,
    "start_time": "2022-11-18T16:43:38.802Z"
   },
   {
    "duration": 72,
    "start_time": "2022-11-18T17:53:51.226Z"
   },
   {
    "duration": 10,
    "start_time": "2022-11-18T18:25:28.211Z"
   },
   {
    "duration": 14,
    "start_time": "2022-11-18T19:10:04.791Z"
   },
   {
    "duration": 14,
    "start_time": "2022-11-18T19:25:17.851Z"
   },
   {
    "duration": 76,
    "start_time": "2022-11-18T19:27:33.345Z"
   },
   {
    "duration": 8,
    "start_time": "2022-11-18T19:36:50.900Z"
   },
   {
    "duration": 6,
    "start_time": "2022-11-18T19:38:10.752Z"
   },
   {
    "duration": 92,
    "start_time": "2022-11-18T19:38:19.203Z"
   },
   {
    "duration": 5,
    "start_time": "2022-11-18T19:38:49.048Z"
   },
   {
    "duration": 8,
    "start_time": "2022-11-18T19:39:29.571Z"
   },
   {
    "duration": 3,
    "start_time": "2022-11-18T19:40:08.208Z"
   },
   {
    "duration": 50,
    "start_time": "2022-11-18T19:40:08.212Z"
   },
   {
    "duration": 13,
    "start_time": "2022-11-18T19:40:08.264Z"
   },
   {
    "duration": 12,
    "start_time": "2022-11-18T19:40:08.279Z"
   },
   {
    "duration": 898,
    "start_time": "2022-11-18T19:40:08.292Z"
   },
   {
    "duration": 16,
    "start_time": "2022-11-18T19:40:09.191Z"
   },
   {
    "duration": 38,
    "start_time": "2022-11-18T19:40:09.208Z"
   },
   {
    "duration": 4,
    "start_time": "2022-11-18T19:40:09.248Z"
   },
   {
    "duration": 13,
    "start_time": "2022-11-18T19:40:09.254Z"
   },
   {
    "duration": 8,
    "start_time": "2022-11-18T19:40:09.268Z"
   },
   {
    "duration": 6,
    "start_time": "2022-11-18T19:40:09.278Z"
   },
   {
    "duration": 20,
    "start_time": "2022-11-18T19:40:09.285Z"
   },
   {
    "duration": 5,
    "start_time": "2022-11-18T19:40:27.110Z"
   },
   {
    "duration": 12,
    "start_time": "2022-11-18T19:41:24.206Z"
   },
   {
    "duration": 9,
    "start_time": "2022-11-18T19:41:46.247Z"
   },
   {
    "duration": 6,
    "start_time": "2022-11-18T19:42:46.793Z"
   },
   {
    "duration": 5,
    "start_time": "2022-11-18T19:42:54.127Z"
   },
   {
    "duration": 11,
    "start_time": "2022-11-18T19:42:58.906Z"
   },
   {
    "duration": 9,
    "start_time": "2022-11-18T19:43:15.785Z"
   },
   {
    "duration": 4,
    "start_time": "2022-11-18T19:44:40.432Z"
   },
   {
    "duration": 6,
    "start_time": "2022-11-18T19:45:01.137Z"
   },
   {
    "duration": 5,
    "start_time": "2022-11-18T19:45:10.465Z"
   },
   {
    "duration": 6,
    "start_time": "2022-11-18T19:45:19.610Z"
   },
   {
    "duration": 6,
    "start_time": "2022-11-18T19:46:49.354Z"
   },
   {
    "duration": 9,
    "start_time": "2022-11-18T19:50:57.877Z"
   },
   {
    "duration": 21,
    "start_time": "2022-11-18T19:51:36.478Z"
   },
   {
    "duration": 15,
    "start_time": "2022-11-18T19:54:48.881Z"
   },
   {
    "duration": 24,
    "start_time": "2022-11-18T19:55:00.497Z"
   },
   {
    "duration": 24,
    "start_time": "2022-11-18T19:55:28.066Z"
   },
   {
    "duration": 20,
    "start_time": "2022-11-18T19:55:41.952Z"
   },
   {
    "duration": 8,
    "start_time": "2022-11-18T19:55:48.980Z"
   },
   {
    "duration": 9,
    "start_time": "2022-11-18T19:55:51.401Z"
   },
   {
    "duration": 22,
    "start_time": "2022-11-18T19:55:59.754Z"
   },
   {
    "duration": 9,
    "start_time": "2022-11-18T19:56:25.898Z"
   },
   {
    "duration": 8,
    "start_time": "2022-11-18T19:56:39.753Z"
   },
   {
    "duration": 5,
    "start_time": "2022-11-18T20:02:09.966Z"
   },
   {
    "duration": 151,
    "start_time": "2022-11-18T20:26:37.859Z"
   },
   {
    "duration": 293,
    "start_time": "2022-11-18T20:27:15.475Z"
   },
   {
    "duration": 335,
    "start_time": "2022-11-18T20:27:39.780Z"
   },
   {
    "duration": 355,
    "start_time": "2022-11-18T20:28:33.660Z"
   },
   {
    "duration": 5,
    "start_time": "2022-11-18T20:53:41.791Z"
   },
   {
    "duration": 15,
    "start_time": "2022-11-18T21:11:54.927Z"
   },
   {
    "duration": 165657,
    "start_time": "2022-11-18T21:12:20.504Z"
   },
   {
    "duration": 186,
    "start_time": "2022-11-18T21:16:21.307Z"
   },
   {
    "duration": 46,
    "start_time": "2022-11-19T10:50:38.397Z"
   },
   {
    "duration": 1451,
    "start_time": "2022-11-19T10:50:50.083Z"
   },
   {
    "duration": 202,
    "start_time": "2022-11-19T10:50:51.537Z"
   },
   {
    "duration": 26,
    "start_time": "2022-11-19T10:50:51.742Z"
   },
   {
    "duration": 26,
    "start_time": "2022-11-19T10:50:51.770Z"
   },
   {
    "duration": 939,
    "start_time": "2022-11-19T10:50:51.799Z"
   },
   {
    "duration": 25,
    "start_time": "2022-11-19T10:50:52.740Z"
   },
   {
    "duration": 22,
    "start_time": "2022-11-19T10:50:52.767Z"
   },
   {
    "duration": 6,
    "start_time": "2022-11-19T10:50:52.791Z"
   },
   {
    "duration": 26,
    "start_time": "2022-11-19T10:50:52.798Z"
   },
   {
    "duration": 28,
    "start_time": "2022-11-19T10:50:52.826Z"
   },
   {
    "duration": 13,
    "start_time": "2022-11-19T10:50:52.856Z"
   },
   {
    "duration": 33,
    "start_time": "2022-11-19T10:50:52.872Z"
   },
   {
    "duration": 6,
    "start_time": "2022-11-19T10:50:52.906Z"
   },
   {
    "duration": 9,
    "start_time": "2022-11-19T10:50:52.916Z"
   },
   {
    "duration": 42,
    "start_time": "2022-11-19T10:50:52.927Z"
   },
   {
    "duration": 5,
    "start_time": "2022-11-19T10:50:52.971Z"
   },
   {
    "duration": 7,
    "start_time": "2022-11-19T10:50:52.978Z"
   },
   {
    "duration": 24,
    "start_time": "2022-11-19T10:50:52.987Z"
   },
   {
    "duration": 9,
    "start_time": "2022-11-19T10:50:53.013Z"
   },
   {
    "duration": 28,
    "start_time": "2022-11-19T10:50:53.024Z"
   },
   {
    "duration": 9,
    "start_time": "2022-11-19T10:50:53.054Z"
   },
   {
    "duration": 17,
    "start_time": "2022-11-19T10:50:53.065Z"
   },
   {
    "duration": 8,
    "start_time": "2022-11-19T10:50:53.084Z"
   },
   {
    "duration": 22,
    "start_time": "2022-11-19T10:50:53.094Z"
   },
   {
    "duration": 69,
    "start_time": "2022-11-19T10:50:53.118Z"
   },
   {
    "duration": 103,
    "start_time": "2022-11-19T10:50:53.189Z"
   },
   {
    "duration": 456,
    "start_time": "2022-11-19T10:50:53.295Z"
   },
   {
    "duration": 6,
    "start_time": "2022-11-19T10:50:53.753Z"
   },
   {
    "duration": 228,
    "start_time": "2022-11-19T10:50:53.761Z"
   },
   {
    "duration": 31,
    "start_time": "2022-11-19T10:50:53.991Z"
   },
   {
    "duration": 1007,
    "start_time": "2022-11-19T10:50:54.025Z"
   },
   {
    "duration": 4,
    "start_time": "2022-11-19T10:50:55.034Z"
   },
   {
    "duration": 9,
    "start_time": "2022-11-19T10:50:55.051Z"
   },
   {
    "duration": 21,
    "start_time": "2022-11-19T10:50:55.062Z"
   },
   {
    "duration": 1433,
    "start_time": "2022-11-19T10:50:55.085Z"
   },
   {
    "duration": 2814,
    "start_time": "2022-11-19T10:50:56.520Z"
   },
   {
    "duration": 377,
    "start_time": "2022-11-19T10:50:59.336Z"
   },
   {
    "duration": 0,
    "start_time": "2022-11-19T10:50:59.716Z"
   },
   {
    "duration": 0,
    "start_time": "2022-11-19T10:50:59.717Z"
   },
   {
    "duration": 0,
    "start_time": "2022-11-19T10:50:59.719Z"
   },
   {
    "duration": 0,
    "start_time": "2022-11-19T10:50:59.721Z"
   },
   {
    "duration": 0,
    "start_time": "2022-11-19T10:50:59.722Z"
   },
   {
    "duration": 0,
    "start_time": "2022-11-19T10:50:59.723Z"
   },
   {
    "duration": 1,
    "start_time": "2022-11-19T10:50:59.724Z"
   },
   {
    "duration": 0,
    "start_time": "2022-11-19T10:50:59.726Z"
   },
   {
    "duration": 0,
    "start_time": "2022-11-19T10:50:59.752Z"
   },
   {
    "duration": 0,
    "start_time": "2022-11-19T10:50:59.754Z"
   },
   {
    "duration": 0,
    "start_time": "2022-11-19T10:50:59.755Z"
   },
   {
    "duration": 0,
    "start_time": "2022-11-19T10:50:59.757Z"
   },
   {
    "duration": 0,
    "start_time": "2022-11-19T10:50:59.758Z"
   },
   {
    "duration": 0,
    "start_time": "2022-11-19T10:50:59.759Z"
   },
   {
    "duration": 0,
    "start_time": "2022-11-19T10:50:59.761Z"
   },
   {
    "duration": 0,
    "start_time": "2022-11-19T10:50:59.762Z"
   },
   {
    "duration": 0,
    "start_time": "2022-11-19T10:50:59.763Z"
   },
   {
    "duration": 0,
    "start_time": "2022-11-19T10:50:59.765Z"
   },
   {
    "duration": 260,
    "start_time": "2022-11-19T10:52:17.598Z"
   },
   {
    "duration": 259,
    "start_time": "2022-11-19T10:55:40.329Z"
   },
   {
    "duration": 151,
    "start_time": "2022-11-19T10:57:50.735Z"
   },
   {
    "duration": 291,
    "start_time": "2022-11-19T10:59:10.686Z"
   },
   {
    "duration": 271,
    "start_time": "2022-11-19T10:59:52.392Z"
   },
   {
    "duration": 317,
    "start_time": "2022-11-19T11:00:18.872Z"
   },
   {
    "duration": 339,
    "start_time": "2022-11-19T11:00:59.679Z"
   },
   {
    "duration": 170,
    "start_time": "2022-11-19T11:02:42.848Z"
   },
   {
    "duration": 495,
    "start_time": "2022-11-19T11:04:01.032Z"
   },
   {
    "duration": 277,
    "start_time": "2022-11-19T11:04:27.888Z"
   },
   {
    "duration": 274,
    "start_time": "2022-11-19T11:04:41.391Z"
   },
   {
    "duration": 274,
    "start_time": "2022-11-19T11:04:50.779Z"
   },
   {
    "duration": 277,
    "start_time": "2022-11-19T11:05:28.634Z"
   },
   {
    "duration": 283,
    "start_time": "2022-11-19T11:07:02.923Z"
   },
   {
    "duration": 420,
    "start_time": "2022-11-19T11:07:15.610Z"
   },
   {
    "duration": 290,
    "start_time": "2022-11-19T11:07:45.575Z"
   },
   {
    "duration": 321,
    "start_time": "2022-11-19T11:08:30.612Z"
   },
   {
    "duration": 339,
    "start_time": "2022-11-19T11:08:49.533Z"
   },
   {
    "duration": 335,
    "start_time": "2022-11-19T11:12:09.432Z"
   },
   {
    "duration": 305,
    "start_time": "2022-11-19T11:13:20.484Z"
   },
   {
    "duration": 314,
    "start_time": "2022-11-19T11:13:43.997Z"
   },
   {
    "duration": 452,
    "start_time": "2022-11-19T11:24:40.645Z"
   },
   {
    "duration": 290,
    "start_time": "2022-11-19T11:26:37.431Z"
   },
   {
    "duration": 31,
    "start_time": "2022-11-19T11:31:21.205Z"
   },
   {
    "duration": 11,
    "start_time": "2022-11-19T11:42:43.622Z"
   },
   {
    "duration": 33,
    "start_time": "2022-11-19T11:42:50.726Z"
   },
   {
    "duration": 27,
    "start_time": "2022-11-19T11:43:38.691Z"
   },
   {
    "duration": 6,
    "start_time": "2022-11-19T11:45:21.709Z"
   },
   {
    "duration": 12,
    "start_time": "2022-11-19T11:45:25.441Z"
   },
   {
    "duration": 17,
    "start_time": "2022-11-19T11:45:39.857Z"
   },
   {
    "duration": 13,
    "start_time": "2022-11-19T11:45:51.219Z"
   },
   {
    "duration": 55,
    "start_time": "2022-11-19T11:47:34.363Z"
   },
   {
    "duration": 71,
    "start_time": "2022-11-19T11:47:41.786Z"
   },
   {
    "duration": 74,
    "start_time": "2022-11-19T11:48:02.413Z"
   },
   {
    "duration": 66,
    "start_time": "2022-11-19T11:48:07.591Z"
   },
   {
    "duration": 71,
    "start_time": "2022-11-19T11:48:14.022Z"
   },
   {
    "duration": 72,
    "start_time": "2022-11-19T11:50:26.797Z"
   },
   {
    "duration": 90,
    "start_time": "2022-11-19T11:51:04.316Z"
   },
   {
    "duration": 71,
    "start_time": "2022-11-19T11:51:17.096Z"
   },
   {
    "duration": 81,
    "start_time": "2022-11-19T11:51:22.684Z"
   },
   {
    "duration": 38,
    "start_time": "2022-11-19T11:53:28.634Z"
   },
   {
    "duration": 46,
    "start_time": "2022-11-19T11:53:34.788Z"
   },
   {
    "duration": 72,
    "start_time": "2022-11-19T12:21:33.943Z"
   },
   {
    "duration": 66,
    "start_time": "2022-11-19T12:22:05.924Z"
   },
   {
    "duration": 64,
    "start_time": "2022-11-19T12:22:15.501Z"
   },
   {
    "duration": 8,
    "start_time": "2022-11-19T12:56:40.865Z"
   },
   {
    "duration": 60,
    "start_time": "2022-11-19T12:56:40.882Z"
   },
   {
    "duration": 35,
    "start_time": "2022-11-19T12:56:40.944Z"
   },
   {
    "duration": 18,
    "start_time": "2022-11-19T12:56:40.983Z"
   },
   {
    "duration": 909,
    "start_time": "2022-11-19T12:56:41.003Z"
   },
   {
    "duration": 16,
    "start_time": "2022-11-19T12:56:41.914Z"
   },
   {
    "duration": 45,
    "start_time": "2022-11-19T12:56:41.932Z"
   },
   {
    "duration": 9,
    "start_time": "2022-11-19T12:56:41.982Z"
   },
   {
    "duration": 19,
    "start_time": "2022-11-19T12:56:41.992Z"
   },
   {
    "duration": 9,
    "start_time": "2022-11-19T12:56:42.013Z"
   },
   {
    "duration": 11,
    "start_time": "2022-11-19T12:56:42.024Z"
   },
   {
    "duration": 25,
    "start_time": "2022-11-19T12:56:42.057Z"
   },
   {
    "duration": 6,
    "start_time": "2022-11-19T12:56:42.085Z"
   },
   {
    "duration": 8,
    "start_time": "2022-11-19T12:56:42.093Z"
   },
   {
    "duration": 20,
    "start_time": "2022-11-19T12:56:42.104Z"
   },
   {
    "duration": 30,
    "start_time": "2022-11-19T12:56:42.126Z"
   },
   {
    "duration": 33,
    "start_time": "2022-11-19T12:56:42.158Z"
   },
   {
    "duration": 11,
    "start_time": "2022-11-19T12:56:42.193Z"
   },
   {
    "duration": 12,
    "start_time": "2022-11-19T12:56:42.205Z"
   },
   {
    "duration": 16,
    "start_time": "2022-11-19T12:56:42.219Z"
   },
   {
    "duration": 7,
    "start_time": "2022-11-19T12:56:42.237Z"
   },
   {
    "duration": 43,
    "start_time": "2022-11-19T12:56:42.246Z"
   },
   {
    "duration": 6,
    "start_time": "2022-11-19T12:56:42.291Z"
   },
   {
    "duration": 20,
    "start_time": "2022-11-19T12:56:42.299Z"
   },
   {
    "duration": 53,
    "start_time": "2022-11-19T12:56:42.322Z"
   },
   {
    "duration": 100,
    "start_time": "2022-11-19T12:56:42.376Z"
   },
   {
    "duration": 418,
    "start_time": "2022-11-19T12:56:42.479Z"
   },
   {
    "duration": 5,
    "start_time": "2022-11-19T12:56:42.899Z"
   },
   {
    "duration": 233,
    "start_time": "2022-11-19T12:56:42.906Z"
   },
   {
    "duration": 43,
    "start_time": "2022-11-19T12:56:43.141Z"
   },
   {
    "duration": 1187,
    "start_time": "2022-11-19T12:56:43.186Z"
   },
   {
    "duration": 8,
    "start_time": "2022-11-19T12:56:44.375Z"
   },
   {
    "duration": 8,
    "start_time": "2022-11-19T12:56:44.384Z"
   },
   {
    "duration": 26,
    "start_time": "2022-11-19T12:56:44.393Z"
   },
   {
    "duration": 1465,
    "start_time": "2022-11-19T12:56:44.420Z"
   },
   {
    "duration": 318,
    "start_time": "2022-11-19T12:56:45.887Z"
   },
   {
    "duration": 497,
    "start_time": "2022-11-19T12:56:46.207Z"
   },
   {
    "duration": 112,
    "start_time": "2022-11-19T12:56:46.706Z"
   },
   {
    "duration": 12,
    "start_time": "2022-11-19T12:56:46.820Z"
   },
   {
    "duration": 0,
    "start_time": "2022-11-19T12:56:46.834Z"
   },
   {
    "duration": 0,
    "start_time": "2022-11-19T12:56:46.835Z"
   },
   {
    "duration": 876,
    "start_time": "2022-11-19T12:57:26.287Z"
   },
   {
    "duration": 52,
    "start_time": "2022-11-19T12:57:32.444Z"
   },
   {
    "duration": 17,
    "start_time": "2022-11-19T12:57:32.498Z"
   },
   {
    "duration": 1740,
    "start_time": "2022-11-19T13:02:39.593Z"
   },
   {
    "duration": 1877,
    "start_time": "2022-11-19T13:03:11.018Z"
   },
   {
    "duration": 1875,
    "start_time": "2022-11-19T13:03:21.399Z"
   },
   {
    "duration": 1710,
    "start_time": "2022-11-19T13:07:16.889Z"
   },
   {
    "duration": 27,
    "start_time": "2022-11-19T13:07:31.673Z"
   },
   {
    "duration": 77,
    "start_time": "2022-11-19T13:08:36.082Z"
   },
   {
    "duration": 14,
    "start_time": "2022-11-19T15:10:22.755Z"
   },
   {
    "duration": 25,
    "start_time": "2022-11-19T15:14:17.883Z"
   },
   {
    "duration": 23,
    "start_time": "2022-11-19T15:14:34.198Z"
   },
   {
    "duration": 24,
    "start_time": "2022-11-19T15:16:57.713Z"
   },
   {
    "duration": 20,
    "start_time": "2022-11-19T15:17:52.889Z"
   },
   {
    "duration": 18,
    "start_time": "2022-11-19T15:18:08.106Z"
   },
   {
    "duration": 19,
    "start_time": "2022-11-19T15:18:13.257Z"
   },
   {
    "duration": 21,
    "start_time": "2022-11-19T15:18:18.393Z"
   },
   {
    "duration": 22,
    "start_time": "2022-11-19T15:19:03.395Z"
   },
   {
    "duration": 16,
    "start_time": "2022-11-19T15:19:12.100Z"
   },
   {
    "duration": 22,
    "start_time": "2022-11-19T15:19:48.224Z"
   },
   {
    "duration": 24,
    "start_time": "2022-11-19T15:23:54.116Z"
   },
   {
    "duration": 26,
    "start_time": "2022-11-19T15:24:17.004Z"
   },
   {
    "duration": 20,
    "start_time": "2022-11-19T15:24:58.285Z"
   },
   {
    "duration": 3456,
    "start_time": "2022-11-19T15:30:26.232Z"
   },
   {
    "duration": 275,
    "start_time": "2022-11-19T15:30:48.640Z"
   },
   {
    "duration": 301,
    "start_time": "2022-11-19T15:31:01.513Z"
   },
   {
    "duration": 307,
    "start_time": "2022-11-19T15:31:23.421Z"
   },
   {
    "duration": 304,
    "start_time": "2022-11-19T15:32:00.668Z"
   },
   {
    "duration": 314,
    "start_time": "2022-11-19T15:32:04.811Z"
   },
   {
    "duration": 516,
    "start_time": "2022-11-19T15:32:18.491Z"
   },
   {
    "duration": 337,
    "start_time": "2022-11-19T15:32:27.834Z"
   },
   {
    "duration": 18,
    "start_time": "2022-11-19T15:58:44.023Z"
   },
   {
    "duration": 294,
    "start_time": "2022-11-19T15:59:28.480Z"
   },
   {
    "duration": 282,
    "start_time": "2022-11-19T16:00:21.489Z"
   },
   {
    "duration": 17,
    "start_time": "2022-11-19T16:00:25.688Z"
   },
   {
    "duration": 521,
    "start_time": "2022-11-19T16:00:27.856Z"
   },
   {
    "duration": 116,
    "start_time": "2022-11-19T16:02:32.190Z"
   },
   {
    "duration": 107,
    "start_time": "2022-11-19T16:02:39.075Z"
   },
   {
    "duration": 252,
    "start_time": "2022-11-19T16:02:58.268Z"
   },
   {
    "duration": 15,
    "start_time": "2022-11-19T16:08:03.199Z"
   },
   {
    "duration": 24,
    "start_time": "2022-11-19T16:08:15.711Z"
   },
   {
    "duration": 18,
    "start_time": "2022-11-19T16:08:24.954Z"
   },
   {
    "duration": 17,
    "start_time": "2022-11-19T16:15:31.637Z"
   },
   {
    "duration": 18,
    "start_time": "2022-11-19T16:16:52.767Z"
   },
   {
    "duration": 1154,
    "start_time": "2022-11-19T16:18:36.968Z"
   },
   {
    "duration": 1129,
    "start_time": "2022-11-19T16:18:39.072Z"
   },
   {
    "duration": 19,
    "start_time": "2022-11-19T16:18:59.440Z"
   },
   {
    "duration": 14,
    "start_time": "2022-11-19T16:19:23.225Z"
   },
   {
    "duration": 20,
    "start_time": "2022-11-19T16:22:48.780Z"
   },
   {
    "duration": 1320,
    "start_time": "2022-11-19T16:25:01.302Z"
   },
   {
    "duration": 11,
    "start_time": "2022-11-19T16:25:11.444Z"
   },
   {
    "duration": 1181,
    "start_time": "2022-11-19T16:28:43.905Z"
   },
   {
    "duration": 304,
    "start_time": "2022-11-19T16:29:07.041Z"
   },
   {
    "duration": 21,
    "start_time": "2022-11-19T16:29:54.581Z"
   },
   {
    "duration": 33,
    "start_time": "2022-11-19T16:29:59.776Z"
   },
   {
    "duration": 28,
    "start_time": "2022-11-19T16:31:17.140Z"
   },
   {
    "duration": 27,
    "start_time": "2022-11-19T16:32:02.858Z"
   },
   {
    "duration": 66,
    "start_time": "2022-11-19T16:32:24.755Z"
   },
   {
    "duration": 24,
    "start_time": "2022-11-19T16:32:34.513Z"
   },
   {
    "duration": 68,
    "start_time": "2022-11-19T16:33:16.748Z"
   },
   {
    "duration": 31,
    "start_time": "2022-11-19T16:33:19.963Z"
   },
   {
    "duration": 18,
    "start_time": "2022-11-19T17:28:25.479Z"
   },
   {
    "duration": 293,
    "start_time": "2022-11-19T17:28:29.151Z"
   },
   {
    "duration": 282,
    "start_time": "2022-11-19T17:30:47.813Z"
   },
   {
    "duration": 16,
    "start_time": "2022-11-19T17:35:57.670Z"
   },
   {
    "duration": 20,
    "start_time": "2022-11-19T17:35:59.575Z"
   },
   {
    "duration": 18,
    "start_time": "2022-11-19T17:36:01.406Z"
   },
   {
    "duration": 140,
    "start_time": "2022-11-19T17:38:18.364Z"
   },
   {
    "duration": 140,
    "start_time": "2022-11-19T17:39:21.155Z"
   },
   {
    "duration": 138,
    "start_time": "2022-11-19T17:43:47.468Z"
   },
   {
    "duration": 174,
    "start_time": "2022-11-19T17:44:03.662Z"
   },
   {
    "duration": 152,
    "start_time": "2022-11-19T17:44:13.056Z"
   },
   {
    "duration": 147,
    "start_time": "2022-11-19T17:44:39.183Z"
   },
   {
    "duration": 167,
    "start_time": "2022-11-19T17:44:57.885Z"
   },
   {
    "duration": 19,
    "start_time": "2022-11-19T17:56:38.296Z"
   },
   {
    "duration": 18,
    "start_time": "2022-11-19T18:01:37.342Z"
   },
   {
    "duration": 21,
    "start_time": "2022-11-19T18:01:44.542Z"
   },
   {
    "duration": 18,
    "start_time": "2022-11-19T18:02:40.608Z"
   },
   {
    "duration": 29,
    "start_time": "2022-11-19T18:02:47.200Z"
   },
   {
    "duration": 23,
    "start_time": "2022-11-19T18:03:43.842Z"
   },
   {
    "duration": 23,
    "start_time": "2022-11-19T18:03:57.376Z"
   },
   {
    "duration": 23,
    "start_time": "2022-11-19T18:04:35.846Z"
   },
   {
    "duration": 22,
    "start_time": "2022-11-19T18:04:41.169Z"
   },
   {
    "duration": 69,
    "start_time": "2022-11-19T18:04:51.091Z"
   },
   {
    "duration": 19,
    "start_time": "2022-11-19T18:05:01.752Z"
   },
   {
    "duration": 18,
    "start_time": "2022-11-19T18:06:20.169Z"
   },
   {
    "duration": 18,
    "start_time": "2022-11-19T18:06:25.966Z"
   },
   {
    "duration": 17,
    "start_time": "2022-11-19T18:06:37.020Z"
   },
   {
    "duration": 20,
    "start_time": "2022-11-19T18:08:23.108Z"
   },
   {
    "duration": 23,
    "start_time": "2022-11-19T18:08:30.309Z"
   },
   {
    "duration": 15,
    "start_time": "2022-11-19T18:09:01.187Z"
   },
   {
    "duration": 16,
    "start_time": "2022-11-19T18:09:05.805Z"
   },
   {
    "duration": 20,
    "start_time": "2022-11-19T18:09:11.366Z"
   },
   {
    "duration": 16,
    "start_time": "2022-11-19T18:09:22.501Z"
   },
   {
    "duration": 18,
    "start_time": "2022-11-19T18:09:28.593Z"
   },
   {
    "duration": 21,
    "start_time": "2022-11-19T18:09:54.905Z"
   },
   {
    "duration": 283,
    "start_time": "2022-11-19T18:10:34.229Z"
   },
   {
    "duration": 201,
    "start_time": "2022-11-19T18:12:48.971Z"
   },
   {
    "duration": 183,
    "start_time": "2022-11-19T18:13:24.320Z"
   },
   {
    "duration": 247,
    "start_time": "2022-11-19T18:14:56.677Z"
   },
   {
    "duration": 162,
    "start_time": "2022-11-19T18:15:01.831Z"
   },
   {
    "duration": 34,
    "start_time": "2022-11-19T18:15:45.847Z"
   },
   {
    "duration": 23,
    "start_time": "2022-11-19T18:16:02.583Z"
   },
   {
    "duration": 176,
    "start_time": "2022-11-19T18:16:06.744Z"
   },
   {
    "duration": 18,
    "start_time": "2022-11-19T18:16:51.389Z"
   },
   {
    "duration": 172,
    "start_time": "2022-11-19T18:17:24.484Z"
   },
   {
    "duration": 13,
    "start_time": "2022-11-19T19:19:00.111Z"
   },
   {
    "duration": 1203,
    "start_time": "2022-11-19T19:19:17.365Z"
   },
   {
    "duration": 15,
    "start_time": "2022-11-19T19:19:54.766Z"
   },
   {
    "duration": 277,
    "start_time": "2022-11-19T19:21:23.012Z"
   },
   {
    "duration": 166,
    "start_time": "2022-11-19T19:21:29.955Z"
   },
   {
    "duration": 682,
    "start_time": "2022-11-19T19:23:03.548Z"
   },
   {
    "duration": 171,
    "start_time": "2022-11-19T19:23:32.235Z"
   },
   {
    "duration": 23,
    "start_time": "2022-11-19T19:24:32.919Z"
   },
   {
    "duration": 208,
    "start_time": "2022-11-19T19:25:22.840Z"
   },
   {
    "duration": 17,
    "start_time": "2022-11-19T19:26:10.405Z"
   },
   {
    "duration": 21,
    "start_time": "2022-11-19T19:26:53.747Z"
   },
   {
    "duration": 209,
    "start_time": "2022-11-19T19:27:09.141Z"
   },
   {
    "duration": 17,
    "start_time": "2022-11-19T19:27:44.616Z"
   },
   {
    "duration": 30,
    "start_time": "2022-11-19T19:28:19.587Z"
   },
   {
    "duration": 143,
    "start_time": "2022-11-19T19:28:32.309Z"
   },
   {
    "duration": 1137,
    "start_time": "2022-11-19T19:29:27.400Z"
   },
   {
    "duration": 165,
    "start_time": "2022-11-19T19:29:56.686Z"
   },
   {
    "duration": 199,
    "start_time": "2022-11-19T19:30:21.557Z"
   },
   {
    "duration": 169,
    "start_time": "2022-11-19T19:30:39.508Z"
   },
   {
    "duration": 129,
    "start_time": "2022-11-19T19:31:34.869Z"
   },
   {
    "duration": 18,
    "start_time": "2022-11-19T19:31:48.883Z"
   },
   {
    "duration": 131,
    "start_time": "2022-11-19T19:32:02.593Z"
   },
   {
    "duration": 156,
    "start_time": "2022-11-19T19:33:08.381Z"
   },
   {
    "duration": 22,
    "start_time": "2022-11-19T19:33:17.439Z"
   },
   {
    "duration": 132,
    "start_time": "2022-11-19T19:33:28.102Z"
   },
   {
    "duration": 18,
    "start_time": "2022-11-19T19:38:10.102Z"
   },
   {
    "duration": 231,
    "start_time": "2022-11-19T19:38:49.420Z"
   },
   {
    "duration": 14,
    "start_time": "2022-11-19T19:39:08.692Z"
   },
   {
    "duration": 15,
    "start_time": "2022-11-19T19:40:17.856Z"
   },
   {
    "duration": 15,
    "start_time": "2022-11-19T19:42:24.424Z"
   },
   {
    "duration": 131,
    "start_time": "2022-11-19T20:37:11.958Z"
   },
   {
    "duration": 23,
    "start_time": "2022-11-19T20:55:39.693Z"
   },
   {
    "duration": 151,
    "start_time": "2022-11-19T20:55:48.260Z"
   },
   {
    "duration": 1183,
    "start_time": "2022-11-19T21:20:32.245Z"
   },
   {
    "duration": 53,
    "start_time": "2022-11-19T21:20:33.430Z"
   },
   {
    "duration": 16,
    "start_time": "2022-11-19T21:20:33.485Z"
   },
   {
    "duration": 17,
    "start_time": "2022-11-19T21:20:33.502Z"
   },
   {
    "duration": 843,
    "start_time": "2022-11-19T21:20:33.521Z"
   },
   {
    "duration": 14,
    "start_time": "2022-11-19T21:20:34.365Z"
   },
   {
    "duration": 64,
    "start_time": "2022-11-19T21:20:34.381Z"
   },
   {
    "duration": 7,
    "start_time": "2022-11-19T21:20:34.448Z"
   },
   {
    "duration": 17,
    "start_time": "2022-11-19T21:20:34.457Z"
   },
   {
    "duration": 6,
    "start_time": "2022-11-19T21:20:34.475Z"
   },
   {
    "duration": 8,
    "start_time": "2022-11-19T21:20:34.482Z"
   },
   {
    "duration": 23,
    "start_time": "2022-11-19T21:20:34.492Z"
   },
   {
    "duration": 6,
    "start_time": "2022-11-19T21:20:34.550Z"
   },
   {
    "duration": 11,
    "start_time": "2022-11-19T21:20:34.559Z"
   },
   {
    "duration": 29,
    "start_time": "2022-11-19T21:20:34.572Z"
   },
   {
    "duration": 4,
    "start_time": "2022-11-19T21:20:34.602Z"
   },
   {
    "duration": 5,
    "start_time": "2022-11-19T21:20:34.608Z"
   },
   {
    "duration": 37,
    "start_time": "2022-11-19T21:20:34.615Z"
   },
   {
    "duration": 7,
    "start_time": "2022-11-19T21:20:34.654Z"
   },
   {
    "duration": 9,
    "start_time": "2022-11-19T21:20:34.663Z"
   },
   {
    "duration": 6,
    "start_time": "2022-11-19T21:20:34.673Z"
   },
   {
    "duration": 17,
    "start_time": "2022-11-19T21:20:34.680Z"
   },
   {
    "duration": 6,
    "start_time": "2022-11-19T21:20:34.698Z"
   },
   {
    "duration": 55,
    "start_time": "2022-11-19T21:20:34.706Z"
   },
   {
    "duration": 38,
    "start_time": "2022-11-19T21:20:34.763Z"
   },
   {
    "duration": 111,
    "start_time": "2022-11-19T21:20:34.803Z"
   },
   {
    "duration": 406,
    "start_time": "2022-11-19T21:20:34.916Z"
   },
   {
    "duration": 5,
    "start_time": "2022-11-19T21:20:35.324Z"
   },
   {
    "duration": 233,
    "start_time": "2022-11-19T21:20:35.330Z"
   },
   {
    "duration": 23,
    "start_time": "2022-11-19T21:20:35.564Z"
   },
   {
    "duration": 999,
    "start_time": "2022-11-19T21:20:35.589Z"
   },
   {
    "duration": 4,
    "start_time": "2022-11-19T21:20:36.591Z"
   },
   {
    "duration": 7,
    "start_time": "2022-11-19T21:20:36.597Z"
   },
   {
    "duration": 20,
    "start_time": "2022-11-19T21:20:36.606Z"
   },
   {
    "duration": 1380,
    "start_time": "2022-11-19T21:20:36.651Z"
   },
   {
    "duration": 307,
    "start_time": "2022-11-19T21:20:38.033Z"
   },
   {
    "duration": 67,
    "start_time": "2022-11-19T21:20:38.342Z"
   },
   {
    "duration": 1683,
    "start_time": "2022-11-19T21:20:38.410Z"
   },
   {
    "duration": 27,
    "start_time": "2022-11-19T21:20:40.095Z"
   },
   {
    "duration": 73,
    "start_time": "2022-11-19T21:20:40.125Z"
   },
   {
    "duration": 0,
    "start_time": "2022-11-19T21:20:40.201Z"
   },
   {
    "duration": 0,
    "start_time": "2022-11-19T21:20:40.203Z"
   },
   {
    "duration": 0,
    "start_time": "2022-11-19T21:20:40.204Z"
   },
   {
    "duration": 0,
    "start_time": "2022-11-19T21:20:40.206Z"
   },
   {
    "duration": 0,
    "start_time": "2022-11-19T21:20:40.207Z"
   },
   {
    "duration": 0,
    "start_time": "2022-11-19T21:20:40.208Z"
   },
   {
    "duration": 0,
    "start_time": "2022-11-19T21:20:40.210Z"
   },
   {
    "duration": 0,
    "start_time": "2022-11-19T21:20:40.211Z"
   },
   {
    "duration": 0,
    "start_time": "2022-11-19T21:20:40.211Z"
   },
   {
    "duration": 0,
    "start_time": "2022-11-19T21:20:40.212Z"
   },
   {
    "duration": 0,
    "start_time": "2022-11-19T21:20:40.213Z"
   },
   {
    "duration": 0,
    "start_time": "2022-11-19T21:20:40.214Z"
   },
   {
    "duration": 0,
    "start_time": "2022-11-19T21:20:40.215Z"
   },
   {
    "duration": 0,
    "start_time": "2022-11-19T21:20:40.216Z"
   },
   {
    "duration": 0,
    "start_time": "2022-11-19T21:20:40.217Z"
   },
   {
    "duration": 0,
    "start_time": "2022-11-19T21:20:40.219Z"
   },
   {
    "duration": 0,
    "start_time": "2022-11-19T21:20:40.220Z"
   },
   {
    "duration": 3,
    "start_time": "2022-11-19T21:22:46.308Z"
   },
   {
    "duration": 55,
    "start_time": "2022-11-19T21:22:46.318Z"
   },
   {
    "duration": 19,
    "start_time": "2022-11-19T21:22:46.376Z"
   },
   {
    "duration": 14,
    "start_time": "2022-11-19T21:22:46.397Z"
   },
   {
    "duration": 861,
    "start_time": "2022-11-19T21:22:46.413Z"
   },
   {
    "duration": 16,
    "start_time": "2022-11-19T21:22:47.276Z"
   },
   {
    "duration": 16,
    "start_time": "2022-11-19T21:22:47.294Z"
   },
   {
    "duration": 5,
    "start_time": "2022-11-19T21:22:47.311Z"
   },
   {
    "duration": 44,
    "start_time": "2022-11-19T21:22:47.318Z"
   },
   {
    "duration": 7,
    "start_time": "2022-11-19T21:22:47.364Z"
   },
   {
    "duration": 10,
    "start_time": "2022-11-19T21:22:47.372Z"
   },
   {
    "duration": 26,
    "start_time": "2022-11-19T21:22:47.384Z"
   },
   {
    "duration": 6,
    "start_time": "2022-11-19T21:22:47.451Z"
   },
   {
    "duration": 7,
    "start_time": "2022-11-19T21:22:47.458Z"
   },
   {
    "duration": 24,
    "start_time": "2022-11-19T21:22:47.468Z"
   },
   {
    "duration": 5,
    "start_time": "2022-11-19T21:22:47.493Z"
   },
   {
    "duration": 14,
    "start_time": "2022-11-19T21:22:47.500Z"
   },
   {
    "duration": 35,
    "start_time": "2022-11-19T21:22:47.517Z"
   },
   {
    "duration": 5,
    "start_time": "2022-11-19T21:22:47.554Z"
   },
   {
    "duration": 8,
    "start_time": "2022-11-19T21:22:47.561Z"
   },
   {
    "duration": 7,
    "start_time": "2022-11-19T21:22:47.570Z"
   },
   {
    "duration": 16,
    "start_time": "2022-11-19T21:22:47.579Z"
   },
   {
    "duration": 7,
    "start_time": "2022-11-19T21:22:47.596Z"
   },
   {
    "duration": 59,
    "start_time": "2022-11-19T21:22:47.605Z"
   },
   {
    "duration": 39,
    "start_time": "2022-11-19T21:22:47.666Z"
   },
   {
    "duration": 100,
    "start_time": "2022-11-19T21:22:47.707Z"
   },
   {
    "duration": 383,
    "start_time": "2022-11-19T21:22:47.809Z"
   },
   {
    "duration": 5,
    "start_time": "2022-11-19T21:22:48.194Z"
   },
   {
    "duration": 235,
    "start_time": "2022-11-19T21:22:48.201Z"
   },
   {
    "duration": 33,
    "start_time": "2022-11-19T21:22:48.438Z"
   },
   {
    "duration": 1036,
    "start_time": "2022-11-19T21:22:48.473Z"
   },
   {
    "duration": 4,
    "start_time": "2022-11-19T21:22:49.510Z"
   },
   {
    "duration": 5,
    "start_time": "2022-11-19T21:22:49.517Z"
   },
   {
    "duration": 45,
    "start_time": "2022-11-19T21:22:49.524Z"
   },
   {
    "duration": 1591,
    "start_time": "2022-11-19T21:22:49.571Z"
   },
   {
    "duration": 304,
    "start_time": "2022-11-19T21:22:51.164Z"
   },
   {
    "duration": 85,
    "start_time": "2022-11-19T21:22:51.470Z"
   },
   {
    "duration": 1567,
    "start_time": "2022-11-19T21:22:51.557Z"
   },
   {
    "duration": 37,
    "start_time": "2022-11-19T21:22:53.125Z"
   },
   {
    "duration": 84,
    "start_time": "2022-11-19T21:22:53.164Z"
   },
   {
    "duration": 0,
    "start_time": "2022-11-19T21:22:53.250Z"
   },
   {
    "duration": 0,
    "start_time": "2022-11-19T21:22:53.252Z"
   },
   {
    "duration": 0,
    "start_time": "2022-11-19T21:22:53.253Z"
   },
   {
    "duration": 0,
    "start_time": "2022-11-19T21:22:53.254Z"
   },
   {
    "duration": 0,
    "start_time": "2022-11-19T21:22:53.255Z"
   },
   {
    "duration": 0,
    "start_time": "2022-11-19T21:22:53.256Z"
   },
   {
    "duration": 0,
    "start_time": "2022-11-19T21:22:53.257Z"
   },
   {
    "duration": 0,
    "start_time": "2022-11-19T21:22:53.259Z"
   },
   {
    "duration": 0,
    "start_time": "2022-11-19T21:22:53.260Z"
   },
   {
    "duration": 0,
    "start_time": "2022-11-19T21:22:53.261Z"
   },
   {
    "duration": 0,
    "start_time": "2022-11-19T21:22:53.262Z"
   },
   {
    "duration": 0,
    "start_time": "2022-11-19T21:22:53.263Z"
   },
   {
    "duration": 0,
    "start_time": "2022-11-19T21:22:53.264Z"
   },
   {
    "duration": 0,
    "start_time": "2022-11-19T21:22:53.265Z"
   },
   {
    "duration": 0,
    "start_time": "2022-11-19T21:22:53.266Z"
   },
   {
    "duration": 0,
    "start_time": "2022-11-19T21:22:53.267Z"
   },
   {
    "duration": 0,
    "start_time": "2022-11-19T21:22:53.269Z"
   },
   {
    "duration": 3,
    "start_time": "2022-11-19T21:23:47.757Z"
   },
   {
    "duration": 53,
    "start_time": "2022-11-19T21:23:47.763Z"
   },
   {
    "duration": 15,
    "start_time": "2022-11-19T21:23:47.817Z"
   },
   {
    "duration": 23,
    "start_time": "2022-11-19T21:23:47.834Z"
   },
   {
    "duration": 825,
    "start_time": "2022-11-19T21:23:47.859Z"
   },
   {
    "duration": 17,
    "start_time": "2022-11-19T21:23:48.685Z"
   },
   {
    "duration": 16,
    "start_time": "2022-11-19T21:23:48.703Z"
   },
   {
    "duration": 31,
    "start_time": "2022-11-19T21:23:48.721Z"
   },
   {
    "duration": 19,
    "start_time": "2022-11-19T21:23:48.754Z"
   },
   {
    "duration": 14,
    "start_time": "2022-11-19T21:23:48.774Z"
   },
   {
    "duration": 18,
    "start_time": "2022-11-19T21:23:48.790Z"
   },
   {
    "duration": 27,
    "start_time": "2022-11-19T21:23:48.810Z"
   },
   {
    "duration": 16,
    "start_time": "2022-11-19T21:23:48.838Z"
   },
   {
    "duration": 9,
    "start_time": "2022-11-19T21:23:48.856Z"
   },
   {
    "duration": 26,
    "start_time": "2022-11-19T21:23:48.866Z"
   },
   {
    "duration": 5,
    "start_time": "2022-11-19T21:23:48.894Z"
   },
   {
    "duration": 8,
    "start_time": "2022-11-19T21:23:48.900Z"
   },
   {
    "duration": 6,
    "start_time": "2022-11-19T21:23:48.910Z"
   },
   {
    "duration": 8,
    "start_time": "2022-11-19T21:23:48.950Z"
   },
   {
    "duration": 16,
    "start_time": "2022-11-19T21:23:48.960Z"
   },
   {
    "duration": 12,
    "start_time": "2022-11-19T21:23:48.978Z"
   },
   {
    "duration": 18,
    "start_time": "2022-11-19T21:23:48.992Z"
   },
   {
    "duration": 8,
    "start_time": "2022-11-19T21:23:49.012Z"
   },
   {
    "duration": 21,
    "start_time": "2022-11-19T21:23:49.053Z"
   },
   {
    "duration": 51,
    "start_time": "2022-11-19T21:23:49.076Z"
   },
   {
    "duration": 147,
    "start_time": "2022-11-19T21:23:49.128Z"
   },
   {
    "duration": 400,
    "start_time": "2022-11-19T21:23:49.277Z"
   },
   {
    "duration": 8,
    "start_time": "2022-11-19T21:23:49.679Z"
   },
   {
    "duration": 275,
    "start_time": "2022-11-19T21:23:49.689Z"
   },
   {
    "duration": 19,
    "start_time": "2022-11-19T21:23:49.966Z"
   },
   {
    "duration": 995,
    "start_time": "2022-11-19T21:23:49.987Z"
   },
   {
    "duration": 4,
    "start_time": "2022-11-19T21:23:50.984Z"
   },
   {
    "duration": 9,
    "start_time": "2022-11-19T21:23:50.990Z"
   },
   {
    "duration": 20,
    "start_time": "2022-11-19T21:23:51.001Z"
   },
   {
    "duration": 1530,
    "start_time": "2022-11-19T21:23:51.023Z"
   },
   {
    "duration": 287,
    "start_time": "2022-11-19T21:23:52.555Z"
   },
   {
    "duration": 65,
    "start_time": "2022-11-19T21:23:52.844Z"
   },
   {
    "duration": 1629,
    "start_time": "2022-11-19T21:23:52.910Z"
   },
   {
    "duration": 28,
    "start_time": "2022-11-19T21:23:54.541Z"
   },
   {
    "duration": 101,
    "start_time": "2022-11-19T21:23:54.571Z"
   },
   {
    "duration": 24,
    "start_time": "2022-11-19T21:23:54.674Z"
   },
   {
    "duration": 416,
    "start_time": "2022-11-19T21:23:54.700Z"
   },
   {
    "duration": 157,
    "start_time": "2022-11-19T21:23:55.118Z"
   },
   {
    "duration": 143,
    "start_time": "2022-11-19T21:23:55.277Z"
   },
   {
    "duration": 153,
    "start_time": "2022-11-19T21:23:55.422Z"
   },
   {
    "duration": 158,
    "start_time": "2022-11-19T21:23:55.577Z"
   },
   {
    "duration": 141,
    "start_time": "2022-11-19T21:23:55.737Z"
   },
   {
    "duration": 146,
    "start_time": "2022-11-19T21:23:55.879Z"
   },
   {
    "duration": 156,
    "start_time": "2022-11-19T21:23:56.027Z"
   },
   {
    "duration": 158,
    "start_time": "2022-11-19T21:23:56.185Z"
   },
   {
    "duration": 168,
    "start_time": "2022-11-19T21:23:56.344Z"
   },
   {
    "duration": 11,
    "start_time": "2022-11-19T21:23:56.515Z"
   },
   {
    "duration": 28,
    "start_time": "2022-11-19T21:23:56.528Z"
   },
   {
    "duration": 17,
    "start_time": "2022-11-19T21:23:56.558Z"
   },
   {
    "duration": 10,
    "start_time": "2022-11-19T21:23:56.576Z"
   },
   {
    "duration": 15,
    "start_time": "2022-11-19T21:23:56.588Z"
   },
   {
    "duration": 1136,
    "start_time": "2022-11-20T18:31:14.210Z"
   },
   {
    "duration": 52,
    "start_time": "2022-11-20T18:31:15.348Z"
   },
   {
    "duration": 16,
    "start_time": "2022-11-20T18:31:15.402Z"
   },
   {
    "duration": 17,
    "start_time": "2022-11-20T18:31:15.420Z"
   },
   {
    "duration": 748,
    "start_time": "2022-11-20T18:31:15.438Z"
   },
   {
    "duration": 19,
    "start_time": "2022-11-20T18:31:16.193Z"
   },
   {
    "duration": 18,
    "start_time": "2022-11-20T18:31:16.214Z"
   },
   {
    "duration": 4,
    "start_time": "2022-11-20T18:31:16.234Z"
   },
   {
    "duration": 15,
    "start_time": "2022-11-20T18:31:16.240Z"
   },
   {
    "duration": 5,
    "start_time": "2022-11-20T18:31:16.258Z"
   },
   {
    "duration": 7,
    "start_time": "2022-11-20T18:31:16.265Z"
   },
   {
    "duration": 49,
    "start_time": "2022-11-20T18:31:16.274Z"
   },
   {
    "duration": 6,
    "start_time": "2022-11-20T18:31:16.325Z"
   },
   {
    "duration": 9,
    "start_time": "2022-11-20T18:31:16.333Z"
   },
   {
    "duration": 21,
    "start_time": "2022-11-20T18:31:16.344Z"
   },
   {
    "duration": 5,
    "start_time": "2022-11-20T18:31:16.366Z"
   },
   {
    "duration": 34,
    "start_time": "2022-11-20T18:31:16.372Z"
   },
   {
    "duration": 13,
    "start_time": "2022-11-20T18:31:16.408Z"
   },
   {
    "duration": 16,
    "start_time": "2022-11-20T18:31:16.423Z"
   },
   {
    "duration": 8,
    "start_time": "2022-11-20T18:31:16.441Z"
   },
   {
    "duration": 5,
    "start_time": "2022-11-20T18:31:16.451Z"
   },
   {
    "duration": 18,
    "start_time": "2022-11-20T18:31:16.457Z"
   },
   {
    "duration": 5,
    "start_time": "2022-11-20T18:31:16.477Z"
   },
   {
    "duration": 19,
    "start_time": "2022-11-20T18:31:16.483Z"
   },
   {
    "duration": 43,
    "start_time": "2022-11-20T18:31:16.504Z"
   },
   {
    "duration": 77,
    "start_time": "2022-11-20T18:31:16.549Z"
   },
   {
    "duration": 346,
    "start_time": "2022-11-20T18:31:16.628Z"
   },
   {
    "duration": 4,
    "start_time": "2022-11-20T18:31:16.977Z"
   },
   {
    "duration": 186,
    "start_time": "2022-11-20T18:31:16.983Z"
   },
   {
    "duration": 17,
    "start_time": "2022-11-20T18:31:17.170Z"
   },
   {
    "duration": 886,
    "start_time": "2022-11-20T18:31:17.189Z"
   },
   {
    "duration": 5,
    "start_time": "2022-11-20T18:31:18.077Z"
   },
   {
    "duration": 10,
    "start_time": "2022-11-20T18:31:18.083Z"
   },
   {
    "duration": 26,
    "start_time": "2022-11-20T18:31:18.094Z"
   },
   {
    "duration": 1332,
    "start_time": "2022-11-20T18:31:18.121Z"
   },
   {
    "duration": 286,
    "start_time": "2022-11-20T18:31:19.454Z"
   },
   {
    "duration": 87,
    "start_time": "2022-11-20T18:31:19.742Z"
   },
   {
    "duration": 1360,
    "start_time": "2022-11-20T18:31:19.831Z"
   },
   {
    "duration": 27,
    "start_time": "2022-11-20T18:31:21.192Z"
   },
   {
    "duration": 58,
    "start_time": "2022-11-20T18:31:21.221Z"
   },
   {
    "duration": 25,
    "start_time": "2022-11-20T18:31:21.304Z"
   },
   {
    "duration": 325,
    "start_time": "2022-11-20T18:31:21.331Z"
   },
   {
    "duration": 133,
    "start_time": "2022-11-20T18:31:21.658Z"
   },
   {
    "duration": 133,
    "start_time": "2022-11-20T18:31:21.793Z"
   },
   {
    "duration": 131,
    "start_time": "2022-11-20T18:31:21.928Z"
   },
   {
    "duration": 129,
    "start_time": "2022-11-20T18:31:22.061Z"
   },
   {
    "duration": 125,
    "start_time": "2022-11-20T18:31:22.192Z"
   },
   {
    "duration": 131,
    "start_time": "2022-11-20T18:31:22.319Z"
   },
   {
    "duration": 139,
    "start_time": "2022-11-20T18:31:22.451Z"
   },
   {
    "duration": 145,
    "start_time": "2022-11-20T18:31:22.591Z"
   },
   {
    "duration": 139,
    "start_time": "2022-11-20T18:31:22.738Z"
   },
   {
    "duration": 7,
    "start_time": "2022-11-20T18:31:22.879Z"
   },
   {
    "duration": 22,
    "start_time": "2022-11-20T18:31:22.887Z"
   },
   {
    "duration": 14,
    "start_time": "2022-11-20T18:31:22.911Z"
   },
   {
    "duration": 8,
    "start_time": "2022-11-20T18:31:22.926Z"
   },
   {
    "duration": 16,
    "start_time": "2022-11-20T18:31:22.935Z"
   }
  ],
  "kernelspec": {
   "display_name": "base",
   "language": "python",
   "name": "python3"
  },
  "language_info": {
   "codemirror_mode": {
    "name": "ipython",
    "version": 3
   },
   "file_extension": ".py",
   "mimetype": "text/x-python",
   "name": "python",
   "nbconvert_exporter": "python",
   "pygments_lexer": "ipython3",
   "version": "3.9.12"
  },
  "toc": {
   "base_numbering": 1,
   "nav_menu": {},
   "number_sections": true,
   "sideBar": true,
   "skip_h1_title": true,
   "title_cell": "Table of Contents",
   "title_sidebar": "Contents",
   "toc_cell": false,
   "toc_position": {},
   "toc_section_display": true,
   "toc_window_display": false
  },
  "vscode": {
   "interpreter": {
    "hash": "ad2bdc8ecc057115af97d19610ffacc2b4e99fae6737bb82f5d7fb13d2f2c186"
   }
  }
 },
 "nbformat": 4,
 "nbformat_minor": 2
}
