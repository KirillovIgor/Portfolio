{
 "cells": [
  {
   "cell_type": "markdown",
   "metadata": {},
   "source": [
    "<div class=\"alert alert-info\" style=\"border-radius: 10px; box-shadow: 2px 2px 2px; border: 1px solid; padding: 10px \"> \n",
    "<b>Василий, привет!</b> "
   ]
  },
  {
   "cell_type": "markdown",
   "metadata": {},
   "source": [
    "# Рынок заведений общественного питания Москвы"
   ]
  },
  {
   "cell_type": "markdown",
   "metadata": {},
   "source": [
    "Презентация: <https://disk.yandex.ru/i/ZfZqrzbI-y8bVg>"
   ]
  },
  {
   "cell_type": "markdown",
   "metadata": {},
   "source": [
    "<h2>Описание проекта <a class=\"tocSkip\"> </h2>\n",
    "\n",
    "**Заказчик** -  Фонд «Shut Up and Take My Money».\n",
    "    \n",
    "**Цель проекта** - Провести исследование рынка недвижимости для открытия заведения общественного питания в Москве.\n",
    "\n",
    "**Задачи проекта:**\n",
    "    \n",
    "- Осуществить исследование коммерческой недвижимости Москвы\n",
    "- Найти интересные особенности на рынке недвижимости\n",
    "- Презентовать полученные результаты исследования\n",
    "\n",
    "\n",
    "**Входные данные»** - датасет с заведениями общественного питания Москвы, составленный на основе данных сервисов Яндекс Карты и Яндекс Бизнес на лето 2022 года (*файл moscow_places.csv*).\n",
    "    \n",
    "Ниже описаны обозначения столбцов:\n",
    "\n",
    "- name — название заведения;\n",
    "- address — адрес заведения;\n",
    "- category — категория заведения, например «кафе», «пиццерия» или «кофейня»;\n",
    "- hours — информация о днях и часах работы;\n",
    "- lat — широта географической точки, в которой находится заведение;\n",
    "- lng — долгота географической точки, в которой находится заведение;\n",
    "- rating — рейтинг заведения по оценкам пользователей в Яндекс Картах (высшая оценка — 5.0);\n",
    "- price — категория цен в заведении, например «средние», «ниже среднего», «выше среднего» и так далее;\n",
    "- avg_bill — строка, которая хранит среднюю стоимость заказа в виде диапазона, например:\n",
    "    - «Средний счёт: 1000–1500 ₽»;\n",
    "    - «Цена чашки капучино: 130–220 ₽»;\n",
    "    - «Цена бокала пива: 400–600 ₽».\n",
    "       и так далее;\n",
    "- middle_avg_bill — число с оценкой среднего чека, которое указано только для значений из столбца avg_bill, начинающихся с подстроки «Средний счёт»:\n",
    "    - Если в строке указан ценовой диапазон из двух значений, в столбец войдёт медиана этих двух значений.\n",
    "    - Если в строке указано одно число — цена без диапазона, то в столбец войдёт это число.\n",
    "    - Если значения нет или оно не начинается с подстроки «Средний счёт», то в столбец ничего не войдёт.\n",
    "- middle_coffee_cup — число с оценкой одной чашки капучино, которое указано только для значений из столбца avg_bill, начинающихся с подстроки «Цена одной чашки капучино»:\n",
    "    - Если в строке указан ценовой диапазон из двух значений, в столбец войдёт медиана этих двух значений.\n",
    "    - Если в строке указано одно число — цена без диапазона, то в столбец войдёт это число.\n",
    "    - Если значения нет или оно не начинается с подстроки «Цена одной чашки капучино», то в столбец ничего не войдёт.\n",
    "- chain — число, выраженное 0 или 1, которое показывает, является ли заведение сетевым (для маленьких сетей могут встречаться ошибки):\n",
    "    - 0 — заведение не является сетевым\n",
    "    - 1 — заведение является сетевым\n",
    "- district — административный район, в котором находится заведение, например Центральный административный округ;\n",
    "- seats — количество посадочных мест.\n",
    "    \n",
    "**План работ:**\n",
    "- *Изучение общей информации о данных*\n",
    " \n",
    "    \n",
    "- *Предобработка данных*\n",
    "    - удаление пропусков\n",
    "    - обработка аномальных значений\n",
    "    - изменение типов данных\n",
    "    - обработка дубликатов\n",
    "    - категоризация данных\n",
    "    \n",
    "    \n",
    "- *Изучение и проверка данных*\n",
    "\n",
    "   \n",
    "- *Детализация исследования : открытие кофейни*\n",
    "    \n",
    "    \n",
    "- *Изучение результатов эксперимента*"
   ]
  },
  {
   "cell_type": "markdown",
   "metadata": {},
   "source": [
    "<div class=\"alert alert-success\" style=\"border-radius: 10px; box-shadow: 2px 2px 2px; border: 1px solid; padding: 10px \">\n",
    "<b>Комментарий ревьюера v.1</b> \n",
    "    \n",
    "👍 \n",
    "Вступление в работу очень важно. Так ты поясняешь то, чему она посвящена. Еще лучше будет, если ты сделаешь план работы с гиперссылками. Да, есть плагин ToC. Но хорошо бы уметь реализовывать интерактивный план проекта вручную. Как это реализовать - смотри по ссылке :https://stackoverflow.com/questions/49535664/how-to-hyperlink-in-a-jupyter-notebook/49717704\n",
    "</div>"
   ]
  },
  {
   "cell_type": "markdown",
   "metadata": {},
   "source": [
    "## Откроем файл с данными и изучим общую информацию."
   ]
  },
  {
   "cell_type": "code",
   "execution_count": 3,
   "metadata": {},
   "outputs": [],
   "source": [
    "#Импортируем библиотеку pandas\n",
    "import pandas as pd\n",
    "\n",
    "#Импортируем модуль библиотеки matplotlib  pyplot\n",
    "import matplotlib.pyplot as plt\n",
    "\n",
    "#Импортируем библиотеку numpy\n",
    "import numpy as np\n",
    "\n",
    "#Импортируем из библиотеки scipy  модуль stats\n",
    "from scipy import stats as st\n",
    "\n",
    "#Импортируем библиотеку для использования сложных математических формул\n",
    "import math as mth\n",
    "\n",
    "#Импортируем библиотеку для работы со временем\n",
    "import datetime as dt\n",
    "\n",
    "#Импортируем библиотеку seaborn\n",
    "import seaborn as sns\n",
    "\n",
    "# Импортируем библиотеку для графика воронки\n",
    "import plotly.express as px\n",
    "\n",
    "# Импортируем модуль библиотеки plotly \n",
    "from plotly import graph_objects as go\n",
    "\n",
    "#Импортируем библиотеку для работы с регулярными выражениями\n",
    "import re\n",
    "\n",
    "#Подключаем модуль для работы с JSON-форматом\n",
    "import json\n",
    "\n",
    "\n",
    "#Импортируем кластер\n",
    "from folium.plugins import MarkerCluster\n",
    "\n",
    "#Импортируем карту и хороплет\n",
    "from folium import Map, Choropleth, Marker\n",
    "\n",
    "#Импортируем  библиотеку warnings и numpy для предотвращения возникновения всплывабщих ошибок\n",
    "import warnings\n",
    "\n",
    "#Код для предотвращения всплывающих ошибок\n",
    "warnings.filterwarnings(\"ignore\")"
   ]
  },
  {
   "cell_type": "markdown",
   "metadata": {},
   "source": [
    "<div class=\"alert alert-success\" style=\"border-radius: 10px; box-shadow: 2px 2px 2px; border: 1px solid; padding: 10px \">\n",
    "<b>Комментарий ревьюера v.1</b> \n",
    "    \n",
    "👍 \n",
    "Правильно, что весь импорт ты проводишь в первой ячейке работы. Так твой коллега, запускающий работу, будет в курсе используемых в ней библиотек и сможет при необходимости быстро настроить окружение.\n",
    "</div>"
   ]
  },
  {
   "cell_type": "code",
   "execution_count": 4,
   "metadata": {},
   "outputs": [],
   "source": [
    "#Сохраним датасет в переменную df\n",
    "df = pd.read_csv('moscow_places.csv')"
   ]
  },
  {
   "cell_type": "code",
   "execution_count": 5,
   "metadata": {
    "scrolled": false
   },
   "outputs": [
    {
     "data": {
      "text/html": [
       "<div>\n",
       "<style scoped>\n",
       "    .dataframe tbody tr th:only-of-type {\n",
       "        vertical-align: middle;\n",
       "    }\n",
       "\n",
       "    .dataframe tbody tr th {\n",
       "        vertical-align: top;\n",
       "    }\n",
       "\n",
       "    .dataframe thead th {\n",
       "        text-align: right;\n",
       "    }\n",
       "</style>\n",
       "<table border=\"1\" class=\"dataframe\">\n",
       "  <thead>\n",
       "    <tr style=\"text-align: right;\">\n",
       "      <th></th>\n",
       "      <th>name</th>\n",
       "      <th>category</th>\n",
       "      <th>address</th>\n",
       "      <th>district</th>\n",
       "      <th>hours</th>\n",
       "      <th>lat</th>\n",
       "      <th>lng</th>\n",
       "      <th>rating</th>\n",
       "      <th>price</th>\n",
       "      <th>avg_bill</th>\n",
       "      <th>middle_avg_bill</th>\n",
       "      <th>middle_coffee_cup</th>\n",
       "      <th>chain</th>\n",
       "      <th>seats</th>\n",
       "    </tr>\n",
       "  </thead>\n",
       "  <tbody>\n",
       "    <tr>\n",
       "      <th>0</th>\n",
       "      <td>WoWфли</td>\n",
       "      <td>кафе</td>\n",
       "      <td>Москва, улица Дыбенко, 7/1</td>\n",
       "      <td>Северный административный округ</td>\n",
       "      <td>ежедневно, 10:00–22:00</td>\n",
       "      <td>55.878494</td>\n",
       "      <td>37.478860</td>\n",
       "      <td>5.0</td>\n",
       "      <td>NaN</td>\n",
       "      <td>NaN</td>\n",
       "      <td>NaN</td>\n",
       "      <td>NaN</td>\n",
       "      <td>0</td>\n",
       "      <td>NaN</td>\n",
       "    </tr>\n",
       "    <tr>\n",
       "      <th>1</th>\n",
       "      <td>Четыре комнаты</td>\n",
       "      <td>ресторан</td>\n",
       "      <td>Москва, улица Дыбенко, 36, корп. 1</td>\n",
       "      <td>Северный административный округ</td>\n",
       "      <td>ежедневно, 10:00–22:00</td>\n",
       "      <td>55.875801</td>\n",
       "      <td>37.484479</td>\n",
       "      <td>4.5</td>\n",
       "      <td>выше среднего</td>\n",
       "      <td>Средний счёт:1500–1600 ₽</td>\n",
       "      <td>1550.0</td>\n",
       "      <td>NaN</td>\n",
       "      <td>0</td>\n",
       "      <td>4.0</td>\n",
       "    </tr>\n",
       "    <tr>\n",
       "      <th>2</th>\n",
       "      <td>Хазри</td>\n",
       "      <td>кафе</td>\n",
       "      <td>Москва, Клязьминская улица, 15</td>\n",
       "      <td>Северный административный округ</td>\n",
       "      <td>пн-чт 11:00–02:00; пт,сб 11:00–05:00; вс 11:00...</td>\n",
       "      <td>55.889146</td>\n",
       "      <td>37.525901</td>\n",
       "      <td>4.6</td>\n",
       "      <td>средние</td>\n",
       "      <td>Средний счёт:от 1000 ₽</td>\n",
       "      <td>1000.0</td>\n",
       "      <td>NaN</td>\n",
       "      <td>0</td>\n",
       "      <td>45.0</td>\n",
       "    </tr>\n",
       "    <tr>\n",
       "      <th>3</th>\n",
       "      <td>Dormouse Coffee Shop</td>\n",
       "      <td>кофейня</td>\n",
       "      <td>Москва, улица Маршала Федоренко, 12</td>\n",
       "      <td>Северный административный округ</td>\n",
       "      <td>ежедневно, 09:00–22:00</td>\n",
       "      <td>55.881608</td>\n",
       "      <td>37.488860</td>\n",
       "      <td>5.0</td>\n",
       "      <td>NaN</td>\n",
       "      <td>Цена чашки капучино:155–185 ₽</td>\n",
       "      <td>NaN</td>\n",
       "      <td>170.0</td>\n",
       "      <td>0</td>\n",
       "      <td>NaN</td>\n",
       "    </tr>\n",
       "    <tr>\n",
       "      <th>4</th>\n",
       "      <td>Иль Марко</td>\n",
       "      <td>пиццерия</td>\n",
       "      <td>Москва, Правобережная улица, 1Б</td>\n",
       "      <td>Северный административный округ</td>\n",
       "      <td>ежедневно, 10:00–22:00</td>\n",
       "      <td>55.881166</td>\n",
       "      <td>37.449357</td>\n",
       "      <td>5.0</td>\n",
       "      <td>средние</td>\n",
       "      <td>Средний счёт:400–600 ₽</td>\n",
       "      <td>500.0</td>\n",
       "      <td>NaN</td>\n",
       "      <td>1</td>\n",
       "      <td>148.0</td>\n",
       "    </tr>\n",
       "  </tbody>\n",
       "</table>\n",
       "</div>"
      ],
      "text/plain": [
       "                   name  category                              address  \\\n",
       "0                WoWфли      кафе           Москва, улица Дыбенко, 7/1   \n",
       "1        Четыре комнаты  ресторан   Москва, улица Дыбенко, 36, корп. 1   \n",
       "2                 Хазри      кафе       Москва, Клязьминская улица, 15   \n",
       "3  Dormouse Coffee Shop   кофейня  Москва, улица Маршала Федоренко, 12   \n",
       "4             Иль Марко  пиццерия      Москва, Правобережная улица, 1Б   \n",
       "\n",
       "                          district  \\\n",
       "0  Северный административный округ   \n",
       "1  Северный административный округ   \n",
       "2  Северный административный округ   \n",
       "3  Северный административный округ   \n",
       "4  Северный административный округ   \n",
       "\n",
       "                                               hours        lat        lng  \\\n",
       "0                             ежедневно, 10:00–22:00  55.878494  37.478860   \n",
       "1                             ежедневно, 10:00–22:00  55.875801  37.484479   \n",
       "2  пн-чт 11:00–02:00; пт,сб 11:00–05:00; вс 11:00...  55.889146  37.525901   \n",
       "3                             ежедневно, 09:00–22:00  55.881608  37.488860   \n",
       "4                             ежедневно, 10:00–22:00  55.881166  37.449357   \n",
       "\n",
       "   rating          price                       avg_bill  middle_avg_bill  \\\n",
       "0     5.0            NaN                            NaN              NaN   \n",
       "1     4.5  выше среднего       Средний счёт:1500–1600 ₽           1550.0   \n",
       "2     4.6        средние         Средний счёт:от 1000 ₽           1000.0   \n",
       "3     5.0            NaN  Цена чашки капучино:155–185 ₽              NaN   \n",
       "4     5.0        средние         Средний счёт:400–600 ₽            500.0   \n",
       "\n",
       "   middle_coffee_cup  chain  seats  \n",
       "0                NaN      0    NaN  \n",
       "1                NaN      0    4.0  \n",
       "2                NaN      0   45.0  \n",
       "3              170.0      0    NaN  \n",
       "4                NaN      1  148.0  "
      ]
     },
     "execution_count": 5,
     "metadata": {},
     "output_type": "execute_result"
    }
   ],
   "source": [
    "#Выведем первые 5 строк датасета\n",
    "df.head()"
   ]
  },
  {
   "cell_type": "code",
   "execution_count": 6,
   "metadata": {
    "scrolled": false
   },
   "outputs": [
    {
     "name": "stdout",
     "output_type": "stream",
     "text": [
      "<class 'pandas.core.frame.DataFrame'>\n",
      "RangeIndex: 8406 entries, 0 to 8405\n",
      "Data columns (total 14 columns):\n",
      " #   Column             Non-Null Count  Dtype  \n",
      "---  ------             --------------  -----  \n",
      " 0   name               8406 non-null   object \n",
      " 1   category           8406 non-null   object \n",
      " 2   address            8406 non-null   object \n",
      " 3   district           8406 non-null   object \n",
      " 4   hours              7870 non-null   object \n",
      " 5   lat                8406 non-null   float64\n",
      " 6   lng                8406 non-null   float64\n",
      " 7   rating             8406 non-null   float64\n",
      " 8   price              3315 non-null   object \n",
      " 9   avg_bill           3816 non-null   object \n",
      " 10  middle_avg_bill    3149 non-null   float64\n",
      " 11  middle_coffee_cup  535 non-null    float64\n",
      " 12  chain              8406 non-null   int64  \n",
      " 13  seats              4795 non-null   float64\n",
      "dtypes: float64(6), int64(1), object(7)\n",
      "memory usage: 919.5+ KB\n"
     ]
    }
   ],
   "source": [
    "#Выведем общую информацию о датасете\n",
    "df.info()"
   ]
  },
  {
   "cell_type": "markdown",
   "metadata": {},
   "source": [
    "Всего в датафрейме присутствует:\n",
    "- 14 столбцов\n",
    "- 8406 строк"
   ]
  },
  {
   "cell_type": "code",
   "execution_count": 7,
   "metadata": {},
   "outputs": [
    {
     "name": "stdout",
     "output_type": "stream",
     "text": [
      "Доля пропусков в столбце   name              0.0%\n",
      "-------------------------------------------------------------\n",
      "Доля пропусков в столбце   category          0.0%\n",
      "-------------------------------------------------------------\n",
      "Доля пропусков в столбце   address           0.0%\n",
      "-------------------------------------------------------------\n",
      "Доля пропусков в столбце   district          0.0%\n",
      "-------------------------------------------------------------\n",
      "Доля пропусков в столбце   hours             6.38%\n",
      "-------------------------------------------------------------\n",
      "Доля пропусков в столбце   lat               0.0%\n",
      "-------------------------------------------------------------\n",
      "Доля пропусков в столбце   lng               0.0%\n",
      "-------------------------------------------------------------\n",
      "Доля пропусков в столбце   rating            0.0%\n",
      "-------------------------------------------------------------\n",
      "Доля пропусков в столбце   price             60.56%\n",
      "-------------------------------------------------------------\n",
      "Доля пропусков в столбце   avg_bill          54.6%\n",
      "-------------------------------------------------------------\n",
      "Доля пропусков в столбце   middle_avg_bill   62.54%\n",
      "-------------------------------------------------------------\n",
      "Доля пропусков в столбце   middle_coffee_cup 93.64%\n",
      "-------------------------------------------------------------\n",
      "Доля пропусков в столбце   chain             0.0%\n",
      "-------------------------------------------------------------\n",
      "Доля пропусков в столбце   seats             42.96%\n",
      "-------------------------------------------------------------\n"
     ]
    }
   ],
   "source": [
    "for col in df.columns:\n",
    "    print(f\"{'Доля пропусков в столбце': <27}{col: <18}{round(100 - (df[col].count() / df.shape[0] * 100), 2): <3}{'%':^0}\")\n",
    "    print('-------------------------------------------------------------')"
   ]
  },
  {
   "cell_type": "markdown",
   "metadata": {},
   "source": [
    "<div class=\"alert alert-success\" style=\"border-radius: 10px; box-shadow: 2px 2px 2px; border: 1px solid; padding: 10px \">\n",
    "<b>Комментарий ревьюера v.1</b> \n",
    "    \n",
    "👍 \n",
    "Хороший способ посмотреть на долю пропусков! \n",
    "\n",
    "Держи еще один 😊\n",
    "\n",
    "`pd.DataFrame(round(df.isna().mean()*100,1)).style.background_gradient('coolwarm')`\n",
    "</div>"
   ]
  },
  {
   "cell_type": "markdown",
   "metadata": {},
   "source": [
    "- У небольшой части заведений (6.38%) отсутвуют часы работы, возможно, это круглосуточные заведения, стоит проверить\n",
    "- Очень много пропусков в столбце, отражающем среднюю цену за чашку кофе (~94%), видимо, как заведения, так и клиенты редко проставляют цены на кофе в отзывах\n",
    "- У половины заведений отсутствует информация о количестве посадочных мест\n",
    "- Приблизительно одинаковое количество пропусков в столбцах `price`, `avg_bill`, `middle_avg_bill`"
   ]
  },
  {
   "cell_type": "markdown",
   "metadata": {},
   "source": [
    "<div class=\"alert alert-success\" style=\"border-radius: 10px; box-shadow: 2px 2px 2px; border: 1px solid; padding: 10px \">\n",
    "<b>Комментарий ревьюера v.1</b> \n",
    "    \n",
    "👍 \n",
    "Хорошая вводная часть.\n",
    "\n",
    "Рекомендую создать универсальную функцию, которая будет принимать на вход датафрейм, а на выходе она будет выводить всего нужные характеристики, например, head, describe, info, дубликаты и т.п.\n",
    "</div>"
   ]
  },
  {
   "cell_type": "markdown",
   "metadata": {},
   "source": [
    "## Предобработка данных"
   ]
  },
  {
   "cell_type": "markdown",
   "metadata": {},
   "source": [
    "### Обработка пропусков"
   ]
  },
  {
   "cell_type": "code",
   "execution_count": 8,
   "metadata": {
    "scrolled": true
   },
   "outputs": [
    {
     "data": {
      "text/plain": [
       "0"
      ]
     },
     "execution_count": 8,
     "metadata": {},
     "output_type": "execute_result"
    }
   ],
   "source": [
    "#Проверим датасет на наличие дубликатов\n",
    "df.duplicated().sum()"
   ]
  },
  {
   "cell_type": "markdown",
   "metadata": {},
   "source": [
    "Дубликатов не обнаружилось"
   ]
  },
  {
   "cell_type": "code",
   "execution_count": 9,
   "metadata": {
    "scrolled": true
   },
   "outputs": [
    {
     "data": {
      "text/plain": [
       "array(['кафе', 'ресторан', 'кофейня', 'пиццерия', 'бар,паб',\n",
       "       'быстрое питание', 'булочная', 'столовая'], dtype=object)"
      ]
     },
     "execution_count": 9,
     "metadata": {},
     "output_type": "execute_result"
    }
   ],
   "source": [
    "#Проверим категории заведений на наличие неявных дубликатов\n",
    "df['category'].unique()"
   ]
  },
  {
   "cell_type": "markdown",
   "metadata": {},
   "source": [
    "Дубликатов не обнаружилось"
   ]
  },
  {
   "cell_type": "code",
   "execution_count": 10,
   "metadata": {
    "scrolled": true
   },
   "outputs": [
    {
     "data": {
      "text/plain": [
       "array(['Северный административный округ',\n",
       "       'Северо-Восточный административный округ',\n",
       "       'Северо-Западный административный округ',\n",
       "       'Западный административный округ',\n",
       "       'Центральный административный округ',\n",
       "       'Восточный административный округ',\n",
       "       'Юго-Восточный административный округ',\n",
       "       'Южный административный округ',\n",
       "       'Юго-Западный административный округ'], dtype=object)"
      ]
     },
     "execution_count": 10,
     "metadata": {},
     "output_type": "execute_result"
    }
   ],
   "source": [
    "#Проверим наименование административных округов на наличие неявных дубликатов\n",
    "df['district'].unique()"
   ]
  },
  {
   "cell_type": "markdown",
   "metadata": {},
   "source": [
    "Дубликатов не обнаружилось"
   ]
  },
  {
   "cell_type": "markdown",
   "metadata": {},
   "source": [
    "<div class=\"alert alert-success\" style=\"border-radius: 10px; box-shadow: 2px 2px 2px; border: 1px solid; padding: 10px \">\n",
    "<b>Комментарий ревьюера v.1</b> \n",
    "    \n",
    "👍 \n",
    "Молодец, что не забываешь про явные дубликаты.\n",
    "</div>"
   ]
  },
  {
   "cell_type": "markdown",
   "metadata": {},
   "source": [
    "<div class=\"alert alert-danger\" style=\"border-radius: 10px; box-shadow: 2px 2px 2px; border: 1px solid; padding: 10px \">\n",
    "<b>Комментарий ревьюера v.1</b> \n",
    "    \n",
    "✍ \n",
    "Но, к сожалению не хватает проверки на неявные дубликаты. Неявные дубликаты могут появиться в случаях, когда данные собирались из разных источников или в системе были какие-то сбои при логировании. Добавь, пожалуйста проверку.\n",
    "</div>"
   ]
  },
  {
   "cell_type": "markdown",
   "metadata": {},
   "source": [
    "<div class=\"alert alert-info\" style=\"border-radius: 10px; box-shadow: 2px 2px 2px; border: 1px solid; padding: 10px \"> \n",
    "<b>Произвел проверку на неявные дубликаты</b> "
   ]
  },
  {
   "cell_type": "markdown",
   "metadata": {},
   "source": [
    "<div class=\"alert alert-warning\" style=\"border-radius: 10px; box-shadow: 2px 2px 2px; border: 1px solid; padding: 10px \">\n",
    "<b>Комментарий ревьюера v.2</b> \n",
    "    \n",
    "📝 \n",
    "Можно name и address привести к нижнему регистру и там еще глянуть :)\n",
    "</div>"
   ]
  },
  {
   "cell_type": "code",
   "execution_count": 11,
   "metadata": {
    "scrolled": false
   },
   "outputs": [
    {
     "data": {
      "text/html": [
       "<div>\n",
       "<style scoped>\n",
       "    .dataframe tbody tr th:only-of-type {\n",
       "        vertical-align: middle;\n",
       "    }\n",
       "\n",
       "    .dataframe tbody tr th {\n",
       "        vertical-align: top;\n",
       "    }\n",
       "\n",
       "    .dataframe thead th {\n",
       "        text-align: right;\n",
       "    }\n",
       "</style>\n",
       "<table border=\"1\" class=\"dataframe\">\n",
       "  <thead>\n",
       "    <tr style=\"text-align: right;\">\n",
       "      <th></th>\n",
       "      <th>name</th>\n",
       "      <th>category</th>\n",
       "      <th>address</th>\n",
       "      <th>district</th>\n",
       "      <th>hours</th>\n",
       "      <th>lat</th>\n",
       "      <th>lng</th>\n",
       "      <th>rating</th>\n",
       "      <th>price</th>\n",
       "      <th>avg_bill</th>\n",
       "      <th>middle_avg_bill</th>\n",
       "      <th>middle_coffee_cup</th>\n",
       "      <th>chain</th>\n",
       "      <th>seats</th>\n",
       "    </tr>\n",
       "  </thead>\n",
       "  <tbody>\n",
       "    <tr>\n",
       "      <th>38</th>\n",
       "      <td>Ижора</td>\n",
       "      <td>булочная</td>\n",
       "      <td>Москва, Ижорский проезд, 5А</td>\n",
       "      <td>Северный административный округ</td>\n",
       "      <td>NaN</td>\n",
       "      <td>55.888366</td>\n",
       "      <td>37.514856</td>\n",
       "      <td>4.4</td>\n",
       "      <td>NaN</td>\n",
       "      <td>NaN</td>\n",
       "      <td>NaN</td>\n",
       "      <td>NaN</td>\n",
       "      <td>0</td>\n",
       "      <td>NaN</td>\n",
       "    </tr>\n",
       "    <tr>\n",
       "      <th>40</th>\n",
       "      <td>Кафе</td>\n",
       "      <td>кафе</td>\n",
       "      <td>Москва, Ижорская улица, 18, стр. 1</td>\n",
       "      <td>Северный административный округ</td>\n",
       "      <td>NaN</td>\n",
       "      <td>55.895115</td>\n",
       "      <td>37.524902</td>\n",
       "      <td>3.7</td>\n",
       "      <td>NaN</td>\n",
       "      <td>NaN</td>\n",
       "      <td>NaN</td>\n",
       "      <td>NaN</td>\n",
       "      <td>0</td>\n",
       "      <td>NaN</td>\n",
       "    </tr>\n",
       "    <tr>\n",
       "      <th>44</th>\n",
       "      <td>Кафетерий</td>\n",
       "      <td>кафе</td>\n",
       "      <td>Москва, Ангарская улица, 24А</td>\n",
       "      <td>Северный административный округ</td>\n",
       "      <td>NaN</td>\n",
       "      <td>55.876289</td>\n",
       "      <td>37.519315</td>\n",
       "      <td>3.8</td>\n",
       "      <td>NaN</td>\n",
       "      <td>NaN</td>\n",
       "      <td>NaN</td>\n",
       "      <td>NaN</td>\n",
       "      <td>1</td>\n",
       "      <td>8.0</td>\n",
       "    </tr>\n",
       "    <tr>\n",
       "      <th>56</th>\n",
       "      <td>Рыба из тандыра</td>\n",
       "      <td>быстрое питание</td>\n",
       "      <td>Москва, Коровинское шоссе, 46, стр. 5</td>\n",
       "      <td>Северный административный округ</td>\n",
       "      <td>NaN</td>\n",
       "      <td>55.888010</td>\n",
       "      <td>37.515960</td>\n",
       "      <td>1.5</td>\n",
       "      <td>NaN</td>\n",
       "      <td>NaN</td>\n",
       "      <td>NaN</td>\n",
       "      <td>NaN</td>\n",
       "      <td>0</td>\n",
       "      <td>NaN</td>\n",
       "    </tr>\n",
       "    <tr>\n",
       "      <th>108</th>\n",
       "      <td>Кафе</td>\n",
       "      <td>бар,паб</td>\n",
       "      <td>Москва, МКАД, 82-й километр, вл18</td>\n",
       "      <td>Северо-Восточный административный округ</td>\n",
       "      <td>NaN</td>\n",
       "      <td>55.908930</td>\n",
       "      <td>37.558777</td>\n",
       "      <td>4.2</td>\n",
       "      <td>NaN</td>\n",
       "      <td>NaN</td>\n",
       "      <td>NaN</td>\n",
       "      <td>NaN</td>\n",
       "      <td>0</td>\n",
       "      <td>NaN</td>\n",
       "    </tr>\n",
       "    <tr>\n",
       "      <th>...</th>\n",
       "      <td>...</td>\n",
       "      <td>...</td>\n",
       "      <td>...</td>\n",
       "      <td>...</td>\n",
       "      <td>...</td>\n",
       "      <td>...</td>\n",
       "      <td>...</td>\n",
       "      <td>...</td>\n",
       "      <td>...</td>\n",
       "      <td>...</td>\n",
       "      <td>...</td>\n",
       "      <td>...</td>\n",
       "      <td>...</td>\n",
       "      <td>...</td>\n",
       "    </tr>\n",
       "    <tr>\n",
       "      <th>8236</th>\n",
       "      <td>1у</td>\n",
       "      <td>кафе</td>\n",
       "      <td>Москва, Нагатинская набережная, 40/1к1</td>\n",
       "      <td>Южный административный округ</td>\n",
       "      <td>NaN</td>\n",
       "      <td>55.685528</td>\n",
       "      <td>37.673546</td>\n",
       "      <td>3.4</td>\n",
       "      <td>NaN</td>\n",
       "      <td>NaN</td>\n",
       "      <td>NaN</td>\n",
       "      <td>NaN</td>\n",
       "      <td>0</td>\n",
       "      <td>NaN</td>\n",
       "    </tr>\n",
       "    <tr>\n",
       "      <th>8375</th>\n",
       "      <td>Улица Гурьянова 55</td>\n",
       "      <td>кафе</td>\n",
       "      <td>Москва, улица Гурьянова, 55</td>\n",
       "      <td>Юго-Восточный административный округ</td>\n",
       "      <td>NaN</td>\n",
       "      <td>55.679981</td>\n",
       "      <td>37.717034</td>\n",
       "      <td>4.5</td>\n",
       "      <td>NaN</td>\n",
       "      <td>NaN</td>\n",
       "      <td>NaN</td>\n",
       "      <td>NaN</td>\n",
       "      <td>0</td>\n",
       "      <td>NaN</td>\n",
       "    </tr>\n",
       "    <tr>\n",
       "      <th>8378</th>\n",
       "      <td>Восточно-грузинская кухня</td>\n",
       "      <td>быстрое питание</td>\n",
       "      <td>Москва, Зеленодольская улица, 32, корп. 3</td>\n",
       "      <td>Юго-Восточный административный округ</td>\n",
       "      <td>NaN</td>\n",
       "      <td>55.710540</td>\n",
       "      <td>37.767864</td>\n",
       "      <td>4.3</td>\n",
       "      <td>NaN</td>\n",
       "      <td>NaN</td>\n",
       "      <td>NaN</td>\n",
       "      <td>NaN</td>\n",
       "      <td>0</td>\n",
       "      <td>120.0</td>\n",
       "    </tr>\n",
       "    <tr>\n",
       "      <th>8381</th>\n",
       "      <td>Аэлита</td>\n",
       "      <td>кафе</td>\n",
       "      <td>Москва, Ферганская улица, 8, корп. 2, стр. 1</td>\n",
       "      <td>Юго-Восточный административный округ</td>\n",
       "      <td>NaN</td>\n",
       "      <td>55.708871</td>\n",
       "      <td>37.803831</td>\n",
       "      <td>3.8</td>\n",
       "      <td>NaN</td>\n",
       "      <td>NaN</td>\n",
       "      <td>NaN</td>\n",
       "      <td>NaN</td>\n",
       "      <td>0</td>\n",
       "      <td>30.0</td>\n",
       "    </tr>\n",
       "    <tr>\n",
       "      <th>8395</th>\n",
       "      <td>Истира Запрафка</td>\n",
       "      <td>кафе</td>\n",
       "      <td>Москва, Юго-Восточный административный округ, ...</td>\n",
       "      <td>Юго-Восточный административный округ</td>\n",
       "      <td>NaN</td>\n",
       "      <td>55.724686</td>\n",
       "      <td>37.710558</td>\n",
       "      <td>2.9</td>\n",
       "      <td>NaN</td>\n",
       "      <td>NaN</td>\n",
       "      <td>NaN</td>\n",
       "      <td>NaN</td>\n",
       "      <td>0</td>\n",
       "      <td>NaN</td>\n",
       "    </tr>\n",
       "  </tbody>\n",
       "</table>\n",
       "<p>536 rows × 14 columns</p>\n",
       "</div>"
      ],
      "text/plain": [
       "                           name         category  \\\n",
       "38                        Ижора         булочная   \n",
       "40                         Кафе             кафе   \n",
       "44                    Кафетерий             кафе   \n",
       "56              Рыба из тандыра  быстрое питание   \n",
       "108                        Кафе          бар,паб   \n",
       "...                         ...              ...   \n",
       "8236                         1у             кафе   \n",
       "8375         Улица Гурьянова 55             кафе   \n",
       "8378  Восточно-грузинская кухня  быстрое питание   \n",
       "8381                     Аэлита             кафе   \n",
       "8395            Истира Запрафка             кафе   \n",
       "\n",
       "                                                address  \\\n",
       "38                          Москва, Ижорский проезд, 5А   \n",
       "40                   Москва, Ижорская улица, 18, стр. 1   \n",
       "44                         Москва, Ангарская улица, 24А   \n",
       "56                Москва, Коровинское шоссе, 46, стр. 5   \n",
       "108                   Москва, МКАД, 82-й километр, вл18   \n",
       "...                                                 ...   \n",
       "8236             Москва, Нагатинская набережная, 40/1к1   \n",
       "8375                        Москва, улица Гурьянова, 55   \n",
       "8378          Москва, Зеленодольская улица, 32, корп. 3   \n",
       "8381       Москва, Ферганская улица, 8, корп. 2, стр. 1   \n",
       "8395  Москва, Юго-Восточный административный округ, ...   \n",
       "\n",
       "                                     district hours        lat        lng  \\\n",
       "38            Северный административный округ   NaN  55.888366  37.514856   \n",
       "40            Северный административный округ   NaN  55.895115  37.524902   \n",
       "44            Северный административный округ   NaN  55.876289  37.519315   \n",
       "56            Северный административный округ   NaN  55.888010  37.515960   \n",
       "108   Северо-Восточный административный округ   NaN  55.908930  37.558777   \n",
       "...                                       ...   ...        ...        ...   \n",
       "8236             Южный административный округ   NaN  55.685528  37.673546   \n",
       "8375     Юго-Восточный административный округ   NaN  55.679981  37.717034   \n",
       "8378     Юго-Восточный административный округ   NaN  55.710540  37.767864   \n",
       "8381     Юго-Восточный административный округ   NaN  55.708871  37.803831   \n",
       "8395     Юго-Восточный административный округ   NaN  55.724686  37.710558   \n",
       "\n",
       "      rating price avg_bill  middle_avg_bill  middle_coffee_cup  chain  seats  \n",
       "38       4.4   NaN      NaN              NaN                NaN      0    NaN  \n",
       "40       3.7   NaN      NaN              NaN                NaN      0    NaN  \n",
       "44       3.8   NaN      NaN              NaN                NaN      1    8.0  \n",
       "56       1.5   NaN      NaN              NaN                NaN      0    NaN  \n",
       "108      4.2   NaN      NaN              NaN                NaN      0    NaN  \n",
       "...      ...   ...      ...              ...                ...    ...    ...  \n",
       "8236     3.4   NaN      NaN              NaN                NaN      0    NaN  \n",
       "8375     4.5   NaN      NaN              NaN                NaN      0    NaN  \n",
       "8378     4.3   NaN      NaN              NaN                NaN      0  120.0  \n",
       "8381     3.8   NaN      NaN              NaN                NaN      0   30.0  \n",
       "8395     2.9   NaN      NaN              NaN                NaN      0    NaN  \n",
       "\n",
       "[536 rows x 14 columns]"
      ]
     },
     "execution_count": 11,
     "metadata": {},
     "output_type": "execute_result"
    }
   ],
   "source": [
    "#Изучим строки, в которых пропущенно время работы\n",
    "df[df['hours'].isna() == True]"
   ]
  },
  {
   "cell_type": "code",
   "execution_count": 12,
   "metadata": {
    "scrolled": false
   },
   "outputs": [
    {
     "data": {
      "text/plain": [
       "8"
      ]
     },
     "execution_count": 12,
     "metadata": {},
     "output_type": "execute_result"
    }
   ],
   "source": [
    "#Количество уникальных категорий\n",
    "df['category'].nunique()"
   ]
  },
  {
   "cell_type": "markdown",
   "metadata": {},
   "source": [
    "Количество уникальных категорий заведений - 8"
   ]
  },
  {
   "cell_type": "code",
   "execution_count": 13,
   "metadata": {
    "scrolled": false
   },
   "outputs": [
    {
     "data": {
      "image/png": "[encoded data removed]",
      "text/plain": [
       "<Figure size 800x800 with 1 Axes>"
      ]
     },
     "metadata": {},
     "output_type": "display_data"
    }
   ],
   "source": [
    "#Построим график, отражающий количество заведений с пропусками в часах работы\n",
    "sns.set_style('whitegrid') \n",
    "fig, ax = plt.subplots()\n",
    "ax = sns.histplot(x='category',data=df[df['hours'].isna() == True])\n",
    "plt.xticks(rotation = 90)\n",
    "ax.set_title('Заведения без указанного времени работы', fontweight=\"bold\", fontsize=14)\n",
    "ax.set_xlabel('Категория заведения')\n",
    "ax.set_ylabel('Количество')\n",
    "ax.patches[1].set_facecolor('salmon')\n",
    "#Задаем ширину и высоту общему графику\n",
    "fig.set_figheight(8) \n",
    "fig.set_figwidth(8)"
   ]
  },
  {
   "cell_type": "markdown",
   "metadata": {},
   "source": [
    "Как мы видим, в каждом типе заведений присутсвуют пропуски, соответсвенно, мы не можем утверждать, что пропуски обозначают круглосуточное заведение (будь то бары, пабы, рестораны и тому подобные заведения), значит, их можно удалить.\n",
    "\n",
    "Наибольшее количество пропусков у заведений с категорией `кафе`, возможно, это связанно с тем, что во всем датасете заведений этой категории больше всего (это мы выясним дальше)."
   ]
  },
  {
   "cell_type": "code",
   "execution_count": 14,
   "metadata": {},
   "outputs": [],
   "source": [
    "df = df[df['hours'].isna() == False].reset_index()"
   ]
  },
  {
   "cell_type": "markdown",
   "metadata": {},
   "source": [
    "В остальных столбцах имеет смысл заполнить пропуски заглушкой \"Не указано\""
   ]
  },
  {
   "cell_type": "code",
   "execution_count": 15,
   "metadata": {},
   "outputs": [],
   "source": [
    "df = df.fillna('не_указано')"
   ]
  },
  {
   "cell_type": "markdown",
   "metadata": {},
   "source": [
    "### Добавление новых столбцов"
   ]
  },
  {
   "cell_type": "code",
   "execution_count": 16,
   "metadata": {},
   "outputs": [],
   "source": [
    "#Добавим новый столбец с указанием улицы заведения\n",
    "for i in range(len(df)):\n",
    "    #Используем регулярные выражения для вычленения названия улиц между запятыми\n",
    "    m = re.search(', (.+?),', df.loc[i, 'address'])\n",
    "    if m:\n",
    "        found = m.group(1)\n",
    "    df.loc[i, 'street'] = found"
   ]
  },
  {
   "cell_type": "code",
   "execution_count": 17,
   "metadata": {},
   "outputs": [],
   "source": [
    "#Добавим столбец, содержаний информацию о том, круглосуточное ли заведение\n",
    "df['is_24/7'] = df['hours'].str.contains('круглосуточно', regex=False)"
   ]
  },
  {
   "cell_type": "code",
   "execution_count": 18,
   "metadata": {},
   "outputs": [
    {
     "data": {
      "text/html": [
       "<div>\n",
       "<style scoped>\n",
       "    .dataframe tbody tr th:only-of-type {\n",
       "        vertical-align: middle;\n",
       "    }\n",
       "\n",
       "    .dataframe tbody tr th {\n",
       "        vertical-align: top;\n",
       "    }\n",
       "\n",
       "    .dataframe thead th {\n",
       "        text-align: right;\n",
       "    }\n",
       "</style>\n",
       "<table border=\"1\" class=\"dataframe\">\n",
       "  <thead>\n",
       "    <tr style=\"text-align: right;\">\n",
       "      <th></th>\n",
       "      <th>index</th>\n",
       "      <th>name</th>\n",
       "      <th>category</th>\n",
       "      <th>address</th>\n",
       "      <th>district</th>\n",
       "      <th>hours</th>\n",
       "      <th>lat</th>\n",
       "      <th>lng</th>\n",
       "      <th>rating</th>\n",
       "      <th>price</th>\n",
       "      <th>avg_bill</th>\n",
       "      <th>middle_avg_bill</th>\n",
       "      <th>middle_coffee_cup</th>\n",
       "      <th>chain</th>\n",
       "      <th>seats</th>\n",
       "      <th>street</th>\n",
       "      <th>is_24/7</th>\n",
       "    </tr>\n",
       "  </thead>\n",
       "  <tbody>\n",
       "    <tr>\n",
       "      <th>0</th>\n",
       "      <td>0</td>\n",
       "      <td>WoWфли</td>\n",
       "      <td>кафе</td>\n",
       "      <td>Москва, улица Дыбенко, 7/1</td>\n",
       "      <td>Северный административный округ</td>\n",
       "      <td>ежедневно, 10:00–22:00</td>\n",
       "      <td>55.878494</td>\n",
       "      <td>37.478860</td>\n",
       "      <td>5.0</td>\n",
       "      <td>не_указано</td>\n",
       "      <td>не_указано</td>\n",
       "      <td>не_указано</td>\n",
       "      <td>не_указано</td>\n",
       "      <td>0</td>\n",
       "      <td>не_указано</td>\n",
       "      <td>улица Дыбенко</td>\n",
       "      <td>False</td>\n",
       "    </tr>\n",
       "    <tr>\n",
       "      <th>1</th>\n",
       "      <td>1</td>\n",
       "      <td>Четыре комнаты</td>\n",
       "      <td>ресторан</td>\n",
       "      <td>Москва, улица Дыбенко, 36, корп. 1</td>\n",
       "      <td>Северный административный округ</td>\n",
       "      <td>ежедневно, 10:00–22:00</td>\n",
       "      <td>55.875801</td>\n",
       "      <td>37.484479</td>\n",
       "      <td>4.5</td>\n",
       "      <td>выше среднего</td>\n",
       "      <td>Средний счёт:1500–1600 ₽</td>\n",
       "      <td>1550.0</td>\n",
       "      <td>не_указано</td>\n",
       "      <td>0</td>\n",
       "      <td>4.0</td>\n",
       "      <td>улица Дыбенко</td>\n",
       "      <td>False</td>\n",
       "    </tr>\n",
       "    <tr>\n",
       "      <th>2</th>\n",
       "      <td>2</td>\n",
       "      <td>Хазри</td>\n",
       "      <td>кафе</td>\n",
       "      <td>Москва, Клязьминская улица, 15</td>\n",
       "      <td>Северный административный округ</td>\n",
       "      <td>пн-чт 11:00–02:00; пт,сб 11:00–05:00; вс 11:00...</td>\n",
       "      <td>55.889146</td>\n",
       "      <td>37.525901</td>\n",
       "      <td>4.6</td>\n",
       "      <td>средние</td>\n",
       "      <td>Средний счёт:от 1000 ₽</td>\n",
       "      <td>1000.0</td>\n",
       "      <td>не_указано</td>\n",
       "      <td>0</td>\n",
       "      <td>45.0</td>\n",
       "      <td>Клязьминская улица</td>\n",
       "      <td>False</td>\n",
       "    </tr>\n",
       "    <tr>\n",
       "      <th>3</th>\n",
       "      <td>3</td>\n",
       "      <td>Dormouse Coffee Shop</td>\n",
       "      <td>кофейня</td>\n",
       "      <td>Москва, улица Маршала Федоренко, 12</td>\n",
       "      <td>Северный административный округ</td>\n",
       "      <td>ежедневно, 09:00–22:00</td>\n",
       "      <td>55.881608</td>\n",
       "      <td>37.488860</td>\n",
       "      <td>5.0</td>\n",
       "      <td>не_указано</td>\n",
       "      <td>Цена чашки капучино:155–185 ₽</td>\n",
       "      <td>не_указано</td>\n",
       "      <td>170.0</td>\n",
       "      <td>0</td>\n",
       "      <td>не_указано</td>\n",
       "      <td>улица Маршала Федоренко</td>\n",
       "      <td>False</td>\n",
       "    </tr>\n",
       "    <tr>\n",
       "      <th>4</th>\n",
       "      <td>4</td>\n",
       "      <td>Иль Марко</td>\n",
       "      <td>пиццерия</td>\n",
       "      <td>Москва, Правобережная улица, 1Б</td>\n",
       "      <td>Северный административный округ</td>\n",
       "      <td>ежедневно, 10:00–22:00</td>\n",
       "      <td>55.881166</td>\n",
       "      <td>37.449357</td>\n",
       "      <td>5.0</td>\n",
       "      <td>средние</td>\n",
       "      <td>Средний счёт:400–600 ₽</td>\n",
       "      <td>500.0</td>\n",
       "      <td>не_указано</td>\n",
       "      <td>1</td>\n",
       "      <td>148.0</td>\n",
       "      <td>Правобережная улица</td>\n",
       "      <td>False</td>\n",
       "    </tr>\n",
       "  </tbody>\n",
       "</table>\n",
       "</div>"
      ],
      "text/plain": [
       "   index                  name  category                              address  \\\n",
       "0      0                WoWфли      кафе           Москва, улица Дыбенко, 7/1   \n",
       "1      1        Четыре комнаты  ресторан   Москва, улица Дыбенко, 36, корп. 1   \n",
       "2      2                 Хазри      кафе       Москва, Клязьминская улица, 15   \n",
       "3      3  Dormouse Coffee Shop   кофейня  Москва, улица Маршала Федоренко, 12   \n",
       "4      4             Иль Марко  пиццерия      Москва, Правобережная улица, 1Б   \n",
       "\n",
       "                          district  \\\n",
       "0  Северный административный округ   \n",
       "1  Северный административный округ   \n",
       "2  Северный административный округ   \n",
       "3  Северный административный округ   \n",
       "4  Северный административный округ   \n",
       "\n",
       "                                               hours        lat        lng  \\\n",
       "0                             ежедневно, 10:00–22:00  55.878494  37.478860   \n",
       "1                             ежедневно, 10:00–22:00  55.875801  37.484479   \n",
       "2  пн-чт 11:00–02:00; пт,сб 11:00–05:00; вс 11:00...  55.889146  37.525901   \n",
       "3                             ежедневно, 09:00–22:00  55.881608  37.488860   \n",
       "4                             ежедневно, 10:00–22:00  55.881166  37.449357   \n",
       "\n",
       "   rating          price                       avg_bill middle_avg_bill  \\\n",
       "0     5.0     не_указано                     не_указано      не_указано   \n",
       "1     4.5  выше среднего       Средний счёт:1500–1600 ₽          1550.0   \n",
       "2     4.6        средние         Средний счёт:от 1000 ₽          1000.0   \n",
       "3     5.0     не_указано  Цена чашки капучино:155–185 ₽      не_указано   \n",
       "4     5.0        средние         Средний счёт:400–600 ₽           500.0   \n",
       "\n",
       "  middle_coffee_cup  chain       seats                   street  is_24/7  \n",
       "0        не_указано      0  не_указано            улица Дыбенко    False  \n",
       "1        не_указано      0         4.0            улица Дыбенко    False  \n",
       "2        не_указано      0        45.0       Клязьминская улица    False  \n",
       "3             170.0      0  не_указано  улица Маршала Федоренко    False  \n",
       "4        не_указано      1       148.0      Правобережная улица    False  "
      ]
     },
     "execution_count": 18,
     "metadata": {},
     "output_type": "execute_result"
    }
   ],
   "source": [
    "#Посмотрим, как теперь выглядит наш датафрейм\n",
    "df.head()"
   ]
  },
  {
   "cell_type": "markdown",
   "metadata": {},
   "source": [
    "<div class=\"alert alert-success\" style=\"border-radius: 10px; box-shadow: 2px 2px 2px; border: 1px solid; padding: 10px \">\n",
    "<b>Комментарий ревьюера v.1</b> \n",
    "    \n",
    "👍 \n",
    "Здесь все корректно. Двигаемся дальше.\n",
    "</div>"
   ]
  },
  {
   "cell_type": "markdown",
   "metadata": {},
   "source": [
    "## Анализ имеющихся данных"
   ]
  },
  {
   "cell_type": "markdown",
   "metadata": {},
   "source": [
    "### Категории заведений"
   ]
  },
  {
   "cell_type": "code",
   "execution_count": 19,
   "metadata": {},
   "outputs": [],
   "source": [
    "labels = []\n",
    "values = []\n",
    "#Напишем цикл для заполнения списков и построения круговой диаграммы\n",
    "for value in df['category'].unique():\n",
    "    labels.append(value)\n",
    "    values.append(df[df['category']==value]['category'].count())"
   ]
  },
  {
   "cell_type": "code",
   "execution_count": 20,
   "metadata": {},
   "outputs": [
    {
     "name": "stdout",
     "output_type": "stream",
     "text": [
      "['кафе', 'ресторан', 'кофейня', 'пиццерия', 'бар,паб', 'быстрое питание', 'булочная', 'столовая']\n",
      "[2003, 1969, 1398, 628, 747, 570, 249, 306]\n"
     ]
    }
   ],
   "source": [
    "print(labels)\n",
    "print(values)"
   ]
  },
  {
   "cell_type": "code",
   "execution_count": 21,
   "metadata": {},
   "outputs": [],
   "source": [
    "#Напишем для параметра \"explode\" кортеж со значениями для выделения самой большой доли\n",
    "explode = (0.1, 0.0, 0.0, 0.0, 0.0, 0.0, 0.0, 0.0)"
   ]
  },
  {
   "cell_type": "code",
   "execution_count": 23,
   "metadata": {
    "scrolled": true
   },
   "outputs": [
    {
     "name": "stdout",
     "output_type": "stream",
     "text": [
      "В датасете представленны следующие категории заведений (в порядке убывания количества заведений):\n",
      "Количество заведений категории кафе составляет:2003 заведений(25.45%)\n",
      "-------------------------------------------------------------\n",
      "Количество заведений категории ресторан составляет:1969 заведений(25.02%)\n",
      "-------------------------------------------------------------\n",
      "Количество заведений категории кофейня составляет:1398 заведений(17.76%)\n",
      "-------------------------------------------------------------\n",
      "Количество заведений категории пиццерия составляет:628 заведений(7.98%)\n",
      "-------------------------------------------------------------\n",
      "Количество заведений категории бар,паб составляет:747 заведений(9.49%)\n",
      "-------------------------------------------------------------\n",
      "Количество заведений категории быстрое питание составляет:570 заведений(7.24%)\n",
      "-------------------------------------------------------------\n",
      "Количество заведений категории булочная составляет:249 заведений(3.16%)\n",
      "-------------------------------------------------------------\n",
      "Количество заведений категории столовая составляет:306 заведений(3.89%)\n",
      "-------------------------------------------------------------\n"
     ]
    }
   ],
   "source": [
    "#Выведем через цикл полученные результаты\n",
    "print('В датасете представленны следующие категории заведений (в порядке убывания количества заведений):')\n",
    "for _ in range(len(labels)):\n",
    "    print(f'Количество заведений категории {labels[_]} составляет:' f'{values[_]} заведений' f'({round(values[_] / sum(values)* 100, 2)}%)')\n",
    "    print('-------------------------------------------------------------')"
   ]
  },
  {
   "cell_type": "markdown",
   "metadata": {},
   "source": [
    "Самая:\n",
    "- большая доля у заведений типа `кафе` (25.45%) и `ресторан` (25.02%)\n",
    "- маленькая доля у заведений типа `булочная` (3.16%) и `столовая` (3.89%)"
   ]
  },
  {
   "cell_type": "code",
   "execution_count": 24,
   "metadata": {},
   "outputs": [],
   "source": [
    "#Составим сводную таблицу для изучения медианного количества мест вы заведениях каждой категории\n",
    "df_ouf_plug = df[df['seats']!='не_указано']\n",
    "df_ouf_plug['seats'] = df_ouf_plug['seats'].astype('int')\n",
    "pivot_seats = (df_ouf_plug.groupby('category', as_index=False)\n",
    "               .agg({'seats':['median']})\n",
    "               .droplevel(1,axis=1)\n",
    "               .sort_values(by='seats', ascending = False))"
   ]
  },
  {
   "cell_type": "code",
   "execution_count": 25,
   "metadata": {
    "scrolled": true
   },
   "outputs": [
    {
     "data": {
      "text/html": [
       "<div>\n",
       "<style scoped>\n",
       "    .dataframe tbody tr th:only-of-type {\n",
       "        vertical-align: middle;\n",
       "    }\n",
       "\n",
       "    .dataframe tbody tr th {\n",
       "        vertical-align: top;\n",
       "    }\n",
       "\n",
       "    .dataframe thead th {\n",
       "        text-align: right;\n",
       "    }\n",
       "</style>\n",
       "<table border=\"1\" class=\"dataframe\">\n",
       "  <thead>\n",
       "    <tr style=\"text-align: right;\">\n",
       "      <th></th>\n",
       "      <th>category</th>\n",
       "      <th>seats</th>\n",
       "    </tr>\n",
       "  </thead>\n",
       "  <tbody>\n",
       "    <tr>\n",
       "      <th>6</th>\n",
       "      <td>ресторан</td>\n",
       "      <td>86.0</td>\n",
       "    </tr>\n",
       "    <tr>\n",
       "      <th>0</th>\n",
       "      <td>бар,паб</td>\n",
       "      <td>82.5</td>\n",
       "    </tr>\n",
       "    <tr>\n",
       "      <th>4</th>\n",
       "      <td>кофейня</td>\n",
       "      <td>80.0</td>\n",
       "    </tr>\n",
       "    <tr>\n",
       "      <th>7</th>\n",
       "      <td>столовая</td>\n",
       "      <td>73.5</td>\n",
       "    </tr>\n",
       "    <tr>\n",
       "      <th>2</th>\n",
       "      <td>быстрое питание</td>\n",
       "      <td>69.5</td>\n",
       "    </tr>\n",
       "    <tr>\n",
       "      <th>3</th>\n",
       "      <td>кафе</td>\n",
       "      <td>60.0</td>\n",
       "    </tr>\n",
       "    <tr>\n",
       "      <th>5</th>\n",
       "      <td>пиццерия</td>\n",
       "      <td>55.0</td>\n",
       "    </tr>\n",
       "    <tr>\n",
       "      <th>1</th>\n",
       "      <td>булочная</td>\n",
       "      <td>50.0</td>\n",
       "    </tr>\n",
       "  </tbody>\n",
       "</table>\n",
       "</div>"
      ],
      "text/plain": [
       "          category  seats\n",
       "6         ресторан   86.0\n",
       "0          бар,паб   82.5\n",
       "4          кофейня   80.0\n",
       "7         столовая   73.5\n",
       "2  быстрое питание   69.5\n",
       "3             кафе   60.0\n",
       "5         пиццерия   55.0\n",
       "1         булочная   50.0"
      ]
     },
     "execution_count": 25,
     "metadata": {},
     "output_type": "execute_result"
    }
   ],
   "source": [
    "pivot_seats"
   ]
  },
  {
   "cell_type": "markdown",
   "metadata": {},
   "source": [
    "Было решено провести оценку не по средней, а по медиане, потому что есть заведения (можно посмотреть на гистограмме для каждого заведения), которые сильно выбиваются из общей массы по количеству сидячих мест в каждой категории."
   ]
  },
  {
   "cell_type": "code",
   "execution_count": 26,
   "metadata": {
    "scrolled": true
   },
   "outputs": [
    {
     "name": "stdout",
     "output_type": "stream",
     "text": [
      "Медианное значение мест для категории бар,паб составляет:82.5\n",
      "-------------------------------------------------------------\n",
      "Медианное значение мест для категории булочная составляет:50.0\n",
      "-------------------------------------------------------------\n",
      "Медианное значение мест для категории быстрое питание составляет:69.5\n",
      "-------------------------------------------------------------\n",
      "Медианное значение мест для категории кафе составляет:60.0\n",
      "-------------------------------------------------------------\n",
      "Медианное значение мест для категории кофейня составляет:80.0\n",
      "-------------------------------------------------------------\n",
      "Медианное значение мест для категории пиццерия составляет:55.0\n",
      "-------------------------------------------------------------\n",
      "Медианное значение мест для категории ресторан составляет:86.0\n",
      "-------------------------------------------------------------\n",
      "Медианное значение мест для категории столовая составляет:73.5\n",
      "-------------------------------------------------------------\n"
     ]
    }
   ],
   "source": [
    "#Выведем через цикл полученные результаты\n",
    "\n",
    "for _ in range(len(pivot_seats)):\n",
    "    print(f'Медианное значение мест для категории {pivot_seats.loc[_][0]} составляет:' f'{pivot_seats.loc[_][1]}')\n",
    "    print('-------------------------------------------------------------')"
   ]
  },
  {
   "cell_type": "markdown",
   "metadata": {},
   "source": [
    "Самое:\n",
    "- большое медианное значение у заведений типа `ресторан` - 86\n",
    "- маленькое медианное значение у заведений типа`булочная` - 50"
   ]
  },
  {
   "cell_type": "markdown",
   "metadata": {},
   "source": [
    "### Соотношение сетевых и несетевых заведений"
   ]
  },
  {
   "cell_type": "code",
   "execution_count": 27,
   "metadata": {},
   "outputs": [],
   "source": [
    "#Таблица для анализа сетевых и несетевых заведений\n",
    "chain_p = pd.DataFrame(columns=['Число заведений', 'Тип заведения'])\n",
    "chain_p['Число заведений'] = df.groupby(by='chain')['chain'].count()\n",
    "chain_p['Тип заведения'] = ['Несетевое', 'Сетевое']"
   ]
  },
  {
   "cell_type": "code",
   "execution_count": 28,
   "metadata": {
    "scrolled": false
   },
   "outputs": [
    {
     "data": {
      "text/html": [
       "<div>\n",
       "<style scoped>\n",
       "    .dataframe tbody tr th:only-of-type {\n",
       "        vertical-align: middle;\n",
       "    }\n",
       "\n",
       "    .dataframe tbody tr th {\n",
       "        vertical-align: top;\n",
       "    }\n",
       "\n",
       "    .dataframe thead th {\n",
       "        text-align: right;\n",
       "    }\n",
       "</style>\n",
       "<table border=\"1\" class=\"dataframe\">\n",
       "  <thead>\n",
       "    <tr style=\"text-align: right;\">\n",
       "      <th></th>\n",
       "      <th>Число заведений</th>\n",
       "      <th>Тип заведения</th>\n",
       "    </tr>\n",
       "    <tr>\n",
       "      <th>chain</th>\n",
       "      <th></th>\n",
       "      <th></th>\n",
       "    </tr>\n",
       "  </thead>\n",
       "  <tbody>\n",
       "    <tr>\n",
       "      <th>0</th>\n",
       "      <td>4781</td>\n",
       "      <td>Несетевое</td>\n",
       "    </tr>\n",
       "    <tr>\n",
       "      <th>1</th>\n",
       "      <td>3089</td>\n",
       "      <td>Сетевое</td>\n",
       "    </tr>\n",
       "  </tbody>\n",
       "</table>\n",
       "</div>"
      ],
      "text/plain": [
       "       Число заведений Тип заведения\n",
       "chain                               \n",
       "0                 4781     Несетевое\n",
       "1                 3089       Сетевое"
      ]
     },
     "execution_count": 28,
     "metadata": {},
     "output_type": "execute_result"
    }
   ],
   "source": [
    "chain_p"
   ]
  },
  {
   "cell_type": "markdown",
   "metadata": {},
   "source": [
    "Количество:\n",
    "- Несетевых заведений - 4781 (60.75%)\n",
    "- Сетевых заведений - 3089 (39.25%)\n",
    "\n",
    "Интересное наблюдение, в несетевых местах больше выбросов по количеству мест (можно объяснить тем, что в сетевых местах есть стандарты, в которых определяется даже количество мест)"
   ]
  },
  {
   "cell_type": "markdown",
   "metadata": {},
   "source": [
    "<div class=\"alert alert-success\" style=\"border-radius: 10px; box-shadow: 2px 2px 2px; border: 1px solid; padding: 10px \">\n",
    "<b>Комментарий ревьюера v.1</b> \n",
    "    \n",
    "👍 \n",
    "Супер, именно доля заведений корректно дает ответ на поставленный вопрос. \n",
    "</div>"
   ]
  },
  {
   "cell_type": "markdown",
   "metadata": {},
   "source": [
    "### Категории заведений в разрезе его типа"
   ]
  },
  {
   "cell_type": "code",
   "execution_count": 29,
   "metadata": {},
   "outputs": [],
   "source": [
    "chain_1 = []\n",
    "for value in df['category'].unique():\n",
    "    chain_1.append(df[(df['category']==value) & (df['chain']==1)]['category'].count())"
   ]
  },
  {
   "cell_type": "code",
   "execution_count": 30,
   "metadata": {
    "scrolled": true
   },
   "outputs": [],
   "source": [
    "df_share_chain = pd.DataFrame(columns=['labels', 'count_of_places', 'yes_chain'])\n",
    "df_share_chain['labels'] = labels\n",
    "df_share_chain['count_of_places'] = values\n",
    "df_share_chain['yes_chain'] = chain_1\n",
    "df_share_chain['share_yes_chain'] = round(df_share_chain['yes_chain'] / df_share_chain['count_of_places'], 2)\n",
    "df_share_chain = df_share_chain.sort_values(by='share_yes_chain', ascending = False).reset_index(drop=True)"
   ]
  },
  {
   "cell_type": "markdown",
   "metadata": {},
   "source": [
    "<div class=\"alert alert-success\" style=\"border-radius: 10px; box-shadow: 2px 2px 2px; border: 1px solid; padding: 10px \">\n",
    "<b>Комментарий ревьюера v.2</b> \n",
    "    \n",
    "👍 \n",
    "Все верно, но локаничней бы смотрелось на барплот :)\n",
    "</div>"
   ]
  },
  {
   "cell_type": "markdown",
   "metadata": {},
   "source": [
    "### Топ - 15 популярных сетей в Москве"
   ]
  },
  {
   "cell_type": "code",
   "execution_count": 31,
   "metadata": {},
   "outputs": [],
   "source": [
    "# Создадим сводную таблицу, содержащую топ - 15 заведений по их количеству\n",
    "pivot_top = (df.pivot_table(index = ['category','name','chain'], \n",
    "                       values =['street'],\n",
    "                       aggfunc ='count')\n",
    "         .sort_values(by='street',ascending=False)\n",
    "         .rename(columns={'street': 'count_of_places'})).head(15)"
   ]
  },
  {
   "cell_type": "code",
   "execution_count": 33,
   "metadata": {},
   "outputs": [],
   "source": [
    "#Сделаем датасет для построения барплота\n",
    "for_barplot = (pivot_top\n",
    "               .droplevel([1,2],axis=0)\n",
    "               .groupby((pivot_top.droplevel([1,2],axis=0)).index)\n",
    "               .agg({'count_of_places':'sum'})\n",
    "               .sort_values(by='count_of_places', ascending = False))"
   ]
  },
  {
   "cell_type": "code",
   "execution_count": 34,
   "metadata": {
    "scrolled": false
   },
   "outputs": [
    {
     "data": {
      "application/vnd.plotly.v1+json": {
       "config": {
        "plotlyServerURL": "https://plot.ly"
       },
       "data": [
        {
         "labels": [
          "Шоколадница",
          "Кафе",
          "Домино'с Пицца",
          "Додо Пицца",
          "One Price Coffee",
          "Яндекс Лавка",
          "Cofix",
          "Prime",
          "КОФЕПОРТ",
          "Кулинарная лавка братьев Караваевых",
          "Теремок",
          "CofeFest",
          "Шаурма",
          "Drive Café",
          "Буханка"
         ],
         "type": "pie",
         "values": [
          119,
          79,
          76,
          74,
          71,
          68,
          65,
          49,
          42,
          39,
          36,
          31,
          25,
          24,
          24
         ]
        }
       ],
       "layout": {
        "template": {
         "data": {
          "bar": [
           {
            "error_x": {
             "color": "#2a3f5f"
            },
            "error_y": {
             "color": "#2a3f5f"
            },
            "marker": {
             "line": {
              "color": "#E5ECF6",
              "width": 0.5
             },
             "pattern": {
              "fillmode": "overlay",
              "size": 10,
              "solidity": 0.2
             }
            },
            "type": "bar"
           }
          ],
          "barpolar": [
           {
            "marker": {
             "line": {
              "color": "#E5ECF6",
              "width": 0.5
             },
             "pattern": {
              "fillmode": "overlay",
              "size": 10,
              "solidity": 0.2
             }
            },
            "type": "barpolar"
           }
          ],
          "carpet": [
           {
            "aaxis": {
             "endlinecolor": "#2a3f5f",
             "gridcolor": "white",
             "linecolor": "white",
             "minorgridcolor": "white",
             "startlinecolor": "#2a3f5f"
            },
            "baxis": {
             "endlinecolor": "#2a3f5f",
             "gridcolor": "white",
             "linecolor": "white",
             "minorgridcolor": "white",
             "startlinecolor": "#2a3f5f"
            },
            "type": "carpet"
           }
          ],
          "choropleth": [
           {
            "colorbar": {
             "outlinewidth": 0,
             "ticks": ""
            },
            "type": "choropleth"
           }
          ],
          "contour": [
           {
            "colorbar": {
             "outlinewidth": 0,
             "ticks": ""
            },
            "colorscale": [
             [
              0,
              "#0d0887"
             ],
             [
              0.1111111111111111,
              "#46039f"
             ],
             [
              0.2222222222222222,
              "#7201a8"
             ],
             [
              0.3333333333333333,
              "#9c179e"
             ],
             [
              0.4444444444444444,
              "#bd3786"
             ],
             [
              0.5555555555555556,
              "#d8576b"
             ],
             [
              0.6666666666666666,
              "#ed7953"
             ],
             [
              0.7777777777777778,
              "#fb9f3a"
             ],
             [
              0.8888888888888888,
              "#fdca26"
             ],
             [
              1,
              "#f0f921"
             ]
            ],
            "type": "contour"
           }
          ],
          "contourcarpet": [
           {
            "colorbar": {
             "outlinewidth": 0,
             "ticks": ""
            },
            "type": "contourcarpet"
           }
          ],
          "heatmap": [
           {
            "colorbar": {
             "outlinewidth": 0,
             "ticks": ""
            },
            "colorscale": [
             [
              0,
              "#0d0887"
             ],
             [
              0.1111111111111111,
              "#46039f"
             ],
             [
              0.2222222222222222,
              "#7201a8"
             ],
             [
              0.3333333333333333,
              "#9c179e"
             ],
             [
              0.4444444444444444,
              "#bd3786"
             ],
             [
              0.5555555555555556,
              "#d8576b"
             ],
             [
              0.6666666666666666,
              "#ed7953"
             ],
             [
              0.7777777777777778,
              "#fb9f3a"
             ],
             [
              0.8888888888888888,
              "#fdca26"
             ],
             [
              1,
              "#f0f921"
             ]
            ],
            "type": "heatmap"
           }
          ],
          "heatmapgl": [
           {
            "colorbar": {
             "outlinewidth": 0,
             "ticks": ""
            },
            "colorscale": [
             [
              0,
              "#0d0887"
             ],
             [
              0.1111111111111111,
              "#46039f"
             ],
             [
              0.2222222222222222,
              "#7201a8"
             ],
             [
              0.3333333333333333,
              "#9c179e"
             ],
             [
              0.4444444444444444,
              "#bd3786"
             ],
             [
              0.5555555555555556,
              "#d8576b"
             ],
             [
              0.6666666666666666,
              "#ed7953"
             ],
             [
              0.7777777777777778,
              "#fb9f3a"
             ],
             [
              0.8888888888888888,
              "#fdca26"
             ],
             [
              1,
              "#f0f921"
             ]
            ],
            "type": "heatmapgl"
           }
          ],
          "histogram": [
           {
            "marker": {
             "pattern": {
              "fillmode": "overlay",
              "size": 10,
              "solidity": 0.2
             }
            },
            "type": "histogram"
           }
          ],
          "histogram2d": [
           {
            "colorbar": {
             "outlinewidth": 0,
             "ticks": ""
            },
            "colorscale": [
             [
              0,
              "#0d0887"
             ],
             [
              0.1111111111111111,
              "#46039f"
             ],
             [
              0.2222222222222222,
              "#7201a8"
             ],
             [
              0.3333333333333333,
              "#9c179e"
             ],
             [
              0.4444444444444444,
              "#bd3786"
             ],
             [
              0.5555555555555556,
              "#d8576b"
             ],
             [
              0.6666666666666666,
              "#ed7953"
             ],
             [
              0.7777777777777778,
              "#fb9f3a"
             ],
             [
              0.8888888888888888,
              "#fdca26"
             ],
             [
              1,
              "#f0f921"
             ]
            ],
            "type": "histogram2d"
           }
          ],
          "histogram2dcontour": [
           {
            "colorbar": {
             "outlinewidth": 0,
             "ticks": ""
            },
            "colorscale": [
             [
              0,
              "#0d0887"
             ],
             [
              0.1111111111111111,
              "#46039f"
             ],
             [
              0.2222222222222222,
              "#7201a8"
             ],
             [
              0.3333333333333333,
              "#9c179e"
             ],
             [
              0.4444444444444444,
              "#bd3786"
             ],
             [
              0.5555555555555556,
              "#d8576b"
             ],
             [
              0.6666666666666666,
              "#ed7953"
             ],
             [
              0.7777777777777778,
              "#fb9f3a"
             ],
             [
              0.8888888888888888,
              "#fdca26"
             ],
             [
              1,
              "#f0f921"
             ]
            ],
            "type": "histogram2dcontour"
           }
          ],
          "mesh3d": [
           {
            "colorbar": {
             "outlinewidth": 0,
             "ticks": ""
            },
            "type": "mesh3d"
           }
          ],
          "parcoords": [
           {
            "line": {
             "colorbar": {
              "outlinewidth": 0,
              "ticks": ""
             }
            },
            "type": "parcoords"
           }
          ],
          "pie": [
           {
            "automargin": true,
            "type": "pie"
           }
          ],
          "scatter": [
           {
            "fillpattern": {
             "fillmode": "overlay",
             "size": 10,
             "solidity": 0.2
            },
            "type": "scatter"
           }
          ],
          "scatter3d": [
           {
            "line": {
             "colorbar": {
              "outlinewidth": 0,
              "ticks": ""
             }
            },
            "marker": {
             "colorbar": {
              "outlinewidth": 0,
              "ticks": ""
             }
            },
            "type": "scatter3d"
           }
          ],
          "scattercarpet": [
           {
            "marker": {
             "colorbar": {
              "outlinewidth": 0,
              "ticks": ""
             }
            },
            "type": "scattercarpet"
           }
          ],
          "scattergeo": [
           {
            "marker": {
             "colorbar": {
              "outlinewidth": 0,
              "ticks": ""
             }
            },
            "type": "scattergeo"
           }
          ],
          "scattergl": [
           {
            "marker": {
             "colorbar": {
              "outlinewidth": 0,
              "ticks": ""
             }
            },
            "type": "scattergl"
           }
          ],
          "scattermapbox": [
           {
            "marker": {
             "colorbar": {
              "outlinewidth": 0,
              "ticks": ""
             }
            },
            "type": "scattermapbox"
           }
          ],
          "scatterpolar": [
           {
            "marker": {
             "colorbar": {
              "outlinewidth": 0,
              "ticks": ""
             }
            },
            "type": "scatterpolar"
           }
          ],
          "scatterpolargl": [
           {
            "marker": {
             "colorbar": {
              "outlinewidth": 0,
              "ticks": ""
             }
            },
            "type": "scatterpolargl"
           }
          ],
          "scatterternary": [
           {
            "marker": {
             "colorbar": {
              "outlinewidth": 0,
              "ticks": ""
             }
            },
            "type": "scatterternary"
           }
          ],
          "surface": [
           {
            "colorbar": {
             "outlinewidth": 0,
             "ticks": ""
            },
            "colorscale": [
             [
              0,
              "#0d0887"
             ],
             [
              0.1111111111111111,
              "#46039f"
             ],
             [
              0.2222222222222222,
              "#7201a8"
             ],
             [
              0.3333333333333333,
              "#9c179e"
             ],
             [
              0.4444444444444444,
              "#bd3786"
             ],
             [
              0.5555555555555556,
              "#d8576b"
             ],
             [
              0.6666666666666666,
              "#ed7953"
             ],
             [
              0.7777777777777778,
              "#fb9f3a"
             ],
             [
              0.8888888888888888,
              "#fdca26"
             ],
             [
              1,
              "#f0f921"
             ]
            ],
            "type": "surface"
           }
          ],
          "table": [
           {
            "cells": {
             "fill": {
              "color": "#EBF0F8"
             },
             "line": {
              "color": "white"
             }
            },
            "header": {
             "fill": {
              "color": "#C8D4E3"
             },
             "line": {
              "color": "white"
             }
            },
            "type": "table"
           }
          ]
         },
         "layout": {
          "annotationdefaults": {
           "arrowcolor": "#2a3f5f",
           "arrowhead": 0,
           "arrowwidth": 1
          },
          "autotypenumbers": "strict",
          "coloraxis": {
           "colorbar": {
            "outlinewidth": 0,
            "ticks": ""
           }
          },
          "colorscale": {
           "diverging": [
            [
             0,
             "#8e0152"
            ],
            [
             0.1,
             "#c51b7d"
            ],
            [
             0.2,
             "#de77ae"
            ],
            [
             0.3,
             "#f1b6da"
            ],
            [
             0.4,
             "#fde0ef"
            ],
            [
             0.5,
             "#f7f7f7"
            ],
            [
             0.6,
             "#e6f5d0"
            ],
            [
             0.7,
             "#b8e186"
            ],
            [
             0.8,
             "#7fbc41"
            ],
            [
             0.9,
             "#4d9221"
            ],
            [
             1,
             "#276419"
            ]
           ],
           "sequential": [
            [
             0,
             "#0d0887"
            ],
            [
             0.1111111111111111,
             "#46039f"
            ],
            [
             0.2222222222222222,
             "#7201a8"
            ],
            [
             0.3333333333333333,
             "#9c179e"
            ],
            [
             0.4444444444444444,
             "#bd3786"
            ],
            [
             0.5555555555555556,
             "#d8576b"
            ],
            [
             0.6666666666666666,
             "#ed7953"
            ],
            [
             0.7777777777777778,
             "#fb9f3a"
            ],
            [
             0.8888888888888888,
             "#fdca26"
            ],
            [
             1,
             "#f0f921"
            ]
           ],
           "sequentialminus": [
            [
             0,
             "#0d0887"
            ],
            [
             0.1111111111111111,
             "#46039f"
            ],
            [
             0.2222222222222222,
             "#7201a8"
            ],
            [
             0.3333333333333333,
             "#9c179e"
            ],
            [
             0.4444444444444444,
             "#bd3786"
            ],
            [
             0.5555555555555556,
             "#d8576b"
            ],
            [
             0.6666666666666666,
             "#ed7953"
            ],
            [
             0.7777777777777778,
             "#fb9f3a"
            ],
            [
             0.8888888888888888,
             "#fdca26"
            ],
            [
             1,
             "#f0f921"
            ]
           ]
          },
          "colorway": [
           "#636efa",
           "#EF553B",
           "#00cc96",
           "#ab63fa",
           "#FFA15A",
           "#19d3f3",
           "#FF6692",
           "#B6E880",
           "#FF97FF",
           "#FECB52"
          ],
          "font": {
           "color": "#2a3f5f"
          },
          "geo": {
           "bgcolor": "white",
           "lakecolor": "white",
           "landcolor": "#E5ECF6",
           "showlakes": true,
           "showland": true,
           "subunitcolor": "white"
          },
          "hoverlabel": {
           "align": "left"
          },
          "hovermode": "closest",
          "mapbox": {
           "style": "light"
          },
          "paper_bgcolor": "white",
          "plot_bgcolor": "#E5ECF6",
          "polar": {
           "angularaxis": {
            "gridcolor": "white",
            "linecolor": "white",
            "ticks": ""
           },
           "bgcolor": "#E5ECF6",
           "radialaxis": {
            "gridcolor": "white",
            "linecolor": "white",
            "ticks": ""
           }
          },
          "scene": {
           "xaxis": {
            "backgroundcolor": "#E5ECF6",
            "gridcolor": "white",
            "gridwidth": 2,
            "linecolor": "white",
            "showbackground": true,
            "ticks": "",
            "zerolinecolor": "white"
           },
           "yaxis": {
            "backgroundcolor": "#E5ECF6",
            "gridcolor": "white",
            "gridwidth": 2,
            "linecolor": "white",
            "showbackground": true,
            "ticks": "",
            "zerolinecolor": "white"
           },
           "zaxis": {
            "backgroundcolor": "#E5ECF6",
            "gridcolor": "white",
            "gridwidth": 2,
            "linecolor": "white",
            "showbackground": true,
            "ticks": "",
            "zerolinecolor": "white"
           }
          },
          "shapedefaults": {
           "line": {
            "color": "#2a3f5f"
           }
          },
          "ternary": {
           "aaxis": {
            "gridcolor": "white",
            "linecolor": "white",
            "ticks": ""
           },
           "baxis": {
            "gridcolor": "white",
            "linecolor": "white",
            "ticks": ""
           },
           "bgcolor": "#E5ECF6",
           "caxis": {
            "gridcolor": "white",
            "linecolor": "white",
            "ticks": ""
           }
          },
          "title": {
           "x": 0.05
          },
          "xaxis": {
           "automargin": true,
           "gridcolor": "white",
           "linecolor": "white",
           "ticks": "",
           "title": {
            "standoff": 15
           },
           "zerolinecolor": "white",
           "zerolinewidth": 2
          },
          "yaxis": {
           "automargin": true,
           "gridcolor": "white",
           "linecolor": "white",
           "ticks": "",
           "title": {
            "standoff": 15
           },
           "zerolinecolor": "white",
           "zerolinewidth": 2
          }
         }
        },
        "title": {
         "text": "Топ - 15 по количеству заведений (доли от общего числа из топ-15)"
        }
       }
      }
     },
     "metadata": {},
     "output_type": "display_data"
    }
   ],
   "source": [
    "#Создадим интерактивную круговую диаграмму\n",
    "fig = go.Figure(data=[go.Pie(labels=pivot_top.index.get_level_values('name'), values=pivot_top['count_of_places'])])\n",
    "fig.update_layout(title='Топ - 15 по количеству заведений (доли от общего числа из топ-15)')\n",
    "fig.show()"
   ]
  },
  {
   "cell_type": "code",
   "execution_count": 41,
   "metadata": {},
   "outputs": [
    {
     "data": {
      "text/html": [
       "        <script type=\"text/javascript\">\n",
       "        window.PlotlyConfig = {MathJaxConfig: 'local'};\n",
       "        if (window.MathJax && window.MathJax.Hub && window.MathJax.Hub.Config) {window.MathJax.Hub.Config({SVG: {font: \"STIX-Web\"}});}\n",
       "        if (typeof require !== 'undefined') {\n",
       "        require.undef(\"plotly\");\n",
       "        requirejs.config({\n",
       "            paths: {\n",
       "                'plotly': ['https://cdn.plot.ly/plotly-2.18.2.min']\n",
       "            }\n",
       "        });\n",
       "        require(['plotly'], function(Plotly) {\n",
       "            window._Plotly = Plotly;\n",
       "        });\n",
       "        }\n",
       "        </script>\n",
       "        "
      ]
     },
     "metadata": {},
     "output_type": "display_data"
    }
   ],
   "source": [
    "from plotly.subplots import make_subplots\n",
    "from plotly.offline import download_plotlyjs, init_notebook_mode,  iplot\n",
    "init_notebook_mode(connected=True)"
   ]
  },
  {
   "cell_type": "code",
   "execution_count": 42,
   "metadata": {},
   "outputs": [
    {
     "data": {
      "application/vnd.plotly.v1+json": {
       "config": {
        "linkText": "Export to plot.ly",
        "plotlyServerURL": "https://plot.ly",
        "showLink": false
       },
       "data": [
        {
         "alignmentgroup": "True",
         "hovertemplate": "category=бар,паб<br>district=%{x}<br>value=%{y}<extra></extra>",
         "legendgroup": "бар,паб",
         "marker": {
          "color": "#636efa",
          "pattern": {
           "shape": ""
          }
         },
         "name": "бар,паб",
         "offsetgroup": "бар,паб",
         "orientation": "v",
         "showlegend": true,
         "textposition": "auto",
         "type": "bar",
         "x": [
          "Центральный административный округ",
          "Северный административный округ",
          "Северо-Восточный административный округ",
          "Южный административный округ",
          "Западный административный округ",
          "Восточный административный округ",
          "Юго-Западный административный округ",
          "Юго-Восточный административный округ",
          "Северо-Западный административный округ"
         ],
         "xaxis": "x",
         "y": [
          364,
          65,
          57,
          65,
          48,
          51,
          37,
          37,
          23
         ],
         "yaxis": "y"
        },
        {
         "alignmentgroup": "True",
         "hovertemplate": "category=булочная<br>district=%{x}<br>value=%{y}<extra></extra>",
         "legendgroup": "булочная",
         "marker": {
          "color": "#EF553B",
          "pattern": {
           "shape": ""
          }
         },
         "name": "булочная",
         "offsetgroup": "булочная",
         "orientation": "v",
         "showlegend": true,
         "textposition": "auto",
         "type": "bar",
         "x": [
          "Центральный административный округ",
          "Северный административный округ",
          "Северо-Восточный административный округ",
          "Южный административный округ",
          "Западный административный округ",
          "Восточный административный округ",
          "Юго-Западный административный округ",
          "Юго-Восточный административный округ",
          "Северо-Западный административный округ"
         ],
         "xaxis": "x",
         "y": [
          50,
          37,
          28,
          25,
          36,
          23,
          26,
          12,
          12
         ],
         "yaxis": "y"
        },
        {
         "alignmentgroup": "True",
         "hovertemplate": "category=быстрое питание<br>district=%{x}<br>value=%{y}<extra></extra>",
         "legendgroup": "быстрое питание",
         "marker": {
          "color": "#00cc96",
          "pattern": {
           "shape": ""
          }
         },
         "name": "быстрое питание",
         "offsetgroup": "быстрое питание",
         "orientation": "v",
         "showlegend": true,
         "textposition": "auto",
         "type": "bar",
         "x": [
          "Центральный административный округ",
          "Северный административный округ",
          "Северо-Восточный административный округ",
          "Южный административный округ",
          "Западный административный округ",
          "Восточный административный округ",
          "Юго-Западный административный округ",
          "Юго-Восточный административный округ",
          "Северо-Западный административный округ"
         ],
         "xaxis": "x",
         "y": [
          85,
          54,
          79,
          81,
          60,
          66,
          57,
          61,
          27
         ],
         "yaxis": "y"
        },
        {
         "alignmentgroup": "True",
         "hovertemplate": "category=кафе<br>district=%{x}<br>value=%{y}<extra></extra>",
         "legendgroup": "кафе",
         "marker": {
          "color": "#ab63fa",
          "pattern": {
           "shape": ""
          }
         },
         "name": "кафе",
         "offsetgroup": "кафе",
         "orientation": "v",
         "showlegend": true,
         "textposition": "auto",
         "type": "bar",
         "x": [
          "Центральный административный округ",
          "Северный административный округ",
          "Северо-Восточный административный округ",
          "Южный административный округ",
          "Западный административный округ",
          "Восточный административный округ",
          "Юго-Западный административный округ",
          "Юго-Восточный административный округ",
          "Северо-Западный административный округ"
         ],
         "xaxis": "x",
         "y": [
          444,
          206,
          229,
          215,
          191,
          218,
          196,
          218,
          86
         ],
         "yaxis": "y"
        },
        {
         "alignmentgroup": "True",
         "hovertemplate": "category=кофейня<br>district=%{x}<br>value=%{y}<extra></extra>",
         "legendgroup": "кофейня",
         "marker": {
          "color": "#FFA15A",
          "pattern": {
           "shape": ""
          }
         },
         "name": "кофейня",
         "offsetgroup": "кофейня",
         "orientation": "v",
         "showlegend": true,
         "textposition": "auto",
         "type": "bar",
         "x": [
          "Центральный административный округ",
          "Северный административный округ",
          "Северо-Восточный административный округ",
          "Южный административный округ",
          "Западный административный округ",
          "Восточный административный округ",
          "Юго-Западный административный округ",
          "Юго-Восточный административный округ",
          "Северо-Западный административный округ"
         ],
         "xaxis": "x",
         "y": [
          426,
          191,
          157,
          130,
          148,
          102,
          94,
          88,
          62
         ],
         "yaxis": "y"
        },
        {
         "alignmentgroup": "True",
         "hovertemplate": "category=пиццерия<br>district=%{x}<br>value=%{y}<extra></extra>",
         "legendgroup": "пиццерия",
         "marker": {
          "color": "#19d3f3",
          "pattern": {
           "shape": ""
          }
         },
         "name": "пиццерия",
         "offsetgroup": "пиццерия",
         "orientation": "v",
         "showlegend": true,
         "textposition": "auto",
         "type": "bar",
         "x": [
          "Центральный административный округ",
          "Северный административный округ",
          "Северо-Восточный административный округ",
          "Южный административный округ",
          "Западный административный округ",
          "Восточный административный округ",
          "Юго-Западный административный округ",
          "Юго-Восточный административный округ",
          "Северо-Западный административный округ"
         ],
         "xaxis": "x",
         "y": [
          112,
          76,
          66,
          73,
          71,
          71,
          64,
          55,
          40
         ],
         "yaxis": "y"
        },
        {
         "alignmentgroup": "True",
         "hovertemplate": "category=ресторан<br>district=%{x}<br>value=%{y}<extra></extra>",
         "legendgroup": "ресторан",
         "marker": {
          "color": "#FF6692",
          "pattern": {
           "shape": ""
          }
         },
         "name": "ресторан",
         "offsetgroup": "ресторан",
         "orientation": "v",
         "showlegend": true,
         "textposition": "auto",
         "type": "bar",
         "x": [
          "Центральный административный округ",
          "Северный административный округ",
          "Северо-Восточный административный округ",
          "Южный административный округ",
          "Западный административный округ",
          "Восточный административный округ",
          "Юго-Западный административный округ",
          "Юго-Восточный административный округ",
          "Северо-Западный административный округ"
         ],
         "xaxis": "x",
         "y": [
          665,
          179,
          174,
          195,
          207,
          153,
          159,
          135,
          102
         ],
         "yaxis": "y"
        },
        {
         "alignmentgroup": "True",
         "hovertemplate": "category=столовая<br>district=%{x}<br>value=%{y}<extra></extra>",
         "legendgroup": "столовая",
         "marker": {
          "color": "#B6E880",
          "pattern": {
           "shape": ""
          }
         },
         "name": "столовая",
         "offsetgroup": "столовая",
         "orientation": "v",
         "showlegend": true,
         "textposition": "auto",
         "type": "bar",
         "x": [
          "Центральный административный округ",
          "Северный административный округ",
          "Северо-Восточный административный округ",
          "Южный административный округ",
          "Западный административный округ",
          "Восточный административный округ",
          "Юго-Западный административный округ",
          "Юго-Восточный административный округ",
          "Северо-Западный административный округ"
         ],
         "xaxis": "x",
         "y": [
          65,
          38,
          40,
          43,
          24,
          39,
          17,
          23,
          17
         ],
         "yaxis": "y"
        }
       ],
       "layout": {
        "barmode": "relative",
        "legend": {
         "title": {
          "text": "category"
         },
         "tracegroupgap": 0
        },
        "margin": {
         "t": 60
        },
        "template": {
         "data": {
          "bar": [
           {
            "error_x": {
             "color": "#2a3f5f"
            },
            "error_y": {
             "color": "#2a3f5f"
            },
            "marker": {
             "line": {
              "color": "#E5ECF6",
              "width": 0.5
             },
             "pattern": {
              "fillmode": "overlay",
              "size": 10,
              "solidity": 0.2
             }
            },
            "type": "bar"
           }
          ],
          "barpolar": [
           {
            "marker": {
             "line": {
              "color": "#E5ECF6",
              "width": 0.5
             },
             "pattern": {
              "fillmode": "overlay",
              "size": 10,
              "solidity": 0.2
             }
            },
            "type": "barpolar"
           }
          ],
          "carpet": [
           {
            "aaxis": {
             "endlinecolor": "#2a3f5f",
             "gridcolor": "white",
             "linecolor": "white",
             "minorgridcolor": "white",
             "startlinecolor": "#2a3f5f"
            },
            "baxis": {
             "endlinecolor": "#2a3f5f",
             "gridcolor": "white",
             "linecolor": "white",
             "minorgridcolor": "white",
             "startlinecolor": "#2a3f5f"
            },
            "type": "carpet"
           }
          ],
          "choropleth": [
           {
            "colorbar": {
             "outlinewidth": 0,
             "ticks": ""
            },
            "type": "choropleth"
           }
          ],
          "contour": [
           {
            "colorbar": {
             "outlinewidth": 0,
             "ticks": ""
            },
            "colorscale": [
             [
              0,
              "#0d0887"
             ],
             [
              0.1111111111111111,
              "#46039f"
             ],
             [
              0.2222222222222222,
              "#7201a8"
             ],
             [
              0.3333333333333333,
              "#9c179e"
             ],
             [
              0.4444444444444444,
              "#bd3786"
             ],
             [
              0.5555555555555556,
              "#d8576b"
             ],
             [
              0.6666666666666666,
              "#ed7953"
             ],
             [
              0.7777777777777778,
              "#fb9f3a"
             ],
             [
              0.8888888888888888,
              "#fdca26"
             ],
             [
              1,
              "#f0f921"
             ]
            ],
            "type": "contour"
           }
          ],
          "contourcarpet": [
           {
            "colorbar": {
             "outlinewidth": 0,
             "ticks": ""
            },
            "type": "contourcarpet"
           }
          ],
          "heatmap": [
           {
            "colorbar": {
             "outlinewidth": 0,
             "ticks": ""
            },
            "colorscale": [
             [
              0,
              "#0d0887"
             ],
             [
              0.1111111111111111,
              "#46039f"
             ],
             [
              0.2222222222222222,
              "#7201a8"
             ],
             [
              0.3333333333333333,
              "#9c179e"
             ],
             [
              0.4444444444444444,
              "#bd3786"
             ],
             [
              0.5555555555555556,
              "#d8576b"
             ],
             [
              0.6666666666666666,
              "#ed7953"
             ],
             [
              0.7777777777777778,
              "#fb9f3a"
             ],
             [
              0.8888888888888888,
              "#fdca26"
             ],
             [
              1,
              "#f0f921"
             ]
            ],
            "type": "heatmap"
           }
          ],
          "heatmapgl": [
           {
            "colorbar": {
             "outlinewidth": 0,
             "ticks": ""
            },
            "colorscale": [
             [
              0,
              "#0d0887"
             ],
             [
              0.1111111111111111,
              "#46039f"
             ],
             [
              0.2222222222222222,
              "#7201a8"
             ],
             [
              0.3333333333333333,
              "#9c179e"
             ],
             [
              0.4444444444444444,
              "#bd3786"
             ],
             [
              0.5555555555555556,
              "#d8576b"
             ],
             [
              0.6666666666666666,
              "#ed7953"
             ],
             [
              0.7777777777777778,
              "#fb9f3a"
             ],
             [
              0.8888888888888888,
              "#fdca26"
             ],
             [
              1,
              "#f0f921"
             ]
            ],
            "type": "heatmapgl"
           }
          ],
          "histogram": [
           {
            "marker": {
             "pattern": {
              "fillmode": "overlay",
              "size": 10,
              "solidity": 0.2
             }
            },
            "type": "histogram"
           }
          ],
          "histogram2d": [
           {
            "colorbar": {
             "outlinewidth": 0,
             "ticks": ""
            },
            "colorscale": [
             [
              0,
              "#0d0887"
             ],
             [
              0.1111111111111111,
              "#46039f"
             ],
             [
              0.2222222222222222,
              "#7201a8"
             ],
             [
              0.3333333333333333,
              "#9c179e"
             ],
             [
              0.4444444444444444,
              "#bd3786"
             ],
             [
              0.5555555555555556,
              "#d8576b"
             ],
             [
              0.6666666666666666,
              "#ed7953"
             ],
             [
              0.7777777777777778,
              "#fb9f3a"
             ],
             [
              0.8888888888888888,
              "#fdca26"
             ],
             [
              1,
              "#f0f921"
             ]
            ],
            "type": "histogram2d"
           }
          ],
          "histogram2dcontour": [
           {
            "colorbar": {
             "outlinewidth": 0,
             "ticks": ""
            },
            "colorscale": [
             [
              0,
              "#0d0887"
             ],
             [
              0.1111111111111111,
              "#46039f"
             ],
             [
              0.2222222222222222,
              "#7201a8"
             ],
             [
              0.3333333333333333,
              "#9c179e"
             ],
             [
              0.4444444444444444,
              "#bd3786"
             ],
             [
              0.5555555555555556,
              "#d8576b"
             ],
             [
              0.6666666666666666,
              "#ed7953"
             ],
             [
              0.7777777777777778,
              "#fb9f3a"
             ],
             [
              0.8888888888888888,
              "#fdca26"
             ],
             [
              1,
              "#f0f921"
             ]
            ],
            "type": "histogram2dcontour"
           }
          ],
          "mesh3d": [
           {
            "colorbar": {
             "outlinewidth": 0,
             "ticks": ""
            },
            "type": "mesh3d"
           }
          ],
          "parcoords": [
           {
            "line": {
             "colorbar": {
              "outlinewidth": 0,
              "ticks": ""
             }
            },
            "type": "parcoords"
           }
          ],
          "pie": [
           {
            "automargin": true,
            "type": "pie"
           }
          ],
          "scatter": [
           {
            "fillpattern": {
             "fillmode": "overlay",
             "size": 10,
             "solidity": 0.2
            },
            "type": "scatter"
           }
          ],
          "scatter3d": [
           {
            "line": {
             "colorbar": {
              "outlinewidth": 0,
              "ticks": ""
             }
            },
            "marker": {
             "colorbar": {
              "outlinewidth": 0,
              "ticks": ""
             }
            },
            "type": "scatter3d"
           }
          ],
          "scattercarpet": [
           {
            "marker": {
             "colorbar": {
              "outlinewidth": 0,
              "ticks": ""
             }
            },
            "type": "scattercarpet"
           }
          ],
          "scattergeo": [
           {
            "marker": {
             "colorbar": {
              "outlinewidth": 0,
              "ticks": ""
             }
            },
            "type": "scattergeo"
           }
          ],
          "scattergl": [
           {
            "marker": {
             "colorbar": {
              "outlinewidth": 0,
              "ticks": ""
             }
            },
            "type": "scattergl"
           }
          ],
          "scattermapbox": [
           {
            "marker": {
             "colorbar": {
              "outlinewidth": 0,
              "ticks": ""
             }
            },
            "type": "scattermapbox"
           }
          ],
          "scatterpolar": [
           {
            "marker": {
             "colorbar": {
              "outlinewidth": 0,
              "ticks": ""
             }
            },
            "type": "scatterpolar"
           }
          ],
          "scatterpolargl": [
           {
            "marker": {
             "colorbar": {
              "outlinewidth": 0,
              "ticks": ""
             }
            },
            "type": "scatterpolargl"
           }
          ],
          "scatterternary": [
           {
            "marker": {
             "colorbar": {
              "outlinewidth": 0,
              "ticks": ""
             }
            },
            "type": "scatterternary"
           }
          ],
          "surface": [
           {
            "colorbar": {
             "outlinewidth": 0,
             "ticks": ""
            },
            "colorscale": [
             [
              0,
              "#0d0887"
             ],
             [
              0.1111111111111111,
              "#46039f"
             ],
             [
              0.2222222222222222,
              "#7201a8"
             ],
             [
              0.3333333333333333,
              "#9c179e"
             ],
             [
              0.4444444444444444,
              "#bd3786"
             ],
             [
              0.5555555555555556,
              "#d8576b"
             ],
             [
              0.6666666666666666,
              "#ed7953"
             ],
             [
              0.7777777777777778,
              "#fb9f3a"
             ],
             [
              0.8888888888888888,
              "#fdca26"
             ],
             [
              1,
              "#f0f921"
             ]
            ],
            "type": "surface"
           }
          ],
          "table": [
           {
            "cells": {
             "fill": {
              "color": "#EBF0F8"
             },
             "line": {
              "color": "white"
             }
            },
            "header": {
             "fill": {
              "color": "#C8D4E3"
             },
             "line": {
              "color": "white"
             }
            },
            "type": "table"
           }
          ]
         },
         "layout": {
          "annotationdefaults": {
           "arrowcolor": "#2a3f5f",
           "arrowhead": 0,
           "arrowwidth": 1
          },
          "autotypenumbers": "strict",
          "coloraxis": {
           "colorbar": {
            "outlinewidth": 0,
            "ticks": ""
           }
          },
          "colorscale": {
           "diverging": [
            [
             0,
             "#8e0152"
            ],
            [
             0.1,
             "#c51b7d"
            ],
            [
             0.2,
             "#de77ae"
            ],
            [
             0.3,
             "#f1b6da"
            ],
            [
             0.4,
             "#fde0ef"
            ],
            [
             0.5,
             "#f7f7f7"
            ],
            [
             0.6,
             "#e6f5d0"
            ],
            [
             0.7,
             "#b8e186"
            ],
            [
             0.8,
             "#7fbc41"
            ],
            [
             0.9,
             "#4d9221"
            ],
            [
             1,
             "#276419"
            ]
           ],
           "sequential": [
            [
             0,
             "#0d0887"
            ],
            [
             0.1111111111111111,
             "#46039f"
            ],
            [
             0.2222222222222222,
             "#7201a8"
            ],
            [
             0.3333333333333333,
             "#9c179e"
            ],
            [
             0.4444444444444444,
             "#bd3786"
            ],
            [
             0.5555555555555556,
             "#d8576b"
            ],
            [
             0.6666666666666666,
             "#ed7953"
            ],
            [
             0.7777777777777778,
             "#fb9f3a"
            ],
            [
             0.8888888888888888,
             "#fdca26"
            ],
            [
             1,
             "#f0f921"
            ]
           ],
           "sequentialminus": [
            [
             0,
             "#0d0887"
            ],
            [
             0.1111111111111111,
             "#46039f"
            ],
            [
             0.2222222222222222,
             "#7201a8"
            ],
            [
             0.3333333333333333,
             "#9c179e"
            ],
            [
             0.4444444444444444,
             "#bd3786"
            ],
            [
             0.5555555555555556,
             "#d8576b"
            ],
            [
             0.6666666666666666,
             "#ed7953"
            ],
            [
             0.7777777777777778,
             "#fb9f3a"
            ],
            [
             0.8888888888888888,
             "#fdca26"
            ],
            [
             1,
             "#f0f921"
            ]
           ]
          },
          "colorway": [
           "#636efa",
           "#EF553B",
           "#00cc96",
           "#ab63fa",
           "#FFA15A",
           "#19d3f3",
           "#FF6692",
           "#B6E880",
           "#FF97FF",
           "#FECB52"
          ],
          "font": {
           "color": "#2a3f5f"
          },
          "geo": {
           "bgcolor": "white",
           "lakecolor": "white",
           "landcolor": "#E5ECF6",
           "showlakes": true,
           "showland": true,
           "subunitcolor": "white"
          },
          "hoverlabel": {
           "align": "left"
          },
          "hovermode": "closest",
          "mapbox": {
           "style": "light"
          },
          "paper_bgcolor": "white",
          "plot_bgcolor": "#E5ECF6",
          "polar": {
           "angularaxis": {
            "gridcolor": "white",
            "linecolor": "white",
            "ticks": ""
           },
           "bgcolor": "#E5ECF6",
           "radialaxis": {
            "gridcolor": "white",
            "linecolor": "white",
            "ticks": ""
           }
          },
          "scene": {
           "xaxis": {
            "backgroundcolor": "#E5ECF6",
            "gridcolor": "white",
            "gridwidth": 2,
            "linecolor": "white",
            "showbackground": true,
            "ticks": "",
            "zerolinecolor": "white"
           },
           "yaxis": {
            "backgroundcolor": "#E5ECF6",
            "gridcolor": "white",
            "gridwidth": 2,
            "linecolor": "white",
            "showbackground": true,
            "ticks": "",
            "zerolinecolor": "white"
           },
           "zaxis": {
            "backgroundcolor": "#E5ECF6",
            "gridcolor": "white",
            "gridwidth": 2,
            "linecolor": "white",
            "showbackground": true,
            "ticks": "",
            "zerolinecolor": "white"
           }
          },
          "shapedefaults": {
           "line": {
            "color": "#2a3f5f"
           }
          },
          "ternary": {
           "aaxis": {
            "gridcolor": "white",
            "linecolor": "white",
            "ticks": ""
           },
           "baxis": {
            "gridcolor": "white",
            "linecolor": "white",
            "ticks": ""
           },
           "bgcolor": "#E5ECF6",
           "caxis": {
            "gridcolor": "white",
            "linecolor": "white",
            "ticks": ""
           }
          },
          "title": {
           "x": 0.05
          },
          "xaxis": {
           "automargin": true,
           "gridcolor": "white",
           "linecolor": "white",
           "ticks": "",
           "title": {
            "standoff": 15
           },
           "zerolinecolor": "white",
           "zerolinewidth": 2
          },
          "yaxis": {
           "automargin": true,
           "gridcolor": "white",
           "linecolor": "white",
           "ticks": "",
           "title": {
            "standoff": 15
           },
           "zerolinecolor": "white",
           "zerolinewidth": 2
          }
         }
        },
        "title": {
         "text": "Количество заведений различных категорий по районам"
        },
        "xaxis": {
         "anchor": "y",
         "domain": [
          0,
          1
         ],
         "tickangle": 45,
         "title": {
          "text": "Название района"
         }
        },
        "yaxis": {
         "anchor": "x",
         "domain": [
          0,
          1
         ],
         "title": {
          "text": "Количество заведений"
         }
        }
       }
      },
      "text/html": [
       "<div>                            <div id=\"86c4f2eb-7438-4d37-8d98-fad8a51030d3\" class=\"plotly-graph-div\" style=\"height:525px; width:100%;\"></div>            <script type=\"text/javascript\">                require([\"plotly\"], function(Plotly) {                    window.PLOTLYENV=window.PLOTLYENV || {};                                    if (document.getElementById(\"86c4f2eb-7438-4d37-8d98-fad8a51030d3\")) {                    Plotly.newPlot(                        \"86c4f2eb-7438-4d37-8d98-fad8a51030d3\",                        [{\"alignmentgroup\":\"True\",\"hovertemplate\":\"category=\\u0431\\u0430\\u0440,\\u043f\\u0430\\u0431<br>district=%{x}<br>value=%{y}<extra></extra>\",\"legendgroup\":\"\\u0431\\u0430\\u0440,\\u043f\\u0430\\u0431\",\"marker\":{\"color\":\"#636efa\",\"pattern\":{\"shape\":\"\"}},\"name\":\"\\u0431\\u0430\\u0440,\\u043f\\u0430\\u0431\",\"offsetgroup\":\"\\u0431\\u0430\\u0440,\\u043f\\u0430\\u0431\",\"orientation\":\"v\",\"showlegend\":true,\"textposition\":\"auto\",\"x\":[\"\\u0426\\u0435\\u043d\\u0442\\u0440\\u0430\\u043b\\u044c\\u043d\\u044b\\u0439 \\u0430\\u0434\\u043c\\u0438\\u043d\\u0438\\u0441\\u0442\\u0440\\u0430\\u0442\\u0438\\u0432\\u043d\\u044b\\u0439 \\u043e\\u043a\\u0440\\u0443\\u0433\",\"\\u0421\\u0435\\u0432\\u0435\\u0440\\u043d\\u044b\\u0439 \\u0430\\u0434\\u043c\\u0438\\u043d\\u0438\\u0441\\u0442\\u0440\\u0430\\u0442\\u0438\\u0432\\u043d\\u044b\\u0439 \\u043e\\u043a\\u0440\\u0443\\u0433\",\"\\u0421\\u0435\\u0432\\u0435\\u0440\\u043e-\\u0412\\u043e\\u0441\\u0442\\u043e\\u0447\\u043d\\u044b\\u0439 \\u0430\\u0434\\u043c\\u0438\\u043d\\u0438\\u0441\\u0442\\u0440\\u0430\\u0442\\u0438\\u0432\\u043d\\u044b\\u0439 \\u043e\\u043a\\u0440\\u0443\\u0433\",\"\\u042e\\u0436\\u043d\\u044b\\u0439 \\u0430\\u0434\\u043c\\u0438\\u043d\\u0438\\u0441\\u0442\\u0440\\u0430\\u0442\\u0438\\u0432\\u043d\\u044b\\u0439 \\u043e\\u043a\\u0440\\u0443\\u0433\",\"\\u0417\\u0430\\u043f\\u0430\\u0434\\u043d\\u044b\\u0439 \\u0430\\u0434\\u043c\\u0438\\u043d\\u0438\\u0441\\u0442\\u0440\\u0430\\u0442\\u0438\\u0432\\u043d\\u044b\\u0439 \\u043e\\u043a\\u0440\\u0443\\u0433\",\"\\u0412\\u043e\\u0441\\u0442\\u043e\\u0447\\u043d\\u044b\\u0439 \\u0430\\u0434\\u043c\\u0438\\u043d\\u0438\\u0441\\u0442\\u0440\\u0430\\u0442\\u0438\\u0432\\u043d\\u044b\\u0439 \\u043e\\u043a\\u0440\\u0443\\u0433\",\"\\u042e\\u0433\\u043e-\\u0417\\u0430\\u043f\\u0430\\u0434\\u043d\\u044b\\u0439 \\u0430\\u0434\\u043c\\u0438\\u043d\\u0438\\u0441\\u0442\\u0440\\u0430\\u0442\\u0438\\u0432\\u043d\\u044b\\u0439 \\u043e\\u043a\\u0440\\u0443\\u0433\",\"\\u042e\\u0433\\u043e-\\u0412\\u043e\\u0441\\u0442\\u043e\\u0447\\u043d\\u044b\\u0439 \\u0430\\u0434\\u043c\\u0438\\u043d\\u0438\\u0441\\u0442\\u0440\\u0430\\u0442\\u0438\\u0432\\u043d\\u044b\\u0439 \\u043e\\u043a\\u0440\\u0443\\u0433\",\"\\u0421\\u0435\\u0432\\u0435\\u0440\\u043e-\\u0417\\u0430\\u043f\\u0430\\u0434\\u043d\\u044b\\u0439 \\u0430\\u0434\\u043c\\u0438\\u043d\\u0438\\u0441\\u0442\\u0440\\u0430\\u0442\\u0438\\u0432\\u043d\\u044b\\u0439 \\u043e\\u043a\\u0440\\u0443\\u0433\"],\"xaxis\":\"x\",\"y\":[364,65,57,65,48,51,37,37,23],\"yaxis\":\"y\",\"type\":\"bar\"},{\"alignmentgroup\":\"True\",\"hovertemplate\":\"category=\\u0431\\u0443\\u043b\\u043e\\u0447\\u043d\\u0430\\u044f<br>district=%{x}<br>value=%{y}<extra></extra>\",\"legendgroup\":\"\\u0431\\u0443\\u043b\\u043e\\u0447\\u043d\\u0430\\u044f\",\"marker\":{\"color\":\"#EF553B\",\"pattern\":{\"shape\":\"\"}},\"name\":\"\\u0431\\u0443\\u043b\\u043e\\u0447\\u043d\\u0430\\u044f\",\"offsetgroup\":\"\\u0431\\u0443\\u043b\\u043e\\u0447\\u043d\\u0430\\u044f\",\"orientation\":\"v\",\"showlegend\":true,\"textposition\":\"auto\",\"x\":[\"\\u0426\\u0435\\u043d\\u0442\\u0440\\u0430\\u043b\\u044c\\u043d\\u044b\\u0439 \\u0430\\u0434\\u043c\\u0438\\u043d\\u0438\\u0441\\u0442\\u0440\\u0430\\u0442\\u0438\\u0432\\u043d\\u044b\\u0439 \\u043e\\u043a\\u0440\\u0443\\u0433\",\"\\u0421\\u0435\\u0432\\u0435\\u0440\\u043d\\u044b\\u0439 \\u0430\\u0434\\u043c\\u0438\\u043d\\u0438\\u0441\\u0442\\u0440\\u0430\\u0442\\u0438\\u0432\\u043d\\u044b\\u0439 \\u043e\\u043a\\u0440\\u0443\\u0433\",\"\\u0421\\u0435\\u0432\\u0435\\u0440\\u043e-\\u0412\\u043e\\u0441\\u0442\\u043e\\u0447\\u043d\\u044b\\u0439 \\u0430\\u0434\\u043c\\u0438\\u043d\\u0438\\u0441\\u0442\\u0440\\u0430\\u0442\\u0438\\u0432\\u043d\\u044b\\u0439 \\u043e\\u043a\\u0440\\u0443\\u0433\",\"\\u042e\\u0436\\u043d\\u044b\\u0439 \\u0430\\u0434\\u043c\\u0438\\u043d\\u0438\\u0441\\u0442\\u0440\\u0430\\u0442\\u0438\\u0432\\u043d\\u044b\\u0439 \\u043e\\u043a\\u0440\\u0443\\u0433\",\"\\u0417\\u0430\\u043f\\u0430\\u0434\\u043d\\u044b\\u0439 \\u0430\\u0434\\u043c\\u0438\\u043d\\u0438\\u0441\\u0442\\u0440\\u0430\\u0442\\u0438\\u0432\\u043d\\u044b\\u0439 \\u043e\\u043a\\u0440\\u0443\\u0433\",\"\\u0412\\u043e\\u0441\\u0442\\u043e\\u0447\\u043d\\u044b\\u0439 \\u0430\\u0434\\u043c\\u0438\\u043d\\u0438\\u0441\\u0442\\u0440\\u0430\\u0442\\u0438\\u0432\\u043d\\u044b\\u0439 \\u043e\\u043a\\u0440\\u0443\\u0433\",\"\\u042e\\u0433\\u043e-\\u0417\\u0430\\u043f\\u0430\\u0434\\u043d\\u044b\\u0439 \\u0430\\u0434\\u043c\\u0438\\u043d\\u0438\\u0441\\u0442\\u0440\\u0430\\u0442\\u0438\\u0432\\u043d\\u044b\\u0439 \\u043e\\u043a\\u0440\\u0443\\u0433\",\"\\u042e\\u0433\\u043e-\\u0412\\u043e\\u0441\\u0442\\u043e\\u0447\\u043d\\u044b\\u0439 \\u0430\\u0434\\u043c\\u0438\\u043d\\u0438\\u0441\\u0442\\u0440\\u0430\\u0442\\u0438\\u0432\\u043d\\u044b\\u0439 \\u043e\\u043a\\u0440\\u0443\\u0433\",\"\\u0421\\u0435\\u0432\\u0435\\u0440\\u043e-\\u0417\\u0430\\u043f\\u0430\\u0434\\u043d\\u044b\\u0439 \\u0430\\u0434\\u043c\\u0438\\u043d\\u0438\\u0441\\u0442\\u0440\\u0430\\u0442\\u0438\\u0432\\u043d\\u044b\\u0439 \\u043e\\u043a\\u0440\\u0443\\u0433\"],\"xaxis\":\"x\",\"y\":[50,37,28,25,36,23,26,12,12],\"yaxis\":\"y\",\"type\":\"bar\"},{\"alignmentgroup\":\"True\",\"hovertemplate\":\"category=\\u0431\\u044b\\u0441\\u0442\\u0440\\u043e\\u0435 \\u043f\\u0438\\u0442\\u0430\\u043d\\u0438\\u0435<br>district=%{x}<br>value=%{y}<extra></extra>\",\"legendgroup\":\"\\u0431\\u044b\\u0441\\u0442\\u0440\\u043e\\u0435 \\u043f\\u0438\\u0442\\u0430\\u043d\\u0438\\u0435\",\"marker\":{\"color\":\"#00cc96\",\"pattern\":{\"shape\":\"\"}},\"name\":\"\\u0431\\u044b\\u0441\\u0442\\u0440\\u043e\\u0435 \\u043f\\u0438\\u0442\\u0430\\u043d\\u0438\\u0435\",\"offsetgroup\":\"\\u0431\\u044b\\u0441\\u0442\\u0440\\u043e\\u0435 \\u043f\\u0438\\u0442\\u0430\\u043d\\u0438\\u0435\",\"orientation\":\"v\",\"showlegend\":true,\"textposition\":\"auto\",\"x\":[\"\\u0426\\u0435\\u043d\\u0442\\u0440\\u0430\\u043b\\u044c\\u043d\\u044b\\u0439 \\u0430\\u0434\\u043c\\u0438\\u043d\\u0438\\u0441\\u0442\\u0440\\u0430\\u0442\\u0438\\u0432\\u043d\\u044b\\u0439 \\u043e\\u043a\\u0440\\u0443\\u0433\",\"\\u0421\\u0435\\u0432\\u0435\\u0440\\u043d\\u044b\\u0439 \\u0430\\u0434\\u043c\\u0438\\u043d\\u0438\\u0441\\u0442\\u0440\\u0430\\u0442\\u0438\\u0432\\u043d\\u044b\\u0439 \\u043e\\u043a\\u0440\\u0443\\u0433\",\"\\u0421\\u0435\\u0432\\u0435\\u0440\\u043e-\\u0412\\u043e\\u0441\\u0442\\u043e\\u0447\\u043d\\u044b\\u0439 \\u0430\\u0434\\u043c\\u0438\\u043d\\u0438\\u0441\\u0442\\u0440\\u0430\\u0442\\u0438\\u0432\\u043d\\u044b\\u0439 \\u043e\\u043a\\u0440\\u0443\\u0433\",\"\\u042e\\u0436\\u043d\\u044b\\u0439 \\u0430\\u0434\\u043c\\u0438\\u043d\\u0438\\u0441\\u0442\\u0440\\u0430\\u0442\\u0438\\u0432\\u043d\\u044b\\u0439 \\u043e\\u043a\\u0440\\u0443\\u0433\",\"\\u0417\\u0430\\u043f\\u0430\\u0434\\u043d\\u044b\\u0439 \\u0430\\u0434\\u043c\\u0438\\u043d\\u0438\\u0441\\u0442\\u0440\\u0430\\u0442\\u0438\\u0432\\u043d\\u044b\\u0439 \\u043e\\u043a\\u0440\\u0443\\u0433\",\"\\u0412\\u043e\\u0441\\u0442\\u043e\\u0447\\u043d\\u044b\\u0439 \\u0430\\u0434\\u043c\\u0438\\u043d\\u0438\\u0441\\u0442\\u0440\\u0430\\u0442\\u0438\\u0432\\u043d\\u044b\\u0439 \\u043e\\u043a\\u0440\\u0443\\u0433\",\"\\u042e\\u0433\\u043e-\\u0417\\u0430\\u043f\\u0430\\u0434\\u043d\\u044b\\u0439 \\u0430\\u0434\\u043c\\u0438\\u043d\\u0438\\u0441\\u0442\\u0440\\u0430\\u0442\\u0438\\u0432\\u043d\\u044b\\u0439 \\u043e\\u043a\\u0440\\u0443\\u0433\",\"\\u042e\\u0433\\u043e-\\u0412\\u043e\\u0441\\u0442\\u043e\\u0447\\u043d\\u044b\\u0439 \\u0430\\u0434\\u043c\\u0438\\u043d\\u0438\\u0441\\u0442\\u0440\\u0430\\u0442\\u0438\\u0432\\u043d\\u044b\\u0439 \\u043e\\u043a\\u0440\\u0443\\u0433\",\"\\u0421\\u0435\\u0432\\u0435\\u0440\\u043e-\\u0417\\u0430\\u043f\\u0430\\u0434\\u043d\\u044b\\u0439 \\u0430\\u0434\\u043c\\u0438\\u043d\\u0438\\u0441\\u0442\\u0440\\u0430\\u0442\\u0438\\u0432\\u043d\\u044b\\u0439 \\u043e\\u043a\\u0440\\u0443\\u0433\"],\"xaxis\":\"x\",\"y\":[85,54,79,81,60,66,57,61,27],\"yaxis\":\"y\",\"type\":\"bar\"},{\"alignmentgroup\":\"True\",\"hovertemplate\":\"category=\\u043a\\u0430\\u0444\\u0435<br>district=%{x}<br>value=%{y}<extra></extra>\",\"legendgroup\":\"\\u043a\\u0430\\u0444\\u0435\",\"marker\":{\"color\":\"#ab63fa\",\"pattern\":{\"shape\":\"\"}},\"name\":\"\\u043a\\u0430\\u0444\\u0435\",\"offsetgroup\":\"\\u043a\\u0430\\u0444\\u0435\",\"orientation\":\"v\",\"showlegend\":true,\"textposition\":\"auto\",\"x\":[\"\\u0426\\u0435\\u043d\\u0442\\u0440\\u0430\\u043b\\u044c\\u043d\\u044b\\u0439 \\u0430\\u0434\\u043c\\u0438\\u043d\\u0438\\u0441\\u0442\\u0440\\u0430\\u0442\\u0438\\u0432\\u043d\\u044b\\u0439 \\u043e\\u043a\\u0440\\u0443\\u0433\",\"\\u0421\\u0435\\u0432\\u0435\\u0440\\u043d\\u044b\\u0439 \\u0430\\u0434\\u043c\\u0438\\u043d\\u0438\\u0441\\u0442\\u0440\\u0430\\u0442\\u0438\\u0432\\u043d\\u044b\\u0439 \\u043e\\u043a\\u0440\\u0443\\u0433\",\"\\u0421\\u0435\\u0432\\u0435\\u0440\\u043e-\\u0412\\u043e\\u0441\\u0442\\u043e\\u0447\\u043d\\u044b\\u0439 \\u0430\\u0434\\u043c\\u0438\\u043d\\u0438\\u0441\\u0442\\u0440\\u0430\\u0442\\u0438\\u0432\\u043d\\u044b\\u0439 \\u043e\\u043a\\u0440\\u0443\\u0433\",\"\\u042e\\u0436\\u043d\\u044b\\u0439 \\u0430\\u0434\\u043c\\u0438\\u043d\\u0438\\u0441\\u0442\\u0440\\u0430\\u0442\\u0438\\u0432\\u043d\\u044b\\u0439 \\u043e\\u043a\\u0440\\u0443\\u0433\",\"\\u0417\\u0430\\u043f\\u0430\\u0434\\u043d\\u044b\\u0439 \\u0430\\u0434\\u043c\\u0438\\u043d\\u0438\\u0441\\u0442\\u0440\\u0430\\u0442\\u0438\\u0432\\u043d\\u044b\\u0439 \\u043e\\u043a\\u0440\\u0443\\u0433\",\"\\u0412\\u043e\\u0441\\u0442\\u043e\\u0447\\u043d\\u044b\\u0439 \\u0430\\u0434\\u043c\\u0438\\u043d\\u0438\\u0441\\u0442\\u0440\\u0430\\u0442\\u0438\\u0432\\u043d\\u044b\\u0439 \\u043e\\u043a\\u0440\\u0443\\u0433\",\"\\u042e\\u0433\\u043e-\\u0417\\u0430\\u043f\\u0430\\u0434\\u043d\\u044b\\u0439 \\u0430\\u0434\\u043c\\u0438\\u043d\\u0438\\u0441\\u0442\\u0440\\u0430\\u0442\\u0438\\u0432\\u043d\\u044b\\u0439 \\u043e\\u043a\\u0440\\u0443\\u0433\",\"\\u042e\\u0433\\u043e-\\u0412\\u043e\\u0441\\u0442\\u043e\\u0447\\u043d\\u044b\\u0439 \\u0430\\u0434\\u043c\\u0438\\u043d\\u0438\\u0441\\u0442\\u0440\\u0430\\u0442\\u0438\\u0432\\u043d\\u044b\\u0439 \\u043e\\u043a\\u0440\\u0443\\u0433\",\"\\u0421\\u0435\\u0432\\u0435\\u0440\\u043e-\\u0417\\u0430\\u043f\\u0430\\u0434\\u043d\\u044b\\u0439 \\u0430\\u0434\\u043c\\u0438\\u043d\\u0438\\u0441\\u0442\\u0440\\u0430\\u0442\\u0438\\u0432\\u043d\\u044b\\u0439 \\u043e\\u043a\\u0440\\u0443\\u0433\"],\"xaxis\":\"x\",\"y\":[444,206,229,215,191,218,196,218,86],\"yaxis\":\"y\",\"type\":\"bar\"},{\"alignmentgroup\":\"True\",\"hovertemplate\":\"category=\\u043a\\u043e\\u0444\\u0435\\u0439\\u043d\\u044f<br>district=%{x}<br>value=%{y}<extra></extra>\",\"legendgroup\":\"\\u043a\\u043e\\u0444\\u0435\\u0439\\u043d\\u044f\",\"marker\":{\"color\":\"#FFA15A\",\"pattern\":{\"shape\":\"\"}},\"name\":\"\\u043a\\u043e\\u0444\\u0435\\u0439\\u043d\\u044f\",\"offsetgroup\":\"\\u043a\\u043e\\u0444\\u0435\\u0439\\u043d\\u044f\",\"orientation\":\"v\",\"showlegend\":true,\"textposition\":\"auto\",\"x\":[\"\\u0426\\u0435\\u043d\\u0442\\u0440\\u0430\\u043b\\u044c\\u043d\\u044b\\u0439 \\u0430\\u0434\\u043c\\u0438\\u043d\\u0438\\u0441\\u0442\\u0440\\u0430\\u0442\\u0438\\u0432\\u043d\\u044b\\u0439 \\u043e\\u043a\\u0440\\u0443\\u0433\",\"\\u0421\\u0435\\u0432\\u0435\\u0440\\u043d\\u044b\\u0439 \\u0430\\u0434\\u043c\\u0438\\u043d\\u0438\\u0441\\u0442\\u0440\\u0430\\u0442\\u0438\\u0432\\u043d\\u044b\\u0439 \\u043e\\u043a\\u0440\\u0443\\u0433\",\"\\u0421\\u0435\\u0432\\u0435\\u0440\\u043e-\\u0412\\u043e\\u0441\\u0442\\u043e\\u0447\\u043d\\u044b\\u0439 \\u0430\\u0434\\u043c\\u0438\\u043d\\u0438\\u0441\\u0442\\u0440\\u0430\\u0442\\u0438\\u0432\\u043d\\u044b\\u0439 \\u043e\\u043a\\u0440\\u0443\\u0433\",\"\\u042e\\u0436\\u043d\\u044b\\u0439 \\u0430\\u0434\\u043c\\u0438\\u043d\\u0438\\u0441\\u0442\\u0440\\u0430\\u0442\\u0438\\u0432\\u043d\\u044b\\u0439 \\u043e\\u043a\\u0440\\u0443\\u0433\",\"\\u0417\\u0430\\u043f\\u0430\\u0434\\u043d\\u044b\\u0439 \\u0430\\u0434\\u043c\\u0438\\u043d\\u0438\\u0441\\u0442\\u0440\\u0430\\u0442\\u0438\\u0432\\u043d\\u044b\\u0439 \\u043e\\u043a\\u0440\\u0443\\u0433\",\"\\u0412\\u043e\\u0441\\u0442\\u043e\\u0447\\u043d\\u044b\\u0439 \\u0430\\u0434\\u043c\\u0438\\u043d\\u0438\\u0441\\u0442\\u0440\\u0430\\u0442\\u0438\\u0432\\u043d\\u044b\\u0439 \\u043e\\u043a\\u0440\\u0443\\u0433\",\"\\u042e\\u0433\\u043e-\\u0417\\u0430\\u043f\\u0430\\u0434\\u043d\\u044b\\u0439 \\u0430\\u0434\\u043c\\u0438\\u043d\\u0438\\u0441\\u0442\\u0440\\u0430\\u0442\\u0438\\u0432\\u043d\\u044b\\u0439 \\u043e\\u043a\\u0440\\u0443\\u0433\",\"\\u042e\\u0433\\u043e-\\u0412\\u043e\\u0441\\u0442\\u043e\\u0447\\u043d\\u044b\\u0439 \\u0430\\u0434\\u043c\\u0438\\u043d\\u0438\\u0441\\u0442\\u0440\\u0430\\u0442\\u0438\\u0432\\u043d\\u044b\\u0439 \\u043e\\u043a\\u0440\\u0443\\u0433\",\"\\u0421\\u0435\\u0432\\u0435\\u0440\\u043e-\\u0417\\u0430\\u043f\\u0430\\u0434\\u043d\\u044b\\u0439 \\u0430\\u0434\\u043c\\u0438\\u043d\\u0438\\u0441\\u0442\\u0440\\u0430\\u0442\\u0438\\u0432\\u043d\\u044b\\u0439 \\u043e\\u043a\\u0440\\u0443\\u0433\"],\"xaxis\":\"x\",\"y\":[426,191,157,130,148,102,94,88,62],\"yaxis\":\"y\",\"type\":\"bar\"},{\"alignmentgroup\":\"True\",\"hovertemplate\":\"category=\\u043f\\u0438\\u0446\\u0446\\u0435\\u0440\\u0438\\u044f<br>district=%{x}<br>value=%{y}<extra></extra>\",\"legendgroup\":\"\\u043f\\u0438\\u0446\\u0446\\u0435\\u0440\\u0438\\u044f\",\"marker\":{\"color\":\"#19d3f3\",\"pattern\":{\"shape\":\"\"}},\"name\":\"\\u043f\\u0438\\u0446\\u0446\\u0435\\u0440\\u0438\\u044f\",\"offsetgroup\":\"\\u043f\\u0438\\u0446\\u0446\\u0435\\u0440\\u0438\\u044f\",\"orientation\":\"v\",\"showlegend\":true,\"textposition\":\"auto\",\"x\":[\"\\u0426\\u0435\\u043d\\u0442\\u0440\\u0430\\u043b\\u044c\\u043d\\u044b\\u0439 \\u0430\\u0434\\u043c\\u0438\\u043d\\u0438\\u0441\\u0442\\u0440\\u0430\\u0442\\u0438\\u0432\\u043d\\u044b\\u0439 \\u043e\\u043a\\u0440\\u0443\\u0433\",\"\\u0421\\u0435\\u0432\\u0435\\u0440\\u043d\\u044b\\u0439 \\u0430\\u0434\\u043c\\u0438\\u043d\\u0438\\u0441\\u0442\\u0440\\u0430\\u0442\\u0438\\u0432\\u043d\\u044b\\u0439 \\u043e\\u043a\\u0440\\u0443\\u0433\",\"\\u0421\\u0435\\u0432\\u0435\\u0440\\u043e-\\u0412\\u043e\\u0441\\u0442\\u043e\\u0447\\u043d\\u044b\\u0439 \\u0430\\u0434\\u043c\\u0438\\u043d\\u0438\\u0441\\u0442\\u0440\\u0430\\u0442\\u0438\\u0432\\u043d\\u044b\\u0439 \\u043e\\u043a\\u0440\\u0443\\u0433\",\"\\u042e\\u0436\\u043d\\u044b\\u0439 \\u0430\\u0434\\u043c\\u0438\\u043d\\u0438\\u0441\\u0442\\u0440\\u0430\\u0442\\u0438\\u0432\\u043d\\u044b\\u0439 \\u043e\\u043a\\u0440\\u0443\\u0433\",\"\\u0417\\u0430\\u043f\\u0430\\u0434\\u043d\\u044b\\u0439 \\u0430\\u0434\\u043c\\u0438\\u043d\\u0438\\u0441\\u0442\\u0440\\u0430\\u0442\\u0438\\u0432\\u043d\\u044b\\u0439 \\u043e\\u043a\\u0440\\u0443\\u0433\",\"\\u0412\\u043e\\u0441\\u0442\\u043e\\u0447\\u043d\\u044b\\u0439 \\u0430\\u0434\\u043c\\u0438\\u043d\\u0438\\u0441\\u0442\\u0440\\u0430\\u0442\\u0438\\u0432\\u043d\\u044b\\u0439 \\u043e\\u043a\\u0440\\u0443\\u0433\",\"\\u042e\\u0433\\u043e-\\u0417\\u0430\\u043f\\u0430\\u0434\\u043d\\u044b\\u0439 \\u0430\\u0434\\u043c\\u0438\\u043d\\u0438\\u0441\\u0442\\u0440\\u0430\\u0442\\u0438\\u0432\\u043d\\u044b\\u0439 \\u043e\\u043a\\u0440\\u0443\\u0433\",\"\\u042e\\u0433\\u043e-\\u0412\\u043e\\u0441\\u0442\\u043e\\u0447\\u043d\\u044b\\u0439 \\u0430\\u0434\\u043c\\u0438\\u043d\\u0438\\u0441\\u0442\\u0440\\u0430\\u0442\\u0438\\u0432\\u043d\\u044b\\u0439 \\u043e\\u043a\\u0440\\u0443\\u0433\",\"\\u0421\\u0435\\u0432\\u0435\\u0440\\u043e-\\u0417\\u0430\\u043f\\u0430\\u0434\\u043d\\u044b\\u0439 \\u0430\\u0434\\u043c\\u0438\\u043d\\u0438\\u0441\\u0442\\u0440\\u0430\\u0442\\u0438\\u0432\\u043d\\u044b\\u0439 \\u043e\\u043a\\u0440\\u0443\\u0433\"],\"xaxis\":\"x\",\"y\":[112,76,66,73,71,71,64,55,40],\"yaxis\":\"y\",\"type\":\"bar\"},{\"alignmentgroup\":\"True\",\"hovertemplate\":\"category=\\u0440\\u0435\\u0441\\u0442\\u043e\\u0440\\u0430\\u043d<br>district=%{x}<br>value=%{y}<extra></extra>\",\"legendgroup\":\"\\u0440\\u0435\\u0441\\u0442\\u043e\\u0440\\u0430\\u043d\",\"marker\":{\"color\":\"#FF6692\",\"pattern\":{\"shape\":\"\"}},\"name\":\"\\u0440\\u0435\\u0441\\u0442\\u043e\\u0440\\u0430\\u043d\",\"offsetgroup\":\"\\u0440\\u0435\\u0441\\u0442\\u043e\\u0440\\u0430\\u043d\",\"orientation\":\"v\",\"showlegend\":true,\"textposition\":\"auto\",\"x\":[\"\\u0426\\u0435\\u043d\\u0442\\u0440\\u0430\\u043b\\u044c\\u043d\\u044b\\u0439 \\u0430\\u0434\\u043c\\u0438\\u043d\\u0438\\u0441\\u0442\\u0440\\u0430\\u0442\\u0438\\u0432\\u043d\\u044b\\u0439 \\u043e\\u043a\\u0440\\u0443\\u0433\",\"\\u0421\\u0435\\u0432\\u0435\\u0440\\u043d\\u044b\\u0439 \\u0430\\u0434\\u043c\\u0438\\u043d\\u0438\\u0441\\u0442\\u0440\\u0430\\u0442\\u0438\\u0432\\u043d\\u044b\\u0439 \\u043e\\u043a\\u0440\\u0443\\u0433\",\"\\u0421\\u0435\\u0432\\u0435\\u0440\\u043e-\\u0412\\u043e\\u0441\\u0442\\u043e\\u0447\\u043d\\u044b\\u0439 \\u0430\\u0434\\u043c\\u0438\\u043d\\u0438\\u0441\\u0442\\u0440\\u0430\\u0442\\u0438\\u0432\\u043d\\u044b\\u0439 \\u043e\\u043a\\u0440\\u0443\\u0433\",\"\\u042e\\u0436\\u043d\\u044b\\u0439 \\u0430\\u0434\\u043c\\u0438\\u043d\\u0438\\u0441\\u0442\\u0440\\u0430\\u0442\\u0438\\u0432\\u043d\\u044b\\u0439 \\u043e\\u043a\\u0440\\u0443\\u0433\",\"\\u0417\\u0430\\u043f\\u0430\\u0434\\u043d\\u044b\\u0439 \\u0430\\u0434\\u043c\\u0438\\u043d\\u0438\\u0441\\u0442\\u0440\\u0430\\u0442\\u0438\\u0432\\u043d\\u044b\\u0439 \\u043e\\u043a\\u0440\\u0443\\u0433\",\"\\u0412\\u043e\\u0441\\u0442\\u043e\\u0447\\u043d\\u044b\\u0439 \\u0430\\u0434\\u043c\\u0438\\u043d\\u0438\\u0441\\u0442\\u0440\\u0430\\u0442\\u0438\\u0432\\u043d\\u044b\\u0439 \\u043e\\u043a\\u0440\\u0443\\u0433\",\"\\u042e\\u0433\\u043e-\\u0417\\u0430\\u043f\\u0430\\u0434\\u043d\\u044b\\u0439 \\u0430\\u0434\\u043c\\u0438\\u043d\\u0438\\u0441\\u0442\\u0440\\u0430\\u0442\\u0438\\u0432\\u043d\\u044b\\u0439 \\u043e\\u043a\\u0440\\u0443\\u0433\",\"\\u042e\\u0433\\u043e-\\u0412\\u043e\\u0441\\u0442\\u043e\\u0447\\u043d\\u044b\\u0439 \\u0430\\u0434\\u043c\\u0438\\u043d\\u0438\\u0441\\u0442\\u0440\\u0430\\u0442\\u0438\\u0432\\u043d\\u044b\\u0439 \\u043e\\u043a\\u0440\\u0443\\u0433\",\"\\u0421\\u0435\\u0432\\u0435\\u0440\\u043e-\\u0417\\u0430\\u043f\\u0430\\u0434\\u043d\\u044b\\u0439 \\u0430\\u0434\\u043c\\u0438\\u043d\\u0438\\u0441\\u0442\\u0440\\u0430\\u0442\\u0438\\u0432\\u043d\\u044b\\u0439 \\u043e\\u043a\\u0440\\u0443\\u0433\"],\"xaxis\":\"x\",\"y\":[665,179,174,195,207,153,159,135,102],\"yaxis\":\"y\",\"type\":\"bar\"},{\"alignmentgroup\":\"True\",\"hovertemplate\":\"category=\\u0441\\u0442\\u043e\\u043b\\u043e\\u0432\\u0430\\u044f<br>district=%{x}<br>value=%{y}<extra></extra>\",\"legendgroup\":\"\\u0441\\u0442\\u043e\\u043b\\u043e\\u0432\\u0430\\u044f\",\"marker\":{\"color\":\"#B6E880\",\"pattern\":{\"shape\":\"\"}},\"name\":\"\\u0441\\u0442\\u043e\\u043b\\u043e\\u0432\\u0430\\u044f\",\"offsetgroup\":\"\\u0441\\u0442\\u043e\\u043b\\u043e\\u0432\\u0430\\u044f\",\"orientation\":\"v\",\"showlegend\":true,\"textposition\":\"auto\",\"x\":[\"\\u0426\\u0435\\u043d\\u0442\\u0440\\u0430\\u043b\\u044c\\u043d\\u044b\\u0439 \\u0430\\u0434\\u043c\\u0438\\u043d\\u0438\\u0441\\u0442\\u0440\\u0430\\u0442\\u0438\\u0432\\u043d\\u044b\\u0439 \\u043e\\u043a\\u0440\\u0443\\u0433\",\"\\u0421\\u0435\\u0432\\u0435\\u0440\\u043d\\u044b\\u0439 \\u0430\\u0434\\u043c\\u0438\\u043d\\u0438\\u0441\\u0442\\u0440\\u0430\\u0442\\u0438\\u0432\\u043d\\u044b\\u0439 \\u043e\\u043a\\u0440\\u0443\\u0433\",\"\\u0421\\u0435\\u0432\\u0435\\u0440\\u043e-\\u0412\\u043e\\u0441\\u0442\\u043e\\u0447\\u043d\\u044b\\u0439 \\u0430\\u0434\\u043c\\u0438\\u043d\\u0438\\u0441\\u0442\\u0440\\u0430\\u0442\\u0438\\u0432\\u043d\\u044b\\u0439 \\u043e\\u043a\\u0440\\u0443\\u0433\",\"\\u042e\\u0436\\u043d\\u044b\\u0439 \\u0430\\u0434\\u043c\\u0438\\u043d\\u0438\\u0441\\u0442\\u0440\\u0430\\u0442\\u0438\\u0432\\u043d\\u044b\\u0439 \\u043e\\u043a\\u0440\\u0443\\u0433\",\"\\u0417\\u0430\\u043f\\u0430\\u0434\\u043d\\u044b\\u0439 \\u0430\\u0434\\u043c\\u0438\\u043d\\u0438\\u0441\\u0442\\u0440\\u0430\\u0442\\u0438\\u0432\\u043d\\u044b\\u0439 \\u043e\\u043a\\u0440\\u0443\\u0433\",\"\\u0412\\u043e\\u0441\\u0442\\u043e\\u0447\\u043d\\u044b\\u0439 \\u0430\\u0434\\u043c\\u0438\\u043d\\u0438\\u0441\\u0442\\u0440\\u0430\\u0442\\u0438\\u0432\\u043d\\u044b\\u0439 \\u043e\\u043a\\u0440\\u0443\\u0433\",\"\\u042e\\u0433\\u043e-\\u0417\\u0430\\u043f\\u0430\\u0434\\u043d\\u044b\\u0439 \\u0430\\u0434\\u043c\\u0438\\u043d\\u0438\\u0441\\u0442\\u0440\\u0430\\u0442\\u0438\\u0432\\u043d\\u044b\\u0439 \\u043e\\u043a\\u0440\\u0443\\u0433\",\"\\u042e\\u0433\\u043e-\\u0412\\u043e\\u0441\\u0442\\u043e\\u0447\\u043d\\u044b\\u0439 \\u0430\\u0434\\u043c\\u0438\\u043d\\u0438\\u0441\\u0442\\u0440\\u0430\\u0442\\u0438\\u0432\\u043d\\u044b\\u0439 \\u043e\\u043a\\u0440\\u0443\\u0433\",\"\\u0421\\u0435\\u0432\\u0435\\u0440\\u043e-\\u0417\\u0430\\u043f\\u0430\\u0434\\u043d\\u044b\\u0439 \\u0430\\u0434\\u043c\\u0438\\u043d\\u0438\\u0441\\u0442\\u0440\\u0430\\u0442\\u0438\\u0432\\u043d\\u044b\\u0439 \\u043e\\u043a\\u0440\\u0443\\u0433\"],\"xaxis\":\"x\",\"y\":[65,38,40,43,24,39,17,23,17],\"yaxis\":\"y\",\"type\":\"bar\"}],                        {\"barmode\":\"relative\",\"legend\":{\"title\":{\"text\":\"category\"},\"tracegroupgap\":0},\"margin\":{\"t\":60},\"template\":{\"data\":{\"barpolar\":[{\"marker\":{\"line\":{\"color\":\"#E5ECF6\",\"width\":0.5},\"pattern\":{\"fillmode\":\"overlay\",\"size\":10,\"solidity\":0.2}},\"type\":\"barpolar\"}],\"bar\":[{\"error_x\":{\"color\":\"#2a3f5f\"},\"error_y\":{\"color\":\"#2a3f5f\"},\"marker\":{\"line\":{\"color\":\"#E5ECF6\",\"width\":0.5},\"pattern\":{\"fillmode\":\"overlay\",\"size\":10,\"solidity\":0.2}},\"type\":\"bar\"}],\"carpet\":[{\"aaxis\":{\"endlinecolor\":\"#2a3f5f\",\"gridcolor\":\"white\",\"linecolor\":\"white\",\"minorgridcolor\":\"white\",\"startlinecolor\":\"#2a3f5f\"},\"baxis\":{\"endlinecolor\":\"#2a3f5f\",\"gridcolor\":\"white\",\"linecolor\":\"white\",\"minorgridcolor\":\"white\",\"startlinecolor\":\"#2a3f5f\"},\"type\":\"carpet\"}],\"choropleth\":[{\"colorbar\":{\"outlinewidth\":0,\"ticks\":\"\"},\"type\":\"choropleth\"}],\"contourcarpet\":[{\"colorbar\":{\"outlinewidth\":0,\"ticks\":\"\"},\"type\":\"contourcarpet\"}],\"contour\":[{\"colorbar\":{\"outlinewidth\":0,\"ticks\":\"\"},\"colorscale\":[[0.0,\"#0d0887\"],[0.1111111111111111,\"#46039f\"],[0.2222222222222222,\"#7201a8\"],[0.3333333333333333,\"#9c179e\"],[0.4444444444444444,\"#bd3786\"],[0.5555555555555556,\"#d8576b\"],[0.6666666666666666,\"#ed7953\"],[0.7777777777777778,\"#fb9f3a\"],[0.8888888888888888,\"#fdca26\"],[1.0,\"#f0f921\"]],\"type\":\"contour\"}],\"heatmapgl\":[{\"colorbar\":{\"outlinewidth\":0,\"ticks\":\"\"},\"colorscale\":[[0.0,\"#0d0887\"],[0.1111111111111111,\"#46039f\"],[0.2222222222222222,\"#7201a8\"],[0.3333333333333333,\"#9c179e\"],[0.4444444444444444,\"#bd3786\"],[0.5555555555555556,\"#d8576b\"],[0.6666666666666666,\"#ed7953\"],[0.7777777777777778,\"#fb9f3a\"],[0.8888888888888888,\"#fdca26\"],[1.0,\"#f0f921\"]],\"type\":\"heatmapgl\"}],\"heatmap\":[{\"colorbar\":{\"outlinewidth\":0,\"ticks\":\"\"},\"colorscale\":[[0.0,\"#0d0887\"],[0.1111111111111111,\"#46039f\"],[0.2222222222222222,\"#7201a8\"],[0.3333333333333333,\"#9c179e\"],[0.4444444444444444,\"#bd3786\"],[0.5555555555555556,\"#d8576b\"],[0.6666666666666666,\"#ed7953\"],[0.7777777777777778,\"#fb9f3a\"],[0.8888888888888888,\"#fdca26\"],[1.0,\"#f0f921\"]],\"type\":\"heatmap\"}],\"histogram2dcontour\":[{\"colorbar\":{\"outlinewidth\":0,\"ticks\":\"\"},\"colorscale\":[[0.0,\"#0d0887\"],[0.1111111111111111,\"#46039f\"],[0.2222222222222222,\"#7201a8\"],[0.3333333333333333,\"#9c179e\"],[0.4444444444444444,\"#bd3786\"],[0.5555555555555556,\"#d8576b\"],[0.6666666666666666,\"#ed7953\"],[0.7777777777777778,\"#fb9f3a\"],[0.8888888888888888,\"#fdca26\"],[1.0,\"#f0f921\"]],\"type\":\"histogram2dcontour\"}],\"histogram2d\":[{\"colorbar\":{\"outlinewidth\":0,\"ticks\":\"\"},\"colorscale\":[[0.0,\"#0d0887\"],[0.1111111111111111,\"#46039f\"],[0.2222222222222222,\"#7201a8\"],[0.3333333333333333,\"#9c179e\"],[0.4444444444444444,\"#bd3786\"],[0.5555555555555556,\"#d8576b\"],[0.6666666666666666,\"#ed7953\"],[0.7777777777777778,\"#fb9f3a\"],[0.8888888888888888,\"#fdca26\"],[1.0,\"#f0f921\"]],\"type\":\"histogram2d\"}],\"histogram\":[{\"marker\":{\"pattern\":{\"fillmode\":\"overlay\",\"size\":10,\"solidity\":0.2}},\"type\":\"histogram\"}],\"mesh3d\":[{\"colorbar\":{\"outlinewidth\":0,\"ticks\":\"\"},\"type\":\"mesh3d\"}],\"parcoords\":[{\"line\":{\"colorbar\":{\"outlinewidth\":0,\"ticks\":\"\"}},\"type\":\"parcoords\"}],\"pie\":[{\"automargin\":true,\"type\":\"pie\"}],\"scatter3d\":[{\"line\":{\"colorbar\":{\"outlinewidth\":0,\"ticks\":\"\"}},\"marker\":{\"colorbar\":{\"outlinewidth\":0,\"ticks\":\"\"}},\"type\":\"scatter3d\"}],\"scattercarpet\":[{\"marker\":{\"colorbar\":{\"outlinewidth\":0,\"ticks\":\"\"}},\"type\":\"scattercarpet\"}],\"scattergeo\":[{\"marker\":{\"colorbar\":{\"outlinewidth\":0,\"ticks\":\"\"}},\"type\":\"scattergeo\"}],\"scattergl\":[{\"marker\":{\"colorbar\":{\"outlinewidth\":0,\"ticks\":\"\"}},\"type\":\"scattergl\"}],\"scattermapbox\":[{\"marker\":{\"colorbar\":{\"outlinewidth\":0,\"ticks\":\"\"}},\"type\":\"scattermapbox\"}],\"scatterpolargl\":[{\"marker\":{\"colorbar\":{\"outlinewidth\":0,\"ticks\":\"\"}},\"type\":\"scatterpolargl\"}],\"scatterpolar\":[{\"marker\":{\"colorbar\":{\"outlinewidth\":0,\"ticks\":\"\"}},\"type\":\"scatterpolar\"}],\"scatter\":[{\"fillpattern\":{\"fillmode\":\"overlay\",\"size\":10,\"solidity\":0.2},\"type\":\"scatter\"}],\"scatterternary\":[{\"marker\":{\"colorbar\":{\"outlinewidth\":0,\"ticks\":\"\"}},\"type\":\"scatterternary\"}],\"surface\":[{\"colorbar\":{\"outlinewidth\":0,\"ticks\":\"\"},\"colorscale\":[[0.0,\"#0d0887\"],[0.1111111111111111,\"#46039f\"],[0.2222222222222222,\"#7201a8\"],[0.3333333333333333,\"#9c179e\"],[0.4444444444444444,\"#bd3786\"],[0.5555555555555556,\"#d8576b\"],[0.6666666666666666,\"#ed7953\"],[0.7777777777777778,\"#fb9f3a\"],[0.8888888888888888,\"#fdca26\"],[1.0,\"#f0f921\"]],\"type\":\"surface\"}],\"table\":[{\"cells\":{\"fill\":{\"color\":\"#EBF0F8\"},\"line\":{\"color\":\"white\"}},\"header\":{\"fill\":{\"color\":\"#C8D4E3\"},\"line\":{\"color\":\"white\"}},\"type\":\"table\"}]},\"layout\":{\"annotationdefaults\":{\"arrowcolor\":\"#2a3f5f\",\"arrowhead\":0,\"arrowwidth\":1},\"autotypenumbers\":\"strict\",\"coloraxis\":{\"colorbar\":{\"outlinewidth\":0,\"ticks\":\"\"}},\"colorscale\":{\"diverging\":[[0,\"#8e0152\"],[0.1,\"#c51b7d\"],[0.2,\"#de77ae\"],[0.3,\"#f1b6da\"],[0.4,\"#fde0ef\"],[0.5,\"#f7f7f7\"],[0.6,\"#e6f5d0\"],[0.7,\"#b8e186\"],[0.8,\"#7fbc41\"],[0.9,\"#4d9221\"],[1,\"#276419\"]],\"sequential\":[[0.0,\"#0d0887\"],[0.1111111111111111,\"#46039f\"],[0.2222222222222222,\"#7201a8\"],[0.3333333333333333,\"#9c179e\"],[0.4444444444444444,\"#bd3786\"],[0.5555555555555556,\"#d8576b\"],[0.6666666666666666,\"#ed7953\"],[0.7777777777777778,\"#fb9f3a\"],[0.8888888888888888,\"#fdca26\"],[1.0,\"#f0f921\"]],\"sequentialminus\":[[0.0,\"#0d0887\"],[0.1111111111111111,\"#46039f\"],[0.2222222222222222,\"#7201a8\"],[0.3333333333333333,\"#9c179e\"],[0.4444444444444444,\"#bd3786\"],[0.5555555555555556,\"#d8576b\"],[0.6666666666666666,\"#ed7953\"],[0.7777777777777778,\"#fb9f3a\"],[0.8888888888888888,\"#fdca26\"],[1.0,\"#f0f921\"]]},\"colorway\":[\"#636efa\",\"#EF553B\",\"#00cc96\",\"#ab63fa\",\"#FFA15A\",\"#19d3f3\",\"#FF6692\",\"#B6E880\",\"#FF97FF\",\"#FECB52\"],\"font\":{\"color\":\"#2a3f5f\"},\"geo\":{\"bgcolor\":\"white\",\"lakecolor\":\"white\",\"landcolor\":\"#E5ECF6\",\"showlakes\":true,\"showland\":true,\"subunitcolor\":\"white\"},\"hoverlabel\":{\"align\":\"left\"},\"hovermode\":\"closest\",\"mapbox\":{\"style\":\"light\"},\"paper_bgcolor\":\"white\",\"plot_bgcolor\":\"#E5ECF6\",\"polar\":{\"angularaxis\":{\"gridcolor\":\"white\",\"linecolor\":\"white\",\"ticks\":\"\"},\"bgcolor\":\"#E5ECF6\",\"radialaxis\":{\"gridcolor\":\"white\",\"linecolor\":\"white\",\"ticks\":\"\"}},\"scene\":{\"xaxis\":{\"backgroundcolor\":\"#E5ECF6\",\"gridcolor\":\"white\",\"gridwidth\":2,\"linecolor\":\"white\",\"showbackground\":true,\"ticks\":\"\",\"zerolinecolor\":\"white\"},\"yaxis\":{\"backgroundcolor\":\"#E5ECF6\",\"gridcolor\":\"white\",\"gridwidth\":2,\"linecolor\":\"white\",\"showbackground\":true,\"ticks\":\"\",\"zerolinecolor\":\"white\"},\"zaxis\":{\"backgroundcolor\":\"#E5ECF6\",\"gridcolor\":\"white\",\"gridwidth\":2,\"linecolor\":\"white\",\"showbackground\":true,\"ticks\":\"\",\"zerolinecolor\":\"white\"}},\"shapedefaults\":{\"line\":{\"color\":\"#2a3f5f\"}},\"ternary\":{\"aaxis\":{\"gridcolor\":\"white\",\"linecolor\":\"white\",\"ticks\":\"\"},\"baxis\":{\"gridcolor\":\"white\",\"linecolor\":\"white\",\"ticks\":\"\"},\"bgcolor\":\"#E5ECF6\",\"caxis\":{\"gridcolor\":\"white\",\"linecolor\":\"white\",\"ticks\":\"\"}},\"title\":{\"x\":0.05},\"xaxis\":{\"automargin\":true,\"gridcolor\":\"white\",\"linecolor\":\"white\",\"ticks\":\"\",\"title\":{\"standoff\":15},\"zerolinecolor\":\"white\",\"zerolinewidth\":2},\"yaxis\":{\"automargin\":true,\"gridcolor\":\"white\",\"linecolor\":\"white\",\"ticks\":\"\",\"title\":{\"standoff\":15},\"zerolinecolor\":\"white\",\"zerolinewidth\":2}}},\"title\":{\"text\":\"\\u041a\\u043e\\u043b\\u0438\\u0447\\u0435\\u0441\\u0442\\u0432\\u043e \\u0437\\u0430\\u0432\\u0435\\u0434\\u0435\\u043d\\u0438\\u0439 \\u0440\\u0430\\u0437\\u043b\\u0438\\u0447\\u043d\\u044b\\u0445 \\u043a\\u0430\\u0442\\u0435\\u0433\\u043e\\u0440\\u0438\\u0439 \\u043f\\u043e \\u0440\\u0430\\u0439\\u043e\\u043d\\u0430\\u043c\"},\"xaxis\":{\"anchor\":\"y\",\"domain\":[0.0,1.0],\"tickangle\":45,\"title\":{\"text\":\"\\u041d\\u0430\\u0437\\u0432\\u0430\\u043d\\u0438\\u0435 \\u0440\\u0430\\u0439\\u043e\\u043d\\u0430\"}},\"yaxis\":{\"anchor\":\"x\",\"domain\":[0.0,1.0],\"title\":{\"text\":\"\\u041a\\u043e\\u043b\\u0438\\u0447\\u0435\\u0441\\u0442\\u0432\\u043e \\u0437\\u0430\\u0432\\u0435\\u0434\\u0435\\u043d\\u0438\\u0439\"}}},                        {\"responsive\": true}                    ).then(function(){\n",
       "                            \n",
       "var gd = document.getElementById('86c4f2eb-7438-4d37-8d98-fad8a51030d3');\n",
       "var x = new MutationObserver(function (mutations, observer) {{\n",
       "        var display = window.getComputedStyle(gd).display;\n",
       "        if (!display || display === 'none') {{\n",
       "            console.log([gd, 'removed!']);\n",
       "            Plotly.purge(gd);\n",
       "            observer.disconnect();\n",
       "        }}\n",
       "}});\n",
       "\n",
       "// Listen for the removal of the full notebook cells\n",
       "var notebookContainer = gd.closest('#notebook-container');\n",
       "if (notebookContainer) {{\n",
       "    x.observe(notebookContainer, {childList: true});\n",
       "}}\n",
       "\n",
       "// Listen for the clearing of the current output cell\n",
       "var outputEl = gd.closest('.output');\n",
       "if (outputEl) {{\n",
       "    x.observe(outputEl, {childList: true});\n",
       "}}\n",
       "\n",
       "                        })                };                });            </script>        </div>"
      ]
     },
     "metadata": {},
     "output_type": "display_data"
    }
   ],
   "source": [
    "iplot(fig)"
   ]
  },
  {
   "cell_type": "markdown",
   "metadata": {},
   "source": [
    "### Анализ административных районов"
   ]
  },
  {
   "cell_type": "code",
   "execution_count": 35,
   "metadata": {},
   "outputs": [],
   "source": [
    "#Создадим сводную таблицу для построения барплота\n",
    "pivot_district = df.pivot_table(index='district', columns='category',\n",
    "                       values =['street'],\n",
    "                       aggfunc ='count')"
   ]
  },
  {
   "cell_type": "code",
   "execution_count": 36,
   "metadata": {},
   "outputs": [],
   "source": [
    "#Удалим лишний уровнь индексов\n",
    "pivot_district = pivot_district.droplevel(0, axis=1)"
   ]
  },
  {
   "cell_type": "code",
   "execution_count": 37,
   "metadata": {},
   "outputs": [],
   "source": [
    "#Отсортируем датасет по количеству заведений\n",
    "pivot_district['sum'] = pivot_district.sum(axis=1)\n",
    "pivot_district = pivot_district.sort_values(by='sum', ascending = False)"
   ]
  },
  {
   "cell_type": "code",
   "execution_count": 38,
   "metadata": {},
   "outputs": [
    {
     "data": {
      "text/html": [
       "<div>\n",
       "<style scoped>\n",
       "    .dataframe tbody tr th:only-of-type {\n",
       "        vertical-align: middle;\n",
       "    }\n",
       "\n",
       "    .dataframe tbody tr th {\n",
       "        vertical-align: top;\n",
       "    }\n",
       "\n",
       "    .dataframe thead th {\n",
       "        text-align: right;\n",
       "    }\n",
       "</style>\n",
       "<table border=\"1\" class=\"dataframe\">\n",
       "  <thead>\n",
       "    <tr style=\"text-align: right;\">\n",
       "      <th>category</th>\n",
       "      <th>бар,паб</th>\n",
       "      <th>булочная</th>\n",
       "      <th>быстрое питание</th>\n",
       "      <th>кафе</th>\n",
       "      <th>кофейня</th>\n",
       "      <th>пиццерия</th>\n",
       "      <th>ресторан</th>\n",
       "      <th>столовая</th>\n",
       "      <th>sum</th>\n",
       "    </tr>\n",
       "    <tr>\n",
       "      <th>district</th>\n",
       "      <th></th>\n",
       "      <th></th>\n",
       "      <th></th>\n",
       "      <th></th>\n",
       "      <th></th>\n",
       "      <th></th>\n",
       "      <th></th>\n",
       "      <th></th>\n",
       "      <th></th>\n",
       "    </tr>\n",
       "  </thead>\n",
       "  <tbody>\n",
       "    <tr>\n",
       "      <th>Центральный административный округ</th>\n",
       "      <td>364</td>\n",
       "      <td>50</td>\n",
       "      <td>85</td>\n",
       "      <td>444</td>\n",
       "      <td>426</td>\n",
       "      <td>112</td>\n",
       "      <td>665</td>\n",
       "      <td>65</td>\n",
       "      <td>2211</td>\n",
       "    </tr>\n",
       "    <tr>\n",
       "      <th>Северный административный округ</th>\n",
       "      <td>65</td>\n",
       "      <td>37</td>\n",
       "      <td>54</td>\n",
       "      <td>206</td>\n",
       "      <td>191</td>\n",
       "      <td>76</td>\n",
       "      <td>179</td>\n",
       "      <td>38</td>\n",
       "      <td>846</td>\n",
       "    </tr>\n",
       "    <tr>\n",
       "      <th>Северо-Восточный административный округ</th>\n",
       "      <td>57</td>\n",
       "      <td>28</td>\n",
       "      <td>79</td>\n",
       "      <td>229</td>\n",
       "      <td>157</td>\n",
       "      <td>66</td>\n",
       "      <td>174</td>\n",
       "      <td>40</td>\n",
       "      <td>830</td>\n",
       "    </tr>\n",
       "    <tr>\n",
       "      <th>Южный административный округ</th>\n",
       "      <td>65</td>\n",
       "      <td>25</td>\n",
       "      <td>81</td>\n",
       "      <td>215</td>\n",
       "      <td>130</td>\n",
       "      <td>73</td>\n",
       "      <td>195</td>\n",
       "      <td>43</td>\n",
       "      <td>827</td>\n",
       "    </tr>\n",
       "    <tr>\n",
       "      <th>Западный административный округ</th>\n",
       "      <td>48</td>\n",
       "      <td>36</td>\n",
       "      <td>60</td>\n",
       "      <td>191</td>\n",
       "      <td>148</td>\n",
       "      <td>71</td>\n",
       "      <td>207</td>\n",
       "      <td>24</td>\n",
       "      <td>785</td>\n",
       "    </tr>\n",
       "    <tr>\n",
       "      <th>Восточный административный округ</th>\n",
       "      <td>51</td>\n",
       "      <td>23</td>\n",
       "      <td>66</td>\n",
       "      <td>218</td>\n",
       "      <td>102</td>\n",
       "      <td>71</td>\n",
       "      <td>153</td>\n",
       "      <td>39</td>\n",
       "      <td>723</td>\n",
       "    </tr>\n",
       "    <tr>\n",
       "      <th>Юго-Западный административный округ</th>\n",
       "      <td>37</td>\n",
       "      <td>26</td>\n",
       "      <td>57</td>\n",
       "      <td>196</td>\n",
       "      <td>94</td>\n",
       "      <td>64</td>\n",
       "      <td>159</td>\n",
       "      <td>17</td>\n",
       "      <td>650</td>\n",
       "    </tr>\n",
       "    <tr>\n",
       "      <th>Юго-Восточный административный округ</th>\n",
       "      <td>37</td>\n",
       "      <td>12</td>\n",
       "      <td>61</td>\n",
       "      <td>218</td>\n",
       "      <td>88</td>\n",
       "      <td>55</td>\n",
       "      <td>135</td>\n",
       "      <td>23</td>\n",
       "      <td>629</td>\n",
       "    </tr>\n",
       "    <tr>\n",
       "      <th>Северо-Западный административный округ</th>\n",
       "      <td>23</td>\n",
       "      <td>12</td>\n",
       "      <td>27</td>\n",
       "      <td>86</td>\n",
       "      <td>62</td>\n",
       "      <td>40</td>\n",
       "      <td>102</td>\n",
       "      <td>17</td>\n",
       "      <td>369</td>\n",
       "    </tr>\n",
       "  </tbody>\n",
       "</table>\n",
       "</div>"
      ],
      "text/plain": [
       "category                                 бар,паб  булочная  быстрое питание  \\\n",
       "district                                                                      \n",
       "Центральный административный округ           364        50               85   \n",
       "Северный административный округ               65        37               54   \n",
       "Северо-Восточный административный округ       57        28               79   \n",
       "Южный административный округ                  65        25               81   \n",
       "Западный административный округ               48        36               60   \n",
       "Восточный административный округ              51        23               66   \n",
       "Юго-Западный административный округ           37        26               57   \n",
       "Юго-Восточный административный округ          37        12               61   \n",
       "Северо-Западный административный округ        23        12               27   \n",
       "\n",
       "category                                 кафе  кофейня  пиццерия  ресторан  \\\n",
       "district                                                                     \n",
       "Центральный административный округ        444      426       112       665   \n",
       "Северный административный округ           206      191        76       179   \n",
       "Северо-Восточный административный округ   229      157        66       174   \n",
       "Южный административный округ              215      130        73       195   \n",
       "Западный административный округ           191      148        71       207   \n",
       "Восточный административный округ          218      102        71       153   \n",
       "Юго-Западный административный округ       196       94        64       159   \n",
       "Юго-Восточный административный округ      218       88        55       135   \n",
       "Северо-Западный административный округ     86       62        40       102   \n",
       "\n",
       "category                                 столовая   sum  \n",
       "district                                                 \n",
       "Центральный административный округ             65  2211  \n",
       "Северный административный округ                38   846  \n",
       "Северо-Восточный административный округ        40   830  \n",
       "Южный административный округ                   43   827  \n",
       "Западный административный округ                24   785  \n",
       "Восточный административный округ               39   723  \n",
       "Юго-Западный административный округ            17   650  \n",
       "Юго-Восточный административный округ           23   629  \n",
       "Северо-Западный административный округ         17   369  "
      ]
     },
     "execution_count": 38,
     "metadata": {},
     "output_type": "execute_result"
    }
   ],
   "source": [
    "pivot_district"
   ]
  },
  {
   "cell_type": "code",
   "execution_count": 39,
   "metadata": {},
   "outputs": [],
   "source": [
    "#Удалим столбец для удоства построения диаграммы\n",
    "pivot_district = pivot_district.drop(columns=['sum'])"
   ]
  },
  {
   "cell_type": "code",
   "execution_count": 40,
   "metadata": {},
   "outputs": [
    {
     "data": {
      "application/vnd.plotly.v1+json": {
       "config": {
        "plotlyServerURL": "https://plot.ly"
       },
       "data": [
        {
         "alignmentgroup": "True",
         "hovertemplate": "category=бар,паб<br>district=%{x}<br>value=%{y}<extra></extra>",
         "legendgroup": "бар,паб",
         "marker": {
          "color": "#636efa",
          "pattern": {
           "shape": ""
          }
         },
         "name": "бар,паб",
         "offsetgroup": "бар,паб",
         "orientation": "v",
         "showlegend": true,
         "textposition": "auto",
         "type": "bar",
         "x": [
          "Центральный административный округ",
          "Северный административный округ",
          "Северо-Восточный административный округ",
          "Южный административный округ",
          "Западный административный округ",
          "Восточный административный округ",
          "Юго-Западный административный округ",
          "Юго-Восточный административный округ",
          "Северо-Западный административный округ"
         ],
         "xaxis": "x",
         "y": [
          364,
          65,
          57,
          65,
          48,
          51,
          37,
          37,
          23
         ],
         "yaxis": "y"
        },
        {
         "alignmentgroup": "True",
         "hovertemplate": "category=булочная<br>district=%{x}<br>value=%{y}<extra></extra>",
         "legendgroup": "булочная",
         "marker": {
          "color": "#EF553B",
          "pattern": {
           "shape": ""
          }
         },
         "name": "булочная",
         "offsetgroup": "булочная",
         "orientation": "v",
         "showlegend": true,
         "textposition": "auto",
         "type": "bar",
         "x": [
          "Центральный административный округ",
          "Северный административный округ",
          "Северо-Восточный административный округ",
          "Южный административный округ",
          "Западный административный округ",
          "Восточный административный округ",
          "Юго-Западный административный округ",
          "Юго-Восточный административный округ",
          "Северо-Западный административный округ"
         ],
         "xaxis": "x",
         "y": [
          50,
          37,
          28,
          25,
          36,
          23,
          26,
          12,
          12
         ],
         "yaxis": "y"
        },
        {
         "alignmentgroup": "True",
         "hovertemplate": "category=быстрое питание<br>district=%{x}<br>value=%{y}<extra></extra>",
         "legendgroup": "быстрое питание",
         "marker": {
          "color": "#00cc96",
          "pattern": {
           "shape": ""
          }
         },
         "name": "быстрое питание",
         "offsetgroup": "быстрое питание",
         "orientation": "v",
         "showlegend": true,
         "textposition": "auto",
         "type": "bar",
         "x": [
          "Центральный административный округ",
          "Северный административный округ",
          "Северо-Восточный административный округ",
          "Южный административный округ",
          "Западный административный округ",
          "Восточный административный округ",
          "Юго-Западный административный округ",
          "Юго-Восточный административный округ",
          "Северо-Западный административный округ"
         ],
         "xaxis": "x",
         "y": [
          85,
          54,
          79,
          81,
          60,
          66,
          57,
          61,
          27
         ],
         "yaxis": "y"
        },
        {
         "alignmentgroup": "True",
         "hovertemplate": "category=кафе<br>district=%{x}<br>value=%{y}<extra></extra>",
         "legendgroup": "кафе",
         "marker": {
          "color": "#ab63fa",
          "pattern": {
           "shape": ""
          }
         },
         "name": "кафе",
         "offsetgroup": "кафе",
         "orientation": "v",
         "showlegend": true,
         "textposition": "auto",
         "type": "bar",
         "x": [
          "Центральный административный округ",
          "Северный административный округ",
          "Северо-Восточный административный округ",
          "Южный административный округ",
          "Западный административный округ",
          "Восточный административный округ",
          "Юго-Западный административный округ",
          "Юго-Восточный административный округ",
          "Северо-Западный административный округ"
         ],
         "xaxis": "x",
         "y": [
          444,
          206,
          229,
          215,
          191,
          218,
          196,
          218,
          86
         ],
         "yaxis": "y"
        },
        {
         "alignmentgroup": "True",
         "hovertemplate": "category=кофейня<br>district=%{x}<br>value=%{y}<extra></extra>",
         "legendgroup": "кофейня",
         "marker": {
          "color": "#FFA15A",
          "pattern": {
           "shape": ""
          }
         },
         "name": "кофейня",
         "offsetgroup": "кофейня",
         "orientation": "v",
         "showlegend": true,
         "textposition": "auto",
         "type": "bar",
         "x": [
          "Центральный административный округ",
          "Северный административный округ",
          "Северо-Восточный административный округ",
          "Южный административный округ",
          "Западный административный округ",
          "Восточный административный округ",
          "Юго-Западный административный округ",
          "Юго-Восточный административный округ",
          "Северо-Западный административный округ"
         ],
         "xaxis": "x",
         "y": [
          426,
          191,
          157,
          130,
          148,
          102,
          94,
          88,
          62
         ],
         "yaxis": "y"
        },
        {
         "alignmentgroup": "True",
         "hovertemplate": "category=пиццерия<br>district=%{x}<br>value=%{y}<extra></extra>",
         "legendgroup": "пиццерия",
         "marker": {
          "color": "#19d3f3",
          "pattern": {
           "shape": ""
          }
         },
         "name": "пиццерия",
         "offsetgroup": "пиццерия",
         "orientation": "v",
         "showlegend": true,
         "textposition": "auto",
         "type": "bar",
         "x": [
          "Центральный административный округ",
          "Северный административный округ",
          "Северо-Восточный административный округ",
          "Южный административный округ",
          "Западный административный округ",
          "Восточный административный округ",
          "Юго-Западный административный округ",
          "Юго-Восточный административный округ",
          "Северо-Западный административный округ"
         ],
         "xaxis": "x",
         "y": [
          112,
          76,
          66,
          73,
          71,
          71,
          64,
          55,
          40
         ],
         "yaxis": "y"
        },
        {
         "alignmentgroup": "True",
         "hovertemplate": "category=ресторан<br>district=%{x}<br>value=%{y}<extra></extra>",
         "legendgroup": "ресторан",
         "marker": {
          "color": "#FF6692",
          "pattern": {
           "shape": ""
          }
         },
         "name": "ресторан",
         "offsetgroup": "ресторан",
         "orientation": "v",
         "showlegend": true,
         "textposition": "auto",
         "type": "bar",
         "x": [
          "Центральный административный округ",
          "Северный административный округ",
          "Северо-Восточный административный округ",
          "Южный административный округ",
          "Западный административный округ",
          "Восточный административный округ",
          "Юго-Западный административный округ",
          "Юго-Восточный административный округ",
          "Северо-Западный административный округ"
         ],
         "xaxis": "x",
         "y": [
          665,
          179,
          174,
          195,
          207,
          153,
          159,
          135,
          102
         ],
         "yaxis": "y"
        },
        {
         "alignmentgroup": "True",
         "hovertemplate": "category=столовая<br>district=%{x}<br>value=%{y}<extra></extra>",
         "legendgroup": "столовая",
         "marker": {
          "color": "#B6E880",
          "pattern": {
           "shape": ""
          }
         },
         "name": "столовая",
         "offsetgroup": "столовая",
         "orientation": "v",
         "showlegend": true,
         "textposition": "auto",
         "type": "bar",
         "x": [
          "Центральный административный округ",
          "Северный административный округ",
          "Северо-Восточный административный округ",
          "Южный административный округ",
          "Западный административный округ",
          "Восточный административный округ",
          "Юго-Западный административный округ",
          "Юго-Восточный административный округ",
          "Северо-Западный административный округ"
         ],
         "xaxis": "x",
         "y": [
          65,
          38,
          40,
          43,
          24,
          39,
          17,
          23,
          17
         ],
         "yaxis": "y"
        }
       ],
       "layout": {
        "barmode": "relative",
        "legend": {
         "title": {
          "text": "category"
         },
         "tracegroupgap": 0
        },
        "margin": {
         "t": 60
        },
        "template": {
         "data": {
          "bar": [
           {
            "error_x": {
             "color": "#2a3f5f"
            },
            "error_y": {
             "color": "#2a3f5f"
            },
            "marker": {
             "line": {
              "color": "#E5ECF6",
              "width": 0.5
             },
             "pattern": {
              "fillmode": "overlay",
              "size": 10,
              "solidity": 0.2
             }
            },
            "type": "bar"
           }
          ],
          "barpolar": [
           {
            "marker": {
             "line": {
              "color": "#E5ECF6",
              "width": 0.5
             },
             "pattern": {
              "fillmode": "overlay",
              "size": 10,
              "solidity": 0.2
             }
            },
            "type": "barpolar"
           }
          ],
          "carpet": [
           {
            "aaxis": {
             "endlinecolor": "#2a3f5f",
             "gridcolor": "white",
             "linecolor": "white",
             "minorgridcolor": "white",
             "startlinecolor": "#2a3f5f"
            },
            "baxis": {
             "endlinecolor": "#2a3f5f",
             "gridcolor": "white",
             "linecolor": "white",
             "minorgridcolor": "white",
             "startlinecolor": "#2a3f5f"
            },
            "type": "carpet"
           }
          ],
          "choropleth": [
           {
            "colorbar": {
             "outlinewidth": 0,
             "ticks": ""
            },
            "type": "choropleth"
           }
          ],
          "contour": [
           {
            "colorbar": {
             "outlinewidth": 0,
             "ticks": ""
            },
            "colorscale": [
             [
              0,
              "#0d0887"
             ],
             [
              0.1111111111111111,
              "#46039f"
             ],
             [
              0.2222222222222222,
              "#7201a8"
             ],
             [
              0.3333333333333333,
              "#9c179e"
             ],
             [
              0.4444444444444444,
              "#bd3786"
             ],
             [
              0.5555555555555556,
              "#d8576b"
             ],
             [
              0.6666666666666666,
              "#ed7953"
             ],
             [
              0.7777777777777778,
              "#fb9f3a"
             ],
             [
              0.8888888888888888,
              "#fdca26"
             ],
             [
              1,
              "#f0f921"
             ]
            ],
            "type": "contour"
           }
          ],
          "contourcarpet": [
           {
            "colorbar": {
             "outlinewidth": 0,
             "ticks": ""
            },
            "type": "contourcarpet"
           }
          ],
          "heatmap": [
           {
            "colorbar": {
             "outlinewidth": 0,
             "ticks": ""
            },
            "colorscale": [
             [
              0,
              "#0d0887"
             ],
             [
              0.1111111111111111,
              "#46039f"
             ],
             [
              0.2222222222222222,
              "#7201a8"
             ],
             [
              0.3333333333333333,
              "#9c179e"
             ],
             [
              0.4444444444444444,
              "#bd3786"
             ],
             [
              0.5555555555555556,
              "#d8576b"
             ],
             [
              0.6666666666666666,
              "#ed7953"
             ],
             [
              0.7777777777777778,
              "#fb9f3a"
             ],
             [
              0.8888888888888888,
              "#fdca26"
             ],
             [
              1,
              "#f0f921"
             ]
            ],
            "type": "heatmap"
           }
          ],
          "heatmapgl": [
           {
            "colorbar": {
             "outlinewidth": 0,
             "ticks": ""
            },
            "colorscale": [
             [
              0,
              "#0d0887"
             ],
             [
              0.1111111111111111,
              "#46039f"
             ],
             [
              0.2222222222222222,
              "#7201a8"
             ],
             [
              0.3333333333333333,
              "#9c179e"
             ],
             [
              0.4444444444444444,
              "#bd3786"
             ],
             [
              0.5555555555555556,
              "#d8576b"
             ],
             [
              0.6666666666666666,
              "#ed7953"
             ],
             [
              0.7777777777777778,
              "#fb9f3a"
             ],
             [
              0.8888888888888888,
              "#fdca26"
             ],
             [
              1,
              "#f0f921"
             ]
            ],
            "type": "heatmapgl"
           }
          ],
          "histogram": [
           {
            "marker": {
             "pattern": {
              "fillmode": "overlay",
              "size": 10,
              "solidity": 0.2
             }
            },
            "type": "histogram"
           }
          ],
          "histogram2d": [
           {
            "colorbar": {
             "outlinewidth": 0,
             "ticks": ""
            },
            "colorscale": [
             [
              0,
              "#0d0887"
             ],
             [
              0.1111111111111111,
              "#46039f"
             ],
             [
              0.2222222222222222,
              "#7201a8"
             ],
             [
              0.3333333333333333,
              "#9c179e"
             ],
             [
              0.4444444444444444,
              "#bd3786"
             ],
             [
              0.5555555555555556,
              "#d8576b"
             ],
             [
              0.6666666666666666,
              "#ed7953"
             ],
             [
              0.7777777777777778,
              "#fb9f3a"
             ],
             [
              0.8888888888888888,
              "#fdca26"
             ],
             [
              1,
              "#f0f921"
             ]
            ],
            "type": "histogram2d"
           }
          ],
          "histogram2dcontour": [
           {
            "colorbar": {
             "outlinewidth": 0,
             "ticks": ""
            },
            "colorscale": [
             [
              0,
              "#0d0887"
             ],
             [
              0.1111111111111111,
              "#46039f"
             ],
             [
              0.2222222222222222,
              "#7201a8"
             ],
             [
              0.3333333333333333,
              "#9c179e"
             ],
             [
              0.4444444444444444,
              "#bd3786"
             ],
             [
              0.5555555555555556,
              "#d8576b"
             ],
             [
              0.6666666666666666,
              "#ed7953"
             ],
             [
              0.7777777777777778,
              "#fb9f3a"
             ],
             [
              0.8888888888888888,
              "#fdca26"
             ],
             [
              1,
              "#f0f921"
             ]
            ],
            "type": "histogram2dcontour"
           }
          ],
          "mesh3d": [
           {
            "colorbar": {
             "outlinewidth": 0,
             "ticks": ""
            },
            "type": "mesh3d"
           }
          ],
          "parcoords": [
           {
            "line": {
             "colorbar": {
              "outlinewidth": 0,
              "ticks": ""
             }
            },
            "type": "parcoords"
           }
          ],
          "pie": [
           {
            "automargin": true,
            "type": "pie"
           }
          ],
          "scatter": [
           {
            "fillpattern": {
             "fillmode": "overlay",
             "size": 10,
             "solidity": 0.2
            },
            "type": "scatter"
           }
          ],
          "scatter3d": [
           {
            "line": {
             "colorbar": {
              "outlinewidth": 0,
              "ticks": ""
             }
            },
            "marker": {
             "colorbar": {
              "outlinewidth": 0,
              "ticks": ""
             }
            },
            "type": "scatter3d"
           }
          ],
          "scattercarpet": [
           {
            "marker": {
             "colorbar": {
              "outlinewidth": 0,
              "ticks": ""
             }
            },
            "type": "scattercarpet"
           }
          ],
          "scattergeo": [
           {
            "marker": {
             "colorbar": {
              "outlinewidth": 0,
              "ticks": ""
             }
            },
            "type": "scattergeo"
           }
          ],
          "scattergl": [
           {
            "marker": {
             "colorbar": {
              "outlinewidth": 0,
              "ticks": ""
             }
            },
            "type": "scattergl"
           }
          ],
          "scattermapbox": [
           {
            "marker": {
             "colorbar": {
              "outlinewidth": 0,
              "ticks": ""
             }
            },
            "type": "scattermapbox"
           }
          ],
          "scatterpolar": [
           {
            "marker": {
             "colorbar": {
              "outlinewidth": 0,
              "ticks": ""
             }
            },
            "type": "scatterpolar"
           }
          ],
          "scatterpolargl": [
           {
            "marker": {
             "colorbar": {
              "outlinewidth": 0,
              "ticks": ""
             }
            },
            "type": "scatterpolargl"
           }
          ],
          "scatterternary": [
           {
            "marker": {
             "colorbar": {
              "outlinewidth": 0,
              "ticks": ""
             }
            },
            "type": "scatterternary"
           }
          ],
          "surface": [
           {
            "colorbar": {
             "outlinewidth": 0,
             "ticks": ""
            },
            "colorscale": [
             [
              0,
              "#0d0887"
             ],
             [
              0.1111111111111111,
              "#46039f"
             ],
             [
              0.2222222222222222,
              "#7201a8"
             ],
             [
              0.3333333333333333,
              "#9c179e"
             ],
             [
              0.4444444444444444,
              "#bd3786"
             ],
             [
              0.5555555555555556,
              "#d8576b"
             ],
             [
              0.6666666666666666,
              "#ed7953"
             ],
             [
              0.7777777777777778,
              "#fb9f3a"
             ],
             [
              0.8888888888888888,
              "#fdca26"
             ],
             [
              1,
              "#f0f921"
             ]
            ],
            "type": "surface"
           }
          ],
          "table": [
           {
            "cells": {
             "fill": {
              "color": "#EBF0F8"
             },
             "line": {
              "color": "white"
             }
            },
            "header": {
             "fill": {
              "color": "#C8D4E3"
             },
             "line": {
              "color": "white"
             }
            },
            "type": "table"
           }
          ]
         },
         "layout": {
          "annotationdefaults": {
           "arrowcolor": "#2a3f5f",
           "arrowhead": 0,
           "arrowwidth": 1
          },
          "autotypenumbers": "strict",
          "coloraxis": {
           "colorbar": {
            "outlinewidth": 0,
            "ticks": ""
           }
          },
          "colorscale": {
           "diverging": [
            [
             0,
             "#8e0152"
            ],
            [
             0.1,
             "#c51b7d"
            ],
            [
             0.2,
             "#de77ae"
            ],
            [
             0.3,
             "#f1b6da"
            ],
            [
             0.4,
             "#fde0ef"
            ],
            [
             0.5,
             "#f7f7f7"
            ],
            [
             0.6,
             "#e6f5d0"
            ],
            [
             0.7,
             "#b8e186"
            ],
            [
             0.8,
             "#7fbc41"
            ],
            [
             0.9,
             "#4d9221"
            ],
            [
             1,
             "#276419"
            ]
           ],
           "sequential": [
            [
             0,
             "#0d0887"
            ],
            [
             0.1111111111111111,
             "#46039f"
            ],
            [
             0.2222222222222222,
             "#7201a8"
            ],
            [
             0.3333333333333333,
             "#9c179e"
            ],
            [
             0.4444444444444444,
             "#bd3786"
            ],
            [
             0.5555555555555556,
             "#d8576b"
            ],
            [
             0.6666666666666666,
             "#ed7953"
            ],
            [
             0.7777777777777778,
             "#fb9f3a"
            ],
            [
             0.8888888888888888,
             "#fdca26"
            ],
            [
             1,
             "#f0f921"
            ]
           ],
           "sequentialminus": [
            [
             0,
             "#0d0887"
            ],
            [
             0.1111111111111111,
             "#46039f"
            ],
            [
             0.2222222222222222,
             "#7201a8"
            ],
            [
             0.3333333333333333,
             "#9c179e"
            ],
            [
             0.4444444444444444,
             "#bd3786"
            ],
            [
             0.5555555555555556,
             "#d8576b"
            ],
            [
             0.6666666666666666,
             "#ed7953"
            ],
            [
             0.7777777777777778,
             "#fb9f3a"
            ],
            [
             0.8888888888888888,
             "#fdca26"
            ],
            [
             1,
             "#f0f921"
            ]
           ]
          },
          "colorway": [
           "#636efa",
           "#EF553B",
           "#00cc96",
           "#ab63fa",
           "#FFA15A",
           "#19d3f3",
           "#FF6692",
           "#B6E880",
           "#FF97FF",
           "#FECB52"
          ],
          "font": {
           "color": "#2a3f5f"
          },
          "geo": {
           "bgcolor": "white",
           "lakecolor": "white",
           "landcolor": "#E5ECF6",
           "showlakes": true,
           "showland": true,
           "subunitcolor": "white"
          },
          "hoverlabel": {
           "align": "left"
          },
          "hovermode": "closest",
          "mapbox": {
           "style": "light"
          },
          "paper_bgcolor": "white",
          "plot_bgcolor": "#E5ECF6",
          "polar": {
           "angularaxis": {
            "gridcolor": "white",
            "linecolor": "white",
            "ticks": ""
           },
           "bgcolor": "#E5ECF6",
           "radialaxis": {
            "gridcolor": "white",
            "linecolor": "white",
            "ticks": ""
           }
          },
          "scene": {
           "xaxis": {
            "backgroundcolor": "#E5ECF6",
            "gridcolor": "white",
            "gridwidth": 2,
            "linecolor": "white",
            "showbackground": true,
            "ticks": "",
            "zerolinecolor": "white"
           },
           "yaxis": {
            "backgroundcolor": "#E5ECF6",
            "gridcolor": "white",
            "gridwidth": 2,
            "linecolor": "white",
            "showbackground": true,
            "ticks": "",
            "zerolinecolor": "white"
           },
           "zaxis": {
            "backgroundcolor": "#E5ECF6",
            "gridcolor": "white",
            "gridwidth": 2,
            "linecolor": "white",
            "showbackground": true,
            "ticks": "",
            "zerolinecolor": "white"
           }
          },
          "shapedefaults": {
           "line": {
            "color": "#2a3f5f"
           }
          },
          "ternary": {
           "aaxis": {
            "gridcolor": "white",
            "linecolor": "white",
            "ticks": ""
           },
           "baxis": {
            "gridcolor": "white",
            "linecolor": "white",
            "ticks": ""
           },
           "bgcolor": "#E5ECF6",
           "caxis": {
            "gridcolor": "white",
            "linecolor": "white",
            "ticks": ""
           }
          },
          "title": {
           "x": 0.05
          },
          "xaxis": {
           "automargin": true,
           "gridcolor": "white",
           "linecolor": "white",
           "ticks": "",
           "title": {
            "standoff": 15
           },
           "zerolinecolor": "white",
           "zerolinewidth": 2
          },
          "yaxis": {
           "automargin": true,
           "gridcolor": "white",
           "linecolor": "white",
           "ticks": "",
           "title": {
            "standoff": 15
           },
           "zerolinecolor": "white",
           "zerolinewidth": 2
          }
         }
        },
        "title": {
         "text": "Количество заведений различных категорий по районам"
        },
        "xaxis": {
         "anchor": "y",
         "domain": [
          0,
          1
         ],
         "tickangle": 45,
         "title": {
          "text": "Название района"
         }
        },
        "yaxis": {
         "anchor": "x",
         "domain": [
          0,
          1
         ],
         "title": {
          "text": "Количество заведений"
         }
        }
       }
      }
     },
     "metadata": {},
     "output_type": "display_data"
    }
   ],
   "source": [
    "#Построим столбчатую диаграмму\n",
    "fig = px.bar(pivot_district,\n",
    "             x=pivot_district.index,\n",
    "             y=pivot_district.columns)\n",
    "\n",
    "\n",
    "#Оформим график\n",
    "fig.update_xaxes(tickangle=45)\n",
    "fig.update_layout(title='Количество заведений различных категорий по районам',\n",
    "                   xaxis_title='Название района',\n",
    "                   yaxis_title='Количество заведений')\n",
    "fig.show() "
   ]
  },
  {
   "cell_type": "markdown",
   "metadata": {},
   "source": [
    "В датасете присутвуют следующие районы:\n",
    "- Центральный административный округ - больше всего заведений различных категорий\n",
    "- Западный административный округ\n",
    "- Южный административный округ\n",
    "- Северный административный округ\n",
    "- Северо-Восточный административный округ\n",
    "- Юго-Западный административный округ\n",
    "- Восточный административный округ\n",
    "- Юго-Восточный административный округ\n",
    "- Северо-Западный административный округ - меньше всего заведений различных категорий\n",
    "\n",
    "По графику видно, что подавляющее большинство от всех заведений в каждом районе составляют `рестораны` и `кафе`."
   ]
  }
 ],
 "metadata": {
  "ExecuteTimeLog": [
   {
    "duration": 1362,
    "start_time": "2023-02-20T20:47:32.644Z"
   },
   {
    "duration": 116,
    "start_time": "2023-02-20T20:48:03.101Z"
   },
   {
    "duration": 17,
    "start_time": "2023-02-20T20:48:07.494Z"
   },
   {
    "duration": 18,
    "start_time": "2023-02-20T20:48:25.051Z"
   },
   {
    "duration": 111,
    "start_time": "2023-02-20T20:51:19.957Z"
   },
   {
    "duration": 49,
    "start_time": "2023-02-20T20:51:44.152Z"
   },
   {
    "duration": 17,
    "start_time": "2023-02-20T20:51:47.416Z"
   },
   {
    "duration": 4,
    "start_time": "2023-02-20T21:03:16.826Z"
   },
   {
    "duration": 14,
    "start_time": "2023-02-20T21:03:22.209Z"
   },
   {
    "duration": 11,
    "start_time": "2023-02-20T21:03:53.463Z"
   },
   {
    "duration": 13,
    "start_time": "2023-02-20T21:04:07.600Z"
   },
   {
    "duration": 5,
    "start_time": "2023-02-20T21:04:23.519Z"
   },
   {
    "duration": 5,
    "start_time": "2023-02-20T21:04:28.640Z"
   },
   {
    "duration": 13,
    "start_time": "2023-02-20T21:06:29.798Z"
   },
   {
    "duration": 10,
    "start_time": "2023-02-20T21:06:34.049Z"
   },
   {
    "duration": 12,
    "start_time": "2023-02-20T21:06:49.706Z"
   },
   {
    "duration": 11,
    "start_time": "2023-02-20T21:07:04.010Z"
   },
   {
    "duration": 19,
    "start_time": "2023-02-20T21:07:53.220Z"
   },
   {
    "duration": 14,
    "start_time": "2023-02-20T21:10:42.735Z"
   },
   {
    "duration": 10,
    "start_time": "2023-02-20T21:12:05.364Z"
   },
   {
    "duration": 55,
    "start_time": "2023-02-20T21:12:28.492Z"
   },
   {
    "duration": 10,
    "start_time": "2023-02-20T21:12:59.905Z"
   },
   {
    "duration": 10,
    "start_time": "2023-02-20T21:21:19.354Z"
   },
   {
    "duration": 23,
    "start_time": "2023-02-20T21:22:06.580Z"
   },
   {
    "duration": 12,
    "start_time": "2023-02-20T21:22:10.869Z"
   },
   {
    "duration": 12,
    "start_time": "2023-02-20T21:22:19.821Z"
   },
   {
    "duration": 14,
    "start_time": "2023-02-20T21:22:34.300Z"
   },
   {
    "duration": 12,
    "start_time": "2023-02-20T21:22:39.989Z"
   },
   {
    "duration": 11,
    "start_time": "2023-02-20T21:22:48.051Z"
   },
   {
    "duration": 12,
    "start_time": "2023-02-20T21:22:56.827Z"
   },
   {
    "duration": 9,
    "start_time": "2023-02-20T21:23:03.243Z"
   },
   {
    "duration": 9,
    "start_time": "2023-02-20T21:23:07.997Z"
   },
   {
    "duration": 10,
    "start_time": "2023-02-20T21:23:12.020Z"
   },
   {
    "duration": 10,
    "start_time": "2023-02-20T21:23:22.516Z"
   },
   {
    "duration": 12,
    "start_time": "2023-02-20T21:24:25.445Z"
   },
   {
    "duration": 9,
    "start_time": "2023-02-20T21:24:29.334Z"
   },
   {
    "duration": 10,
    "start_time": "2023-02-20T21:24:32.550Z"
   },
   {
    "duration": 10,
    "start_time": "2023-02-20T21:24:36.421Z"
   },
   {
    "duration": 13,
    "start_time": "2023-02-20T21:24:38.595Z"
   },
   {
    "duration": 9,
    "start_time": "2023-02-20T21:24:45.157Z"
   },
   {
    "duration": 10,
    "start_time": "2023-02-20T21:24:54.602Z"
   },
   {
    "duration": 12,
    "start_time": "2023-02-20T21:25:02.286Z"
   },
   {
    "duration": 13,
    "start_time": "2023-02-20T21:25:06.750Z"
   },
   {
    "duration": 12,
    "start_time": "2023-02-20T21:25:12.839Z"
   },
   {
    "duration": 14,
    "start_time": "2023-02-20T21:25:16.278Z"
   },
   {
    "duration": 14,
    "start_time": "2023-02-20T21:25:26.432Z"
   },
   {
    "duration": 11,
    "start_time": "2023-02-20T21:25:28.951Z"
   },
   {
    "duration": 11,
    "start_time": "2023-02-20T21:25:31.817Z"
   },
   {
    "duration": 10,
    "start_time": "2023-02-20T21:25:39.030Z"
   },
   {
    "duration": 11,
    "start_time": "2023-02-20T21:25:44.207Z"
   },
   {
    "duration": 10,
    "start_time": "2023-02-20T21:25:48.807Z"
   },
   {
    "duration": 12,
    "start_time": "2023-02-20T21:25:56.656Z"
   },
   {
    "duration": 9,
    "start_time": "2023-02-20T21:26:06.632Z"
   },
   {
    "duration": 10,
    "start_time": "2023-02-20T21:26:10.471Z"
   },
   {
    "duration": 10,
    "start_time": "2023-02-20T21:26:14.831Z"
   },
   {
    "duration": 11,
    "start_time": "2023-02-20T21:26:21.458Z"
   },
   {
    "duration": 10,
    "start_time": "2023-02-20T21:26:28.056Z"
   },
   {
    "duration": 11,
    "start_time": "2023-02-20T21:26:32.111Z"
   },
   {
    "duration": 10,
    "start_time": "2023-02-20T21:26:36.720Z"
   },
   {
    "duration": 11,
    "start_time": "2023-02-20T21:26:39.673Z"
   },
   {
    "duration": 10,
    "start_time": "2023-02-20T21:26:44.920Z"
   },
   {
    "duration": 10,
    "start_time": "2023-02-20T21:26:48.401Z"
   },
   {
    "duration": 11,
    "start_time": "2023-02-20T21:26:55.519Z"
   },
   {
    "duration": 19,
    "start_time": "2023-02-20T21:27:00.977Z"
   },
   {
    "duration": 14,
    "start_time": "2023-02-20T21:27:05.416Z"
   },
   {
    "duration": 11,
    "start_time": "2023-02-20T21:27:08.492Z"
   },
   {
    "duration": 12,
    "start_time": "2023-02-20T21:27:13.782Z"
   },
   {
    "duration": 16,
    "start_time": "2023-02-20T21:27:17.808Z"
   },
   {
    "duration": 16,
    "start_time": "2023-02-20T21:27:56.484Z"
   },
   {
    "duration": 11,
    "start_time": "2023-02-20T21:28:01.629Z"
   },
   {
    "duration": 14,
    "start_time": "2023-02-20T21:28:04.318Z"
   },
   {
    "duration": 18,
    "start_time": "2023-02-20T21:28:07.221Z"
   },
   {
    "duration": 13,
    "start_time": "2023-02-20T21:28:10.148Z"
   },
   {
    "duration": 20,
    "start_time": "2023-02-20T21:28:12.513Z"
   },
   {
    "duration": 15,
    "start_time": "2023-02-20T21:28:14.612Z"
   },
   {
    "duration": 14,
    "start_time": "2023-02-20T21:28:19.419Z"
   },
   {
    "duration": 11,
    "start_time": "2023-02-20T21:28:26.243Z"
   },
   {
    "duration": 10,
    "start_time": "2023-02-20T21:28:29.600Z"
   },
   {
    "duration": 12,
    "start_time": "2023-02-20T21:28:32.339Z"
   },
   {
    "duration": 12,
    "start_time": "2023-02-20T21:28:36.627Z"
   },
   {
    "duration": 4,
    "start_time": "2023-02-20T21:28:56.137Z"
   },
   {
    "duration": 40,
    "start_time": "2023-02-20T21:29:04.443Z"
   },
   {
    "duration": 11,
    "start_time": "2023-02-20T21:29:10.032Z"
   },
   {
    "duration": 4,
    "start_time": "2023-02-20T21:29:31.474Z"
   },
   {
    "duration": 16,
    "start_time": "2023-02-20T21:29:39.562Z"
   },
   {
    "duration": 13,
    "start_time": "2023-02-20T21:29:44.116Z"
   },
   {
    "duration": 29,
    "start_time": "2023-02-20T21:29:49.586Z"
   },
   {
    "duration": 9,
    "start_time": "2023-02-20T21:29:52.724Z"
   },
   {
    "duration": 9,
    "start_time": "2023-02-20T21:29:56.259Z"
   },
   {
    "duration": 13,
    "start_time": "2023-02-20T21:29:58.753Z"
   },
   {
    "duration": 9,
    "start_time": "2023-02-20T21:33:47.884Z"
   },
   {
    "duration": 54,
    "start_time": "2023-02-21T12:20:24.365Z"
   },
   {
    "duration": 1355,
    "start_time": "2023-02-21T12:20:27.964Z"
   },
   {
    "duration": 105,
    "start_time": "2023-02-21T12:20:29.746Z"
   },
   {
    "duration": 20,
    "start_time": "2023-02-21T12:20:31.689Z"
   },
   {
    "duration": 19,
    "start_time": "2023-02-21T12:20:32.921Z"
   },
   {
    "duration": 8,
    "start_time": "2023-02-21T12:20:33.809Z"
   },
   {
    "duration": 9,
    "start_time": "2023-02-21T12:20:45.193Z"
   },
   {
    "duration": 10,
    "start_time": "2023-02-21T12:20:48.849Z"
   },
   {
    "duration": 11,
    "start_time": "2023-02-21T12:20:53.257Z"
   },
   {
    "duration": 10,
    "start_time": "2023-02-21T12:21:14.705Z"
   },
   {
    "duration": 13,
    "start_time": "2023-02-21T12:21:24.182Z"
   },
   {
    "duration": 16,
    "start_time": "2023-02-21T12:23:08.476Z"
   },
   {
    "duration": 3,
    "start_time": "2023-02-21T12:25:43.126Z"
   },
   {
    "duration": 4,
    "start_time": "2023-02-21T12:25:48.053Z"
   },
   {
    "duration": 48,
    "start_time": "2023-02-21T12:27:36.376Z"
   },
   {
    "duration": 759,
    "start_time": "2023-02-21T12:27:41.879Z"
   },
   {
    "duration": 12,
    "start_time": "2023-02-21T12:27:49.519Z"
   },
   {
    "duration": 3,
    "start_time": "2023-02-21T12:29:14.385Z"
   },
   {
    "duration": 58,
    "start_time": "2023-02-21T12:29:51.848Z"
   },
   {
    "duration": 28,
    "start_time": "2023-02-21T12:30:08.792Z"
   },
   {
    "duration": 13,
    "start_time": "2023-02-21T12:30:23.097Z"
   },
   {
    "duration": 77,
    "start_time": "2023-02-21T12:30:59.706Z"
   },
   {
    "duration": 24,
    "start_time": "2023-02-21T12:31:06.735Z"
   },
   {
    "duration": 21,
    "start_time": "2023-02-21T12:31:39.674Z"
   },
   {
    "duration": 21,
    "start_time": "2023-02-21T12:31:40.453Z"
   },
   {
    "duration": 1189,
    "start_time": "2023-02-21T12:32:11.148Z"
   },
   {
    "duration": 61,
    "start_time": "2023-02-21T12:32:12.339Z"
   },
   {
    "duration": 20,
    "start_time": "2023-02-21T12:32:12.402Z"
   },
   {
    "duration": 14,
    "start_time": "2023-02-21T12:32:12.424Z"
   },
   {
    "duration": 10,
    "start_time": "2023-02-21T12:32:12.440Z"
   },
   {
    "duration": 24,
    "start_time": "2023-02-21T12:32:12.451Z"
   },
   {
    "duration": 23,
    "start_time": "2023-02-21T12:32:12.477Z"
   },
   {
    "duration": 17,
    "start_time": "2023-02-21T12:32:12.501Z"
   },
   {
    "duration": 8,
    "start_time": "2023-02-21T12:32:12.520Z"
   },
   {
    "duration": 6,
    "start_time": "2023-02-21T12:32:12.530Z"
   },
   {
    "duration": 25,
    "start_time": "2023-02-21T12:32:12.538Z"
   },
   {
    "duration": 39,
    "start_time": "2023-02-21T12:32:12.565Z"
   },
   {
    "duration": 49,
    "start_time": "2023-02-21T12:33:37.968Z"
   },
   {
    "duration": 41,
    "start_time": "2023-02-21T12:33:42.555Z"
   },
   {
    "duration": 16,
    "start_time": "2023-02-21T12:33:43.694Z"
   },
   {
    "duration": 117,
    "start_time": "2023-02-21T12:34:05.532Z"
   },
   {
    "duration": 23,
    "start_time": "2023-02-21T12:34:44.597Z"
   },
   {
    "duration": 42,
    "start_time": "2023-02-21T12:35:01.350Z"
   },
   {
    "duration": 16,
    "start_time": "2023-02-21T12:35:02.671Z"
   },
   {
    "duration": 5,
    "start_time": "2023-02-21T12:36:02.910Z"
   },
   {
    "duration": 6,
    "start_time": "2023-02-21T12:36:24.574Z"
   },
   {
    "duration": 5,
    "start_time": "2023-02-21T12:36:37.878Z"
   },
   {
    "duration": 3,
    "start_time": "2023-02-21T12:37:13.783Z"
   },
   {
    "duration": 4,
    "start_time": "2023-02-21T12:37:19.470Z"
   },
   {
    "duration": 8,
    "start_time": "2023-02-21T12:40:53.465Z"
   },
   {
    "duration": 19,
    "start_time": "2023-02-21T12:41:07.132Z"
   },
   {
    "duration": 6,
    "start_time": "2023-02-21T12:41:39.267Z"
   },
   {
    "duration": 8,
    "start_time": "2023-02-21T12:41:50.649Z"
   },
   {
    "duration": 25,
    "start_time": "2023-02-21T12:42:00.187Z"
   },
   {
    "duration": 10,
    "start_time": "2023-02-21T12:44:03.245Z"
   },
   {
    "duration": 154,
    "start_time": "2023-02-21T12:44:10.140Z"
   },
   {
    "duration": 161,
    "start_time": "2023-02-21T12:45:13.767Z"
   },
   {
    "duration": 108,
    "start_time": "2023-02-21T12:47:50.656Z"
   },
   {
    "duration": 164,
    "start_time": "2023-02-21T12:47:57.063Z"
   },
   {
    "duration": 172,
    "start_time": "2023-02-21T12:48:04.560Z"
   },
   {
    "duration": 162,
    "start_time": "2023-02-21T12:48:22.496Z"
   },
   {
    "duration": 181,
    "start_time": "2023-02-21T12:49:46.747Z"
   },
   {
    "duration": 266,
    "start_time": "2023-02-21T12:49:52.633Z"
   },
   {
    "duration": 1547,
    "start_time": "2023-02-24T14:59:15.315Z"
   },
   {
    "duration": 125,
    "start_time": "2023-02-24T14:59:16.864Z"
   },
   {
    "duration": 21,
    "start_time": "2023-02-24T14:59:16.991Z"
   },
   {
    "duration": 15,
    "start_time": "2023-02-24T14:59:17.014Z"
   },
   {
    "duration": 14,
    "start_time": "2023-02-24T14:59:17.031Z"
   },
   {
    "duration": 35,
    "start_time": "2023-02-24T14:59:17.048Z"
   },
   {
    "duration": 6,
    "start_time": "2023-02-24T14:59:17.085Z"
   },
   {
    "duration": 29,
    "start_time": "2023-02-24T14:59:17.092Z"
   },
   {
    "duration": 7,
    "start_time": "2023-02-24T14:59:17.124Z"
   },
   {
    "duration": 306,
    "start_time": "2023-02-24T14:59:17.146Z"
   },
   {
    "duration": 0,
    "start_time": "2023-02-24T14:59:17.454Z"
   },
   {
    "duration": 0,
    "start_time": "2023-02-24T14:59:17.455Z"
   },
   {
    "duration": 0,
    "start_time": "2023-02-24T14:59:17.459Z"
   },
   {
    "duration": 0,
    "start_time": "2023-02-24T14:59:17.460Z"
   },
   {
    "duration": 0,
    "start_time": "2023-02-24T14:59:17.461Z"
   },
   {
    "duration": 0,
    "start_time": "2023-02-24T14:59:17.463Z"
   },
   {
    "duration": 0,
    "start_time": "2023-02-24T14:59:17.464Z"
   },
   {
    "duration": 0,
    "start_time": "2023-02-24T14:59:17.465Z"
   },
   {
    "duration": 0,
    "start_time": "2023-02-24T14:59:17.467Z"
   },
   {
    "duration": 255,
    "start_time": "2023-02-24T14:59:52.603Z"
   },
   {
    "duration": 193,
    "start_time": "2023-02-24T15:01:58.622Z"
   },
   {
    "duration": 178,
    "start_time": "2023-02-24T15:02:03.581Z"
   },
   {
    "duration": 66,
    "start_time": "2023-02-24T15:02:27.752Z"
   },
   {
    "duration": 7,
    "start_time": "2023-02-24T15:07:17.155Z"
   },
   {
    "duration": 4,
    "start_time": "2023-02-24T15:08:23.402Z"
   },
   {
    "duration": 44,
    "start_time": "2023-02-24T15:11:18.745Z"
   },
   {
    "duration": 29,
    "start_time": "2023-02-24T15:11:23.526Z"
   },
   {
    "duration": 832,
    "start_time": "2023-02-24T15:13:11.213Z"
   },
   {
    "duration": 787,
    "start_time": "2023-02-24T15:13:20.816Z"
   },
   {
    "duration": 1316,
    "start_time": "2023-02-24T15:13:39.119Z"
   },
   {
    "duration": 58,
    "start_time": "2023-02-24T15:13:40.447Z"
   },
   {
    "duration": 20,
    "start_time": "2023-02-24T15:13:40.507Z"
   },
   {
    "duration": 23,
    "start_time": "2023-02-24T15:13:40.529Z"
   },
   {
    "duration": 16,
    "start_time": "2023-02-24T15:13:40.557Z"
   },
   {
    "duration": 16,
    "start_time": "2023-02-24T15:13:40.575Z"
   },
   {
    "duration": 7,
    "start_time": "2023-02-24T15:13:40.593Z"
   },
   {
    "duration": 48,
    "start_time": "2023-02-24T15:13:40.602Z"
   },
   {
    "duration": 6,
    "start_time": "2023-02-24T15:13:40.655Z"
   },
   {
    "duration": 194,
    "start_time": "2023-02-24T15:13:40.663Z"
   },
   {
    "duration": 8,
    "start_time": "2023-02-24T15:13:40.859Z"
   },
   {
    "duration": 20,
    "start_time": "2023-02-24T15:13:40.869Z"
   },
   {
    "duration": 940,
    "start_time": "2023-02-24T15:13:40.891Z"
   },
   {
    "duration": 0,
    "start_time": "2023-02-24T15:13:41.833Z"
   },
   {
    "duration": 0,
    "start_time": "2023-02-24T15:13:41.834Z"
   },
   {
    "duration": 0,
    "start_time": "2023-02-24T15:13:41.835Z"
   },
   {
    "duration": 0,
    "start_time": "2023-02-24T15:13:41.836Z"
   },
   {
    "duration": 0,
    "start_time": "2023-02-24T15:13:41.837Z"
   },
   {
    "duration": 0,
    "start_time": "2023-02-24T15:13:41.837Z"
   },
   {
    "duration": 4,
    "start_time": "2023-02-24T15:14:26.705Z"
   },
   {
    "duration": 8,
    "start_time": "2023-02-24T15:14:27.936Z"
   },
   {
    "duration": 17,
    "start_time": "2023-02-24T15:15:28.801Z"
   },
   {
    "duration": 24,
    "start_time": "2023-02-24T15:15:38.674Z"
   },
   {
    "duration": 30,
    "start_time": "2023-02-24T15:15:45.779Z"
   },
   {
    "duration": 866,
    "start_time": "2023-02-24T15:17:07.947Z"
   },
   {
    "duration": 760,
    "start_time": "2023-02-24T15:22:31.129Z"
   },
   {
    "duration": 1218,
    "start_time": "2023-02-24T15:34:44.891Z"
   },
   {
    "duration": 72,
    "start_time": "2023-02-24T15:34:46.111Z"
   },
   {
    "duration": 21,
    "start_time": "2023-02-24T15:34:46.185Z"
   },
   {
    "duration": 38,
    "start_time": "2023-02-24T15:34:46.208Z"
   },
   {
    "duration": 20,
    "start_time": "2023-02-24T15:34:46.251Z"
   },
   {
    "duration": 21,
    "start_time": "2023-02-24T15:34:46.273Z"
   },
   {
    "duration": 7,
    "start_time": "2023-02-24T15:34:46.296Z"
   },
   {
    "duration": 46,
    "start_time": "2023-02-24T15:34:46.304Z"
   },
   {
    "duration": 7,
    "start_time": "2023-02-24T15:34:46.352Z"
   },
   {
    "duration": 264,
    "start_time": "2023-02-24T15:34:46.362Z"
   },
   {
    "duration": 16,
    "start_time": "2023-02-24T15:34:46.628Z"
   },
   {
    "duration": 29,
    "start_time": "2023-02-24T15:34:46.648Z"
   },
   {
    "duration": 833,
    "start_time": "2023-02-24T15:34:46.679Z"
   },
   {
    "duration": 0,
    "start_time": "2023-02-24T15:34:47.513Z"
   },
   {
    "duration": 0,
    "start_time": "2023-02-24T15:34:47.515Z"
   },
   {
    "duration": 0,
    "start_time": "2023-02-24T15:34:47.516Z"
   },
   {
    "duration": 0,
    "start_time": "2023-02-24T15:34:47.517Z"
   },
   {
    "duration": 0,
    "start_time": "2023-02-24T15:34:47.518Z"
   },
   {
    "duration": 0,
    "start_time": "2023-02-24T15:34:47.519Z"
   },
   {
    "duration": 31,
    "start_time": "2023-02-24T15:34:55.751Z"
   },
   {
    "duration": 3,
    "start_time": "2023-02-24T15:36:31.192Z"
   },
   {
    "duration": 5,
    "start_time": "2023-02-24T15:36:38.608Z"
   },
   {
    "duration": 11,
    "start_time": "2023-02-24T15:37:05.947Z"
   },
   {
    "duration": 4,
    "start_time": "2023-02-24T15:39:06.754Z"
   },
   {
    "duration": 2481,
    "start_time": "2023-02-24T15:40:15.172Z"
   },
   {
    "duration": 807,
    "start_time": "2023-02-24T15:41:01.164Z"
   },
   {
    "duration": 820,
    "start_time": "2023-02-24T15:42:12.173Z"
   },
   {
    "duration": 738,
    "start_time": "2023-02-24T15:42:43.583Z"
   },
   {
    "duration": 764,
    "start_time": "2023-02-24T15:43:13.623Z"
   },
   {
    "duration": 16,
    "start_time": "2023-02-24T15:43:38.935Z"
   },
   {
    "duration": 15,
    "start_time": "2023-02-24T15:43:40.806Z"
   },
   {
    "duration": 1690,
    "start_time": "2023-02-24T15:43:47.775Z"
   },
   {
    "duration": 2748,
    "start_time": "2023-02-24T15:44:01.760Z"
   },
   {
    "duration": 27,
    "start_time": "2023-02-24T15:44:07.494Z"
   },
   {
    "duration": 3197,
    "start_time": "2023-02-24T15:45:02.224Z"
   },
   {
    "duration": 9,
    "start_time": "2023-02-24T15:46:50.489Z"
   },
   {
    "duration": 5,
    "start_time": "2023-02-24T15:47:19.154Z"
   },
   {
    "duration": 17,
    "start_time": "2023-02-24T15:47:22.093Z"
   },
   {
    "duration": 18,
    "start_time": "2023-02-24T15:48:14.369Z"
   },
   {
    "duration": 185,
    "start_time": "2023-02-24T15:50:47.334Z"
   },
   {
    "duration": 190,
    "start_time": "2023-02-24T15:52:09.534Z"
   },
   {
    "duration": 204,
    "start_time": "2023-02-24T15:53:26.912Z"
   },
   {
    "duration": 216,
    "start_time": "2023-02-24T15:53:33.137Z"
   },
   {
    "duration": 218,
    "start_time": "2023-02-24T15:53:51.889Z"
   },
   {
    "duration": 163,
    "start_time": "2023-02-24T15:54:03.422Z"
   },
   {
    "duration": 1237,
    "start_time": "2023-02-24T15:54:12.137Z"
   },
   {
    "duration": 56,
    "start_time": "2023-02-24T15:54:13.376Z"
   },
   {
    "duration": 29,
    "start_time": "2023-02-24T15:54:13.433Z"
   },
   {
    "duration": 19,
    "start_time": "2023-02-24T15:54:13.464Z"
   },
   {
    "duration": 10,
    "start_time": "2023-02-24T15:54:13.485Z"
   },
   {
    "duration": 19,
    "start_time": "2023-02-24T15:54:13.496Z"
   },
   {
    "duration": 22,
    "start_time": "2023-02-24T15:54:13.517Z"
   },
   {
    "duration": 23,
    "start_time": "2023-02-24T15:54:13.546Z"
   },
   {
    "duration": 4,
    "start_time": "2023-02-24T15:54:13.571Z"
   },
   {
    "duration": 195,
    "start_time": "2023-02-24T15:54:13.578Z"
   },
   {
    "duration": 5,
    "start_time": "2023-02-24T15:54:13.775Z"
   },
   {
    "duration": 17,
    "start_time": "2023-02-24T15:54:13.782Z"
   },
   {
    "duration": 2871,
    "start_time": "2023-02-24T15:54:13.800Z"
   },
   {
    "duration": 6,
    "start_time": "2023-02-24T15:54:16.673Z"
   },
   {
    "duration": 19,
    "start_time": "2023-02-24T15:54:16.680Z"
   },
   {
    "duration": 195,
    "start_time": "2023-02-24T15:54:16.700Z"
   },
   {
    "duration": 196,
    "start_time": "2023-02-24T15:54:29.033Z"
   },
   {
    "duration": 204,
    "start_time": "2023-02-24T15:54:38.313Z"
   },
   {
    "duration": 297,
    "start_time": "2023-02-24T15:55:08.954Z"
   },
   {
    "duration": 311,
    "start_time": "2023-02-24T15:55:19.906Z"
   },
   {
    "duration": 409,
    "start_time": "2023-02-24T15:57:13.468Z"
   },
   {
    "duration": 418,
    "start_time": "2023-02-24T15:57:21.375Z"
   },
   {
    "duration": 119,
    "start_time": "2023-02-24T15:58:27.262Z"
   },
   {
    "duration": 373,
    "start_time": "2023-02-24T15:58:45.454Z"
   },
   {
    "duration": 325,
    "start_time": "2023-02-24T15:58:54.051Z"
   },
   {
    "duration": 3,
    "start_time": "2023-02-24T16:00:49.863Z"
   },
   {
    "duration": 325,
    "start_time": "2023-02-24T16:00:53.776Z"
   },
   {
    "duration": 334,
    "start_time": "2023-02-24T16:01:29.488Z"
   },
   {
    "duration": 343,
    "start_time": "2023-02-24T16:02:54.929Z"
   },
   {
    "duration": 334,
    "start_time": "2023-02-24T16:04:06.763Z"
   },
   {
    "duration": 780,
    "start_time": "2023-02-24T16:08:15.471Z"
   },
   {
    "duration": 389,
    "start_time": "2023-02-24T16:08:32.832Z"
   },
   {
    "duration": 6,
    "start_time": "2023-02-24T16:08:48.448Z"
   },
   {
    "duration": 370,
    "start_time": "2023-02-24T16:08:53.777Z"
   },
   {
    "duration": 330,
    "start_time": "2023-02-24T16:09:09.072Z"
   },
   {
    "duration": 343,
    "start_time": "2023-02-24T16:09:39.080Z"
   },
   {
    "duration": 327,
    "start_time": "2023-02-24T16:09:46.480Z"
   },
   {
    "duration": 617,
    "start_time": "2023-02-24T16:09:55.352Z"
   },
   {
    "duration": 425,
    "start_time": "2023-02-24T16:35:06.858Z"
   },
   {
    "duration": 85,
    "start_time": "2023-02-24T16:35:09.709Z"
   },
   {
    "duration": 116,
    "start_time": "2023-02-24T16:35:29.421Z"
   },
   {
    "duration": 145,
    "start_time": "2023-02-24T16:36:53.486Z"
   },
   {
    "duration": 139,
    "start_time": "2023-02-24T16:37:03.558Z"
   },
   {
    "duration": 30,
    "start_time": "2023-02-24T16:39:45.728Z"
   },
   {
    "duration": 34,
    "start_time": "2023-02-24T16:39:52.935Z"
   },
   {
    "duration": 9,
    "start_time": "2023-02-24T16:40:11.536Z"
   },
   {
    "duration": 3,
    "start_time": "2023-02-24T16:40:47.441Z"
   },
   {
    "duration": 6,
    "start_time": "2023-02-24T16:40:50.031Z"
   },
   {
    "duration": 17,
    "start_time": "2023-02-24T16:41:27.198Z"
   },
   {
    "duration": 322,
    "start_time": "2023-02-24T16:42:08.728Z"
   },
   {
    "duration": 310,
    "start_time": "2023-02-24T16:42:19.401Z"
   },
   {
    "duration": 358,
    "start_time": "2023-02-24T16:42:28.433Z"
   },
   {
    "duration": 217,
    "start_time": "2023-02-24T16:43:29.034Z"
   },
   {
    "duration": 310,
    "start_time": "2023-02-24T16:44:16.227Z"
   },
   {
    "duration": 410,
    "start_time": "2023-02-24T16:44:37.770Z"
   },
   {
    "duration": 189,
    "start_time": "2023-02-24T16:46:30.108Z"
   },
   {
    "duration": 312,
    "start_time": "2023-02-24T16:46:41.020Z"
   },
   {
    "duration": 293,
    "start_time": "2023-02-24T16:46:53.692Z"
   },
   {
    "duration": 299,
    "start_time": "2023-02-24T16:47:04.244Z"
   },
   {
    "duration": 14457,
    "start_time": "2023-02-24T16:47:27.172Z"
   },
   {
    "duration": 423,
    "start_time": "2023-02-24T16:48:04.389Z"
   },
   {
    "duration": 359,
    "start_time": "2023-02-24T16:48:11.559Z"
   },
   {
    "duration": 278,
    "start_time": "2023-02-24T16:48:18.116Z"
   },
   {
    "duration": 270,
    "start_time": "2023-02-24T16:48:20.797Z"
   },
   {
    "duration": 376,
    "start_time": "2023-02-24T16:48:23.759Z"
   },
   {
    "duration": 318,
    "start_time": "2023-02-24T16:48:45.893Z"
   },
   {
    "duration": 310,
    "start_time": "2023-02-24T16:49:13.462Z"
   },
   {
    "duration": 499,
    "start_time": "2023-02-24T16:49:23.935Z"
   },
   {
    "duration": 349,
    "start_time": "2023-02-24T16:49:30.946Z"
   },
   {
    "duration": 351,
    "start_time": "2023-02-24T16:49:45.630Z"
   },
   {
    "duration": 345,
    "start_time": "2023-02-24T16:50:40.583Z"
   },
   {
    "duration": 341,
    "start_time": "2023-02-24T16:50:51.144Z"
   },
   {
    "duration": 14,
    "start_time": "2023-02-24T16:55:23.411Z"
   },
   {
    "duration": 4,
    "start_time": "2023-02-24T16:55:41.226Z"
   },
   {
    "duration": 3,
    "start_time": "2023-02-24T16:58:44.669Z"
   },
   {
    "duration": 360,
    "start_time": "2023-02-24T16:58:50.197Z"
   },
   {
    "duration": 3,
    "start_time": "2023-02-24T16:59:00.109Z"
   },
   {
    "duration": 350,
    "start_time": "2023-02-24T16:59:00.621Z"
   },
   {
    "duration": 461,
    "start_time": "2023-02-24T16:59:09.028Z"
   },
   {
    "duration": 361,
    "start_time": "2023-02-24T16:59:41.933Z"
   },
   {
    "duration": 356,
    "start_time": "2023-02-24T17:00:04.262Z"
   },
   {
    "duration": 327,
    "start_time": "2023-02-24T17:00:19.174Z"
   },
   {
    "duration": 367,
    "start_time": "2023-02-24T17:00:26.077Z"
   },
   {
    "duration": 312,
    "start_time": "2023-02-24T17:00:51.097Z"
   },
   {
    "duration": 341,
    "start_time": "2023-02-24T17:01:02.097Z"
   },
   {
    "duration": 329,
    "start_time": "2023-02-24T17:01:16.424Z"
   },
   {
    "duration": 495,
    "start_time": "2023-02-24T17:01:27.287Z"
   },
   {
    "duration": 306,
    "start_time": "2023-02-24T17:01:51.584Z"
   },
   {
    "duration": 14,
    "start_time": "2023-02-24T17:02:06.159Z"
   },
   {
    "duration": 4,
    "start_time": "2023-02-24T17:02:06.668Z"
   },
   {
    "duration": 3,
    "start_time": "2023-02-24T17:02:06.966Z"
   },
   {
    "duration": 335,
    "start_time": "2023-02-24T17:02:07.784Z"
   },
   {
    "duration": 344,
    "start_time": "2023-02-24T17:02:13.065Z"
   },
   {
    "duration": 334,
    "start_time": "2023-02-24T17:02:46.433Z"
   },
   {
    "duration": 310,
    "start_time": "2023-02-24T17:03:04.113Z"
   },
   {
    "duration": 350,
    "start_time": "2023-02-24T17:04:19.517Z"
   },
   {
    "duration": 493,
    "start_time": "2023-02-24T17:04:40.277Z"
   },
   {
    "duration": 345,
    "start_time": "2023-02-24T17:04:49.308Z"
   },
   {
    "duration": 343,
    "start_time": "2023-02-24T17:04:58.610Z"
   },
   {
    "duration": 381,
    "start_time": "2023-02-24T17:05:24.705Z"
   },
   {
    "duration": 374,
    "start_time": "2023-02-24T17:09:57.863Z"
   },
   {
    "duration": 3,
    "start_time": "2023-02-24T17:11:31.770Z"
   },
   {
    "duration": 3,
    "start_time": "2023-02-24T17:11:40.633Z"
   },
   {
    "duration": 6,
    "start_time": "2023-02-24T17:11:44.280Z"
   },
   {
    "duration": 166,
    "start_time": "2023-02-24T17:42:09.757Z"
   },
   {
    "duration": 1213,
    "start_time": "2023-02-24T17:42:31.392Z"
   },
   {
    "duration": 58,
    "start_time": "2023-02-24T17:42:32.609Z"
   },
   {
    "duration": 19,
    "start_time": "2023-02-24T17:42:32.669Z"
   },
   {
    "duration": 14,
    "start_time": "2023-02-24T17:42:32.689Z"
   },
   {
    "duration": 9,
    "start_time": "2023-02-24T17:42:32.704Z"
   },
   {
    "duration": 35,
    "start_time": "2023-02-24T17:42:32.715Z"
   },
   {
    "duration": 9,
    "start_time": "2023-02-24T17:42:32.752Z"
   },
   {
    "duration": 26,
    "start_time": "2023-02-24T17:42:32.762Z"
   },
   {
    "duration": 5,
    "start_time": "2023-02-24T17:42:32.790Z"
   },
   {
    "duration": 221,
    "start_time": "2023-02-24T17:42:32.797Z"
   },
   {
    "duration": 17,
    "start_time": "2023-02-24T17:42:33.020Z"
   },
   {
    "duration": 18,
    "start_time": "2023-02-24T17:42:33.039Z"
   },
   {
    "duration": 2882,
    "start_time": "2023-02-24T17:42:33.059Z"
   },
   {
    "duration": 6,
    "start_time": "2023-02-24T17:42:35.943Z"
   },
   {
    "duration": 29,
    "start_time": "2023-02-24T17:42:35.951Z"
   },
   {
    "duration": 7,
    "start_time": "2023-02-24T17:42:35.982Z"
   },
   {
    "duration": 24,
    "start_time": "2023-02-24T17:42:35.990Z"
   },
   {
    "duration": 4,
    "start_time": "2023-02-24T17:42:36.017Z"
   },
   {
    "duration": 6,
    "start_time": "2023-02-24T17:42:36.036Z"
   },
   {
    "duration": 451,
    "start_time": "2023-02-24T17:42:36.045Z"
   },
   {
    "duration": 7,
    "start_time": "2023-02-24T17:42:36.498Z"
   },
   {
    "duration": 7,
    "start_time": "2023-02-24T17:47:09.945Z"
   },
   {
    "duration": 43,
    "start_time": "2023-02-24T17:49:09.555Z"
   },
   {
    "duration": 16,
    "start_time": "2023-02-24T17:58:26.814Z"
   },
   {
    "duration": 267,
    "start_time": "2023-02-24T17:59:41.005Z"
   },
   {
    "duration": 10,
    "start_time": "2023-02-24T18:00:28.278Z"
   },
   {
    "duration": 7,
    "start_time": "2023-02-24T18:00:36.511Z"
   },
   {
    "duration": 1297,
    "start_time": "2023-02-24T18:00:57.659Z"
   },
   {
    "duration": 62,
    "start_time": "2023-02-24T18:00:58.958Z"
   },
   {
    "duration": 20,
    "start_time": "2023-02-24T18:00:59.022Z"
   },
   {
    "duration": 15,
    "start_time": "2023-02-24T18:00:59.044Z"
   },
   {
    "duration": 11,
    "start_time": "2023-02-24T18:00:59.061Z"
   },
   {
    "duration": 16,
    "start_time": "2023-02-24T18:00:59.074Z"
   },
   {
    "duration": 5,
    "start_time": "2023-02-24T18:00:59.092Z"
   },
   {
    "duration": 55,
    "start_time": "2023-02-24T18:00:59.099Z"
   },
   {
    "duration": 5,
    "start_time": "2023-02-24T18:00:59.156Z"
   },
   {
    "duration": 239,
    "start_time": "2023-02-24T18:00:59.163Z"
   },
   {
    "duration": 8,
    "start_time": "2023-02-24T18:00:59.403Z"
   },
   {
    "duration": 19,
    "start_time": "2023-02-24T18:00:59.412Z"
   },
   {
    "duration": 22,
    "start_time": "2023-02-24T18:00:59.433Z"
   },
   {
    "duration": 2805,
    "start_time": "2023-02-24T18:00:59.458Z"
   },
   {
    "duration": 5,
    "start_time": "2023-02-24T18:01:02.266Z"
   },
   {
    "duration": 30,
    "start_time": "2023-02-24T18:01:02.273Z"
   },
   {
    "duration": 26,
    "start_time": "2023-02-24T18:01:02.305Z"
   },
   {
    "duration": 65,
    "start_time": "2023-02-24T18:01:02.333Z"
   },
   {
    "duration": 18,
    "start_time": "2023-02-24T18:01:02.400Z"
   },
   {
    "duration": 21,
    "start_time": "2023-02-24T18:01:02.422Z"
   },
   {
    "duration": 535,
    "start_time": "2023-02-24T18:01:02.445Z"
   },
   {
    "duration": 9,
    "start_time": "2023-02-24T18:01:02.982Z"
   },
   {
    "duration": 120,
    "start_time": "2023-02-24T18:01:02.993Z"
   },
   {
    "duration": 0,
    "start_time": "2023-02-24T18:01:03.115Z"
   },
   {
    "duration": 1212,
    "start_time": "2023-02-24T18:01:22.443Z"
   },
   {
    "duration": 60,
    "start_time": "2023-02-24T18:01:23.657Z"
   },
   {
    "duration": 20,
    "start_time": "2023-02-24T18:01:23.718Z"
   },
   {
    "duration": 19,
    "start_time": "2023-02-24T18:01:23.740Z"
   },
   {
    "duration": 12,
    "start_time": "2023-02-24T18:01:23.761Z"
   },
   {
    "duration": 21,
    "start_time": "2023-02-24T18:01:23.774Z"
   },
   {
    "duration": 9,
    "start_time": "2023-02-24T18:01:23.797Z"
   },
   {
    "duration": 47,
    "start_time": "2023-02-24T18:01:23.808Z"
   },
   {
    "duration": 5,
    "start_time": "2023-02-24T18:01:23.857Z"
   },
   {
    "duration": 222,
    "start_time": "2023-02-24T18:01:23.864Z"
   },
   {
    "duration": 113,
    "start_time": "2023-02-24T18:01:24.087Z"
   },
   {
    "duration": 0,
    "start_time": "2023-02-24T18:01:24.202Z"
   },
   {
    "duration": 0,
    "start_time": "2023-02-24T18:01:24.203Z"
   },
   {
    "duration": 0,
    "start_time": "2023-02-24T18:01:24.205Z"
   },
   {
    "duration": 0,
    "start_time": "2023-02-24T18:01:24.206Z"
   },
   {
    "duration": 0,
    "start_time": "2023-02-24T18:01:24.207Z"
   },
   {
    "duration": 0,
    "start_time": "2023-02-24T18:01:24.209Z"
   },
   {
    "duration": 0,
    "start_time": "2023-02-24T18:01:24.209Z"
   },
   {
    "duration": 0,
    "start_time": "2023-02-24T18:01:24.210Z"
   },
   {
    "duration": 0,
    "start_time": "2023-02-24T18:01:24.211Z"
   },
   {
    "duration": 0,
    "start_time": "2023-02-24T18:01:24.212Z"
   },
   {
    "duration": 0,
    "start_time": "2023-02-24T18:01:24.213Z"
   },
   {
    "duration": 0,
    "start_time": "2023-02-24T18:01:24.214Z"
   },
   {
    "duration": 0,
    "start_time": "2023-02-24T18:01:24.238Z"
   },
   {
    "duration": 12,
    "start_time": "2023-02-24T18:02:01.650Z"
   },
   {
    "duration": 6,
    "start_time": "2023-02-24T18:02:07.647Z"
   },
   {
    "duration": 10,
    "start_time": "2023-02-24T18:03:02.449Z"
   },
   {
    "duration": 944,
    "start_time": "2023-02-24T18:06:01.948Z"
   },
   {
    "duration": 48,
    "start_time": "2023-02-24T18:06:50.036Z"
   },
   {
    "duration": 56,
    "start_time": "2023-02-24T18:07:14.893Z"
   },
   {
    "duration": 55,
    "start_time": "2023-02-24T18:07:27.870Z"
   },
   {
    "duration": 12,
    "start_time": "2023-02-24T18:07:32.792Z"
   },
   {
    "duration": 13,
    "start_time": "2023-02-24T18:08:26.422Z"
   },
   {
    "duration": 161,
    "start_time": "2023-02-24T18:08:49.254Z"
   },
   {
    "duration": 75,
    "start_time": "2023-02-24T18:09:56.802Z"
   },
   {
    "duration": 49,
    "start_time": "2023-02-24T18:10:33.557Z"
   },
   {
    "duration": 61,
    "start_time": "2023-02-24T18:11:02.523Z"
   },
   {
    "duration": 48,
    "start_time": "2023-02-24T18:12:13.418Z"
   },
   {
    "duration": 49,
    "start_time": "2023-02-24T18:12:25.251Z"
   },
   {
    "duration": 16,
    "start_time": "2023-02-24T18:13:19.900Z"
   },
   {
    "duration": 43,
    "start_time": "2023-02-24T18:15:07.145Z"
   },
   {
    "duration": 52,
    "start_time": "2023-02-24T18:15:27.316Z"
   },
   {
    "duration": 53,
    "start_time": "2023-02-24T18:15:55.563Z"
   },
   {
    "duration": 48,
    "start_time": "2023-02-24T18:17:30.538Z"
   },
   {
    "duration": 44,
    "start_time": "2023-02-24T20:45:13.728Z"
   },
   {
    "duration": 47,
    "start_time": "2023-02-24T20:45:18.681Z"
   },
   {
    "duration": 53,
    "start_time": "2023-02-24T20:45:29.426Z"
   },
   {
    "duration": 45,
    "start_time": "2023-02-24T20:45:44.354Z"
   },
   {
    "duration": 49,
    "start_time": "2023-02-24T20:48:32.302Z"
   },
   {
    "duration": 46,
    "start_time": "2023-02-24T20:48:37.493Z"
   },
   {
    "duration": 13,
    "start_time": "2023-02-24T20:49:21.344Z"
   },
   {
    "duration": 44,
    "start_time": "2023-02-24T20:49:37.166Z"
   },
   {
    "duration": 47,
    "start_time": "2023-02-24T20:49:43.486Z"
   },
   {
    "duration": 45,
    "start_time": "2023-02-24T20:49:52.087Z"
   },
   {
    "duration": 53,
    "start_time": "2023-02-24T20:50:02.357Z"
   },
   {
    "duration": 50,
    "start_time": "2023-02-24T20:50:38.415Z"
   },
   {
    "duration": 57,
    "start_time": "2023-02-24T20:50:42.551Z"
   },
   {
    "duration": 46,
    "start_time": "2023-02-24T20:50:54.217Z"
   },
   {
    "duration": 45,
    "start_time": "2023-02-24T20:50:59.775Z"
   },
   {
    "duration": 54,
    "start_time": "2023-02-24T20:51:02.424Z"
   },
   {
    "duration": 20,
    "start_time": "2023-02-24T20:52:07.305Z"
   },
   {
    "duration": 45,
    "start_time": "2023-02-24T20:52:17.841Z"
   },
   {
    "duration": 47,
    "start_time": "2023-02-24T20:53:06.868Z"
   },
   {
    "duration": 46,
    "start_time": "2023-02-24T20:53:08.777Z"
   },
   {
    "duration": 42,
    "start_time": "2023-02-24T20:53:14.468Z"
   },
   {
    "duration": 18,
    "start_time": "2023-02-24T20:53:23.232Z"
   },
   {
    "duration": 14,
    "start_time": "2023-02-24T20:53:30.136Z"
   },
   {
    "duration": 47,
    "start_time": "2023-02-24T21:00:25.895Z"
   },
   {
    "duration": 14,
    "start_time": "2023-02-24T21:00:28.078Z"
   },
   {
    "duration": 17,
    "start_time": "2023-02-24T21:00:35.831Z"
   },
   {
    "duration": 52,
    "start_time": "2023-02-24T21:02:14.474Z"
   },
   {
    "duration": 46,
    "start_time": "2023-02-24T21:05:05.124Z"
   },
   {
    "duration": 46,
    "start_time": "2023-02-24T21:05:10.587Z"
   },
   {
    "duration": 46,
    "start_time": "2023-02-24T21:05:39.924Z"
   },
   {
    "duration": 15,
    "start_time": "2023-02-24T21:06:02.108Z"
   },
   {
    "duration": 46,
    "start_time": "2023-02-24T21:06:08.052Z"
   },
   {
    "duration": 334,
    "start_time": "2023-02-24T21:07:29.436Z"
   },
   {
    "duration": 956,
    "start_time": "2023-02-24T21:08:24.033Z"
   },
   {
    "duration": 921,
    "start_time": "2023-02-24T21:09:02.226Z"
   },
   {
    "duration": 399,
    "start_time": "2023-02-24T21:10:19.196Z"
   },
   {
    "duration": 175,
    "start_time": "2023-02-24T21:12:20.610Z"
   },
   {
    "duration": 10,
    "start_time": "2023-02-24T21:12:34.865Z"
   },
   {
    "duration": 1156,
    "start_time": "2023-02-24T21:12:39.933Z"
   },
   {
    "duration": 56,
    "start_time": "2023-02-24T21:12:41.090Z"
   },
   {
    "duration": 19,
    "start_time": "2023-02-24T21:12:41.150Z"
   },
   {
    "duration": 12,
    "start_time": "2023-02-24T21:12:41.170Z"
   },
   {
    "duration": 8,
    "start_time": "2023-02-24T21:12:41.184Z"
   },
   {
    "duration": 15,
    "start_time": "2023-02-24T21:12:41.193Z"
   },
   {
    "duration": 6,
    "start_time": "2023-02-24T21:12:41.238Z"
   },
   {
    "duration": 21,
    "start_time": "2023-02-24T21:12:41.246Z"
   },
   {
    "duration": 4,
    "start_time": "2023-02-24T21:12:41.271Z"
   },
   {
    "duration": 221,
    "start_time": "2023-02-24T21:12:41.277Z"
   },
   {
    "duration": 8,
    "start_time": "2023-02-24T21:12:41.499Z"
   },
   {
    "duration": 32,
    "start_time": "2023-02-24T21:12:41.508Z"
   },
   {
    "duration": 2769,
    "start_time": "2023-02-24T21:12:41.542Z"
   },
   {
    "duration": 5,
    "start_time": "2023-02-24T21:12:44.313Z"
   },
   {
    "duration": 22,
    "start_time": "2023-02-24T21:12:44.320Z"
   },
   {
    "duration": 6,
    "start_time": "2023-02-24T21:12:44.344Z"
   },
   {
    "duration": 23,
    "start_time": "2023-02-24T21:12:44.351Z"
   },
   {
    "duration": 4,
    "start_time": "2023-02-24T21:12:44.375Z"
   },
   {
    "duration": 4,
    "start_time": "2023-02-24T21:12:44.380Z"
   },
   {
    "duration": 387,
    "start_time": "2023-02-24T21:12:44.385Z"
   },
   {
    "duration": 8,
    "start_time": "2023-02-24T21:12:44.773Z"
   },
   {
    "duration": 112,
    "start_time": "2023-02-24T21:12:44.783Z"
   },
   {
    "duration": 0,
    "start_time": "2023-02-24T21:12:44.897Z"
   },
   {
    "duration": 0,
    "start_time": "2023-02-24T21:12:44.898Z"
   },
   {
    "duration": 0,
    "start_time": "2023-02-24T21:12:44.899Z"
   },
   {
    "duration": 0,
    "start_time": "2023-02-24T21:12:44.900Z"
   },
   {
    "duration": 171,
    "start_time": "2023-02-24T21:13:25.601Z"
   },
   {
    "duration": 4,
    "start_time": "2023-02-24T21:13:57.618Z"
   },
   {
    "duration": 5,
    "start_time": "2023-02-24T21:14:46.618Z"
   },
   {
    "duration": 11,
    "start_time": "2023-02-24T21:14:50.603Z"
   },
   {
    "duration": 9,
    "start_time": "2023-02-24T21:14:57.307Z"
   },
   {
    "duration": 8,
    "start_time": "2023-02-24T21:15:01.019Z"
   },
   {
    "duration": 10,
    "start_time": "2023-02-24T21:15:09.419Z"
   },
   {
    "duration": 20,
    "start_time": "2023-02-24T21:16:09.445Z"
   },
   {
    "duration": 14,
    "start_time": "2023-02-24T21:16:37.622Z"
   },
   {
    "duration": 13,
    "start_time": "2023-02-24T21:17:26.765Z"
   },
   {
    "duration": 140,
    "start_time": "2023-02-24T21:21:50.049Z"
   },
   {
    "duration": 4,
    "start_time": "2023-02-24T21:21:54.432Z"
   },
   {
    "duration": 17,
    "start_time": "2023-02-24T21:22:00.649Z"
   },
   {
    "duration": 7,
    "start_time": "2023-02-24T21:22:12.585Z"
   },
   {
    "duration": 540,
    "start_time": "2023-02-24T21:24:01.651Z"
   },
   {
    "duration": 6,
    "start_time": "2023-02-24T21:24:17.044Z"
   },
   {
    "duration": 14,
    "start_time": "2023-02-24T21:25:09.691Z"
   },
   {
    "duration": 14,
    "start_time": "2023-02-24T21:25:53.412Z"
   },
   {
    "duration": 7,
    "start_time": "2023-02-24T21:26:19.468Z"
   },
   {
    "duration": 7,
    "start_time": "2023-02-24T21:26:23.337Z"
   },
   {
    "duration": 7,
    "start_time": "2023-02-24T21:27:51.967Z"
   },
   {
    "duration": 5,
    "start_time": "2023-02-24T21:27:53.358Z"
   },
   {
    "duration": 7,
    "start_time": "2023-02-24T21:28:28.071Z"
   },
   {
    "duration": 11,
    "start_time": "2023-02-24T21:28:34.143Z"
   },
   {
    "duration": 11,
    "start_time": "2023-02-24T21:28:54.470Z"
   },
   {
    "duration": 10,
    "start_time": "2023-02-24T21:29:01.295Z"
   },
   {
    "duration": 12,
    "start_time": "2023-02-24T21:29:06.449Z"
   },
   {
    "duration": 13,
    "start_time": "2023-02-24T21:29:52.439Z"
   },
   {
    "duration": 4,
    "start_time": "2023-02-24T21:32:00.225Z"
   },
   {
    "duration": 6,
    "start_time": "2023-02-24T21:32:01.761Z"
   },
   {
    "duration": 3,
    "start_time": "2023-02-24T21:32:23.457Z"
   },
   {
    "duration": 8,
    "start_time": "2023-02-24T21:32:24.466Z"
   },
   {
    "duration": 732,
    "start_time": "2023-02-24T21:33:13.483Z"
   },
   {
    "duration": 5,
    "start_time": "2023-02-24T21:33:25.794Z"
   },
   {
    "duration": 7,
    "start_time": "2023-02-24T21:33:30.539Z"
   },
   {
    "duration": 5,
    "start_time": "2023-02-24T21:33:34.354Z"
   },
   {
    "duration": 4,
    "start_time": "2023-02-24T21:33:34.578Z"
   },
   {
    "duration": 7,
    "start_time": "2023-02-24T21:33:34.778Z"
   },
   {
    "duration": 5,
    "start_time": "2023-02-24T21:34:14.767Z"
   },
   {
    "duration": 7,
    "start_time": "2023-02-24T21:34:15.011Z"
   },
   {
    "duration": 145,
    "start_time": "2023-02-24T21:34:55.445Z"
   },
   {
    "duration": 73,
    "start_time": "2023-02-24T21:35:03.699Z"
   },
   {
    "duration": 136,
    "start_time": "2023-02-24T21:35:34.500Z"
   },
   {
    "duration": 82,
    "start_time": "2023-02-24T21:35:40.325Z"
   },
   {
    "duration": 93,
    "start_time": "2023-02-24T21:35:47.409Z"
   },
   {
    "duration": 70,
    "start_time": "2023-02-24T21:36:34.013Z"
   },
   {
    "duration": 84,
    "start_time": "2023-02-24T21:37:32.859Z"
   },
   {
    "duration": 81,
    "start_time": "2023-02-24T21:37:41.727Z"
   },
   {
    "duration": 68,
    "start_time": "2023-02-24T21:37:46.871Z"
   },
   {
    "duration": 83,
    "start_time": "2023-02-24T21:37:49.005Z"
   },
   {
    "duration": 81,
    "start_time": "2023-02-24T21:37:52.654Z"
   },
   {
    "duration": 81,
    "start_time": "2023-02-24T21:38:08.711Z"
   },
   {
    "duration": 79,
    "start_time": "2023-02-24T21:38:13.319Z"
   },
   {
    "duration": 125,
    "start_time": "2023-02-24T21:38:36.648Z"
   },
   {
    "duration": 80,
    "start_time": "2023-02-24T21:38:56.024Z"
   },
   {
    "duration": 80,
    "start_time": "2023-02-24T21:39:00.720Z"
   },
   {
    "duration": 1238,
    "start_time": "2023-02-25T14:51:10.022Z"
   },
   {
    "duration": 103,
    "start_time": "2023-02-25T14:51:11.262Z"
   },
   {
    "duration": 17,
    "start_time": "2023-02-25T14:51:11.366Z"
   },
   {
    "duration": 13,
    "start_time": "2023-02-25T14:51:11.385Z"
   },
   {
    "duration": 26,
    "start_time": "2023-02-25T14:51:11.399Z"
   },
   {
    "duration": 19,
    "start_time": "2023-02-25T14:51:11.427Z"
   },
   {
    "duration": 5,
    "start_time": "2023-02-25T14:51:11.447Z"
   },
   {
    "duration": 29,
    "start_time": "2023-02-25T14:51:11.453Z"
   },
   {
    "duration": 5,
    "start_time": "2023-02-25T14:51:11.483Z"
   },
   {
    "duration": 195,
    "start_time": "2023-02-25T14:51:11.490Z"
   },
   {
    "duration": 6,
    "start_time": "2023-02-25T14:51:11.687Z"
   },
   {
    "duration": 21,
    "start_time": "2023-02-25T14:51:11.695Z"
   },
   {
    "duration": 2771,
    "start_time": "2023-02-25T14:51:11.717Z"
   },
   {
    "duration": 6,
    "start_time": "2023-02-25T14:51:14.490Z"
   },
   {
    "duration": 20,
    "start_time": "2023-02-25T14:51:14.497Z"
   },
   {
    "duration": 14,
    "start_time": "2023-02-25T14:51:14.518Z"
   },
   {
    "duration": 26,
    "start_time": "2023-02-25T14:51:14.534Z"
   },
   {
    "duration": 3,
    "start_time": "2023-02-25T14:51:14.562Z"
   },
   {
    "duration": 5,
    "start_time": "2023-02-25T14:51:14.567Z"
   },
   {
    "duration": 371,
    "start_time": "2023-02-25T14:51:14.573Z"
   },
   {
    "duration": 7,
    "start_time": "2023-02-25T14:51:14.946Z"
   },
   {
    "duration": 19,
    "start_time": "2023-02-25T14:51:14.954Z"
   },
   {
    "duration": 100,
    "start_time": "2023-02-25T14:51:14.975Z"
   },
   {
    "duration": 0,
    "start_time": "2023-02-25T14:51:15.078Z"
   },
   {
    "duration": 0,
    "start_time": "2023-02-25T14:51:15.082Z"
   },
   {
    "duration": 0,
    "start_time": "2023-02-25T14:51:15.083Z"
   },
   {
    "duration": 0,
    "start_time": "2023-02-25T14:51:15.085Z"
   },
   {
    "duration": 0,
    "start_time": "2023-02-25T14:51:15.085Z"
   },
   {
    "duration": 0,
    "start_time": "2023-02-25T14:51:15.086Z"
   },
   {
    "duration": 8,
    "start_time": "2023-02-25T14:51:43.117Z"
   },
   {
    "duration": 0,
    "start_time": "2023-02-25T14:51:43.127Z"
   },
   {
    "duration": 0,
    "start_time": "2023-02-25T14:51:43.128Z"
   },
   {
    "duration": 0,
    "start_time": "2023-02-25T14:51:43.129Z"
   },
   {
    "duration": 13,
    "start_time": "2023-02-25T14:52:21.517Z"
   },
   {
    "duration": 4,
    "start_time": "2023-02-25T14:52:33.519Z"
   },
   {
    "duration": 6,
    "start_time": "2023-02-25T14:52:34.830Z"
   },
   {
    "duration": 6,
    "start_time": "2023-02-25T14:52:35.879Z"
   },
   {
    "duration": 86,
    "start_time": "2023-02-25T14:52:56.511Z"
   },
   {
    "duration": 363,
    "start_time": "2023-02-25T14:54:03.624Z"
   },
   {
    "duration": 319,
    "start_time": "2023-02-25T14:54:11.297Z"
   },
   {
    "duration": 344,
    "start_time": "2023-02-25T14:54:20.433Z"
   },
   {
    "duration": 284,
    "start_time": "2023-02-25T14:54:43.009Z"
   },
   {
    "duration": 204,
    "start_time": "2023-02-25T14:54:46.707Z"
   },
   {
    "duration": 15,
    "start_time": "2023-02-25T14:59:23.492Z"
   },
   {
    "duration": 15,
    "start_time": "2023-02-25T14:59:31.488Z"
   },
   {
    "duration": 466,
    "start_time": "2023-02-25T15:00:16.478Z"
   },
   {
    "duration": 89,
    "start_time": "2023-02-25T15:00:36.477Z"
   },
   {
    "duration": 137,
    "start_time": "2023-02-25T15:00:55.503Z"
   },
   {
    "duration": 115,
    "start_time": "2023-02-25T15:01:36.979Z"
   },
   {
    "duration": 83,
    "start_time": "2023-02-25T15:02:05.838Z"
   },
   {
    "duration": 98,
    "start_time": "2023-02-25T15:02:09.872Z"
   },
   {
    "duration": 67,
    "start_time": "2023-02-25T15:02:13.668Z"
   },
   {
    "duration": 186,
    "start_time": "2023-02-25T15:02:34.482Z"
   },
   {
    "duration": 328,
    "start_time": "2023-02-25T15:02:42.673Z"
   },
   {
    "duration": 229,
    "start_time": "2023-02-25T15:04:10.544Z"
   },
   {
    "duration": 258,
    "start_time": "2023-02-25T15:04:34.921Z"
   },
   {
    "duration": 245,
    "start_time": "2023-02-25T15:04:47.332Z"
   },
   {
    "duration": 264,
    "start_time": "2023-02-25T15:06:49.129Z"
   },
   {
    "duration": 255,
    "start_time": "2023-02-25T15:07:13.203Z"
   },
   {
    "duration": 362,
    "start_time": "2023-02-25T15:07:20.747Z"
   },
   {
    "duration": 248,
    "start_time": "2023-02-25T15:07:41.348Z"
   },
   {
    "duration": 268,
    "start_time": "2023-02-25T15:08:10.779Z"
   },
   {
    "duration": 279,
    "start_time": "2023-02-25T15:08:25.612Z"
   },
   {
    "duration": 250,
    "start_time": "2023-02-25T15:08:44.187Z"
   },
   {
    "duration": 265,
    "start_time": "2023-02-25T15:10:06.786Z"
   },
   {
    "duration": 305,
    "start_time": "2023-02-25T15:10:23.942Z"
   },
   {
    "duration": 232,
    "start_time": "2023-02-25T15:10:32.214Z"
   },
   {
    "duration": 225,
    "start_time": "2023-02-25T15:10:37.229Z"
   },
   {
    "duration": 251,
    "start_time": "2023-02-25T15:10:41.638Z"
   },
   {
    "duration": 4,
    "start_time": "2023-02-25T15:11:21.334Z"
   },
   {
    "duration": 221,
    "start_time": "2023-02-25T15:11:24.274Z"
   },
   {
    "duration": 216,
    "start_time": "2023-02-25T15:11:29.284Z"
   },
   {
    "duration": 340,
    "start_time": "2023-02-25T15:12:13.249Z"
   },
   {
    "duration": 242,
    "start_time": "2023-02-25T15:12:59.680Z"
   },
   {
    "duration": 317,
    "start_time": "2023-02-25T15:14:22.711Z"
   },
   {
    "duration": 26,
    "start_time": "2023-02-25T15:14:53.009Z"
   },
   {
    "duration": 11,
    "start_time": "2023-02-25T15:16:26.845Z"
   },
   {
    "duration": 1039,
    "start_time": "2023-02-25T15:16:35.184Z"
   },
   {
    "duration": 58,
    "start_time": "2023-02-25T15:17:27.720Z"
   },
   {
    "duration": 127,
    "start_time": "2023-02-25T15:17:53.813Z"
   },
   {
    "duration": 8,
    "start_time": "2023-02-25T15:18:14.724Z"
   },
   {
    "duration": 8,
    "start_time": "2023-02-25T15:18:28.004Z"
   },
   {
    "duration": 20,
    "start_time": "2023-02-25T15:21:30.097Z"
   },
   {
    "duration": 20,
    "start_time": "2023-02-25T15:22:05.448Z"
   },
   {
    "duration": 24,
    "start_time": "2023-02-25T15:23:08.401Z"
   },
   {
    "duration": 23,
    "start_time": "2023-02-25T15:23:46.384Z"
   },
   {
    "duration": 208,
    "start_time": "2023-02-25T15:24:07.192Z"
   },
   {
    "duration": 211,
    "start_time": "2023-02-25T15:24:12.700Z"
   },
   {
    "duration": 181,
    "start_time": "2023-02-25T15:24:16.298Z"
   },
   {
    "duration": 5,
    "start_time": "2023-02-25T15:24:49.714Z"
   },
   {
    "duration": 372,
    "start_time": "2023-02-25T15:31:03.040Z"
   },
   {
    "duration": 357,
    "start_time": "2023-02-25T15:31:10.306Z"
   },
   {
    "duration": 339,
    "start_time": "2023-02-25T15:31:46.085Z"
   },
   {
    "duration": 243,
    "start_time": "2023-02-25T15:31:51.070Z"
   },
   {
    "duration": 217,
    "start_time": "2023-02-25T15:32:15.813Z"
   },
   {
    "duration": 299,
    "start_time": "2023-02-25T15:32:38.715Z"
   },
   {
    "duration": 229,
    "start_time": "2023-02-25T15:32:42.506Z"
   },
   {
    "duration": 237,
    "start_time": "2023-02-25T15:33:58.482Z"
   },
   {
    "duration": 366,
    "start_time": "2023-02-25T15:34:34.534Z"
   },
   {
    "duration": 209,
    "start_time": "2023-02-25T15:34:40.040Z"
   },
   {
    "duration": 243,
    "start_time": "2023-02-25T15:34:45.186Z"
   },
   {
    "duration": 264,
    "start_time": "2023-02-25T15:35:33.239Z"
   },
   {
    "duration": 296,
    "start_time": "2023-02-25T15:35:50.191Z"
   },
   {
    "duration": 262,
    "start_time": "2023-02-25T15:36:07.374Z"
   },
   {
    "duration": 254,
    "start_time": "2023-02-25T15:36:34.182Z"
   },
   {
    "duration": 388,
    "start_time": "2023-02-25T15:37:31.080Z"
   },
   {
    "duration": 282,
    "start_time": "2023-02-25T15:37:35.712Z"
   },
   {
    "duration": 352,
    "start_time": "2023-02-25T15:40:19.778Z"
   },
   {
    "duration": 297,
    "start_time": "2023-02-25T15:40:30.378Z"
   },
   {
    "duration": 271,
    "start_time": "2023-02-25T15:40:41.079Z"
   },
   {
    "duration": 333,
    "start_time": "2023-02-25T15:40:47.787Z"
   },
   {
    "duration": 127,
    "start_time": "2023-02-25T15:41:09.830Z"
   },
   {
    "duration": 151,
    "start_time": "2023-02-25T15:41:24.405Z"
   },
   {
    "duration": 132,
    "start_time": "2023-02-25T15:42:22.503Z"
   },
   {
    "duration": 140,
    "start_time": "2023-02-25T15:42:58.517Z"
   },
   {
    "duration": 460,
    "start_time": "2023-02-25T15:43:15.432Z"
   },
   {
    "duration": 131,
    "start_time": "2023-02-25T15:44:56.431Z"
   },
   {
    "duration": 266,
    "start_time": "2023-02-25T15:45:31.632Z"
   },
   {
    "duration": 221,
    "start_time": "2023-02-25T15:46:45.940Z"
   },
   {
    "duration": 254,
    "start_time": "2023-02-25T15:47:20.122Z"
   },
   {
    "duration": 266,
    "start_time": "2023-02-25T15:49:18.191Z"
   },
   {
    "duration": 14,
    "start_time": "2023-02-25T15:51:00.399Z"
   },
   {
    "duration": 252,
    "start_time": "2023-02-25T15:51:26.238Z"
   },
   {
    "duration": 274,
    "start_time": "2023-02-25T15:51:31.641Z"
   },
   {
    "duration": 268,
    "start_time": "2023-02-25T15:51:46.989Z"
   },
   {
    "duration": 407,
    "start_time": "2023-02-25T15:51:53.838Z"
   },
   {
    "duration": 260,
    "start_time": "2023-02-25T15:52:15.014Z"
   },
   {
    "duration": 284,
    "start_time": "2023-02-25T15:52:21.065Z"
   },
   {
    "duration": 1212,
    "start_time": "2023-02-25T15:52:31.369Z"
   },
   {
    "duration": 60,
    "start_time": "2023-02-25T15:52:32.583Z"
   },
   {
    "duration": 18,
    "start_time": "2023-02-25T15:52:32.645Z"
   },
   {
    "duration": 15,
    "start_time": "2023-02-25T15:52:32.665Z"
   },
   {
    "duration": 14,
    "start_time": "2023-02-25T15:52:32.681Z"
   },
   {
    "duration": 23,
    "start_time": "2023-02-25T15:52:32.697Z"
   },
   {
    "duration": 6,
    "start_time": "2023-02-25T15:52:32.721Z"
   },
   {
    "duration": 22,
    "start_time": "2023-02-25T15:52:32.728Z"
   },
   {
    "duration": 6,
    "start_time": "2023-02-25T15:52:32.752Z"
   },
   {
    "duration": 232,
    "start_time": "2023-02-25T15:52:32.760Z"
   },
   {
    "duration": 8,
    "start_time": "2023-02-25T15:52:32.994Z"
   },
   {
    "duration": 21,
    "start_time": "2023-02-25T15:52:33.004Z"
   },
   {
    "duration": 2741,
    "start_time": "2023-02-25T15:52:33.027Z"
   },
   {
    "duration": 8,
    "start_time": "2023-02-25T15:52:35.770Z"
   },
   {
    "duration": 21,
    "start_time": "2023-02-25T15:52:35.785Z"
   },
   {
    "duration": 10,
    "start_time": "2023-02-25T15:52:35.808Z"
   },
   {
    "duration": 28,
    "start_time": "2023-02-25T15:52:35.820Z"
   },
   {
    "duration": 4,
    "start_time": "2023-02-25T15:52:35.849Z"
   },
   {
    "duration": 7,
    "start_time": "2023-02-25T15:52:35.854Z"
   },
   {
    "duration": 386,
    "start_time": "2023-02-25T15:52:35.863Z"
   },
   {
    "duration": 8,
    "start_time": "2023-02-25T15:52:36.250Z"
   },
   {
    "duration": 948,
    "start_time": "2023-02-25T15:52:36.259Z"
   },
   {
    "duration": 7,
    "start_time": "2023-02-25T15:52:37.208Z"
   },
   {
    "duration": 10,
    "start_time": "2023-02-25T15:52:37.216Z"
   },
   {
    "duration": 312,
    "start_time": "2023-02-25T15:52:37.227Z"
   },
   {
    "duration": 244,
    "start_time": "2023-02-25T15:52:37.541Z"
   },
   {
    "duration": 1634,
    "start_time": "2023-02-25T18:16:04.085Z"
   },
   {
    "duration": 226,
    "start_time": "2023-02-25T18:16:05.721Z"
   },
   {
    "duration": 20,
    "start_time": "2023-02-25T18:16:05.949Z"
   },
   {
    "duration": 14,
    "start_time": "2023-02-25T18:16:05.971Z"
   },
   {
    "duration": 9,
    "start_time": "2023-02-25T18:16:05.987Z"
   },
   {
    "duration": 51,
    "start_time": "2023-02-25T18:16:05.998Z"
   },
   {
    "duration": 8,
    "start_time": "2023-02-25T18:16:06.050Z"
   },
   {
    "duration": 25,
    "start_time": "2023-02-25T18:16:06.059Z"
   },
   {
    "duration": 5,
    "start_time": "2023-02-25T18:16:06.085Z"
   },
   {
    "duration": 242,
    "start_time": "2023-02-25T18:16:06.094Z"
   },
   {
    "duration": 7,
    "start_time": "2023-02-25T18:16:06.337Z"
   },
   {
    "duration": 24,
    "start_time": "2023-02-25T18:16:06.346Z"
   },
   {
    "duration": 2899,
    "start_time": "2023-02-25T18:16:06.372Z"
   },
   {
    "duration": 10,
    "start_time": "2023-02-25T18:16:09.273Z"
   },
   {
    "duration": 66,
    "start_time": "2023-02-25T18:16:09.285Z"
   },
   {
    "duration": 6,
    "start_time": "2023-02-25T18:16:09.356Z"
   },
   {
    "duration": 21,
    "start_time": "2023-02-25T18:16:09.364Z"
   },
   {
    "duration": 5,
    "start_time": "2023-02-25T18:16:09.386Z"
   },
   {
    "duration": 4,
    "start_time": "2023-02-25T18:16:09.392Z"
   },
   {
    "duration": 470,
    "start_time": "2023-02-25T18:16:09.398Z"
   },
   {
    "duration": 7,
    "start_time": "2023-02-25T18:16:09.869Z"
   },
   {
    "duration": 1176,
    "start_time": "2023-02-25T18:16:09.878Z"
   },
   {
    "duration": 9,
    "start_time": "2023-02-25T18:16:11.056Z"
   },
   {
    "duration": 8,
    "start_time": "2023-02-25T18:16:11.067Z"
   },
   {
    "duration": 327,
    "start_time": "2023-02-25T18:16:11.077Z"
   },
   {
    "duration": 284,
    "start_time": "2023-02-25T18:16:11.406Z"
   },
   {
    "duration": 13,
    "start_time": "2023-02-25T18:17:41.677Z"
   },
   {
    "duration": 13,
    "start_time": "2023-02-25T18:17:59.990Z"
   },
   {
    "duration": 19,
    "start_time": "2023-02-25T18:18:22.567Z"
   },
   {
    "duration": 15,
    "start_time": "2023-02-25T18:20:06.155Z"
   },
   {
    "duration": 231,
    "start_time": "2023-02-25T18:20:27.829Z"
   },
   {
    "duration": 22,
    "start_time": "2023-02-25T18:20:38.874Z"
   },
   {
    "duration": 31,
    "start_time": "2023-02-25T18:20:47.691Z"
   },
   {
    "duration": 5,
    "start_time": "2023-02-25T18:20:55.252Z"
   },
   {
    "duration": 17,
    "start_time": "2023-02-25T18:21:46.684Z"
   },
   {
    "duration": 5,
    "start_time": "2023-02-25T18:21:51.757Z"
   },
   {
    "duration": 12,
    "start_time": "2023-02-25T18:22:07.293Z"
   },
   {
    "duration": 5,
    "start_time": "2023-02-25T18:22:08.084Z"
   },
   {
    "duration": 28,
    "start_time": "2023-02-25T18:23:11.109Z"
   },
   {
    "duration": 12,
    "start_time": "2023-02-25T18:23:34.759Z"
   },
   {
    "duration": 17,
    "start_time": "2023-02-25T18:23:51.006Z"
   },
   {
    "duration": 16,
    "start_time": "2023-02-25T18:24:02.964Z"
   },
   {
    "duration": 16,
    "start_time": "2023-02-25T18:24:32.258Z"
   },
   {
    "duration": 4,
    "start_time": "2023-02-25T18:24:32.863Z"
   },
   {
    "duration": 9,
    "start_time": "2023-02-25T18:24:34.456Z"
   },
   {
    "duration": 26,
    "start_time": "2023-02-25T18:24:36.944Z"
   },
   {
    "duration": 19,
    "start_time": "2023-02-25T18:25:46.658Z"
   },
   {
    "duration": 4,
    "start_time": "2023-02-25T18:25:46.960Z"
   },
   {
    "duration": 4,
    "start_time": "2023-02-25T18:25:47.464Z"
   },
   {
    "duration": 250,
    "start_time": "2023-02-25T18:26:57.938Z"
   },
   {
    "duration": 320,
    "start_time": "2023-02-25T18:27:07.019Z"
   },
   {
    "duration": 458,
    "start_time": "2023-02-25T18:27:13.852Z"
   },
   {
    "duration": 410,
    "start_time": "2023-02-25T18:27:25.237Z"
   },
   {
    "duration": 20,
    "start_time": "2023-02-25T18:27:44.709Z"
   },
   {
    "duration": 4,
    "start_time": "2023-02-25T18:27:44.978Z"
   },
   {
    "duration": 6,
    "start_time": "2023-02-25T18:27:46.203Z"
   },
   {
    "duration": 410,
    "start_time": "2023-02-25T18:27:46.733Z"
   },
   {
    "duration": 244,
    "start_time": "2023-02-25T18:29:16.157Z"
   },
   {
    "duration": 397,
    "start_time": "2023-02-25T18:29:21.508Z"
   },
   {
    "duration": 4,
    "start_time": "2023-02-25T18:30:15.038Z"
   },
   {
    "duration": 15,
    "start_time": "2023-02-25T18:30:33.236Z"
   },
   {
    "duration": 49,
    "start_time": "2023-02-25T18:32:37.848Z"
   },
   {
    "duration": 80,
    "start_time": "2023-02-25T18:33:09.265Z"
   },
   {
    "duration": 12,
    "start_time": "2023-02-25T18:34:44.394Z"
   },
   {
    "duration": 7,
    "start_time": "2023-02-25T18:34:49.949Z"
   },
   {
    "duration": 60,
    "start_time": "2023-02-25T18:44:08.064Z"
   },
   {
    "duration": 15,
    "start_time": "2023-02-25T18:44:20.678Z"
   },
   {
    "duration": 50,
    "start_time": "2023-02-25T18:44:25.443Z"
   },
   {
    "duration": 17,
    "start_time": "2023-02-25T18:50:33.033Z"
   },
   {
    "duration": 6,
    "start_time": "2023-02-25T18:50:33.664Z"
   },
   {
    "duration": 50,
    "start_time": "2023-02-25T18:50:42.459Z"
   },
   {
    "duration": 12,
    "start_time": "2023-02-25T18:52:23.243Z"
   },
   {
    "duration": 6,
    "start_time": "2023-02-25T18:52:23.725Z"
   },
   {
    "duration": 356,
    "start_time": "2023-02-25T18:52:53.291Z"
   },
   {
    "duration": 486,
    "start_time": "2023-02-25T18:54:26.972Z"
   },
   {
    "duration": 374,
    "start_time": "2023-02-25T18:55:14.229Z"
   },
   {
    "duration": 657,
    "start_time": "2023-02-25T18:55:56.637Z"
   },
   {
    "duration": 653,
    "start_time": "2023-02-25T18:56:17.108Z"
   },
   {
    "duration": 62,
    "start_time": "2023-02-25T18:56:32.565Z"
   },
   {
    "duration": 781,
    "start_time": "2023-02-25T18:57:53.342Z"
   },
   {
    "duration": 46,
    "start_time": "2023-02-25T18:58:30.527Z"
   },
   {
    "duration": 707,
    "start_time": "2023-02-25T18:59:01.333Z"
   },
   {
    "duration": 681,
    "start_time": "2023-02-25T18:59:18.664Z"
   },
   {
    "duration": 12,
    "start_time": "2023-02-25T18:59:28.942Z"
   },
   {
    "duration": 7,
    "start_time": "2023-02-25T18:59:29.550Z"
   },
   {
    "duration": 677,
    "start_time": "2023-02-25T18:59:30.224Z"
   },
   {
    "duration": 766,
    "start_time": "2023-02-25T19:01:16.583Z"
   },
   {
    "duration": 872,
    "start_time": "2023-02-25T19:01:34.928Z"
   },
   {
    "duration": 726,
    "start_time": "2023-02-25T19:01:52.505Z"
   },
   {
    "duration": 759,
    "start_time": "2023-02-25T19:02:05.169Z"
   },
   {
    "duration": 668,
    "start_time": "2023-02-25T19:02:26.012Z"
   },
   {
    "duration": 365,
    "start_time": "2023-02-25T19:02:39.633Z"
   },
   {
    "duration": 249,
    "start_time": "2023-02-25T19:02:51.949Z"
   },
   {
    "duration": 258,
    "start_time": "2023-02-25T19:02:59.162Z"
   },
   {
    "duration": 353,
    "start_time": "2023-02-25T19:03:08.826Z"
   },
   {
    "duration": 14,
    "start_time": "2023-02-25T19:03:30.187Z"
   },
   {
    "duration": 20,
    "start_time": "2023-02-25T19:06:38.139Z"
   },
   {
    "duration": 157,
    "start_time": "2023-02-25T19:06:44.548Z"
   },
   {
    "duration": 41,
    "start_time": "2023-02-25T19:06:57.245Z"
   },
   {
    "duration": 170,
    "start_time": "2023-02-25T19:07:08.070Z"
   },
   {
    "duration": 213,
    "start_time": "2023-02-25T19:07:49.885Z"
   },
   {
    "duration": 6,
    "start_time": "2023-02-25T19:12:17.746Z"
   },
   {
    "duration": 47,
    "start_time": "2023-02-25T19:14:05.589Z"
   },
   {
    "duration": 30,
    "start_time": "2023-02-25T19:14:15.974Z"
   },
   {
    "duration": 13,
    "start_time": "2023-02-25T19:14:24.331Z"
   },
   {
    "duration": 25,
    "start_time": "2023-02-25T19:14:32.406Z"
   },
   {
    "duration": 50,
    "start_time": "2023-02-25T19:14:47.894Z"
   },
   {
    "duration": 18,
    "start_time": "2023-02-25T19:15:04.976Z"
   },
   {
    "duration": 14,
    "start_time": "2023-02-25T19:15:06.237Z"
   },
   {
    "duration": 24,
    "start_time": "2023-02-25T19:15:46.240Z"
   },
   {
    "duration": 17,
    "start_time": "2023-02-25T19:15:46.842Z"
   },
   {
    "duration": 22,
    "start_time": "2023-02-25T19:16:03.536Z"
   },
   {
    "duration": 38,
    "start_time": "2023-02-25T19:16:04.201Z"
   },
   {
    "duration": 66,
    "start_time": "2023-02-25T19:16:36.841Z"
   },
   {
    "duration": 100,
    "start_time": "2023-02-25T19:16:59.044Z"
   },
   {
    "duration": 89,
    "start_time": "2023-02-25T19:17:11.267Z"
   },
   {
    "duration": 26,
    "start_time": "2023-02-25T19:17:17.860Z"
   },
   {
    "duration": 38,
    "start_time": "2023-02-25T19:17:29.209Z"
   },
   {
    "duration": 18,
    "start_time": "2023-02-25T19:17:35.388Z"
   },
   {
    "duration": 16,
    "start_time": "2023-02-25T19:17:36.508Z"
   },
   {
    "duration": 74,
    "start_time": "2023-02-25T19:17:49.596Z"
   },
   {
    "duration": 21,
    "start_time": "2023-02-25T19:18:51.134Z"
   },
   {
    "duration": 19,
    "start_time": "2023-02-25T19:18:53.574Z"
   },
   {
    "duration": 28,
    "start_time": "2023-02-25T19:19:18.829Z"
   },
   {
    "duration": 14,
    "start_time": "2023-02-25T19:19:19.436Z"
   },
   {
    "duration": 19,
    "start_time": "2023-02-25T19:19:29.960Z"
   },
   {
    "duration": 25,
    "start_time": "2023-02-25T19:19:30.402Z"
   },
   {
    "duration": 489,
    "start_time": "2023-02-25T19:19:56.587Z"
   },
   {
    "duration": 257,
    "start_time": "2023-02-25T19:20:17.352Z"
   },
   {
    "duration": 410,
    "start_time": "2023-02-25T19:20:22.484Z"
   },
   {
    "duration": 13,
    "start_time": "2023-02-25T19:21:52.939Z"
   },
   {
    "duration": 25,
    "start_time": "2023-02-25T19:21:59.004Z"
   },
   {
    "duration": 9,
    "start_time": "2023-02-25T19:22:28.053Z"
   },
   {
    "duration": 15,
    "start_time": "2023-02-25T19:22:47.038Z"
   },
   {
    "duration": 1262,
    "start_time": "2023-02-25T19:22:57.393Z"
   },
   {
    "duration": 72,
    "start_time": "2023-02-25T19:22:58.657Z"
   },
   {
    "duration": 18,
    "start_time": "2023-02-25T19:22:58.740Z"
   },
   {
    "duration": 13,
    "start_time": "2023-02-25T19:22:58.760Z"
   },
   {
    "duration": 9,
    "start_time": "2023-02-25T19:22:58.774Z"
   },
   {
    "duration": 14,
    "start_time": "2023-02-25T19:22:58.785Z"
   },
   {
    "duration": 37,
    "start_time": "2023-02-25T19:22:58.801Z"
   },
   {
    "duration": 23,
    "start_time": "2023-02-25T19:22:58.840Z"
   },
   {
    "duration": 5,
    "start_time": "2023-02-25T19:22:58.864Z"
   },
   {
    "duration": 214,
    "start_time": "2023-02-25T19:22:58.872Z"
   },
   {
    "duration": 6,
    "start_time": "2023-02-25T19:22:59.088Z"
   },
   {
    "duration": 39,
    "start_time": "2023-02-25T19:22:59.096Z"
   },
   {
    "duration": 2546,
    "start_time": "2023-02-25T19:22:59.136Z"
   },
   {
    "duration": 7,
    "start_time": "2023-02-25T19:23:01.684Z"
   },
   {
    "duration": 46,
    "start_time": "2023-02-25T19:23:01.692Z"
   },
   {
    "duration": 17,
    "start_time": "2023-02-25T19:23:01.741Z"
   },
   {
    "duration": 35,
    "start_time": "2023-02-25T19:23:01.759Z"
   },
   {
    "duration": 3,
    "start_time": "2023-02-25T19:23:01.795Z"
   },
   {
    "duration": 36,
    "start_time": "2023-02-25T19:23:01.800Z"
   },
   {
    "duration": 470,
    "start_time": "2023-02-25T19:23:01.838Z"
   },
   {
    "duration": 15,
    "start_time": "2023-02-25T19:23:02.322Z"
   },
   {
    "duration": 1078,
    "start_time": "2023-02-25T19:23:02.339Z"
   },
   {
    "duration": 11,
    "start_time": "2023-02-25T19:23:03.424Z"
   },
   {
    "duration": 15,
    "start_time": "2023-02-25T19:23:03.437Z"
   },
   {
    "duration": 322,
    "start_time": "2023-02-25T19:23:03.455Z"
   },
   {
    "duration": 299,
    "start_time": "2023-02-25T19:23:03.779Z"
   },
   {
    "duration": 4,
    "start_time": "2023-02-25T19:23:04.080Z"
   },
   {
    "duration": 45,
    "start_time": "2023-02-25T19:23:04.087Z"
   },
   {
    "duration": 8,
    "start_time": "2023-02-25T19:23:04.133Z"
   },
   {
    "duration": 13,
    "start_time": "2023-02-25T19:23:04.143Z"
   },
   {
    "duration": 5,
    "start_time": "2023-02-25T19:23:04.157Z"
   },
   {
    "duration": 13,
    "start_time": "2023-02-25T19:23:04.164Z"
   },
   {
    "duration": 404,
    "start_time": "2023-02-25T19:23:04.178Z"
   },
   {
    "duration": 222,
    "start_time": "2023-02-25T19:23:04.584Z"
   },
   {
    "duration": 12,
    "start_time": "2023-02-25T19:23:24.233Z"
   },
   {
    "duration": 1078,
    "start_time": "2023-02-25T19:23:38.896Z"
   },
   {
    "duration": 10,
    "start_time": "2023-02-25T19:23:54.272Z"
   },
   {
    "duration": 475,
    "start_time": "2023-02-25T19:25:07.682Z"
   },
   {
    "duration": 378,
    "start_time": "2023-02-25T19:25:16.361Z"
   },
   {
    "duration": 446,
    "start_time": "2023-02-25T19:25:50.858Z"
   },
   {
    "duration": 422,
    "start_time": "2023-02-25T19:27:07.636Z"
   },
   {
    "duration": 543,
    "start_time": "2023-02-25T19:28:13.141Z"
   },
   {
    "duration": 388,
    "start_time": "2023-02-25T19:28:22.069Z"
   },
   {
    "duration": 372,
    "start_time": "2023-02-25T19:29:45.687Z"
   },
   {
    "duration": 251,
    "start_time": "2023-02-25T19:29:59.836Z"
   },
   {
    "duration": 349,
    "start_time": "2023-02-25T19:30:44.456Z"
   },
   {
    "duration": 416,
    "start_time": "2023-02-25T20:10:46.380Z"
   },
   {
    "duration": 20,
    "start_time": "2023-02-25T20:12:43.040Z"
   },
   {
    "duration": 2,
    "start_time": "2023-02-25T20:13:18.701Z"
   },
   {
    "duration": 22,
    "start_time": "2023-02-25T20:13:48.709Z"
   },
   {
    "duration": 89,
    "start_time": "2023-02-25T20:15:32.478Z"
   },
   {
    "duration": 90,
    "start_time": "2023-02-25T20:15:44.339Z"
   },
   {
    "duration": 48,
    "start_time": "2023-02-25T20:17:06.636Z"
   },
   {
    "duration": 18,
    "start_time": "2023-02-25T20:17:12.366Z"
   },
   {
    "duration": 14,
    "start_time": "2023-02-25T20:17:12.982Z"
   },
   {
    "duration": 24,
    "start_time": "2023-02-25T20:17:15.367Z"
   },
   {
    "duration": 9,
    "start_time": "2023-02-25T20:17:29.671Z"
   },
   {
    "duration": 23,
    "start_time": "2023-02-25T20:17:57.264Z"
   },
   {
    "duration": 16,
    "start_time": "2023-02-25T20:17:58.957Z"
   },
   {
    "duration": 10,
    "start_time": "2023-02-25T20:18:03.287Z"
   },
   {
    "duration": 30,
    "start_time": "2023-02-25T20:18:05.208Z"
   },
   {
    "duration": 23,
    "start_time": "2023-02-25T20:18:46.671Z"
   },
   {
    "duration": 13,
    "start_time": "2023-02-25T20:18:47.360Z"
   },
   {
    "duration": 24,
    "start_time": "2023-02-25T20:18:52.936Z"
   },
   {
    "duration": 8,
    "start_time": "2023-02-25T20:18:53.264Z"
   },
   {
    "duration": 10,
    "start_time": "2023-02-25T20:19:02.080Z"
   },
   {
    "duration": 11,
    "start_time": "2023-02-25T20:19:57.477Z"
   },
   {
    "duration": 9,
    "start_time": "2023-02-25T20:20:02.629Z"
   },
   {
    "duration": 13,
    "start_time": "2023-02-25T20:20:28.068Z"
   },
   {
    "duration": 31,
    "start_time": "2023-02-25T20:20:29.304Z"
   },
   {
    "duration": 32,
    "start_time": "2023-02-25T20:21:07.038Z"
   },
   {
    "duration": 31,
    "start_time": "2023-02-25T20:21:23.404Z"
   },
   {
    "duration": 14,
    "start_time": "2023-02-25T20:21:46.477Z"
   },
   {
    "duration": 30,
    "start_time": "2023-02-25T20:21:50.808Z"
   },
   {
    "duration": 20,
    "start_time": "2023-02-25T20:22:23.843Z"
   },
   {
    "duration": 10,
    "start_time": "2023-02-25T20:22:24.453Z"
   },
   {
    "duration": 18,
    "start_time": "2023-02-25T20:22:30.961Z"
   },
   {
    "duration": 17,
    "start_time": "2023-02-25T20:22:31.488Z"
   },
   {
    "duration": 120,
    "start_time": "2023-02-25T20:24:03.040Z"
   },
   {
    "duration": 99,
    "start_time": "2023-02-25T20:25:45.136Z"
   },
   {
    "duration": 95,
    "start_time": "2023-02-25T20:25:51.792Z"
   },
   {
    "duration": 17,
    "start_time": "2023-02-25T20:27:15.842Z"
   },
   {
    "duration": 97,
    "start_time": "2023-02-25T20:27:29.996Z"
   },
   {
    "duration": 15,
    "start_time": "2023-02-25T20:29:07.148Z"
   },
   {
    "duration": 21,
    "start_time": "2023-02-25T20:29:29.888Z"
   },
   {
    "duration": 184,
    "start_time": "2023-02-25T20:30:11.249Z"
   },
   {
    "duration": 184,
    "start_time": "2023-02-25T20:30:55.010Z"
   },
   {
    "duration": 12,
    "start_time": "2023-02-25T20:33:53.327Z"
   },
   {
    "duration": 5,
    "start_time": "2023-02-25T20:33:56.294Z"
   },
   {
    "duration": 13,
    "start_time": "2023-02-25T20:34:05.480Z"
   },
   {
    "duration": 18,
    "start_time": "2023-02-25T20:34:20.368Z"
   },
   {
    "duration": 75,
    "start_time": "2023-02-25T20:34:37.272Z"
   },
   {
    "duration": 73,
    "start_time": "2023-02-25T20:34:45.486Z"
   },
   {
    "duration": 4,
    "start_time": "2023-02-25T20:34:53.681Z"
   },
   {
    "duration": 71,
    "start_time": "2023-02-25T20:35:13.098Z"
   },
   {
    "duration": 15,
    "start_time": "2023-02-25T20:37:27.853Z"
   },
   {
    "duration": 15,
    "start_time": "2023-02-25T20:37:37.050Z"
   },
   {
    "duration": 24,
    "start_time": "2023-02-25T20:38:00.131Z"
   },
   {
    "duration": 47,
    "start_time": "2023-02-25T20:38:31.444Z"
   },
   {
    "duration": 51,
    "start_time": "2023-02-25T20:38:39.432Z"
   },
   {
    "duration": 16,
    "start_time": "2023-02-25T20:39:12.442Z"
   },
   {
    "duration": 6,
    "start_time": "2023-02-25T20:39:29.145Z"
   },
   {
    "duration": 16,
    "start_time": "2023-02-25T20:39:42.144Z"
   },
   {
    "duration": 14,
    "start_time": "2023-02-25T20:40:31.248Z"
   },
   {
    "duration": 236,
    "start_time": "2023-02-25T20:43:13.644Z"
   },
   {
    "duration": 38,
    "start_time": "2023-02-25T20:45:06.396Z"
   },
   {
    "duration": 9142,
    "start_time": "2023-02-25T20:45:26.436Z"
   },
   {
    "duration": 9299,
    "start_time": "2023-02-25T20:46:57.761Z"
   },
   {
    "duration": 29,
    "start_time": "2023-02-25T20:50:41.735Z"
   },
   {
    "duration": 13,
    "start_time": "2023-02-25T20:50:41.766Z"
   },
   {
    "duration": 108,
    "start_time": "2023-02-25T20:50:41.780Z"
   },
   {
    "duration": 152,
    "start_time": "2023-02-25T20:50:41.890Z"
   },
   {
    "duration": 72,
    "start_time": "2023-02-25T20:51:21.107Z"
   },
   {
    "duration": 14,
    "start_time": "2023-02-25T20:51:21.892Z"
   },
   {
    "duration": 6,
    "start_time": "2023-02-25T20:51:28.737Z"
   },
   {
    "duration": 20,
    "start_time": "2023-02-25T20:51:31.340Z"
   },
   {
    "duration": 7,
    "start_time": "2023-02-25T20:51:42.836Z"
   },
   {
    "duration": 37,
    "start_time": "2023-02-25T20:51:47.100Z"
   },
   {
    "duration": 125,
    "start_time": "2023-02-25T20:51:50.006Z"
   },
   {
    "duration": 123,
    "start_time": "2023-02-25T20:51:54.061Z"
   },
   {
    "duration": 58,
    "start_time": "2023-02-26T10:34:46.233Z"
   },
   {
    "duration": 74,
    "start_time": "2023-02-26T10:37:28.020Z"
   },
   {
    "duration": 1855,
    "start_time": "2023-02-26T10:37:47.633Z"
   },
   {
    "duration": 121,
    "start_time": "2023-02-26T10:37:49.491Z"
   },
   {
    "duration": 25,
    "start_time": "2023-02-26T10:37:49.614Z"
   },
   {
    "duration": 18,
    "start_time": "2023-02-26T10:37:49.642Z"
   },
   {
    "duration": 25,
    "start_time": "2023-02-26T10:37:49.662Z"
   },
   {
    "duration": 20,
    "start_time": "2023-02-26T10:37:49.689Z"
   },
   {
    "duration": 28,
    "start_time": "2023-02-26T10:37:49.711Z"
   },
   {
    "duration": 6,
    "start_time": "2023-02-26T10:37:49.741Z"
   },
   {
    "duration": 305,
    "start_time": "2023-02-26T10:37:49.786Z"
   },
   {
    "duration": 8,
    "start_time": "2023-02-26T10:37:50.095Z"
   },
   {
    "duration": 45,
    "start_time": "2023-02-26T10:37:50.105Z"
   },
   {
    "duration": 4447,
    "start_time": "2023-02-26T10:37:50.152Z"
   },
   {
    "duration": 13,
    "start_time": "2023-02-26T10:37:54.601Z"
   },
   {
    "duration": 31,
    "start_time": "2023-02-26T10:37:54.616Z"
   },
   {
    "duration": 32,
    "start_time": "2023-02-26T10:37:54.649Z"
   },
   {
    "duration": 37,
    "start_time": "2023-02-26T10:37:54.683Z"
   },
   {
    "duration": 4,
    "start_time": "2023-02-26T10:37:54.722Z"
   },
   {
    "duration": 10,
    "start_time": "2023-02-26T10:37:54.728Z"
   },
   {
    "duration": 559,
    "start_time": "2023-02-26T10:37:54.740Z"
   },
   {
    "duration": 20,
    "start_time": "2023-02-26T10:37:55.301Z"
   },
   {
    "duration": 1405,
    "start_time": "2023-02-26T10:37:55.323Z"
   },
   {
    "duration": 7,
    "start_time": "2023-02-26T10:37:56.730Z"
   },
   {
    "duration": 14,
    "start_time": "2023-02-26T10:37:56.739Z"
   },
   {
    "duration": 425,
    "start_time": "2023-02-26T10:37:56.755Z"
   },
   {
    "duration": 325,
    "start_time": "2023-02-26T10:37:57.186Z"
   },
   {
    "duration": 5,
    "start_time": "2023-02-26T10:37:57.513Z"
   },
   {
    "duration": 31,
    "start_time": "2023-02-26T10:37:57.520Z"
   },
   {
    "duration": 9,
    "start_time": "2023-02-26T10:37:57.555Z"
   },
   {
    "duration": 17,
    "start_time": "2023-02-26T10:37:57.586Z"
   },
   {
    "duration": 534,
    "start_time": "2023-02-26T10:37:57.605Z"
   },
   {
    "duration": 20,
    "start_time": "2023-02-26T10:37:58.141Z"
   },
   {
    "duration": 25,
    "start_time": "2023-02-26T10:37:58.163Z"
   },
   {
    "duration": 25,
    "start_time": "2023-02-26T10:37:58.191Z"
   },
   {
    "duration": 46,
    "start_time": "2023-02-26T10:37:58.218Z"
   },
   {
    "duration": 124,
    "start_time": "2023-02-26T10:37:58.266Z"
   },
   {
    "duration": 36,
    "start_time": "2023-02-26T10:37:58.392Z"
   },
   {
    "duration": 257,
    "start_time": "2023-02-26T10:37:58.430Z"
   },
   {
    "duration": 268,
    "start_time": "2023-02-26T10:37:58.690Z"
   },
   {
    "duration": 255,
    "start_time": "2023-02-26T10:37:58.960Z"
   },
   {
    "duration": 0,
    "start_time": "2023-02-26T10:37:59.217Z"
   },
   {
    "duration": 0,
    "start_time": "2023-02-26T10:37:59.219Z"
   },
   {
    "duration": 0,
    "start_time": "2023-02-26T10:37:59.220Z"
   },
   {
    "duration": 0,
    "start_time": "2023-02-26T10:37:59.222Z"
   },
   {
    "duration": 0,
    "start_time": "2023-02-26T10:37:59.223Z"
   },
   {
    "duration": 0,
    "start_time": "2023-02-26T10:37:59.223Z"
   },
   {
    "duration": 0,
    "start_time": "2023-02-26T10:37:59.225Z"
   },
   {
    "duration": 0,
    "start_time": "2023-02-26T10:37:59.226Z"
   },
   {
    "duration": 11,
    "start_time": "2023-02-26T10:49:13.994Z"
   },
   {
    "duration": 7,
    "start_time": "2023-02-26T10:49:24.619Z"
   },
   {
    "duration": 5,
    "start_time": "2023-02-26T10:52:04.307Z"
   },
   {
    "duration": 6,
    "start_time": "2023-02-26T10:53:50.337Z"
   },
   {
    "duration": 6,
    "start_time": "2023-02-26T10:54:03.898Z"
   },
   {
    "duration": 5,
    "start_time": "2023-02-26T10:54:07.923Z"
   },
   {
    "duration": 5,
    "start_time": "2023-02-26T10:54:11.409Z"
   },
   {
    "duration": 5,
    "start_time": "2023-02-26T10:54:19.820Z"
   },
   {
    "duration": 6,
    "start_time": "2023-02-26T10:54:23.609Z"
   },
   {
    "duration": 6,
    "start_time": "2023-02-26T10:54:44.601Z"
   },
   {
    "duration": 6,
    "start_time": "2023-02-26T10:54:50.185Z"
   },
   {
    "duration": 11,
    "start_time": "2023-02-26T10:55:02.949Z"
   },
   {
    "duration": 6,
    "start_time": "2023-02-26T10:55:09.426Z"
   },
   {
    "duration": 6,
    "start_time": "2023-02-26T10:55:16.314Z"
   },
   {
    "duration": 11,
    "start_time": "2023-02-26T10:55:27.252Z"
   },
   {
    "duration": 5,
    "start_time": "2023-02-26T10:56:48.661Z"
   },
   {
    "duration": 15,
    "start_time": "2023-02-26T10:58:24.181Z"
   },
   {
    "duration": 4,
    "start_time": "2023-02-26T10:58:40.327Z"
   },
   {
    "duration": 6,
    "start_time": "2023-02-26T10:59:00.741Z"
   },
   {
    "duration": 50,
    "start_time": "2023-02-26T10:59:39.603Z"
   },
   {
    "duration": 6,
    "start_time": "2023-02-26T10:59:43.763Z"
   },
   {
    "duration": 6,
    "start_time": "2023-02-26T10:59:48.678Z"
   },
   {
    "duration": 13,
    "start_time": "2023-02-26T11:00:15.815Z"
   },
   {
    "duration": 614,
    "start_time": "2023-02-26T11:53:09.639Z"
   },
   {
    "duration": 17,
    "start_time": "2023-02-26T11:53:44.941Z"
   },
   {
    "duration": 58,
    "start_time": "2023-02-26T11:53:50.283Z"
   },
   {
    "duration": 505,
    "start_time": "2023-02-26T11:53:53.356Z"
   },
   {
    "duration": 505,
    "start_time": "2023-02-26T11:54:19.250Z"
   },
   {
    "duration": 21,
    "start_time": "2023-02-26T11:54:23.350Z"
   },
   {
    "duration": 547,
    "start_time": "2023-02-26T11:54:32.179Z"
   },
   {
    "duration": 17,
    "start_time": "2023-02-26T11:56:24.024Z"
   },
   {
    "duration": 78,
    "start_time": "2023-02-26T11:56:58.038Z"
   },
   {
    "duration": 503,
    "start_time": "2023-02-26T11:57:04.429Z"
   },
   {
    "duration": 442,
    "start_time": "2023-02-26T11:58:13.998Z"
   },
   {
    "duration": 25,
    "start_time": "2023-02-26T12:00:20.640Z"
   },
   {
    "duration": 9,
    "start_time": "2023-02-26T12:03:35.637Z"
   },
   {
    "duration": 6,
    "start_time": "2023-02-26T12:03:40.827Z"
   },
   {
    "duration": 45,
    "start_time": "2023-02-26T12:04:41.871Z"
   },
   {
    "duration": 29,
    "start_time": "2023-02-26T12:04:48.748Z"
   },
   {
    "duration": 10,
    "start_time": "2023-02-26T12:06:03.670Z"
   },
   {
    "duration": 7,
    "start_time": "2023-02-26T12:07:29.519Z"
   },
   {
    "duration": 7,
    "start_time": "2023-02-26T12:07:41.320Z"
   },
   {
    "duration": 9,
    "start_time": "2023-02-26T12:07:56.214Z"
   },
   {
    "duration": 10,
    "start_time": "2023-02-26T12:07:57.390Z"
   },
   {
    "duration": 20,
    "start_time": "2023-02-26T12:08:21.375Z"
   },
   {
    "duration": 8,
    "start_time": "2023-02-26T12:08:33.369Z"
   },
   {
    "duration": 8,
    "start_time": "2023-02-26T12:08:34.402Z"
   },
   {
    "duration": 11,
    "start_time": "2023-02-26T12:08:41.681Z"
   },
   {
    "duration": 8,
    "start_time": "2023-02-26T12:09:09.581Z"
   },
   {
    "duration": 7,
    "start_time": "2023-02-26T12:09:09.824Z"
   },
   {
    "duration": 11,
    "start_time": "2023-02-26T12:09:10.136Z"
   },
   {
    "duration": 7,
    "start_time": "2023-02-26T12:09:14.217Z"
   },
   {
    "duration": 10,
    "start_time": "2023-02-26T12:10:42.841Z"
   },
   {
    "duration": 8,
    "start_time": "2023-02-26T12:10:43.369Z"
   },
   {
    "duration": 9,
    "start_time": "2023-02-26T12:11:16.905Z"
   },
   {
    "duration": 7,
    "start_time": "2023-02-26T12:11:18.058Z"
   },
   {
    "duration": 187,
    "start_time": "2023-02-26T12:11:40.978Z"
   },
   {
    "duration": 168,
    "start_time": "2023-02-26T12:11:47.906Z"
   },
   {
    "duration": 177,
    "start_time": "2023-02-26T12:12:06.899Z"
   },
   {
    "duration": 45,
    "start_time": "2023-02-26T12:12:54.275Z"
   },
   {
    "duration": 75,
    "start_time": "2023-02-26T12:13:14.443Z"
   },
   {
    "duration": 46,
    "start_time": "2023-02-26T12:13:20.508Z"
   },
   {
    "duration": 8,
    "start_time": "2023-02-26T12:13:28.444Z"
   },
   {
    "duration": 7,
    "start_time": "2023-02-26T12:13:30.171Z"
   },
   {
    "duration": 292,
    "start_time": "2023-02-26T12:13:33.277Z"
   },
   {
    "duration": 7,
    "start_time": "2023-02-26T12:21:44.116Z"
   },
   {
    "duration": 8,
    "start_time": "2023-02-26T12:21:44.475Z"
   },
   {
    "duration": 10,
    "start_time": "2023-02-26T12:21:48.549Z"
   },
   {
    "duration": 10,
    "start_time": "2023-02-26T12:21:48.947Z"
   },
   {
    "duration": 11,
    "start_time": "2023-02-26T12:21:57.787Z"
   },
   {
    "duration": 8,
    "start_time": "2023-02-26T12:22:03.332Z"
   },
   {
    "duration": 8,
    "start_time": "2023-02-26T12:22:03.659Z"
   },
   {
    "duration": 148,
    "start_time": "2023-02-26T12:22:47.501Z"
   },
   {
    "duration": 176,
    "start_time": "2023-02-26T12:24:10.142Z"
   },
   {
    "duration": 184,
    "start_time": "2023-02-26T12:24:28.154Z"
   },
   {
    "duration": 4,
    "start_time": "2023-02-26T12:29:51.557Z"
   },
   {
    "duration": 5,
    "start_time": "2023-02-26T12:29:54.523Z"
   },
   {
    "duration": 756,
    "start_time": "2023-02-26T12:30:07.828Z"
   },
   {
    "duration": 6,
    "start_time": "2023-02-26T12:30:17.790Z"
   },
   {
    "duration": 6,
    "start_time": "2023-02-26T12:30:31.799Z"
   },
   {
    "duration": 20,
    "start_time": "2023-02-26T12:31:36.197Z"
   },
   {
    "duration": 14,
    "start_time": "2023-02-26T12:32:22.190Z"
   },
   {
    "duration": 5,
    "start_time": "2023-02-26T12:32:26.151Z"
   },
   {
    "duration": 6,
    "start_time": "2023-02-26T12:32:47.234Z"
   },
   {
    "duration": 11,
    "start_time": "2023-02-26T12:33:06.960Z"
   },
   {
    "duration": 9,
    "start_time": "2023-02-26T12:33:29.865Z"
   },
   {
    "duration": 40,
    "start_time": "2023-02-26T12:47:27.342Z"
   },
   {
    "duration": 1405,
    "start_time": "2023-02-26T16:01:29.567Z"
   },
   {
    "duration": 113,
    "start_time": "2023-02-26T16:01:30.974Z"
   },
   {
    "duration": 22,
    "start_time": "2023-02-26T16:01:31.088Z"
   },
   {
    "duration": 43,
    "start_time": "2023-02-26T16:01:31.112Z"
   },
   {
    "duration": 20,
    "start_time": "2023-02-26T16:01:31.156Z"
   },
   {
    "duration": 30,
    "start_time": "2023-02-26T16:01:31.177Z"
   },
   {
    "duration": 26,
    "start_time": "2023-02-26T16:01:31.209Z"
   },
   {
    "duration": 17,
    "start_time": "2023-02-26T16:01:31.236Z"
   },
   {
    "duration": 224,
    "start_time": "2023-02-26T16:01:31.255Z"
   },
   {
    "duration": 6,
    "start_time": "2023-02-26T16:01:31.483Z"
   },
   {
    "duration": 36,
    "start_time": "2023-02-26T16:01:31.491Z"
   },
   {
    "duration": 3010,
    "start_time": "2023-02-26T16:01:31.529Z"
   },
   {
    "duration": 7,
    "start_time": "2023-02-26T16:01:34.541Z"
   },
   {
    "duration": 19,
    "start_time": "2023-02-26T16:01:34.550Z"
   },
   {
    "duration": 23,
    "start_time": "2023-02-26T16:01:34.571Z"
   },
   {
    "duration": 4,
    "start_time": "2023-02-26T16:01:34.596Z"
   },
   {
    "duration": 3,
    "start_time": "2023-02-26T16:01:34.626Z"
   },
   {
    "duration": 416,
    "start_time": "2023-02-26T16:01:34.631Z"
   },
   {
    "duration": 6,
    "start_time": "2023-02-26T16:01:35.050Z"
   },
   {
    "duration": 1844,
    "start_time": "2023-02-26T16:01:35.058Z"
   },
   {
    "duration": 34,
    "start_time": "2023-02-26T16:01:36.903Z"
   },
   {
    "duration": 11,
    "start_time": "2023-02-26T16:01:36.939Z"
   },
   {
    "duration": 211,
    "start_time": "2023-02-26T16:01:36.952Z"
   },
   {
    "duration": 8,
    "start_time": "2023-02-26T16:01:37.165Z"
   },
   {
    "duration": 9,
    "start_time": "2023-02-26T16:01:37.174Z"
   },
   {
    "duration": 7,
    "start_time": "2023-02-26T16:01:37.185Z"
   },
   {
    "duration": 325,
    "start_time": "2023-02-26T16:01:37.193Z"
   },
   {
    "duration": 267,
    "start_time": "2023-02-26T16:01:37.526Z"
   },
   {
    "duration": 5,
    "start_time": "2023-02-26T16:01:37.795Z"
   },
   {
    "duration": 37,
    "start_time": "2023-02-26T16:01:37.802Z"
   },
   {
    "duration": 9,
    "start_time": "2023-02-26T16:01:37.840Z"
   },
   {
    "duration": 16,
    "start_time": "2023-02-26T16:01:37.850Z"
   },
   {
    "duration": 491,
    "start_time": "2023-02-26T16:01:37.867Z"
   },
   {
    "duration": 15,
    "start_time": "2023-02-26T16:01:38.359Z"
   },
   {
    "duration": 4,
    "start_time": "2023-02-26T16:01:38.376Z"
   },
   {
    "duration": 11,
    "start_time": "2023-02-26T16:01:38.382Z"
   },
   {
    "duration": 40,
    "start_time": "2023-02-26T16:01:38.395Z"
   },
   {
    "duration": 88,
    "start_time": "2023-02-26T16:01:38.436Z"
   },
   {
    "duration": 22,
    "start_time": "2023-02-26T16:01:38.525Z"
   },
   {
    "duration": 212,
    "start_time": "2023-02-26T16:01:38.548Z"
   },
   {
    "duration": 183,
    "start_time": "2023-02-26T16:01:38.762Z"
   },
   {
    "duration": 171,
    "start_time": "2023-02-26T16:01:38.947Z"
   },
   {
    "duration": 0,
    "start_time": "2023-02-26T16:01:39.119Z"
   },
   {
    "duration": 0,
    "start_time": "2023-02-26T16:01:39.121Z"
   },
   {
    "duration": 0,
    "start_time": "2023-02-26T16:01:39.121Z"
   },
   {
    "duration": 0,
    "start_time": "2023-02-26T16:01:39.128Z"
   },
   {
    "duration": 0,
    "start_time": "2023-02-26T16:01:39.129Z"
   },
   {
    "duration": 0,
    "start_time": "2023-02-26T16:01:39.130Z"
   },
   {
    "duration": 0,
    "start_time": "2023-02-26T16:01:39.131Z"
   },
   {
    "duration": 0,
    "start_time": "2023-02-26T16:01:39.132Z"
   },
   {
    "duration": 20,
    "start_time": "2023-02-26T16:05:09.190Z"
   },
   {
    "duration": 9,
    "start_time": "2023-02-26T16:05:13.108Z"
   },
   {
    "duration": 368,
    "start_time": "2023-02-26T16:09:32.457Z"
   },
   {
    "duration": 331,
    "start_time": "2023-02-26T16:11:25.508Z"
   },
   {
    "duration": 432,
    "start_time": "2023-02-26T16:11:38.834Z"
   },
   {
    "duration": 420,
    "start_time": "2023-02-26T16:12:46.954Z"
   },
   {
    "duration": 645,
    "start_time": "2023-02-26T16:13:01.388Z"
   },
   {
    "duration": 380,
    "start_time": "2023-02-26T16:13:50.730Z"
   },
   {
    "duration": 369,
    "start_time": "2023-02-26T16:13:58.276Z"
   },
   {
    "duration": 350,
    "start_time": "2023-02-26T16:14:59.555Z"
   },
   {
    "duration": 350,
    "start_time": "2023-02-26T16:15:25.646Z"
   },
   {
    "duration": 351,
    "start_time": "2023-02-26T16:16:50.916Z"
   },
   {
    "duration": 374,
    "start_time": "2023-02-26T16:17:26.879Z"
   },
   {
    "duration": 451,
    "start_time": "2023-02-26T16:17:45.822Z"
   },
   {
    "duration": 354,
    "start_time": "2023-02-26T16:17:52.354Z"
   },
   {
    "duration": 683,
    "start_time": "2023-02-26T16:41:48.800Z"
   },
   {
    "duration": 773,
    "start_time": "2023-02-26T16:41:55.877Z"
   },
   {
    "duration": 19,
    "start_time": "2023-02-26T16:42:00.820Z"
   },
   {
    "duration": 8,
    "start_time": "2023-02-26T16:42:01.284Z"
   },
   {
    "duration": 697,
    "start_time": "2023-02-26T16:42:04.825Z"
   },
   {
    "duration": 6,
    "start_time": "2023-02-26T16:42:40.301Z"
   },
   {
    "duration": 52,
    "start_time": "2023-02-26T16:43:20.121Z"
   },
   {
    "duration": 7,
    "start_time": "2023-02-26T16:43:22.813Z"
   },
   {
    "duration": 12,
    "start_time": "2023-02-26T16:43:48.374Z"
   },
   {
    "duration": 6,
    "start_time": "2023-02-26T16:44:01.849Z"
   },
   {
    "duration": 11,
    "start_time": "2023-02-26T16:44:08.009Z"
   },
   {
    "duration": 6,
    "start_time": "2023-02-26T16:44:11.376Z"
   },
   {
    "duration": 753,
    "start_time": "2023-02-26T16:44:22.366Z"
   },
   {
    "duration": 12,
    "start_time": "2023-02-26T16:44:27.895Z"
   },
   {
    "duration": 11,
    "start_time": "2023-02-26T16:44:32.329Z"
   },
   {
    "duration": 43,
    "start_time": "2023-02-26T16:45:49.400Z"
   },
   {
    "duration": 10,
    "start_time": "2023-02-26T16:45:52.167Z"
   },
   {
    "duration": 5,
    "start_time": "2023-02-26T16:46:09.227Z"
   },
   {
    "duration": 736,
    "start_time": "2023-02-26T16:46:44.844Z"
   },
   {
    "duration": 12,
    "start_time": "2023-02-26T16:46:53.076Z"
   },
   {
    "duration": 5,
    "start_time": "2023-02-26T16:47:48.415Z"
   },
   {
    "duration": 9,
    "start_time": "2023-02-26T16:47:58.365Z"
   },
   {
    "duration": 56,
    "start_time": "2023-02-26T16:51:11.837Z"
   },
   {
    "duration": 76,
    "start_time": "2023-02-26T16:52:55.750Z"
   },
   {
    "duration": 44,
    "start_time": "2023-02-26T16:53:21.630Z"
   },
   {
    "duration": 47,
    "start_time": "2023-02-26T16:54:13.799Z"
   },
   {
    "duration": 4,
    "start_time": "2023-02-26T16:54:28.159Z"
   },
   {
    "duration": 15,
    "start_time": "2023-02-26T16:55:21.364Z"
   },
   {
    "duration": 15,
    "start_time": "2023-02-26T16:55:54.560Z"
   },
   {
    "duration": 14,
    "start_time": "2023-02-26T16:56:18.352Z"
   },
   {
    "duration": 53,
    "start_time": "2023-02-26T16:57:40.620Z"
   },
   {
    "duration": 14,
    "start_time": "2023-02-26T16:57:48.994Z"
   },
   {
    "duration": 9,
    "start_time": "2023-02-26T16:59:47.562Z"
   },
   {
    "duration": 8,
    "start_time": "2023-02-26T17:00:00.155Z"
   },
   {
    "duration": 15,
    "start_time": "2023-02-26T17:00:18.055Z"
   },
   {
    "duration": 88,
    "start_time": "2023-02-26T17:06:22.706Z"
   },
   {
    "duration": 78,
    "start_time": "2023-02-26T17:39:54.794Z"
   },
   {
    "duration": 6,
    "start_time": "2023-02-26T17:41:45.733Z"
   },
   {
    "duration": 5,
    "start_time": "2023-02-26T17:47:57.377Z"
   },
   {
    "duration": 5,
    "start_time": "2023-02-26T17:48:03.377Z"
   },
   {
    "duration": 6,
    "start_time": "2023-02-26T17:48:08.417Z"
   },
   {
    "duration": 6,
    "start_time": "2023-02-26T17:48:19.738Z"
   },
   {
    "duration": 19,
    "start_time": "2023-02-26T17:48:37.498Z"
   },
   {
    "duration": 59,
    "start_time": "2023-02-26T17:48:54.307Z"
   },
   {
    "duration": 56,
    "start_time": "2023-02-26T17:50:48.216Z"
   },
   {
    "duration": 51,
    "start_time": "2023-02-26T17:50:55.035Z"
   },
   {
    "duration": 206,
    "start_time": "2023-02-26T17:53:04.578Z"
   },
   {
    "duration": 205,
    "start_time": "2023-02-26T17:53:14.298Z"
   },
   {
    "duration": 156,
    "start_time": "2023-02-26T17:53:34.058Z"
   },
   {
    "duration": 4,
    "start_time": "2023-02-26T17:53:47.923Z"
   },
   {
    "duration": 210,
    "start_time": "2023-02-26T17:54:19.054Z"
   },
   {
    "duration": 198,
    "start_time": "2023-02-26T17:55:48.952Z"
   },
   {
    "duration": 4,
    "start_time": "2023-02-26T17:56:56.357Z"
   },
   {
    "duration": 204,
    "start_time": "2023-02-26T17:56:56.822Z"
   },
   {
    "duration": 6,
    "start_time": "2023-02-26T17:57:06.558Z"
   },
   {
    "duration": 208,
    "start_time": "2023-02-26T17:57:07.149Z"
   },
   {
    "duration": 5,
    "start_time": "2023-02-26T18:01:14.353Z"
   },
   {
    "duration": 5,
    "start_time": "2023-02-26T18:02:56.912Z"
   },
   {
    "duration": 231,
    "start_time": "2023-02-26T18:02:58.594Z"
   },
   {
    "duration": 5,
    "start_time": "2023-02-26T18:03:02.425Z"
   },
   {
    "duration": 6,
    "start_time": "2023-02-26T18:03:16.897Z"
   },
   {
    "duration": 6,
    "start_time": "2023-02-26T18:03:24.722Z"
   },
   {
    "duration": 15,
    "start_time": "2023-02-26T18:04:47.740Z"
   },
   {
    "duration": 9,
    "start_time": "2023-02-26T18:05:10.835Z"
   },
   {
    "duration": 159,
    "start_time": "2023-02-26T18:05:11.828Z"
   },
   {
    "duration": 8,
    "start_time": "2023-02-26T18:05:21.408Z"
   },
   {
    "duration": 8,
    "start_time": "2023-02-26T18:05:36.317Z"
   },
   {
    "duration": 11,
    "start_time": "2023-02-26T18:05:36.940Z"
   },
   {
    "duration": 6,
    "start_time": "2023-02-26T18:05:56.676Z"
   },
   {
    "duration": 5,
    "start_time": "2023-02-26T18:05:56.892Z"
   },
   {
    "duration": 331,
    "start_time": "2023-02-26T18:05:58.445Z"
   },
   {
    "duration": 6,
    "start_time": "2023-02-26T18:06:00.621Z"
   },
   {
    "duration": 6,
    "start_time": "2023-02-26T18:08:07.030Z"
   },
   {
    "duration": 7,
    "start_time": "2023-02-26T18:10:07.752Z"
   },
   {
    "duration": 5,
    "start_time": "2023-02-26T18:12:15.890Z"
   },
   {
    "duration": 5,
    "start_time": "2023-02-26T18:13:13.755Z"
   },
   {
    "duration": 6,
    "start_time": "2023-02-26T18:13:42.701Z"
   },
   {
    "duration": 7,
    "start_time": "2023-02-26T18:13:43.036Z"
   },
   {
    "duration": 11,
    "start_time": "2023-02-26T18:13:47.755Z"
   },
   {
    "duration": 50,
    "start_time": "2023-02-26T18:14:53.740Z"
   },
   {
    "duration": 74,
    "start_time": "2023-02-26T18:15:08.477Z"
   },
   {
    "duration": 1380,
    "start_time": "2023-02-27T12:05:41.757Z"
   },
   {
    "duration": 115,
    "start_time": "2023-02-27T12:05:43.139Z"
   },
   {
    "duration": 21,
    "start_time": "2023-02-27T12:05:43.256Z"
   },
   {
    "duration": 14,
    "start_time": "2023-02-27T12:05:43.279Z"
   },
   {
    "duration": 19,
    "start_time": "2023-02-27T12:05:43.295Z"
   },
   {
    "duration": 21,
    "start_time": "2023-02-27T12:05:43.316Z"
   },
   {
    "duration": 23,
    "start_time": "2023-02-27T12:05:43.338Z"
   },
   {
    "duration": 5,
    "start_time": "2023-02-27T12:05:43.363Z"
   },
   {
    "duration": 230,
    "start_time": "2023-02-27T12:05:43.369Z"
   },
   {
    "duration": 7,
    "start_time": "2023-02-27T12:05:43.601Z"
   },
   {
    "duration": 33,
    "start_time": "2023-02-27T12:05:43.609Z"
   },
   {
    "duration": 2994,
    "start_time": "2023-02-27T12:05:43.644Z"
   },
   {
    "duration": 7,
    "start_time": "2023-02-27T12:05:46.639Z"
   },
   {
    "duration": 41,
    "start_time": "2023-02-27T12:05:46.648Z"
   },
   {
    "duration": 21,
    "start_time": "2023-02-27T12:05:46.691Z"
   },
   {
    "duration": 3,
    "start_time": "2023-02-27T12:05:46.714Z"
   },
   {
    "duration": 12,
    "start_time": "2023-02-27T12:05:46.718Z"
   },
   {
    "duration": 400,
    "start_time": "2023-02-27T12:05:46.731Z"
   },
   {
    "duration": 5,
    "start_time": "2023-02-27T12:05:47.133Z"
   },
   {
    "duration": 893,
    "start_time": "2023-02-27T12:05:47.140Z"
   },
   {
    "duration": 13,
    "start_time": "2023-02-27T12:05:48.034Z"
   },
   {
    "duration": 15,
    "start_time": "2023-02-27T12:05:48.049Z"
   },
   {
    "duration": 203,
    "start_time": "2023-02-27T12:05:48.066Z"
   },
   {
    "duration": 8,
    "start_time": "2023-02-27T12:05:48.270Z"
   },
   {
    "duration": 22,
    "start_time": "2023-02-27T12:05:48.280Z"
   },
   {
    "duration": 11,
    "start_time": "2023-02-27T12:05:48.304Z"
   },
   {
    "duration": 296,
    "start_time": "2023-02-27T12:05:48.317Z"
   },
   {
    "duration": 255,
    "start_time": "2023-02-27T12:05:48.616Z"
   },
   {
    "duration": 22,
    "start_time": "2023-02-27T12:05:48.872Z"
   },
   {
    "duration": 9,
    "start_time": "2023-02-27T12:05:48.895Z"
   },
   {
    "duration": 161,
    "start_time": "2023-02-27T12:05:48.906Z"
   },
   {
    "duration": 0,
    "start_time": "2023-02-27T12:05:49.068Z"
   },
   {
    "duration": 0,
    "start_time": "2023-02-27T12:05:49.069Z"
   },
   {
    "duration": 0,
    "start_time": "2023-02-27T12:05:49.070Z"
   },
   {
    "duration": 0,
    "start_time": "2023-02-27T12:05:49.071Z"
   },
   {
    "duration": 0,
    "start_time": "2023-02-27T12:05:49.072Z"
   },
   {
    "duration": 0,
    "start_time": "2023-02-27T12:05:49.074Z"
   },
   {
    "duration": 0,
    "start_time": "2023-02-27T12:05:49.075Z"
   },
   {
    "duration": 0,
    "start_time": "2023-02-27T12:05:49.076Z"
   },
   {
    "duration": 0,
    "start_time": "2023-02-27T12:05:49.076Z"
   },
   {
    "duration": 0,
    "start_time": "2023-02-27T12:05:49.078Z"
   },
   {
    "duration": 0,
    "start_time": "2023-02-27T12:05:49.078Z"
   },
   {
    "duration": 0,
    "start_time": "2023-02-27T12:05:49.079Z"
   },
   {
    "duration": 0,
    "start_time": "2023-02-27T12:05:49.080Z"
   },
   {
    "duration": 0,
    "start_time": "2023-02-27T12:05:49.081Z"
   },
   {
    "duration": 0,
    "start_time": "2023-02-27T12:05:49.083Z"
   },
   {
    "duration": 0,
    "start_time": "2023-02-27T12:05:49.084Z"
   },
   {
    "duration": 0,
    "start_time": "2023-02-27T12:05:49.085Z"
   },
   {
    "duration": 0,
    "start_time": "2023-02-27T12:05:49.086Z"
   },
   {
    "duration": 0,
    "start_time": "2023-02-27T12:05:49.087Z"
   },
   {
    "duration": 0,
    "start_time": "2023-02-27T12:05:49.088Z"
   },
   {
    "duration": 13,
    "start_time": "2023-02-27T12:06:53.931Z"
   },
   {
    "duration": 9,
    "start_time": "2023-02-27T12:06:58.335Z"
   },
   {
    "duration": 10,
    "start_time": "2023-02-27T12:07:02.070Z"
   },
   {
    "duration": 365,
    "start_time": "2023-02-27T12:07:08.598Z"
   },
   {
    "duration": 13,
    "start_time": "2023-02-27T12:07:20.974Z"
   },
   {
    "duration": 12,
    "start_time": "2023-02-27T12:07:21.342Z"
   },
   {
    "duration": 75,
    "start_time": "2023-02-27T12:07:23.400Z"
   },
   {
    "duration": 5,
    "start_time": "2023-02-27T12:07:27.863Z"
   },
   {
    "duration": 6,
    "start_time": "2023-02-27T12:07:29.300Z"
   },
   {
    "duration": 301,
    "start_time": "2023-02-27T12:07:31.118Z"
   },
   {
    "duration": 4,
    "start_time": "2023-02-27T12:07:35.159Z"
   },
   {
    "duration": 7,
    "start_time": "2023-02-27T12:09:06.207Z"
   },
   {
    "duration": 15,
    "start_time": "2023-02-27T12:11:34.522Z"
   },
   {
    "duration": 9,
    "start_time": "2023-02-27T12:11:40.387Z"
   },
   {
    "duration": 6,
    "start_time": "2023-02-27T12:11:40.787Z"
   },
   {
    "duration": 12,
    "start_time": "2023-02-27T12:11:41.218Z"
   },
   {
    "duration": 74,
    "start_time": "2023-02-27T12:12:32.421Z"
   },
   {
    "duration": 11,
    "start_time": "2023-02-27T12:16:19.192Z"
   },
   {
    "duration": 38,
    "start_time": "2023-02-27T12:18:22.272Z"
   },
   {
    "duration": 4,
    "start_time": "2023-02-27T12:18:27.227Z"
   },
   {
    "duration": 175,
    "start_time": "2023-02-27T12:18:36.481Z"
   },
   {
    "duration": 29,
    "start_time": "2023-02-27T12:19:01.596Z"
   },
   {
    "duration": 219,
    "start_time": "2023-02-27T12:19:23.195Z"
   },
   {
    "duration": 107,
    "start_time": "2023-02-27T12:20:23.261Z"
   },
   {
    "duration": 107,
    "start_time": "2023-02-27T12:22:17.897Z"
   },
   {
    "duration": 9292,
    "start_time": "2023-02-27T12:27:52.296Z"
   },
   {
    "duration": 5,
    "start_time": "2023-02-27T12:28:52.240Z"
   },
   {
    "duration": 9704,
    "start_time": "2023-02-27T12:29:28.506Z"
   },
   {
    "duration": 9112,
    "start_time": "2023-02-27T12:29:43.447Z"
   },
   {
    "duration": 52,
    "start_time": "2023-02-27T12:54:22.850Z"
   },
   {
    "duration": 39,
    "start_time": "2023-02-27T12:56:09.356Z"
   },
   {
    "duration": 18,
    "start_time": "2023-02-27T12:56:15.653Z"
   },
   {
    "duration": 15,
    "start_time": "2023-02-27T12:56:21.994Z"
   },
   {
    "duration": 12,
    "start_time": "2023-02-27T12:56:26.429Z"
   },
   {
    "duration": 18,
    "start_time": "2023-02-27T12:56:56.710Z"
   },
   {
    "duration": 19,
    "start_time": "2023-02-27T12:57:08.055Z"
   },
   {
    "duration": 20,
    "start_time": "2023-02-27T12:57:30.388Z"
   },
   {
    "duration": 16,
    "start_time": "2023-02-27T12:57:30.649Z"
   },
   {
    "duration": 101,
    "start_time": "2023-02-27T12:57:34.006Z"
   },
   {
    "duration": 16,
    "start_time": "2023-02-27T13:00:41.409Z"
   },
   {
    "duration": 13,
    "start_time": "2023-02-27T13:00:41.780Z"
   },
   {
    "duration": 9,
    "start_time": "2023-02-27T13:00:58.937Z"
   },
   {
    "duration": 13,
    "start_time": "2023-02-27T13:03:39.788Z"
   },
   {
    "duration": 13,
    "start_time": "2023-02-27T13:03:43.115Z"
   },
   {
    "duration": 8,
    "start_time": "2023-02-27T13:03:51.780Z"
   },
   {
    "duration": 19,
    "start_time": "2023-02-27T13:03:55.452Z"
   },
   {
    "duration": 19,
    "start_time": "2023-02-27T13:04:10.186Z"
   },
   {
    "duration": 14,
    "start_time": "2023-02-27T13:04:17.868Z"
   },
   {
    "duration": 14,
    "start_time": "2023-02-27T13:05:18.684Z"
   },
   {
    "duration": 30,
    "start_time": "2023-02-27T13:05:49.806Z"
   },
   {
    "duration": 5,
    "start_time": "2023-02-27T13:06:04.392Z"
   },
   {
    "duration": 10,
    "start_time": "2023-02-27T13:06:12.599Z"
   },
   {
    "duration": 6,
    "start_time": "2023-02-27T13:06:30.391Z"
   },
   {
    "duration": 13,
    "start_time": "2023-02-27T13:06:36.710Z"
   },
   {
    "duration": 16,
    "start_time": "2023-02-27T13:06:45.390Z"
   },
   {
    "duration": 27,
    "start_time": "2023-02-27T13:10:12.595Z"
   },
   {
    "duration": 12,
    "start_time": "2023-02-27T13:10:32.298Z"
   },
   {
    "duration": 11,
    "start_time": "2023-02-27T13:10:37.985Z"
   },
   {
    "duration": 72,
    "start_time": "2023-02-27T13:10:50.281Z"
   },
   {
    "duration": 13,
    "start_time": "2023-02-27T13:11:33.062Z"
   },
   {
    "duration": 14,
    "start_time": "2023-02-27T13:13:38.503Z"
   },
   {
    "duration": 12,
    "start_time": "2023-02-27T13:13:39.223Z"
   },
   {
    "duration": 76,
    "start_time": "2023-02-27T13:13:41.684Z"
   },
   {
    "duration": 13,
    "start_time": "2023-02-27T13:14:16.424Z"
   },
   {
    "duration": 74,
    "start_time": "2023-02-27T13:14:25.177Z"
   },
   {
    "duration": 74,
    "start_time": "2023-02-27T13:14:42.231Z"
   },
   {
    "duration": 769,
    "start_time": "2023-02-27T13:16:42.586Z"
   },
   {
    "duration": 724,
    "start_time": "2023-02-27T13:17:00.825Z"
   },
   {
    "duration": 586,
    "start_time": "2023-02-27T13:17:07.304Z"
   },
   {
    "duration": 5,
    "start_time": "2023-02-27T13:17:26.255Z"
   },
   {
    "duration": 18,
    "start_time": "2023-02-27T13:17:46.492Z"
   },
   {
    "duration": 14,
    "start_time": "2023-02-27T13:18:11.886Z"
   },
   {
    "duration": 14,
    "start_time": "2023-02-27T13:18:20.659Z"
   },
   {
    "duration": 12,
    "start_time": "2023-02-27T13:18:21.139Z"
   },
   {
    "duration": 11,
    "start_time": "2023-02-27T13:18:21.530Z"
   },
   {
    "duration": 75,
    "start_time": "2023-02-27T13:18:22.933Z"
   },
   {
    "duration": 4,
    "start_time": "2023-02-27T13:18:33.192Z"
   },
   {
    "duration": 6,
    "start_time": "2023-02-27T13:19:41.195Z"
   },
   {
    "duration": 9,
    "start_time": "2023-02-27T13:19:55.611Z"
   },
   {
    "duration": 7,
    "start_time": "2023-02-27T13:22:51.890Z"
   },
   {
    "duration": 5,
    "start_time": "2023-02-27T13:22:52.224Z"
   },
   {
    "duration": 12,
    "start_time": "2023-02-27T13:22:52.906Z"
   },
   {
    "duration": 80,
    "start_time": "2023-02-27T13:22:55.502Z"
   },
   {
    "duration": 6,
    "start_time": "2023-02-27T13:23:09.644Z"
   },
   {
    "duration": 12,
    "start_time": "2023-02-27T13:23:09.823Z"
   },
   {
    "duration": 85,
    "start_time": "2023-02-27T13:23:10.210Z"
   },
   {
    "duration": 15,
    "start_time": "2023-02-27T14:15:04.570Z"
   },
   {
    "duration": 16,
    "start_time": "2023-02-27T14:15:06.523Z"
   },
   {
    "duration": 13,
    "start_time": "2023-02-27T14:15:27.908Z"
   },
   {
    "duration": 708,
    "start_time": "2023-02-27T14:15:40.123Z"
   },
   {
    "duration": 20,
    "start_time": "2023-02-27T14:15:47.236Z"
   },
   {
    "duration": 17,
    "start_time": "2023-02-27T14:15:51.485Z"
   },
   {
    "duration": 17,
    "start_time": "2023-02-27T14:15:52.316Z"
   },
   {
    "duration": 818,
    "start_time": "2023-02-27T14:16:06.405Z"
   },
   {
    "duration": 52,
    "start_time": "2023-02-27T14:17:07.390Z"
   },
   {
    "duration": 44,
    "start_time": "2023-02-27T14:17:12.755Z"
   },
   {
    "duration": 12,
    "start_time": "2023-02-27T14:17:27.206Z"
   },
   {
    "duration": 6,
    "start_time": "2023-02-27T14:17:36.364Z"
   },
   {
    "duration": 687,
    "start_time": "2023-02-27T14:18:04.678Z"
   },
   {
    "duration": 12,
    "start_time": "2023-02-27T14:18:16.421Z"
   },
   {
    "duration": 10,
    "start_time": "2023-02-27T14:18:42.063Z"
   },
   {
    "duration": 22,
    "start_time": "2023-02-27T14:18:46.711Z"
   },
   {
    "duration": 16,
    "start_time": "2023-02-27T14:18:54.632Z"
   },
   {
    "duration": 21,
    "start_time": "2023-02-27T14:18:55.071Z"
   },
   {
    "duration": 92,
    "start_time": "2023-02-27T14:18:57.277Z"
   },
   {
    "duration": 5,
    "start_time": "2023-02-27T14:19:30.486Z"
   },
   {
    "duration": 754,
    "start_time": "2023-02-27T14:19:44.555Z"
   },
   {
    "duration": 16,
    "start_time": "2023-02-27T14:19:53.059Z"
   },
   {
    "duration": 16,
    "start_time": "2023-02-27T14:20:22.382Z"
   },
   {
    "duration": 11,
    "start_time": "2023-02-27T14:20:28.320Z"
   },
   {
    "duration": 10,
    "start_time": "2023-02-27T14:21:51.858Z"
   },
   {
    "duration": 72,
    "start_time": "2023-02-27T14:24:13.900Z"
   },
   {
    "duration": 3,
    "start_time": "2023-02-27T14:25:21.806Z"
   },
   {
    "duration": 44,
    "start_time": "2023-02-27T14:25:22.293Z"
   },
   {
    "duration": 8,
    "start_time": "2023-02-27T14:25:43.440Z"
   },
   {
    "duration": 9,
    "start_time": "2023-02-27T14:26:25.511Z"
   },
   {
    "duration": 14,
    "start_time": "2023-02-27T14:26:28.951Z"
   },
   {
    "duration": 44,
    "start_time": "2023-02-27T14:26:42.510Z"
   },
   {
    "duration": 55,
    "start_time": "2023-02-27T14:26:52.935Z"
   },
   {
    "duration": 29,
    "start_time": "2023-02-27T14:27:02.093Z"
   },
   {
    "duration": 40,
    "start_time": "2023-02-27T14:27:07.879Z"
   },
   {
    "duration": 492,
    "start_time": "2023-02-27T14:27:10.361Z"
   },
   {
    "duration": 41,
    "start_time": "2023-02-27T14:28:31.398Z"
   },
   {
    "duration": 452,
    "start_time": "2023-02-27T14:28:32.067Z"
   },
   {
    "duration": 17,
    "start_time": "2023-02-27T14:31:28.236Z"
   },
   {
    "duration": 25,
    "start_time": "2023-02-27T14:31:46.724Z"
   },
   {
    "duration": 376,
    "start_time": "2023-02-27T14:32:47.062Z"
   },
   {
    "duration": 12,
    "start_time": "2023-02-27T14:34:23.062Z"
   },
   {
    "duration": 14,
    "start_time": "2023-02-27T14:34:27.622Z"
   },
   {
    "duration": 365,
    "start_time": "2023-02-27T14:35:21.250Z"
   },
   {
    "duration": 462,
    "start_time": "2023-02-27T14:38:30.354Z"
   },
   {
    "duration": 375,
    "start_time": "2023-02-27T14:38:39.523Z"
   },
   {
    "duration": 397,
    "start_time": "2023-02-27T14:38:48.379Z"
   },
   {
    "duration": 48,
    "start_time": "2023-02-27T14:44:25.323Z"
   },
   {
    "duration": 898,
    "start_time": "2023-02-27T14:45:00.624Z"
   },
   {
    "duration": 0,
    "start_time": "2023-02-27T14:45:01.524Z"
   },
   {
    "duration": 24,
    "start_time": "2023-02-27T14:45:03.273Z"
   },
   {
    "duration": 15,
    "start_time": "2023-02-27T14:45:10.322Z"
   },
   {
    "duration": 14,
    "start_time": "2023-02-27T14:45:11.216Z"
   },
   {
    "duration": 26,
    "start_time": "2023-02-27T14:45:12.074Z"
   },
   {
    "duration": 11,
    "start_time": "2023-02-27T14:45:17.857Z"
   },
   {
    "duration": 14,
    "start_time": "2023-02-27T14:45:18.569Z"
   },
   {
    "duration": 414,
    "start_time": "2023-02-27T14:45:19.906Z"
   },
   {
    "duration": 26,
    "start_time": "2023-02-27T14:47:09.830Z"
   },
   {
    "duration": 19,
    "start_time": "2023-02-27T14:47:44.353Z"
   },
   {
    "duration": 20,
    "start_time": "2023-02-27T14:47:48.284Z"
   },
   {
    "duration": 7,
    "start_time": "2023-02-27T14:49:52.494Z"
   },
   {
    "duration": 44,
    "start_time": "2023-02-27T14:49:53.718Z"
   },
   {
    "duration": 13,
    "start_time": "2023-02-27T14:49:57.989Z"
   },
   {
    "duration": 9626,
    "start_time": "2023-02-27T14:50:36.367Z"
   },
   {
    "duration": 118,
    "start_time": "2023-02-27T14:50:52.624Z"
   },
   {
    "duration": 18,
    "start_time": "2023-02-27T14:51:39.215Z"
   },
   {
    "duration": 20,
    "start_time": "2023-02-27T14:51:52.330Z"
   },
   {
    "duration": 708,
    "start_time": "2023-02-27T14:52:30.955Z"
   },
   {
    "duration": 8,
    "start_time": "2023-02-27T14:53:49.253Z"
   },
   {
    "duration": 9,
    "start_time": "2023-02-27T14:54:14.970Z"
   },
   {
    "duration": 6,
    "start_time": "2023-02-27T14:54:22.035Z"
   },
   {
    "duration": 6,
    "start_time": "2023-02-27T14:54:36.115Z"
   },
   {
    "duration": 30,
    "start_time": "2023-02-27T14:54:36.802Z"
   },
   {
    "duration": 98,
    "start_time": "2023-02-27T14:54:37.124Z"
   },
   {
    "duration": 6,
    "start_time": "2023-02-27T14:54:37.760Z"
   },
   {
    "duration": 7,
    "start_time": "2023-02-27T14:55:24.036Z"
   },
   {
    "duration": 40,
    "start_time": "2023-02-27T14:55:24.653Z"
   },
   {
    "duration": 596,
    "start_time": "2023-02-27T14:55:26.269Z"
   },
   {
    "duration": 7,
    "start_time": "2023-02-27T14:55:27.684Z"
   },
   {
    "duration": 1899,
    "start_time": "2023-02-27T14:59:30.632Z"
   },
   {
    "duration": 64,
    "start_time": "2023-02-27T14:59:32.533Z"
   },
   {
    "duration": 20,
    "start_time": "2023-02-27T14:59:32.598Z"
   },
   {
    "duration": 14,
    "start_time": "2023-02-27T14:59:32.620Z"
   },
   {
    "duration": 14,
    "start_time": "2023-02-27T14:59:32.637Z"
   },
   {
    "duration": 37,
    "start_time": "2023-02-27T14:59:32.654Z"
   },
   {
    "duration": 41,
    "start_time": "2023-02-27T14:59:32.694Z"
   },
   {
    "duration": 5,
    "start_time": "2023-02-27T14:59:32.737Z"
   },
   {
    "duration": 226,
    "start_time": "2023-02-27T14:59:32.744Z"
   },
   {
    "duration": 9,
    "start_time": "2023-02-27T14:59:32.972Z"
   },
   {
    "duration": 30,
    "start_time": "2023-02-27T14:59:32.983Z"
   },
   {
    "duration": 3688,
    "start_time": "2023-02-27T14:59:33.015Z"
   },
   {
    "duration": 7,
    "start_time": "2023-02-27T14:59:36.704Z"
   },
   {
    "duration": 26,
    "start_time": "2023-02-27T14:59:36.714Z"
   },
   {
    "duration": 23,
    "start_time": "2023-02-27T14:59:36.742Z"
   },
   {
    "duration": 16,
    "start_time": "2023-02-27T14:59:36.768Z"
   },
   {
    "duration": 6,
    "start_time": "2023-02-27T14:59:36.786Z"
   },
   {
    "duration": 426,
    "start_time": "2023-02-27T14:59:36.793Z"
   },
   {
    "duration": 12,
    "start_time": "2023-02-27T14:59:37.220Z"
   },
   {
    "duration": 922,
    "start_time": "2023-02-27T14:59:37.235Z"
   },
   {
    "duration": 13,
    "start_time": "2023-02-27T14:59:38.159Z"
   },
   {
    "duration": 8,
    "start_time": "2023-02-27T14:59:38.174Z"
   },
   {
    "duration": 215,
    "start_time": "2023-02-27T14:59:38.183Z"
   },
   {
    "duration": 10,
    "start_time": "2023-02-27T14:59:38.399Z"
   },
   {
    "duration": 21,
    "start_time": "2023-02-27T14:59:38.410Z"
   },
   {
    "duration": 8,
    "start_time": "2023-02-27T14:59:38.433Z"
   },
   {
    "duration": 414,
    "start_time": "2023-02-27T14:59:38.443Z"
   },
   {
    "duration": 253,
    "start_time": "2023-02-27T14:59:38.859Z"
   },
   {
    "duration": 25,
    "start_time": "2023-02-27T14:59:39.114Z"
   },
   {
    "duration": 7,
    "start_time": "2023-02-27T14:59:39.141Z"
   },
   {
    "duration": 16,
    "start_time": "2023-02-27T14:59:39.150Z"
   },
   {
    "duration": 10,
    "start_time": "2023-02-27T14:59:39.167Z"
   },
   {
    "duration": 399,
    "start_time": "2023-02-27T14:59:39.178Z"
   },
   {
    "duration": 14,
    "start_time": "2023-02-27T14:59:39.578Z"
   },
   {
    "duration": 11,
    "start_time": "2023-02-27T14:59:39.593Z"
   },
   {
    "duration": 93,
    "start_time": "2023-02-27T14:59:39.606Z"
   },
   {
    "duration": 5,
    "start_time": "2023-02-27T14:59:39.700Z"
   },
   {
    "duration": 22,
    "start_time": "2023-02-27T14:59:39.706Z"
   },
   {
    "duration": 229,
    "start_time": "2023-02-27T14:59:39.729Z"
   },
   {
    "duration": 6,
    "start_time": "2023-02-27T14:59:39.960Z"
   },
   {
    "duration": 8,
    "start_time": "2023-02-27T14:59:39.971Z"
   },
   {
    "duration": 6,
    "start_time": "2023-02-27T14:59:39.980Z"
   },
   {
    "duration": 43,
    "start_time": "2023-02-27T14:59:39.988Z"
   },
   {
    "duration": 72,
    "start_time": "2023-02-27T14:59:40.033Z"
   },
   {
    "duration": 24,
    "start_time": "2023-02-27T14:59:40.107Z"
   },
   {
    "duration": 32,
    "start_time": "2023-02-27T14:59:40.132Z"
   },
   {
    "duration": 112,
    "start_time": "2023-02-27T14:59:40.166Z"
   },
   {
    "duration": 9272,
    "start_time": "2023-02-27T14:59:40.280Z"
   },
   {
    "duration": 15,
    "start_time": "2023-02-27T14:59:49.556Z"
   },
   {
    "duration": 55,
    "start_time": "2023-02-27T14:59:49.572Z"
   },
   {
    "duration": 12,
    "start_time": "2023-02-27T14:59:49.629Z"
   },
   {
    "duration": 216,
    "start_time": "2023-02-27T14:59:49.643Z"
   },
   {
    "duration": 6,
    "start_time": "2023-02-27T14:59:49.861Z"
   },
   {
    "duration": 33,
    "start_time": "2023-02-27T14:59:49.868Z"
   },
   {
    "duration": 18,
    "start_time": "2023-02-27T14:59:49.903Z"
   },
   {
    "duration": 28,
    "start_time": "2023-02-27T14:59:49.922Z"
   },
   {
    "duration": 13,
    "start_time": "2023-02-27T14:59:49.952Z"
   },
   {
    "duration": 21,
    "start_time": "2023-02-27T14:59:49.967Z"
   },
   {
    "duration": 451,
    "start_time": "2023-02-27T14:59:49.990Z"
   },
   {
    "duration": 9,
    "start_time": "2023-02-27T14:59:50.443Z"
   },
   {
    "duration": 33,
    "start_time": "2023-02-27T14:59:50.457Z"
   },
   {
    "duration": 56,
    "start_time": "2023-02-27T14:59:50.492Z"
   },
   {
    "duration": 99,
    "start_time": "2023-02-27T14:59:50.550Z"
   },
   {
    "duration": 7,
    "start_time": "2023-02-27T14:59:50.651Z"
   },
   {
    "duration": 11,
    "start_time": "2023-02-27T16:01:29.987Z"
   },
   {
    "duration": 11,
    "start_time": "2023-02-27T16:02:06.875Z"
   },
   {
    "duration": 10,
    "start_time": "2023-02-27T16:02:26.483Z"
   },
   {
    "duration": 73,
    "start_time": "2023-02-27T16:18:34.874Z"
   },
   {
    "duration": 6,
    "start_time": "2023-02-27T16:22:46.075Z"
   },
   {
    "duration": 26,
    "start_time": "2023-02-27T16:22:49.403Z"
   },
   {
    "duration": 19,
    "start_time": "2023-02-27T16:24:36.536Z"
   },
   {
    "duration": 16,
    "start_time": "2023-02-27T16:24:43.452Z"
   },
   {
    "duration": 12,
    "start_time": "2023-02-27T16:24:55.838Z"
   },
   {
    "duration": 16,
    "start_time": "2023-02-27T16:25:03.735Z"
   },
   {
    "duration": 13,
    "start_time": "2023-02-27T16:25:50.398Z"
   },
   {
    "duration": 14,
    "start_time": "2023-02-27T16:25:58.894Z"
   },
   {
    "duration": 12,
    "start_time": "2023-02-27T16:26:28.183Z"
   },
   {
    "duration": 12,
    "start_time": "2023-02-27T16:26:38.805Z"
   },
   {
    "duration": 23,
    "start_time": "2023-02-27T16:27:12.071Z"
   },
   {
    "duration": 14,
    "start_time": "2023-02-27T16:27:24.839Z"
   },
   {
    "duration": 12,
    "start_time": "2023-02-27T16:27:52.410Z"
   },
   {
    "duration": 18,
    "start_time": "2023-02-27T16:28:19.065Z"
   },
   {
    "duration": 5,
    "start_time": "2023-02-27T16:28:48.968Z"
   },
   {
    "duration": 46,
    "start_time": "2023-02-27T16:29:48.209Z"
   },
   {
    "duration": 12,
    "start_time": "2023-02-27T16:30:36.203Z"
   },
   {
    "duration": 110,
    "start_time": "2023-02-27T17:12:45.228Z"
   },
   {
    "duration": 24,
    "start_time": "2023-02-27T17:13:56.170Z"
   },
   {
    "duration": 9,
    "start_time": "2023-02-27T17:23:18.164Z"
   },
   {
    "duration": 13,
    "start_time": "2023-02-27T17:23:30.310Z"
   },
   {
    "duration": 6,
    "start_time": "2023-02-27T17:24:22.109Z"
   },
   {
    "duration": 4,
    "start_time": "2023-02-27T17:25:39.870Z"
   },
   {
    "duration": 7,
    "start_time": "2023-02-27T17:25:48.045Z"
   },
   {
    "duration": 10,
    "start_time": "2023-02-27T17:25:53.894Z"
   },
   {
    "duration": 11,
    "start_time": "2023-02-27T17:26:34.823Z"
   },
   {
    "duration": 26,
    "start_time": "2023-02-27T17:28:28.528Z"
   },
   {
    "duration": 14,
    "start_time": "2023-02-27T17:32:25.757Z"
   },
   {
    "duration": 12,
    "start_time": "2023-02-27T17:33:07.335Z"
   },
   {
    "duration": 4,
    "start_time": "2023-02-27T17:33:52.110Z"
   },
   {
    "duration": 8,
    "start_time": "2023-02-27T17:33:57.293Z"
   },
   {
    "duration": 176,
    "start_time": "2023-02-27T17:34:11.165Z"
   },
   {
    "duration": 10,
    "start_time": "2023-02-27T17:34:23.134Z"
   },
   {
    "duration": 9,
    "start_time": "2023-02-27T17:34:25.238Z"
   },
   {
    "duration": 13,
    "start_time": "2023-02-27T17:34:50.383Z"
   },
   {
    "duration": 3,
    "start_time": "2023-02-27T17:34:57.366Z"
   },
   {
    "duration": 9,
    "start_time": "2023-02-27T17:35:01.038Z"
   },
   {
    "duration": 9,
    "start_time": "2023-02-27T17:35:09.527Z"
   },
   {
    "duration": 8,
    "start_time": "2023-02-27T17:36:03.790Z"
   },
   {
    "duration": 282,
    "start_time": "2023-02-27T17:39:43.936Z"
   },
   {
    "duration": 42,
    "start_time": "2023-02-27T17:39:56.957Z"
   },
   {
    "duration": 13,
    "start_time": "2023-02-27T17:40:03.923Z"
   },
   {
    "duration": 25,
    "start_time": "2023-02-27T17:40:30.923Z"
   },
   {
    "duration": 67,
    "start_time": "2023-02-27T17:40:41.755Z"
   },
   {
    "duration": 14,
    "start_time": "2023-02-27T17:40:50.924Z"
   },
   {
    "duration": 17,
    "start_time": "2023-02-27T17:41:03.979Z"
   },
   {
    "duration": 48,
    "start_time": "2023-02-27T17:41:28.733Z"
   },
   {
    "duration": 20,
    "start_time": "2023-02-27T17:41:38.563Z"
   },
   {
    "duration": 133,
    "start_time": "2023-02-27T17:42:59.279Z"
   },
   {
    "duration": 289,
    "start_time": "2023-02-27T18:02:48.300Z"
   },
   {
    "duration": 479,
    "start_time": "2023-02-27T18:04:15.318Z"
   },
   {
    "duration": 5,
    "start_time": "2023-02-27T18:04:55.710Z"
   },
   {
    "duration": 12,
    "start_time": "2023-02-27T18:10:24.619Z"
   },
   {
    "duration": 13,
    "start_time": "2023-02-27T18:11:17.300Z"
   },
   {
    "duration": 152,
    "start_time": "2023-02-27T18:11:40.659Z"
   },
   {
    "duration": 14,
    "start_time": "2023-02-27T18:12:05.581Z"
   },
   {
    "duration": 76,
    "start_time": "2023-02-27T18:12:13.468Z"
   },
   {
    "duration": 82,
    "start_time": "2023-02-27T18:12:40.653Z"
   },
   {
    "duration": 91,
    "start_time": "2023-02-27T18:12:59.164Z"
   },
   {
    "duration": 110,
    "start_time": "2023-02-27T18:14:27.727Z"
   },
   {
    "duration": 376,
    "start_time": "2023-02-27T18:19:44.907Z"
   },
   {
    "duration": 245,
    "start_time": "2023-02-27T18:20:05.068Z"
   },
   {
    "duration": 1126,
    "start_time": "2023-02-27T18:20:30.456Z"
   },
   {
    "duration": 11,
    "start_time": "2023-02-27T18:20:51.038Z"
   },
   {
    "duration": 9,
    "start_time": "2023-02-27T18:20:58.908Z"
   },
   {
    "duration": 15,
    "start_time": "2023-02-27T18:21:00.540Z"
   },
   {
    "duration": 241,
    "start_time": "2023-02-27T18:21:06.860Z"
   },
   {
    "duration": 217,
    "start_time": "2023-02-27T18:21:29.951Z"
   },
   {
    "duration": 224,
    "start_time": "2023-02-27T18:21:42.125Z"
   },
   {
    "duration": 226,
    "start_time": "2023-02-27T18:21:58.173Z"
   },
   {
    "duration": 260,
    "start_time": "2023-02-27T18:22:03.677Z"
   },
   {
    "duration": 242,
    "start_time": "2023-02-27T18:22:33.776Z"
   },
   {
    "duration": 285,
    "start_time": "2023-02-27T18:23:22.240Z"
   },
   {
    "duration": 5,
    "start_time": "2023-02-27T18:24:27.904Z"
   },
   {
    "duration": 280,
    "start_time": "2023-02-27T18:24:32.752Z"
   },
   {
    "duration": 273,
    "start_time": "2023-02-27T18:24:52.171Z"
   },
   {
    "duration": 270,
    "start_time": "2023-02-27T18:25:02.552Z"
   },
   {
    "duration": 267,
    "start_time": "2023-02-27T18:25:08.072Z"
   },
   {
    "duration": 269,
    "start_time": "2023-02-27T18:25:12.232Z"
   },
   {
    "duration": 294,
    "start_time": "2023-02-27T18:25:46.728Z"
   },
   {
    "duration": 320,
    "start_time": "2023-02-27T18:25:51.385Z"
   },
   {
    "duration": 62,
    "start_time": "2023-02-27T19:17:05.528Z"
   },
   {
    "duration": 104,
    "start_time": "2023-02-27T19:58:33.824Z"
   },
   {
    "duration": 106,
    "start_time": "2023-02-27T20:30:39.437Z"
   },
   {
    "duration": 1475,
    "start_time": "2023-02-27T20:52:33.425Z"
   },
   {
    "duration": 60,
    "start_time": "2023-02-27T20:52:34.902Z"
   },
   {
    "duration": 21,
    "start_time": "2023-02-27T20:52:34.963Z"
   },
   {
    "duration": 13,
    "start_time": "2023-02-27T20:52:34.987Z"
   },
   {
    "duration": 27,
    "start_time": "2023-02-27T20:52:35.002Z"
   },
   {
    "duration": 17,
    "start_time": "2023-02-27T20:52:35.030Z"
   },
   {
    "duration": 27,
    "start_time": "2023-02-27T20:52:35.048Z"
   },
   {
    "duration": 6,
    "start_time": "2023-02-27T20:52:35.077Z"
   },
   {
    "duration": 243,
    "start_time": "2023-02-27T20:52:35.084Z"
   },
   {
    "duration": 7,
    "start_time": "2023-02-27T20:52:35.330Z"
   },
   {
    "duration": 19,
    "start_time": "2023-02-27T20:52:35.339Z"
   },
   {
    "duration": 2890,
    "start_time": "2023-02-27T20:52:35.360Z"
   },
   {
    "duration": 6,
    "start_time": "2023-02-27T20:52:38.251Z"
   },
   {
    "duration": 24,
    "start_time": "2023-02-27T20:52:38.259Z"
   },
   {
    "duration": 20,
    "start_time": "2023-02-27T20:52:38.284Z"
   },
   {
    "duration": 2,
    "start_time": "2023-02-27T20:52:38.306Z"
   },
   {
    "duration": 18,
    "start_time": "2023-02-27T20:52:38.310Z"
   },
   {
    "duration": 374,
    "start_time": "2023-02-27T20:52:38.329Z"
   },
   {
    "duration": 5,
    "start_time": "2023-02-27T20:52:38.704Z"
   },
   {
    "duration": 916,
    "start_time": "2023-02-27T20:52:38.711Z"
   },
   {
    "duration": 13,
    "start_time": "2023-02-27T20:52:39.629Z"
   },
   {
    "duration": 8,
    "start_time": "2023-02-27T20:52:39.644Z"
   },
   {
    "duration": 214,
    "start_time": "2023-02-27T20:52:39.654Z"
   },
   {
    "duration": 8,
    "start_time": "2023-02-27T20:52:39.870Z"
   },
   {
    "duration": 9,
    "start_time": "2023-02-27T20:52:39.880Z"
   },
   {
    "duration": 9,
    "start_time": "2023-02-27T20:52:39.890Z"
   },
   {
    "duration": 435,
    "start_time": "2023-02-27T20:52:39.900Z"
   },
   {
    "duration": 252,
    "start_time": "2023-02-27T20:52:40.338Z"
   },
   {
    "duration": 17,
    "start_time": "2023-02-27T20:52:40.592Z"
   },
   {
    "duration": 19,
    "start_time": "2023-02-27T20:52:40.611Z"
   },
   {
    "duration": 22,
    "start_time": "2023-02-27T20:52:40.632Z"
   },
   {
    "duration": 16,
    "start_time": "2023-02-27T20:52:40.655Z"
   },
   {
    "duration": 350,
    "start_time": "2023-02-27T20:52:40.673Z"
   },
   {
    "duration": 14,
    "start_time": "2023-02-27T20:52:41.025Z"
   },
   {
    "duration": 11,
    "start_time": "2023-02-27T20:52:41.041Z"
   },
   {
    "duration": 90,
    "start_time": "2023-02-27T20:52:41.054Z"
   },
   {
    "duration": 7,
    "start_time": "2023-02-27T20:52:41.146Z"
   },
   {
    "duration": 6,
    "start_time": "2023-02-27T20:52:41.154Z"
   },
   {
    "duration": 219,
    "start_time": "2023-02-27T20:52:41.162Z"
   },
   {
    "duration": 5,
    "start_time": "2023-02-27T20:52:41.383Z"
   },
   {
    "duration": 29,
    "start_time": "2023-02-27T20:52:41.390Z"
   },
   {
    "duration": 7,
    "start_time": "2023-02-27T20:52:41.421Z"
   },
   {
    "duration": 12,
    "start_time": "2023-02-27T20:52:41.430Z"
   },
   {
    "duration": 67,
    "start_time": "2023-02-27T20:52:41.444Z"
   },
   {
    "duration": 26,
    "start_time": "2023-02-27T20:52:41.513Z"
   },
   {
    "duration": 30,
    "start_time": "2023-02-27T20:52:41.541Z"
   },
   {
    "duration": 92,
    "start_time": "2023-02-27T20:52:41.572Z"
   },
   {
    "duration": 8949,
    "start_time": "2023-02-27T20:52:41.666Z"
   },
   {
    "duration": 22,
    "start_time": "2023-02-27T20:52:50.633Z"
   },
   {
    "duration": 19,
    "start_time": "2023-02-27T20:52:50.657Z"
   },
   {
    "duration": 14,
    "start_time": "2023-02-27T20:52:50.728Z"
   },
   {
    "duration": 124,
    "start_time": "2023-02-27T20:52:50.743Z"
   },
   {
    "duration": 59,
    "start_time": "2023-02-27T20:52:50.868Z"
   },
   {
    "duration": 10,
    "start_time": "2023-02-27T20:52:50.929Z"
   },
   {
    "duration": 11,
    "start_time": "2023-02-27T20:52:50.941Z"
   },
   {
    "duration": 25,
    "start_time": "2023-02-27T20:52:50.954Z"
   },
   {
    "duration": 12,
    "start_time": "2023-02-27T20:52:50.980Z"
   },
   {
    "duration": 41,
    "start_time": "2023-02-27T20:52:50.994Z"
   },
   {
    "duration": 381,
    "start_time": "2023-02-27T20:52:51.036Z"
   },
   {
    "duration": 12,
    "start_time": "2023-02-27T20:52:51.418Z"
   },
   {
    "duration": 17,
    "start_time": "2023-02-27T20:52:51.432Z"
   },
   {
    "duration": 114,
    "start_time": "2023-02-27T20:52:51.451Z"
   },
   {
    "duration": 6,
    "start_time": "2023-02-27T20:52:51.567Z"
   },
   {
    "duration": 5,
    "start_time": "2023-02-27T20:52:51.575Z"
   },
   {
    "duration": 182,
    "start_time": "2023-02-27T20:52:51.582Z"
   },
   {
    "duration": 0,
    "start_time": "2023-02-27T20:52:51.766Z"
   },
   {
    "duration": 0,
    "start_time": "2023-02-27T20:52:51.767Z"
   },
   {
    "duration": 0,
    "start_time": "2023-02-27T20:52:51.768Z"
   },
   {
    "duration": 0,
    "start_time": "2023-02-27T20:52:51.769Z"
   },
   {
    "duration": 0,
    "start_time": "2023-02-27T20:52:51.770Z"
   },
   {
    "duration": 0,
    "start_time": "2023-02-27T20:52:51.771Z"
   },
   {
    "duration": 0,
    "start_time": "2023-02-27T20:52:51.772Z"
   },
   {
    "duration": 6,
    "start_time": "2023-02-27T20:53:39.490Z"
   },
   {
    "duration": 15,
    "start_time": "2023-02-27T20:53:39.859Z"
   },
   {
    "duration": 5,
    "start_time": "2023-02-27T20:53:40.867Z"
   },
   {
    "duration": 1484,
    "start_time": "2023-02-27T20:53:50.120Z"
   },
   {
    "duration": 61,
    "start_time": "2023-02-27T20:53:51.607Z"
   },
   {
    "duration": 21,
    "start_time": "2023-02-27T20:53:51.669Z"
   },
   {
    "duration": 14,
    "start_time": "2023-02-27T20:53:51.693Z"
   },
   {
    "duration": 30,
    "start_time": "2023-02-27T20:53:51.709Z"
   },
   {
    "duration": 16,
    "start_time": "2023-02-27T20:53:51.741Z"
   },
   {
    "duration": 23,
    "start_time": "2023-02-27T20:53:51.759Z"
   },
   {
    "duration": 6,
    "start_time": "2023-02-27T20:53:51.784Z"
   },
   {
    "duration": 254,
    "start_time": "2023-02-27T20:53:51.792Z"
   },
   {
    "duration": 7,
    "start_time": "2023-02-27T20:53:52.050Z"
   },
   {
    "duration": 20,
    "start_time": "2023-02-27T20:53:52.059Z"
   },
   {
    "duration": 2911,
    "start_time": "2023-02-27T20:53:52.081Z"
   },
   {
    "duration": 6,
    "start_time": "2023-02-27T20:53:54.994Z"
   },
   {
    "duration": 27,
    "start_time": "2023-02-27T20:53:55.002Z"
   },
   {
    "duration": 22,
    "start_time": "2023-02-27T20:53:55.031Z"
   },
   {
    "duration": 4,
    "start_time": "2023-02-27T20:53:55.054Z"
   },
   {
    "duration": 8,
    "start_time": "2023-02-27T20:53:55.059Z"
   },
   {
    "duration": 394,
    "start_time": "2023-02-27T20:53:55.072Z"
   },
   {
    "duration": 5,
    "start_time": "2023-02-27T20:53:55.468Z"
   },
   {
    "duration": 884,
    "start_time": "2023-02-27T20:53:55.476Z"
   },
   {
    "duration": 15,
    "start_time": "2023-02-27T20:53:56.361Z"
   },
   {
    "duration": 12,
    "start_time": "2023-02-27T20:53:56.378Z"
   },
   {
    "duration": 226,
    "start_time": "2023-02-27T20:53:56.392Z"
   },
   {
    "duration": 13,
    "start_time": "2023-02-27T20:53:56.620Z"
   },
   {
    "duration": 9,
    "start_time": "2023-02-27T20:53:56.635Z"
   },
   {
    "duration": 14,
    "start_time": "2023-02-27T20:53:56.646Z"
   },
   {
    "duration": 431,
    "start_time": "2023-02-27T20:53:56.663Z"
   },
   {
    "duration": 262,
    "start_time": "2023-02-27T20:53:57.098Z"
   },
   {
    "duration": 22,
    "start_time": "2023-02-27T20:53:57.362Z"
   },
   {
    "duration": 9,
    "start_time": "2023-02-27T20:53:57.386Z"
   },
   {
    "duration": 34,
    "start_time": "2023-02-27T20:53:57.397Z"
   },
   {
    "duration": 11,
    "start_time": "2023-02-27T20:53:57.433Z"
   },
   {
    "duration": 401,
    "start_time": "2023-02-27T20:53:57.447Z"
   },
   {
    "duration": 12,
    "start_time": "2023-02-27T20:53:57.849Z"
   },
   {
    "duration": 11,
    "start_time": "2023-02-27T20:53:57.862Z"
   },
   {
    "duration": 87,
    "start_time": "2023-02-27T20:53:57.874Z"
   },
   {
    "duration": 6,
    "start_time": "2023-02-27T20:53:57.962Z"
   },
   {
    "duration": 7,
    "start_time": "2023-02-27T20:53:57.969Z"
   },
   {
    "duration": 223,
    "start_time": "2023-02-27T20:53:57.977Z"
   },
   {
    "duration": 5,
    "start_time": "2023-02-27T20:53:58.201Z"
   },
   {
    "duration": 19,
    "start_time": "2023-02-27T20:53:58.208Z"
   },
   {
    "duration": 7,
    "start_time": "2023-02-27T20:53:58.229Z"
   },
   {
    "duration": 14,
    "start_time": "2023-02-27T20:53:58.237Z"
   },
   {
    "duration": 84,
    "start_time": "2023-02-27T20:53:58.253Z"
   },
   {
    "duration": 12,
    "start_time": "2023-02-27T20:53:58.339Z"
   },
   {
    "duration": 34,
    "start_time": "2023-02-27T20:53:58.352Z"
   },
   {
    "duration": 86,
    "start_time": "2023-02-27T20:53:58.388Z"
   },
   {
    "duration": 9217,
    "start_time": "2023-02-27T20:53:58.476Z"
   },
   {
    "duration": 38,
    "start_time": "2023-02-27T20:54:07.695Z"
   },
   {
    "duration": 14,
    "start_time": "2023-02-27T20:54:07.735Z"
   },
   {
    "duration": 13,
    "start_time": "2023-02-27T20:54:07.751Z"
   },
   {
    "duration": 182,
    "start_time": "2023-02-27T20:54:07.765Z"
   },
   {
    "duration": 9,
    "start_time": "2023-02-27T20:54:07.949Z"
   },
   {
    "duration": 19,
    "start_time": "2023-02-27T20:54:07.961Z"
   },
   {
    "duration": 52,
    "start_time": "2023-02-27T20:54:07.983Z"
   },
   {
    "duration": 29,
    "start_time": "2023-02-27T20:54:08.037Z"
   },
   {
    "duration": 13,
    "start_time": "2023-02-27T20:54:08.067Z"
   },
   {
    "duration": 44,
    "start_time": "2023-02-27T20:54:08.082Z"
   },
   {
    "duration": 412,
    "start_time": "2023-02-27T20:54:08.129Z"
   },
   {
    "duration": 7,
    "start_time": "2023-02-27T20:54:08.543Z"
   },
   {
    "duration": 10,
    "start_time": "2023-02-27T20:54:08.552Z"
   },
   {
    "duration": 116,
    "start_time": "2023-02-27T20:54:08.563Z"
   },
   {
    "duration": 6,
    "start_time": "2023-02-27T20:54:08.680Z"
   },
   {
    "duration": 8,
    "start_time": "2023-02-27T20:54:08.687Z"
   },
   {
    "duration": 35,
    "start_time": "2023-02-27T20:54:08.697Z"
   },
   {
    "duration": 4,
    "start_time": "2023-02-27T20:54:08.734Z"
   },
   {
    "duration": 311,
    "start_time": "2023-02-27T20:54:08.740Z"
   },
   {
    "duration": 8,
    "start_time": "2023-02-27T20:54:09.053Z"
   },
   {
    "duration": 11,
    "start_time": "2023-02-27T20:54:09.063Z"
   },
   {
    "duration": 7,
    "start_time": "2023-02-27T20:54:09.076Z"
   },
   {
    "duration": 337,
    "start_time": "2023-02-27T20:54:09.085Z"
   },
   {
    "duration": 100,
    "start_time": "2023-02-27T20:54:09.427Z"
   },
   {
    "duration": 1783,
    "start_time": "2023-02-28T04:09:51.112Z"
   },
   {
    "duration": 303,
    "start_time": "2023-02-28T04:09:52.907Z"
   },
   {
    "duration": 23,
    "start_time": "2023-02-28T04:09:53.212Z"
   },
   {
    "duration": 30,
    "start_time": "2023-02-28T04:09:53.238Z"
   },
   {
    "duration": 10,
    "start_time": "2023-02-28T04:09:53.270Z"
   },
   {
    "duration": 28,
    "start_time": "2023-02-28T04:09:53.281Z"
   },
   {
    "duration": 24,
    "start_time": "2023-02-28T04:09:53.311Z"
   },
   {
    "duration": 5,
    "start_time": "2023-02-28T04:09:53.337Z"
   },
   {
    "duration": 240,
    "start_time": "2023-02-28T04:09:53.343Z"
   },
   {
    "duration": 9,
    "start_time": "2023-02-28T04:09:53.594Z"
   },
   {
    "duration": 21,
    "start_time": "2023-02-28T04:09:53.609Z"
   },
   {
    "duration": 3251,
    "start_time": "2023-02-28T04:09:53.632Z"
   },
   {
    "duration": 18,
    "start_time": "2023-02-28T04:09:56.885Z"
   },
   {
    "duration": 25,
    "start_time": "2023-02-28T04:09:56.911Z"
   },
   {
    "duration": 26,
    "start_time": "2023-02-28T04:09:56.938Z"
   },
   {
    "duration": 4,
    "start_time": "2023-02-28T04:09:56.965Z"
   },
   {
    "duration": 5,
    "start_time": "2023-02-28T04:09:56.971Z"
   },
   {
    "duration": 429,
    "start_time": "2023-02-28T04:09:56.978Z"
   },
   {
    "duration": 7,
    "start_time": "2023-02-28T04:09:57.409Z"
   },
   {
    "duration": 940,
    "start_time": "2023-02-28T04:09:57.417Z"
   },
   {
    "duration": 13,
    "start_time": "2023-02-28T04:09:58.358Z"
   },
   {
    "duration": 31,
    "start_time": "2023-02-28T04:09:58.373Z"
   },
   {
    "duration": 195,
    "start_time": "2023-02-28T04:09:58.406Z"
   },
   {
    "duration": 12,
    "start_time": "2023-02-28T04:09:58.603Z"
   },
   {
    "duration": 7,
    "start_time": "2023-02-28T04:09:58.617Z"
   },
   {
    "duration": 6,
    "start_time": "2023-02-28T04:09:58.626Z"
   },
   {
    "duration": 417,
    "start_time": "2023-02-28T04:09:58.635Z"
   },
   {
    "duration": 265,
    "start_time": "2023-02-28T04:09:59.054Z"
   },
   {
    "duration": 26,
    "start_time": "2023-02-28T04:09:59.322Z"
   },
   {
    "duration": 10,
    "start_time": "2023-02-28T04:09:59.350Z"
   },
   {
    "duration": 34,
    "start_time": "2023-02-28T04:09:59.362Z"
   },
   {
    "duration": 13,
    "start_time": "2023-02-28T04:09:59.398Z"
   },
   {
    "duration": 374,
    "start_time": "2023-02-28T04:09:59.413Z"
   },
   {
    "duration": 14,
    "start_time": "2023-02-28T04:09:59.791Z"
   },
   {
    "duration": 21,
    "start_time": "2023-02-28T04:09:59.810Z"
   },
   {
    "duration": 100,
    "start_time": "2023-02-28T04:09:59.833Z"
   },
   {
    "duration": 5,
    "start_time": "2023-02-28T04:09:59.935Z"
   },
   {
    "duration": 7,
    "start_time": "2023-02-28T04:09:59.942Z"
   },
   {
    "duration": 246,
    "start_time": "2023-02-28T04:09:59.951Z"
   },
   {
    "duration": 8,
    "start_time": "2023-02-28T04:10:00.199Z"
   },
   {
    "duration": 47,
    "start_time": "2023-02-28T04:10:00.213Z"
   },
   {
    "duration": 21,
    "start_time": "2023-02-28T04:10:00.262Z"
   },
   {
    "duration": 41,
    "start_time": "2023-02-28T04:10:00.286Z"
   },
   {
    "duration": 148,
    "start_time": "2023-02-28T04:10:00.329Z"
   },
   {
    "duration": 12,
    "start_time": "2023-02-28T04:10:00.479Z"
   },
   {
    "duration": 158,
    "start_time": "2023-02-28T04:10:00.507Z"
   },
   {
    "duration": 101,
    "start_time": "2023-02-28T04:10:00.667Z"
   },
   {
    "duration": 10083,
    "start_time": "2023-02-28T04:10:00.770Z"
   },
   {
    "duration": 40,
    "start_time": "2023-02-28T04:10:10.855Z"
   },
   {
    "duration": 19,
    "start_time": "2023-02-28T04:10:10.899Z"
   },
   {
    "duration": 22,
    "start_time": "2023-02-28T04:10:10.920Z"
   },
   {
    "duration": 178,
    "start_time": "2023-02-28T04:10:10.944Z"
   },
   {
    "duration": 7,
    "start_time": "2023-02-28T04:10:11.123Z"
   },
   {
    "duration": 76,
    "start_time": "2023-02-28T04:10:11.131Z"
   },
   {
    "duration": 47,
    "start_time": "2023-02-28T04:10:11.209Z"
   },
   {
    "duration": 39,
    "start_time": "2023-02-28T04:10:11.258Z"
   },
   {
    "duration": 20,
    "start_time": "2023-02-28T04:10:11.304Z"
   },
   {
    "duration": 44,
    "start_time": "2023-02-28T04:10:11.326Z"
   },
   {
    "duration": 489,
    "start_time": "2023-02-28T04:10:11.372Z"
   },
   {
    "duration": 7,
    "start_time": "2023-02-28T04:10:11.864Z"
   },
   {
    "duration": 23,
    "start_time": "2023-02-28T04:10:11.873Z"
   },
   {
    "duration": 155,
    "start_time": "2023-02-28T04:10:11.902Z"
   },
   {
    "duration": 5,
    "start_time": "2023-02-28T04:10:12.059Z"
   },
   {
    "duration": 52,
    "start_time": "2023-02-28T04:10:12.066Z"
   },
   {
    "duration": 23,
    "start_time": "2023-02-28T04:10:12.120Z"
   },
   {
    "duration": 19,
    "start_time": "2023-02-28T04:10:12.146Z"
   },
   {
    "duration": 340,
    "start_time": "2023-02-28T04:10:12.167Z"
   },
   {
    "duration": 8,
    "start_time": "2023-02-28T04:10:12.508Z"
   },
   {
    "duration": 12,
    "start_time": "2023-02-28T04:10:12.518Z"
   },
   {
    "duration": 7,
    "start_time": "2023-02-28T04:10:12.532Z"
   },
   {
    "duration": 311,
    "start_time": "2023-02-28T04:10:12.541Z"
   },
   {
    "duration": 118,
    "start_time": "2023-02-28T04:10:12.855Z"
   },
   {
    "duration": 19,
    "start_time": "2023-02-28T04:28:50.624Z"
   },
   {
    "duration": 15,
    "start_time": "2023-02-28T04:28:55.135Z"
   },
   {
    "duration": 26,
    "start_time": "2023-02-28T04:29:00.960Z"
   },
   {
    "duration": 86,
    "start_time": "2023-02-28T10:45:54.292Z"
   },
   {
    "duration": 1704,
    "start_time": "2023-02-28T10:47:14.035Z"
   },
   {
    "duration": 299,
    "start_time": "2023-02-28T10:47:15.742Z"
   },
   {
    "duration": 29,
    "start_time": "2023-02-28T10:47:16.044Z"
   },
   {
    "duration": 39,
    "start_time": "2023-02-28T10:47:16.076Z"
   },
   {
    "duration": 32,
    "start_time": "2023-02-28T10:47:16.118Z"
   },
   {
    "duration": 48,
    "start_time": "2023-02-28T10:47:16.152Z"
   },
   {
    "duration": 36,
    "start_time": "2023-02-28T10:47:16.202Z"
   },
   {
    "duration": 8,
    "start_time": "2023-02-28T10:47:16.241Z"
   },
   {
    "duration": 243,
    "start_time": "2023-02-28T10:47:16.252Z"
   },
   {
    "duration": 11,
    "start_time": "2023-02-28T10:47:16.499Z"
   },
   {
    "duration": 44,
    "start_time": "2023-02-28T10:47:16.512Z"
   },
   {
    "duration": 2987,
    "start_time": "2023-02-28T10:47:16.558Z"
   },
   {
    "duration": 15,
    "start_time": "2023-02-28T10:47:19.546Z"
   },
   {
    "duration": 27,
    "start_time": "2023-02-28T10:47:19.567Z"
   },
   {
    "duration": 22,
    "start_time": "2023-02-28T10:47:19.597Z"
   },
   {
    "duration": 4,
    "start_time": "2023-02-28T10:47:19.620Z"
   },
   {
    "duration": 10,
    "start_time": "2023-02-28T10:47:19.626Z"
   },
   {
    "duration": 440,
    "start_time": "2023-02-28T10:47:19.638Z"
   },
   {
    "duration": 6,
    "start_time": "2023-02-28T10:47:20.081Z"
   },
   {
    "duration": 1043,
    "start_time": "2023-02-28T10:47:20.089Z"
   },
   {
    "duration": 34,
    "start_time": "2023-02-28T10:47:21.133Z"
   },
   {
    "duration": 18,
    "start_time": "2023-02-28T10:47:21.169Z"
   },
   {
    "duration": 229,
    "start_time": "2023-02-28T10:47:21.189Z"
   },
   {
    "duration": 8,
    "start_time": "2023-02-28T10:47:21.420Z"
   },
   {
    "duration": 23,
    "start_time": "2023-02-28T10:47:21.431Z"
   },
   {
    "duration": 33,
    "start_time": "2023-02-28T10:47:21.456Z"
   },
   {
    "duration": 464,
    "start_time": "2023-02-28T10:47:21.491Z"
   },
   {
    "duration": 285,
    "start_time": "2023-02-28T10:47:21.960Z"
   },
   {
    "duration": 25,
    "start_time": "2023-02-28T10:47:22.249Z"
   },
   {
    "duration": 17,
    "start_time": "2023-02-28T10:47:22.276Z"
   },
   {
    "duration": 34,
    "start_time": "2023-02-28T10:47:22.296Z"
   },
   {
    "duration": 17,
    "start_time": "2023-02-28T10:47:22.333Z"
   },
   {
    "duration": 398,
    "start_time": "2023-02-28T10:47:22.353Z"
   },
   {
    "duration": 16,
    "start_time": "2023-02-28T10:47:22.753Z"
   },
   {
    "duration": 17,
    "start_time": "2023-02-28T10:47:22.773Z"
   },
   {
    "duration": 97,
    "start_time": "2023-02-28T10:47:22.792Z"
   },
   {
    "duration": 6,
    "start_time": "2023-02-28T10:47:22.891Z"
   },
   {
    "duration": 14,
    "start_time": "2023-02-28T10:47:22.899Z"
   },
   {
    "duration": 241,
    "start_time": "2023-02-28T10:47:22.915Z"
   },
   {
    "duration": 7,
    "start_time": "2023-02-28T10:47:23.159Z"
   },
   {
    "duration": 33,
    "start_time": "2023-02-28T10:47:23.167Z"
   },
   {
    "duration": 13,
    "start_time": "2023-02-28T10:47:23.203Z"
   },
   {
    "duration": 16,
    "start_time": "2023-02-28T10:47:23.220Z"
   },
   {
    "duration": 129,
    "start_time": "2023-02-28T10:47:23.238Z"
   },
   {
    "duration": 14,
    "start_time": "2023-02-28T10:47:23.369Z"
   },
   {
    "duration": 126,
    "start_time": "2023-02-28T10:47:23.385Z"
   },
   {
    "duration": 104,
    "start_time": "2023-02-28T10:47:23.513Z"
   },
   {
    "duration": 9925,
    "start_time": "2023-02-28T10:47:23.619Z"
   },
   {
    "duration": 19,
    "start_time": "2023-02-28T10:47:33.549Z"
   },
   {
    "duration": 18,
    "start_time": "2023-02-28T10:47:33.570Z"
   },
   {
    "duration": 13,
    "start_time": "2023-02-28T10:47:33.647Z"
   },
   {
    "duration": 196,
    "start_time": "2023-02-28T10:47:33.662Z"
   },
   {
    "duration": 10,
    "start_time": "2023-02-28T10:47:33.860Z"
   },
   {
    "duration": 33,
    "start_time": "2023-02-28T10:47:33.872Z"
   },
   {
    "duration": 46,
    "start_time": "2023-02-28T10:47:33.906Z"
   },
   {
    "duration": 38,
    "start_time": "2023-02-28T10:47:33.955Z"
   },
   {
    "duration": 15,
    "start_time": "2023-02-28T10:47:33.995Z"
   },
   {
    "duration": 31,
    "start_time": "2023-02-28T10:47:34.013Z"
   },
   {
    "duration": 440,
    "start_time": "2023-02-28T10:47:34.046Z"
   },
   {
    "duration": 9,
    "start_time": "2023-02-28T10:47:34.488Z"
   },
   {
    "duration": 10,
    "start_time": "2023-02-28T10:47:34.499Z"
   },
   {
    "duration": 154,
    "start_time": "2023-02-28T10:47:34.511Z"
   },
   {
    "duration": 6,
    "start_time": "2023-02-28T10:47:34.667Z"
   },
   {
    "duration": 15,
    "start_time": "2023-02-28T10:47:34.676Z"
   },
   {
    "duration": 27,
    "start_time": "2023-02-28T10:47:34.694Z"
   },
   {
    "duration": 32,
    "start_time": "2023-02-28T10:47:34.724Z"
   },
   {
    "duration": 364,
    "start_time": "2023-02-28T10:47:34.758Z"
   },
   {
    "duration": 12,
    "start_time": "2023-02-28T10:47:35.124Z"
   },
   {
    "duration": 31,
    "start_time": "2023-02-28T10:47:35.138Z"
   },
   {
    "duration": 21,
    "start_time": "2023-02-28T10:47:35.171Z"
   },
   {
    "duration": 311,
    "start_time": "2023-02-28T10:47:35.195Z"
   },
   {
    "duration": 99,
    "start_time": "2023-02-28T10:47:35.508Z"
   },
   {
    "duration": 7,
    "start_time": "2023-02-28T10:48:36.767Z"
   },
   {
    "duration": 21,
    "start_time": "2023-02-28T10:48:46.138Z"
   },
   {
    "duration": 5,
    "start_time": "2023-02-28T10:50:09.524Z"
   },
   {
    "duration": 5,
    "start_time": "2023-02-28T10:50:14.228Z"
   },
   {
    "duration": 165,
    "start_time": "2023-02-28T10:50:37.200Z"
   },
   {
    "duration": 109,
    "start_time": "2023-02-28T10:50:44.229Z"
   },
   {
    "duration": 74,
    "start_time": "2023-02-28T10:50:47.933Z"
   },
   {
    "duration": 7,
    "start_time": "2023-02-28T10:50:53.172Z"
   },
   {
    "duration": 138,
    "start_time": "2023-02-28T10:51:06.354Z"
   },
   {
    "duration": 6,
    "start_time": "2023-02-28T10:51:10.566Z"
   },
   {
    "duration": 7,
    "start_time": "2023-02-28T10:51:58.429Z"
   },
   {
    "duration": 23,
    "start_time": "2023-02-28T10:52:05.552Z"
   },
   {
    "duration": 1637,
    "start_time": "2023-02-28T10:55:45.984Z"
   },
   {
    "duration": 6,
    "start_time": "2023-02-28T10:55:52.308Z"
   },
   {
    "duration": 23,
    "start_time": "2023-02-28T10:56:00.955Z"
   },
   {
    "duration": 86,
    "start_time": "2023-02-28T10:58:05.806Z"
   },
   {
    "duration": 13,
    "start_time": "2023-02-28T11:06:15.856Z"
   },
   {
    "duration": 19,
    "start_time": "2023-02-28T11:06:21.077Z"
   },
   {
    "duration": 5,
    "start_time": "2023-02-28T11:06:28.645Z"
   },
   {
    "duration": 20,
    "start_time": "2023-02-28T11:06:58.790Z"
   },
   {
    "duration": 6,
    "start_time": "2023-02-28T11:14:33.168Z"
   },
   {
    "duration": 10,
    "start_time": "2023-02-28T11:14:38.336Z"
   },
   {
    "duration": 5,
    "start_time": "2023-02-28T11:14:52.280Z"
   },
   {
    "duration": 12,
    "start_time": "2023-02-28T11:14:56.847Z"
   },
   {
    "duration": 6,
    "start_time": "2023-02-28T11:15:24.129Z"
   },
   {
    "duration": 8,
    "start_time": "2023-02-28T11:16:05.578Z"
   },
   {
    "duration": 7,
    "start_time": "2023-02-28T11:16:12.856Z"
   },
   {
    "duration": 22,
    "start_time": "2023-02-28T11:16:17.784Z"
   },
   {
    "duration": 34,
    "start_time": "2023-02-28T11:28:05.141Z"
   },
   {
    "duration": 26,
    "start_time": "2023-02-28T11:28:16.430Z"
   },
   {
    "duration": 27,
    "start_time": "2023-02-28T11:28:46.061Z"
   },
   {
    "duration": 141,
    "start_time": "2023-02-28T11:29:43.688Z"
   },
   {
    "duration": 145,
    "start_time": "2023-02-28T11:29:54.130Z"
   },
   {
    "duration": 207,
    "start_time": "2023-02-28T11:30:05.095Z"
   },
   {
    "duration": 114,
    "start_time": "2023-02-28T11:31:31.809Z"
   },
   {
    "duration": 4,
    "start_time": "2023-02-28T11:33:09.402Z"
   },
   {
    "duration": 1370,
    "start_time": "2023-02-28T11:36:37.878Z"
   },
   {
    "duration": 1214,
    "start_time": "2023-02-28T11:36:54.528Z"
   },
   {
    "duration": 1229,
    "start_time": "2023-02-28T11:37:13.214Z"
   },
   {
    "duration": 1638,
    "start_time": "2023-02-28T11:37:18.365Z"
   },
   {
    "duration": 274,
    "start_time": "2023-02-28T11:37:27.213Z"
   },
   {
    "duration": 814,
    "start_time": "2023-02-28T11:38:34.239Z"
   },
   {
    "duration": 613,
    "start_time": "2023-02-28T11:39:03.418Z"
   },
   {
    "duration": 18,
    "start_time": "2023-02-28T11:39:40.640Z"
   },
   {
    "duration": 12,
    "start_time": "2023-02-28T11:39:41.424Z"
   },
   {
    "duration": 610,
    "start_time": "2023-02-28T11:39:41.938Z"
   },
   {
    "duration": 108,
    "start_time": "2023-02-28T11:41:53.787Z"
   },
   {
    "duration": 14,
    "start_time": "2023-02-28T11:43:18.981Z"
   },
   {
    "duration": 12,
    "start_time": "2023-02-28T11:43:24.111Z"
   },
   {
    "duration": 649,
    "start_time": "2023-02-28T11:43:24.759Z"
   },
   {
    "duration": 150,
    "start_time": "2023-02-28T11:45:46.695Z"
   },
   {
    "duration": 92,
    "start_time": "2023-02-28T11:46:25.263Z"
   },
   {
    "duration": 256,
    "start_time": "2023-02-28T11:46:28.992Z"
   },
   {
    "duration": 282,
    "start_time": "2023-02-28T11:46:34.564Z"
   },
   {
    "duration": 276,
    "start_time": "2023-02-28T11:47:03.496Z"
   },
   {
    "duration": 272,
    "start_time": "2023-02-28T11:47:13.555Z"
   },
   {
    "duration": 275,
    "start_time": "2023-02-28T11:47:21.401Z"
   },
   {
    "duration": 283,
    "start_time": "2023-02-28T11:47:28.262Z"
   },
   {
    "duration": 289,
    "start_time": "2023-02-28T11:48:27.619Z"
   },
   {
    "duration": 68,
    "start_time": "2023-02-28T11:49:07.466Z"
   },
   {
    "duration": 13,
    "start_time": "2023-02-28T11:49:59.036Z"
   },
   {
    "duration": 65,
    "start_time": "2023-02-28T11:50:12.262Z"
   },
   {
    "duration": 66,
    "start_time": "2023-02-28T11:50:57.380Z"
   },
   {
    "duration": 13,
    "start_time": "2023-02-28T11:56:05.775Z"
   },
   {
    "duration": 10,
    "start_time": "2023-02-28T11:56:10.935Z"
   },
   {
    "duration": 19,
    "start_time": "2023-02-28T11:56:24.873Z"
   },
   {
    "duration": 25,
    "start_time": "2023-02-28T11:56:25.831Z"
   },
   {
    "duration": 13,
    "start_time": "2023-02-28T11:56:38.296Z"
   },
   {
    "duration": 10,
    "start_time": "2023-02-28T11:56:40.131Z"
   },
   {
    "duration": 13,
    "start_time": "2023-02-28T11:57:06.622Z"
   },
   {
    "duration": 9,
    "start_time": "2023-02-28T11:57:20.559Z"
   },
   {
    "duration": 10,
    "start_time": "2023-02-28T11:57:24.282Z"
   },
   {
    "duration": 17,
    "start_time": "2023-02-28T11:58:17.851Z"
   },
   {
    "duration": 1253,
    "start_time": "2023-02-28T11:58:42.835Z"
   },
   {
    "duration": 17,
    "start_time": "2023-02-28T11:59:19.394Z"
   },
   {
    "duration": 5,
    "start_time": "2023-02-28T11:59:34.801Z"
   },
   {
    "duration": 3,
    "start_time": "2023-02-28T11:59:42.225Z"
   },
   {
    "duration": 4,
    "start_time": "2023-02-28T11:59:45.331Z"
   },
   {
    "duration": 82,
    "start_time": "2023-02-28T11:59:48.090Z"
   },
   {
    "duration": 14,
    "start_time": "2023-02-28T12:00:26.082Z"
   },
   {
    "duration": 9,
    "start_time": "2023-02-28T12:00:50.763Z"
   },
   {
    "duration": 3,
    "start_time": "2023-02-28T12:01:18.675Z"
   },
   {
    "duration": 10,
    "start_time": "2023-02-28T12:01:22.857Z"
   },
   {
    "duration": 12,
    "start_time": "2023-02-28T12:12:23.858Z"
   },
   {
    "duration": 3,
    "start_time": "2023-02-28T12:12:24.882Z"
   },
   {
    "duration": 9,
    "start_time": "2023-02-28T12:12:31.490Z"
   },
   {
    "duration": 4,
    "start_time": "2023-02-28T12:13:40.038Z"
   },
   {
    "duration": 11,
    "start_time": "2023-02-28T12:13:45.881Z"
   },
   {
    "duration": 12,
    "start_time": "2023-02-28T12:14:31.356Z"
   },
   {
    "duration": 3,
    "start_time": "2023-02-28T12:14:59.981Z"
   },
   {
    "duration": 10,
    "start_time": "2023-02-28T12:15:01.759Z"
   },
   {
    "duration": 5,
    "start_time": "2023-02-28T12:15:09.716Z"
   },
   {
    "duration": 11,
    "start_time": "2023-02-28T12:15:11.789Z"
   },
   {
    "duration": 4,
    "start_time": "2023-02-28T12:15:20.512Z"
   },
   {
    "duration": 9,
    "start_time": "2023-02-28T12:15:20.925Z"
   },
   {
    "duration": 13,
    "start_time": "2023-02-28T12:15:28.961Z"
   },
   {
    "duration": 3,
    "start_time": "2023-02-28T12:15:29.277Z"
   },
   {
    "duration": 5,
    "start_time": "2023-02-28T12:15:29.621Z"
   },
   {
    "duration": 9,
    "start_time": "2023-02-28T12:15:30.789Z"
   },
   {
    "duration": 79,
    "start_time": "2023-02-28T12:17:27.055Z"
   },
   {
    "duration": 45,
    "start_time": "2023-02-28T12:18:17.520Z"
   },
   {
    "duration": 98,
    "start_time": "2023-02-28T12:18:47.882Z"
   },
   {
    "duration": 10,
    "start_time": "2023-02-28T12:18:52.175Z"
   },
   {
    "duration": 9,
    "start_time": "2023-02-28T12:19:59.696Z"
   },
   {
    "duration": 5,
    "start_time": "2023-02-28T12:20:15.593Z"
   },
   {
    "duration": 75,
    "start_time": "2023-02-28T12:20:26.728Z"
   },
   {
    "duration": 5,
    "start_time": "2023-02-28T12:22:15.498Z"
   },
   {
    "duration": 14,
    "start_time": "2023-02-28T12:23:06.555Z"
   },
   {
    "duration": 4,
    "start_time": "2023-02-28T12:23:06.971Z"
   },
   {
    "duration": 5,
    "start_time": "2023-02-28T12:23:07.594Z"
   },
   {
    "duration": 9,
    "start_time": "2023-02-28T12:23:07.989Z"
   },
   {
    "duration": 13,
    "start_time": "2023-02-28T12:23:16.413Z"
   },
   {
    "duration": 11,
    "start_time": "2023-02-28T12:23:34.723Z"
   },
   {
    "duration": 51,
    "start_time": "2023-02-28T12:23:41.475Z"
   },
   {
    "duration": 11,
    "start_time": "2023-02-28T12:24:03.331Z"
   },
   {
    "duration": 4,
    "start_time": "2023-02-28T12:24:03.595Z"
   },
   {
    "duration": 5,
    "start_time": "2023-02-28T12:24:03.850Z"
   },
   {
    "duration": 9,
    "start_time": "2023-02-28T12:24:04.219Z"
   },
   {
    "duration": 4,
    "start_time": "2023-02-28T12:24:04.763Z"
   },
   {
    "duration": 75,
    "start_time": "2023-02-28T12:24:06.110Z"
   },
   {
    "duration": 74,
    "start_time": "2023-02-28T12:25:59.766Z"
   },
   {
    "duration": 12,
    "start_time": "2023-02-28T12:27:10.390Z"
   },
   {
    "duration": 11,
    "start_time": "2023-02-28T12:27:57.935Z"
   },
   {
    "duration": 70,
    "start_time": "2023-02-28T12:28:12.056Z"
   },
   {
    "duration": 31,
    "start_time": "2023-02-28T12:33:35.902Z"
   },
   {
    "duration": 25,
    "start_time": "2023-02-28T12:34:23.605Z"
   },
   {
    "duration": 93,
    "start_time": "2023-02-28T12:35:22.758Z"
   },
   {
    "duration": 14,
    "start_time": "2023-02-28T12:35:28.262Z"
   },
   {
    "duration": 31,
    "start_time": "2023-02-28T12:35:46.032Z"
   },
   {
    "duration": 21,
    "start_time": "2023-02-28T12:49:22.829Z"
   },
   {
    "duration": 13,
    "start_time": "2023-02-28T12:50:00.016Z"
   },
   {
    "duration": 4,
    "start_time": "2023-02-28T12:50:01.341Z"
   },
   {
    "duration": 15,
    "start_time": "2023-02-28T12:50:17.816Z"
   },
   {
    "duration": 17,
    "start_time": "2023-02-28T12:50:26.087Z"
   },
   {
    "duration": 3,
    "start_time": "2023-02-28T12:50:26.575Z"
   },
   {
    "duration": 5,
    "start_time": "2023-02-28T12:50:28.295Z"
   },
   {
    "duration": 17,
    "start_time": "2023-02-28T12:50:32.239Z"
   },
   {
    "duration": 4,
    "start_time": "2023-02-28T12:50:44.286Z"
   },
   {
    "duration": 72,
    "start_time": "2023-02-28T12:51:07.671Z"
   },
   {
    "duration": 229,
    "start_time": "2023-02-28T12:53:58.583Z"
   },
   {
    "duration": 239,
    "start_time": "2023-02-28T12:54:09.681Z"
   },
   {
    "duration": 717,
    "start_time": "2023-02-28T12:54:16.467Z"
   },
   {
    "duration": 12,
    "start_time": "2023-02-28T12:55:22.771Z"
   },
   {
    "duration": 12,
    "start_time": "2023-02-28T12:55:40.286Z"
   },
   {
    "duration": 12,
    "start_time": "2023-02-28T12:55:44.581Z"
   },
   {
    "duration": 7,
    "start_time": "2023-02-28T12:55:53.381Z"
   },
   {
    "duration": 323,
    "start_time": "2023-02-28T12:56:04.436Z"
   },
   {
    "duration": 6,
    "start_time": "2023-02-28T12:56:42.171Z"
   },
   {
    "duration": 16,
    "start_time": "2023-02-28T12:57:00.478Z"
   },
   {
    "duration": 18,
    "start_time": "2023-02-28T12:57:14.933Z"
   },
   {
    "duration": 5,
    "start_time": "2023-02-28T12:57:35.285Z"
   },
   {
    "duration": 10,
    "start_time": "2023-02-28T12:57:49.694Z"
   },
   {
    "duration": 16,
    "start_time": "2023-02-28T12:57:59.796Z"
   },
   {
    "duration": 10,
    "start_time": "2023-02-28T12:58:21.142Z"
   },
   {
    "duration": 6,
    "start_time": "2023-02-28T12:58:28.374Z"
   },
   {
    "duration": 11,
    "start_time": "2023-02-28T12:59:03.287Z"
   },
   {
    "duration": 347,
    "start_time": "2023-02-28T12:59:20.808Z"
   },
   {
    "duration": 354,
    "start_time": "2023-02-28T12:59:36.209Z"
   },
   {
    "duration": 247,
    "start_time": "2023-02-28T13:01:24.090Z"
   },
   {
    "duration": 7,
    "start_time": "2023-02-28T13:01:29.289Z"
   },
   {
    "duration": 338,
    "start_time": "2023-02-28T13:01:31.161Z"
   },
   {
    "duration": 6,
    "start_time": "2023-02-28T13:01:54.593Z"
   },
   {
    "duration": 410,
    "start_time": "2023-02-28T13:01:55.576Z"
   },
   {
    "duration": 5,
    "start_time": "2023-02-28T13:05:47.071Z"
   },
   {
    "duration": 14,
    "start_time": "2023-02-28T13:05:56.235Z"
   },
   {
    "duration": 12,
    "start_time": "2023-02-28T13:06:27.237Z"
   },
   {
    "duration": 7,
    "start_time": "2023-02-28T13:12:12.497Z"
   },
   {
    "duration": 7,
    "start_time": "2023-02-28T13:12:17.978Z"
   },
   {
    "duration": 7,
    "start_time": "2023-02-28T13:12:28.714Z"
   },
   {
    "duration": 7,
    "start_time": "2023-02-28T13:12:29.067Z"
   },
   {
    "duration": 8,
    "start_time": "2023-02-28T13:12:51.788Z"
   },
   {
    "duration": 332,
    "start_time": "2023-02-28T13:12:52.506Z"
   },
   {
    "duration": 369,
    "start_time": "2023-02-28T13:14:16.901Z"
   },
   {
    "duration": 8,
    "start_time": "2023-02-28T13:14:23.843Z"
   },
   {
    "duration": 340,
    "start_time": "2023-02-28T13:14:28.078Z"
   },
   {
    "duration": 10,
    "start_time": "2023-02-28T13:18:17.336Z"
   },
   {
    "duration": 19,
    "start_time": "2023-02-28T13:19:12.878Z"
   },
   {
    "duration": 9,
    "start_time": "2023-02-28T13:19:49.312Z"
   },
   {
    "duration": 4,
    "start_time": "2023-02-28T13:19:49.758Z"
   },
   {
    "duration": 7,
    "start_time": "2023-02-28T13:19:50.288Z"
   },
   {
    "duration": 8,
    "start_time": "2023-02-28T13:19:59.764Z"
   },
   {
    "duration": 10,
    "start_time": "2023-02-28T13:20:00.265Z"
   },
   {
    "duration": 5,
    "start_time": "2023-02-28T13:20:00.654Z"
   },
   {
    "duration": 7,
    "start_time": "2023-02-28T13:20:00.986Z"
   },
   {
    "duration": 8,
    "start_time": "2023-02-28T13:20:19.727Z"
   },
   {
    "duration": 10,
    "start_time": "2023-02-28T13:20:20.010Z"
   },
   {
    "duration": 5,
    "start_time": "2023-02-28T13:20:20.280Z"
   },
   {
    "duration": 8,
    "start_time": "2023-02-28T13:20:20.626Z"
   },
   {
    "duration": 19,
    "start_time": "2023-02-28T13:20:36.443Z"
   },
   {
    "duration": 12,
    "start_time": "2023-02-28T13:21:37.980Z"
   },
   {
    "duration": 7,
    "start_time": "2023-02-28T13:21:38.991Z"
   },
   {
    "duration": 9,
    "start_time": "2023-02-28T13:21:39.523Z"
   },
   {
    "duration": 10,
    "start_time": "2023-02-28T13:21:49.471Z"
   },
   {
    "duration": 6,
    "start_time": "2023-02-28T13:21:50.514Z"
   },
   {
    "duration": 8,
    "start_time": "2023-02-28T13:21:50.874Z"
   },
   {
    "duration": 11,
    "start_time": "2023-02-28T13:22:36.460Z"
   },
   {
    "duration": 8,
    "start_time": "2023-02-28T13:22:36.756Z"
   },
   {
    "duration": 16,
    "start_time": "2023-02-28T13:23:11.869Z"
   },
   {
    "duration": 10,
    "start_time": "2023-02-28T13:23:20.781Z"
   },
   {
    "duration": 9,
    "start_time": "2023-02-28T13:23:36.555Z"
   },
   {
    "duration": 12,
    "start_time": "2023-02-28T13:23:36.753Z"
   },
   {
    "duration": 6,
    "start_time": "2023-02-28T13:23:37.037Z"
   },
   {
    "duration": 9,
    "start_time": "2023-02-28T13:23:37.348Z"
   },
   {
    "duration": 72,
    "start_time": "2023-02-28T13:29:26.922Z"
   },
   {
    "duration": 1627,
    "start_time": "2023-02-28T13:29:54.539Z"
   },
   {
    "duration": 61,
    "start_time": "2023-02-28T13:29:56.170Z"
   },
   {
    "duration": 17,
    "start_time": "2023-02-28T13:29:56.235Z"
   },
   {
    "duration": 13,
    "start_time": "2023-02-28T13:29:56.253Z"
   },
   {
    "duration": 10,
    "start_time": "2023-02-28T13:29:56.268Z"
   },
   {
    "duration": 15,
    "start_time": "2023-02-28T13:29:56.279Z"
   },
   {
    "duration": 5,
    "start_time": "2023-02-28T13:29:56.295Z"
   },
   {
    "duration": 7,
    "start_time": "2023-02-28T13:29:56.301Z"
   },
   {
    "duration": 54,
    "start_time": "2023-02-28T13:29:56.310Z"
   },
   {
    "duration": 4,
    "start_time": "2023-02-28T13:29:56.366Z"
   },
   {
    "duration": 224,
    "start_time": "2023-02-28T13:29:56.372Z"
   },
   {
    "duration": 8,
    "start_time": "2023-02-28T13:29:56.597Z"
   },
   {
    "duration": 19,
    "start_time": "2023-02-28T13:29:56.606Z"
   },
   {
    "duration": 2708,
    "start_time": "2023-02-28T13:29:56.626Z"
   },
   {
    "duration": 6,
    "start_time": "2023-02-28T13:29:59.335Z"
   },
   {
    "duration": 30,
    "start_time": "2023-02-28T13:29:59.347Z"
   },
   {
    "duration": 29,
    "start_time": "2023-02-28T13:29:59.379Z"
   },
   {
    "duration": 4,
    "start_time": "2023-02-28T13:29:59.410Z"
   },
   {
    "duration": 8,
    "start_time": "2023-02-28T13:29:59.415Z"
   },
   {
    "duration": 399,
    "start_time": "2023-02-28T13:29:59.425Z"
   },
   {
    "duration": 9,
    "start_time": "2023-02-28T13:29:59.826Z"
   },
   {
    "duration": 934,
    "start_time": "2023-02-28T13:29:59.837Z"
   },
   {
    "duration": 17,
    "start_time": "2023-02-28T13:30:00.773Z"
   },
   {
    "duration": 31,
    "start_time": "2023-02-28T13:30:00.791Z"
   },
   {
    "duration": 230,
    "start_time": "2023-02-28T13:30:00.824Z"
   },
   {
    "duration": 9,
    "start_time": "2023-02-28T13:30:01.060Z"
   },
   {
    "duration": 73,
    "start_time": "2023-02-28T13:30:01.074Z"
   },
   {
    "duration": 60,
    "start_time": "2023-02-28T13:30:01.150Z"
   },
   {
    "duration": 431,
    "start_time": "2023-02-28T13:30:01.212Z"
   },
   {
    "duration": 17,
    "start_time": "2023-02-28T13:30:01.647Z"
   },
   {
    "duration": 38,
    "start_time": "2023-02-28T13:30:01.666Z"
   },
   {
    "duration": 676,
    "start_time": "2023-02-28T13:30:01.706Z"
   },
   {
    "duration": 20,
    "start_time": "2023-02-28T13:30:02.384Z"
   },
   {
    "duration": 177,
    "start_time": "2023-02-28T13:30:02.405Z"
   },
   {
    "duration": 77,
    "start_time": "2023-02-28T13:30:02.584Z"
   },
   {
    "duration": 356,
    "start_time": "2023-02-28T13:30:02.662Z"
   },
   {
    "duration": 10,
    "start_time": "2023-02-28T13:30:03.020Z"
   },
   {
    "duration": 23,
    "start_time": "2023-02-28T13:30:03.032Z"
   },
   {
    "duration": 408,
    "start_time": "2023-02-28T13:30:03.057Z"
   },
   {
    "duration": 14,
    "start_time": "2023-02-28T13:30:03.467Z"
   },
   {
    "duration": 20,
    "start_time": "2023-02-28T13:30:03.483Z"
   },
   {
    "duration": 19,
    "start_time": "2023-02-28T13:30:03.505Z"
   },
   {
    "duration": 16,
    "start_time": "2023-02-28T13:30:03.526Z"
   },
   {
    "duration": 11,
    "start_time": "2023-02-28T13:30:03.543Z"
   },
   {
    "duration": 94,
    "start_time": "2023-02-28T13:30:03.555Z"
   },
   {
    "duration": 5,
    "start_time": "2023-02-28T13:30:03.652Z"
   },
   {
    "duration": 18,
    "start_time": "2023-02-28T13:30:03.658Z"
   },
   {
    "duration": 236,
    "start_time": "2023-02-28T13:30:03.678Z"
   },
   {
    "duration": 7,
    "start_time": "2023-02-28T13:30:03.916Z"
   },
   {
    "duration": 23,
    "start_time": "2023-02-28T13:30:03.925Z"
   },
   {
    "duration": 6,
    "start_time": "2023-02-28T13:30:03.950Z"
   },
   {
    "duration": 22,
    "start_time": "2023-02-28T13:30:03.958Z"
   },
   {
    "duration": 86,
    "start_time": "2023-02-28T13:30:03.982Z"
   },
   {
    "duration": 14,
    "start_time": "2023-02-28T13:30:04.069Z"
   },
   {
    "duration": 36,
    "start_time": "2023-02-28T13:30:04.085Z"
   },
   {
    "duration": 239,
    "start_time": "2023-02-28T13:30:04.124Z"
   },
   {
    "duration": 8837,
    "start_time": "2023-02-28T13:30:04.365Z"
   },
   {
    "duration": 43,
    "start_time": "2023-02-28T13:30:13.205Z"
   },
   {
    "duration": 20,
    "start_time": "2023-02-28T13:30:13.251Z"
   },
   {
    "duration": 4,
    "start_time": "2023-02-28T13:30:13.274Z"
   },
   {
    "duration": 71,
    "start_time": "2023-02-28T13:30:13.281Z"
   },
   {
    "duration": 29,
    "start_time": "2023-02-28T13:30:13.354Z"
   },
   {
    "duration": 8,
    "start_time": "2023-02-28T13:30:13.385Z"
   },
   {
    "duration": 157,
    "start_time": "2023-02-28T13:30:13.395Z"
   },
   {
    "duration": 6,
    "start_time": "2023-02-28T13:30:13.554Z"
   },
   {
    "duration": 13,
    "start_time": "2023-02-28T13:30:13.561Z"
   },
   {
    "duration": 8,
    "start_time": "2023-02-28T13:30:13.576Z"
   },
   {
    "duration": 28,
    "start_time": "2023-02-28T13:30:13.586Z"
   },
   {
    "duration": 42,
    "start_time": "2023-02-28T13:30:13.615Z"
   },
   {
    "duration": 16,
    "start_time": "2023-02-28T13:30:13.659Z"
   },
   {
    "duration": 9,
    "start_time": "2023-02-28T13:30:13.677Z"
   },
   {
    "duration": 392,
    "start_time": "2023-02-28T13:30:13.688Z"
   },
   {
    "duration": 7,
    "start_time": "2023-02-28T13:30:14.082Z"
   },
   {
    "duration": 13,
    "start_time": "2023-02-28T13:30:14.090Z"
   },
   {
    "duration": 115,
    "start_time": "2023-02-28T13:30:14.105Z"
   },
   {
    "duration": 7,
    "start_time": "2023-02-28T13:30:14.221Z"
   },
   {
    "duration": 21,
    "start_time": "2023-02-28T13:30:14.229Z"
   },
   {
    "duration": 47,
    "start_time": "2023-02-28T13:30:14.252Z"
   },
   {
    "duration": 19,
    "start_time": "2023-02-28T13:30:14.300Z"
   },
   {
    "duration": 273,
    "start_time": "2023-02-28T13:30:14.321Z"
   },
   {
    "duration": 7,
    "start_time": "2023-02-28T13:30:14.599Z"
   },
   {
    "duration": 12,
    "start_time": "2023-02-28T13:30:14.608Z"
   },
   {
    "duration": 11,
    "start_time": "2023-02-28T13:30:14.621Z"
   },
   {
    "duration": 18,
    "start_time": "2023-02-28T13:30:14.634Z"
   },
   {
    "duration": 499,
    "start_time": "2023-02-28T13:30:14.654Z"
   },
   {
    "duration": 118,
    "start_time": "2023-02-28T13:30:15.155Z"
   },
   {
    "duration": 1561,
    "start_time": "2023-02-28T13:34:28.140Z"
   },
   {
    "duration": 66,
    "start_time": "2023-02-28T13:34:29.703Z"
   },
   {
    "duration": 19,
    "start_time": "2023-02-28T13:34:29.771Z"
   },
   {
    "duration": 14,
    "start_time": "2023-02-28T13:34:29.792Z"
   },
   {
    "duration": 15,
    "start_time": "2023-02-28T13:34:29.808Z"
   },
   {
    "duration": 18,
    "start_time": "2023-02-28T13:34:29.848Z"
   },
   {
    "duration": 7,
    "start_time": "2023-02-28T13:34:29.868Z"
   },
   {
    "duration": 7,
    "start_time": "2023-02-28T13:34:29.877Z"
   },
   {
    "duration": 28,
    "start_time": "2023-02-28T13:34:29.885Z"
   },
   {
    "duration": 37,
    "start_time": "2023-02-28T13:34:29.916Z"
   },
   {
    "duration": 215,
    "start_time": "2023-02-28T13:34:29.954Z"
   },
   {
    "duration": 8,
    "start_time": "2023-02-28T13:34:30.171Z"
   },
   {
    "duration": 33,
    "start_time": "2023-02-28T13:34:30.180Z"
   },
   {
    "duration": 2692,
    "start_time": "2023-02-28T13:34:30.214Z"
   },
   {
    "duration": 5,
    "start_time": "2023-02-28T13:34:32.908Z"
   },
   {
    "duration": 24,
    "start_time": "2023-02-28T13:34:32.915Z"
   },
   {
    "duration": 35,
    "start_time": "2023-02-28T13:34:32.941Z"
   },
   {
    "duration": 5,
    "start_time": "2023-02-28T13:34:32.978Z"
   },
   {
    "duration": 8,
    "start_time": "2023-02-28T13:34:32.985Z"
   },
   {
    "duration": 395,
    "start_time": "2023-02-28T13:34:32.995Z"
   },
   {
    "duration": 6,
    "start_time": "2023-02-28T13:34:33.392Z"
   },
   {
    "duration": 870,
    "start_time": "2023-02-28T13:34:33.400Z"
   },
   {
    "duration": 13,
    "start_time": "2023-02-28T13:34:34.272Z"
   },
   {
    "duration": 24,
    "start_time": "2023-02-28T13:34:34.286Z"
   },
   {
    "duration": 184,
    "start_time": "2023-02-28T13:34:34.312Z"
   },
   {
    "duration": 9,
    "start_time": "2023-02-28T13:34:34.498Z"
   },
   {
    "duration": 13,
    "start_time": "2023-02-28T13:34:34.508Z"
   },
   {
    "duration": 23,
    "start_time": "2023-02-28T13:34:34.526Z"
   },
   {
    "duration": 391,
    "start_time": "2023-02-28T13:34:34.551Z"
   },
   {
    "duration": 18,
    "start_time": "2023-02-28T13:34:34.943Z"
   },
   {
    "duration": 11,
    "start_time": "2023-02-28T13:34:34.962Z"
   },
   {
    "duration": 646,
    "start_time": "2023-02-28T13:34:34.975Z"
   },
   {
    "duration": 34,
    "start_time": "2023-02-28T13:34:35.623Z"
   },
   {
    "duration": 9,
    "start_time": "2023-02-28T13:34:35.659Z"
   },
   {
    "duration": 21,
    "start_time": "2023-02-28T13:34:35.670Z"
   },
   {
    "duration": 427,
    "start_time": "2023-02-28T13:34:35.693Z"
   },
   {
    "duration": 10,
    "start_time": "2023-02-28T13:34:36.121Z"
   },
   {
    "duration": 9,
    "start_time": "2023-02-28T13:34:36.148Z"
   },
   {
    "duration": 347,
    "start_time": "2023-02-28T13:34:36.159Z"
   },
   {
    "duration": 13,
    "start_time": "2023-02-28T13:34:36.507Z"
   },
   {
    "duration": 10,
    "start_time": "2023-02-28T13:34:36.522Z"
   },
   {
    "duration": 30,
    "start_time": "2023-02-28T13:34:36.533Z"
   },
   {
    "duration": 16,
    "start_time": "2023-02-28T13:34:36.564Z"
   },
   {
    "duration": 16,
    "start_time": "2023-02-28T13:34:36.582Z"
   },
   {
    "duration": 83,
    "start_time": "2023-02-28T13:34:36.600Z"
   },
   {
    "duration": 5,
    "start_time": "2023-02-28T13:34:36.685Z"
   },
   {
    "duration": 32,
    "start_time": "2023-02-28T13:34:36.691Z"
   },
   {
    "duration": 209,
    "start_time": "2023-02-28T13:34:36.724Z"
   },
   {
    "duration": 6,
    "start_time": "2023-02-28T13:34:36.934Z"
   },
   {
    "duration": 8,
    "start_time": "2023-02-28T13:34:36.948Z"
   },
   {
    "duration": 5,
    "start_time": "2023-02-28T13:34:36.957Z"
   },
   {
    "duration": 14,
    "start_time": "2023-02-28T13:34:36.963Z"
   },
   {
    "duration": 73,
    "start_time": "2023-02-28T13:34:36.979Z"
   },
   {
    "duration": 12,
    "start_time": "2023-02-28T13:34:37.054Z"
   },
   {
    "duration": 47,
    "start_time": "2023-02-28T13:34:37.067Z"
   },
   {
    "duration": 217,
    "start_time": "2023-02-28T13:34:37.116Z"
   },
   {
    "duration": 8796,
    "start_time": "2023-02-28T13:34:37.335Z"
   },
   {
    "duration": 27,
    "start_time": "2023-02-28T13:34:46.133Z"
   },
   {
    "duration": 13,
    "start_time": "2023-02-28T13:34:46.161Z"
   },
   {
    "duration": 3,
    "start_time": "2023-02-28T13:34:46.176Z"
   },
   {
    "duration": 68,
    "start_time": "2023-02-28T13:34:46.180Z"
   },
   {
    "duration": 48,
    "start_time": "2023-02-28T13:34:46.250Z"
   },
   {
    "duration": 56,
    "start_time": "2023-02-28T13:34:46.300Z"
   },
   {
    "duration": 121,
    "start_time": "2023-02-28T13:34:46.359Z"
   },
   {
    "duration": 7,
    "start_time": "2023-02-28T13:34:46.483Z"
   },
   {
    "duration": 12,
    "start_time": "2023-02-28T13:34:46.492Z"
   },
   {
    "duration": 10,
    "start_time": "2023-02-28T13:34:46.505Z"
   },
   {
    "duration": 54,
    "start_time": "2023-02-28T13:34:46.516Z"
   },
   {
    "duration": 11,
    "start_time": "2023-02-28T13:34:46.571Z"
   },
   {
    "duration": 13,
    "start_time": "2023-02-28T13:34:46.584Z"
   },
   {
    "duration": 8,
    "start_time": "2023-02-28T13:34:46.599Z"
   },
   {
    "duration": 423,
    "start_time": "2023-02-28T13:34:46.609Z"
   },
   {
    "duration": 16,
    "start_time": "2023-02-28T13:34:47.034Z"
   },
   {
    "duration": 8,
    "start_time": "2023-02-28T13:34:47.052Z"
   },
   {
    "duration": 108,
    "start_time": "2023-02-28T13:34:47.061Z"
   },
   {
    "duration": 5,
    "start_time": "2023-02-28T13:34:47.171Z"
   },
   {
    "duration": 5,
    "start_time": "2023-02-28T13:34:47.178Z"
   },
   {
    "duration": 14,
    "start_time": "2023-02-28T13:34:47.185Z"
   },
   {
    "duration": 4,
    "start_time": "2023-02-28T13:34:47.201Z"
   },
   {
    "duration": 280,
    "start_time": "2023-02-28T13:34:47.206Z"
   },
   {
    "duration": 7,
    "start_time": "2023-02-28T13:34:47.488Z"
   },
   {
    "duration": 10,
    "start_time": "2023-02-28T13:34:47.500Z"
   },
   {
    "duration": 9,
    "start_time": "2023-02-28T13:34:47.511Z"
   },
   {
    "duration": 27,
    "start_time": "2023-02-28T13:34:47.522Z"
   },
   {
    "duration": 481,
    "start_time": "2023-02-28T13:34:47.552Z"
   },
   {
    "duration": 99,
    "start_time": "2023-02-28T13:34:48.035Z"
   },
   {
    "duration": 1507,
    "start_time": "2023-02-28T17:29:04.906Z"
   },
   {
    "duration": 63,
    "start_time": "2023-02-28T17:29:06.414Z"
   },
   {
    "duration": 19,
    "start_time": "2023-02-28T17:29:06.479Z"
   },
   {
    "duration": 14,
    "start_time": "2023-02-28T17:29:06.500Z"
   },
   {
    "duration": 34,
    "start_time": "2023-02-28T17:29:06.517Z"
   },
   {
    "duration": 15,
    "start_time": "2023-02-28T17:29:06.552Z"
   },
   {
    "duration": 4,
    "start_time": "2023-02-28T17:29:06.568Z"
   },
   {
    "duration": 6,
    "start_time": "2023-02-28T17:29:06.574Z"
   },
   {
    "duration": 34,
    "start_time": "2023-02-28T17:29:06.581Z"
   },
   {
    "duration": 35,
    "start_time": "2023-02-28T17:29:06.617Z"
   },
   {
    "duration": 213,
    "start_time": "2023-02-28T17:29:06.654Z"
   },
   {
    "duration": 8,
    "start_time": "2023-02-28T17:29:06.869Z"
   },
   {
    "duration": 18,
    "start_time": "2023-02-28T17:29:06.878Z"
   },
   {
    "duration": 2632,
    "start_time": "2023-02-28T17:29:06.900Z"
   },
   {
    "duration": 7,
    "start_time": "2023-02-28T17:29:09.534Z"
   },
   {
    "duration": 30,
    "start_time": "2023-02-28T17:29:09.548Z"
   },
   {
    "duration": 30,
    "start_time": "2023-02-28T17:29:09.579Z"
   },
   {
    "duration": 12,
    "start_time": "2023-02-28T17:29:09.611Z"
   },
   {
    "duration": 20,
    "start_time": "2023-02-28T17:29:09.625Z"
   },
   {
    "duration": 436,
    "start_time": "2023-02-28T17:29:09.646Z"
   },
   {
    "duration": 5,
    "start_time": "2023-02-28T17:29:10.084Z"
   },
   {
    "duration": 835,
    "start_time": "2023-02-28T17:29:10.091Z"
   },
   {
    "duration": 28,
    "start_time": "2023-02-28T17:29:10.927Z"
   },
   {
    "duration": 28,
    "start_time": "2023-02-28T17:29:10.957Z"
   },
   {
    "duration": 189,
    "start_time": "2023-02-28T17:29:10.987Z"
   },
   {
    "duration": 8,
    "start_time": "2023-02-28T17:29:11.178Z"
   },
   {
    "duration": 39,
    "start_time": "2023-02-28T17:29:11.188Z"
   },
   {
    "duration": 21,
    "start_time": "2023-02-28T17:29:11.229Z"
   },
   {
    "duration": 396,
    "start_time": "2023-02-28T17:29:11.252Z"
   },
   {
    "duration": 16,
    "start_time": "2023-02-28T17:29:11.649Z"
   },
   {
    "duration": 16,
    "start_time": "2023-02-28T17:29:11.667Z"
   },
   {
    "duration": 634,
    "start_time": "2023-02-28T17:29:11.684Z"
   },
   {
    "duration": 31,
    "start_time": "2023-02-28T17:29:12.319Z"
   },
   {
    "duration": 8,
    "start_time": "2023-02-28T17:29:12.352Z"
   },
   {
    "duration": 25,
    "start_time": "2023-02-28T17:29:12.362Z"
   },
   {
    "duration": 293,
    "start_time": "2023-02-28T17:29:12.389Z"
   },
   {
    "duration": 12,
    "start_time": "2023-02-28T17:29:12.684Z"
   },
   {
    "duration": 21,
    "start_time": "2023-02-28T17:29:12.699Z"
   },
   {
    "duration": 346,
    "start_time": "2023-02-28T17:29:12.722Z"
   },
   {
    "duration": 12,
    "start_time": "2023-02-28T17:29:13.070Z"
   },
   {
    "duration": 20,
    "start_time": "2023-02-28T17:29:13.087Z"
   },
   {
    "duration": 22,
    "start_time": "2023-02-28T17:29:13.109Z"
   },
   {
    "duration": 22,
    "start_time": "2023-02-28T17:29:13.133Z"
   },
   {
    "duration": 27,
    "start_time": "2023-02-28T17:29:13.157Z"
   },
   {
    "duration": 129,
    "start_time": "2023-02-28T17:29:13.186Z"
   },
   {
    "duration": 7,
    "start_time": "2023-02-28T17:29:13.317Z"
   },
   {
    "duration": 17,
    "start_time": "2023-02-28T17:29:13.325Z"
   },
   {
    "duration": 215,
    "start_time": "2023-02-28T17:29:13.348Z"
   },
   {
    "duration": 6,
    "start_time": "2023-02-28T17:29:13.565Z"
   },
   {
    "duration": 24,
    "start_time": "2023-02-28T17:29:13.573Z"
   },
   {
    "duration": 10,
    "start_time": "2023-02-28T17:29:13.599Z"
   },
   {
    "duration": 27,
    "start_time": "2023-02-28T17:29:13.611Z"
   },
   {
    "duration": 91,
    "start_time": "2023-02-28T17:29:13.640Z"
   },
   {
    "duration": 13,
    "start_time": "2023-02-28T17:29:13.733Z"
   },
   {
    "duration": 47,
    "start_time": "2023-02-28T17:29:13.747Z"
   },
   {
    "duration": 209,
    "start_time": "2023-02-28T17:29:13.795Z"
   },
   {
    "duration": 8842,
    "start_time": "2023-02-28T17:29:14.006Z"
   },
   {
    "duration": 15,
    "start_time": "2023-02-28T17:29:22.852Z"
   },
   {
    "duration": 15,
    "start_time": "2023-02-28T17:29:22.868Z"
   },
   {
    "duration": 63,
    "start_time": "2023-02-28T17:29:22.885Z"
   },
   {
    "duration": 12,
    "start_time": "2023-02-28T17:29:22.950Z"
   },
   {
    "duration": 32,
    "start_time": "2023-02-28T17:29:22.964Z"
   },
   {
    "duration": 51,
    "start_time": "2023-02-28T17:29:22.998Z"
   },
   {
    "duration": 154,
    "start_time": "2023-02-28T17:29:23.051Z"
   },
   {
    "duration": 7,
    "start_time": "2023-02-28T17:29:23.207Z"
   },
   {
    "duration": 49,
    "start_time": "2023-02-28T17:29:23.218Z"
   },
   {
    "duration": 39,
    "start_time": "2023-02-28T17:29:23.269Z"
   },
   {
    "duration": 36,
    "start_time": "2023-02-28T17:29:23.310Z"
   },
   {
    "duration": 24,
    "start_time": "2023-02-28T17:29:23.349Z"
   },
   {
    "duration": 15,
    "start_time": "2023-02-28T17:29:23.374Z"
   },
   {
    "duration": 12,
    "start_time": "2023-02-28T17:29:23.390Z"
   },
   {
    "duration": 377,
    "start_time": "2023-02-28T17:29:23.404Z"
   },
   {
    "duration": 8,
    "start_time": "2023-02-28T17:29:23.783Z"
   },
   {
    "duration": 35,
    "start_time": "2023-02-28T17:29:23.793Z"
   },
   {
    "duration": 142,
    "start_time": "2023-02-28T17:29:23.830Z"
   },
   {
    "duration": 7,
    "start_time": "2023-02-28T17:29:23.974Z"
   },
   {
    "duration": 9,
    "start_time": "2023-02-28T17:29:23.983Z"
   },
   {
    "duration": 19,
    "start_time": "2023-02-28T17:29:23.993Z"
   },
   {
    "duration": 18,
    "start_time": "2023-02-28T17:29:24.014Z"
   },
   {
    "duration": 277,
    "start_time": "2023-02-28T17:29:24.034Z"
   },
   {
    "duration": 9,
    "start_time": "2023-02-28T17:29:24.313Z"
   },
   {
    "duration": 28,
    "start_time": "2023-02-28T17:29:24.323Z"
   },
   {
    "duration": 7,
    "start_time": "2023-02-28T17:29:24.354Z"
   },
   {
    "duration": 13,
    "start_time": "2023-02-28T17:29:24.363Z"
   },
   {
    "duration": 502,
    "start_time": "2023-02-28T17:29:24.378Z"
   },
   {
    "duration": 110,
    "start_time": "2023-02-28T17:29:24.883Z"
   },
   {
    "duration": 1871,
    "start_time": "2023-03-03T12:04:00.086Z"
   },
   {
    "duration": 232,
    "start_time": "2023-03-03T12:04:01.959Z"
   },
   {
    "duration": 27,
    "start_time": "2023-03-03T12:04:02.193Z"
   },
   {
    "duration": 19,
    "start_time": "2023-03-03T12:04:02.223Z"
   },
   {
    "duration": 15,
    "start_time": "2023-03-03T12:04:02.244Z"
   },
   {
    "duration": 29,
    "start_time": "2023-03-03T12:04:02.261Z"
   },
   {
    "duration": 35,
    "start_time": "2023-03-03T12:04:02.291Z"
   },
   {
    "duration": 22,
    "start_time": "2023-03-03T12:04:02.328Z"
   },
   {
    "duration": 45,
    "start_time": "2023-03-03T12:04:02.352Z"
   },
   {
    "duration": 7,
    "start_time": "2023-03-03T12:04:02.399Z"
   },
   {
    "duration": 256,
    "start_time": "2023-03-03T12:04:02.408Z"
   },
   {
    "duration": 7,
    "start_time": "2023-03-03T12:04:02.666Z"
   },
   {
    "duration": 39,
    "start_time": "2023-03-03T12:04:02.675Z"
   },
   {
    "duration": 3108,
    "start_time": "2023-03-03T12:04:02.716Z"
   },
   {
    "duration": 7,
    "start_time": "2023-03-03T12:04:05.825Z"
   },
   {
    "duration": 45,
    "start_time": "2023-03-03T12:04:05.833Z"
   },
   {
    "duration": 29,
    "start_time": "2023-03-03T12:04:05.880Z"
   },
   {
    "duration": 3,
    "start_time": "2023-03-03T12:04:05.911Z"
   },
   {
    "duration": 24,
    "start_time": "2023-03-03T12:04:05.916Z"
   },
   {
    "duration": 460,
    "start_time": "2023-03-03T12:04:05.941Z"
   },
   {
    "duration": 6,
    "start_time": "2023-03-03T12:04:06.404Z"
   },
   {
    "duration": 970,
    "start_time": "2023-03-03T12:04:06.412Z"
   },
   {
    "duration": 14,
    "start_time": "2023-03-03T12:04:07.384Z"
   },
   {
    "duration": 30,
    "start_time": "2023-03-03T12:04:07.400Z"
   },
   {
    "duration": 220,
    "start_time": "2023-03-03T12:04:07.431Z"
   },
   {
    "duration": 9,
    "start_time": "2023-03-03T12:04:07.653Z"
   },
   {
    "duration": 13,
    "start_time": "2023-03-03T12:04:07.665Z"
   },
   {
    "duration": 8,
    "start_time": "2023-03-03T12:04:07.684Z"
   },
   {
    "duration": 439,
    "start_time": "2023-03-03T12:04:07.724Z"
   },
   {
    "duration": 20,
    "start_time": "2023-03-03T12:04:08.165Z"
   },
   {
    "duration": 71,
    "start_time": "2023-03-03T12:04:08.187Z"
   },
   {
    "duration": 824,
    "start_time": "2023-03-03T12:04:08.260Z"
   },
   {
    "duration": 48,
    "start_time": "2023-03-03T12:04:09.087Z"
   },
   {
    "duration": 15,
    "start_time": "2023-03-03T12:04:09.137Z"
   },
   {
    "duration": 10,
    "start_time": "2023-03-03T12:04:09.154Z"
   },
   {
    "duration": 349,
    "start_time": "2023-03-03T12:04:09.166Z"
   },
   {
    "duration": 19,
    "start_time": "2023-03-03T12:04:09.517Z"
   },
   {
    "duration": 13,
    "start_time": "2023-03-03T12:04:09.538Z"
   },
   {
    "duration": 386,
    "start_time": "2023-03-03T12:04:09.552Z"
   },
   {
    "duration": 13,
    "start_time": "2023-03-03T12:04:09.940Z"
   },
   {
    "duration": 37,
    "start_time": "2023-03-03T12:04:09.955Z"
   },
   {
    "duration": 12,
    "start_time": "2023-03-03T12:04:09.994Z"
   },
   {
    "duration": 27,
    "start_time": "2023-03-03T12:04:10.009Z"
   },
   {
    "duration": 19,
    "start_time": "2023-03-03T12:04:10.038Z"
   },
   {
    "duration": 91,
    "start_time": "2023-03-03T12:04:10.059Z"
   },
   {
    "duration": 7,
    "start_time": "2023-03-03T12:04:10.152Z"
   },
   {
    "duration": 19,
    "start_time": "2023-03-03T12:04:10.161Z"
   },
   {
    "duration": 274,
    "start_time": "2023-03-03T12:04:10.182Z"
   },
   {
    "duration": 7,
    "start_time": "2023-03-03T12:04:10.458Z"
   },
   {
    "duration": 10,
    "start_time": "2023-03-03T12:04:10.466Z"
   },
   {
    "duration": 10,
    "start_time": "2023-03-03T12:04:10.478Z"
   },
   {
    "duration": 32,
    "start_time": "2023-03-03T12:04:10.493Z"
   },
   {
    "duration": 89,
    "start_time": "2023-03-03T12:04:10.527Z"
   },
   {
    "duration": 23,
    "start_time": "2023-03-03T12:04:10.618Z"
   },
   {
    "duration": 131,
    "start_time": "2023-03-03T12:04:10.652Z"
   },
   {
    "duration": 279,
    "start_time": "2023-03-03T12:04:10.785Z"
   },
   {
    "duration": 10530,
    "start_time": "2023-03-03T12:04:11.067Z"
   },
   {
    "duration": 49,
    "start_time": "2023-03-03T12:04:21.599Z"
   },
   {
    "duration": 28,
    "start_time": "2023-03-03T12:04:21.649Z"
   },
   {
    "duration": 45,
    "start_time": "2023-03-03T12:04:21.679Z"
   },
   {
    "duration": 12,
    "start_time": "2023-03-03T12:04:21.726Z"
   },
   {
    "duration": 24,
    "start_time": "2023-03-03T12:04:21.744Z"
   },
   {
    "duration": 64,
    "start_time": "2023-03-03T12:04:21.770Z"
   },
   {
    "duration": 149,
    "start_time": "2023-03-03T12:04:21.839Z"
   },
   {
    "duration": 39,
    "start_time": "2023-03-03T12:04:21.990Z"
   },
   {
    "duration": 47,
    "start_time": "2023-03-03T12:04:22.033Z"
   },
   {
    "duration": 32,
    "start_time": "2023-03-03T12:04:22.083Z"
   },
   {
    "duration": 62,
    "start_time": "2023-03-03T12:04:22.117Z"
   },
   {
    "duration": 16,
    "start_time": "2023-03-03T12:04:22.181Z"
   },
   {
    "duration": 15,
    "start_time": "2023-03-03T12:04:22.198Z"
   },
   {
    "duration": 15,
    "start_time": "2023-03-03T12:04:22.215Z"
   },
   {
    "duration": 442,
    "start_time": "2023-03-03T12:04:22.233Z"
   },
   {
    "duration": 9,
    "start_time": "2023-03-03T12:04:22.677Z"
   },
   {
    "duration": 21,
    "start_time": "2023-03-03T12:04:22.687Z"
   },
   {
    "duration": 145,
    "start_time": "2023-03-03T12:04:22.710Z"
   },
   {
    "duration": 6,
    "start_time": "2023-03-03T12:04:22.857Z"
   },
   {
    "duration": 7,
    "start_time": "2023-03-03T12:04:22.864Z"
   },
   {
    "duration": 13,
    "start_time": "2023-03-03T12:04:22.873Z"
   },
   {
    "duration": 41,
    "start_time": "2023-03-03T12:04:22.888Z"
   },
   {
    "duration": 310,
    "start_time": "2023-03-03T12:04:22.933Z"
   },
   {
    "duration": 8,
    "start_time": "2023-03-03T12:04:23.245Z"
   },
   {
    "duration": 15,
    "start_time": "2023-03-03T12:04:23.263Z"
   },
   {
    "duration": 11,
    "start_time": "2023-03-03T12:04:23.281Z"
   },
   {
    "duration": 32,
    "start_time": "2023-03-03T12:04:23.295Z"
   },
   {
    "duration": 498,
    "start_time": "2023-03-03T12:04:23.332Z"
   },
   {
    "duration": 130,
    "start_time": "2023-03-03T12:04:23.837Z"
   },
   {
    "duration": 1572,
    "start_time": "2023-03-12T22:05:37.373Z"
   },
   {
    "duration": 116,
    "start_time": "2023-03-12T22:05:38.947Z"
   },
   {
    "duration": 17,
    "start_time": "2023-03-12T22:05:39.065Z"
   },
   {
    "duration": 12,
    "start_time": "2023-03-12T22:05:39.083Z"
   },
   {
    "duration": 10,
    "start_time": "2023-03-12T22:05:39.096Z"
   },
   {
    "duration": 29,
    "start_time": "2023-03-12T22:05:39.107Z"
   },
   {
    "duration": 4,
    "start_time": "2023-03-12T22:05:39.137Z"
   },
   {
    "duration": 7,
    "start_time": "2023-03-12T22:05:39.142Z"
   },
   {
    "duration": 22,
    "start_time": "2023-03-12T22:05:39.151Z"
   },
   {
    "duration": 5,
    "start_time": "2023-03-12T22:05:39.176Z"
   },
   {
    "duration": 212,
    "start_time": "2023-03-12T22:05:39.182Z"
   },
   {
    "duration": 8,
    "start_time": "2023-03-12T22:05:39.396Z"
   },
   {
    "duration": 33,
    "start_time": "2023-03-12T22:05:39.405Z"
   },
   {
    "duration": 2804,
    "start_time": "2023-03-12T22:05:39.439Z"
   },
   {
    "duration": 7,
    "start_time": "2023-03-12T22:05:42.244Z"
   },
   {
    "duration": 21,
    "start_time": "2023-03-12T22:05:42.252Z"
   },
   {
    "duration": 20,
    "start_time": "2023-03-12T22:05:42.274Z"
   },
   {
    "duration": 2,
    "start_time": "2023-03-12T22:05:42.296Z"
   },
   {
    "duration": 4,
    "start_time": "2023-03-12T22:05:42.300Z"
   },
   {
    "duration": 489,
    "start_time": "2023-03-12T22:05:42.305Z"
   },
   {
    "duration": 6,
    "start_time": "2023-03-12T22:05:42.796Z"
   },
   {
    "duration": 777,
    "start_time": "2023-03-12T22:05:42.804Z"
   },
   {
    "duration": 11,
    "start_time": "2023-03-12T22:05:43.583Z"
   },
   {
    "duration": 7,
    "start_time": "2023-03-12T22:05:43.595Z"
   },
   {
    "duration": 191,
    "start_time": "2023-03-12T22:05:43.603Z"
   },
   {
    "duration": 8,
    "start_time": "2023-03-12T22:05:43.795Z"
   },
   {
    "duration": 7,
    "start_time": "2023-03-12T22:05:43.805Z"
   },
   {
    "duration": 6,
    "start_time": "2023-03-12T22:05:43.920Z"
   },
   {
    "duration": 278,
    "start_time": "2023-03-12T22:05:43.932Z"
   },
   {
    "duration": 24,
    "start_time": "2023-03-12T22:05:44.211Z"
   },
   {
    "duration": 7,
    "start_time": "2023-03-12T22:05:44.237Z"
   },
   {
    "duration": 568,
    "start_time": "2023-03-12T22:05:44.246Z"
   },
   {
    "duration": 25,
    "start_time": "2023-03-12T22:05:44.815Z"
   },
   {
    "duration": 7,
    "start_time": "2023-03-12T22:05:44.842Z"
   },
   {
    "duration": 8,
    "start_time": "2023-03-12T22:05:44.850Z"
   },
   {
    "duration": 289,
    "start_time": "2023-03-12T22:05:44.859Z"
   },
   {
    "duration": 10,
    "start_time": "2023-03-12T22:05:45.150Z"
   },
   {
    "duration": 8,
    "start_time": "2023-03-12T22:05:45.162Z"
   },
   {
    "duration": 365,
    "start_time": "2023-03-12T22:05:45.172Z"
   },
   {
    "duration": 14,
    "start_time": "2023-03-12T22:05:45.539Z"
   },
   {
    "duration": 2,
    "start_time": "2023-03-12T22:05:45.555Z"
   },
   {
    "duration": 8,
    "start_time": "2023-03-12T22:05:45.559Z"
   },
   {
    "duration": 10,
    "start_time": "2023-03-12T22:05:45.569Z"
   },
   {
    "duration": 5,
    "start_time": "2023-03-12T22:05:45.581Z"
   },
   {
    "duration": 104,
    "start_time": "2023-03-12T22:05:45.588Z"
   },
   {
    "duration": 6,
    "start_time": "2023-03-12T22:05:45.693Z"
   },
   {
    "duration": 6,
    "start_time": "2023-03-12T22:05:45.700Z"
   },
   {
    "duration": 206,
    "start_time": "2023-03-12T22:05:45.708Z"
   },
   {
    "duration": 5,
    "start_time": "2023-03-12T22:05:45.915Z"
   },
   {
    "duration": 16,
    "start_time": "2023-03-12T22:05:45.921Z"
   },
   {
    "duration": 5,
    "start_time": "2023-03-12T22:05:45.939Z"
   },
   {
    "duration": 11,
    "start_time": "2023-03-12T22:05:45.945Z"
   },
   {
    "duration": 60,
    "start_time": "2023-03-12T22:05:45.957Z"
   },
   {
    "duration": 23,
    "start_time": "2023-03-12T22:05:46.018Z"
   },
   {
    "duration": 183,
    "start_time": "2023-03-12T22:05:46.043Z"
   },
   {
    "duration": 96,
    "start_time": "2023-03-12T22:05:46.228Z"
   },
   {
    "duration": 8409,
    "start_time": "2023-03-12T22:05:46.333Z"
   },
   {
    "duration": 15,
    "start_time": "2023-03-12T22:05:54.743Z"
   },
   {
    "duration": 15,
    "start_time": "2023-03-12T22:05:54.760Z"
   },
   {
    "duration": 58,
    "start_time": "2023-03-12T22:05:54.777Z"
   },
   {
    "duration": 6,
    "start_time": "2023-03-12T22:05:54.836Z"
   },
   {
    "duration": 18,
    "start_time": "2023-03-12T22:05:54.844Z"
   },
   {
    "duration": 4,
    "start_time": "2023-03-12T22:05:54.864Z"
   },
   {
    "duration": 173,
    "start_time": "2023-03-12T22:05:54.869Z"
   },
   {
    "duration": 8,
    "start_time": "2023-03-12T22:05:55.043Z"
   },
   {
    "duration": 19,
    "start_time": "2023-03-12T22:05:55.052Z"
   },
   {
    "duration": 8,
    "start_time": "2023-03-12T22:05:55.072Z"
   },
   {
    "duration": 22,
    "start_time": "2023-03-12T22:05:55.081Z"
   },
   {
    "duration": 29,
    "start_time": "2023-03-12T22:05:55.105Z"
   },
   {
    "duration": 11,
    "start_time": "2023-03-12T22:05:55.135Z"
   },
   {
    "duration": 7,
    "start_time": "2023-03-12T22:05:55.148Z"
   },
   {
    "duration": 357,
    "start_time": "2023-03-12T22:05:55.156Z"
   },
   {
    "duration": 17,
    "start_time": "2023-03-12T22:05:55.515Z"
   },
   {
    "duration": 7,
    "start_time": "2023-03-12T22:05:55.534Z"
   },
   {
    "duration": 299,
    "start_time": "2023-03-12T22:05:55.542Z"
   },
   {
    "duration": 6,
    "start_time": "2023-03-12T22:05:55.842Z"
   },
   {
    "duration": 8,
    "start_time": "2023-03-12T22:05:55.850Z"
   },
   {
    "duration": 15,
    "start_time": "2023-03-12T22:05:55.860Z"
   },
   {
    "duration": 3,
    "start_time": "2023-03-12T22:05:55.877Z"
   },
   {
    "duration": 281,
    "start_time": "2023-03-12T22:05:55.881Z"
   },
   {
    "duration": 7,
    "start_time": "2023-03-12T22:05:56.163Z"
   },
   {
    "duration": 19,
    "start_time": "2023-03-12T22:05:56.175Z"
   },
   {
    "duration": 15,
    "start_time": "2023-03-12T22:05:56.195Z"
   },
   {
    "duration": 13,
    "start_time": "2023-03-12T22:05:56.211Z"
   },
   {
    "duration": 300,
    "start_time": "2023-03-12T22:05:56.226Z"
   },
   {
    "duration": 89,
    "start_time": "2023-03-12T22:05:56.527Z"
   },
   {
    "duration": 1811,
    "start_time": "2023-03-16T16:29:46.764Z"
   },
   {
    "duration": 254,
    "start_time": "2023-03-16T16:29:48.577Z"
   },
   {
    "duration": 22,
    "start_time": "2023-03-16T16:29:48.834Z"
   },
   {
    "duration": 14,
    "start_time": "2023-03-16T16:29:48.858Z"
   },
   {
    "duration": 11,
    "start_time": "2023-03-16T16:29:48.874Z"
   },
   {
    "duration": 38,
    "start_time": "2023-03-16T16:29:48.887Z"
   },
   {
    "duration": 8,
    "start_time": "2023-03-16T16:29:48.927Z"
   },
   {
    "duration": 6,
    "start_time": "2023-03-16T16:29:48.941Z"
   },
   {
    "duration": 25,
    "start_time": "2023-03-16T16:29:48.948Z"
   },
   {
    "duration": 4,
    "start_time": "2023-03-16T16:29:48.976Z"
   },
   {
    "duration": 245,
    "start_time": "2023-03-16T16:29:48.982Z"
   },
   {
    "duration": 9,
    "start_time": "2023-03-16T16:29:49.229Z"
   },
   {
    "duration": 21,
    "start_time": "2023-03-16T16:29:49.240Z"
   },
   {
    "duration": 3191,
    "start_time": "2023-03-16T16:29:49.262Z"
   },
   {
    "duration": 5,
    "start_time": "2023-03-16T16:29:52.455Z"
   },
   {
    "duration": 23,
    "start_time": "2023-03-16T16:29:52.462Z"
   },
   {
    "duration": 32,
    "start_time": "2023-03-16T16:29:52.487Z"
   },
   {
    "duration": 19,
    "start_time": "2023-03-16T16:29:52.520Z"
   },
   {
    "duration": 23,
    "start_time": "2023-03-16T16:29:52.542Z"
   },
   {
    "duration": 461,
    "start_time": "2023-03-16T16:29:52.566Z"
   },
   {
    "duration": 9,
    "start_time": "2023-03-16T16:29:53.030Z"
   },
   {
    "duration": 912,
    "start_time": "2023-03-16T16:29:53.041Z"
   },
   {
    "duration": 12,
    "start_time": "2023-03-16T16:29:53.955Z"
   },
   {
    "duration": 8,
    "start_time": "2023-03-16T16:29:53.968Z"
   },
   {
    "duration": 203,
    "start_time": "2023-03-16T16:29:53.977Z"
   },
   {
    "duration": 8,
    "start_time": "2023-03-16T16:29:54.182Z"
   },
   {
    "duration": 9,
    "start_time": "2023-03-16T16:29:54.191Z"
   },
   {
    "duration": 21,
    "start_time": "2023-03-16T16:29:54.204Z"
   },
   {
    "duration": 386,
    "start_time": "2023-03-16T16:29:54.227Z"
   },
   {
    "duration": 17,
    "start_time": "2023-03-16T16:29:54.623Z"
   },
   {
    "duration": 41,
    "start_time": "2023-03-16T16:29:54.642Z"
   },
   {
    "duration": 718,
    "start_time": "2023-03-16T16:29:54.685Z"
   },
   {
    "duration": 31,
    "start_time": "2023-03-16T16:29:55.405Z"
   },
   {
    "duration": 11,
    "start_time": "2023-03-16T16:29:55.439Z"
   },
   {
    "duration": 11,
    "start_time": "2023-03-16T16:29:55.451Z"
   },
   {
    "duration": 348,
    "start_time": "2023-03-16T16:29:55.464Z"
   },
   {
    "duration": 18,
    "start_time": "2023-03-16T16:29:55.813Z"
   },
   {
    "duration": 12,
    "start_time": "2023-03-16T16:29:55.833Z"
   },
   {
    "duration": 410,
    "start_time": "2023-03-16T16:29:55.850Z"
   },
   {
    "duration": 12,
    "start_time": "2023-03-16T16:29:56.262Z"
   },
   {
    "duration": 3,
    "start_time": "2023-03-16T16:29:56.275Z"
   },
   {
    "duration": 48,
    "start_time": "2023-03-16T16:29:56.280Z"
   },
   {
    "duration": 25,
    "start_time": "2023-03-16T16:29:56.331Z"
   },
   {
    "duration": 6,
    "start_time": "2023-03-16T16:29:56.358Z"
   },
   {
    "duration": 81,
    "start_time": "2023-03-16T16:29:56.365Z"
   },
   {
    "duration": 5,
    "start_time": "2023-03-16T16:29:56.449Z"
   },
   {
    "duration": 5,
    "start_time": "2023-03-16T16:29:56.456Z"
   },
   {
    "duration": 228,
    "start_time": "2023-03-16T16:29:56.463Z"
   },
   {
    "duration": 5,
    "start_time": "2023-03-16T16:29:56.693Z"
   },
   {
    "duration": 11,
    "start_time": "2023-03-16T16:29:56.700Z"
   },
   {
    "duration": 23,
    "start_time": "2023-03-16T16:29:56.712Z"
   },
   {
    "duration": 16,
    "start_time": "2023-03-16T16:29:56.737Z"
   },
   {
    "duration": 76,
    "start_time": "2023-03-16T16:29:56.755Z"
   },
   {
    "duration": 18,
    "start_time": "2023-03-16T16:29:56.834Z"
   },
   {
    "duration": 140,
    "start_time": "2023-03-16T16:29:56.854Z"
   },
   {
    "duration": 190,
    "start_time": "2023-03-16T16:29:56.996Z"
   },
   {
    "duration": 9283,
    "start_time": "2023-03-16T16:29:57.187Z"
   },
   {
    "duration": 15,
    "start_time": "2023-03-16T16:30:06.472Z"
   },
   {
    "duration": 55,
    "start_time": "2023-03-16T16:30:06.488Z"
   },
   {
    "duration": 3,
    "start_time": "2023-03-16T16:30:06.545Z"
   },
   {
    "duration": 6,
    "start_time": "2023-03-16T16:30:06.550Z"
   },
   {
    "duration": 82,
    "start_time": "2023-03-16T16:30:06.558Z"
   },
   {
    "duration": 4,
    "start_time": "2023-03-16T16:30:06.642Z"
   },
   {
    "duration": 207,
    "start_time": "2023-03-16T16:30:06.648Z"
   },
   {
    "duration": 7,
    "start_time": "2023-03-16T16:30:06.856Z"
   },
   {
    "duration": 12,
    "start_time": "2023-03-16T16:30:06.865Z"
   },
   {
    "duration": 10,
    "start_time": "2023-03-16T16:30:06.878Z"
   },
   {
    "duration": 64,
    "start_time": "2023-03-16T16:30:06.889Z"
   },
   {
    "duration": 10,
    "start_time": "2023-03-16T16:30:06.955Z"
   },
   {
    "duration": 17,
    "start_time": "2023-03-16T16:30:06.967Z"
   },
   {
    "duration": 7,
    "start_time": "2023-03-16T16:30:06.986Z"
   },
   {
    "duration": 396,
    "start_time": "2023-03-16T16:30:06.994Z"
   },
   {
    "duration": 6,
    "start_time": "2023-03-16T16:30:07.392Z"
   },
   {
    "duration": 10,
    "start_time": "2023-03-16T16:30:07.399Z"
   },
   {
    "duration": 113,
    "start_time": "2023-03-16T16:30:07.426Z"
   },
   {
    "duration": 10,
    "start_time": "2023-03-16T16:30:07.541Z"
   },
   {
    "duration": 20,
    "start_time": "2023-03-16T16:30:07.554Z"
   },
   {
    "duration": 13,
    "start_time": "2023-03-16T16:30:07.576Z"
   },
   {
    "duration": 4,
    "start_time": "2023-03-16T16:30:07.591Z"
   },
   {
    "duration": 349,
    "start_time": "2023-03-16T16:30:07.596Z"
   },
   {
    "duration": 9,
    "start_time": "2023-03-16T16:30:07.948Z"
   },
   {
    "duration": 10,
    "start_time": "2023-03-16T16:30:07.961Z"
   },
   {
    "duration": 7,
    "start_time": "2023-03-16T16:30:07.972Z"
   },
   {
    "duration": 10,
    "start_time": "2023-03-16T16:30:07.981Z"
   },
   {
    "duration": 509,
    "start_time": "2023-03-16T16:30:07.992Z"
   },
   {
    "duration": 116,
    "start_time": "2023-03-16T16:30:08.502Z"
   }
  ],
  "kernelspec": {
   "display_name": "Python 3 (ipykernel)",
   "language": "python",
   "name": "python3"
  },
  "language_info": {
   "codemirror_mode": {
    "name": "ipython",
    "version": 3
   },
   "file_extension": ".py",
   "mimetype": "text/x-python",
   "name": "python",
   "nbconvert_exporter": "python",
   "pygments_lexer": "ipython3",
   "version": "3.11.2"
  },
  "toc": {
   "base_numbering": 1,
   "nav_menu": {},
   "number_sections": true,
   "sideBar": true,
   "skip_h1_title": true,
   "title_cell": "Table of Contents",
   "title_sidebar": "Contents",
   "toc_cell": false,
   "toc_position": {},
   "toc_section_display": true,
   "toc_window_display": false
  }
 },
 "nbformat": 4,
 "nbformat_minor": 2
}
