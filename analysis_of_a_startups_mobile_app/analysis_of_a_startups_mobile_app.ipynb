{
 "cells": [
  {
   "attachments": {},
   "cell_type": "markdown",
   "metadata": {},
   "source": [
    "<h2>Описание проекта <a class=\"tocSkip\"> </h2>\n",
    "\n",
    "**Заказчик** - Стартап по продаже продуктов питания.\n",
    "    \n",
    "**Цель проекта:** - изучить поведение пользователей мобильного приложения стартапа.\n",
    "    \n",
    "**Задачи проекта:**\n",
    "- Изучить воронку продаж. Узнать, как пользователи доходят до покупки. Сколько пользователей доходит до покупки, а сколько — «застревает» на предыдущих шагах? На каких именно?\n",
    "- Исследовать результаты A/A/B-эксперимента. Пользователи разбиты на 3 группы: 2 контрольные со старыми шрифтами и одну экспериментальную — с новыми. Необходимо выяснить, какой шрифт лучше.\n",
    "\n",
    "**Входные данные»** - логи пользователей (каждая запись в логе — это действие пользователя, или событие).\n",
    "Ниже описаны обозначения столбцов:\n",
    "- `EventName` — название события;\n",
    "- `DeviceIDHash` — уникальный идентификатор пользователя;\n",
    "- `EventTimestamp` — время события;\n",
    "- `ExpId` — номер эксперимента: 246 и 247 — контрольные группы, а 248 — экспериментальная.\n"
   ]
  },
  {
   "attachments": {},
   "cell_type": "markdown",
   "metadata": {},
   "source": [
    "**План работ:**\n",
    "<a id=\"introduction\"></a>\n",
    "- [Откроем файл с данными и изучим общую информацию](#start)\n",
    "- [Предобработка данных](#preprocessing)\n",
    "- [Изучение и проверка данных](#analyzing)\n",
    "- [Изучение воронки событий](#funnel)\n",
    "- [Исследование результатов A/A/B-эксперимента](#ABexp)\n",
    "- [Выводы](#conclusion)"
   ]
  },
  {
   "attachments": {},
   "cell_type": "markdown",
   "metadata": {},
   "source": [
    "### Откроем файл с данными и изучим общую информацию\n",
    "\n",
    "<a id=\"start\"></a>\n",
    "[Описание проекта](#introduction)"
   ]
  },
  {
   "cell_type": "code",
   "execution_count": 141,
   "metadata": {},
   "outputs": [
    {
     "data": {
      "text/html": [
       "        <script type=\"text/javascript\">\n",
       "        window.PlotlyConfig = {MathJaxConfig: 'local'};\n",
       "        if (window.MathJax && window.MathJax.Hub && window.MathJax.Hub.Config) {window.MathJax.Hub.Config({SVG: {font: \"STIX-Web\"}});}\n",
       "        if (typeof require !== 'undefined') {\n",
       "        require.undef(\"plotly\");\n",
       "        requirejs.config({\n",
       "            paths: {\n",
       "                'plotly': ['https://cdn.plot.ly/plotly-2.18.2.min']\n",
       "            }\n",
       "        });\n",
       "        require(['plotly'], function(Plotly) {\n",
       "            window._Plotly = Plotly;\n",
       "        });\n",
       "        }\n",
       "        </script>\n",
       "        "
      ]
     },
     "metadata": {},
     "output_type": "display_data"
    }
   ],
   "source": [
    "#Импортируем библиотеку pandas\n",
    "import pandas as pd\n",
    "\n",
    "#Импортируем модуль библиотеки matplotlib  pyplot\n",
    "import matplotlib.pyplot as plt\n",
    "\n",
    "#Импортируем библиотеку numpy\n",
    "import numpy as np\n",
    "\n",
    "#Импортируем из библиотеки scipy  модуль stats\n",
    "from scipy import stats as st\n",
    "\n",
    "#Импортируем библиотеку для использования сложных математических формул\n",
    "import math as mth\n",
    "\n",
    "#Импортируем библиотеку для работы со временем\n",
    "import datetime as dt\n",
    "\n",
    "#Импортируем библиотеку seaborn\n",
    "import seaborn as sns\n",
    "\n",
    "# Импортируем библиотеку для графика воронки\n",
    "import plotly.express as px\n",
    "#Импортируем  библиотеку warnings и numpy для предотвращения возникновения всплывабщих ошибок\n",
    "import warnings\n",
    "\n",
    "#Код для предотвращения всплывающих ошибок\n",
    "warnings.filterwarnings(\"ignore\")\n",
    "\n",
    "#Импортируем модули из plotly для вывода графика на nbviewer\n",
    "from plotly.offline import download_plotlyjs, init_notebook_mode,  iplot\n",
    "init_notebook_mode(connected=True)"
   ]
  },
  {
   "cell_type": "code",
   "execution_count": 142,
   "metadata": {},
   "outputs": [],
   "source": [
    "#Сохраним датасет в переменную 'data'\n",
    "data = pd.read_csv('logs_exp.csv', sep='\\t')"
   ]
  },
  {
   "cell_type": "code",
   "execution_count": 143,
   "metadata": {},
   "outputs": [
    {
     "data": {
      "text/html": [
       "<div>\n",
       "<style scoped>\n",
       "    .dataframe tbody tr th:only-of-type {\n",
       "        vertical-align: middle;\n",
       "    }\n",
       "\n",
       "    .dataframe tbody tr th {\n",
       "        vertical-align: top;\n",
       "    }\n",
       "\n",
       "    .dataframe thead th {\n",
       "        text-align: right;\n",
       "    }\n",
       "</style>\n",
       "<table border=\"1\" class=\"dataframe\">\n",
       "  <thead>\n",
       "    <tr style=\"text-align: right;\">\n",
       "      <th></th>\n",
       "      <th>EventName</th>\n",
       "      <th>DeviceIDHash</th>\n",
       "      <th>EventTimestamp</th>\n",
       "      <th>ExpId</th>\n",
       "    </tr>\n",
       "  </thead>\n",
       "  <tbody>\n",
       "    <tr>\n",
       "      <th>0</th>\n",
       "      <td>MainScreenAppear</td>\n",
       "      <td>4575588528974610257</td>\n",
       "      <td>1564029816</td>\n",
       "      <td>246</td>\n",
       "    </tr>\n",
       "    <tr>\n",
       "      <th>1</th>\n",
       "      <td>MainScreenAppear</td>\n",
       "      <td>7416695313311560658</td>\n",
       "      <td>1564053102</td>\n",
       "      <td>246</td>\n",
       "    </tr>\n",
       "    <tr>\n",
       "      <th>2</th>\n",
       "      <td>PaymentScreenSuccessful</td>\n",
       "      <td>3518123091307005509</td>\n",
       "      <td>1564054127</td>\n",
       "      <td>248</td>\n",
       "    </tr>\n",
       "    <tr>\n",
       "      <th>3</th>\n",
       "      <td>CartScreenAppear</td>\n",
       "      <td>3518123091307005509</td>\n",
       "      <td>1564054127</td>\n",
       "      <td>248</td>\n",
       "    </tr>\n",
       "    <tr>\n",
       "      <th>4</th>\n",
       "      <td>PaymentScreenSuccessful</td>\n",
       "      <td>6217807653094995999</td>\n",
       "      <td>1564055322</td>\n",
       "      <td>248</td>\n",
       "    </tr>\n",
       "  </tbody>\n",
       "</table>\n",
       "</div>"
      ],
      "text/plain": [
       "                 EventName         DeviceIDHash  EventTimestamp  ExpId\n",
       "0         MainScreenAppear  4575588528974610257      1564029816    246\n",
       "1         MainScreenAppear  7416695313311560658      1564053102    246\n",
       "2  PaymentScreenSuccessful  3518123091307005509      1564054127    248\n",
       "3         CartScreenAppear  3518123091307005509      1564054127    248\n",
       "4  PaymentScreenSuccessful  6217807653094995999      1564055322    248"
      ]
     },
     "execution_count": 143,
     "metadata": {},
     "output_type": "execute_result"
    }
   ],
   "source": [
    "#Выведем первые 5 строк для ознакомления\n",
    "data.head()"
   ]
  },
  {
   "cell_type": "markdown",
   "metadata": {},
   "source": [
    "Необходимо:\n",
    "- Привести наименования столбцов к нижнему регистру\n",
    "- Перевести время в столбце `EventTimestamp` из формата `timestamp` в формат `datetime`"
   ]
  },
  {
   "cell_type": "code",
   "execution_count": 144,
   "metadata": {},
   "outputs": [
    {
     "name": "stdout",
     "output_type": "stream",
     "text": [
      "<class 'pandas.core.frame.DataFrame'>\n",
      "RangeIndex: 244126 entries, 0 to 244125\n",
      "Data columns (total 4 columns):\n",
      " #   Column          Non-Null Count   Dtype \n",
      "---  ------          --------------   ----- \n",
      " 0   EventName       244126 non-null  object\n",
      " 1   DeviceIDHash    244126 non-null  int64 \n",
      " 2   EventTimestamp  244126 non-null  int64 \n",
      " 3   ExpId           244126 non-null  int64 \n",
      "dtypes: int64(3), object(1)\n",
      "memory usage: 7.5+ MB\n"
     ]
    }
   ],
   "source": [
    "#Выведем общую информацию о датасете\n",
    "data.info()"
   ]
  },
  {
   "cell_type": "markdown",
   "metadata": {},
   "source": [
    "Пропусков в данных нету, датасет насчитывает 244 126 строк"
   ]
  },
  {
   "cell_type": "code",
   "execution_count": 145,
   "metadata": {},
   "outputs": [
    {
     "data": {
      "text/plain": [
       "413"
      ]
     },
     "execution_count": 145,
     "metadata": {},
     "output_type": "execute_result"
    }
   ],
   "source": [
    "#Проверим данные на наличие дубликатов\n",
    "data.duplicated().sum()"
   ]
  },
  {
   "cell_type": "markdown",
   "metadata": {},
   "source": [
    "Нашлось 413 дублирующихся записи, вероятно, из - за какой - то технической ошибки произошло дублирование одного и того же действия, следует их удалить (дубликаты составляют менее 1% от всех данных), а также сообщить о дубликатах сотрудникам, которые занимались сбором данных"
   ]
  },
  {
   "cell_type": "code",
   "execution_count": 146,
   "metadata": {},
   "outputs": [
    {
     "data": {
      "text/plain": [
       "array(['MainScreenAppear', 'PaymentScreenSuccessful', 'CartScreenAppear',\n",
       "       'OffersScreenAppear', 'Tutorial'], dtype=object)"
      ]
     },
     "execution_count": 146,
     "metadata": {},
     "output_type": "execute_result"
    }
   ],
   "source": [
    "#Проверим столбец EventName на наличие неявных дубликатов\n",
    "data['EventName'].unique()"
   ]
  },
  {
   "cell_type": "markdown",
   "metadata": {},
   "source": [
    "Неявных дубликатов не обнаружилось"
   ]
  },
  {
   "cell_type": "code",
   "execution_count": 147,
   "metadata": {},
   "outputs": [
    {
     "data": {
      "text/plain": [
       "(array([245.75, 246.  , 246.25, 246.5 , 246.75, 247.  , 247.25, 247.5 ,\n",
       "        247.75, 248.  , 248.25]),\n",
       " [Text(245.75, 0, '245.75'),\n",
       "  Text(246.0, 0, '246.00'),\n",
       "  Text(246.25, 0, '246.25'),\n",
       "  Text(246.5, 0, '246.50'),\n",
       "  Text(246.75, 0, '246.75'),\n",
       "  Text(247.0, 0, '247.00'),\n",
       "  Text(247.25, 0, '247.25'),\n",
       "  Text(247.5, 0, '247.50'),\n",
       "  Text(247.75, 0, '247.75'),\n",
       "  Text(248.0, 0, '248.00'),\n",
       "  Text(248.25, 0, '248.25')])"
      ]
     },
     "execution_count": 147,
     "metadata": {},
     "output_type": "execute_result"
    },
    {
     "data": {
      "image/png": "[encoded data removed]",
      "text/plain": [
       "<Figure size 1200x700 with 1 Axes>"
      ]
     },
     "metadata": {},
     "output_type": "display_data"
    }
   ],
   "source": [
    "#Изучим столбец с номерами экспериментов\n",
    "fig, ax = plt.subplots()\n",
    "ax.grid()\n",
    "\n",
    "plt.hist(x=data['ExpId'])\n",
    "ax.set_xlabel('Номер группы')\n",
    "ax.set_ylabel('Количество пользователей')\n",
    "fig.set_figwidth(12)\n",
    "fig.set_figheight(7)\n",
    "#Добавляем заголовок графику\n",
    "ax.set_title('Количество пользователей в каждой группе',\n",
    "                fontfamily = 'monospace',\n",
    "                fontstyle = 'normal',\n",
    "                fontsize = 12)\n",
    "plt.xticks(fontsize = 7)"
   ]
  },
  {
   "cell_type": "code",
   "execution_count": 148,
   "metadata": {},
   "outputs": [
    {
     "data": {
      "text/plain": [
       "248    85747\n",
       "246    80304\n",
       "247    78075\n",
       "Name: ExpId, dtype: int64"
      ]
     },
     "execution_count": 148,
     "metadata": {},
     "output_type": "execute_result"
    }
   ],
   "source": [
    "data['ExpId'].value_counts()"
   ]
  },
  {
   "cell_type": "markdown",
   "metadata": {},
   "source": [
    "- В датасете только 3 номера экспериментов, лишних не наблюдается\n",
    "- Данные по группам распределенны практически одинаково (экспериментальная чуть больше двух контрольных групп - на 6% и 8% в 246 и 247 группах, соответственно)"
   ]
  },
  {
   "attachments": {},
   "cell_type": "markdown",
   "metadata": {},
   "source": [
    "### Предобработка данных\n",
    "\n",
    "<a id=\"preprocessing\"></a>\n",
    "[Описание проекта](#introduction)"
   ]
  },
  {
   "cell_type": "code",
   "execution_count": 149,
   "metadata": {},
   "outputs": [],
   "source": [
    "data = data.rename(columns={'EventName': 'event_name',\n",
    "                    'DeviceIDHash': 'device_id_hash',\n",
    "                    'EventTimestamp': 'event_timestamp',\n",
    "                    'ExpId': 'exp_id'})"
   ]
  },
  {
   "cell_type": "code",
   "execution_count": 150,
   "metadata": {},
   "outputs": [],
   "source": [
    "#Удаляем дубликаты\n",
    "data = data.drop_duplicates()"
   ]
  },
  {
   "cell_type": "code",
   "execution_count": 151,
   "metadata": {},
   "outputs": [],
   "source": [
    "#Добавим новый столбец с датой и временем\n",
    "data['date_time'] = pd.to_datetime(data['event_timestamp'], unit='s')\n",
    "#Добавим новый столбец с датой\n",
    "data['date'] = data['date_time'].dt.date"
   ]
  },
  {
   "cell_type": "code",
   "execution_count": 152,
   "metadata": {},
   "outputs": [
    {
     "name": "stdout",
     "output_type": "stream",
     "text": [
      "<class 'pandas.core.frame.DataFrame'>\n",
      "Int64Index: 243713 entries, 0 to 244125\n",
      "Data columns (total 6 columns):\n",
      " #   Column           Non-Null Count   Dtype         \n",
      "---  ------           --------------   -----         \n",
      " 0   event_name       243713 non-null  object        \n",
      " 1   device_id_hash   243713 non-null  int64         \n",
      " 2   event_timestamp  243713 non-null  int64         \n",
      " 3   exp_id           243713 non-null  int64         \n",
      " 4   date_time        243713 non-null  datetime64[ns]\n",
      " 5   date             243713 non-null  object        \n",
      "dtypes: datetime64[ns](1), int64(3), object(2)\n",
      "memory usage: 13.0+ MB\n"
     ]
    }
   ],
   "source": [
    "#Проверим, что новые столбцы добавились\n",
    "data.info()"
   ]
  },
  {
   "cell_type": "code",
   "execution_count": 153,
   "metadata": {},
   "outputs": [
    {
     "data": {
      "text/html": [
       "<div>\n",
       "<style scoped>\n",
       "    .dataframe tbody tr th:only-of-type {\n",
       "        vertical-align: middle;\n",
       "    }\n",
       "\n",
       "    .dataframe tbody tr th {\n",
       "        vertical-align: top;\n",
       "    }\n",
       "\n",
       "    .dataframe thead th {\n",
       "        text-align: right;\n",
       "    }\n",
       "</style>\n",
       "<table border=\"1\" class=\"dataframe\">\n",
       "  <thead>\n",
       "    <tr style=\"text-align: right;\">\n",
       "      <th></th>\n",
       "      <th>event_name</th>\n",
       "      <th>device_id_hash</th>\n",
       "      <th>event_timestamp</th>\n",
       "      <th>exp_id</th>\n",
       "      <th>date_time</th>\n",
       "      <th>date</th>\n",
       "    </tr>\n",
       "  </thead>\n",
       "  <tbody>\n",
       "    <tr>\n",
       "      <th>0</th>\n",
       "      <td>MainScreenAppear</td>\n",
       "      <td>4575588528974610257</td>\n",
       "      <td>1564029816</td>\n",
       "      <td>246</td>\n",
       "      <td>2019-07-25 04:43:36</td>\n",
       "      <td>2019-07-25</td>\n",
       "    </tr>\n",
       "    <tr>\n",
       "      <th>1</th>\n",
       "      <td>MainScreenAppear</td>\n",
       "      <td>7416695313311560658</td>\n",
       "      <td>1564053102</td>\n",
       "      <td>246</td>\n",
       "      <td>2019-07-25 11:11:42</td>\n",
       "      <td>2019-07-25</td>\n",
       "    </tr>\n",
       "    <tr>\n",
       "      <th>2</th>\n",
       "      <td>PaymentScreenSuccessful</td>\n",
       "      <td>3518123091307005509</td>\n",
       "      <td>1564054127</td>\n",
       "      <td>248</td>\n",
       "      <td>2019-07-25 11:28:47</td>\n",
       "      <td>2019-07-25</td>\n",
       "    </tr>\n",
       "    <tr>\n",
       "      <th>3</th>\n",
       "      <td>CartScreenAppear</td>\n",
       "      <td>3518123091307005509</td>\n",
       "      <td>1564054127</td>\n",
       "      <td>248</td>\n",
       "      <td>2019-07-25 11:28:47</td>\n",
       "      <td>2019-07-25</td>\n",
       "    </tr>\n",
       "    <tr>\n",
       "      <th>4</th>\n",
       "      <td>PaymentScreenSuccessful</td>\n",
       "      <td>6217807653094995999</td>\n",
       "      <td>1564055322</td>\n",
       "      <td>248</td>\n",
       "      <td>2019-07-25 11:48:42</td>\n",
       "      <td>2019-07-25</td>\n",
       "    </tr>\n",
       "  </tbody>\n",
       "</table>\n",
       "</div>"
      ],
      "text/plain": [
       "                event_name       device_id_hash  event_timestamp  exp_id  \\\n",
       "0         MainScreenAppear  4575588528974610257       1564029816     246   \n",
       "1         MainScreenAppear  7416695313311560658       1564053102     246   \n",
       "2  PaymentScreenSuccessful  3518123091307005509       1564054127     248   \n",
       "3         CartScreenAppear  3518123091307005509       1564054127     248   \n",
       "4  PaymentScreenSuccessful  6217807653094995999       1564055322     248   \n",
       "\n",
       "            date_time        date  \n",
       "0 2019-07-25 04:43:36  2019-07-25  \n",
       "1 2019-07-25 11:11:42  2019-07-25  \n",
       "2 2019-07-25 11:28:47  2019-07-25  \n",
       "3 2019-07-25 11:28:47  2019-07-25  \n",
       "4 2019-07-25 11:48:42  2019-07-25  "
      ]
     },
     "execution_count": 153,
     "metadata": {},
     "output_type": "execute_result"
    }
   ],
   "source": [
    "#Выведем первые 5 строк\n",
    "data.head()"
   ]
  },
  {
   "attachments": {},
   "cell_type": "markdown",
   "metadata": {},
   "source": [
    "### Изучение и проверка данных\n",
    "\n",
    "<a id=\"analyzing\"></a>\n",
    "[Описание проекта](#introduction)"
   ]
  },
  {
   "cell_type": "markdown",
   "metadata": {},
   "source": [
    "#### Количество событий в логах"
   ]
  },
  {
   "cell_type": "code",
   "execution_count": 154,
   "metadata": {},
   "outputs": [
    {
     "data": {
      "text/plain": [
       "243713"
      ]
     },
     "execution_count": 154,
     "metadata": {},
     "output_type": "execute_result"
    }
   ],
   "source": [
    "# Выше уже было посчитано количество строк с удаленными дубликатами, посчитаем еще раз\n",
    "events_before = data.shape[0]\n",
    "events_before"
   ]
  },
  {
   "cell_type": "markdown",
   "metadata": {},
   "source": [
    "`243713` - всего событий в логе"
   ]
  },
  {
   "cell_type": "markdown",
   "metadata": {},
   "source": [
    "#### Количество пользователей в логе"
   ]
  },
  {
   "cell_type": "code",
   "execution_count": 155,
   "metadata": {},
   "outputs": [
    {
     "data": {
      "text/plain": [
       "7551"
      ]
     },
     "execution_count": 155,
     "metadata": {},
     "output_type": "execute_result"
    }
   ],
   "source": [
    "#Посчитаем количество пользователей\n",
    "users_before = data['device_id_hash'].nunique()\n",
    "users_before"
   ]
  },
  {
   "cell_type": "markdown",
   "metadata": {},
   "source": [
    "`7551` - всего пользователей в логе"
   ]
  },
  {
   "cell_type": "markdown",
   "metadata": {},
   "source": [
    "#### Среднее количество событий на пользователя"
   ]
  },
  {
   "cell_type": "code",
   "execution_count": 156,
   "metadata": {},
   "outputs": [
    {
     "data": {
      "text/plain": [
       "event_name    32.0\n",
       "dtype: float64"
      ]
     },
     "execution_count": 156,
     "metadata": {},
     "output_type": "execute_result"
    }
   ],
   "source": [
    "round(data.pivot_table(index='device_id_hash', values='event_name', aggfunc='count').mean())"
   ]
  },
  {
   "cell_type": "markdown",
   "metadata": {},
   "source": [
    "`32` - событий в среднем на одного пользователя"
   ]
  },
  {
   "cell_type": "markdown",
   "metadata": {},
   "source": [
    "#### Анализ периода в котором лежат наши данные"
   ]
  },
  {
   "cell_type": "code",
   "execution_count": 157,
   "metadata": {},
   "outputs": [
    {
     "data": {
      "text/plain": [
       "datetime.date(2019, 7, 25)"
      ]
     },
     "execution_count": 157,
     "metadata": {},
     "output_type": "execute_result"
    }
   ],
   "source": [
    "#Найдем минимальную дату\n",
    "data['date'].min()"
   ]
  },
  {
   "cell_type": "markdown",
   "metadata": {},
   "source": [
    "Самое раннее событие - `25 июля 2019 год`"
   ]
  },
  {
   "cell_type": "code",
   "execution_count": 158,
   "metadata": {},
   "outputs": [
    {
     "data": {
      "text/plain": [
       "datetime.date(2019, 8, 7)"
      ]
     },
     "execution_count": 158,
     "metadata": {},
     "output_type": "execute_result"
    }
   ],
   "source": [
    "#Найдем максимальную дату\n",
    "data['date'].max()"
   ]
  },
  {
   "cell_type": "markdown",
   "metadata": {},
   "source": [
    "Самое позднее событие - `7 августа 2019 год`"
   ]
  },
  {
   "cell_type": "code",
   "execution_count": 159,
   "metadata": {},
   "outputs": [
    {
     "data": {
      "text/plain": [
       "(array([18102., 18104., 18106., 18108., 18109., 18111., 18113., 18115.]),\n",
       " [Text(18102.0, 0, '2019-07-25'),\n",
       "  Text(18104.0, 0, '2019-07-27'),\n",
       "  Text(18106.0, 0, '2019-07-29'),\n",
       "  Text(18108.0, 0, '2019-07-31'),\n",
       "  Text(18109.0, 0, '2019-08-01'),\n",
       "  Text(18111.0, 0, '2019-08-03'),\n",
       "  Text(18113.0, 0, '2019-08-05'),\n",
       "  Text(18115.0, 0, '2019-08-07')])"
      ]
     },
     "execution_count": 159,
     "metadata": {},
     "output_type": "execute_result"
    },
    {
     "data": {
      "image/png": "[encoded data removed]",
      "text/plain": [
       "<Figure size 1200x700 with 1 Axes>"
      ]
     },
     "metadata": {},
     "output_type": "display_data"
    }
   ],
   "source": [
    "#Построим гистограммму, на которой отражего количество записей в логе в период с 2019.7.25 по 2019.8.07\n",
    "fig, ax = plt.subplots()\n",
    "ax.grid()\n",
    "sns.histplot(x=data['date'], bins=14)\n",
    "ax.set_xlabel('Дата')\n",
    "ax.set_ylabel('Количество пользователей')\n",
    "\n",
    "fig.set_figwidth(12)\n",
    "fig.set_figheight(7)\n",
    "# #Добавляем заголовок графику\n",
    "ax.set_title('Количество записей в логе в период с 2019.7.25 по 2019.8.07',\n",
    "                fontfamily = 'monospace',\n",
    "                fontstyle = 'normal',\n",
    "                fontsize = 12)\n",
    "plt.xticks(fontsize = 7, rotation=90)\n"
   ]
  },
  {
   "cell_type": "code",
   "execution_count": 160,
   "metadata": {},
   "outputs": [
    {
     "data": {
      "text/html": [
       "<div>\n",
       "<style scoped>\n",
       "    .dataframe tbody tr th:only-of-type {\n",
       "        vertical-align: middle;\n",
       "    }\n",
       "\n",
       "    .dataframe tbody tr th {\n",
       "        vertical-align: top;\n",
       "    }\n",
       "\n",
       "    .dataframe thead th {\n",
       "        text-align: right;\n",
       "    }\n",
       "</style>\n",
       "<table border=\"1\" class=\"dataframe\">\n",
       "  <thead>\n",
       "    <tr style=\"text-align: right;\">\n",
       "      <th></th>\n",
       "      <th>cnt_events</th>\n",
       "    </tr>\n",
       "    <tr>\n",
       "      <th>date</th>\n",
       "      <th></th>\n",
       "    </tr>\n",
       "  </thead>\n",
       "  <tbody>\n",
       "    <tr>\n",
       "      <th>2019-07-25</th>\n",
       "      <td>9</td>\n",
       "    </tr>\n",
       "    <tr>\n",
       "      <th>2019-07-26</th>\n",
       "      <td>31</td>\n",
       "    </tr>\n",
       "    <tr>\n",
       "      <th>2019-07-27</th>\n",
       "      <td>55</td>\n",
       "    </tr>\n",
       "    <tr>\n",
       "      <th>2019-07-28</th>\n",
       "      <td>105</td>\n",
       "    </tr>\n",
       "    <tr>\n",
       "      <th>2019-07-29</th>\n",
       "      <td>184</td>\n",
       "    </tr>\n",
       "    <tr>\n",
       "      <th>2019-07-30</th>\n",
       "      <td>412</td>\n",
       "    </tr>\n",
       "    <tr>\n",
       "      <th>2019-07-31</th>\n",
       "      <td>2030</td>\n",
       "    </tr>\n",
       "    <tr>\n",
       "      <th>2019-08-01</th>\n",
       "      <td>36141</td>\n",
       "    </tr>\n",
       "    <tr>\n",
       "      <th>2019-08-02</th>\n",
       "      <td>35554</td>\n",
       "    </tr>\n",
       "    <tr>\n",
       "      <th>2019-08-03</th>\n",
       "      <td>33282</td>\n",
       "    </tr>\n",
       "    <tr>\n",
       "      <th>2019-08-04</th>\n",
       "      <td>32968</td>\n",
       "    </tr>\n",
       "    <tr>\n",
       "      <th>2019-08-05</th>\n",
       "      <td>36058</td>\n",
       "    </tr>\n",
       "    <tr>\n",
       "      <th>2019-08-06</th>\n",
       "      <td>35788</td>\n",
       "    </tr>\n",
       "    <tr>\n",
       "      <th>2019-08-07</th>\n",
       "      <td>31096</td>\n",
       "    </tr>\n",
       "  </tbody>\n",
       "</table>\n",
       "</div>"
      ],
      "text/plain": [
       "            cnt_events\n",
       "date                  \n",
       "2019-07-25           9\n",
       "2019-07-26          31\n",
       "2019-07-27          55\n",
       "2019-07-28         105\n",
       "2019-07-29         184\n",
       "2019-07-30         412\n",
       "2019-07-31        2030\n",
       "2019-08-01       36141\n",
       "2019-08-02       35554\n",
       "2019-08-03       33282\n",
       "2019-08-04       32968\n",
       "2019-08-05       36058\n",
       "2019-08-06       35788\n",
       "2019-08-07       31096"
      ]
     },
     "execution_count": 160,
     "metadata": {},
     "output_type": "execute_result"
    }
   ],
   "source": [
    "#Построим сводную таблицу для подсчета событий\n",
    "data.pivot_table(\n",
    "    index='date', values='event_name', aggfunc='count').rename(columns={'event_name': 'cnt_events'})"
   ]
  },
  {
   "cell_type": "markdown",
   "metadata": {},
   "source": [
    "На гистаграмме видно что основная масса записей была зарегестрированна в период с 2019-08-01 по 2019-08-07, также это подтверждает наша сводная таблица. Следовательно, у нас не одинаково полные данные за весь период, мы можем отбросить данные в период с 2019-07-25 по 2019-07-31 включительно, так как они являются неполными (делаем это для того, чтобы это не создавало перекосов в нашем исследовании)."
   ]
  },
  {
   "cell_type": "markdown",
   "metadata": {},
   "source": [
    "#### Подсчет потерь количества событий и уникальных пользователей"
   ]
  },
  {
   "cell_type": "code",
   "execution_count": 161,
   "metadata": {},
   "outputs": [],
   "source": [
    "#Для начала обновим наш датасет, удалив лишние данные\n",
    "data = data[data['date_time'] >= '2019-08-01']"
   ]
  },
  {
   "cell_type": "code",
   "execution_count": 162,
   "metadata": {},
   "outputs": [
    {
     "data": {
      "text/html": [
       "<div>\n",
       "<style scoped>\n",
       "    .dataframe tbody tr th:only-of-type {\n",
       "        vertical-align: middle;\n",
       "    }\n",
       "\n",
       "    .dataframe tbody tr th {\n",
       "        vertical-align: top;\n",
       "    }\n",
       "\n",
       "    .dataframe thead th {\n",
       "        text-align: right;\n",
       "    }\n",
       "</style>\n",
       "<table border=\"1\" class=\"dataframe\">\n",
       "  <thead>\n",
       "    <tr style=\"text-align: right;\">\n",
       "      <th></th>\n",
       "      <th>cnt_events</th>\n",
       "    </tr>\n",
       "    <tr>\n",
       "      <th>date</th>\n",
       "      <th></th>\n",
       "    </tr>\n",
       "  </thead>\n",
       "  <tbody>\n",
       "    <tr>\n",
       "      <th>2019-08-01</th>\n",
       "      <td>36141</td>\n",
       "    </tr>\n",
       "    <tr>\n",
       "      <th>2019-08-02</th>\n",
       "      <td>35554</td>\n",
       "    </tr>\n",
       "    <tr>\n",
       "      <th>2019-08-03</th>\n",
       "      <td>33282</td>\n",
       "    </tr>\n",
       "    <tr>\n",
       "      <th>2019-08-04</th>\n",
       "      <td>32968</td>\n",
       "    </tr>\n",
       "    <tr>\n",
       "      <th>2019-08-05</th>\n",
       "      <td>36058</td>\n",
       "    </tr>\n",
       "    <tr>\n",
       "      <th>2019-08-06</th>\n",
       "      <td>35788</td>\n",
       "    </tr>\n",
       "    <tr>\n",
       "      <th>2019-08-07</th>\n",
       "      <td>31096</td>\n",
       "    </tr>\n",
       "  </tbody>\n",
       "</table>\n",
       "</div>"
      ],
      "text/plain": [
       "            cnt_events\n",
       "date                  \n",
       "2019-08-01       36141\n",
       "2019-08-02       35554\n",
       "2019-08-03       33282\n",
       "2019-08-04       32968\n",
       "2019-08-05       36058\n",
       "2019-08-06       35788\n",
       "2019-08-07       31096"
      ]
     },
     "execution_count": 162,
     "metadata": {},
     "output_type": "execute_result"
    }
   ],
   "source": [
    "#Проверим, что в датасете остались данные за интересующий нас период\n",
    "data.pivot_table(index='date',\n",
    " values='event_name', aggfunc='count').rename(columns={'event_name': 'cnt_events'})"
   ]
  },
  {
   "cell_type": "code",
   "execution_count": 163,
   "metadata": {},
   "outputs": [
    {
     "name": "stdout",
     "output_type": "stream",
     "text": [
      "Количество потерянных событий: 2826\n",
      "Процент потерянных событий: 1.16\n"
     ]
    }
   ],
   "source": [
    "print('Количество потерянных событий:',events_before - data.shape[0])\n",
    "print('Процент потерянных событий:',round((events_before - data.shape[0]) / events_before * 100,2))"
   ]
  },
  {
   "cell_type": "markdown",
   "metadata": {},
   "source": [
    "Процент потерянных событий очень мал и за период в 7 дней составляет 1.16% от всех событий, потери допустимы в пределах 5%."
   ]
  },
  {
   "cell_type": "code",
   "execution_count": 164,
   "metadata": {},
   "outputs": [
    {
     "name": "stdout",
     "output_type": "stream",
     "text": [
      "Количество потерянных пользователей: 17\n",
      "Процент потерянных пользователей: 0.23\n"
     ]
    }
   ],
   "source": [
    "print('Количество потерянных пользователей:',users_before - data['device_id_hash'].nunique())\n",
    "print('Процент потерянных пользователей:',round(\n",
    "    (users_before - data['device_id_hash'].nunique()) / users_before * 100,2))"
   ]
  },
  {
   "cell_type": "markdown",
   "metadata": {},
   "source": [
    "Процент потерянных пользователей также очень мал и за период в 7 дней составляет всего 0.23% от всех событий, потери допустимы в пределах 5%."
   ]
  },
  {
   "cell_type": "code",
   "execution_count": 165,
   "metadata": {},
   "outputs": [
    {
     "data": {
      "text/plain": [
       "(array([245.75, 246.  , 246.25, 246.5 , 246.75, 247.  , 247.25, 247.5 ,\n",
       "        247.75, 248.  , 248.25]),\n",
       " [Text(245.75, 0, '245.75'),\n",
       "  Text(246.0, 0, '246.00'),\n",
       "  Text(246.25, 0, '246.25'),\n",
       "  Text(246.5, 0, '246.50'),\n",
       "  Text(246.75, 0, '246.75'),\n",
       "  Text(247.0, 0, '247.00'),\n",
       "  Text(247.25, 0, '247.25'),\n",
       "  Text(247.5, 0, '247.50'),\n",
       "  Text(247.75, 0, '247.75'),\n",
       "  Text(248.0, 0, '248.00'),\n",
       "  Text(248.25, 0, '248.25')])"
      ]
     },
     "execution_count": 165,
     "metadata": {},
     "output_type": "execute_result"
    },
    {
     "data": {
      "image/png": "[encoded data removed]",
      "text/plain": [
       "<Figure size 1200x700 with 1 Axes>"
      ]
     },
     "metadata": {},
     "output_type": "display_data"
    }
   ],
   "source": [
    "#Проверим, все ли группы у нас остались после отсчечения данных\n",
    "fig, ax = plt.subplots()\n",
    "ax.grid()\n",
    "\n",
    "plt.hist(x=data['exp_id'])\n",
    "ax.set_xlabel('Номер группы')\n",
    "ax.set_ylabel('Количество пользователей')\n",
    "fig.set_figwidth(12)\n",
    "fig.set_figheight(7)\n",
    "#Добавляем заголовок графику\n",
    "ax.set_title('Количество пользователей в каждой группе',\n",
    "                fontfamily = 'monospace',\n",
    "                fontstyle = 'normal',\n",
    "                fontsize = 12)\n",
    "plt.xticks(fontsize = 7)"
   ]
  },
  {
   "cell_type": "markdown",
   "metadata": {},
   "source": [
    "Да, с учетом посчитанных потерь, у нас есть пользователи из всех эксперементальных групп"
   ]
  },
  {
   "attachments": {},
   "cell_type": "markdown",
   "metadata": {},
   "source": [
    "### Изучение воронки событий\n",
    "\n",
    "<a id=\"funnel\"></a>\n",
    "[Описание проекта](#introduction)"
   ]
  },
  {
   "cell_type": "code",
   "execution_count": 166,
   "metadata": {},
   "outputs": [
    {
     "data": {
      "text/html": [
       "<div>\n",
       "<style scoped>\n",
       "    .dataframe tbody tr th:only-of-type {\n",
       "        vertical-align: middle;\n",
       "    }\n",
       "\n",
       "    .dataframe tbody tr th {\n",
       "        vertical-align: top;\n",
       "    }\n",
       "\n",
       "    .dataframe thead th {\n",
       "        text-align: right;\n",
       "    }\n",
       "</style>\n",
       "<table border=\"1\" class=\"dataframe\">\n",
       "  <thead>\n",
       "    <tr style=\"text-align: right;\">\n",
       "      <th></th>\n",
       "      <th>cnt_events</th>\n",
       "      <th>frequency</th>\n",
       "    </tr>\n",
       "    <tr>\n",
       "      <th>event_name</th>\n",
       "      <th></th>\n",
       "      <th></th>\n",
       "    </tr>\n",
       "  </thead>\n",
       "  <tbody>\n",
       "    <tr>\n",
       "      <th>MainScreenAppear</th>\n",
       "      <td>117328</td>\n",
       "      <td>0.487</td>\n",
       "    </tr>\n",
       "    <tr>\n",
       "      <th>OffersScreenAppear</th>\n",
       "      <td>46333</td>\n",
       "      <td>0.192</td>\n",
       "    </tr>\n",
       "    <tr>\n",
       "      <th>CartScreenAppear</th>\n",
       "      <td>42303</td>\n",
       "      <td>0.176</td>\n",
       "    </tr>\n",
       "    <tr>\n",
       "      <th>PaymentScreenSuccessful</th>\n",
       "      <td>33918</td>\n",
       "      <td>0.141</td>\n",
       "    </tr>\n",
       "    <tr>\n",
       "      <th>Tutorial</th>\n",
       "      <td>1005</td>\n",
       "      <td>0.004</td>\n",
       "    </tr>\n",
       "  </tbody>\n",
       "</table>\n",
       "</div>"
      ],
      "text/plain": [
       "                         cnt_events  frequency\n",
       "event_name                                    \n",
       "MainScreenAppear             117328      0.487\n",
       "OffersScreenAppear            46333      0.192\n",
       "CartScreenAppear              42303      0.176\n",
       "PaymentScreenSuccessful       33918      0.141\n",
       "Tutorial                       1005      0.004"
      ]
     },
     "execution_count": 166,
     "metadata": {},
     "output_type": "execute_result"
    }
   ],
   "source": [
    "#Изучим частоту событий, встречающихся в логах\n",
    "freq_events = data.pivot_table(\n",
    "    index = 'event_name',\n",
    "    values= 'device_id_hash',\n",
    "    aggfunc='count').sort_values('device_id_hash',ascending=False)\n",
    "freq_events = freq_events.rename(columns={'device_id_hash': 'cnt_events'})\n",
    "freq_events['frequency'] = round(freq_events['cnt_events'] / freq_events['cnt_events'].sum(), 3)\n",
    "freq_events"
   ]
  },
  {
   "cell_type": "markdown",
   "metadata": {},
   "source": [
    "Рейтинг по количеству событий:\n",
    "- MainScreenAppear (Заход на главный экран приложения) - 117 328 (48.7%)\n",
    "- OffersScreenAppear (Можно предположить, что это - Показ товаров магазина пользователям) - 46 333 (19.2%)\n",
    "- CartScreenAppear (Заход в собранную корзину с выбранными товарами) - 42 303 (17.6%)\n",
    "- PaymentScreenSuccessful (Показ баннера \"Оплата прошла успешно\") - 33 918 (14.1%)\n",
    "- Tutorial (Показ туториала по приложению) - 1005 (0.4%)"
   ]
  },
  {
   "cell_type": "code",
   "execution_count": 167,
   "metadata": {},
   "outputs": [],
   "source": [
    "#Посчитаем число уникальных пользователей после очистки датасета\n",
    "#Будем использовать для нахождения конверсии\n",
    "users_after = data['device_id_hash'].nunique()"
   ]
  },
  {
   "cell_type": "code",
   "execution_count": 168,
   "metadata": {},
   "outputs": [
    {
     "data": {
      "text/html": [
       "<div>\n",
       "<style scoped>\n",
       "    .dataframe tbody tr th:only-of-type {\n",
       "        vertical-align: middle;\n",
       "    }\n",
       "\n",
       "    .dataframe tbody tr th {\n",
       "        vertical-align: top;\n",
       "    }\n",
       "\n",
       "    .dataframe thead th {\n",
       "        text-align: right;\n",
       "    }\n",
       "</style>\n",
       "<table border=\"1\" class=\"dataframe\">\n",
       "  <thead>\n",
       "    <tr style=\"text-align: right;\">\n",
       "      <th></th>\n",
       "      <th>cnt_un_users</th>\n",
       "      <th>users_per</th>\n",
       "    </tr>\n",
       "    <tr>\n",
       "      <th>event_name</th>\n",
       "      <th></th>\n",
       "      <th></th>\n",
       "    </tr>\n",
       "  </thead>\n",
       "  <tbody>\n",
       "    <tr>\n",
       "      <th>MainScreenAppear</th>\n",
       "      <td>7419</td>\n",
       "      <td>0.985</td>\n",
       "    </tr>\n",
       "    <tr>\n",
       "      <th>OffersScreenAppear</th>\n",
       "      <td>4593</td>\n",
       "      <td>0.610</td>\n",
       "    </tr>\n",
       "    <tr>\n",
       "      <th>CartScreenAppear</th>\n",
       "      <td>3734</td>\n",
       "      <td>0.496</td>\n",
       "    </tr>\n",
       "    <tr>\n",
       "      <th>PaymentScreenSuccessful</th>\n",
       "      <td>3539</td>\n",
       "      <td>0.470</td>\n",
       "    </tr>\n",
       "    <tr>\n",
       "      <th>Tutorial</th>\n",
       "      <td>840</td>\n",
       "      <td>0.111</td>\n",
       "    </tr>\n",
       "  </tbody>\n",
       "</table>\n",
       "</div>"
      ],
      "text/plain": [
       "                         cnt_un_users  users_per\n",
       "event_name                                      \n",
       "MainScreenAppear                 7419      0.985\n",
       "OffersScreenAppear               4593      0.610\n",
       "CartScreenAppear                 3734      0.496\n",
       "PaymentScreenSuccessful          3539      0.470\n",
       "Tutorial                          840      0.111"
      ]
     },
     "execution_count": 168,
     "metadata": {},
     "output_type": "execute_result"
    }
   ],
   "source": [
    "#Посчитаем число пользователей, совершивших каждое событие, а также их долю\n",
    "users_count = data.groupby(\n",
    "    'event_name').agg(\n",
    "        {'device_id_hash': 'nunique'}).sort_values(\n",
    "            by='device_id_hash', ascending=False).rename(columns={'device_id_hash': 'cnt_un_users'})\n",
    "users_count['users_per'] = round(users_count['cnt_un_users'] / users_after, 3)\n",
    "users_count"
   ]
  },
  {
   "cell_type": "markdown",
   "metadata": {},
   "source": [
    "Рейтинг по количеству пользователей, совершавших данное событие:\n",
    "- MainScreenAppear - 7419 (98.5%)\n",
    "- OffersScreenAppear - 4593 (61%)\n",
    "- CartScreenAppear - 3734 (49.6%)\n",
    "- PaymentScreenSuccessful - 3539 (47%)\n",
    "- Tutorial - 840 (11.1%)"
   ]
  },
  {
   "cell_type": "markdown",
   "metadata": {},
   "source": [
    "Вероятнее всего, пользовательский путь имеет следующий порядок событий:\n",
    "- MainScreenAppear (Пользователь заходит на главный экран приложения)\n",
    "- OffersScreenAppear (Пользователь смотрит товары магазина / предложенные товары магазином)\n",
    "- CartScreenAppear (Пользователь заходит в собранную корзину с выбранными товарами) \n",
    "- PaymentScreenSuccessful (После оплаты пользователю показывается баннер \"Оплата прошла успешно\")\n",
    "- Tutorial (Прохождение пользователем туториала по использованию приложения. По количеству событий а также уникальных пользователей, совершивших это событие, можем сделать предположение о том, что оно опционально и не является обязательным пунктом для осуществления покупок в приложении)"
   ]
  },
  {
   "cell_type": "markdown",
   "metadata": {},
   "source": [
    "#### Воронка событий"
   ]
  },
  {
   "cell_type": "code",
   "execution_count": 169,
   "metadata": {},
   "outputs": [],
   "source": [
    "#Удалим опциональную строку с туториалом, а также долю пользователей в каждом событии\n",
    "users_count = users_count.drop(index='Tutorial', columns='users_per')"
   ]
  },
  {
   "cell_type": "code",
   "execution_count": 170,
   "metadata": {},
   "outputs": [],
   "source": [
    "#Добавляем сдвинутый столбец количества уникальных пользователей\n",
    "#для расчета конверсии и конверсии за шаг.\n",
    "#Заполним пустое значение количеством уникальных пользователей на самом первом событии,\n",
    "#делаем это для того, чтобы было 100% на старте\n",
    "users_count['count_f_cr'] = users_count['cnt_un_users'].shift(1).fillna(users_count['cnt_un_users'][0])"
   ]
  },
  {
   "cell_type": "code",
   "execution_count": 171,
   "metadata": {},
   "outputs": [],
   "source": [
    "#Расчитываем обычную конверсию\n",
    "users_count['conversion'] = round(users_count['cnt_un_users'] / users_count['count_f_cr'][0] * 100, 2)\n",
    "#Расчитываем конверсию в шаг\n",
    "users_count['cr_step'] = round(users_count['cnt_un_users'] / users_count['count_f_cr'] * 100, 2)\n",
    "#Расчитываем потерю пользователей в процентах в шаг\n",
    "users_count['lost_cr_step'] = 100 - round(users_count['cnt_un_users'] / users_count['count_f_cr'] * 100, 2)"
   ]
  },
  {
   "cell_type": "code",
   "execution_count": 172,
   "metadata": {
    "scrolled": true
   },
   "outputs": [
    {
     "data": {
      "text/html": [
       "<div>\n",
       "<style scoped>\n",
       "    .dataframe tbody tr th:only-of-type {\n",
       "        vertical-align: middle;\n",
       "    }\n",
       "\n",
       "    .dataframe tbody tr th {\n",
       "        vertical-align: top;\n",
       "    }\n",
       "\n",
       "    .dataframe thead th {\n",
       "        text-align: right;\n",
       "    }\n",
       "</style>\n",
       "<table border=\"1\" class=\"dataframe\">\n",
       "  <thead>\n",
       "    <tr style=\"text-align: right;\">\n",
       "      <th></th>\n",
       "      <th>cnt_un_users</th>\n",
       "      <th>count_f_cr</th>\n",
       "      <th>conversion</th>\n",
       "      <th>cr_step</th>\n",
       "      <th>lost_cr_step</th>\n",
       "    </tr>\n",
       "    <tr>\n",
       "      <th>event_name</th>\n",
       "      <th></th>\n",
       "      <th></th>\n",
       "      <th></th>\n",
       "      <th></th>\n",
       "      <th></th>\n",
       "    </tr>\n",
       "  </thead>\n",
       "  <tbody>\n",
       "    <tr>\n",
       "      <th>MainScreenAppear</th>\n",
       "      <td>7419</td>\n",
       "      <td>7419.0</td>\n",
       "      <td>100.00</td>\n",
       "      <td>100.00</td>\n",
       "      <td>0.00</td>\n",
       "    </tr>\n",
       "    <tr>\n",
       "      <th>OffersScreenAppear</th>\n",
       "      <td>4593</td>\n",
       "      <td>7419.0</td>\n",
       "      <td>61.91</td>\n",
       "      <td>61.91</td>\n",
       "      <td>38.09</td>\n",
       "    </tr>\n",
       "    <tr>\n",
       "      <th>CartScreenAppear</th>\n",
       "      <td>3734</td>\n",
       "      <td>4593.0</td>\n",
       "      <td>50.33</td>\n",
       "      <td>81.30</td>\n",
       "      <td>18.70</td>\n",
       "    </tr>\n",
       "    <tr>\n",
       "      <th>PaymentScreenSuccessful</th>\n",
       "      <td>3539</td>\n",
       "      <td>3734.0</td>\n",
       "      <td>47.70</td>\n",
       "      <td>94.78</td>\n",
       "      <td>5.22</td>\n",
       "    </tr>\n",
       "  </tbody>\n",
       "</table>\n",
       "</div>"
      ],
      "text/plain": [
       "                         cnt_un_users  count_f_cr  conversion  cr_step  \\\n",
       "event_name                                                               \n",
       "MainScreenAppear                 7419      7419.0      100.00   100.00   \n",
       "OffersScreenAppear               4593      7419.0       61.91    61.91   \n",
       "CartScreenAppear                 3734      4593.0       50.33    81.30   \n",
       "PaymentScreenSuccessful          3539      3734.0       47.70    94.78   \n",
       "\n",
       "                         lost_cr_step  \n",
       "event_name                             \n",
       "MainScreenAppear                 0.00  \n",
       "OffersScreenAppear              38.09  \n",
       "CartScreenAppear                18.70  \n",
       "PaymentScreenSuccessful          5.22  "
      ]
     },
     "execution_count": 172,
     "metadata": {},
     "output_type": "execute_result"
    }
   ],
   "source": [
    "#Выведем итоговую таблицу\n",
    "users_count"
   ]
  },
  {
   "cell_type": "code",
   "execution_count": 173,
   "metadata": {},
   "outputs": [
    {
     "data": {
      "application/vnd.plotly.v1+json": {
       "config": {
        "linkText": "Export to plot.ly",
        "plotlyServerURL": "https://plot.ly",
        "showLink": false
       },
       "data": [
        {
         "hovertemplate": "variable=cnt_un_users<br>value=%{x}<br>event_name=%{y}<extra></extra>",
         "legendgroup": "cnt_un_users",
         "marker": {
          "color": "#636efa"
         },
         "name": "cnt_un_users",
         "orientation": "h",
         "showlegend": true,
         "type": "funnel",
         "x": [
          7419,
          4593,
          3734,
          3539
         ],
         "xaxis": "x",
         "y": [
          "MainScreenAppear",
          "OffersScreenAppear",
          "CartScreenAppear",
          "PaymentScreenSuccessful"
         ],
         "yaxis": "y"
        }
       ],
       "layout": {
        "legend": {
         "title": {
          "text": "variable"
         },
         "tracegroupgap": 0
        },
        "margin": {
         "t": 60
        },
        "template": {
         "data": {
          "bar": [
           {
            "error_x": {
             "color": "#2a3f5f"
            },
            "error_y": {
             "color": "#2a3f5f"
            },
            "marker": {
             "line": {
              "color": "#E5ECF6",
              "width": 0.5
             },
             "pattern": {
              "fillmode": "overlay",
              "size": 10,
              "solidity": 0.2
             }
            },
            "type": "bar"
           }
          ],
          "barpolar": [
           {
            "marker": {
             "line": {
              "color": "#E5ECF6",
              "width": 0.5
             },
             "pattern": {
              "fillmode": "overlay",
              "size": 10,
              "solidity": 0.2
             }
            },
            "type": "barpolar"
           }
          ],
          "carpet": [
           {
            "aaxis": {
             "endlinecolor": "#2a3f5f",
             "gridcolor": "white",
             "linecolor": "white",
             "minorgridcolor": "white",
             "startlinecolor": "#2a3f5f"
            },
            "baxis": {
             "endlinecolor": "#2a3f5f",
             "gridcolor": "white",
             "linecolor": "white",
             "minorgridcolor": "white",
             "startlinecolor": "#2a3f5f"
            },
            "type": "carpet"
           }
          ],
          "choropleth": [
           {
            "colorbar": {
             "outlinewidth": 0,
             "ticks": ""
            },
            "type": "choropleth"
           }
          ],
          "contour": [
           {
            "colorbar": {
             "outlinewidth": 0,
             "ticks": ""
            },
            "colorscale": [
             [
              0,
              "#0d0887"
             ],
             [
              0.1111111111111111,
              "#46039f"
             ],
             [
              0.2222222222222222,
              "#7201a8"
             ],
             [
              0.3333333333333333,
              "#9c179e"
             ],
             [
              0.4444444444444444,
              "#bd3786"
             ],
             [
              0.5555555555555556,
              "#d8576b"
             ],
             [
              0.6666666666666666,
              "#ed7953"
             ],
             [
              0.7777777777777778,
              "#fb9f3a"
             ],
             [
              0.8888888888888888,
              "#fdca26"
             ],
             [
              1,
              "#f0f921"
             ]
            ],
            "type": "contour"
           }
          ],
          "contourcarpet": [
           {
            "colorbar": {
             "outlinewidth": 0,
             "ticks": ""
            },
            "type": "contourcarpet"
           }
          ],
          "heatmap": [
           {
            "colorbar": {
             "outlinewidth": 0,
             "ticks": ""
            },
            "colorscale": [
             [
              0,
              "#0d0887"
             ],
             [
              0.1111111111111111,
              "#46039f"
             ],
             [
              0.2222222222222222,
              "#7201a8"
             ],
             [
              0.3333333333333333,
              "#9c179e"
             ],
             [
              0.4444444444444444,
              "#bd3786"
             ],
             [
              0.5555555555555556,
              "#d8576b"
             ],
             [
              0.6666666666666666,
              "#ed7953"
             ],
             [
              0.7777777777777778,
              "#fb9f3a"
             ],
             [
              0.8888888888888888,
              "#fdca26"
             ],
             [
              1,
              "#f0f921"
             ]
            ],
            "type": "heatmap"
           }
          ],
          "heatmapgl": [
           {
            "colorbar": {
             "outlinewidth": 0,
             "ticks": ""
            },
            "colorscale": [
             [
              0,
              "#0d0887"
             ],
             [
              0.1111111111111111,
              "#46039f"
             ],
             [
              0.2222222222222222,
              "#7201a8"
             ],
             [
              0.3333333333333333,
              "#9c179e"
             ],
             [
              0.4444444444444444,
              "#bd3786"
             ],
             [
              0.5555555555555556,
              "#d8576b"
             ],
             [
              0.6666666666666666,
              "#ed7953"
             ],
             [
              0.7777777777777778,
              "#fb9f3a"
             ],
             [
              0.8888888888888888,
              "#fdca26"
             ],
             [
              1,
              "#f0f921"
             ]
            ],
            "type": "heatmapgl"
           }
          ],
          "histogram": [
           {
            "marker": {
             "pattern": {
              "fillmode": "overlay",
              "size": 10,
              "solidity": 0.2
             }
            },
            "type": "histogram"
           }
          ],
          "histogram2d": [
           {
            "colorbar": {
             "outlinewidth": 0,
             "ticks": ""
            },
            "colorscale": [
             [
              0,
              "#0d0887"
             ],
             [
              0.1111111111111111,
              "#46039f"
             ],
             [
              0.2222222222222222,
              "#7201a8"
             ],
             [
              0.3333333333333333,
              "#9c179e"
             ],
             [
              0.4444444444444444,
              "#bd3786"
             ],
             [
              0.5555555555555556,
              "#d8576b"
             ],
             [
              0.6666666666666666,
              "#ed7953"
             ],
             [
              0.7777777777777778,
              "#fb9f3a"
             ],
             [
              0.8888888888888888,
              "#fdca26"
             ],
             [
              1,
              "#f0f921"
             ]
            ],
            "type": "histogram2d"
           }
          ],
          "histogram2dcontour": [
           {
            "colorbar": {
             "outlinewidth": 0,
             "ticks": ""
            },
            "colorscale": [
             [
              0,
              "#0d0887"
             ],
             [
              0.1111111111111111,
              "#46039f"
             ],
             [
              0.2222222222222222,
              "#7201a8"
             ],
             [
              0.3333333333333333,
              "#9c179e"
             ],
             [
              0.4444444444444444,
              "#bd3786"
             ],
             [
              0.5555555555555556,
              "#d8576b"
             ],
             [
              0.6666666666666666,
              "#ed7953"
             ],
             [
              0.7777777777777778,
              "#fb9f3a"
             ],
             [
              0.8888888888888888,
              "#fdca26"
             ],
             [
              1,
              "#f0f921"
             ]
            ],
            "type": "histogram2dcontour"
           }
          ],
          "mesh3d": [
           {
            "colorbar": {
             "outlinewidth": 0,
             "ticks": ""
            },
            "type": "mesh3d"
           }
          ],
          "parcoords": [
           {
            "line": {
             "colorbar": {
              "outlinewidth": 0,
              "ticks": ""
             }
            },
            "type": "parcoords"
           }
          ],
          "pie": [
           {
            "automargin": true,
            "type": "pie"
           }
          ],
          "scatter": [
           {
            "fillpattern": {
             "fillmode": "overlay",
             "size": 10,
             "solidity": 0.2
            },
            "type": "scatter"
           }
          ],
          "scatter3d": [
           {
            "line": {
             "colorbar": {
              "outlinewidth": 0,
              "ticks": ""
             }
            },
            "marker": {
             "colorbar": {
              "outlinewidth": 0,
              "ticks": ""
             }
            },
            "type": "scatter3d"
           }
          ],
          "scattercarpet": [
           {
            "marker": {
             "colorbar": {
              "outlinewidth": 0,
              "ticks": ""
             }
            },
            "type": "scattercarpet"
           }
          ],
          "scattergeo": [
           {
            "marker": {
             "colorbar": {
              "outlinewidth": 0,
              "ticks": ""
             }
            },
            "type": "scattergeo"
           }
          ],
          "scattergl": [
           {
            "marker": {
             "colorbar": {
              "outlinewidth": 0,
              "ticks": ""
             }
            },
            "type": "scattergl"
           }
          ],
          "scattermapbox": [
           {
            "marker": {
             "colorbar": {
              "outlinewidth": 0,
              "ticks": ""
             }
            },
            "type": "scattermapbox"
           }
          ],
          "scatterpolar": [
           {
            "marker": {
             "colorbar": {
              "outlinewidth": 0,
              "ticks": ""
             }
            },
            "type": "scatterpolar"
           }
          ],
          "scatterpolargl": [
           {
            "marker": {
             "colorbar": {
              "outlinewidth": 0,
              "ticks": ""
             }
            },
            "type": "scatterpolargl"
           }
          ],
          "scatterternary": [
           {
            "marker": {
             "colorbar": {
              "outlinewidth": 0,
              "ticks": ""
             }
            },
            "type": "scatterternary"
           }
          ],
          "surface": [
           {
            "colorbar": {
             "outlinewidth": 0,
             "ticks": ""
            },
            "colorscale": [
             [
              0,
              "#0d0887"
             ],
             [
              0.1111111111111111,
              "#46039f"
             ],
             [
              0.2222222222222222,
              "#7201a8"
             ],
             [
              0.3333333333333333,
              "#9c179e"
             ],
             [
              0.4444444444444444,
              "#bd3786"
             ],
             [
              0.5555555555555556,
              "#d8576b"
             ],
             [
              0.6666666666666666,
              "#ed7953"
             ],
             [
              0.7777777777777778,
              "#fb9f3a"
             ],
             [
              0.8888888888888888,
              "#fdca26"
             ],
             [
              1,
              "#f0f921"
             ]
            ],
            "type": "surface"
           }
          ],
          "table": [
           {
            "cells": {
             "fill": {
              "color": "#EBF0F8"
             },
             "line": {
              "color": "white"
             }
            },
            "header": {
             "fill": {
              "color": "#C8D4E3"
             },
             "line": {
              "color": "white"
             }
            },
            "type": "table"
           }
          ]
         },
         "layout": {
          "annotationdefaults": {
           "arrowcolor": "#2a3f5f",
           "arrowhead": 0,
           "arrowwidth": 1
          },
          "autotypenumbers": "strict",
          "coloraxis": {
           "colorbar": {
            "outlinewidth": 0,
            "ticks": ""
           }
          },
          "colorscale": {
           "diverging": [
            [
             0,
             "#8e0152"
            ],
            [
             0.1,
             "#c51b7d"
            ],
            [
             0.2,
             "#de77ae"
            ],
            [
             0.3,
             "#f1b6da"
            ],
            [
             0.4,
             "#fde0ef"
            ],
            [
             0.5,
             "#f7f7f7"
            ],
            [
             0.6,
             "#e6f5d0"
            ],
            [
             0.7,
             "#b8e186"
            ],
            [
             0.8,
             "#7fbc41"
            ],
            [
             0.9,
             "#4d9221"
            ],
            [
             1,
             "#276419"
            ]
           ],
           "sequential": [
            [
             0,
             "#0d0887"
            ],
            [
             0.1111111111111111,
             "#46039f"
            ],
            [
             0.2222222222222222,
             "#7201a8"
            ],
            [
             0.3333333333333333,
             "#9c179e"
            ],
            [
             0.4444444444444444,
             "#bd3786"
            ],
            [
             0.5555555555555556,
             "#d8576b"
            ],
            [
             0.6666666666666666,
             "#ed7953"
            ],
            [
             0.7777777777777778,
             "#fb9f3a"
            ],
            [
             0.8888888888888888,
             "#fdca26"
            ],
            [
             1,
             "#f0f921"
            ]
           ],
           "sequentialminus": [
            [
             0,
             "#0d0887"
            ],
            [
             0.1111111111111111,
             "#46039f"
            ],
            [
             0.2222222222222222,
             "#7201a8"
            ],
            [
             0.3333333333333333,
             "#9c179e"
            ],
            [
             0.4444444444444444,
             "#bd3786"
            ],
            [
             0.5555555555555556,
             "#d8576b"
            ],
            [
             0.6666666666666666,
             "#ed7953"
            ],
            [
             0.7777777777777778,
             "#fb9f3a"
            ],
            [
             0.8888888888888888,
             "#fdca26"
            ],
            [
             1,
             "#f0f921"
            ]
           ]
          },
          "colorway": [
           "#636efa",
           "#EF553B",
           "#00cc96",
           "#ab63fa",
           "#FFA15A",
           "#19d3f3",
           "#FF6692",
           "#B6E880",
           "#FF97FF",
           "#FECB52"
          ],
          "font": {
           "color": "#2a3f5f"
          },
          "geo": {
           "bgcolor": "white",
           "lakecolor": "white",
           "landcolor": "#E5ECF6",
           "showlakes": true,
           "showland": true,
           "subunitcolor": "white"
          },
          "hoverlabel": {
           "align": "left"
          },
          "hovermode": "closest",
          "mapbox": {
           "style": "light"
          },
          "paper_bgcolor": "white",
          "plot_bgcolor": "#E5ECF6",
          "polar": {
           "angularaxis": {
            "gridcolor": "white",
            "linecolor": "white",
            "ticks": ""
           },
           "bgcolor": "#E5ECF6",
           "radialaxis": {
            "gridcolor": "white",
            "linecolor": "white",
            "ticks": ""
           }
          },
          "scene": {
           "xaxis": {
            "backgroundcolor": "#E5ECF6",
            "gridcolor": "white",
            "gridwidth": 2,
            "linecolor": "white",
            "showbackground": true,
            "ticks": "",
            "zerolinecolor": "white"
           },
           "yaxis": {
            "backgroundcolor": "#E5ECF6",
            "gridcolor": "white",
            "gridwidth": 2,
            "linecolor": "white",
            "showbackground": true,
            "ticks": "",
            "zerolinecolor": "white"
           },
           "zaxis": {
            "backgroundcolor": "#E5ECF6",
            "gridcolor": "white",
            "gridwidth": 2,
            "linecolor": "white",
            "showbackground": true,
            "ticks": "",
            "zerolinecolor": "white"
           }
          },
          "shapedefaults": {
           "line": {
            "color": "#2a3f5f"
           }
          },
          "ternary": {
           "aaxis": {
            "gridcolor": "white",
            "linecolor": "white",
            "ticks": ""
           },
           "baxis": {
            "gridcolor": "white",
            "linecolor": "white",
            "ticks": ""
           },
           "bgcolor": "#E5ECF6",
           "caxis": {
            "gridcolor": "white",
            "linecolor": "white",
            "ticks": ""
           }
          },
          "title": {
           "x": 0.05
          },
          "xaxis": {
           "automargin": true,
           "gridcolor": "white",
           "linecolor": "white",
           "ticks": "",
           "title": {
            "standoff": 15
           },
           "zerolinecolor": "white",
           "zerolinewidth": 2
          },
          "yaxis": {
           "automargin": true,
           "gridcolor": "white",
           "linecolor": "white",
           "ticks": "",
           "title": {
            "standoff": 15
           },
           "zerolinecolor": "white",
           "zerolinewidth": 2
          }
         }
        },
        "title": {
         "text": "Конверсия пользователей в приложении на каждом этапе"
        },
        "xaxis": {
         "anchor": "y",
         "domain": [
          0,
          1
         ],
         "title": {
          "text": "value"
         }
        },
        "yaxis": {
         "anchor": "x",
         "domain": [
          0,
          1
         ],
         "title": {
          "text": "Название события"
         }
        }
       }
      },
      "text/html": [
       "<div>                            <div id=\"dec81209-9e52-4ff3-b1db-6c29e81d6cf0\" class=\"plotly-graph-div\" style=\"height:525px; width:100%;\"></div>            <script type=\"text/javascript\">                require([\"plotly\"], function(Plotly) {                    window.PLOTLYENV=window.PLOTLYENV || {};                                    if (document.getElementById(\"dec81209-9e52-4ff3-b1db-6c29e81d6cf0\")) {                    Plotly.newPlot(                        \"dec81209-9e52-4ff3-b1db-6c29e81d6cf0\",                        [{\"hovertemplate\":\"variable=cnt_un_users<br>value=%{x}<br>event_name=%{y}<extra></extra>\",\"legendgroup\":\"cnt_un_users\",\"marker\":{\"color\":\"#636efa\"},\"name\":\"cnt_un_users\",\"orientation\":\"h\",\"showlegend\":true,\"x\":[7419,4593,3734,3539],\"xaxis\":\"x\",\"y\":[\"MainScreenAppear\",\"OffersScreenAppear\",\"CartScreenAppear\",\"PaymentScreenSuccessful\"],\"yaxis\":\"y\",\"type\":\"funnel\"}],                        {\"legend\":{\"title\":{\"text\":\"variable\"},\"tracegroupgap\":0},\"margin\":{\"t\":60},\"template\":{\"data\":{\"barpolar\":[{\"marker\":{\"line\":{\"color\":\"#E5ECF6\",\"width\":0.5},\"pattern\":{\"fillmode\":\"overlay\",\"size\":10,\"solidity\":0.2}},\"type\":\"barpolar\"}],\"bar\":[{\"error_x\":{\"color\":\"#2a3f5f\"},\"error_y\":{\"color\":\"#2a3f5f\"},\"marker\":{\"line\":{\"color\":\"#E5ECF6\",\"width\":0.5},\"pattern\":{\"fillmode\":\"overlay\",\"size\":10,\"solidity\":0.2}},\"type\":\"bar\"}],\"carpet\":[{\"aaxis\":{\"endlinecolor\":\"#2a3f5f\",\"gridcolor\":\"white\",\"linecolor\":\"white\",\"minorgridcolor\":\"white\",\"startlinecolor\":\"#2a3f5f\"},\"baxis\":{\"endlinecolor\":\"#2a3f5f\",\"gridcolor\":\"white\",\"linecolor\":\"white\",\"minorgridcolor\":\"white\",\"startlinecolor\":\"#2a3f5f\"},\"type\":\"carpet\"}],\"choropleth\":[{\"colorbar\":{\"outlinewidth\":0,\"ticks\":\"\"},\"type\":\"choropleth\"}],\"contourcarpet\":[{\"colorbar\":{\"outlinewidth\":0,\"ticks\":\"\"},\"type\":\"contourcarpet\"}],\"contour\":[{\"colorbar\":{\"outlinewidth\":0,\"ticks\":\"\"},\"colorscale\":[[0.0,\"#0d0887\"],[0.1111111111111111,\"#46039f\"],[0.2222222222222222,\"#7201a8\"],[0.3333333333333333,\"#9c179e\"],[0.4444444444444444,\"#bd3786\"],[0.5555555555555556,\"#d8576b\"],[0.6666666666666666,\"#ed7953\"],[0.7777777777777778,\"#fb9f3a\"],[0.8888888888888888,\"#fdca26\"],[1.0,\"#f0f921\"]],\"type\":\"contour\"}],\"heatmapgl\":[{\"colorbar\":{\"outlinewidth\":0,\"ticks\":\"\"},\"colorscale\":[[0.0,\"#0d0887\"],[0.1111111111111111,\"#46039f\"],[0.2222222222222222,\"#7201a8\"],[0.3333333333333333,\"#9c179e\"],[0.4444444444444444,\"#bd3786\"],[0.5555555555555556,\"#d8576b\"],[0.6666666666666666,\"#ed7953\"],[0.7777777777777778,\"#fb9f3a\"],[0.8888888888888888,\"#fdca26\"],[1.0,\"#f0f921\"]],\"type\":\"heatmapgl\"}],\"heatmap\":[{\"colorbar\":{\"outlinewidth\":0,\"ticks\":\"\"},\"colorscale\":[[0.0,\"#0d0887\"],[0.1111111111111111,\"#46039f\"],[0.2222222222222222,\"#7201a8\"],[0.3333333333333333,\"#9c179e\"],[0.4444444444444444,\"#bd3786\"],[0.5555555555555556,\"#d8576b\"],[0.6666666666666666,\"#ed7953\"],[0.7777777777777778,\"#fb9f3a\"],[0.8888888888888888,\"#fdca26\"],[1.0,\"#f0f921\"]],\"type\":\"heatmap\"}],\"histogram2dcontour\":[{\"colorbar\":{\"outlinewidth\":0,\"ticks\":\"\"},\"colorscale\":[[0.0,\"#0d0887\"],[0.1111111111111111,\"#46039f\"],[0.2222222222222222,\"#7201a8\"],[0.3333333333333333,\"#9c179e\"],[0.4444444444444444,\"#bd3786\"],[0.5555555555555556,\"#d8576b\"],[0.6666666666666666,\"#ed7953\"],[0.7777777777777778,\"#fb9f3a\"],[0.8888888888888888,\"#fdca26\"],[1.0,\"#f0f921\"]],\"type\":\"histogram2dcontour\"}],\"histogram2d\":[{\"colorbar\":{\"outlinewidth\":0,\"ticks\":\"\"},\"colorscale\":[[0.0,\"#0d0887\"],[0.1111111111111111,\"#46039f\"],[0.2222222222222222,\"#7201a8\"],[0.3333333333333333,\"#9c179e\"],[0.4444444444444444,\"#bd3786\"],[0.5555555555555556,\"#d8576b\"],[0.6666666666666666,\"#ed7953\"],[0.7777777777777778,\"#fb9f3a\"],[0.8888888888888888,\"#fdca26\"],[1.0,\"#f0f921\"]],\"type\":\"histogram2d\"}],\"histogram\":[{\"marker\":{\"pattern\":{\"fillmode\":\"overlay\",\"size\":10,\"solidity\":0.2}},\"type\":\"histogram\"}],\"mesh3d\":[{\"colorbar\":{\"outlinewidth\":0,\"ticks\":\"\"},\"type\":\"mesh3d\"}],\"parcoords\":[{\"line\":{\"colorbar\":{\"outlinewidth\":0,\"ticks\":\"\"}},\"type\":\"parcoords\"}],\"pie\":[{\"automargin\":true,\"type\":\"pie\"}],\"scatter3d\":[{\"line\":{\"colorbar\":{\"outlinewidth\":0,\"ticks\":\"\"}},\"marker\":{\"colorbar\":{\"outlinewidth\":0,\"ticks\":\"\"}},\"type\":\"scatter3d\"}],\"scattercarpet\":[{\"marker\":{\"colorbar\":{\"outlinewidth\":0,\"ticks\":\"\"}},\"type\":\"scattercarpet\"}],\"scattergeo\":[{\"marker\":{\"colorbar\":{\"outlinewidth\":0,\"ticks\":\"\"}},\"type\":\"scattergeo\"}],\"scattergl\":[{\"marker\":{\"colorbar\":{\"outlinewidth\":0,\"ticks\":\"\"}},\"type\":\"scattergl\"}],\"scattermapbox\":[{\"marker\":{\"colorbar\":{\"outlinewidth\":0,\"ticks\":\"\"}},\"type\":\"scattermapbox\"}],\"scatterpolargl\":[{\"marker\":{\"colorbar\":{\"outlinewidth\":0,\"ticks\":\"\"}},\"type\":\"scatterpolargl\"}],\"scatterpolar\":[{\"marker\":{\"colorbar\":{\"outlinewidth\":0,\"ticks\":\"\"}},\"type\":\"scatterpolar\"}],\"scatter\":[{\"fillpattern\":{\"fillmode\":\"overlay\",\"size\":10,\"solidity\":0.2},\"type\":\"scatter\"}],\"scatterternary\":[{\"marker\":{\"colorbar\":{\"outlinewidth\":0,\"ticks\":\"\"}},\"type\":\"scatterternary\"}],\"surface\":[{\"colorbar\":{\"outlinewidth\":0,\"ticks\":\"\"},\"colorscale\":[[0.0,\"#0d0887\"],[0.1111111111111111,\"#46039f\"],[0.2222222222222222,\"#7201a8\"],[0.3333333333333333,\"#9c179e\"],[0.4444444444444444,\"#bd3786\"],[0.5555555555555556,\"#d8576b\"],[0.6666666666666666,\"#ed7953\"],[0.7777777777777778,\"#fb9f3a\"],[0.8888888888888888,\"#fdca26\"],[1.0,\"#f0f921\"]],\"type\":\"surface\"}],\"table\":[{\"cells\":{\"fill\":{\"color\":\"#EBF0F8\"},\"line\":{\"color\":\"white\"}},\"header\":{\"fill\":{\"color\":\"#C8D4E3\"},\"line\":{\"color\":\"white\"}},\"type\":\"table\"}]},\"layout\":{\"annotationdefaults\":{\"arrowcolor\":\"#2a3f5f\",\"arrowhead\":0,\"arrowwidth\":1},\"autotypenumbers\":\"strict\",\"coloraxis\":{\"colorbar\":{\"outlinewidth\":0,\"ticks\":\"\"}},\"colorscale\":{\"diverging\":[[0,\"#8e0152\"],[0.1,\"#c51b7d\"],[0.2,\"#de77ae\"],[0.3,\"#f1b6da\"],[0.4,\"#fde0ef\"],[0.5,\"#f7f7f7\"],[0.6,\"#e6f5d0\"],[0.7,\"#b8e186\"],[0.8,\"#7fbc41\"],[0.9,\"#4d9221\"],[1,\"#276419\"]],\"sequential\":[[0.0,\"#0d0887\"],[0.1111111111111111,\"#46039f\"],[0.2222222222222222,\"#7201a8\"],[0.3333333333333333,\"#9c179e\"],[0.4444444444444444,\"#bd3786\"],[0.5555555555555556,\"#d8576b\"],[0.6666666666666666,\"#ed7953\"],[0.7777777777777778,\"#fb9f3a\"],[0.8888888888888888,\"#fdca26\"],[1.0,\"#f0f921\"]],\"sequentialminus\":[[0.0,\"#0d0887\"],[0.1111111111111111,\"#46039f\"],[0.2222222222222222,\"#7201a8\"],[0.3333333333333333,\"#9c179e\"],[0.4444444444444444,\"#bd3786\"],[0.5555555555555556,\"#d8576b\"],[0.6666666666666666,\"#ed7953\"],[0.7777777777777778,\"#fb9f3a\"],[0.8888888888888888,\"#fdca26\"],[1.0,\"#f0f921\"]]},\"colorway\":[\"#636efa\",\"#EF553B\",\"#00cc96\",\"#ab63fa\",\"#FFA15A\",\"#19d3f3\",\"#FF6692\",\"#B6E880\",\"#FF97FF\",\"#FECB52\"],\"font\":{\"color\":\"#2a3f5f\"},\"geo\":{\"bgcolor\":\"white\",\"lakecolor\":\"white\",\"landcolor\":\"#E5ECF6\",\"showlakes\":true,\"showland\":true,\"subunitcolor\":\"white\"},\"hoverlabel\":{\"align\":\"left\"},\"hovermode\":\"closest\",\"mapbox\":{\"style\":\"light\"},\"paper_bgcolor\":\"white\",\"plot_bgcolor\":\"#E5ECF6\",\"polar\":{\"angularaxis\":{\"gridcolor\":\"white\",\"linecolor\":\"white\",\"ticks\":\"\"},\"bgcolor\":\"#E5ECF6\",\"radialaxis\":{\"gridcolor\":\"white\",\"linecolor\":\"white\",\"ticks\":\"\"}},\"scene\":{\"xaxis\":{\"backgroundcolor\":\"#E5ECF6\",\"gridcolor\":\"white\",\"gridwidth\":2,\"linecolor\":\"white\",\"showbackground\":true,\"ticks\":\"\",\"zerolinecolor\":\"white\"},\"yaxis\":{\"backgroundcolor\":\"#E5ECF6\",\"gridcolor\":\"white\",\"gridwidth\":2,\"linecolor\":\"white\",\"showbackground\":true,\"ticks\":\"\",\"zerolinecolor\":\"white\"},\"zaxis\":{\"backgroundcolor\":\"#E5ECF6\",\"gridcolor\":\"white\",\"gridwidth\":2,\"linecolor\":\"white\",\"showbackground\":true,\"ticks\":\"\",\"zerolinecolor\":\"white\"}},\"shapedefaults\":{\"line\":{\"color\":\"#2a3f5f\"}},\"ternary\":{\"aaxis\":{\"gridcolor\":\"white\",\"linecolor\":\"white\",\"ticks\":\"\"},\"baxis\":{\"gridcolor\":\"white\",\"linecolor\":\"white\",\"ticks\":\"\"},\"bgcolor\":\"#E5ECF6\",\"caxis\":{\"gridcolor\":\"white\",\"linecolor\":\"white\",\"ticks\":\"\"}},\"title\":{\"x\":0.05},\"xaxis\":{\"automargin\":true,\"gridcolor\":\"white\",\"linecolor\":\"white\",\"ticks\":\"\",\"title\":{\"standoff\":15},\"zerolinecolor\":\"white\",\"zerolinewidth\":2},\"yaxis\":{\"automargin\":true,\"gridcolor\":\"white\",\"linecolor\":\"white\",\"ticks\":\"\",\"title\":{\"standoff\":15},\"zerolinecolor\":\"white\",\"zerolinewidth\":2}}},\"title\":{\"text\":\"\\u041a\\u043e\\u043d\\u0432\\u0435\\u0440\\u0441\\u0438\\u044f \\u043f\\u043e\\u043b\\u044c\\u0437\\u043e\\u0432\\u0430\\u0442\\u0435\\u043b\\u0435\\u0439 \\u0432 \\u043f\\u0440\\u0438\\u043b\\u043e\\u0436\\u0435\\u043d\\u0438\\u0438 \\u043d\\u0430 \\u043a\\u0430\\u0436\\u0434\\u043e\\u043c \\u044d\\u0442\\u0430\\u043f\\u0435\"},\"xaxis\":{\"anchor\":\"y\",\"domain\":[0.0,1.0],\"title\":{\"text\":\"value\"}},\"yaxis\":{\"anchor\":\"x\",\"domain\":[0.0,1.0],\"title\":{\"text\":\"\\u041d\\u0430\\u0437\\u0432\\u0430\\u043d\\u0438\\u0435 \\u0441\\u043e\\u0431\\u044b\\u0442\\u0438\\u044f\"}}},                        {\"responsive\": true}                    ).then(function(){\n",
       "                            \n",
       "var gd = document.getElementById('dec81209-9e52-4ff3-b1db-6c29e81d6cf0');\n",
       "var x = new MutationObserver(function (mutations, observer) {{\n",
       "        var display = window.getComputedStyle(gd).display;\n",
       "        if (!display || display === 'none') {{\n",
       "            console.log([gd, 'removed!']);\n",
       "            Plotly.purge(gd);\n",
       "            observer.disconnect();\n",
       "        }}\n",
       "}});\n",
       "\n",
       "// Listen for the removal of the full notebook cells\n",
       "var notebookContainer = gd.closest('#notebook-container');\n",
       "if (notebookContainer) {{\n",
       "    x.observe(notebookContainer, {childList: true});\n",
       "}}\n",
       "\n",
       "// Listen for the clearing of the current output cell\n",
       "var outputEl = gd.closest('.output');\n",
       "if (outputEl) {{\n",
       "    x.observe(outputEl, {childList: true});\n",
       "}}\n",
       "\n",
       "                        })                };                });            </script>        </div>"
      ]
     },
     "metadata": {},
     "output_type": "display_data"
    }
   ],
   "source": [
    "#Для большей наглядности построим воронку для отражения количества пользователей\n",
    "#на каждом этапе\n",
    "fig = px.funnel(users_count['cnt_un_users'])\n",
    "fig.update_layout(title='Конверсия пользователей в приложении на каждом этапе',\n",
    "                   yaxis_title='Название события')\n",
    "iplot(fig)"
   ]
  },
  {
   "cell_type": "code",
   "execution_count": 174,
   "metadata": {},
   "outputs": [
    {
     "data": {
      "application/vnd.plotly.v1+json": {
       "config": {
        "linkText": "Export to plot.ly",
        "plotlyServerURL": "https://plot.ly",
        "showLink": false
       },
       "data": [
        {
         "hovertemplate": "variable=cr_step<br>value=%{x}<br>event_name=%{y}<extra></extra>",
         "legendgroup": "cr_step",
         "marker": {
          "color": "#636efa"
         },
         "name": "cr_step",
         "orientation": "h",
         "showlegend": true,
         "type": "funnel",
         "x": [
          100,
          61.91,
          81.3,
          94.78
         ],
         "xaxis": "x",
         "y": [
          "MainScreenAppear",
          "OffersScreenAppear",
          "CartScreenAppear",
          "PaymentScreenSuccessful"
         ],
         "yaxis": "y"
        }
       ],
       "layout": {
        "legend": {
         "title": {
          "text": "variable"
         },
         "tracegroupgap": 0
        },
        "margin": {
         "t": 60
        },
        "template": {
         "data": {
          "bar": [
           {
            "error_x": {
             "color": "#2a3f5f"
            },
            "error_y": {
             "color": "#2a3f5f"
            },
            "marker": {
             "line": {
              "color": "#E5ECF6",
              "width": 0.5
             },
             "pattern": {
              "fillmode": "overlay",
              "size": 10,
              "solidity": 0.2
             }
            },
            "type": "bar"
           }
          ],
          "barpolar": [
           {
            "marker": {
             "line": {
              "color": "#E5ECF6",
              "width": 0.5
             },
             "pattern": {
              "fillmode": "overlay",
              "size": 10,
              "solidity": 0.2
             }
            },
            "type": "barpolar"
           }
          ],
          "carpet": [
           {
            "aaxis": {
             "endlinecolor": "#2a3f5f",
             "gridcolor": "white",
             "linecolor": "white",
             "minorgridcolor": "white",
             "startlinecolor": "#2a3f5f"
            },
            "baxis": {
             "endlinecolor": "#2a3f5f",
             "gridcolor": "white",
             "linecolor": "white",
             "minorgridcolor": "white",
             "startlinecolor": "#2a3f5f"
            },
            "type": "carpet"
           }
          ],
          "choropleth": [
           {
            "colorbar": {
             "outlinewidth": 0,
             "ticks": ""
            },
            "type": "choropleth"
           }
          ],
          "contour": [
           {
            "colorbar": {
             "outlinewidth": 0,
             "ticks": ""
            },
            "colorscale": [
             [
              0,
              "#0d0887"
             ],
             [
              0.1111111111111111,
              "#46039f"
             ],
             [
              0.2222222222222222,
              "#7201a8"
             ],
             [
              0.3333333333333333,
              "#9c179e"
             ],
             [
              0.4444444444444444,
              "#bd3786"
             ],
             [
              0.5555555555555556,
              "#d8576b"
             ],
             [
              0.6666666666666666,
              "#ed7953"
             ],
             [
              0.7777777777777778,
              "#fb9f3a"
             ],
             [
              0.8888888888888888,
              "#fdca26"
             ],
             [
              1,
              "#f0f921"
             ]
            ],
            "type": "contour"
           }
          ],
          "contourcarpet": [
           {
            "colorbar": {
             "outlinewidth": 0,
             "ticks": ""
            },
            "type": "contourcarpet"
           }
          ],
          "heatmap": [
           {
            "colorbar": {
             "outlinewidth": 0,
             "ticks": ""
            },
            "colorscale": [
             [
              0,
              "#0d0887"
             ],
             [
              0.1111111111111111,
              "#46039f"
             ],
             [
              0.2222222222222222,
              "#7201a8"
             ],
             [
              0.3333333333333333,
              "#9c179e"
             ],
             [
              0.4444444444444444,
              "#bd3786"
             ],
             [
              0.5555555555555556,
              "#d8576b"
             ],
             [
              0.6666666666666666,
              "#ed7953"
             ],
             [
              0.7777777777777778,
              "#fb9f3a"
             ],
             [
              0.8888888888888888,
              "#fdca26"
             ],
             [
              1,
              "#f0f921"
             ]
            ],
            "type": "heatmap"
           }
          ],
          "heatmapgl": [
           {
            "colorbar": {
             "outlinewidth": 0,
             "ticks": ""
            },
            "colorscale": [
             [
              0,
              "#0d0887"
             ],
             [
              0.1111111111111111,
              "#46039f"
             ],
             [
              0.2222222222222222,
              "#7201a8"
             ],
             [
              0.3333333333333333,
              "#9c179e"
             ],
             [
              0.4444444444444444,
              "#bd3786"
             ],
             [
              0.5555555555555556,
              "#d8576b"
             ],
             [
              0.6666666666666666,
              "#ed7953"
             ],
             [
              0.7777777777777778,
              "#fb9f3a"
             ],
             [
              0.8888888888888888,
              "#fdca26"
             ],
             [
              1,
              "#f0f921"
             ]
            ],
            "type": "heatmapgl"
           }
          ],
          "histogram": [
           {
            "marker": {
             "pattern": {
              "fillmode": "overlay",
              "size": 10,
              "solidity": 0.2
             }
            },
            "type": "histogram"
           }
          ],
          "histogram2d": [
           {
            "colorbar": {
             "outlinewidth": 0,
             "ticks": ""
            },
            "colorscale": [
             [
              0,
              "#0d0887"
             ],
             [
              0.1111111111111111,
              "#46039f"
             ],
             [
              0.2222222222222222,
              "#7201a8"
             ],
             [
              0.3333333333333333,
              "#9c179e"
             ],
             [
              0.4444444444444444,
              "#bd3786"
             ],
             [
              0.5555555555555556,
              "#d8576b"
             ],
             [
              0.6666666666666666,
              "#ed7953"
             ],
             [
              0.7777777777777778,
              "#fb9f3a"
             ],
             [
              0.8888888888888888,
              "#fdca26"
             ],
             [
              1,
              "#f0f921"
             ]
            ],
            "type": "histogram2d"
           }
          ],
          "histogram2dcontour": [
           {
            "colorbar": {
             "outlinewidth": 0,
             "ticks": ""
            },
            "colorscale": [
             [
              0,
              "#0d0887"
             ],
             [
              0.1111111111111111,
              "#46039f"
             ],
             [
              0.2222222222222222,
              "#7201a8"
             ],
             [
              0.3333333333333333,
              "#9c179e"
             ],
             [
              0.4444444444444444,
              "#bd3786"
             ],
             [
              0.5555555555555556,
              "#d8576b"
             ],
             [
              0.6666666666666666,
              "#ed7953"
             ],
             [
              0.7777777777777778,
              "#fb9f3a"
             ],
             [
              0.8888888888888888,
              "#fdca26"
             ],
             [
              1,
              "#f0f921"
             ]
            ],
            "type": "histogram2dcontour"
           }
          ],
          "mesh3d": [
           {
            "colorbar": {
             "outlinewidth": 0,
             "ticks": ""
            },
            "type": "mesh3d"
           }
          ],
          "parcoords": [
           {
            "line": {
             "colorbar": {
              "outlinewidth": 0,
              "ticks": ""
             }
            },
            "type": "parcoords"
           }
          ],
          "pie": [
           {
            "automargin": true,
            "type": "pie"
           }
          ],
          "scatter": [
           {
            "fillpattern": {
             "fillmode": "overlay",
             "size": 10,
             "solidity": 0.2
            },
            "type": "scatter"
           }
          ],
          "scatter3d": [
           {
            "line": {
             "colorbar": {
              "outlinewidth": 0,
              "ticks": ""
             }
            },
            "marker": {
             "colorbar": {
              "outlinewidth": 0,
              "ticks": ""
             }
            },
            "type": "scatter3d"
           }
          ],
          "scattercarpet": [
           {
            "marker": {
             "colorbar": {
              "outlinewidth": 0,
              "ticks": ""
             }
            },
            "type": "scattercarpet"
           }
          ],
          "scattergeo": [
           {
            "marker": {
             "colorbar": {
              "outlinewidth": 0,
              "ticks": ""
             }
            },
            "type": "scattergeo"
           }
          ],
          "scattergl": [
           {
            "marker": {
             "colorbar": {
              "outlinewidth": 0,
              "ticks": ""
             }
            },
            "type": "scattergl"
           }
          ],
          "scattermapbox": [
           {
            "marker": {
             "colorbar": {
              "outlinewidth": 0,
              "ticks": ""
             }
            },
            "type": "scattermapbox"
           }
          ],
          "scatterpolar": [
           {
            "marker": {
             "colorbar": {
              "outlinewidth": 0,
              "ticks": ""
             }
            },
            "type": "scatterpolar"
           }
          ],
          "scatterpolargl": [
           {
            "marker": {
             "colorbar": {
              "outlinewidth": 0,
              "ticks": ""
             }
            },
            "type": "scatterpolargl"
           }
          ],
          "scatterternary": [
           {
            "marker": {
             "colorbar": {
              "outlinewidth": 0,
              "ticks": ""
             }
            },
            "type": "scatterternary"
           }
          ],
          "surface": [
           {
            "colorbar": {
             "outlinewidth": 0,
             "ticks": ""
            },
            "colorscale": [
             [
              0,
              "#0d0887"
             ],
             [
              0.1111111111111111,
              "#46039f"
             ],
             [
              0.2222222222222222,
              "#7201a8"
             ],
             [
              0.3333333333333333,
              "#9c179e"
             ],
             [
              0.4444444444444444,
              "#bd3786"
             ],
             [
              0.5555555555555556,
              "#d8576b"
             ],
             [
              0.6666666666666666,
              "#ed7953"
             ],
             [
              0.7777777777777778,
              "#fb9f3a"
             ],
             [
              0.8888888888888888,
              "#fdca26"
             ],
             [
              1,
              "#f0f921"
             ]
            ],
            "type": "surface"
           }
          ],
          "table": [
           {
            "cells": {
             "fill": {
              "color": "#EBF0F8"
             },
             "line": {
              "color": "white"
             }
            },
            "header": {
             "fill": {
              "color": "#C8D4E3"
             },
             "line": {
              "color": "white"
             }
            },
            "type": "table"
           }
          ]
         },
         "layout": {
          "annotationdefaults": {
           "arrowcolor": "#2a3f5f",
           "arrowhead": 0,
           "arrowwidth": 1
          },
          "autotypenumbers": "strict",
          "coloraxis": {
           "colorbar": {
            "outlinewidth": 0,
            "ticks": ""
           }
          },
          "colorscale": {
           "diverging": [
            [
             0,
             "#8e0152"
            ],
            [
             0.1,
             "#c51b7d"
            ],
            [
             0.2,
             "#de77ae"
            ],
            [
             0.3,
             "#f1b6da"
            ],
            [
             0.4,
             "#fde0ef"
            ],
            [
             0.5,
             "#f7f7f7"
            ],
            [
             0.6,
             "#e6f5d0"
            ],
            [
             0.7,
             "#b8e186"
            ],
            [
             0.8,
             "#7fbc41"
            ],
            [
             0.9,
             "#4d9221"
            ],
            [
             1,
             "#276419"
            ]
           ],
           "sequential": [
            [
             0,
             "#0d0887"
            ],
            [
             0.1111111111111111,
             "#46039f"
            ],
            [
             0.2222222222222222,
             "#7201a8"
            ],
            [
             0.3333333333333333,
             "#9c179e"
            ],
            [
             0.4444444444444444,
             "#bd3786"
            ],
            [
             0.5555555555555556,
             "#d8576b"
            ],
            [
             0.6666666666666666,
             "#ed7953"
            ],
            [
             0.7777777777777778,
             "#fb9f3a"
            ],
            [
             0.8888888888888888,
             "#fdca26"
            ],
            [
             1,
             "#f0f921"
            ]
           ],
           "sequentialminus": [
            [
             0,
             "#0d0887"
            ],
            [
             0.1111111111111111,
             "#46039f"
            ],
            [
             0.2222222222222222,
             "#7201a8"
            ],
            [
             0.3333333333333333,
             "#9c179e"
            ],
            [
             0.4444444444444444,
             "#bd3786"
            ],
            [
             0.5555555555555556,
             "#d8576b"
            ],
            [
             0.6666666666666666,
             "#ed7953"
            ],
            [
             0.7777777777777778,
             "#fb9f3a"
            ],
            [
             0.8888888888888888,
             "#fdca26"
            ],
            [
             1,
             "#f0f921"
            ]
           ]
          },
          "colorway": [
           "#636efa",
           "#EF553B",
           "#00cc96",
           "#ab63fa",
           "#FFA15A",
           "#19d3f3",
           "#FF6692",
           "#B6E880",
           "#FF97FF",
           "#FECB52"
          ],
          "font": {
           "color": "#2a3f5f"
          },
          "geo": {
           "bgcolor": "white",
           "lakecolor": "white",
           "landcolor": "#E5ECF6",
           "showlakes": true,
           "showland": true,
           "subunitcolor": "white"
          },
          "hoverlabel": {
           "align": "left"
          },
          "hovermode": "closest",
          "mapbox": {
           "style": "light"
          },
          "paper_bgcolor": "white",
          "plot_bgcolor": "#E5ECF6",
          "polar": {
           "angularaxis": {
            "gridcolor": "white",
            "linecolor": "white",
            "ticks": ""
           },
           "bgcolor": "#E5ECF6",
           "radialaxis": {
            "gridcolor": "white",
            "linecolor": "white",
            "ticks": ""
           }
          },
          "scene": {
           "xaxis": {
            "backgroundcolor": "#E5ECF6",
            "gridcolor": "white",
            "gridwidth": 2,
            "linecolor": "white",
            "showbackground": true,
            "ticks": "",
            "zerolinecolor": "white"
           },
           "yaxis": {
            "backgroundcolor": "#E5ECF6",
            "gridcolor": "white",
            "gridwidth": 2,
            "linecolor": "white",
            "showbackground": true,
            "ticks": "",
            "zerolinecolor": "white"
           },
           "zaxis": {
            "backgroundcolor": "#E5ECF6",
            "gridcolor": "white",
            "gridwidth": 2,
            "linecolor": "white",
            "showbackground": true,
            "ticks": "",
            "zerolinecolor": "white"
           }
          },
          "shapedefaults": {
           "line": {
            "color": "#2a3f5f"
           }
          },
          "ternary": {
           "aaxis": {
            "gridcolor": "white",
            "linecolor": "white",
            "ticks": ""
           },
           "baxis": {
            "gridcolor": "white",
            "linecolor": "white",
            "ticks": ""
           },
           "bgcolor": "#E5ECF6",
           "caxis": {
            "gridcolor": "white",
            "linecolor": "white",
            "ticks": ""
           }
          },
          "title": {
           "x": 0.05
          },
          "xaxis": {
           "automargin": true,
           "gridcolor": "white",
           "linecolor": "white",
           "ticks": "",
           "title": {
            "standoff": 15
           },
           "zerolinecolor": "white",
           "zerolinewidth": 2
          },
          "yaxis": {
           "automargin": true,
           "gridcolor": "white",
           "linecolor": "white",
           "ticks": "",
           "title": {
            "standoff": 15
           },
           "zerolinecolor": "white",
           "zerolinewidth": 2
          }
         }
        },
        "title": {
         "text": "Конверсия в шаг пользователей в приложении на каждом этапе (%)"
        },
        "xaxis": {
         "anchor": "y",
         "domain": [
          0,
          1
         ],
         "title": {
          "text": "value"
         }
        },
        "yaxis": {
         "anchor": "x",
         "domain": [
          0,
          1
         ],
         "title": {
          "text": "Название события"
         }
        }
       }
      },
      "text/html": [
       "<div>                            <div id=\"c311302d-d4ce-4c1c-84c5-d77bca8de328\" class=\"plotly-graph-div\" style=\"height:525px; width:100%;\"></div>            <script type=\"text/javascript\">                require([\"plotly\"], function(Plotly) {                    window.PLOTLYENV=window.PLOTLYENV || {};                                    if (document.getElementById(\"c311302d-d4ce-4c1c-84c5-d77bca8de328\")) {                    Plotly.newPlot(                        \"c311302d-d4ce-4c1c-84c5-d77bca8de328\",                        [{\"hovertemplate\":\"variable=cr_step<br>value=%{x}<br>event_name=%{y}<extra></extra>\",\"legendgroup\":\"cr_step\",\"marker\":{\"color\":\"#636efa\"},\"name\":\"cr_step\",\"orientation\":\"h\",\"showlegend\":true,\"x\":[100.0,61.91,81.3,94.78],\"xaxis\":\"x\",\"y\":[\"MainScreenAppear\",\"OffersScreenAppear\",\"CartScreenAppear\",\"PaymentScreenSuccessful\"],\"yaxis\":\"y\",\"type\":\"funnel\"}],                        {\"legend\":{\"title\":{\"text\":\"variable\"},\"tracegroupgap\":0},\"margin\":{\"t\":60},\"template\":{\"data\":{\"barpolar\":[{\"marker\":{\"line\":{\"color\":\"#E5ECF6\",\"width\":0.5},\"pattern\":{\"fillmode\":\"overlay\",\"size\":10,\"solidity\":0.2}},\"type\":\"barpolar\"}],\"bar\":[{\"error_x\":{\"color\":\"#2a3f5f\"},\"error_y\":{\"color\":\"#2a3f5f\"},\"marker\":{\"line\":{\"color\":\"#E5ECF6\",\"width\":0.5},\"pattern\":{\"fillmode\":\"overlay\",\"size\":10,\"solidity\":0.2}},\"type\":\"bar\"}],\"carpet\":[{\"aaxis\":{\"endlinecolor\":\"#2a3f5f\",\"gridcolor\":\"white\",\"linecolor\":\"white\",\"minorgridcolor\":\"white\",\"startlinecolor\":\"#2a3f5f\"},\"baxis\":{\"endlinecolor\":\"#2a3f5f\",\"gridcolor\":\"white\",\"linecolor\":\"white\",\"minorgridcolor\":\"white\",\"startlinecolor\":\"#2a3f5f\"},\"type\":\"carpet\"}],\"choropleth\":[{\"colorbar\":{\"outlinewidth\":0,\"ticks\":\"\"},\"type\":\"choropleth\"}],\"contourcarpet\":[{\"colorbar\":{\"outlinewidth\":0,\"ticks\":\"\"},\"type\":\"contourcarpet\"}],\"contour\":[{\"colorbar\":{\"outlinewidth\":0,\"ticks\":\"\"},\"colorscale\":[[0.0,\"#0d0887\"],[0.1111111111111111,\"#46039f\"],[0.2222222222222222,\"#7201a8\"],[0.3333333333333333,\"#9c179e\"],[0.4444444444444444,\"#bd3786\"],[0.5555555555555556,\"#d8576b\"],[0.6666666666666666,\"#ed7953\"],[0.7777777777777778,\"#fb9f3a\"],[0.8888888888888888,\"#fdca26\"],[1.0,\"#f0f921\"]],\"type\":\"contour\"}],\"heatmapgl\":[{\"colorbar\":{\"outlinewidth\":0,\"ticks\":\"\"},\"colorscale\":[[0.0,\"#0d0887\"],[0.1111111111111111,\"#46039f\"],[0.2222222222222222,\"#7201a8\"],[0.3333333333333333,\"#9c179e\"],[0.4444444444444444,\"#bd3786\"],[0.5555555555555556,\"#d8576b\"],[0.6666666666666666,\"#ed7953\"],[0.7777777777777778,\"#fb9f3a\"],[0.8888888888888888,\"#fdca26\"],[1.0,\"#f0f921\"]],\"type\":\"heatmapgl\"}],\"heatmap\":[{\"colorbar\":{\"outlinewidth\":0,\"ticks\":\"\"},\"colorscale\":[[0.0,\"#0d0887\"],[0.1111111111111111,\"#46039f\"],[0.2222222222222222,\"#7201a8\"],[0.3333333333333333,\"#9c179e\"],[0.4444444444444444,\"#bd3786\"],[0.5555555555555556,\"#d8576b\"],[0.6666666666666666,\"#ed7953\"],[0.7777777777777778,\"#fb9f3a\"],[0.8888888888888888,\"#fdca26\"],[1.0,\"#f0f921\"]],\"type\":\"heatmap\"}],\"histogram2dcontour\":[{\"colorbar\":{\"outlinewidth\":0,\"ticks\":\"\"},\"colorscale\":[[0.0,\"#0d0887\"],[0.1111111111111111,\"#46039f\"],[0.2222222222222222,\"#7201a8\"],[0.3333333333333333,\"#9c179e\"],[0.4444444444444444,\"#bd3786\"],[0.5555555555555556,\"#d8576b\"],[0.6666666666666666,\"#ed7953\"],[0.7777777777777778,\"#fb9f3a\"],[0.8888888888888888,\"#fdca26\"],[1.0,\"#f0f921\"]],\"type\":\"histogram2dcontour\"}],\"histogram2d\":[{\"colorbar\":{\"outlinewidth\":0,\"ticks\":\"\"},\"colorscale\":[[0.0,\"#0d0887\"],[0.1111111111111111,\"#46039f\"],[0.2222222222222222,\"#7201a8\"],[0.3333333333333333,\"#9c179e\"],[0.4444444444444444,\"#bd3786\"],[0.5555555555555556,\"#d8576b\"],[0.6666666666666666,\"#ed7953\"],[0.7777777777777778,\"#fb9f3a\"],[0.8888888888888888,\"#fdca26\"],[1.0,\"#f0f921\"]],\"type\":\"histogram2d\"}],\"histogram\":[{\"marker\":{\"pattern\":{\"fillmode\":\"overlay\",\"size\":10,\"solidity\":0.2}},\"type\":\"histogram\"}],\"mesh3d\":[{\"colorbar\":{\"outlinewidth\":0,\"ticks\":\"\"},\"type\":\"mesh3d\"}],\"parcoords\":[{\"line\":{\"colorbar\":{\"outlinewidth\":0,\"ticks\":\"\"}},\"type\":\"parcoords\"}],\"pie\":[{\"automargin\":true,\"type\":\"pie\"}],\"scatter3d\":[{\"line\":{\"colorbar\":{\"outlinewidth\":0,\"ticks\":\"\"}},\"marker\":{\"colorbar\":{\"outlinewidth\":0,\"ticks\":\"\"}},\"type\":\"scatter3d\"}],\"scattercarpet\":[{\"marker\":{\"colorbar\":{\"outlinewidth\":0,\"ticks\":\"\"}},\"type\":\"scattercarpet\"}],\"scattergeo\":[{\"marker\":{\"colorbar\":{\"outlinewidth\":0,\"ticks\":\"\"}},\"type\":\"scattergeo\"}],\"scattergl\":[{\"marker\":{\"colorbar\":{\"outlinewidth\":0,\"ticks\":\"\"}},\"type\":\"scattergl\"}],\"scattermapbox\":[{\"marker\":{\"colorbar\":{\"outlinewidth\":0,\"ticks\":\"\"}},\"type\":\"scattermapbox\"}],\"scatterpolargl\":[{\"marker\":{\"colorbar\":{\"outlinewidth\":0,\"ticks\":\"\"}},\"type\":\"scatterpolargl\"}],\"scatterpolar\":[{\"marker\":{\"colorbar\":{\"outlinewidth\":0,\"ticks\":\"\"}},\"type\":\"scatterpolar\"}],\"scatter\":[{\"fillpattern\":{\"fillmode\":\"overlay\",\"size\":10,\"solidity\":0.2},\"type\":\"scatter\"}],\"scatterternary\":[{\"marker\":{\"colorbar\":{\"outlinewidth\":0,\"ticks\":\"\"}},\"type\":\"scatterternary\"}],\"surface\":[{\"colorbar\":{\"outlinewidth\":0,\"ticks\":\"\"},\"colorscale\":[[0.0,\"#0d0887\"],[0.1111111111111111,\"#46039f\"],[0.2222222222222222,\"#7201a8\"],[0.3333333333333333,\"#9c179e\"],[0.4444444444444444,\"#bd3786\"],[0.5555555555555556,\"#d8576b\"],[0.6666666666666666,\"#ed7953\"],[0.7777777777777778,\"#fb9f3a\"],[0.8888888888888888,\"#fdca26\"],[1.0,\"#f0f921\"]],\"type\":\"surface\"}],\"table\":[{\"cells\":{\"fill\":{\"color\":\"#EBF0F8\"},\"line\":{\"color\":\"white\"}},\"header\":{\"fill\":{\"color\":\"#C8D4E3\"},\"line\":{\"color\":\"white\"}},\"type\":\"table\"}]},\"layout\":{\"annotationdefaults\":{\"arrowcolor\":\"#2a3f5f\",\"arrowhead\":0,\"arrowwidth\":1},\"autotypenumbers\":\"strict\",\"coloraxis\":{\"colorbar\":{\"outlinewidth\":0,\"ticks\":\"\"}},\"colorscale\":{\"diverging\":[[0,\"#8e0152\"],[0.1,\"#c51b7d\"],[0.2,\"#de77ae\"],[0.3,\"#f1b6da\"],[0.4,\"#fde0ef\"],[0.5,\"#f7f7f7\"],[0.6,\"#e6f5d0\"],[0.7,\"#b8e186\"],[0.8,\"#7fbc41\"],[0.9,\"#4d9221\"],[1,\"#276419\"]],\"sequential\":[[0.0,\"#0d0887\"],[0.1111111111111111,\"#46039f\"],[0.2222222222222222,\"#7201a8\"],[0.3333333333333333,\"#9c179e\"],[0.4444444444444444,\"#bd3786\"],[0.5555555555555556,\"#d8576b\"],[0.6666666666666666,\"#ed7953\"],[0.7777777777777778,\"#fb9f3a\"],[0.8888888888888888,\"#fdca26\"],[1.0,\"#f0f921\"]],\"sequentialminus\":[[0.0,\"#0d0887\"],[0.1111111111111111,\"#46039f\"],[0.2222222222222222,\"#7201a8\"],[0.3333333333333333,\"#9c179e\"],[0.4444444444444444,\"#bd3786\"],[0.5555555555555556,\"#d8576b\"],[0.6666666666666666,\"#ed7953\"],[0.7777777777777778,\"#fb9f3a\"],[0.8888888888888888,\"#fdca26\"],[1.0,\"#f0f921\"]]},\"colorway\":[\"#636efa\",\"#EF553B\",\"#00cc96\",\"#ab63fa\",\"#FFA15A\",\"#19d3f3\",\"#FF6692\",\"#B6E880\",\"#FF97FF\",\"#FECB52\"],\"font\":{\"color\":\"#2a3f5f\"},\"geo\":{\"bgcolor\":\"white\",\"lakecolor\":\"white\",\"landcolor\":\"#E5ECF6\",\"showlakes\":true,\"showland\":true,\"subunitcolor\":\"white\"},\"hoverlabel\":{\"align\":\"left\"},\"hovermode\":\"closest\",\"mapbox\":{\"style\":\"light\"},\"paper_bgcolor\":\"white\",\"plot_bgcolor\":\"#E5ECF6\",\"polar\":{\"angularaxis\":{\"gridcolor\":\"white\",\"linecolor\":\"white\",\"ticks\":\"\"},\"bgcolor\":\"#E5ECF6\",\"radialaxis\":{\"gridcolor\":\"white\",\"linecolor\":\"white\",\"ticks\":\"\"}},\"scene\":{\"xaxis\":{\"backgroundcolor\":\"#E5ECF6\",\"gridcolor\":\"white\",\"gridwidth\":2,\"linecolor\":\"white\",\"showbackground\":true,\"ticks\":\"\",\"zerolinecolor\":\"white\"},\"yaxis\":{\"backgroundcolor\":\"#E5ECF6\",\"gridcolor\":\"white\",\"gridwidth\":2,\"linecolor\":\"white\",\"showbackground\":true,\"ticks\":\"\",\"zerolinecolor\":\"white\"},\"zaxis\":{\"backgroundcolor\":\"#E5ECF6\",\"gridcolor\":\"white\",\"gridwidth\":2,\"linecolor\":\"white\",\"showbackground\":true,\"ticks\":\"\",\"zerolinecolor\":\"white\"}},\"shapedefaults\":{\"line\":{\"color\":\"#2a3f5f\"}},\"ternary\":{\"aaxis\":{\"gridcolor\":\"white\",\"linecolor\":\"white\",\"ticks\":\"\"},\"baxis\":{\"gridcolor\":\"white\",\"linecolor\":\"white\",\"ticks\":\"\"},\"bgcolor\":\"#E5ECF6\",\"caxis\":{\"gridcolor\":\"white\",\"linecolor\":\"white\",\"ticks\":\"\"}},\"title\":{\"x\":0.05},\"xaxis\":{\"automargin\":true,\"gridcolor\":\"white\",\"linecolor\":\"white\",\"ticks\":\"\",\"title\":{\"standoff\":15},\"zerolinecolor\":\"white\",\"zerolinewidth\":2},\"yaxis\":{\"automargin\":true,\"gridcolor\":\"white\",\"linecolor\":\"white\",\"ticks\":\"\",\"title\":{\"standoff\":15},\"zerolinecolor\":\"white\",\"zerolinewidth\":2}}},\"title\":{\"text\":\"\\u041a\\u043e\\u043d\\u0432\\u0435\\u0440\\u0441\\u0438\\u044f \\u0432 \\u0448\\u0430\\u0433 \\u043f\\u043e\\u043b\\u044c\\u0437\\u043e\\u0432\\u0430\\u0442\\u0435\\u043b\\u0435\\u0439 \\u0432 \\u043f\\u0440\\u0438\\u043b\\u043e\\u0436\\u0435\\u043d\\u0438\\u0438 \\u043d\\u0430 \\u043a\\u0430\\u0436\\u0434\\u043e\\u043c \\u044d\\u0442\\u0430\\u043f\\u0435 (%)\"},\"xaxis\":{\"anchor\":\"y\",\"domain\":[0.0,1.0],\"title\":{\"text\":\"value\"}},\"yaxis\":{\"anchor\":\"x\",\"domain\":[0.0,1.0],\"title\":{\"text\":\"\\u041d\\u0430\\u0437\\u0432\\u0430\\u043d\\u0438\\u0435 \\u0441\\u043e\\u0431\\u044b\\u0442\\u0438\\u044f\"}}},                        {\"responsive\": true}                    ).then(function(){\n",
       "                            \n",
       "var gd = document.getElementById('c311302d-d4ce-4c1c-84c5-d77bca8de328');\n",
       "var x = new MutationObserver(function (mutations, observer) {{\n",
       "        var display = window.getComputedStyle(gd).display;\n",
       "        if (!display || display === 'none') {{\n",
       "            console.log([gd, 'removed!']);\n",
       "            Plotly.purge(gd);\n",
       "            observer.disconnect();\n",
       "        }}\n",
       "}});\n",
       "\n",
       "// Listen for the removal of the full notebook cells\n",
       "var notebookContainer = gd.closest('#notebook-container');\n",
       "if (notebookContainer) {{\n",
       "    x.observe(notebookContainer, {childList: true});\n",
       "}}\n",
       "\n",
       "// Listen for the clearing of the current output cell\n",
       "var outputEl = gd.closest('.output');\n",
       "if (outputEl) {{\n",
       "    x.observe(outputEl, {childList: true});\n",
       "}}\n",
       "\n",
       "                        })                };                });            </script>        </div>"
      ]
     },
     "metadata": {},
     "output_type": "display_data"
    }
   ],
   "source": [
    "#Для большей наглядности построим воронку для конверсии в шаг\n",
    "#на каждом этапе\n",
    "fig = px.funnel(users_count['cr_step'])\n",
    "\n",
    "fig.update_layout(title='Конверсия в шаг пользователей в приложении на каждом этапе (%)',\n",
    "                   yaxis_title='Название события')\n",
    "iplot(fig)"
   ]
  },
  {
   "cell_type": "markdown",
   "metadata": {},
   "source": [
    "Конверсия в шаг:\n",
    "- MainScreenAppear - 100.00 (100%, потому что это самое первое действие)\n",
    "- `OffersScreenAppear - 61.91 (на данном этапе мы теряем больше всего пользователей - 38.09%)`\n",
    "- CartScreenAppear - 81.30 (81.3% пользователей, посмотревших товары, добавляют их в корзину)\n",
    "- PaymentScreenSuccessful - 94.78 (почти 95% пользователей которые перешли в корзину, осуществили заказ)"
   ]
  },
  {
   "cell_type": "markdown",
   "metadata": {},
   "source": [
    "**Вывод:**\n",
    "`47.7%` пользователей нашего приложения дошли от главного экрана приложения до оплаты, мы можем назвать данный резулат отличным, ведь практически `50%` пользователей, скачавших приложение, совершили в нем покупки. Но данный результат можно улучшить, ведь наши пользователи почему - то \"застревают\" на главном экране и не переходят в другое окно для просмотра товаров (`38.09%`). Необходимо изучить действия, которые совершает пользователь для перехода к выбору товаров и ,возможно, стоит поработать над интуитивной частью приложения или сделать подсказки (помимо туториала, который проходят очень мало людей, возможно, стоит сделать всплывающее окно с туториалом, если такогового нету, после самого первого запуска приложения)."
   ]
  },
  {
   "attachments": {},
   "cell_type": "markdown",
   "metadata": {},
   "source": [
    "### Исследование результатов A/A/B-эксперимента\n",
    "\n",
    "<a id=\"ABexp\"></a>\n",
    "[Описание проекта](#introduction)"
   ]
  },
  {
   "cell_type": "markdown",
   "metadata": {},
   "source": [
    "#### Количество пользователей в каждой эксперементальный группе"
   ]
  },
  {
   "cell_type": "code",
   "execution_count": 175,
   "metadata": {},
   "outputs": [
    {
     "data": {
      "text/html": [
       "<div>\n",
       "<style scoped>\n",
       "    .dataframe tbody tr th:only-of-type {\n",
       "        vertical-align: middle;\n",
       "    }\n",
       "\n",
       "    .dataframe tbody tr th {\n",
       "        vertical-align: top;\n",
       "    }\n",
       "\n",
       "    .dataframe thead th {\n",
       "        text-align: right;\n",
       "    }\n",
       "</style>\n",
       "<table border=\"1\" class=\"dataframe\">\n",
       "  <thead>\n",
       "    <tr style=\"text-align: right;\">\n",
       "      <th></th>\n",
       "      <th>un_users</th>\n",
       "    </tr>\n",
       "    <tr>\n",
       "      <th>exp_id</th>\n",
       "      <th></th>\n",
       "    </tr>\n",
       "  </thead>\n",
       "  <tbody>\n",
       "    <tr>\n",
       "      <th>246</th>\n",
       "      <td>2484</td>\n",
       "    </tr>\n",
       "    <tr>\n",
       "      <th>247</th>\n",
       "      <td>2513</td>\n",
       "    </tr>\n",
       "    <tr>\n",
       "      <th>248</th>\n",
       "      <td>2537</td>\n",
       "    </tr>\n",
       "  </tbody>\n",
       "</table>\n",
       "</div>"
      ],
      "text/plain": [
       "        un_users\n",
       "exp_id          \n",
       "246         2484\n",
       "247         2513\n",
       "248         2537"
      ]
     },
     "execution_count": 175,
     "metadata": {},
     "output_type": "execute_result"
    }
   ],
   "source": [
    "cnt_all_us = data.groupby('exp_id').agg(\n",
    "        {'device_id_hash':'nunique'}).rename(columns={'device_id_hash': 'un_users'})\n",
    "cnt_all_us"
   ]
  },
  {
   "cell_type": "markdown",
   "metadata": {},
   "source": [
    "- Группа 246(A) - `2484` пользователей\n",
    "- Группа 247(A) - `2513` пользователей\n",
    "- Группа 248(B) - `2537` пользователей"
   ]
  },
  {
   "cell_type": "markdown",
   "metadata": {},
   "source": [
    "#### Проверка на пользователей, состощих в нескольких группах A/A/B - тестирования"
   ]
  },
  {
   "cell_type": "code",
   "execution_count": 176,
   "metadata": {},
   "outputs": [],
   "source": [
    "#Напишем цикл, который обнаружит пользователей, которые попали в две или более выборки A/A/B - тестирования\n",
    "povtor_us = data.pivot_table(index=['device_id_hash', 'exp_id'])\n",
    "userAB = []\n",
    "for _ in range(len(povtor_us)):\n",
    "    if povtor_us.index[_][0] == povtor_us.index[_ - 1][0]:\n",
    "        if povtor_us.index[_][1]!=povtor_us.index[_ - 1][1]:\n",
    "            userAB.append(povtor_us.index[_][0])"
   ]
  },
  {
   "cell_type": "code",
   "execution_count": 177,
   "metadata": {},
   "outputs": [
    {
     "data": {
      "text/plain": [
       "0"
      ]
     },
     "execution_count": 177,
     "metadata": {},
     "output_type": "execute_result"
    }
   ],
   "source": [
    "#Посчитаем этих пользователей\n",
    "pd.Series(userAB).count()"
   ]
  },
  {
   "cell_type": "markdown",
   "metadata": {},
   "source": [
    "Проверка выявила то, что каждый пользователь состоит в одной группе, можем сделать вывод о том, что на протяжении всего A/A/B - тестирования данные собирались корректно"
   ]
  },
  {
   "cell_type": "markdown",
   "metadata": {},
   "source": [
    "#### Разница между выборками 246 и 247"
   ]
  },
  {
   "cell_type": "code",
   "execution_count": 178,
   "metadata": {},
   "outputs": [],
   "source": [
    "#Сформируем таблицу, содержащую данные по уникальным пользователям\n",
    "#на каждое событие в 246 группе\n",
    "data_246 = data[\n",
    "    data['exp_id']==246].groupby('event_name').agg(\n",
    "        {'device_id_hash':'nunique'}).sort_values(\n",
    "            'device_id_hash', ascending=False).rename(\n",
    "                columns={'device_id_hash':'group_246'})"
   ]
  },
  {
   "cell_type": "code",
   "execution_count": 179,
   "metadata": {},
   "outputs": [
    {
     "data": {
      "text/html": [
       "<div>\n",
       "<style scoped>\n",
       "    .dataframe tbody tr th:only-of-type {\n",
       "        vertical-align: middle;\n",
       "    }\n",
       "\n",
       "    .dataframe tbody tr th {\n",
       "        vertical-align: top;\n",
       "    }\n",
       "\n",
       "    .dataframe thead th {\n",
       "        text-align: right;\n",
       "    }\n",
       "</style>\n",
       "<table border=\"1\" class=\"dataframe\">\n",
       "  <thead>\n",
       "    <tr style=\"text-align: right;\">\n",
       "      <th></th>\n",
       "      <th>group_246</th>\n",
       "    </tr>\n",
       "    <tr>\n",
       "      <th>event_name</th>\n",
       "      <th></th>\n",
       "    </tr>\n",
       "  </thead>\n",
       "  <tbody>\n",
       "    <tr>\n",
       "      <th>MainScreenAppear</th>\n",
       "      <td>2450</td>\n",
       "    </tr>\n",
       "    <tr>\n",
       "      <th>OffersScreenAppear</th>\n",
       "      <td>1542</td>\n",
       "    </tr>\n",
       "    <tr>\n",
       "      <th>CartScreenAppear</th>\n",
       "      <td>1266</td>\n",
       "    </tr>\n",
       "    <tr>\n",
       "      <th>PaymentScreenSuccessful</th>\n",
       "      <td>1200</td>\n",
       "    </tr>\n",
       "    <tr>\n",
       "      <th>Tutorial</th>\n",
       "      <td>278</td>\n",
       "    </tr>\n",
       "  </tbody>\n",
       "</table>\n",
       "</div>"
      ],
      "text/plain": [
       "                         group_246\n",
       "event_name                        \n",
       "MainScreenAppear              2450\n",
       "OffersScreenAppear            1542\n",
       "CartScreenAppear              1266\n",
       "PaymentScreenSuccessful       1200\n",
       "Tutorial                       278"
      ]
     },
     "execution_count": 179,
     "metadata": {},
     "output_type": "execute_result"
    }
   ],
   "source": [
    "#Выведем таблицу \n",
    "data_246"
   ]
  },
  {
   "cell_type": "code",
   "execution_count": 180,
   "metadata": {},
   "outputs": [],
   "source": [
    "#Сформируем таблицу, содержащую данные по уникальным пользователям\n",
    "#на каждое событие в 247 группе\n",
    "data_247 = data[\n",
    "    data['exp_id']==247].groupby('event_name').agg(\n",
    "        {'device_id_hash':'nunique'}).sort_values(\n",
    "            'device_id_hash', ascending=False).rename(\n",
    "                columns={'device_id_hash':'group_247'})"
   ]
  },
  {
   "cell_type": "code",
   "execution_count": 181,
   "metadata": {},
   "outputs": [
    {
     "data": {
      "text/html": [
       "<div>\n",
       "<style scoped>\n",
       "    .dataframe tbody tr th:only-of-type {\n",
       "        vertical-align: middle;\n",
       "    }\n",
       "\n",
       "    .dataframe tbody tr th {\n",
       "        vertical-align: top;\n",
       "    }\n",
       "\n",
       "    .dataframe thead th {\n",
       "        text-align: right;\n",
       "    }\n",
       "</style>\n",
       "<table border=\"1\" class=\"dataframe\">\n",
       "  <thead>\n",
       "    <tr style=\"text-align: right;\">\n",
       "      <th></th>\n",
       "      <th>group_247</th>\n",
       "    </tr>\n",
       "    <tr>\n",
       "      <th>event_name</th>\n",
       "      <th></th>\n",
       "    </tr>\n",
       "  </thead>\n",
       "  <tbody>\n",
       "    <tr>\n",
       "      <th>MainScreenAppear</th>\n",
       "      <td>2476</td>\n",
       "    </tr>\n",
       "    <tr>\n",
       "      <th>OffersScreenAppear</th>\n",
       "      <td>1520</td>\n",
       "    </tr>\n",
       "    <tr>\n",
       "      <th>CartScreenAppear</th>\n",
       "      <td>1238</td>\n",
       "    </tr>\n",
       "    <tr>\n",
       "      <th>PaymentScreenSuccessful</th>\n",
       "      <td>1158</td>\n",
       "    </tr>\n",
       "    <tr>\n",
       "      <th>Tutorial</th>\n",
       "      <td>283</td>\n",
       "    </tr>\n",
       "  </tbody>\n",
       "</table>\n",
       "</div>"
      ],
      "text/plain": [
       "                         group_247\n",
       "event_name                        \n",
       "MainScreenAppear              2476\n",
       "OffersScreenAppear            1520\n",
       "CartScreenAppear              1238\n",
       "PaymentScreenSuccessful       1158\n",
       "Tutorial                       283"
      ]
     },
     "execution_count": 181,
     "metadata": {},
     "output_type": "execute_result"
    }
   ],
   "source": [
    "#Выведем таблицу\n",
    "data_247"
   ]
  },
  {
   "cell_type": "markdown",
   "metadata": {},
   "source": [
    "Сформулируем наши гипотезы о равенстве долей и проверим их, предположим в нулевой гипотезе, что наши выборки одинаковые и пропорции покупок в приложении равны, а в альтернативной не равны.\n",
    "\n",
    "- Н0: Доля покупок в группе 246 == Доля покупок в группе 247\n",
    "- Н1: Доля покупок в группе 246 != Доля покупок в группе 247"
   ]
  },
  {
   "cell_type": "code",
   "execution_count": 182,
   "metadata": {},
   "outputs": [],
   "source": [
    "alpha = 0.05  # критический уровень статистической значимости"
   ]
  },
  {
   "cell_type": "code",
   "execution_count": 183,
   "metadata": {},
   "outputs": [],
   "source": [
    "#Платежи в группе 246 и 247\n",
    "payments = np.array([data_246['group_246'][3], data_247['group_247'][3]])\n",
    "\n",
    "#Всего открытий главного приложения для группы 246 и 247\n",
    "leads = np.array([data_246['group_246'][0], data_247['group_247'][0]])"
   ]
  },
  {
   "cell_type": "code",
   "execution_count": 184,
   "metadata": {},
   "outputs": [],
   "source": [
    "# Пропорция успехов в первой группе:\n",
    "p1 = payments[0]/leads[0]\n",
    "\n",
    "# Пропорция успехов во второй группе:\n",
    "p2 = payments[1]/leads[1]"
   ]
  },
  {
   "cell_type": "code",
   "execution_count": 185,
   "metadata": {},
   "outputs": [],
   "source": [
    "# Пропорция успехов в комбинированном датасете:\n",
    "p_combined = (payments[0] + payments[1]) / (leads[0] + leads[1])"
   ]
  },
  {
   "cell_type": "code",
   "execution_count": 186,
   "metadata": {},
   "outputs": [],
   "source": [
    "# Разница пропорций в датасетах\n",
    "difference = p1 - p2 \n",
    "z_value = difference / mth.sqrt(p_combined * (1 - p_combined) * (1/leads[0] + 1/leads[1]))\n",
    "distr = st.norm(0, 1)"
   ]
  },
  {
   "cell_type": "code",
   "execution_count": 187,
   "metadata": {},
   "outputs": [],
   "source": [
    "# Расчитаем p-value\n",
    "p_value = (1 - distr.cdf(abs(z_value))) * 2"
   ]
  },
  {
   "cell_type": "code",
   "execution_count": 188,
   "metadata": {},
   "outputs": [
    {
     "name": "stdout",
     "output_type": "stream",
     "text": [
      "p-значение: 0.120 \n",
      "Не получилось отвергнуть нулевую гипотезу, нет оснований считать доли разными\n"
     ]
    }
   ],
   "source": [
    "print('p-значение: {0:.03f} '.format(p_value))\n",
    "\n",
    "if p_value < alpha:\n",
    "    print('Отвергаем нулевую гипотезу: между долями есть значимая разница')\n",
    "else:\n",
    "    print(\n",
    "        'Не получилось отвергнуть нулевую гипотезу, нет оснований считать доли разными'\n",
    "    )"
   ]
  },
  {
   "cell_type": "markdown",
   "metadata": {},
   "source": [
    "p-значение = `~12%`, это значительно больше нашего критического уровня статистической значимости, следовательно, мы не может отвергать нашу нулевую гипотезу, делаем вывод о том, что доли покупок в контрольных группах равны."
   ]
  },
  {
   "cell_type": "code",
   "execution_count": 189,
   "metadata": {},
   "outputs": [],
   "source": [
    "#Сформируем таблицу, содержащую данные по уникальным пользователям\n",
    "#на каждое событие в 248 группе\n",
    "data_248 = data[\n",
    "    data['exp_id']==248].groupby('event_name').agg(\n",
    "        {'device_id_hash':'nunique'}).sort_values(\n",
    "            'device_id_hash', ascending=False).rename(\n",
    "                columns={'device_id_hash':'group_248'})"
   ]
  },
  {
   "cell_type": "code",
   "execution_count": 190,
   "metadata": {},
   "outputs": [
    {
     "data": {
      "text/html": [
       "<div>\n",
       "<style scoped>\n",
       "    .dataframe tbody tr th:only-of-type {\n",
       "        vertical-align: middle;\n",
       "    }\n",
       "\n",
       "    .dataframe tbody tr th {\n",
       "        vertical-align: top;\n",
       "    }\n",
       "\n",
       "    .dataframe thead th {\n",
       "        text-align: right;\n",
       "    }\n",
       "</style>\n",
       "<table border=\"1\" class=\"dataframe\">\n",
       "  <thead>\n",
       "    <tr style=\"text-align: right;\">\n",
       "      <th></th>\n",
       "      <th>group_248</th>\n",
       "    </tr>\n",
       "    <tr>\n",
       "      <th>event_name</th>\n",
       "      <th></th>\n",
       "    </tr>\n",
       "  </thead>\n",
       "  <tbody>\n",
       "    <tr>\n",
       "      <th>MainScreenAppear</th>\n",
       "      <td>2493</td>\n",
       "    </tr>\n",
       "    <tr>\n",
       "      <th>OffersScreenAppear</th>\n",
       "      <td>1531</td>\n",
       "    </tr>\n",
       "    <tr>\n",
       "      <th>CartScreenAppear</th>\n",
       "      <td>1230</td>\n",
       "    </tr>\n",
       "    <tr>\n",
       "      <th>PaymentScreenSuccessful</th>\n",
       "      <td>1181</td>\n",
       "    </tr>\n",
       "    <tr>\n",
       "      <th>Tutorial</th>\n",
       "      <td>279</td>\n",
       "    </tr>\n",
       "  </tbody>\n",
       "</table>\n",
       "</div>"
      ],
      "text/plain": [
       "                         group_248\n",
       "event_name                        \n",
       "MainScreenAppear              2493\n",
       "OffersScreenAppear            1531\n",
       "CartScreenAppear              1230\n",
       "PaymentScreenSuccessful       1181\n",
       "Tutorial                       279"
      ]
     },
     "execution_count": 190,
     "metadata": {},
     "output_type": "execute_result"
    }
   ],
   "source": [
    "#Выведем таблицу\n",
    "data_248"
   ]
  },
  {
   "cell_type": "code",
   "execution_count": 191,
   "metadata": {},
   "outputs": [],
   "source": [
    "#Сформируем таблицу, содержащую данные по объединенной контрольной группе\n",
    "data_246_247 = data[(data['exp_id']==246) | (data['exp_id']==247)].groupby('event_name').agg(\n",
    "        {'device_id_hash':'nunique'}).sort_values(\n",
    "            'device_id_hash', ascending=False).rename(\n",
    "                columns={'device_id_hash':'group_246_247'})"
   ]
  },
  {
   "cell_type": "code",
   "execution_count": 192,
   "metadata": {},
   "outputs": [
    {
     "data": {
      "text/html": [
       "<div>\n",
       "<style scoped>\n",
       "    .dataframe tbody tr th:only-of-type {\n",
       "        vertical-align: middle;\n",
       "    }\n",
       "\n",
       "    .dataframe tbody tr th {\n",
       "        vertical-align: top;\n",
       "    }\n",
       "\n",
       "    .dataframe thead th {\n",
       "        text-align: right;\n",
       "    }\n",
       "</style>\n",
       "<table border=\"1\" class=\"dataframe\">\n",
       "  <thead>\n",
       "    <tr style=\"text-align: right;\">\n",
       "      <th></th>\n",
       "      <th>group_246_247</th>\n",
       "    </tr>\n",
       "    <tr>\n",
       "      <th>event_name</th>\n",
       "      <th></th>\n",
       "    </tr>\n",
       "  </thead>\n",
       "  <tbody>\n",
       "    <tr>\n",
       "      <th>MainScreenAppear</th>\n",
       "      <td>4926</td>\n",
       "    </tr>\n",
       "    <tr>\n",
       "      <th>OffersScreenAppear</th>\n",
       "      <td>3062</td>\n",
       "    </tr>\n",
       "    <tr>\n",
       "      <th>CartScreenAppear</th>\n",
       "      <td>2504</td>\n",
       "    </tr>\n",
       "    <tr>\n",
       "      <th>PaymentScreenSuccessful</th>\n",
       "      <td>2358</td>\n",
       "    </tr>\n",
       "    <tr>\n",
       "      <th>Tutorial</th>\n",
       "      <td>561</td>\n",
       "    </tr>\n",
       "  </tbody>\n",
       "</table>\n",
       "</div>"
      ],
      "text/plain": [
       "                         group_246_247\n",
       "event_name                            \n",
       "MainScreenAppear                  4926\n",
       "OffersScreenAppear                3062\n",
       "CartScreenAppear                  2504\n",
       "PaymentScreenSuccessful           2358\n",
       "Tutorial                           561"
      ]
     },
     "execution_count": 192,
     "metadata": {},
     "output_type": "execute_result"
    }
   ],
   "source": [
    "#Выведем таблицу\n",
    "data_246_247"
   ]
  },
  {
   "cell_type": "code",
   "execution_count": 193,
   "metadata": {},
   "outputs": [],
   "source": [
    "#Объединим все выборки в один датасет для удобства работы\n",
    "#Также удалим Строку Tutorial, т.к. это событие не является частью основного клиентского пути\n",
    "\n",
    "all_groups = (\n",
    "    data_246\n",
    "    .merge(\n",
    "        data_247,\n",
    "        how='inner',\n",
    "        left_index=True,\n",
    "        right_index=True)\n",
    "    .merge(\n",
    "        data_248,\n",
    "        how='inner',\n",
    "        left_index=True,\n",
    "        right_index=True)\n",
    "    .merge(\n",
    "        data_246_247,\n",
    "        how='inner',\n",
    "        left_index=True,\n",
    "        right_index=True)\n",
    "\n",
    "    ).drop(index='Tutorial')"
   ]
  },
  {
   "cell_type": "code",
   "execution_count": 194,
   "metadata": {
    "scrolled": true
   },
   "outputs": [
    {
     "data": {
      "text/html": [
       "<div>\n",
       "<style scoped>\n",
       "    .dataframe tbody tr th:only-of-type {\n",
       "        vertical-align: middle;\n",
       "    }\n",
       "\n",
       "    .dataframe tbody tr th {\n",
       "        vertical-align: top;\n",
       "    }\n",
       "\n",
       "    .dataframe thead th {\n",
       "        text-align: right;\n",
       "    }\n",
       "</style>\n",
       "<table border=\"1\" class=\"dataframe\">\n",
       "  <thead>\n",
       "    <tr style=\"text-align: right;\">\n",
       "      <th></th>\n",
       "      <th>group_246</th>\n",
       "      <th>group_247</th>\n",
       "      <th>group_248</th>\n",
       "      <th>group_246_247</th>\n",
       "    </tr>\n",
       "    <tr>\n",
       "      <th>event_name</th>\n",
       "      <th></th>\n",
       "      <th></th>\n",
       "      <th></th>\n",
       "      <th></th>\n",
       "    </tr>\n",
       "  </thead>\n",
       "  <tbody>\n",
       "    <tr>\n",
       "      <th>MainScreenAppear</th>\n",
       "      <td>2450</td>\n",
       "      <td>2476</td>\n",
       "      <td>2493</td>\n",
       "      <td>4926</td>\n",
       "    </tr>\n",
       "    <tr>\n",
       "      <th>OffersScreenAppear</th>\n",
       "      <td>1542</td>\n",
       "      <td>1520</td>\n",
       "      <td>1531</td>\n",
       "      <td>3062</td>\n",
       "    </tr>\n",
       "    <tr>\n",
       "      <th>CartScreenAppear</th>\n",
       "      <td>1266</td>\n",
       "      <td>1238</td>\n",
       "      <td>1230</td>\n",
       "      <td>2504</td>\n",
       "    </tr>\n",
       "    <tr>\n",
       "      <th>PaymentScreenSuccessful</th>\n",
       "      <td>1200</td>\n",
       "      <td>1158</td>\n",
       "      <td>1181</td>\n",
       "      <td>2358</td>\n",
       "    </tr>\n",
       "  </tbody>\n",
       "</table>\n",
       "</div>"
      ],
      "text/plain": [
       "                         group_246  group_247  group_248  group_246_247\n",
       "event_name                                                             \n",
       "MainScreenAppear              2450       2476       2493           4926\n",
       "OffersScreenAppear            1542       1520       1531           3062\n",
       "CartScreenAppear              1266       1238       1230           2504\n",
       "PaymentScreenSuccessful       1200       1158       1181           2358"
      ]
     },
     "execution_count": 194,
     "metadata": {},
     "output_type": "execute_result"
    }
   ],
   "source": [
    "# Число пользователей, совершивших это событие в каждом из событий\n",
    "all_groups"
   ]
  },
  {
   "cell_type": "code",
   "execution_count": 195,
   "metadata": {},
   "outputs": [
    {
     "data": {
      "application/vnd.plotly.v1+json": {
       "config": {
        "linkText": "Export to plot.ly",
        "plotlyServerURL": "https://plot.ly",
        "showLink": false
       },
       "data": [
        {
         "hovertemplate": "variable=group_246<br>value=%{x}<br>event_name=%{y}<extra></extra>",
         "legendgroup": "group_246",
         "marker": {
          "color": "#636efa"
         },
         "name": "group_246",
         "orientation": "h",
         "showlegend": true,
         "type": "funnel",
         "x": [
          2450,
          1542,
          1266,
          1200
         ],
         "xaxis": "x",
         "y": [
          "MainScreenAppear",
          "OffersScreenAppear",
          "CartScreenAppear",
          "PaymentScreenSuccessful"
         ],
         "yaxis": "y"
        },
        {
         "hovertemplate": "variable=group_247<br>value=%{x}<br>event_name=%{y}<extra></extra>",
         "legendgroup": "group_247",
         "marker": {
          "color": "#EF553B"
         },
         "name": "group_247",
         "orientation": "h",
         "showlegend": true,
         "type": "funnel",
         "x": [
          2476,
          1520,
          1238,
          1158
         ],
         "xaxis": "x",
         "y": [
          "MainScreenAppear",
          "OffersScreenAppear",
          "CartScreenAppear",
          "PaymentScreenSuccessful"
         ],
         "yaxis": "y"
        },
        {
         "hovertemplate": "variable=group_248<br>value=%{x}<br>event_name=%{y}<extra></extra>",
         "legendgroup": "group_248",
         "marker": {
          "color": "#00cc96"
         },
         "name": "group_248",
         "orientation": "h",
         "showlegend": true,
         "type": "funnel",
         "x": [
          2493,
          1531,
          1230,
          1181
         ],
         "xaxis": "x",
         "y": [
          "MainScreenAppear",
          "OffersScreenAppear",
          "CartScreenAppear",
          "PaymentScreenSuccessful"
         ],
         "yaxis": "y"
        }
       ],
       "layout": {
        "legend": {
         "title": {
          "text": "variable"
         },
         "tracegroupgap": 0
        },
        "margin": {
         "t": 60
        },
        "template": {
         "data": {
          "bar": [
           {
            "error_x": {
             "color": "#2a3f5f"
            },
            "error_y": {
             "color": "#2a3f5f"
            },
            "marker": {
             "line": {
              "color": "#E5ECF6",
              "width": 0.5
             },
             "pattern": {
              "fillmode": "overlay",
              "size": 10,
              "solidity": 0.2
             }
            },
            "type": "bar"
           }
          ],
          "barpolar": [
           {
            "marker": {
             "line": {
              "color": "#E5ECF6",
              "width": 0.5
             },
             "pattern": {
              "fillmode": "overlay",
              "size": 10,
              "solidity": 0.2
             }
            },
            "type": "barpolar"
           }
          ],
          "carpet": [
           {
            "aaxis": {
             "endlinecolor": "#2a3f5f",
             "gridcolor": "white",
             "linecolor": "white",
             "minorgridcolor": "white",
             "startlinecolor": "#2a3f5f"
            },
            "baxis": {
             "endlinecolor": "#2a3f5f",
             "gridcolor": "white",
             "linecolor": "white",
             "minorgridcolor": "white",
             "startlinecolor": "#2a3f5f"
            },
            "type": "carpet"
           }
          ],
          "choropleth": [
           {
            "colorbar": {
             "outlinewidth": 0,
             "ticks": ""
            },
            "type": "choropleth"
           }
          ],
          "contour": [
           {
            "colorbar": {
             "outlinewidth": 0,
             "ticks": ""
            },
            "colorscale": [
             [
              0,
              "#0d0887"
             ],
             [
              0.1111111111111111,
              "#46039f"
             ],
             [
              0.2222222222222222,
              "#7201a8"
             ],
             [
              0.3333333333333333,
              "#9c179e"
             ],
             [
              0.4444444444444444,
              "#bd3786"
             ],
             [
              0.5555555555555556,
              "#d8576b"
             ],
             [
              0.6666666666666666,
              "#ed7953"
             ],
             [
              0.7777777777777778,
              "#fb9f3a"
             ],
             [
              0.8888888888888888,
              "#fdca26"
             ],
             [
              1,
              "#f0f921"
             ]
            ],
            "type": "contour"
           }
          ],
          "contourcarpet": [
           {
            "colorbar": {
             "outlinewidth": 0,
             "ticks": ""
            },
            "type": "contourcarpet"
           }
          ],
          "heatmap": [
           {
            "colorbar": {
             "outlinewidth": 0,
             "ticks": ""
            },
            "colorscale": [
             [
              0,
              "#0d0887"
             ],
             [
              0.1111111111111111,
              "#46039f"
             ],
             [
              0.2222222222222222,
              "#7201a8"
             ],
             [
              0.3333333333333333,
              "#9c179e"
             ],
             [
              0.4444444444444444,
              "#bd3786"
             ],
             [
              0.5555555555555556,
              "#d8576b"
             ],
             [
              0.6666666666666666,
              "#ed7953"
             ],
             [
              0.7777777777777778,
              "#fb9f3a"
             ],
             [
              0.8888888888888888,
              "#fdca26"
             ],
             [
              1,
              "#f0f921"
             ]
            ],
            "type": "heatmap"
           }
          ],
          "heatmapgl": [
           {
            "colorbar": {
             "outlinewidth": 0,
             "ticks": ""
            },
            "colorscale": [
             [
              0,
              "#0d0887"
             ],
             [
              0.1111111111111111,
              "#46039f"
             ],
             [
              0.2222222222222222,
              "#7201a8"
             ],
             [
              0.3333333333333333,
              "#9c179e"
             ],
             [
              0.4444444444444444,
              "#bd3786"
             ],
             [
              0.5555555555555556,
              "#d8576b"
             ],
             [
              0.6666666666666666,
              "#ed7953"
             ],
             [
              0.7777777777777778,
              "#fb9f3a"
             ],
             [
              0.8888888888888888,
              "#fdca26"
             ],
             [
              1,
              "#f0f921"
             ]
            ],
            "type": "heatmapgl"
           }
          ],
          "histogram": [
           {
            "marker": {
             "pattern": {
              "fillmode": "overlay",
              "size": 10,
              "solidity": 0.2
             }
            },
            "type": "histogram"
           }
          ],
          "histogram2d": [
           {
            "colorbar": {
             "outlinewidth": 0,
             "ticks": ""
            },
            "colorscale": [
             [
              0,
              "#0d0887"
             ],
             [
              0.1111111111111111,
              "#46039f"
             ],
             [
              0.2222222222222222,
              "#7201a8"
             ],
             [
              0.3333333333333333,
              "#9c179e"
             ],
             [
              0.4444444444444444,
              "#bd3786"
             ],
             [
              0.5555555555555556,
              "#d8576b"
             ],
             [
              0.6666666666666666,
              "#ed7953"
             ],
             [
              0.7777777777777778,
              "#fb9f3a"
             ],
             [
              0.8888888888888888,
              "#fdca26"
             ],
             [
              1,
              "#f0f921"
             ]
            ],
            "type": "histogram2d"
           }
          ],
          "histogram2dcontour": [
           {
            "colorbar": {
             "outlinewidth": 0,
             "ticks": ""
            },
            "colorscale": [
             [
              0,
              "#0d0887"
             ],
             [
              0.1111111111111111,
              "#46039f"
             ],
             [
              0.2222222222222222,
              "#7201a8"
             ],
             [
              0.3333333333333333,
              "#9c179e"
             ],
             [
              0.4444444444444444,
              "#bd3786"
             ],
             [
              0.5555555555555556,
              "#d8576b"
             ],
             [
              0.6666666666666666,
              "#ed7953"
             ],
             [
              0.7777777777777778,
              "#fb9f3a"
             ],
             [
              0.8888888888888888,
              "#fdca26"
             ],
             [
              1,
              "#f0f921"
             ]
            ],
            "type": "histogram2dcontour"
           }
          ],
          "mesh3d": [
           {
            "colorbar": {
             "outlinewidth": 0,
             "ticks": ""
            },
            "type": "mesh3d"
           }
          ],
          "parcoords": [
           {
            "line": {
             "colorbar": {
              "outlinewidth": 0,
              "ticks": ""
             }
            },
            "type": "parcoords"
           }
          ],
          "pie": [
           {
            "automargin": true,
            "type": "pie"
           }
          ],
          "scatter": [
           {
            "fillpattern": {
             "fillmode": "overlay",
             "size": 10,
             "solidity": 0.2
            },
            "type": "scatter"
           }
          ],
          "scatter3d": [
           {
            "line": {
             "colorbar": {
              "outlinewidth": 0,
              "ticks": ""
             }
            },
            "marker": {
             "colorbar": {
              "outlinewidth": 0,
              "ticks": ""
             }
            },
            "type": "scatter3d"
           }
          ],
          "scattercarpet": [
           {
            "marker": {
             "colorbar": {
              "outlinewidth": 0,
              "ticks": ""
             }
            },
            "type": "scattercarpet"
           }
          ],
          "scattergeo": [
           {
            "marker": {
             "colorbar": {
              "outlinewidth": 0,
              "ticks": ""
             }
            },
            "type": "scattergeo"
           }
          ],
          "scattergl": [
           {
            "marker": {
             "colorbar": {
              "outlinewidth": 0,
              "ticks": ""
             }
            },
            "type": "scattergl"
           }
          ],
          "scattermapbox": [
           {
            "marker": {
             "colorbar": {
              "outlinewidth": 0,
              "ticks": ""
             }
            },
            "type": "scattermapbox"
           }
          ],
          "scatterpolar": [
           {
            "marker": {
             "colorbar": {
              "outlinewidth": 0,
              "ticks": ""
             }
            },
            "type": "scatterpolar"
           }
          ],
          "scatterpolargl": [
           {
            "marker": {
             "colorbar": {
              "outlinewidth": 0,
              "ticks": ""
             }
            },
            "type": "scatterpolargl"
           }
          ],
          "scatterternary": [
           {
            "marker": {
             "colorbar": {
              "outlinewidth": 0,
              "ticks": ""
             }
            },
            "type": "scatterternary"
           }
          ],
          "surface": [
           {
            "colorbar": {
             "outlinewidth": 0,
             "ticks": ""
            },
            "colorscale": [
             [
              0,
              "#0d0887"
             ],
             [
              0.1111111111111111,
              "#46039f"
             ],
             [
              0.2222222222222222,
              "#7201a8"
             ],
             [
              0.3333333333333333,
              "#9c179e"
             ],
             [
              0.4444444444444444,
              "#bd3786"
             ],
             [
              0.5555555555555556,
              "#d8576b"
             ],
             [
              0.6666666666666666,
              "#ed7953"
             ],
             [
              0.7777777777777778,
              "#fb9f3a"
             ],
             [
              0.8888888888888888,
              "#fdca26"
             ],
             [
              1,
              "#f0f921"
             ]
            ],
            "type": "surface"
           }
          ],
          "table": [
           {
            "cells": {
             "fill": {
              "color": "#EBF0F8"
             },
             "line": {
              "color": "white"
             }
            },
            "header": {
             "fill": {
              "color": "#C8D4E3"
             },
             "line": {
              "color": "white"
             }
            },
            "type": "table"
           }
          ]
         },
         "layout": {
          "annotationdefaults": {
           "arrowcolor": "#2a3f5f",
           "arrowhead": 0,
           "arrowwidth": 1
          },
          "autotypenumbers": "strict",
          "coloraxis": {
           "colorbar": {
            "outlinewidth": 0,
            "ticks": ""
           }
          },
          "colorscale": {
           "diverging": [
            [
             0,
             "#8e0152"
            ],
            [
             0.1,
             "#c51b7d"
            ],
            [
             0.2,
             "#de77ae"
            ],
            [
             0.3,
             "#f1b6da"
            ],
            [
             0.4,
             "#fde0ef"
            ],
            [
             0.5,
             "#f7f7f7"
            ],
            [
             0.6,
             "#e6f5d0"
            ],
            [
             0.7,
             "#b8e186"
            ],
            [
             0.8,
             "#7fbc41"
            ],
            [
             0.9,
             "#4d9221"
            ],
            [
             1,
             "#276419"
            ]
           ],
           "sequential": [
            [
             0,
             "#0d0887"
            ],
            [
             0.1111111111111111,
             "#46039f"
            ],
            [
             0.2222222222222222,
             "#7201a8"
            ],
            [
             0.3333333333333333,
             "#9c179e"
            ],
            [
             0.4444444444444444,
             "#bd3786"
            ],
            [
             0.5555555555555556,
             "#d8576b"
            ],
            [
             0.6666666666666666,
             "#ed7953"
            ],
            [
             0.7777777777777778,
             "#fb9f3a"
            ],
            [
             0.8888888888888888,
             "#fdca26"
            ],
            [
             1,
             "#f0f921"
            ]
           ],
           "sequentialminus": [
            [
             0,
             "#0d0887"
            ],
            [
             0.1111111111111111,
             "#46039f"
            ],
            [
             0.2222222222222222,
             "#7201a8"
            ],
            [
             0.3333333333333333,
             "#9c179e"
            ],
            [
             0.4444444444444444,
             "#bd3786"
            ],
            [
             0.5555555555555556,
             "#d8576b"
            ],
            [
             0.6666666666666666,
             "#ed7953"
            ],
            [
             0.7777777777777778,
             "#fb9f3a"
            ],
            [
             0.8888888888888888,
             "#fdca26"
            ],
            [
             1,
             "#f0f921"
            ]
           ]
          },
          "colorway": [
           "#636efa",
           "#EF553B",
           "#00cc96",
           "#ab63fa",
           "#FFA15A",
           "#19d3f3",
           "#FF6692",
           "#B6E880",
           "#FF97FF",
           "#FECB52"
          ],
          "font": {
           "color": "#2a3f5f"
          },
          "geo": {
           "bgcolor": "white",
           "lakecolor": "white",
           "landcolor": "#E5ECF6",
           "showlakes": true,
           "showland": true,
           "subunitcolor": "white"
          },
          "hoverlabel": {
           "align": "left"
          },
          "hovermode": "closest",
          "mapbox": {
           "style": "light"
          },
          "paper_bgcolor": "white",
          "plot_bgcolor": "#E5ECF6",
          "polar": {
           "angularaxis": {
            "gridcolor": "white",
            "linecolor": "white",
            "ticks": ""
           },
           "bgcolor": "#E5ECF6",
           "radialaxis": {
            "gridcolor": "white",
            "linecolor": "white",
            "ticks": ""
           }
          },
          "scene": {
           "xaxis": {
            "backgroundcolor": "#E5ECF6",
            "gridcolor": "white",
            "gridwidth": 2,
            "linecolor": "white",
            "showbackground": true,
            "ticks": "",
            "zerolinecolor": "white"
           },
           "yaxis": {
            "backgroundcolor": "#E5ECF6",
            "gridcolor": "white",
            "gridwidth": 2,
            "linecolor": "white",
            "showbackground": true,
            "ticks": "",
            "zerolinecolor": "white"
           },
           "zaxis": {
            "backgroundcolor": "#E5ECF6",
            "gridcolor": "white",
            "gridwidth": 2,
            "linecolor": "white",
            "showbackground": true,
            "ticks": "",
            "zerolinecolor": "white"
           }
          },
          "shapedefaults": {
           "line": {
            "color": "#2a3f5f"
           }
          },
          "ternary": {
           "aaxis": {
            "gridcolor": "white",
            "linecolor": "white",
            "ticks": ""
           },
           "baxis": {
            "gridcolor": "white",
            "linecolor": "white",
            "ticks": ""
           },
           "bgcolor": "#E5ECF6",
           "caxis": {
            "gridcolor": "white",
            "linecolor": "white",
            "ticks": ""
           }
          },
          "title": {
           "x": 0.05
          },
          "xaxis": {
           "automargin": true,
           "gridcolor": "white",
           "linecolor": "white",
           "ticks": "",
           "title": {
            "standoff": 15
           },
           "zerolinecolor": "white",
           "zerolinewidth": 2
          },
          "yaxis": {
           "automargin": true,
           "gridcolor": "white",
           "linecolor": "white",
           "ticks": "",
           "title": {
            "standoff": 15
           },
           "zerolinecolor": "white",
           "zerolinewidth": 2
          }
         }
        },
        "title": {
         "text": "Конверсия пользователей в приложении на каждом этапе"
        },
        "xaxis": {
         "anchor": "y",
         "domain": [
          0,
          1
         ],
         "title": {
          "text": "value"
         }
        },
        "yaxis": {
         "anchor": "x",
         "domain": [
          0,
          1
         ],
         "title": {
          "text": "Название события"
         }
        }
       }
      },
      "text/html": [
       "<div>                            <div id=\"b6be3aec-3a21-4db5-b498-36d6080a70a1\" class=\"plotly-graph-div\" style=\"height:525px; width:100%;\"></div>            <script type=\"text/javascript\">                require([\"plotly\"], function(Plotly) {                    window.PLOTLYENV=window.PLOTLYENV || {};                                    if (document.getElementById(\"b6be3aec-3a21-4db5-b498-36d6080a70a1\")) {                    Plotly.newPlot(                        \"b6be3aec-3a21-4db5-b498-36d6080a70a1\",                        [{\"hovertemplate\":\"variable=group_246<br>value=%{x}<br>event_name=%{y}<extra></extra>\",\"legendgroup\":\"group_246\",\"marker\":{\"color\":\"#636efa\"},\"name\":\"group_246\",\"orientation\":\"h\",\"showlegend\":true,\"x\":[2450,1542,1266,1200],\"xaxis\":\"x\",\"y\":[\"MainScreenAppear\",\"OffersScreenAppear\",\"CartScreenAppear\",\"PaymentScreenSuccessful\"],\"yaxis\":\"y\",\"type\":\"funnel\"},{\"hovertemplate\":\"variable=group_247<br>value=%{x}<br>event_name=%{y}<extra></extra>\",\"legendgroup\":\"group_247\",\"marker\":{\"color\":\"#EF553B\"},\"name\":\"group_247\",\"orientation\":\"h\",\"showlegend\":true,\"x\":[2476,1520,1238,1158],\"xaxis\":\"x\",\"y\":[\"MainScreenAppear\",\"OffersScreenAppear\",\"CartScreenAppear\",\"PaymentScreenSuccessful\"],\"yaxis\":\"y\",\"type\":\"funnel\"},{\"hovertemplate\":\"variable=group_248<br>value=%{x}<br>event_name=%{y}<extra></extra>\",\"legendgroup\":\"group_248\",\"marker\":{\"color\":\"#00cc96\"},\"name\":\"group_248\",\"orientation\":\"h\",\"showlegend\":true,\"x\":[2493,1531,1230,1181],\"xaxis\":\"x\",\"y\":[\"MainScreenAppear\",\"OffersScreenAppear\",\"CartScreenAppear\",\"PaymentScreenSuccessful\"],\"yaxis\":\"y\",\"type\":\"funnel\"}],                        {\"legend\":{\"title\":{\"text\":\"variable\"},\"tracegroupgap\":0},\"margin\":{\"t\":60},\"template\":{\"data\":{\"barpolar\":[{\"marker\":{\"line\":{\"color\":\"#E5ECF6\",\"width\":0.5},\"pattern\":{\"fillmode\":\"overlay\",\"size\":10,\"solidity\":0.2}},\"type\":\"barpolar\"}],\"bar\":[{\"error_x\":{\"color\":\"#2a3f5f\"},\"error_y\":{\"color\":\"#2a3f5f\"},\"marker\":{\"line\":{\"color\":\"#E5ECF6\",\"width\":0.5},\"pattern\":{\"fillmode\":\"overlay\",\"size\":10,\"solidity\":0.2}},\"type\":\"bar\"}],\"carpet\":[{\"aaxis\":{\"endlinecolor\":\"#2a3f5f\",\"gridcolor\":\"white\",\"linecolor\":\"white\",\"minorgridcolor\":\"white\",\"startlinecolor\":\"#2a3f5f\"},\"baxis\":{\"endlinecolor\":\"#2a3f5f\",\"gridcolor\":\"white\",\"linecolor\":\"white\",\"minorgridcolor\":\"white\",\"startlinecolor\":\"#2a3f5f\"},\"type\":\"carpet\"}],\"choropleth\":[{\"colorbar\":{\"outlinewidth\":0,\"ticks\":\"\"},\"type\":\"choropleth\"}],\"contourcarpet\":[{\"colorbar\":{\"outlinewidth\":0,\"ticks\":\"\"},\"type\":\"contourcarpet\"}],\"contour\":[{\"colorbar\":{\"outlinewidth\":0,\"ticks\":\"\"},\"colorscale\":[[0.0,\"#0d0887\"],[0.1111111111111111,\"#46039f\"],[0.2222222222222222,\"#7201a8\"],[0.3333333333333333,\"#9c179e\"],[0.4444444444444444,\"#bd3786\"],[0.5555555555555556,\"#d8576b\"],[0.6666666666666666,\"#ed7953\"],[0.7777777777777778,\"#fb9f3a\"],[0.8888888888888888,\"#fdca26\"],[1.0,\"#f0f921\"]],\"type\":\"contour\"}],\"heatmapgl\":[{\"colorbar\":{\"outlinewidth\":0,\"ticks\":\"\"},\"colorscale\":[[0.0,\"#0d0887\"],[0.1111111111111111,\"#46039f\"],[0.2222222222222222,\"#7201a8\"],[0.3333333333333333,\"#9c179e\"],[0.4444444444444444,\"#bd3786\"],[0.5555555555555556,\"#d8576b\"],[0.6666666666666666,\"#ed7953\"],[0.7777777777777778,\"#fb9f3a\"],[0.8888888888888888,\"#fdca26\"],[1.0,\"#f0f921\"]],\"type\":\"heatmapgl\"}],\"heatmap\":[{\"colorbar\":{\"outlinewidth\":0,\"ticks\":\"\"},\"colorscale\":[[0.0,\"#0d0887\"],[0.1111111111111111,\"#46039f\"],[0.2222222222222222,\"#7201a8\"],[0.3333333333333333,\"#9c179e\"],[0.4444444444444444,\"#bd3786\"],[0.5555555555555556,\"#d8576b\"],[0.6666666666666666,\"#ed7953\"],[0.7777777777777778,\"#fb9f3a\"],[0.8888888888888888,\"#fdca26\"],[1.0,\"#f0f921\"]],\"type\":\"heatmap\"}],\"histogram2dcontour\":[{\"colorbar\":{\"outlinewidth\":0,\"ticks\":\"\"},\"colorscale\":[[0.0,\"#0d0887\"],[0.1111111111111111,\"#46039f\"],[0.2222222222222222,\"#7201a8\"],[0.3333333333333333,\"#9c179e\"],[0.4444444444444444,\"#bd3786\"],[0.5555555555555556,\"#d8576b\"],[0.6666666666666666,\"#ed7953\"],[0.7777777777777778,\"#fb9f3a\"],[0.8888888888888888,\"#fdca26\"],[1.0,\"#f0f921\"]],\"type\":\"histogram2dcontour\"}],\"histogram2d\":[{\"colorbar\":{\"outlinewidth\":0,\"ticks\":\"\"},\"colorscale\":[[0.0,\"#0d0887\"],[0.1111111111111111,\"#46039f\"],[0.2222222222222222,\"#7201a8\"],[0.3333333333333333,\"#9c179e\"],[0.4444444444444444,\"#bd3786\"],[0.5555555555555556,\"#d8576b\"],[0.6666666666666666,\"#ed7953\"],[0.7777777777777778,\"#fb9f3a\"],[0.8888888888888888,\"#fdca26\"],[1.0,\"#f0f921\"]],\"type\":\"histogram2d\"}],\"histogram\":[{\"marker\":{\"pattern\":{\"fillmode\":\"overlay\",\"size\":10,\"solidity\":0.2}},\"type\":\"histogram\"}],\"mesh3d\":[{\"colorbar\":{\"outlinewidth\":0,\"ticks\":\"\"},\"type\":\"mesh3d\"}],\"parcoords\":[{\"line\":{\"colorbar\":{\"outlinewidth\":0,\"ticks\":\"\"}},\"type\":\"parcoords\"}],\"pie\":[{\"automargin\":true,\"type\":\"pie\"}],\"scatter3d\":[{\"line\":{\"colorbar\":{\"outlinewidth\":0,\"ticks\":\"\"}},\"marker\":{\"colorbar\":{\"outlinewidth\":0,\"ticks\":\"\"}},\"type\":\"scatter3d\"}],\"scattercarpet\":[{\"marker\":{\"colorbar\":{\"outlinewidth\":0,\"ticks\":\"\"}},\"type\":\"scattercarpet\"}],\"scattergeo\":[{\"marker\":{\"colorbar\":{\"outlinewidth\":0,\"ticks\":\"\"}},\"type\":\"scattergeo\"}],\"scattergl\":[{\"marker\":{\"colorbar\":{\"outlinewidth\":0,\"ticks\":\"\"}},\"type\":\"scattergl\"}],\"scattermapbox\":[{\"marker\":{\"colorbar\":{\"outlinewidth\":0,\"ticks\":\"\"}},\"type\":\"scattermapbox\"}],\"scatterpolargl\":[{\"marker\":{\"colorbar\":{\"outlinewidth\":0,\"ticks\":\"\"}},\"type\":\"scatterpolargl\"}],\"scatterpolar\":[{\"marker\":{\"colorbar\":{\"outlinewidth\":0,\"ticks\":\"\"}},\"type\":\"scatterpolar\"}],\"scatter\":[{\"fillpattern\":{\"fillmode\":\"overlay\",\"size\":10,\"solidity\":0.2},\"type\":\"scatter\"}],\"scatterternary\":[{\"marker\":{\"colorbar\":{\"outlinewidth\":0,\"ticks\":\"\"}},\"type\":\"scatterternary\"}],\"surface\":[{\"colorbar\":{\"outlinewidth\":0,\"ticks\":\"\"},\"colorscale\":[[0.0,\"#0d0887\"],[0.1111111111111111,\"#46039f\"],[0.2222222222222222,\"#7201a8\"],[0.3333333333333333,\"#9c179e\"],[0.4444444444444444,\"#bd3786\"],[0.5555555555555556,\"#d8576b\"],[0.6666666666666666,\"#ed7953\"],[0.7777777777777778,\"#fb9f3a\"],[0.8888888888888888,\"#fdca26\"],[1.0,\"#f0f921\"]],\"type\":\"surface\"}],\"table\":[{\"cells\":{\"fill\":{\"color\":\"#EBF0F8\"},\"line\":{\"color\":\"white\"}},\"header\":{\"fill\":{\"color\":\"#C8D4E3\"},\"line\":{\"color\":\"white\"}},\"type\":\"table\"}]},\"layout\":{\"annotationdefaults\":{\"arrowcolor\":\"#2a3f5f\",\"arrowhead\":0,\"arrowwidth\":1},\"autotypenumbers\":\"strict\",\"coloraxis\":{\"colorbar\":{\"outlinewidth\":0,\"ticks\":\"\"}},\"colorscale\":{\"diverging\":[[0,\"#8e0152\"],[0.1,\"#c51b7d\"],[0.2,\"#de77ae\"],[0.3,\"#f1b6da\"],[0.4,\"#fde0ef\"],[0.5,\"#f7f7f7\"],[0.6,\"#e6f5d0\"],[0.7,\"#b8e186\"],[0.8,\"#7fbc41\"],[0.9,\"#4d9221\"],[1,\"#276419\"]],\"sequential\":[[0.0,\"#0d0887\"],[0.1111111111111111,\"#46039f\"],[0.2222222222222222,\"#7201a8\"],[0.3333333333333333,\"#9c179e\"],[0.4444444444444444,\"#bd3786\"],[0.5555555555555556,\"#d8576b\"],[0.6666666666666666,\"#ed7953\"],[0.7777777777777778,\"#fb9f3a\"],[0.8888888888888888,\"#fdca26\"],[1.0,\"#f0f921\"]],\"sequentialminus\":[[0.0,\"#0d0887\"],[0.1111111111111111,\"#46039f\"],[0.2222222222222222,\"#7201a8\"],[0.3333333333333333,\"#9c179e\"],[0.4444444444444444,\"#bd3786\"],[0.5555555555555556,\"#d8576b\"],[0.6666666666666666,\"#ed7953\"],[0.7777777777777778,\"#fb9f3a\"],[0.8888888888888888,\"#fdca26\"],[1.0,\"#f0f921\"]]},\"colorway\":[\"#636efa\",\"#EF553B\",\"#00cc96\",\"#ab63fa\",\"#FFA15A\",\"#19d3f3\",\"#FF6692\",\"#B6E880\",\"#FF97FF\",\"#FECB52\"],\"font\":{\"color\":\"#2a3f5f\"},\"geo\":{\"bgcolor\":\"white\",\"lakecolor\":\"white\",\"landcolor\":\"#E5ECF6\",\"showlakes\":true,\"showland\":true,\"subunitcolor\":\"white\"},\"hoverlabel\":{\"align\":\"left\"},\"hovermode\":\"closest\",\"mapbox\":{\"style\":\"light\"},\"paper_bgcolor\":\"white\",\"plot_bgcolor\":\"#E5ECF6\",\"polar\":{\"angularaxis\":{\"gridcolor\":\"white\",\"linecolor\":\"white\",\"ticks\":\"\"},\"bgcolor\":\"#E5ECF6\",\"radialaxis\":{\"gridcolor\":\"white\",\"linecolor\":\"white\",\"ticks\":\"\"}},\"scene\":{\"xaxis\":{\"backgroundcolor\":\"#E5ECF6\",\"gridcolor\":\"white\",\"gridwidth\":2,\"linecolor\":\"white\",\"showbackground\":true,\"ticks\":\"\",\"zerolinecolor\":\"white\"},\"yaxis\":{\"backgroundcolor\":\"#E5ECF6\",\"gridcolor\":\"white\",\"gridwidth\":2,\"linecolor\":\"white\",\"showbackground\":true,\"ticks\":\"\",\"zerolinecolor\":\"white\"},\"zaxis\":{\"backgroundcolor\":\"#E5ECF6\",\"gridcolor\":\"white\",\"gridwidth\":2,\"linecolor\":\"white\",\"showbackground\":true,\"ticks\":\"\",\"zerolinecolor\":\"white\"}},\"shapedefaults\":{\"line\":{\"color\":\"#2a3f5f\"}},\"ternary\":{\"aaxis\":{\"gridcolor\":\"white\",\"linecolor\":\"white\",\"ticks\":\"\"},\"baxis\":{\"gridcolor\":\"white\",\"linecolor\":\"white\",\"ticks\":\"\"},\"bgcolor\":\"#E5ECF6\",\"caxis\":{\"gridcolor\":\"white\",\"linecolor\":\"white\",\"ticks\":\"\"}},\"title\":{\"x\":0.05},\"xaxis\":{\"automargin\":true,\"gridcolor\":\"white\",\"linecolor\":\"white\",\"ticks\":\"\",\"title\":{\"standoff\":15},\"zerolinecolor\":\"white\",\"zerolinewidth\":2},\"yaxis\":{\"automargin\":true,\"gridcolor\":\"white\",\"linecolor\":\"white\",\"ticks\":\"\",\"title\":{\"standoff\":15},\"zerolinecolor\":\"white\",\"zerolinewidth\":2}}},\"title\":{\"text\":\"\\u041a\\u043e\\u043d\\u0432\\u0435\\u0440\\u0441\\u0438\\u044f \\u043f\\u043e\\u043b\\u044c\\u0437\\u043e\\u0432\\u0430\\u0442\\u0435\\u043b\\u0435\\u0439 \\u0432 \\u043f\\u0440\\u0438\\u043b\\u043e\\u0436\\u0435\\u043d\\u0438\\u0438 \\u043d\\u0430 \\u043a\\u0430\\u0436\\u0434\\u043e\\u043c \\u044d\\u0442\\u0430\\u043f\\u0435\"},\"xaxis\":{\"anchor\":\"y\",\"domain\":[0.0,1.0],\"title\":{\"text\":\"value\"}},\"yaxis\":{\"anchor\":\"x\",\"domain\":[0.0,1.0],\"title\":{\"text\":\"\\u041d\\u0430\\u0437\\u0432\\u0430\\u043d\\u0438\\u0435 \\u0441\\u043e\\u0431\\u044b\\u0442\\u0438\\u044f\"}}},                        {\"responsive\": true}                    ).then(function(){\n",
       "                            \n",
       "var gd = document.getElementById('b6be3aec-3a21-4db5-b498-36d6080a70a1');\n",
       "var x = new MutationObserver(function (mutations, observer) {{\n",
       "        var display = window.getComputedStyle(gd).display;\n",
       "        if (!display || display === 'none') {{\n",
       "            console.log([gd, 'removed!']);\n",
       "            Plotly.purge(gd);\n",
       "            observer.disconnect();\n",
       "        }}\n",
       "}});\n",
       "\n",
       "// Listen for the removal of the full notebook cells\n",
       "var notebookContainer = gd.closest('#notebook-container');\n",
       "if (notebookContainer) {{\n",
       "    x.observe(notebookContainer, {childList: true});\n",
       "}}\n",
       "\n",
       "// Listen for the clearing of the current output cell\n",
       "var outputEl = gd.closest('.output');\n",
       "if (outputEl) {{\n",
       "    x.observe(outputEl, {childList: true});\n",
       "}}\n",
       "\n",
       "                        })                };                });            </script>        </div>"
      ]
     },
     "metadata": {},
     "output_type": "display_data"
    }
   ],
   "source": [
    "#Проведем визуализацию таблицы в виде воронки\n",
    "fig = px.funnel(all_groups.drop(columns={'group_246_247'}))\n",
    "fig.update_layout(title='Конверсия пользователей в приложении на каждом этапе',\n",
    "                   yaxis_title='Название события')\n",
    "iplot(fig)"
   ]
  },
  {
   "cell_type": "code",
   "execution_count": 196,
   "metadata": {},
   "outputs": [],
   "source": [
    "#Добавим в наш датасет, хранящий уникальное количество пользователей на каждом этапе,\n",
    "#значение суммы двух контрольных групп для построения функции нахождения отличия между группами\n",
    "cnt_all_us.loc['246_247'] = cnt_all_us.loc[246] + cnt_all_us.loc[247]"
   ]
  },
  {
   "cell_type": "code",
   "execution_count": 197,
   "metadata": {},
   "outputs": [
    {
     "data": {
      "text/html": [
       "<div>\n",
       "<style scoped>\n",
       "    .dataframe tbody tr th:only-of-type {\n",
       "        vertical-align: middle;\n",
       "    }\n",
       "\n",
       "    .dataframe tbody tr th {\n",
       "        vertical-align: top;\n",
       "    }\n",
       "\n",
       "    .dataframe thead th {\n",
       "        text-align: right;\n",
       "    }\n",
       "</style>\n",
       "<table border=\"1\" class=\"dataframe\">\n",
       "  <thead>\n",
       "    <tr style=\"text-align: right;\">\n",
       "      <th></th>\n",
       "      <th>un_users</th>\n",
       "    </tr>\n",
       "    <tr>\n",
       "      <th>exp_id</th>\n",
       "      <th></th>\n",
       "    </tr>\n",
       "  </thead>\n",
       "  <tbody>\n",
       "    <tr>\n",
       "      <th>246</th>\n",
       "      <td>2484</td>\n",
       "    </tr>\n",
       "    <tr>\n",
       "      <th>247</th>\n",
       "      <td>2513</td>\n",
       "    </tr>\n",
       "    <tr>\n",
       "      <th>248</th>\n",
       "      <td>2537</td>\n",
       "    </tr>\n",
       "    <tr>\n",
       "      <th>246_247</th>\n",
       "      <td>4997</td>\n",
       "    </tr>\n",
       "  </tbody>\n",
       "</table>\n",
       "</div>"
      ],
      "text/plain": [
       "         un_users\n",
       "exp_id           \n",
       "246          2484\n",
       "247          2513\n",
       "248          2537\n",
       "246_247      4997"
      ]
     },
     "execution_count": 197,
     "metadata": {},
     "output_type": "execute_result"
    }
   ],
   "source": [
    "#Проверим\n",
    "cnt_all_us"
   ]
  },
  {
   "cell_type": "code",
   "execution_count": 198,
   "metadata": {},
   "outputs": [],
   "source": [
    "# Сделаем подмену идексов для того, чтобы на вход функции поступали\n",
    "#одинаковые значения\n",
    "cnt_all_us['names'] = ['group_246', 'group_247', 'group_248', 'group_246_247']"
   ]
  },
  {
   "cell_type": "code",
   "execution_count": 199,
   "metadata": {},
   "outputs": [],
   "source": [
    "cnt_all_us = cnt_all_us.set_index('names')"
   ]
  },
  {
   "cell_type": "code",
   "execution_count": 200,
   "metadata": {},
   "outputs": [
    {
     "data": {
      "text/html": [
       "<div>\n",
       "<style scoped>\n",
       "    .dataframe tbody tr th:only-of-type {\n",
       "        vertical-align: middle;\n",
       "    }\n",
       "\n",
       "    .dataframe tbody tr th {\n",
       "        vertical-align: top;\n",
       "    }\n",
       "\n",
       "    .dataframe thead th {\n",
       "        text-align: right;\n",
       "    }\n",
       "</style>\n",
       "<table border=\"1\" class=\"dataframe\">\n",
       "  <thead>\n",
       "    <tr style=\"text-align: right;\">\n",
       "      <th></th>\n",
       "      <th>un_users</th>\n",
       "    </tr>\n",
       "    <tr>\n",
       "      <th>names</th>\n",
       "      <th></th>\n",
       "    </tr>\n",
       "  </thead>\n",
       "  <tbody>\n",
       "    <tr>\n",
       "      <th>group_246</th>\n",
       "      <td>2484</td>\n",
       "    </tr>\n",
       "    <tr>\n",
       "      <th>group_247</th>\n",
       "      <td>2513</td>\n",
       "    </tr>\n",
       "    <tr>\n",
       "      <th>group_248</th>\n",
       "      <td>2537</td>\n",
       "    </tr>\n",
       "    <tr>\n",
       "      <th>group_246_247</th>\n",
       "      <td>4997</td>\n",
       "    </tr>\n",
       "  </tbody>\n",
       "</table>\n",
       "</div>"
      ],
      "text/plain": [
       "               un_users\n",
       "names                  \n",
       "group_246          2484\n",
       "group_247          2513\n",
       "group_248          2537\n",
       "group_246_247      4997"
      ]
     },
     "execution_count": 200,
     "metadata": {},
     "output_type": "execute_result"
    }
   ],
   "source": [
    "cnt_all_us"
   ]
  },
  {
   "cell_type": "markdown",
   "metadata": {},
   "source": [
    "#### Функция проверки"
   ]
  },
  {
   "cell_type": "code",
   "execution_count": 201,
   "metadata": {},
   "outputs": [],
   "source": [
    "# Напишем функцию, для всех событий\n",
    "def function_p_value(group_name_1, group_name_2, alpha):\n",
    "    alpha = alpha\n",
    "    for i in all_groups.index:\n",
    "        payments = np.array([all_groups[group_name_1][i], all_groups[group_name_2][i]])\n",
    "        leads = np.array([cnt_all_us.loc[group_name_1][0], cnt_all_us.loc[group_name_2][0]])\n",
    "        # Пропорция успехов в первой группе:\n",
    "        p1 = payments[0]/leads[0]\n",
    "        # Пропорция успехов во второй группе:\n",
    "        p2 = payments[1]/leads[1]\n",
    "        # Пропорция успехов в комбинированном датасете:\n",
    "        p_combined = (payments[0] + payments[1]) / (leads[0] + leads[1])\n",
    "        # Разница пропорций в датасетах\n",
    "        difference = p1 - p2 \n",
    "        z_value = difference / mth.sqrt(p_combined * (1 - p_combined) * (1/leads[0] + 1/leads[1]))\n",
    "        distr = st.norm(0, 1)\n",
    "        # Расчитаем p-value\n",
    "        p_value = (1 - distr.cdf(abs(z_value))) * 2\n",
    "\n",
    "        print('p-значение: {0:.03f} '.format(p_value))\n",
    "\n",
    "        if p_value < alpha:\n",
    "            print('Отвергаем нулевую гипотезу: между долями есть значимая разница')\n",
    "        else:\n",
    "            print(\n",
    "                'Не получилось отвергнуть нулевую гипотезу, нет оснований считать доли разными'\n",
    "            )"
   ]
  },
  {
   "cell_type": "markdown",
   "metadata": {},
   "source": [
    "Н0: Конверсия в шаг группы 246 == Конверсия в шаг группы 247\n",
    "\n",
    "Н1: Конверсия в шаг группы 246 != Конверсия в шаг группы 247"
   ]
  },
  {
   "cell_type": "code",
   "execution_count": 202,
   "metadata": {},
   "outputs": [
    {
     "name": "stdout",
     "output_type": "stream",
     "text": [
      "p-значение: 0.757 \n",
      "Не получилось отвергнуть нулевую гипотезу, нет оснований считать доли разными\n",
      "p-значение: 0.248 \n",
      "Не получилось отвергнуть нулевую гипотезу, нет оснований считать доли разными\n",
      "p-значение: 0.229 \n",
      "Не получилось отвергнуть нулевую гипотезу, нет оснований считать доли разными\n",
      "p-значение: 0.115 \n",
      "Не получилось отвергнуть нулевую гипотезу, нет оснований считать доли разными\n"
     ]
    }
   ],
   "source": [
    "#Выполним проверку для всех событий для определения того, есть ли статистически достоверные отличия\n",
    "#Между двумя контрольными группами\n",
    "function_p_value('group_246', 'group_247', 0.05)"
   ]
  },
  {
   "cell_type": "markdown",
   "metadata": {},
   "source": [
    "**Промежуточный вывод про контрольные группы:**\n",
    "\n",
    "Во всех случаях не получилось отвергнуть нулевую гипотезу, значит конверсии на каждом шаге у групп 246 и 247 равны, соответсвенно, различий между группами нету. На основании этого мы можем считать, что разбиение на группы работает корректно."
   ]
  },
  {
   "cell_type": "markdown",
   "metadata": {},
   "source": [
    "#### Сравнение группы 246 и группы 248"
   ]
  },
  {
   "cell_type": "markdown",
   "metadata": {},
   "source": [
    "Н0: Конверсия в шаг группы 246 == Конверсия в шаг группы 248\n",
    "\n",
    "Н1: Конверсия в шаг группы 246 != Конверсия в шаг группы 248"
   ]
  },
  {
   "cell_type": "code",
   "execution_count": 203,
   "metadata": {},
   "outputs": [
    {
     "name": "stdout",
     "output_type": "stream",
     "text": [
      "p-значение: 0.295 \n",
      "Не получилось отвергнуть нулевую гипотезу, нет оснований считать доли разными\n",
      "p-значение: 0.208 \n",
      "Не получилось отвергнуть нулевую гипотезу, нет оснований считать доли разными\n",
      "p-значение: 0.078 \n",
      "Не получилось отвергнуть нулевую гипотезу, нет оснований считать доли разными\n",
      "p-значение: 0.212 \n",
      "Не получилось отвергнуть нулевую гипотезу, нет оснований считать доли разными\n"
     ]
    }
   ],
   "source": [
    "function_p_value('group_246', 'group_248', 0.05)"
   ]
  },
  {
   "cell_type": "markdown",
   "metadata": {},
   "source": [
    "**Промежуточный вывод про сравнение контрольной группы 246 и эксперементальной:**\n",
    "\n",
    "Во всех случаях не получилось отвергнуть нулевую гипотезу, значит конверсии на каждом шаге у групп 246 и 248 равны, соответсвенно, различий между группами нету."
   ]
  },
  {
   "cell_type": "markdown",
   "metadata": {},
   "source": [
    "#### Сравнение группы 247 и группы 248"
   ]
  },
  {
   "cell_type": "markdown",
   "metadata": {},
   "source": [
    "Н0: Конверсия в шаг группы 247 == Конверсия в шаг группы 248\n",
    "\n",
    "Н1: Конверсия в шаг группы 247 != Конверсия в шаг группы 248"
   ]
  },
  {
   "cell_type": "code",
   "execution_count": 204,
   "metadata": {},
   "outputs": [
    {
     "name": "stdout",
     "output_type": "stream",
     "text": [
      "p-значение: 0.459 \n",
      "Не получилось отвергнуть нулевую гипотезу, нет оснований считать доли разными\n",
      "p-значение: 0.920 \n",
      "Не получилось отвергнуть нулевую гипотезу, нет оснований считать доли разными\n",
      "p-значение: 0.579 \n",
      "Не получилось отвергнуть нулевую гипотезу, нет оснований считать доли разными\n",
      "p-значение: 0.737 \n",
      "Не получилось отвергнуть нулевую гипотезу, нет оснований считать доли разными\n"
     ]
    }
   ],
   "source": [
    "function_p_value('group_247', 'group_248', 0.05)"
   ]
  },
  {
   "cell_type": "markdown",
   "metadata": {},
   "source": [
    "**Промежуточный вывод про сравнение контрольной группы 247 и эксперементальной:**\n",
    "\n",
    "Во всех случаях не получилось отвергнуть нулевую гипотезу, значит конверсии на каждом шаге у групп 246 и 248 равны, соответсвенно, различий между группами нету."
   ]
  },
  {
   "cell_type": "markdown",
   "metadata": {},
   "source": [
    "#### Сравнение группы 248 с объедниненной контрольной группой"
   ]
  },
  {
   "cell_type": "markdown",
   "metadata": {},
   "source": [
    "Н0: Конверсия в шаг в объединенной контрольной группе == Конверсия в шаг группы 248\n",
    "\n",
    "Н1: Конверсия в шаг в объединенной контрольной группе != Конверсия в шаг группы 248"
   ]
  },
  {
   "cell_type": "code",
   "execution_count": 205,
   "metadata": {},
   "outputs": [
    {
     "name": "stdout",
     "output_type": "stream",
     "text": [
      "p-значение: 0.294 \n",
      "Не получилось отвергнуть нулевую гипотезу, нет оснований считать доли разными\n",
      "p-значение: 0.434 \n",
      "Не получилось отвергнуть нулевую гипотезу, нет оснований считать доли разными\n",
      "p-значение: 0.182 \n",
      "Не получилось отвергнуть нулевую гипотезу, нет оснований считать доли разными\n",
      "p-значение: 0.600 \n",
      "Не получилось отвергнуть нулевую гипотезу, нет оснований считать доли разными\n"
     ]
    }
   ],
   "source": [
    "function_p_value('group_248', 'group_246_247', 0.05)"
   ]
  },
  {
   "cell_type": "markdown",
   "metadata": {},
   "source": [
    "**Промежуточный вывод про сравнение объединенной контрольной группы  и эксперементальной:**\n",
    "\n",
    "Во всех случаях не получилось отвергнуть нулевую гипотезу, значит конверсии на каждом шаге у объединенной контрольной группы и 248 равны, соответсвенно, различий между группами нету."
   ]
  },
  {
   "cell_type": "markdown",
   "metadata": {},
   "source": [
    "Из данного эксперимента можно сделать вывод о том, что `изменение шрифта никак не повлияло на конверию в приложении стартапа`, во всех экспериментах не получилось отвергнуть гипотезу о том, что группы равны, это наблюдалось как в сравнении эксперементальной группы с контрольной группой 246, так и в сравнении с группой 247. Сравнение группы, где были объединенны пользователи двух контрольных, с группой 248 также показало нам то, что между ними нету статистически достоверных различий."
   ]
  },
  {
   "cell_type": "markdown",
   "metadata": {},
   "source": [
    "#### Проверка статистических гипотез при уровне значимости 0.1"
   ]
  },
  {
   "cell_type": "markdown",
   "metadata": {},
   "source": [
    "Проведем все те же самые сравнения групп, но уже с более лояльным подходом (при уровне значимости в 0.1 отвергнуть нулевую гипотезу о равенстве гораздо проще)."
   ]
  },
  {
   "cell_type": "markdown",
   "metadata": {},
   "source": [
    "--------------------------------------"
   ]
  },
  {
   "cell_type": "markdown",
   "metadata": {},
   "source": [
    "Н0: Конверсия в шаг группы 246 == Конверсия в шаг группы 248\n",
    "\n",
    "Н1: Конверсия в шаг группы 246 != Конверсия в шаг группы 248"
   ]
  },
  {
   "cell_type": "code",
   "execution_count": 206,
   "metadata": {},
   "outputs": [
    {
     "name": "stdout",
     "output_type": "stream",
     "text": [
      "p-значение: 0.295 \n",
      "Не получилось отвергнуть нулевую гипотезу, нет оснований считать доли разными\n",
      "p-значение: 0.208 \n",
      "Не получилось отвергнуть нулевую гипотезу, нет оснований считать доли разными\n",
      "p-значение: 0.078 \n",
      "Отвергаем нулевую гипотезу: между долями есть значимая разница\n",
      "p-значение: 0.212 \n",
      "Не получилось отвергнуть нулевую гипотезу, нет оснований считать доли разными\n"
     ]
    }
   ],
   "source": [
    "function_p_value('group_246', 'group_248', 0.1)"
   ]
  },
  {
   "cell_type": "markdown",
   "metadata": {},
   "source": [
    "Сравнение групп 246 и 248 выявило отличие только в одном пункте, это разница в перешедших пользователях от просмотра товаров к корзине для совершения оплаты."
   ]
  },
  {
   "cell_type": "markdown",
   "metadata": {},
   "source": [
    "--------------------------------------"
   ]
  },
  {
   "cell_type": "markdown",
   "metadata": {},
   "source": [
    "Н0: Конверсия в шаг группы 247 == Конверсия в шаг группы 248\n",
    "\n",
    "Н1: Конверсия в шаг группы 247 != Конверсия в шаг группы 248"
   ]
  },
  {
   "cell_type": "code",
   "execution_count": 207,
   "metadata": {},
   "outputs": [
    {
     "name": "stdout",
     "output_type": "stream",
     "text": [
      "p-значение: 0.459 \n",
      "Не получилось отвергнуть нулевую гипотезу, нет оснований считать доли разными\n",
      "p-значение: 0.920 \n",
      "Не получилось отвергнуть нулевую гипотезу, нет оснований считать доли разными\n",
      "p-значение: 0.579 \n",
      "Не получилось отвергнуть нулевую гипотезу, нет оснований считать доли разными\n",
      "p-значение: 0.737 \n",
      "Не получилось отвергнуть нулевую гипотезу, нет оснований считать доли разными\n"
     ]
    }
   ],
   "source": [
    "function_p_value('group_247', 'group_248', 0.1)"
   ]
  },
  {
   "cell_type": "markdown",
   "metadata": {},
   "source": [
    "Во всех случаях не получилось отвергнуть нулевую гипотезу, значит конверсии на каждом шаге у группы 247 и 248 равны при уровне значимости 0.1, соответсвенно, различий между группами нету."
   ]
  },
  {
   "cell_type": "markdown",
   "metadata": {},
   "source": [
    "--------------------------------------"
   ]
  },
  {
   "cell_type": "markdown",
   "metadata": {},
   "source": [
    "Н0: Конверсия в шаг в объединенной контрольной группе == Конверсия в шаг группы 248\n",
    "\n",
    "Н1: Конверсия в шаг в объединенной контрольной группе != Конверсия в шаг группы 248"
   ]
  },
  {
   "cell_type": "code",
   "execution_count": 208,
   "metadata": {},
   "outputs": [
    {
     "name": "stdout",
     "output_type": "stream",
     "text": [
      "p-значение: 0.294 \n",
      "Не получилось отвергнуть нулевую гипотезу, нет оснований считать доли разными\n",
      "p-значение: 0.434 \n",
      "Не получилось отвергнуть нулевую гипотезу, нет оснований считать доли разными\n",
      "p-значение: 0.182 \n",
      "Не получилось отвергнуть нулевую гипотезу, нет оснований считать доли разными\n",
      "p-значение: 0.600 \n",
      "Не получилось отвергнуть нулевую гипотезу, нет оснований считать доли разными\n"
     ]
    }
   ],
   "source": [
    "function_p_value('group_246_247', 'group_248', 0.1)"
   ]
  },
  {
   "cell_type": "markdown",
   "metadata": {},
   "source": [
    "Во всех случаях не получилось отвергнуть нулевую гипотезу, значит конверсии на каждом шаге у объединенной контрольной группы  и эксперементальной равны при уровне значимости 0.1, соответсвенно, различий между группами нету."
   ]
  },
  {
   "attachments": {},
   "cell_type": "markdown",
   "metadata": {},
   "source": [
    "### Выводы\n",
    "\n",
    "<a id=\"conclusion\"></a>\n",
    "[Описание проекта](#introduction)"
   ]
  },
  {
   "cell_type": "markdown",
   "metadata": {},
   "source": [
    "- В ходе исследования была изучена общая информация о данных, а также осуществленна их предобработка для последующего анализа.\n",
    "- Для проведения исследования были отобраны данные в период с 2019-08-01 по 2019-08-07. Это было сделано для того, чтобы в нашем исследовании не было перекосов из - за отсутствия полных данных в период с 2019-07-25 по 2019-07-31.\n",
    "\n",
    "- После изучения воронки продаж можно сделать следующее заключение - `47.7%` пользователей нашего приложения дошли от главного экрана приложения до оплаты, мы можем назвать данный резулат отличным, ведь практически `50%` пользователей, скачавших приложение, совершили в нем покупки. Но данный результат можно улучшить, ведь наши пользователи почему - то \"застревают\" на главном экране и не переходят в другое окно для просмотра товаров (`38.09%`). Необходимо изучить действия, которые совершает пользователь для перехода к выбору товаров и ,возможно, стоит поработать над интуитивной частью приложения или сделать подсказки (помимо туториала, который проходят очень мало людей, возможно, стоит сделать всплывающее окно с туториалом, если такогового нету, после самого первого запуска приложения).\n",
    "\n",
    "- Было сделано 16 проверок статистических гипотез при уровне значимости 0.05. Результаты всех проверок сообщают нам о том, что между контрольными и эксперементальной группой нету разницы.\n",
    "\n",
    "- Было сделано 12 проверок статистических гипотез при уровне значимости 0.1. Результаты всех проверок также сообщают нам о том, что между контрольными и эксперементальной группой нету разницы (за исключением сравнения групп 246 и 248, где было выявлено отличие только в одном пункте - это разница в перешедших пользователях от просмотра товаров к корзине для совершения оплаты). Но из - за того, что при уровне значимости 0.1 каждый десятый раз можно получать ложный результат, стоит оставить и применять уровень значимости 0.05, т.к. такой уровень даст более точные результаты.\n",
    "\n",
    "- Из данного A/A/B-эксперимента можно сделать вывод о том, что `изменение шрифта никак не повлияло на конверию в приложении стартапа`, во всех экспериментах не получилось отвергнуть гипотезу о том, что группы равны, это наблюдалось как в сравнении эксперементальной группы с контрольной группой 246, так и в сравнении с группой 247. Значит, новый шрифт не отпугнул пользователей, менеджерам не о чем беспокоиться.\n",
    "\n"
   ]
  }
 ],
 "metadata": {
  "ExecuteTimeLog": [
   {
    "duration": 1314,
    "start_time": "2023-02-03T15:17:35.813Z"
   },
   {
    "duration": 146,
    "start_time": "2023-02-03T15:17:37.129Z"
   },
   {
    "duration": 0,
    "start_time": "2023-02-03T15:17:37.278Z"
   },
   {
    "duration": 0,
    "start_time": "2023-02-03T15:17:37.280Z"
   },
   {
    "duration": 0,
    "start_time": "2023-02-03T15:17:37.281Z"
   },
   {
    "duration": 0,
    "start_time": "2023-02-03T15:17:37.282Z"
   },
   {
    "duration": 0,
    "start_time": "2023-02-03T15:17:37.283Z"
   },
   {
    "duration": 0,
    "start_time": "2023-02-03T15:17:37.284Z"
   },
   {
    "duration": 0,
    "start_time": "2023-02-03T15:17:37.285Z"
   },
   {
    "duration": 0,
    "start_time": "2023-02-03T15:17:37.286Z"
   },
   {
    "duration": 0,
    "start_time": "2023-02-03T15:17:37.287Z"
   },
   {
    "duration": 0,
    "start_time": "2023-02-03T15:17:37.288Z"
   },
   {
    "duration": 0,
    "start_time": "2023-02-03T15:17:37.289Z"
   },
   {
    "duration": 0,
    "start_time": "2023-02-03T15:17:37.291Z"
   },
   {
    "duration": 0,
    "start_time": "2023-02-03T15:17:37.292Z"
   },
   {
    "duration": 0,
    "start_time": "2023-02-03T15:17:37.293Z"
   },
   {
    "duration": 0,
    "start_time": "2023-02-03T15:17:37.294Z"
   },
   {
    "duration": 0,
    "start_time": "2023-02-03T15:17:37.295Z"
   },
   {
    "duration": 0,
    "start_time": "2023-02-03T15:17:37.296Z"
   },
   {
    "duration": 0,
    "start_time": "2023-02-03T15:17:37.297Z"
   },
   {
    "duration": 0,
    "start_time": "2023-02-03T15:17:37.297Z"
   },
   {
    "duration": 0,
    "start_time": "2023-02-03T15:17:37.298Z"
   },
   {
    "duration": 0,
    "start_time": "2023-02-03T15:17:37.299Z"
   },
   {
    "duration": 0,
    "start_time": "2023-02-03T15:17:37.300Z"
   },
   {
    "duration": 0,
    "start_time": "2023-02-03T15:17:37.301Z"
   },
   {
    "duration": 0,
    "start_time": "2023-02-03T15:17:37.302Z"
   },
   {
    "duration": 0,
    "start_time": "2023-02-03T15:17:37.338Z"
   },
   {
    "duration": 0,
    "start_time": "2023-02-03T15:17:37.340Z"
   },
   {
    "duration": 0,
    "start_time": "2023-02-03T15:17:37.341Z"
   },
   {
    "duration": 0,
    "start_time": "2023-02-03T15:17:37.343Z"
   },
   {
    "duration": 0,
    "start_time": "2023-02-03T15:17:37.344Z"
   },
   {
    "duration": 0,
    "start_time": "2023-02-03T15:17:37.346Z"
   },
   {
    "duration": 0,
    "start_time": "2023-02-03T15:17:37.347Z"
   },
   {
    "duration": 0,
    "start_time": "2023-02-03T15:17:37.348Z"
   },
   {
    "duration": 0,
    "start_time": "2023-02-03T15:17:37.350Z"
   },
   {
    "duration": 0,
    "start_time": "2023-02-03T15:17:37.351Z"
   },
   {
    "duration": 0,
    "start_time": "2023-02-03T15:17:37.352Z"
   },
   {
    "duration": 0,
    "start_time": "2023-02-03T15:17:37.354Z"
   },
   {
    "duration": 0,
    "start_time": "2023-02-03T15:17:37.355Z"
   },
   {
    "duration": 0,
    "start_time": "2023-02-03T15:17:37.356Z"
   },
   {
    "duration": 0,
    "start_time": "2023-02-03T15:17:37.358Z"
   },
   {
    "duration": 0,
    "start_time": "2023-02-03T15:17:37.359Z"
   },
   {
    "duration": 0,
    "start_time": "2023-02-03T15:17:37.360Z"
   },
   {
    "duration": 0,
    "start_time": "2023-02-03T15:17:37.361Z"
   },
   {
    "duration": 0,
    "start_time": "2023-02-03T15:17:37.362Z"
   },
   {
    "duration": 0,
    "start_time": "2023-02-03T15:17:37.363Z"
   },
   {
    "duration": 0,
    "start_time": "2023-02-03T15:17:37.364Z"
   },
   {
    "duration": 0,
    "start_time": "2023-02-03T15:17:37.365Z"
   },
   {
    "duration": 0,
    "start_time": "2023-02-03T15:17:37.366Z"
   },
   {
    "duration": 0,
    "start_time": "2023-02-03T15:17:37.367Z"
   },
   {
    "duration": 0,
    "start_time": "2023-02-03T15:17:37.368Z"
   },
   {
    "duration": 0,
    "start_time": "2023-02-03T15:17:37.369Z"
   },
   {
    "duration": 0,
    "start_time": "2023-02-03T15:17:37.370Z"
   },
   {
    "duration": 0,
    "start_time": "2023-02-03T15:17:37.371Z"
   },
   {
    "duration": 0,
    "start_time": "2023-02-03T15:17:37.372Z"
   },
   {
    "duration": 0,
    "start_time": "2023-02-03T15:17:37.373Z"
   },
   {
    "duration": 0,
    "start_time": "2023-02-03T15:17:37.439Z"
   },
   {
    "duration": 0,
    "start_time": "2023-02-03T15:17:37.440Z"
   },
   {
    "duration": 0,
    "start_time": "2023-02-03T15:17:37.442Z"
   },
   {
    "duration": 0,
    "start_time": "2023-02-03T15:17:37.443Z"
   },
   {
    "duration": 0,
    "start_time": "2023-02-03T15:17:37.444Z"
   },
   {
    "duration": 0,
    "start_time": "2023-02-03T15:17:37.445Z"
   },
   {
    "duration": 59,
    "start_time": "2023-02-03T15:31:42.922Z"
   },
   {
    "duration": 1263,
    "start_time": "2023-02-03T15:31:54.782Z"
   },
   {
    "duration": 786,
    "start_time": "2023-02-03T15:31:56.047Z"
   },
   {
    "duration": 10,
    "start_time": "2023-02-03T15:31:56.834Z"
   },
   {
    "duration": 18,
    "start_time": "2023-02-03T15:31:56.846Z"
   },
   {
    "duration": 81,
    "start_time": "2023-02-03T15:31:56.865Z"
   },
   {
    "duration": 26,
    "start_time": "2023-02-03T15:31:56.948Z"
   },
   {
    "duration": 209,
    "start_time": "2023-02-03T15:31:56.975Z"
   },
   {
    "duration": 7,
    "start_time": "2023-02-03T15:31:57.186Z"
   },
   {
    "duration": 3,
    "start_time": "2023-02-03T15:31:57.195Z"
   },
   {
    "duration": 99,
    "start_time": "2023-02-03T15:31:57.201Z"
   },
   {
    "duration": 79,
    "start_time": "2023-02-03T15:31:57.302Z"
   },
   {
    "duration": 27,
    "start_time": "2023-02-03T15:31:57.382Z"
   },
   {
    "duration": 9,
    "start_time": "2023-02-03T15:31:57.410Z"
   },
   {
    "duration": 21,
    "start_time": "2023-02-03T15:31:57.421Z"
   },
   {
    "duration": 11,
    "start_time": "2023-02-03T15:31:57.444Z"
   },
   {
    "duration": 37,
    "start_time": "2023-02-03T15:31:57.456Z"
   },
   {
    "duration": 15,
    "start_time": "2023-02-03T15:31:57.495Z"
   },
   {
    "duration": 40,
    "start_time": "2023-02-03T15:31:57.512Z"
   },
   {
    "duration": 498,
    "start_time": "2023-02-03T15:31:57.554Z"
   },
   {
    "duration": 43,
    "start_time": "2023-02-03T15:31:58.054Z"
   },
   {
    "duration": 13,
    "start_time": "2023-02-03T15:31:58.099Z"
   },
   {
    "duration": 55,
    "start_time": "2023-02-03T15:31:58.114Z"
   },
   {
    "duration": 4,
    "start_time": "2023-02-03T15:31:58.171Z"
   },
   {
    "duration": 18,
    "start_time": "2023-02-03T15:31:58.176Z"
   },
   {
    "duration": 220,
    "start_time": "2023-02-03T15:31:58.195Z"
   },
   {
    "duration": 49,
    "start_time": "2023-02-03T15:31:58.417Z"
   },
   {
    "duration": 59,
    "start_time": "2023-02-03T15:31:58.468Z"
   },
   {
    "duration": 4,
    "start_time": "2023-02-03T15:31:58.537Z"
   },
   {
    "duration": 6,
    "start_time": "2023-02-03T15:31:58.543Z"
   },
   {
    "duration": 11,
    "start_time": "2023-02-03T15:31:58.551Z"
   },
   {
    "duration": 11,
    "start_time": "2023-02-03T15:31:58.563Z"
   },
   {
    "duration": 37,
    "start_time": "2023-02-03T15:31:58.576Z"
   },
   {
    "duration": 52,
    "start_time": "2023-02-03T15:31:58.614Z"
   },
   {
    "duration": 7,
    "start_time": "2023-02-03T15:31:58.668Z"
   },
   {
    "duration": 33,
    "start_time": "2023-02-03T15:31:58.677Z"
   },
   {
    "duration": 27,
    "start_time": "2023-02-03T15:31:58.712Z"
   },
   {
    "duration": 6,
    "start_time": "2023-02-03T15:31:58.740Z"
   },
   {
    "duration": 7,
    "start_time": "2023-02-03T15:31:58.747Z"
   },
   {
    "duration": 6,
    "start_time": "2023-02-03T15:31:58.755Z"
   },
   {
    "duration": 6,
    "start_time": "2023-02-03T15:31:58.762Z"
   },
   {
    "duration": 6,
    "start_time": "2023-02-03T15:31:58.770Z"
   },
   {
    "duration": 5,
    "start_time": "2023-02-03T15:31:58.778Z"
   },
   {
    "duration": 6,
    "start_time": "2023-02-03T15:31:58.784Z"
   },
   {
    "duration": 55,
    "start_time": "2023-02-03T15:31:58.791Z"
   },
   {
    "duration": 6,
    "start_time": "2023-02-03T15:31:58.848Z"
   },
   {
    "duration": 54,
    "start_time": "2023-02-03T15:31:58.856Z"
   },
   {
    "duration": 6,
    "start_time": "2023-02-03T15:31:58.911Z"
   },
   {
    "duration": 18,
    "start_time": "2023-02-03T15:31:58.919Z"
   },
   {
    "duration": 12,
    "start_time": "2023-02-03T15:31:58.939Z"
   },
   {
    "duration": 9,
    "start_time": "2023-02-03T15:31:58.953Z"
   },
   {
    "duration": 14,
    "start_time": "2023-02-03T15:31:58.964Z"
   },
   {
    "duration": 6,
    "start_time": "2023-02-03T15:31:58.981Z"
   },
   {
    "duration": 7,
    "start_time": "2023-02-03T15:31:58.989Z"
   },
   {
    "duration": 9,
    "start_time": "2023-02-03T15:31:58.998Z"
   },
   {
    "duration": 16,
    "start_time": "2023-02-03T15:31:59.008Z"
   },
   {
    "duration": 26,
    "start_time": "2023-02-03T15:31:59.025Z"
   },
   {
    "duration": 15,
    "start_time": "2023-02-03T15:31:59.052Z"
   },
   {
    "duration": 10,
    "start_time": "2023-02-03T15:31:59.069Z"
   },
   {
    "duration": 12,
    "start_time": "2023-02-03T15:31:59.081Z"
   },
   {
    "duration": 11,
    "start_time": "2023-02-03T15:31:59.094Z"
   },
   {
    "duration": 36,
    "start_time": "2023-02-03T15:31:59.107Z"
   },
   {
    "duration": 9,
    "start_time": "2023-02-03T15:31:59.146Z"
   },
   {
    "duration": 47,
    "start_time": "2023-02-03T15:33:53.778Z"
   },
   {
    "duration": 1194,
    "start_time": "2023-02-03T15:35:29.650Z"
   },
   {
    "duration": 149,
    "start_time": "2023-02-03T15:35:30.846Z"
   },
   {
    "duration": 11,
    "start_time": "2023-02-03T15:35:30.997Z"
   },
   {
    "duration": 34,
    "start_time": "2023-02-03T15:35:31.010Z"
   },
   {
    "duration": 95,
    "start_time": "2023-02-03T15:35:31.047Z"
   },
   {
    "duration": 22,
    "start_time": "2023-02-03T15:35:31.144Z"
   },
   {
    "duration": 213,
    "start_time": "2023-02-03T15:35:31.168Z"
   },
   {
    "duration": 9,
    "start_time": "2023-02-03T15:35:31.383Z"
   },
   {
    "duration": 17,
    "start_time": "2023-02-03T15:35:31.394Z"
   },
   {
    "duration": 95,
    "start_time": "2023-02-03T15:35:31.413Z"
   },
   {
    "duration": 73,
    "start_time": "2023-02-03T15:35:31.509Z"
   },
   {
    "duration": 27,
    "start_time": "2023-02-03T15:35:31.583Z"
   },
   {
    "duration": 23,
    "start_time": "2023-02-03T15:35:31.611Z"
   },
   {
    "duration": 42,
    "start_time": "2023-02-03T15:35:31.636Z"
   },
   {
    "duration": 39,
    "start_time": "2023-02-03T15:35:31.680Z"
   },
   {
    "duration": 55,
    "start_time": "2023-02-03T15:35:31.721Z"
   },
   {
    "duration": 14,
    "start_time": "2023-02-03T15:35:31.777Z"
   },
   {
    "duration": 22,
    "start_time": "2023-02-03T15:35:31.793Z"
   },
   {
    "duration": 499,
    "start_time": "2023-02-03T15:35:31.816Z"
   },
   {
    "duration": 52,
    "start_time": "2023-02-03T15:35:32.316Z"
   },
   {
    "duration": 15,
    "start_time": "2023-02-03T15:35:32.369Z"
   },
   {
    "duration": 56,
    "start_time": "2023-02-03T15:35:32.386Z"
   },
   {
    "duration": 6,
    "start_time": "2023-02-03T15:35:32.444Z"
   },
   {
    "duration": 20,
    "start_time": "2023-02-03T15:35:32.452Z"
   },
   {
    "duration": 255,
    "start_time": "2023-02-03T15:35:32.474Z"
   },
   {
    "duration": 34,
    "start_time": "2023-02-03T15:35:32.736Z"
   },
   {
    "duration": 67,
    "start_time": "2023-02-03T15:35:32.771Z"
   },
   {
    "duration": 4,
    "start_time": "2023-02-03T15:35:32.842Z"
   },
   {
    "duration": 17,
    "start_time": "2023-02-03T15:35:32.847Z"
   },
   {
    "duration": 28,
    "start_time": "2023-02-03T15:35:32.866Z"
   },
   {
    "duration": 11,
    "start_time": "2023-02-03T15:35:32.896Z"
   },
   {
    "duration": 31,
    "start_time": "2023-02-03T15:35:32.909Z"
   },
   {
    "duration": 22,
    "start_time": "2023-02-03T15:35:32.942Z"
   },
   {
    "duration": 6,
    "start_time": "2023-02-03T15:35:32.965Z"
   },
   {
    "duration": 25,
    "start_time": "2023-02-03T15:35:32.973Z"
   },
   {
    "duration": 6,
    "start_time": "2023-02-03T15:35:32.999Z"
   },
   {
    "duration": 8,
    "start_time": "2023-02-03T15:35:33.007Z"
   },
   {
    "duration": 4,
    "start_time": "2023-02-03T15:35:33.036Z"
   },
   {
    "duration": 7,
    "start_time": "2023-02-03T15:35:33.042Z"
   },
   {
    "duration": 6,
    "start_time": "2023-02-03T15:35:33.051Z"
   },
   {
    "duration": 7,
    "start_time": "2023-02-03T15:35:33.058Z"
   },
   {
    "duration": 9,
    "start_time": "2023-02-03T15:35:33.066Z"
   },
   {
    "duration": 6,
    "start_time": "2023-02-03T15:35:33.076Z"
   },
   {
    "duration": 29,
    "start_time": "2023-02-03T15:35:33.084Z"
   },
   {
    "duration": 6,
    "start_time": "2023-02-03T15:35:33.114Z"
   },
   {
    "duration": 42,
    "start_time": "2023-02-03T15:35:33.137Z"
   },
   {
    "duration": 7,
    "start_time": "2023-02-03T15:35:33.181Z"
   },
   {
    "duration": 10,
    "start_time": "2023-02-03T15:35:33.190Z"
   },
   {
    "duration": 10,
    "start_time": "2023-02-03T15:35:33.202Z"
   },
   {
    "duration": 7,
    "start_time": "2023-02-03T15:35:33.237Z"
   },
   {
    "duration": 13,
    "start_time": "2023-02-03T15:35:33.246Z"
   },
   {
    "duration": 6,
    "start_time": "2023-02-03T15:35:33.261Z"
   },
   {
    "duration": 7,
    "start_time": "2023-02-03T15:35:33.269Z"
   },
   {
    "duration": 11,
    "start_time": "2023-02-03T15:35:33.277Z"
   },
   {
    "duration": 13,
    "start_time": "2023-02-03T15:35:33.289Z"
   },
   {
    "duration": 15,
    "start_time": "2023-02-03T15:35:33.304Z"
   },
   {
    "duration": 24,
    "start_time": "2023-02-03T15:35:33.320Z"
   },
   {
    "duration": 12,
    "start_time": "2023-02-03T15:35:33.346Z"
   },
   {
    "duration": 14,
    "start_time": "2023-02-03T15:35:33.360Z"
   },
   {
    "duration": 11,
    "start_time": "2023-02-03T15:35:33.376Z"
   },
   {
    "duration": 13,
    "start_time": "2023-02-03T15:35:33.388Z"
   },
   {
    "duration": 37,
    "start_time": "2023-02-03T15:35:33.403Z"
   },
   {
    "duration": 1127,
    "start_time": "2023-02-03T15:37:27.221Z"
   },
   {
    "duration": 141,
    "start_time": "2023-02-03T15:37:28.350Z"
   },
   {
    "duration": 10,
    "start_time": "2023-02-03T15:37:28.493Z"
   },
   {
    "duration": 20,
    "start_time": "2023-02-03T15:37:28.505Z"
   },
   {
    "duration": 60,
    "start_time": "2023-02-03T15:37:28.537Z"
   },
   {
    "duration": 17,
    "start_time": "2023-02-03T15:37:28.599Z"
   },
   {
    "duration": 202,
    "start_time": "2023-02-03T15:37:28.618Z"
   },
   {
    "duration": 16,
    "start_time": "2023-02-03T15:37:28.821Z"
   },
   {
    "duration": 2,
    "start_time": "2023-02-03T15:37:28.839Z"
   },
   {
    "duration": 68,
    "start_time": "2023-02-03T15:37:28.844Z"
   },
   {
    "duration": 87,
    "start_time": "2023-02-03T15:37:28.914Z"
   },
   {
    "duration": 26,
    "start_time": "2023-02-03T15:37:29.003Z"
   },
   {
    "duration": 9,
    "start_time": "2023-02-03T15:37:29.036Z"
   },
   {
    "duration": 5,
    "start_time": "2023-02-03T15:37:29.046Z"
   },
   {
    "duration": 10,
    "start_time": "2023-02-03T15:37:29.053Z"
   },
   {
    "duration": 33,
    "start_time": "2023-02-03T15:37:29.065Z"
   },
   {
    "duration": 40,
    "start_time": "2023-02-03T15:37:29.100Z"
   },
   {
    "duration": 18,
    "start_time": "2023-02-03T15:37:29.141Z"
   },
   {
    "duration": 544,
    "start_time": "2023-02-03T15:37:29.160Z"
   },
   {
    "duration": 50,
    "start_time": "2023-02-03T15:37:29.707Z"
   },
   {
    "duration": 12,
    "start_time": "2023-02-03T15:37:29.758Z"
   },
   {
    "duration": 43,
    "start_time": "2023-02-03T15:37:29.772Z"
   },
   {
    "duration": 3,
    "start_time": "2023-02-03T15:37:29.817Z"
   },
   {
    "duration": 10,
    "start_time": "2023-02-03T15:37:29.837Z"
   },
   {
    "duration": 211,
    "start_time": "2023-02-03T15:37:29.848Z"
   },
   {
    "duration": 35,
    "start_time": "2023-02-03T15:37:30.060Z"
   },
   {
    "duration": 74,
    "start_time": "2023-02-03T15:37:30.096Z"
   },
   {
    "duration": 4,
    "start_time": "2023-02-03T15:37:30.174Z"
   },
   {
    "duration": 31,
    "start_time": "2023-02-03T15:37:30.180Z"
   },
   {
    "duration": 42,
    "start_time": "2023-02-03T15:37:30.213Z"
   },
   {
    "duration": 24,
    "start_time": "2023-02-03T15:37:30.257Z"
   },
   {
    "duration": 61,
    "start_time": "2023-02-03T15:37:30.283Z"
   },
   {
    "duration": 29,
    "start_time": "2023-02-03T15:37:30.346Z"
   },
   {
    "duration": 22,
    "start_time": "2023-02-03T15:37:30.377Z"
   },
   {
    "duration": 64,
    "start_time": "2023-02-03T15:37:30.401Z"
   },
   {
    "duration": 7,
    "start_time": "2023-02-03T15:37:30.466Z"
   },
   {
    "duration": 13,
    "start_time": "2023-02-03T15:37:30.474Z"
   },
   {
    "duration": 33,
    "start_time": "2023-02-03T15:37:30.488Z"
   },
   {
    "duration": 41,
    "start_time": "2023-02-03T15:37:30.523Z"
   },
   {
    "duration": 27,
    "start_time": "2023-02-03T15:37:30.566Z"
   },
   {
    "duration": 29,
    "start_time": "2023-02-03T15:37:30.595Z"
   },
   {
    "duration": 23,
    "start_time": "2023-02-03T15:37:30.626Z"
   },
   {
    "duration": 14,
    "start_time": "2023-02-03T15:37:30.651Z"
   },
   {
    "duration": 42,
    "start_time": "2023-02-03T15:37:30.666Z"
   },
   {
    "duration": 6,
    "start_time": "2023-02-03T15:37:30.709Z"
   },
   {
    "duration": 63,
    "start_time": "2023-02-03T15:37:30.717Z"
   },
   {
    "duration": 8,
    "start_time": "2023-02-03T15:37:30.782Z"
   },
   {
    "duration": 33,
    "start_time": "2023-02-03T15:37:30.792Z"
   },
   {
    "duration": 30,
    "start_time": "2023-02-03T15:37:30.827Z"
   },
   {
    "duration": 19,
    "start_time": "2023-02-03T15:37:30.860Z"
   },
   {
    "duration": 36,
    "start_time": "2023-02-03T15:37:30.880Z"
   },
   {
    "duration": 12,
    "start_time": "2023-02-03T15:37:30.918Z"
   },
   {
    "duration": 15,
    "start_time": "2023-02-03T15:37:30.931Z"
   },
   {
    "duration": 13,
    "start_time": "2023-02-03T15:37:30.948Z"
   },
   {
    "duration": 22,
    "start_time": "2023-02-03T15:37:30.964Z"
   },
   {
    "duration": 31,
    "start_time": "2023-02-03T15:37:30.988Z"
   },
   {
    "duration": 32,
    "start_time": "2023-02-03T15:37:31.021Z"
   },
   {
    "duration": 30,
    "start_time": "2023-02-03T15:37:31.055Z"
   },
   {
    "duration": 29,
    "start_time": "2023-02-03T15:37:31.087Z"
   },
   {
    "duration": 15,
    "start_time": "2023-02-03T15:37:31.117Z"
   },
   {
    "duration": 19,
    "start_time": "2023-02-03T15:37:31.134Z"
   },
   {
    "duration": 30,
    "start_time": "2023-02-03T15:37:31.154Z"
   },
   {
    "duration": 1307,
    "start_time": "2023-02-04T05:50:22.808Z"
   },
   {
    "duration": 700,
    "start_time": "2023-02-04T05:50:24.117Z"
   },
   {
    "duration": 11,
    "start_time": "2023-02-04T05:50:24.818Z"
   },
   {
    "duration": 18,
    "start_time": "2023-02-04T05:50:24.831Z"
   },
   {
    "duration": 60,
    "start_time": "2023-02-04T05:50:24.851Z"
   },
   {
    "duration": 29,
    "start_time": "2023-02-04T05:50:24.913Z"
   },
   {
    "duration": 208,
    "start_time": "2023-02-04T05:50:24.943Z"
   },
   {
    "duration": 6,
    "start_time": "2023-02-04T05:50:25.152Z"
   },
   {
    "duration": 7,
    "start_time": "2023-02-04T05:50:25.159Z"
   },
   {
    "duration": 73,
    "start_time": "2023-02-04T05:50:25.167Z"
   },
   {
    "duration": 65,
    "start_time": "2023-02-04T05:50:25.241Z"
   },
   {
    "duration": 39,
    "start_time": "2023-02-04T05:50:25.307Z"
   },
   {
    "duration": 8,
    "start_time": "2023-02-04T05:50:25.347Z"
   },
   {
    "duration": 5,
    "start_time": "2023-02-04T05:50:25.358Z"
   },
   {
    "duration": 10,
    "start_time": "2023-02-04T05:50:25.364Z"
   },
   {
    "duration": 34,
    "start_time": "2023-02-04T05:50:25.376Z"
   },
   {
    "duration": 14,
    "start_time": "2023-02-04T05:50:25.437Z"
   },
   {
    "duration": 25,
    "start_time": "2023-02-04T05:50:25.453Z"
   },
   {
    "duration": 495,
    "start_time": "2023-02-04T05:50:25.479Z"
   },
   {
    "duration": 47,
    "start_time": "2023-02-04T05:50:25.976Z"
   },
   {
    "duration": 27,
    "start_time": "2023-02-04T05:50:26.025Z"
   },
   {
    "duration": 36,
    "start_time": "2023-02-04T05:50:26.053Z"
   },
   {
    "duration": 4,
    "start_time": "2023-02-04T05:50:26.091Z"
   },
   {
    "duration": 17,
    "start_time": "2023-02-04T05:50:26.097Z"
   },
   {
    "duration": 211,
    "start_time": "2023-02-04T05:50:26.115Z"
   },
   {
    "duration": 45,
    "start_time": "2023-02-04T05:50:26.328Z"
   },
   {
    "duration": 69,
    "start_time": "2023-02-04T05:50:26.375Z"
   },
   {
    "duration": 4,
    "start_time": "2023-02-04T05:50:26.446Z"
   },
   {
    "duration": 13,
    "start_time": "2023-02-04T05:50:26.452Z"
   },
   {
    "duration": 10,
    "start_time": "2023-02-04T05:50:26.466Z"
   },
   {
    "duration": 13,
    "start_time": "2023-02-04T05:50:26.478Z"
   },
   {
    "duration": 45,
    "start_time": "2023-02-04T05:50:26.493Z"
   },
   {
    "duration": 26,
    "start_time": "2023-02-04T05:50:26.540Z"
   },
   {
    "duration": 6,
    "start_time": "2023-02-04T05:50:26.567Z"
   },
   {
    "duration": 24,
    "start_time": "2023-02-04T05:50:26.575Z"
   },
   {
    "duration": 5,
    "start_time": "2023-02-04T05:50:26.601Z"
   },
   {
    "duration": 6,
    "start_time": "2023-02-04T05:50:26.607Z"
   },
   {
    "duration": 4,
    "start_time": "2023-02-04T05:50:26.637Z"
   },
   {
    "duration": 7,
    "start_time": "2023-02-04T05:50:26.642Z"
   },
   {
    "duration": 6,
    "start_time": "2023-02-04T05:50:26.650Z"
   },
   {
    "duration": 4,
    "start_time": "2023-02-04T05:50:26.661Z"
   },
   {
    "duration": 7,
    "start_time": "2023-02-04T05:50:26.667Z"
   },
   {
    "duration": 24,
    "start_time": "2023-02-04T05:50:26.676Z"
   },
   {
    "duration": 27,
    "start_time": "2023-02-04T05:50:26.702Z"
   },
   {
    "duration": 7,
    "start_time": "2023-02-04T05:50:26.731Z"
   },
   {
    "duration": 43,
    "start_time": "2023-02-04T05:50:26.740Z"
   },
   {
    "duration": 6,
    "start_time": "2023-02-04T05:50:26.784Z"
   },
   {
    "duration": 15,
    "start_time": "2023-02-04T05:50:26.792Z"
   },
   {
    "duration": 9,
    "start_time": "2023-02-04T05:50:26.808Z"
   },
   {
    "duration": 8,
    "start_time": "2023-02-04T05:50:26.836Z"
   },
   {
    "duration": 9,
    "start_time": "2023-02-04T05:50:26.846Z"
   },
   {
    "duration": 4,
    "start_time": "2023-02-04T05:50:26.856Z"
   },
   {
    "duration": 5,
    "start_time": "2023-02-04T05:50:26.862Z"
   },
   {
    "duration": 9,
    "start_time": "2023-02-04T05:50:26.868Z"
   },
   {
    "duration": 5,
    "start_time": "2023-02-04T05:50:26.878Z"
   },
   {
    "duration": 14,
    "start_time": "2023-02-04T05:50:26.884Z"
   },
   {
    "duration": 11,
    "start_time": "2023-02-04T05:50:26.899Z"
   },
   {
    "duration": 33,
    "start_time": "2023-02-04T05:50:26.911Z"
   },
   {
    "duration": 10,
    "start_time": "2023-02-04T05:50:26.945Z"
   },
   {
    "duration": 14,
    "start_time": "2023-02-04T05:50:26.956Z"
   },
   {
    "duration": 10,
    "start_time": "2023-02-04T05:50:26.971Z"
   },
   {
    "duration": 13,
    "start_time": "2023-02-04T05:50:26.982Z"
   },
   {
    "duration": 1368,
    "start_time": "2023-02-04T16:35:00.061Z"
   },
   {
    "duration": 838,
    "start_time": "2023-02-04T16:35:01.432Z"
   },
   {
    "duration": 13,
    "start_time": "2023-02-04T16:35:02.272Z"
   },
   {
    "duration": 33,
    "start_time": "2023-02-04T16:35:02.288Z"
   },
   {
    "duration": 90,
    "start_time": "2023-02-04T16:35:02.323Z"
   },
   {
    "duration": 19,
    "start_time": "2023-02-04T16:35:02.415Z"
   },
   {
    "duration": 221,
    "start_time": "2023-02-04T16:35:02.435Z"
   },
   {
    "duration": 9,
    "start_time": "2023-02-04T16:35:02.658Z"
   },
   {
    "duration": 3,
    "start_time": "2023-02-04T16:35:02.669Z"
   },
   {
    "duration": 42,
    "start_time": "2023-02-04T16:35:02.674Z"
   },
   {
    "duration": 5,
    "start_time": "2023-02-04T16:35:02.718Z"
   },
   {
    "duration": 83,
    "start_time": "2023-02-04T16:35:02.725Z"
   },
   {
    "duration": 976,
    "start_time": "2023-02-04T16:35:02.813Z"
   },
   {
    "duration": 0,
    "start_time": "2023-02-04T16:35:03.793Z"
   },
   {
    "duration": 0,
    "start_time": "2023-02-04T16:35:03.794Z"
   },
   {
    "duration": 0,
    "start_time": "2023-02-04T16:35:03.796Z"
   },
   {
    "duration": 0,
    "start_time": "2023-02-04T16:35:03.798Z"
   },
   {
    "duration": 0,
    "start_time": "2023-02-04T16:35:03.799Z"
   },
   {
    "duration": 0,
    "start_time": "2023-02-04T16:35:03.801Z"
   },
   {
    "duration": 0,
    "start_time": "2023-02-04T16:35:03.802Z"
   },
   {
    "duration": 0,
    "start_time": "2023-02-04T16:35:03.804Z"
   },
   {
    "duration": 0,
    "start_time": "2023-02-04T16:35:03.806Z"
   },
   {
    "duration": 0,
    "start_time": "2023-02-04T16:35:03.807Z"
   },
   {
    "duration": 0,
    "start_time": "2023-02-04T16:35:03.809Z"
   },
   {
    "duration": 0,
    "start_time": "2023-02-04T16:35:03.810Z"
   },
   {
    "duration": 0,
    "start_time": "2023-02-04T16:35:03.812Z"
   },
   {
    "duration": 0,
    "start_time": "2023-02-04T16:35:03.813Z"
   },
   {
    "duration": 0,
    "start_time": "2023-02-04T16:35:03.815Z"
   },
   {
    "duration": 0,
    "start_time": "2023-02-04T16:35:03.817Z"
   },
   {
    "duration": 0,
    "start_time": "2023-02-04T16:35:03.818Z"
   },
   {
    "duration": 0,
    "start_time": "2023-02-04T16:35:03.820Z"
   },
   {
    "duration": 0,
    "start_time": "2023-02-04T16:35:03.821Z"
   },
   {
    "duration": 0,
    "start_time": "2023-02-04T16:35:03.823Z"
   },
   {
    "duration": 0,
    "start_time": "2023-02-04T16:35:03.825Z"
   },
   {
    "duration": 0,
    "start_time": "2023-02-04T16:35:03.826Z"
   },
   {
    "duration": 0,
    "start_time": "2023-02-04T16:35:03.828Z"
   },
   {
    "duration": 0,
    "start_time": "2023-02-04T16:35:03.829Z"
   },
   {
    "duration": 0,
    "start_time": "2023-02-04T16:35:03.831Z"
   },
   {
    "duration": 0,
    "start_time": "2023-02-04T16:35:03.832Z"
   },
   {
    "duration": 0,
    "start_time": "2023-02-04T16:35:03.833Z"
   },
   {
    "duration": 0,
    "start_time": "2023-02-04T16:35:03.835Z"
   },
   {
    "duration": 0,
    "start_time": "2023-02-04T16:35:03.836Z"
   },
   {
    "duration": 0,
    "start_time": "2023-02-04T16:35:03.837Z"
   },
   {
    "duration": 0,
    "start_time": "2023-02-04T16:35:03.839Z"
   },
   {
    "duration": 0,
    "start_time": "2023-02-04T16:35:03.894Z"
   },
   {
    "duration": 0,
    "start_time": "2023-02-04T16:35:03.894Z"
   },
   {
    "duration": 0,
    "start_time": "2023-02-04T16:35:03.897Z"
   },
   {
    "duration": 0,
    "start_time": "2023-02-04T16:35:03.898Z"
   },
   {
    "duration": 0,
    "start_time": "2023-02-04T16:35:03.900Z"
   },
   {
    "duration": 0,
    "start_time": "2023-02-04T16:35:03.906Z"
   },
   {
    "duration": 0,
    "start_time": "2023-02-04T16:35:03.907Z"
   },
   {
    "duration": 0,
    "start_time": "2023-02-04T16:35:03.908Z"
   },
   {
    "duration": 0,
    "start_time": "2023-02-04T16:35:03.909Z"
   },
   {
    "duration": 0,
    "start_time": "2023-02-04T16:35:03.910Z"
   },
   {
    "duration": 0,
    "start_time": "2023-02-04T16:35:03.911Z"
   },
   {
    "duration": 0,
    "start_time": "2023-02-04T16:35:03.912Z"
   },
   {
    "duration": 0,
    "start_time": "2023-02-04T16:35:03.912Z"
   },
   {
    "duration": 0,
    "start_time": "2023-02-04T16:35:03.913Z"
   },
   {
    "duration": 0,
    "start_time": "2023-02-04T16:35:03.914Z"
   },
   {
    "duration": 0,
    "start_time": "2023-02-04T16:35:03.915Z"
   },
   {
    "duration": 0,
    "start_time": "2023-02-04T16:35:03.916Z"
   },
   {
    "duration": 0,
    "start_time": "2023-02-04T16:35:03.917Z"
   },
   {
    "duration": 0,
    "start_time": "2023-02-04T16:35:03.918Z"
   },
   {
    "duration": 1,
    "start_time": "2023-02-04T16:35:03.918Z"
   },
   {
    "duration": 7,
    "start_time": "2023-02-04T16:35:41.465Z"
   },
   {
    "duration": 122,
    "start_time": "2023-02-04T16:35:44.244Z"
   },
   {
    "duration": 53,
    "start_time": "2023-02-04T16:35:45.779Z"
   },
   {
    "duration": 10,
    "start_time": "2023-02-04T16:35:53.646Z"
   },
   {
    "duration": 55,
    "start_time": "2023-02-04T16:36:56.885Z"
   },
   {
    "duration": 1352,
    "start_time": "2023-02-04T16:39:09.327Z"
   },
   {
    "duration": 236,
    "start_time": "2023-02-04T16:39:10.683Z"
   },
   {
    "duration": 15,
    "start_time": "2023-02-04T16:39:10.921Z"
   },
   {
    "duration": 42,
    "start_time": "2023-02-04T16:39:10.938Z"
   },
   {
    "duration": 90,
    "start_time": "2023-02-04T16:39:10.983Z"
   },
   {
    "duration": 40,
    "start_time": "2023-02-04T16:39:11.075Z"
   },
   {
    "duration": 303,
    "start_time": "2023-02-04T16:39:11.117Z"
   },
   {
    "duration": 7,
    "start_time": "2023-02-04T16:39:11.422Z"
   },
   {
    "duration": 12,
    "start_time": "2023-02-04T16:39:11.431Z"
   },
   {
    "duration": 110,
    "start_time": "2023-02-04T16:39:11.446Z"
   },
   {
    "duration": 116,
    "start_time": "2023-02-04T16:39:11.557Z"
   },
   {
    "duration": 57,
    "start_time": "2023-02-04T16:39:11.675Z"
   },
   {
    "duration": 12,
    "start_time": "2023-02-04T16:39:11.734Z"
   },
   {
    "duration": 8,
    "start_time": "2023-02-04T16:39:11.748Z"
   },
   {
    "duration": 13,
    "start_time": "2023-02-04T16:39:11.759Z"
   },
   {
    "duration": 59,
    "start_time": "2023-02-04T16:39:11.795Z"
   },
   {
    "duration": 27,
    "start_time": "2023-02-04T16:39:11.855Z"
   },
   {
    "duration": 31,
    "start_time": "2023-02-04T16:39:11.894Z"
   },
   {
    "duration": 724,
    "start_time": "2023-02-04T16:39:11.928Z"
   },
   {
    "duration": 72,
    "start_time": "2023-02-04T16:39:12.655Z"
   },
   {
    "duration": 16,
    "start_time": "2023-02-04T16:39:12.728Z"
   },
   {
    "duration": 55,
    "start_time": "2023-02-04T16:39:12.746Z"
   },
   {
    "duration": 5,
    "start_time": "2023-02-04T16:39:12.803Z"
   },
   {
    "duration": 26,
    "start_time": "2023-02-04T16:39:12.809Z"
   },
   {
    "duration": 302,
    "start_time": "2023-02-04T16:39:12.837Z"
   },
   {
    "duration": 66,
    "start_time": "2023-02-04T16:39:13.142Z"
   },
   {
    "duration": 63,
    "start_time": "2023-02-04T16:39:13.214Z"
   },
   {
    "duration": 6,
    "start_time": "2023-02-04T16:39:13.281Z"
   },
   {
    "duration": 32,
    "start_time": "2023-02-04T16:39:13.294Z"
   },
   {
    "duration": 13,
    "start_time": "2023-02-04T16:39:13.328Z"
   },
   {
    "duration": 17,
    "start_time": "2023-02-04T16:39:13.343Z"
   },
   {
    "duration": 58,
    "start_time": "2023-02-04T16:39:13.362Z"
   },
   {
    "duration": 43,
    "start_time": "2023-02-04T16:39:13.422Z"
   },
   {
    "duration": 8,
    "start_time": "2023-02-04T16:39:13.467Z"
   },
   {
    "duration": 72,
    "start_time": "2023-02-04T16:39:13.476Z"
   },
   {
    "duration": 8,
    "start_time": "2023-02-04T16:39:13.549Z"
   },
   {
    "duration": 10,
    "start_time": "2023-02-04T16:39:13.558Z"
   },
   {
    "duration": 6,
    "start_time": "2023-02-04T16:39:13.570Z"
   },
   {
    "duration": 8,
    "start_time": "2023-02-04T16:39:13.578Z"
   },
   {
    "duration": 38,
    "start_time": "2023-02-04T16:39:13.588Z"
   },
   {
    "duration": 8,
    "start_time": "2023-02-04T16:39:13.628Z"
   },
   {
    "duration": 10,
    "start_time": "2023-02-04T16:39:13.638Z"
   },
   {
    "duration": 12,
    "start_time": "2023-02-04T16:39:13.650Z"
   },
   {
    "duration": 41,
    "start_time": "2023-02-04T16:39:13.664Z"
   },
   {
    "duration": 6,
    "start_time": "2023-02-04T16:39:13.709Z"
   },
   {
    "duration": 75,
    "start_time": "2023-02-04T16:39:13.725Z"
   },
   {
    "duration": 13,
    "start_time": "2023-02-04T16:39:13.802Z"
   },
   {
    "duration": 34,
    "start_time": "2023-02-04T16:39:13.817Z"
   },
   {
    "duration": 27,
    "start_time": "2023-02-04T16:39:13.853Z"
   },
   {
    "duration": 37,
    "start_time": "2023-02-04T16:39:13.882Z"
   },
   {
    "duration": 29,
    "start_time": "2023-02-04T16:39:13.920Z"
   },
   {
    "duration": 10,
    "start_time": "2023-02-04T16:39:13.952Z"
   },
   {
    "duration": 21,
    "start_time": "2023-02-04T16:39:13.964Z"
   },
   {
    "duration": 27,
    "start_time": "2023-02-04T16:39:13.991Z"
   },
   {
    "duration": 37,
    "start_time": "2023-02-04T16:39:14.020Z"
   },
   {
    "duration": 92,
    "start_time": "2023-02-04T16:39:14.059Z"
   },
   {
    "duration": 16,
    "start_time": "2023-02-04T16:39:14.153Z"
   },
   {
    "duration": 84,
    "start_time": "2023-02-04T16:39:14.171Z"
   },
   {
    "duration": 23,
    "start_time": "2023-02-04T16:39:14.256Z"
   },
   {
    "duration": 74,
    "start_time": "2023-02-04T16:39:14.282Z"
   },
   {
    "duration": 45,
    "start_time": "2023-02-04T16:39:14.358Z"
   },
   {
    "duration": 93,
    "start_time": "2023-02-04T16:39:14.405Z"
   },
   {
    "duration": 543,
    "start_time": "2023-02-04T16:40:02.279Z"
   },
   {
    "duration": 1323,
    "start_time": "2023-02-04T16:40:18.060Z"
   },
   {
    "duration": 246,
    "start_time": "2023-02-04T16:40:19.386Z"
   },
   {
    "duration": 12,
    "start_time": "2023-02-04T16:40:19.634Z"
   },
   {
    "duration": 23,
    "start_time": "2023-02-04T16:40:19.649Z"
   },
   {
    "duration": 88,
    "start_time": "2023-02-04T16:40:19.674Z"
   },
   {
    "duration": 45,
    "start_time": "2023-02-04T16:40:19.764Z"
   },
   {
    "duration": 304,
    "start_time": "2023-02-04T16:40:19.812Z"
   },
   {
    "duration": 12,
    "start_time": "2023-02-04T16:40:20.118Z"
   },
   {
    "duration": 27,
    "start_time": "2023-02-04T16:40:20.132Z"
   },
   {
    "duration": 103,
    "start_time": "2023-02-04T16:40:20.165Z"
   },
   {
    "duration": 118,
    "start_time": "2023-02-04T16:40:20.270Z"
   },
   {
    "duration": 62,
    "start_time": "2023-02-04T16:40:20.390Z"
   },
   {
    "duration": 12,
    "start_time": "2023-02-04T16:40:20.454Z"
   },
   {
    "duration": 15,
    "start_time": "2023-02-04T16:40:20.468Z"
   },
   {
    "duration": 44,
    "start_time": "2023-02-04T16:40:20.485Z"
   },
   {
    "duration": 66,
    "start_time": "2023-02-04T16:40:20.531Z"
   },
   {
    "duration": 35,
    "start_time": "2023-02-04T16:40:20.601Z"
   },
   {
    "duration": 44,
    "start_time": "2023-02-04T16:40:20.638Z"
   },
   {
    "duration": 805,
    "start_time": "2023-02-04T16:40:20.685Z"
   },
   {
    "duration": 77,
    "start_time": "2023-02-04T16:40:21.493Z"
   },
   {
    "duration": 41,
    "start_time": "2023-02-04T16:40:21.572Z"
   },
   {
    "duration": 68,
    "start_time": "2023-02-04T16:40:21.615Z"
   },
   {
    "duration": 8,
    "start_time": "2023-02-04T16:40:21.685Z"
   },
   {
    "duration": 38,
    "start_time": "2023-02-04T16:40:21.698Z"
   },
   {
    "duration": 271,
    "start_time": "2023-02-04T16:40:21.738Z"
   },
   {
    "duration": 47,
    "start_time": "2023-02-04T16:40:22.017Z"
   },
   {
    "duration": 85,
    "start_time": "2023-02-04T16:40:22.066Z"
   },
   {
    "duration": 6,
    "start_time": "2023-02-04T16:40:22.155Z"
   },
   {
    "duration": 15,
    "start_time": "2023-02-04T16:40:22.162Z"
   },
   {
    "duration": 32,
    "start_time": "2023-02-04T16:40:22.179Z"
   },
   {
    "duration": 60,
    "start_time": "2023-02-04T16:40:22.213Z"
   },
   {
    "duration": 56,
    "start_time": "2023-02-04T16:40:22.276Z"
   },
   {
    "duration": 32,
    "start_time": "2023-02-04T16:40:22.335Z"
   },
   {
    "duration": 8,
    "start_time": "2023-02-04T16:40:22.370Z"
   },
   {
    "duration": 53,
    "start_time": "2023-02-04T16:40:22.397Z"
   },
   {
    "duration": 7,
    "start_time": "2023-02-04T16:40:22.452Z"
   },
   {
    "duration": 12,
    "start_time": "2023-02-04T16:40:22.462Z"
   },
   {
    "duration": 6,
    "start_time": "2023-02-04T16:40:22.476Z"
   },
   {
    "duration": 6,
    "start_time": "2023-02-04T16:40:22.484Z"
   },
   {
    "duration": 25,
    "start_time": "2023-02-04T16:40:22.493Z"
   },
   {
    "duration": 7,
    "start_time": "2023-02-04T16:40:22.520Z"
   },
   {
    "duration": 5,
    "start_time": "2023-02-04T16:40:22.529Z"
   },
   {
    "duration": 8,
    "start_time": "2023-02-04T16:40:22.536Z"
   },
   {
    "duration": 41,
    "start_time": "2023-02-04T16:40:22.547Z"
   },
   {
    "duration": 24,
    "start_time": "2023-02-04T16:40:22.591Z"
   },
   {
    "duration": 64,
    "start_time": "2023-02-04T16:40:22.618Z"
   },
   {
    "duration": 9,
    "start_time": "2023-02-04T16:40:22.684Z"
   },
   {
    "duration": 32,
    "start_time": "2023-02-04T16:40:22.695Z"
   },
   {
    "duration": 9,
    "start_time": "2023-02-04T16:40:22.729Z"
   },
   {
    "duration": 12,
    "start_time": "2023-02-04T16:40:22.740Z"
   },
   {
    "duration": 16,
    "start_time": "2023-02-04T16:40:22.754Z"
   },
   {
    "duration": 5,
    "start_time": "2023-02-04T16:40:22.771Z"
   },
   {
    "duration": 9,
    "start_time": "2023-02-04T16:40:22.778Z"
   },
   {
    "duration": 33,
    "start_time": "2023-02-04T16:40:22.789Z"
   },
   {
    "duration": 6,
    "start_time": "2023-02-04T16:40:22.824Z"
   },
   {
    "duration": 17,
    "start_time": "2023-02-04T16:40:22.832Z"
   },
   {
    "duration": 14,
    "start_time": "2023-02-04T16:40:22.851Z"
   },
   {
    "duration": 20,
    "start_time": "2023-02-04T16:40:22.867Z"
   },
   {
    "duration": 50,
    "start_time": "2023-02-04T16:40:22.890Z"
   },
   {
    "duration": 24,
    "start_time": "2023-02-04T16:40:22.942Z"
   },
   {
    "duration": 21,
    "start_time": "2023-02-04T16:40:22.968Z"
   },
   {
    "duration": 72,
    "start_time": "2023-02-04T16:40:22.991Z"
   },
   {
    "duration": 725,
    "start_time": "2023-02-04T16:44:23.615Z"
   },
   {
    "duration": 1225,
    "start_time": "2023-02-04T16:44:55.286Z"
   },
   {
    "duration": 171,
    "start_time": "2023-02-04T16:44:56.513Z"
   },
   {
    "duration": 25,
    "start_time": "2023-02-04T16:44:56.686Z"
   },
   {
    "duration": 35,
    "start_time": "2023-02-04T16:44:56.715Z"
   },
   {
    "duration": 91,
    "start_time": "2023-02-04T16:44:56.752Z"
   },
   {
    "duration": 21,
    "start_time": "2023-02-04T16:44:56.845Z"
   },
   {
    "duration": 248,
    "start_time": "2023-02-04T16:44:56.868Z"
   },
   {
    "duration": 7,
    "start_time": "2023-02-04T16:44:57.118Z"
   },
   {
    "duration": 8,
    "start_time": "2023-02-04T16:44:57.128Z"
   },
   {
    "duration": 113,
    "start_time": "2023-02-04T16:44:57.139Z"
   },
   {
    "duration": 121,
    "start_time": "2023-02-04T16:44:57.254Z"
   },
   {
    "duration": 54,
    "start_time": "2023-02-04T16:44:57.377Z"
   },
   {
    "duration": 8,
    "start_time": "2023-02-04T16:44:57.433Z"
   },
   {
    "duration": 7,
    "start_time": "2023-02-04T16:44:57.443Z"
   },
   {
    "duration": 12,
    "start_time": "2023-02-04T16:44:57.452Z"
   },
   {
    "duration": 63,
    "start_time": "2023-02-04T16:44:57.466Z"
   },
   {
    "duration": 23,
    "start_time": "2023-02-04T16:44:57.532Z"
   },
   {
    "duration": 49,
    "start_time": "2023-02-04T16:44:57.556Z"
   },
   {
    "duration": 26,
    "start_time": "2023-02-04T16:44:57.606Z"
   },
   {
    "duration": 672,
    "start_time": "2023-02-04T16:44:57.634Z"
   },
   {
    "duration": 71,
    "start_time": "2023-02-04T16:44:58.312Z"
   },
   {
    "duration": 21,
    "start_time": "2023-02-04T16:44:58.385Z"
   },
   {
    "duration": 81,
    "start_time": "2023-02-04T16:44:58.407Z"
   },
   {
    "duration": 9,
    "start_time": "2023-02-04T16:44:58.491Z"
   },
   {
    "duration": 22,
    "start_time": "2023-02-04T16:44:58.512Z"
   },
   {
    "duration": 298,
    "start_time": "2023-02-04T16:44:58.536Z"
   },
   {
    "duration": 43,
    "start_time": "2023-02-04T16:44:58.836Z"
   },
   {
    "duration": 72,
    "start_time": "2023-02-04T16:44:58.893Z"
   },
   {
    "duration": 4,
    "start_time": "2023-02-04T16:44:58.967Z"
   },
   {
    "duration": 10,
    "start_time": "2023-02-04T16:44:58.973Z"
   },
   {
    "duration": 30,
    "start_time": "2023-02-04T16:44:58.993Z"
   },
   {
    "duration": 12,
    "start_time": "2023-02-04T16:44:59.024Z"
   },
   {
    "duration": 39,
    "start_time": "2023-02-04T16:44:59.038Z"
   },
   {
    "duration": 38,
    "start_time": "2023-02-04T16:44:59.079Z"
   },
   {
    "duration": 7,
    "start_time": "2023-02-04T16:44:59.119Z"
   },
   {
    "duration": 26,
    "start_time": "2023-02-04T16:44:59.128Z"
   },
   {
    "duration": 6,
    "start_time": "2023-02-04T16:44:59.155Z"
   },
   {
    "duration": 7,
    "start_time": "2023-02-04T16:44:59.163Z"
   },
   {
    "duration": 16,
    "start_time": "2023-02-04T16:44:59.172Z"
   },
   {
    "duration": 29,
    "start_time": "2023-02-04T16:44:59.190Z"
   },
   {
    "duration": 6,
    "start_time": "2023-02-04T16:44:59.221Z"
   },
   {
    "duration": 13,
    "start_time": "2023-02-04T16:44:59.229Z"
   },
   {
    "duration": 10,
    "start_time": "2023-02-04T16:44:59.243Z"
   },
   {
    "duration": 7,
    "start_time": "2023-02-04T16:44:59.255Z"
   },
   {
    "duration": 31,
    "start_time": "2023-02-04T16:44:59.264Z"
   },
   {
    "duration": 14,
    "start_time": "2023-02-04T16:44:59.301Z"
   },
   {
    "duration": 63,
    "start_time": "2023-02-04T16:44:59.318Z"
   },
   {
    "duration": 8,
    "start_time": "2023-02-04T16:44:59.383Z"
   },
   {
    "duration": 33,
    "start_time": "2023-02-04T16:44:59.393Z"
   },
   {
    "duration": 10,
    "start_time": "2023-02-04T16:44:59.428Z"
   },
   {
    "duration": 8,
    "start_time": "2023-02-04T16:44:59.440Z"
   },
   {
    "duration": 11,
    "start_time": "2023-02-04T16:44:59.450Z"
   },
   {
    "duration": 9,
    "start_time": "2023-02-04T16:44:59.464Z"
   },
   {
    "duration": 13,
    "start_time": "2023-02-04T16:44:59.475Z"
   },
   {
    "duration": 44,
    "start_time": "2023-02-04T16:44:59.490Z"
   },
   {
    "duration": 9,
    "start_time": "2023-02-04T16:44:59.538Z"
   },
   {
    "duration": 24,
    "start_time": "2023-02-04T16:44:59.550Z"
   },
   {
    "duration": 24,
    "start_time": "2023-02-04T16:44:59.578Z"
   },
   {
    "duration": 38,
    "start_time": "2023-02-04T16:44:59.604Z"
   },
   {
    "duration": 11,
    "start_time": "2023-02-04T16:44:59.643Z"
   },
   {
    "duration": 10,
    "start_time": "2023-02-04T16:44:59.656Z"
   },
   {
    "duration": 11,
    "start_time": "2023-02-04T16:44:59.667Z"
   },
   {
    "duration": 26,
    "start_time": "2023-02-04T16:44:59.680Z"
   },
   {
    "duration": 806,
    "start_time": "2023-02-04T16:45:17.652Z"
   },
   {
    "duration": 741,
    "start_time": "2023-02-04T16:47:16.260Z"
   },
   {
    "duration": 1412,
    "start_time": "2023-02-04T16:47:27.615Z"
   },
   {
    "duration": 1762,
    "start_time": "2023-02-04T16:47:37.582Z"
   },
   {
    "duration": 575,
    "start_time": "2023-02-04T16:48:36.731Z"
   },
   {
    "duration": 610,
    "start_time": "2023-02-04T16:51:05.362Z"
   },
   {
    "duration": 563,
    "start_time": "2023-02-04T17:04:06.155Z"
   },
   {
    "duration": 607,
    "start_time": "2023-02-04T17:04:17.723Z"
   },
   {
    "duration": 676,
    "start_time": "2023-02-04T17:04:33.885Z"
   },
   {
    "duration": 531,
    "start_time": "2023-02-04T17:05:37.439Z"
   },
   {
    "duration": 768,
    "start_time": "2023-02-04T17:08:19.970Z"
   },
   {
    "duration": 178,
    "start_time": "2023-02-04T17:11:46.780Z"
   },
   {
    "duration": 608,
    "start_time": "2023-02-04T17:11:54.962Z"
   },
   {
    "duration": 529,
    "start_time": "2023-02-04T17:13:30.023Z"
   },
   {
    "duration": 642,
    "start_time": "2023-02-04T17:13:52.678Z"
   },
   {
    "duration": 688,
    "start_time": "2023-02-04T17:13:56.127Z"
   },
   {
    "duration": 761,
    "start_time": "2023-02-04T17:14:00.773Z"
   },
   {
    "duration": 1351,
    "start_time": "2023-02-04T17:18:34.292Z"
   },
   {
    "duration": 224,
    "start_time": "2023-02-04T17:18:35.646Z"
   },
   {
    "duration": 13,
    "start_time": "2023-02-04T17:18:35.872Z"
   },
   {
    "duration": 49,
    "start_time": "2023-02-04T17:18:35.895Z"
   },
   {
    "duration": 82,
    "start_time": "2023-02-04T17:18:35.946Z"
   },
   {
    "duration": 22,
    "start_time": "2023-02-04T17:18:36.033Z"
   },
   {
    "duration": 217,
    "start_time": "2023-02-04T17:18:36.057Z"
   },
   {
    "duration": 31,
    "start_time": "2023-02-04T17:18:36.276Z"
   },
   {
    "duration": 11,
    "start_time": "2023-02-04T17:18:36.309Z"
   },
   {
    "duration": 99,
    "start_time": "2023-02-04T17:18:36.324Z"
   },
   {
    "duration": 83,
    "start_time": "2023-02-04T17:18:36.424Z"
   },
   {
    "duration": 40,
    "start_time": "2023-02-04T17:18:36.511Z"
   },
   {
    "duration": 10,
    "start_time": "2023-02-04T17:18:36.553Z"
   },
   {
    "duration": 10,
    "start_time": "2023-02-04T17:18:36.565Z"
   },
   {
    "duration": 30,
    "start_time": "2023-02-04T17:18:36.577Z"
   },
   {
    "duration": 55,
    "start_time": "2023-02-04T17:18:36.609Z"
   },
   {
    "duration": 17,
    "start_time": "2023-02-04T17:18:36.666Z"
   },
   {
    "duration": 36,
    "start_time": "2023-02-04T17:18:36.685Z"
   },
   {
    "duration": 3,
    "start_time": "2023-02-04T17:18:36.723Z"
   },
   {
    "duration": 727,
    "start_time": "2023-02-04T17:18:36.727Z"
   },
   {
    "duration": 84,
    "start_time": "2023-02-04T17:18:37.456Z"
   },
   {
    "duration": 19,
    "start_time": "2023-02-04T17:18:37.542Z"
   },
   {
    "duration": 61,
    "start_time": "2023-02-04T17:18:37.563Z"
   },
   {
    "duration": 4,
    "start_time": "2023-02-04T17:18:37.626Z"
   },
   {
    "duration": 19,
    "start_time": "2023-02-04T17:18:37.632Z"
   },
   {
    "duration": 251,
    "start_time": "2023-02-04T17:18:37.653Z"
   },
   {
    "duration": 40,
    "start_time": "2023-02-04T17:18:37.906Z"
   },
   {
    "duration": 92,
    "start_time": "2023-02-04T17:18:37.951Z"
   },
   {
    "duration": 4,
    "start_time": "2023-02-04T17:18:38.045Z"
   },
   {
    "duration": 12,
    "start_time": "2023-02-04T17:18:38.050Z"
   },
   {
    "duration": 11,
    "start_time": "2023-02-04T17:18:38.064Z"
   },
   {
    "duration": 49,
    "start_time": "2023-02-04T17:18:38.077Z"
   },
   {
    "duration": 38,
    "start_time": "2023-02-04T17:18:38.128Z"
   },
   {
    "duration": 59,
    "start_time": "2023-02-04T17:18:38.169Z"
   },
   {
    "duration": 8,
    "start_time": "2023-02-04T17:18:38.230Z"
   },
   {
    "duration": 40,
    "start_time": "2023-02-04T17:18:38.239Z"
   },
   {
    "duration": 7,
    "start_time": "2023-02-04T17:18:38.282Z"
   },
   {
    "duration": 37,
    "start_time": "2023-02-04T17:18:38.291Z"
   },
   {
    "duration": 18,
    "start_time": "2023-02-04T17:18:38.330Z"
   },
   {
    "duration": 20,
    "start_time": "2023-02-04T17:18:38.350Z"
   },
   {
    "duration": 23,
    "start_time": "2023-02-04T17:18:38.372Z"
   },
   {
    "duration": 42,
    "start_time": "2023-02-04T17:18:38.397Z"
   },
   {
    "duration": 11,
    "start_time": "2023-02-04T17:18:38.442Z"
   },
   {
    "duration": 9,
    "start_time": "2023-02-04T17:18:38.455Z"
   },
   {
    "duration": 54,
    "start_time": "2023-02-04T17:18:38.466Z"
   },
   {
    "duration": 7,
    "start_time": "2023-02-04T17:18:38.521Z"
   },
   {
    "duration": 55,
    "start_time": "2023-02-04T17:18:38.531Z"
   },
   {
    "duration": 9,
    "start_time": "2023-02-04T17:18:38.588Z"
   },
   {
    "duration": 36,
    "start_time": "2023-02-04T17:18:38.598Z"
   },
   {
    "duration": 16,
    "start_time": "2023-02-04T17:18:38.636Z"
   },
   {
    "duration": 9,
    "start_time": "2023-02-04T17:18:38.654Z"
   },
   {
    "duration": 38,
    "start_time": "2023-02-04T17:18:38.665Z"
   },
   {
    "duration": 19,
    "start_time": "2023-02-04T17:18:38.705Z"
   },
   {
    "duration": 7,
    "start_time": "2023-02-04T17:18:38.726Z"
   },
   {
    "duration": 17,
    "start_time": "2023-02-04T17:18:38.734Z"
   },
   {
    "duration": 8,
    "start_time": "2023-02-04T17:18:38.753Z"
   },
   {
    "duration": 21,
    "start_time": "2023-02-04T17:18:38.762Z"
   },
   {
    "duration": 13,
    "start_time": "2023-02-04T17:18:38.785Z"
   },
   {
    "duration": 34,
    "start_time": "2023-02-04T17:18:38.799Z"
   },
   {
    "duration": 15,
    "start_time": "2023-02-04T17:18:38.835Z"
   },
   {
    "duration": 8,
    "start_time": "2023-02-04T17:18:38.852Z"
   },
   {
    "duration": 15,
    "start_time": "2023-02-04T17:18:38.862Z"
   },
   {
    "duration": 23,
    "start_time": "2023-02-04T17:18:38.879Z"
   },
   {
    "duration": 819,
    "start_time": "2023-02-04T17:19:27.996Z"
   },
   {
    "duration": 795,
    "start_time": "2023-02-04T17:19:53.762Z"
   },
   {
    "duration": 218,
    "start_time": "2023-02-04T17:27:12.034Z"
   },
   {
    "duration": 576,
    "start_time": "2023-02-04T17:27:20.839Z"
   },
   {
    "duration": 69,
    "start_time": "2023-02-04T17:30:16.371Z"
   },
   {
    "duration": 132,
    "start_time": "2023-02-04T17:30:50.885Z"
   },
   {
    "duration": 13,
    "start_time": "2023-02-04T17:30:51.839Z"
   },
   {
    "duration": 8,
    "start_time": "2023-02-04T17:31:02.059Z"
   },
   {
    "duration": 5,
    "start_time": "2023-02-04T17:31:08.622Z"
   },
   {
    "duration": 71,
    "start_time": "2023-02-04T17:47:06.883Z"
   },
   {
    "duration": 9,
    "start_time": "2023-02-04T17:48:25.388Z"
   },
   {
    "duration": 76,
    "start_time": "2023-02-04T17:49:01.554Z"
   },
   {
    "duration": 873,
    "start_time": "2023-02-04T17:55:11.654Z"
   },
   {
    "duration": 75,
    "start_time": "2023-02-04T17:55:58.383Z"
   },
   {
    "duration": 60,
    "start_time": "2023-02-04T17:56:29.353Z"
   },
   {
    "duration": 58,
    "start_time": "2023-02-04T17:56:53.556Z"
   },
   {
    "duration": 11,
    "start_time": "2023-02-04T17:57:02.008Z"
   },
   {
    "duration": 1189,
    "start_time": "2023-02-04T17:58:27.155Z"
   },
   {
    "duration": 199,
    "start_time": "2023-02-04T17:58:28.346Z"
   },
   {
    "duration": 12,
    "start_time": "2023-02-04T17:58:28.547Z"
   },
   {
    "duration": 25,
    "start_time": "2023-02-04T17:58:28.561Z"
   },
   {
    "duration": 79,
    "start_time": "2023-02-04T17:58:28.595Z"
   },
   {
    "duration": 46,
    "start_time": "2023-02-04T17:58:28.676Z"
   },
   {
    "duration": 224,
    "start_time": "2023-02-04T17:58:28.726Z"
   },
   {
    "duration": 7,
    "start_time": "2023-02-04T17:58:28.951Z"
   },
   {
    "duration": 8,
    "start_time": "2023-02-04T17:58:28.960Z"
   },
   {
    "duration": 98,
    "start_time": "2023-02-04T17:58:28.971Z"
   },
   {
    "duration": 97,
    "start_time": "2023-02-04T17:58:29.071Z"
   },
   {
    "duration": 37,
    "start_time": "2023-02-04T17:58:29.170Z"
   },
   {
    "duration": 15,
    "start_time": "2023-02-04T17:58:29.209Z"
   },
   {
    "duration": 9,
    "start_time": "2023-02-04T17:58:29.225Z"
   },
   {
    "duration": 13,
    "start_time": "2023-02-04T17:58:29.235Z"
   },
   {
    "duration": 57,
    "start_time": "2023-02-04T17:58:29.249Z"
   },
   {
    "duration": 27,
    "start_time": "2023-02-04T17:58:29.308Z"
   },
   {
    "duration": 16,
    "start_time": "2023-02-04T17:58:29.336Z"
   },
   {
    "duration": 701,
    "start_time": "2023-02-04T17:58:29.353Z"
   },
   {
    "duration": 48,
    "start_time": "2023-02-04T17:58:30.056Z"
   },
   {
    "duration": 31,
    "start_time": "2023-02-04T17:58:30.106Z"
   },
   {
    "duration": 40,
    "start_time": "2023-02-04T17:58:30.139Z"
   },
   {
    "duration": 20,
    "start_time": "2023-02-04T17:58:30.181Z"
   },
   {
    "duration": 31,
    "start_time": "2023-02-04T17:58:30.208Z"
   },
   {
    "duration": 243,
    "start_time": "2023-02-04T17:58:30.241Z"
   },
   {
    "duration": 55,
    "start_time": "2023-02-04T17:58:30.486Z"
   },
   {
    "duration": 5,
    "start_time": "2023-02-04T17:58:30.543Z"
   },
   {
    "duration": 81,
    "start_time": "2023-02-04T17:58:30.552Z"
   },
   {
    "duration": 24,
    "start_time": "2023-02-04T17:58:30.635Z"
   },
   {
    "duration": 43,
    "start_time": "2023-02-04T17:58:30.661Z"
   },
   {
    "duration": 22,
    "start_time": "2023-02-04T17:58:30.710Z"
   },
   {
    "duration": 22,
    "start_time": "2023-02-04T17:58:30.734Z"
   },
   {
    "duration": 26,
    "start_time": "2023-02-04T17:58:30.758Z"
   },
   {
    "duration": 577,
    "start_time": "2023-02-04T17:58:30.786Z"
   },
   {
    "duration": 65,
    "start_time": "2023-02-04T17:58:31.365Z"
   },
   {
    "duration": 213,
    "start_time": "2023-02-04T17:58:31.432Z"
   },
   {
    "duration": 10,
    "start_time": "2023-02-04T17:58:31.646Z"
   },
   {
    "duration": 12,
    "start_time": "2023-02-04T17:58:31.658Z"
   },
   {
    "duration": 79,
    "start_time": "2023-02-04T17:58:31.673Z"
   },
   {
    "duration": 6,
    "start_time": "2023-02-04T17:58:31.754Z"
   },
   {
    "duration": 43,
    "start_time": "2023-02-04T17:58:31.762Z"
   },
   {
    "duration": 7,
    "start_time": "2023-02-04T17:58:31.810Z"
   },
   {
    "duration": 18,
    "start_time": "2023-02-04T17:58:31.819Z"
   },
   {
    "duration": 6,
    "start_time": "2023-02-04T17:58:31.838Z"
   },
   {
    "duration": 6,
    "start_time": "2023-02-04T17:58:31.845Z"
   },
   {
    "duration": 17,
    "start_time": "2023-02-04T17:58:31.852Z"
   },
   {
    "duration": 12,
    "start_time": "2023-02-04T17:58:31.871Z"
   },
   {
    "duration": 15,
    "start_time": "2023-02-04T17:58:31.885Z"
   },
   {
    "duration": 23,
    "start_time": "2023-02-04T17:58:31.901Z"
   },
   {
    "duration": 33,
    "start_time": "2023-02-04T17:58:31.926Z"
   },
   {
    "duration": 6,
    "start_time": "2023-02-04T17:58:31.961Z"
   },
   {
    "duration": 67,
    "start_time": "2023-02-04T17:58:31.968Z"
   },
   {
    "duration": 5,
    "start_time": "2023-02-04T17:58:32.037Z"
   },
   {
    "duration": 15,
    "start_time": "2023-02-04T17:58:32.044Z"
   },
   {
    "duration": 14,
    "start_time": "2023-02-04T17:58:32.061Z"
   },
   {
    "duration": 7,
    "start_time": "2023-02-04T17:58:32.077Z"
   },
   {
    "duration": 18,
    "start_time": "2023-02-04T17:58:32.085Z"
   },
   {
    "duration": 16,
    "start_time": "2023-02-04T17:58:32.104Z"
   },
   {
    "duration": 10,
    "start_time": "2023-02-04T17:58:32.121Z"
   },
   {
    "duration": 11,
    "start_time": "2023-02-04T17:58:32.132Z"
   },
   {
    "duration": 11,
    "start_time": "2023-02-04T17:58:32.144Z"
   },
   {
    "duration": 13,
    "start_time": "2023-02-04T17:58:32.157Z"
   },
   {
    "duration": 14,
    "start_time": "2023-02-04T17:58:32.172Z"
   },
   {
    "duration": 17,
    "start_time": "2023-02-04T17:58:32.188Z"
   },
   {
    "duration": 22,
    "start_time": "2023-02-04T17:58:32.206Z"
   },
   {
    "duration": 15,
    "start_time": "2023-02-04T17:58:32.230Z"
   },
   {
    "duration": 13,
    "start_time": "2023-02-04T17:58:32.247Z"
   },
   {
    "duration": 30,
    "start_time": "2023-02-04T17:58:32.262Z"
   },
   {
    "duration": 60,
    "start_time": "2023-02-04T17:59:17.677Z"
   },
   {
    "duration": 55,
    "start_time": "2023-02-04T18:04:59.154Z"
   },
   {
    "duration": 53,
    "start_time": "2023-02-04T18:05:15.169Z"
   },
   {
    "duration": 49,
    "start_time": "2023-02-04T18:05:29.369Z"
   },
   {
    "duration": 305,
    "start_time": "2023-02-04T18:06:24.654Z"
   },
   {
    "duration": 180,
    "start_time": "2023-02-04T18:06:30.031Z"
   },
   {
    "duration": 178,
    "start_time": "2023-02-04T18:06:36.257Z"
   },
   {
    "duration": 163,
    "start_time": "2023-02-04T18:06:43.359Z"
   },
   {
    "duration": 161,
    "start_time": "2023-02-04T18:07:12.551Z"
   },
   {
    "duration": 49,
    "start_time": "2023-02-04T18:07:17.262Z"
   },
   {
    "duration": 58,
    "start_time": "2023-02-04T18:07:31.053Z"
   },
   {
    "duration": 52,
    "start_time": "2023-02-04T18:11:12.854Z"
   },
   {
    "duration": 13,
    "start_time": "2023-02-04T18:17:47.234Z"
   },
   {
    "duration": 133,
    "start_time": "2023-02-04T18:21:49.049Z"
   },
   {
    "duration": 14,
    "start_time": "2023-02-04T18:21:49.403Z"
   },
   {
    "duration": 12,
    "start_time": "2023-02-04T18:21:50.269Z"
   },
   {
    "duration": 5,
    "start_time": "2023-02-04T18:21:51.973Z"
   },
   {
    "duration": 80,
    "start_time": "2023-02-04T18:27:46.379Z"
   },
   {
    "duration": 909,
    "start_time": "2023-02-04T18:28:26.781Z"
   },
   {
    "duration": 66,
    "start_time": "2023-02-04T18:29:07.226Z"
   },
   {
    "duration": 87,
    "start_time": "2023-02-04T18:29:47.719Z"
   },
   {
    "duration": 1391,
    "start_time": "2023-02-04T18:36:41.151Z"
   },
   {
    "duration": 168,
    "start_time": "2023-02-04T18:36:42.544Z"
   },
   {
    "duration": 11,
    "start_time": "2023-02-04T18:36:42.719Z"
   },
   {
    "duration": 35,
    "start_time": "2023-02-04T18:36:42.732Z"
   },
   {
    "duration": 85,
    "start_time": "2023-02-04T18:36:42.769Z"
   },
   {
    "duration": 21,
    "start_time": "2023-02-04T18:36:42.856Z"
   },
   {
    "duration": 262,
    "start_time": "2023-02-04T18:36:42.894Z"
   },
   {
    "duration": 8,
    "start_time": "2023-02-04T18:36:43.157Z"
   },
   {
    "duration": 9,
    "start_time": "2023-02-04T18:36:43.167Z"
   },
   {
    "duration": 101,
    "start_time": "2023-02-04T18:36:43.196Z"
   },
   {
    "duration": 85,
    "start_time": "2023-02-04T18:36:43.299Z"
   },
   {
    "duration": 54,
    "start_time": "2023-02-04T18:36:43.386Z"
   },
   {
    "duration": 13,
    "start_time": "2023-02-04T18:36:43.442Z"
   },
   {
    "duration": 10,
    "start_time": "2023-02-04T18:36:43.459Z"
   },
   {
    "duration": 33,
    "start_time": "2023-02-04T18:36:43.471Z"
   },
   {
    "duration": 74,
    "start_time": "2023-02-04T18:36:43.506Z"
   },
   {
    "duration": 42,
    "start_time": "2023-02-04T18:36:43.582Z"
   },
   {
    "duration": 37,
    "start_time": "2023-02-04T18:36:43.626Z"
   },
   {
    "duration": 839,
    "start_time": "2023-02-04T18:36:43.665Z"
   },
   {
    "duration": 75,
    "start_time": "2023-02-04T18:36:44.509Z"
   },
   {
    "duration": 33,
    "start_time": "2023-02-04T18:36:44.586Z"
   },
   {
    "duration": 50,
    "start_time": "2023-02-04T18:36:44.621Z"
   },
   {
    "duration": 5,
    "start_time": "2023-02-04T18:36:44.673Z"
   },
   {
    "duration": 29,
    "start_time": "2023-02-04T18:36:44.680Z"
   },
   {
    "duration": 220,
    "start_time": "2023-02-04T18:36:44.716Z"
   },
   {
    "duration": 64,
    "start_time": "2023-02-04T18:36:44.938Z"
   },
   {
    "duration": 9,
    "start_time": "2023-02-04T18:36:45.006Z"
   },
   {
    "duration": 92,
    "start_time": "2023-02-04T18:36:45.017Z"
   },
   {
    "duration": 8,
    "start_time": "2023-02-04T18:36:45.111Z"
   },
   {
    "duration": 11,
    "start_time": "2023-02-04T18:36:45.121Z"
   },
   {
    "duration": 14,
    "start_time": "2023-02-04T18:36:45.134Z"
   },
   {
    "duration": 19,
    "start_time": "2023-02-04T18:36:45.150Z"
   },
   {
    "duration": 510,
    "start_time": "2023-02-04T18:36:45.171Z"
   },
   {
    "duration": 120,
    "start_time": "2023-02-04T18:36:45.683Z"
   },
   {
    "duration": 53,
    "start_time": "2023-02-04T18:36:45.805Z"
   },
   {
    "duration": 190,
    "start_time": "2023-02-04T18:36:45.896Z"
   },
   {
    "duration": 9,
    "start_time": "2023-02-04T18:36:46.088Z"
   },
   {
    "duration": 33,
    "start_time": "2023-02-04T18:36:46.099Z"
   },
   {
    "duration": 9,
    "start_time": "2023-02-04T18:36:46.134Z"
   },
   {
    "duration": 61,
    "start_time": "2023-02-04T18:36:46.145Z"
   },
   {
    "duration": 7,
    "start_time": "2023-02-04T18:36:46.211Z"
   },
   {
    "duration": 5,
    "start_time": "2023-02-04T18:36:46.225Z"
   },
   {
    "duration": 11,
    "start_time": "2023-02-04T18:36:46.232Z"
   },
   {
    "duration": 10,
    "start_time": "2023-02-04T18:36:46.245Z"
   },
   {
    "duration": 9,
    "start_time": "2023-02-04T18:36:46.257Z"
   },
   {
    "duration": 6,
    "start_time": "2023-02-04T18:36:46.268Z"
   },
   {
    "duration": 6,
    "start_time": "2023-02-04T18:36:46.276Z"
   },
   {
    "duration": 11,
    "start_time": "2023-02-04T18:36:46.284Z"
   },
   {
    "duration": 55,
    "start_time": "2023-02-04T18:36:46.301Z"
   },
   {
    "duration": 8,
    "start_time": "2023-02-04T18:36:46.358Z"
   },
   {
    "duration": 71,
    "start_time": "2023-02-04T18:36:46.368Z"
   },
   {
    "duration": 7,
    "start_time": "2023-02-04T18:36:46.441Z"
   },
   {
    "duration": 10,
    "start_time": "2023-02-04T18:36:46.449Z"
   },
   {
    "duration": 13,
    "start_time": "2023-02-04T18:36:46.461Z"
   },
   {
    "duration": 99,
    "start_time": "2023-02-04T18:36:46.476Z"
   },
   {
    "duration": 7,
    "start_time": "2023-02-04T18:36:46.577Z"
   },
   {
    "duration": 18,
    "start_time": "2023-02-04T18:36:46.585Z"
   },
   {
    "duration": 23,
    "start_time": "2023-02-04T18:36:46.604Z"
   },
   {
    "duration": 7,
    "start_time": "2023-02-04T18:36:46.629Z"
   },
   {
    "duration": 10,
    "start_time": "2023-02-04T18:36:46.638Z"
   },
   {
    "duration": 7,
    "start_time": "2023-02-04T18:36:46.650Z"
   },
   {
    "duration": 19,
    "start_time": "2023-02-04T18:36:46.659Z"
   },
   {
    "duration": 12,
    "start_time": "2023-02-04T18:36:46.680Z"
   },
   {
    "duration": 27,
    "start_time": "2023-02-04T18:36:46.698Z"
   },
   {
    "duration": 20,
    "start_time": "2023-02-04T18:36:46.728Z"
   },
   {
    "duration": 10,
    "start_time": "2023-02-04T18:36:46.750Z"
   },
   {
    "duration": 14,
    "start_time": "2023-02-04T18:36:46.762Z"
   },
   {
    "duration": 19,
    "start_time": "2023-02-04T18:36:46.778Z"
   }
  ],
  "kernelspec": {
   "display_name": "Python 3 (ipykernel)",
   "language": "python",
   "name": "python3"
  },
  "language_info": {
   "codemirror_mode": {
    "name": "ipython",
    "version": 3
   },
   "file_extension": ".py",
   "mimetype": "text/x-python",
   "name": "python",
   "nbconvert_exporter": "python",
   "pygments_lexer": "ipython3",
   "version": "3.11.2"
  },
  "toc": {
   "base_numbering": 1,
   "nav_menu": {},
   "number_sections": true,
   "sideBar": true,
   "skip_h1_title": true,
   "title_cell": "Table of Contents",
   "title_sidebar": "Contents",
   "toc_cell": false,
   "toc_position": {},
   "toc_section_display": true,
   "toc_window_display": false
  },
  "vscode": {
   "interpreter": {
    "hash": "ad2bdc8ecc057115af97d19610ffacc2b4e99fae6737bb82f5d7fb13d2f2c186"
   }
  }
 },
 "nbformat": 4,
 "nbformat_minor": 2
}
