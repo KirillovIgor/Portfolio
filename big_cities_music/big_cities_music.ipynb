{
 "cells": [
  {
   "attachments": {},
   "cell_type": "markdown",
   "metadata": {
    "deletable": false,
    "editable": false,
    "id": "VUC88oWjTJw2"
   },
   "source": [
    "<h2>Описание проекта <a class=\"tocSkip\"> </h2>\n",
    "\n",
    "**Цель исследования** — проверить три гипотезы:\n",
    "1. Активность пользователей зависит от дня недели. Причём в Москве и Петербурге это проявляется по-разному.\n",
    "2. В понедельник утром в Москве преобладают одни жанры, а в Петербурге — другие. Так же и вечером пятницы преобладают разные жанры — в зависимости от города. \n",
    "3. Москва и Петербург предпочитают разные жанры музыки. В Москве чаще слушают поп-музыку, в Петербурге — русский рэп.\n",
    "\n",
    "**Задачи проекта:**\n",
    " - проверить данные выгрузки;\n",
    " - сравнить поведение и предпочтения пользователей двух столиц — Москвы и Санкт-Петербурга.\n",
    " \n",
    "**Входные данные** - выгрузка данных с прослушиваниями пользователей Яндекс Музыки (yandex_music_project.csv):\n",
    "- `userID` — идентификатор пользователя;\n",
    "- `Track` — название трека;\n",
    "- `artist` — имя исполнителя;\n",
    "- `genre` — название жанра;\n",
    "- `City` — город пользователя;\n",
    "- `time` — время начала прослушивания;\n",
    "- `Day` — день недели."
   ]
  },
  {
   "attachments": {},
   "cell_type": "markdown",
   "metadata": {},
   "source": [
    "**План работ:**\n",
    "\n",
    "- [Обзор данных](#start)\n",
    "- [Предобработка данных](#preprocessing)\n",
    "- [Проверка гипотез](#hypotheses)\n",
    "- [Итоги исследования](#end)"
   ]
  },
  {
   "attachments": {},
   "cell_type": "markdown",
   "metadata": {},
   "source": [
    "<a id=\"introduction\"></a>"
   ]
  },
  {
   "attachments": {},
   "cell_type": "markdown",
   "metadata": {},
   "source": [
    "<a id=\"start\"></a>"
   ]
  },
  {
   "attachments": {},
   "cell_type": "markdown",
   "metadata": {
    "deletable": false,
    "editable": false,
    "id": "Ml1hmfXC_Zcs"
   },
   "source": [
    "## Обзор данных"
   ]
  },
  {
   "cell_type": "code",
   "execution_count": 1,
   "metadata": {
    "deletable": false,
    "id": "AXN7PHPN_Zcs"
   },
   "outputs": [],
   "source": [
    "#Импортируем библиотеку pandas\n",
    "import pandas as pd"
   ]
  },
  {
   "cell_type": "code",
   "execution_count": 2,
   "metadata": {
    "deletable": false,
    "id": "fFVu7vqh_Zct"
   },
   "outputs": [],
   "source": [
    "# Сохраним датасет в переменной df\n",
    "df = pd.read_csv('yandex_music_project.csv')"
   ]
  },
  {
   "cell_type": "code",
   "execution_count": 3,
   "metadata": {
    "deletable": false,
    "id": "oWTVX3gW_Zct"
   },
   "outputs": [
    {
     "data": {
      "text/html": [
       "<div>\n",
       "<style scoped>\n",
       "    .dataframe tbody tr th:only-of-type {\n",
       "        vertical-align: middle;\n",
       "    }\n",
       "\n",
       "    .dataframe tbody tr th {\n",
       "        vertical-align: top;\n",
       "    }\n",
       "\n",
       "    .dataframe thead th {\n",
       "        text-align: right;\n",
       "    }\n",
       "</style>\n",
       "<table border=\"1\" class=\"dataframe\">\n",
       "  <thead>\n",
       "    <tr style=\"text-align: right;\">\n",
       "      <th></th>\n",
       "      <th>userID</th>\n",
       "      <th>Track</th>\n",
       "      <th>artist</th>\n",
       "      <th>genre</th>\n",
       "      <th>City</th>\n",
       "      <th>time</th>\n",
       "      <th>Day</th>\n",
       "    </tr>\n",
       "  </thead>\n",
       "  <tbody>\n",
       "    <tr>\n",
       "      <th>0</th>\n",
       "      <td>FFB692EC</td>\n",
       "      <td>Kamigata To Boots</td>\n",
       "      <td>The Mass Missile</td>\n",
       "      <td>rock</td>\n",
       "      <td>Saint-Petersburg</td>\n",
       "      <td>20:28:33</td>\n",
       "      <td>Wednesday</td>\n",
       "    </tr>\n",
       "    <tr>\n",
       "      <th>1</th>\n",
       "      <td>55204538</td>\n",
       "      <td>Delayed Because of Accident</td>\n",
       "      <td>Andreas Rönnberg</td>\n",
       "      <td>rock</td>\n",
       "      <td>Moscow</td>\n",
       "      <td>14:07:09</td>\n",
       "      <td>Friday</td>\n",
       "    </tr>\n",
       "    <tr>\n",
       "      <th>2</th>\n",
       "      <td>20EC38</td>\n",
       "      <td>Funiculì funiculà</td>\n",
       "      <td>Mario Lanza</td>\n",
       "      <td>pop</td>\n",
       "      <td>Saint-Petersburg</td>\n",
       "      <td>20:58:07</td>\n",
       "      <td>Wednesday</td>\n",
       "    </tr>\n",
       "    <tr>\n",
       "      <th>3</th>\n",
       "      <td>A3DD03C9</td>\n",
       "      <td>Dragons in the Sunset</td>\n",
       "      <td>Fire + Ice</td>\n",
       "      <td>folk</td>\n",
       "      <td>Saint-Petersburg</td>\n",
       "      <td>08:37:09</td>\n",
       "      <td>Monday</td>\n",
       "    </tr>\n",
       "    <tr>\n",
       "      <th>4</th>\n",
       "      <td>E2DC1FAE</td>\n",
       "      <td>Soul People</td>\n",
       "      <td>Space Echo</td>\n",
       "      <td>dance</td>\n",
       "      <td>Moscow</td>\n",
       "      <td>08:34:34</td>\n",
       "      <td>Monday</td>\n",
       "    </tr>\n",
       "    <tr>\n",
       "      <th>5</th>\n",
       "      <td>842029A1</td>\n",
       "      <td>Преданная</td>\n",
       "      <td>IMPERVTOR</td>\n",
       "      <td>rusrap</td>\n",
       "      <td>Saint-Petersburg</td>\n",
       "      <td>13:09:41</td>\n",
       "      <td>Friday</td>\n",
       "    </tr>\n",
       "    <tr>\n",
       "      <th>6</th>\n",
       "      <td>4CB90AA5</td>\n",
       "      <td>True</td>\n",
       "      <td>Roman Messer</td>\n",
       "      <td>dance</td>\n",
       "      <td>Moscow</td>\n",
       "      <td>13:00:07</td>\n",
       "      <td>Wednesday</td>\n",
       "    </tr>\n",
       "    <tr>\n",
       "      <th>7</th>\n",
       "      <td>F03E1C1F</td>\n",
       "      <td>Feeling This Way</td>\n",
       "      <td>Polina Griffith</td>\n",
       "      <td>dance</td>\n",
       "      <td>Moscow</td>\n",
       "      <td>20:47:49</td>\n",
       "      <td>Wednesday</td>\n",
       "    </tr>\n",
       "    <tr>\n",
       "      <th>8</th>\n",
       "      <td>8FA1D3BE</td>\n",
       "      <td>И вновь продолжается бой</td>\n",
       "      <td>NaN</td>\n",
       "      <td>ruspop</td>\n",
       "      <td>Moscow</td>\n",
       "      <td>09:17:40</td>\n",
       "      <td>Friday</td>\n",
       "    </tr>\n",
       "    <tr>\n",
       "      <th>9</th>\n",
       "      <td>E772D5C0</td>\n",
       "      <td>Pessimist</td>\n",
       "      <td>NaN</td>\n",
       "      <td>dance</td>\n",
       "      <td>Saint-Petersburg</td>\n",
       "      <td>21:20:49</td>\n",
       "      <td>Wednesday</td>\n",
       "    </tr>\n",
       "  </tbody>\n",
       "</table>\n",
       "</div>"
      ],
      "text/plain": [
       "     userID                        Track            artist   genre  \\\n",
       "0  FFB692EC            Kamigata To Boots  The Mass Missile    rock   \n",
       "1  55204538  Delayed Because of Accident  Andreas Rönnberg    rock   \n",
       "2    20EC38            Funiculì funiculà       Mario Lanza     pop   \n",
       "3  A3DD03C9        Dragons in the Sunset        Fire + Ice    folk   \n",
       "4  E2DC1FAE                  Soul People        Space Echo   dance   \n",
       "5  842029A1                    Преданная         IMPERVTOR  rusrap   \n",
       "6  4CB90AA5                         True      Roman Messer   dance   \n",
       "7  F03E1C1F             Feeling This Way   Polina Griffith   dance   \n",
       "8  8FA1D3BE     И вновь продолжается бой               NaN  ruspop   \n",
       "9  E772D5C0                    Pessimist               NaN   dance   \n",
       "\n",
       "             City        time        Day  \n",
       "0  Saint-Petersburg  20:28:33  Wednesday  \n",
       "1            Moscow  14:07:09     Friday  \n",
       "2  Saint-Petersburg  20:58:07  Wednesday  \n",
       "3  Saint-Petersburg  08:37:09     Monday  \n",
       "4            Moscow  08:34:34     Monday  \n",
       "5  Saint-Petersburg  13:09:41     Friday  \n",
       "6            Moscow  13:00:07  Wednesday  \n",
       "7            Moscow  20:47:49  Wednesday  \n",
       "8            Moscow  09:17:40     Friday  \n",
       "9  Saint-Petersburg  21:20:49  Wednesday  "
      ]
     },
     "execution_count": 3,
     "metadata": {},
     "output_type": "execute_result"
    }
   ],
   "source": [
    "#Получим первые 10 строк таблицы df\n",
    "df.head(10)"
   ]
  },
  {
   "cell_type": "code",
   "execution_count": 4,
   "metadata": {
    "deletable": false,
    "id": "DSf2kIb-_Zct"
   },
   "outputs": [
    {
     "name": "stdout",
     "output_type": "stream",
     "text": [
      "<class 'pandas.core.frame.DataFrame'>\n",
      "RangeIndex: 65079 entries, 0 to 65078\n",
      "Data columns (total 7 columns):\n",
      " #   Column    Non-Null Count  Dtype \n",
      "---  ------    --------------  ----- \n",
      " 0     userID  65079 non-null  object\n",
      " 1   Track     63848 non-null  object\n",
      " 2   artist    57876 non-null  object\n",
      " 3   genre     63881 non-null  object\n",
      " 4     City    65079 non-null  object\n",
      " 5   time      65079 non-null  object\n",
      " 6   Day       65079 non-null  object\n",
      "dtypes: object(7)\n",
      "memory usage: 3.5+ MB\n"
     ]
    }
   ],
   "source": [
    "#Получим общую информацию о данных\n",
    "df.info()"
   ]
  },
  {
   "attachments": {},
   "cell_type": "markdown",
   "metadata": {
    "deletable": false,
    "editable": false,
    "id": "TaQ2Iwbr_Zct"
   },
   "source": [
    "В таблице семь столбцов. Тип данных во всех столбцах — `object`.\n",
    "\n",
    "Количество значений в столбцах различается. Значит, в данных есть пропущенные значения."
   ]
  },
  {
   "attachments": {},
   "cell_type": "markdown",
   "metadata": {
    "deletable": false,
    "editable": false,
    "id": "rAfziTBDmf2h",
    "tags": [
     "start_task"
    ]
   },
   "source": [
    "В названиях колонок видны нарушения стиля:\n",
    "* Строчные буквы сочетаются с прописными.\n",
    "* Встречаются пробелы.\n",
    "* Не соблюдается стиль написания составных слов\n",
    "\n"
   ]
  },
  {
   "cell_type": "markdown",
   "metadata": {
    "deletable": false,
    "editable": false,
    "id": "MCB6-dXG_Zct"
   },
   "source": [
    "**Выводы**\n",
    "\n",
    "В каждой строке таблицы — данные о прослушанном треке. Часть колонок описывает саму композицию: название, исполнителя и жанр. Остальные данные рассказывают о пользователе: из какого он города, когда он слушал музыку. \n",
    "\n",
    "Предварительно можно утверждать, что данных достаточно для проверки гипотез. Но встречаются пропуски в данных, а в названиях колонок — расхождения с хорошим стилем.\n",
    "\n",
    "Чтобы двигаться дальше, нужно устранить проблемы в данных."
   ]
  },
  {
   "attachments": {},
   "cell_type": "markdown",
   "metadata": {},
   "source": [
    "<a id=\"preprocessing\"></a>"
   ]
  },
  {
   "attachments": {},
   "cell_type": "markdown",
   "metadata": {},
   "source": [
    "[Описание проекта](#introduction)"
   ]
  },
  {
   "attachments": {},
   "cell_type": "markdown",
   "metadata": {
    "deletable": false,
    "editable": false,
    "id": "SjYF6Ub9_Zct"
   },
   "source": [
    "## Предобработка данных"
   ]
  },
  {
   "attachments": {},
   "cell_type": "markdown",
   "metadata": {
    "deletable": false,
    "editable": false,
    "id": "dIaKXr29_Zct",
    "tags": [
     "start_task"
    ]
   },
   "source": [
    "### Стиль заголовков"
   ]
  },
  {
   "cell_type": "code",
   "execution_count": 5,
   "metadata": {
    "deletable": false,
    "id": "oKOTdF_Q_Zct"
   },
   "outputs": [
    {
     "name": "stdout",
     "output_type": "stream",
     "text": [
      "Index(['  userID', 'Track', 'artist', 'genre', '  City  ', 'time', 'Day'], dtype='object')\n"
     ]
    }
   ],
   "source": [
    "#Выведем перечень названий столбцов таблицы df\n",
    "print(df.columns)"
   ]
  },
  {
   "cell_type": "code",
   "execution_count": 6,
   "metadata": {
    "deletable": false,
    "id": "ISlFqs5y_Zct"
   },
   "outputs": [],
   "source": [
    "#Переименуем столбцы\n",
    "df = df.rename(columns = {'  userID': 'user_id',\n",
    "                          'Track': 'track', '  City  ': 'city',\n",
    "                         'Day': 'day'})"
   ]
  },
  {
   "cell_type": "code",
   "execution_count": 7,
   "metadata": {
    "deletable": false,
    "id": "d4NOAmTW_Zct"
   },
   "outputs": [
    {
     "name": "stdout",
     "output_type": "stream",
     "text": [
      "Index(['user_id', 'track', 'artist', 'genre', 'city', 'time', 'day'], dtype='object')\n"
     ]
    }
   ],
   "source": [
    "#Проверим, как изменились названия наших столбцов\n",
    "print(df.columns)"
   ]
  },
  {
   "attachments": {},
   "cell_type": "markdown",
   "metadata": {
    "deletable": false,
    "editable": false,
    "id": "5ISfbcfY_Zct",
    "tags": [
     "start_task"
    ]
   },
   "source": [
    "### Пропуски значений"
   ]
  },
  {
   "cell_type": "code",
   "execution_count": 8,
   "metadata": {
    "deletable": false,
    "id": "RskX29qr_Zct"
   },
   "outputs": [
    {
     "data": {
      "text/plain": [
       "user_id       0\n",
       "track      1231\n",
       "artist     7203\n",
       "genre      1198\n",
       "city          0\n",
       "time          0\n",
       "day           0\n",
       "dtype: int64"
      ]
     },
     "execution_count": 8,
     "metadata": {},
     "output_type": "execute_result"
    }
   ],
   "source": [
    "#Подсчитаем пропуски\n",
    "df.isna().sum()"
   ]
  },
  {
   "attachments": {},
   "cell_type": "markdown",
   "metadata": {
    "deletable": false,
    "editable": false,
    "id": "qubhgnlO_Zct"
   },
   "source": [
    "В нашеим исследовании не все пропущенные значения влияют на исследование. Так в `track` и `artist` пропуски не важны для вашей работы. Достаточно заменить их явными обозначениями.\n",
    "\n",
    "Но пропуски в `genre` могут помешать сравнению музыкальных вкусов в Москве и Санкт-Петербурге.\n",
    "* заполним эти пропуски явными обозначениями;\n",
    "* оценим, насколько они повредят расчётам. "
   ]
  },
  {
   "cell_type": "code",
   "execution_count": 9,
   "metadata": {
    "deletable": false,
    "id": "KplB5qWs_Zct"
   },
   "outputs": [],
   "source": [
    "#Заменим пропущенные значения на 'unknown'\n",
    "columns_to_replace = ['track','artist','genre']\n",
    "for column in columns_to_replace:\n",
    "    df[column] = df[column].fillna('unknown')"
   ]
  },
  {
   "cell_type": "code",
   "execution_count": 10,
   "metadata": {
    "deletable": false,
    "id": "Tq4nYRX4_Zct"
   },
   "outputs": [
    {
     "data": {
      "text/plain": [
       "user_id    0\n",
       "track      0\n",
       "artist     0\n",
       "genre      0\n",
       "city       0\n",
       "time       0\n",
       "day        0\n",
       "dtype: int64"
      ]
     },
     "execution_count": 10,
     "metadata": {},
     "output_type": "execute_result"
    }
   ],
   "source": [
    "#Проверим, остались ли пропуски\n",
    "df.isna().sum()"
   ]
  },
  {
   "attachments": {},
   "cell_type": "markdown",
   "metadata": {},
   "source": [
    "Пропусков не осталось."
   ]
  },
  {
   "attachments": {},
   "cell_type": "markdown",
   "metadata": {
    "deletable": false,
    "editable": false,
    "id": "BWKRtBJ3_Zct",
    "tags": [
     "start_task"
    ]
   },
   "source": [
    "### Дубликаты"
   ]
  },
  {
   "cell_type": "code",
   "execution_count": 11,
   "metadata": {
    "deletable": false,
    "id": "36eES_S0_Zct"
   },
   "outputs": [
    {
     "data": {
      "text/plain": [
       "3826"
      ]
     },
     "execution_count": 11,
     "metadata": {},
     "output_type": "execute_result"
    }
   ],
   "source": [
    "#Подсчитаем явные дубликаты\n",
    "df.duplicated().sum()"
   ]
  },
  {
   "attachments": {},
   "cell_type": "markdown",
   "metadata": {},
   "source": [
    "Всего у нас - 3826 явных дубликатов"
   ]
  },
  {
   "cell_type": "code",
   "execution_count": 12,
   "metadata": {
    "deletable": false,
    "id": "exFHq6tt_Zct"
   },
   "outputs": [],
   "source": [
    "#Удалим дубликаты\n",
    "df = df.drop_duplicates()"
   ]
  },
  {
   "cell_type": "code",
   "execution_count": 13,
   "metadata": {
    "deletable": false,
    "id": "-8PuNWQ0_Zct"
   },
   "outputs": [
    {
     "data": {
      "text/plain": [
       "0"
      ]
     },
     "execution_count": 13,
     "metadata": {},
     "output_type": "execute_result"
    }
   ],
   "source": [
    "#Проверим удаление дубликатов\n",
    "df.duplicated().sum()"
   ]
  },
  {
   "cell_type": "code",
   "execution_count": 14,
   "metadata": {
    "deletable": false,
    "id": "JIUcqzZN_Zct"
   },
   "outputs": [
    {
     "name": "stdout",
     "output_type": "stream",
     "text": [
      "['acid' 'acoustic' 'action' 'adult' 'africa' 'afrikaans' 'alternative'\n",
      " 'alternativepunk' 'ambient' 'americana' 'animated' 'anime' 'arabesk'\n",
      " 'arabic' 'arena' 'argentinetango' 'art' 'audiobook' 'author' 'avantgarde'\n",
      " 'axé' 'baile' 'balkan' 'beats' 'bigroom' 'black' 'bluegrass' 'blues'\n",
      " 'bollywood' 'bossa' 'brazilian' 'breakbeat' 'breaks' 'broadway'\n",
      " 'cantautori' 'cantopop' 'canzone' 'caribbean' 'caucasian' 'celtic'\n",
      " 'chamber' 'chanson' 'children' 'chill' 'chinese' 'choral' 'christian'\n",
      " 'christmas' 'classical' 'classicmetal' 'club' 'colombian' 'comedy'\n",
      " 'conjazz' 'contemporary' 'country' 'cuban' 'dance' 'dancehall' 'dancepop'\n",
      " 'dark' 'death' 'deep' 'deutschrock' 'deutschspr' 'dirty' 'disco' 'dnb'\n",
      " 'documentary' 'downbeat' 'downtempo' 'drum' 'dub' 'dubstep' 'eastern'\n",
      " 'easy' 'electronic' 'electropop' 'emo' 'entehno' 'epicmetal' 'estrada'\n",
      " 'ethnic' 'eurofolk' 'european' 'experimental' 'extrememetal' 'fado'\n",
      " 'fairytail' 'film' 'fitness' 'flamenco' 'folk' 'folklore' 'folkmetal'\n",
      " 'folkrock' 'folktronica' 'forró' 'frankreich' 'französisch' 'french'\n",
      " 'funk' 'future' 'gangsta' 'garage' 'german' 'ghazal' 'gitarre' 'glitch'\n",
      " 'gospel' 'gothic' 'grime' 'grunge' 'gypsy' 'handsup' \"hard'n'heavy\"\n",
      " 'hardcore' 'hardstyle' 'hardtechno' 'hip' 'hip-hop' 'hiphop' 'historisch'\n",
      " 'holiday' 'hop' 'horror' 'house' 'hymn' 'idm' 'independent' 'indian'\n",
      " 'indie' 'indipop' 'industrial' 'inspirational' 'instrumental'\n",
      " 'international' 'irish' 'jam' 'japanese' 'jazz' 'jewish' 'jpop' 'jungle'\n",
      " 'k-pop' 'karadeniz' 'karaoke' 'kayokyoku' 'korean' 'laiko' 'latin'\n",
      " 'latino' 'leftfield' 'local' 'lounge' 'loungeelectronic' 'lovers'\n",
      " 'malaysian' 'mandopop' 'marschmusik' 'meditative' 'mediterranean'\n",
      " 'melodic' 'metal' 'metalcore' 'mexican' 'middle' 'minimal'\n",
      " 'miscellaneous' 'modern' 'mood' 'mpb' 'muslim' 'native' 'neoklassik'\n",
      " 'neue' 'new' 'newage' 'newwave' 'nu' 'nujazz' 'numetal' 'oceania' 'old'\n",
      " 'opera' 'orchestral' 'other' 'piano' 'podcasts' 'pop' 'popdance'\n",
      " 'popelectronic' 'popeurodance' 'poprussian' 'post' 'posthardcore'\n",
      " 'postrock' 'power' 'progmetal' 'progressive' 'psychedelic' 'punjabi'\n",
      " 'punk' 'quebecois' 'ragga' 'ram' 'rancheras' 'rap' 'rave' 'reggae'\n",
      " 'reggaeton' 'regional' 'relax' 'religious' 'retro' 'rhythm' 'rnb' 'rnr'\n",
      " 'rock' 'rockabilly' 'rockalternative' 'rockindie' 'rockother' 'romance'\n",
      " 'roots' 'ruspop' 'rusrap' 'rusrock' 'russian' 'salsa' 'samba' 'scenic'\n",
      " 'schlager' 'self' 'sertanejo' 'shanson' 'shoegazing' 'showtunes' 'singer'\n",
      " 'ska' 'skarock' 'slow' 'smooth' 'soft' 'soul' 'soulful' 'sound'\n",
      " 'soundtrack' 'southern' 'specialty' 'speech' 'spiritual' 'sport'\n",
      " 'stonerrock' 'surf' 'swing' 'synthpop' 'synthrock' 'sängerportrait'\n",
      " 'tango' 'tanzorchester' 'taraftar' 'tatar' 'tech' 'techno' 'teen'\n",
      " 'thrash' 'top' 'traditional' 'tradjazz' 'trance' 'tribal' 'trip'\n",
      " 'triphop' 'tropical' 'türk' 'türkçe' 'ukrrock' 'unknown' 'urban' 'uzbek'\n",
      " 'variété' 'vi' 'videogame' 'vocal' 'western' 'world' 'worldbeat' 'ïîï'\n",
      " 'электроника']\n"
     ]
    }
   ],
   "source": [
    "#Изучим список уникальных названий жанров для выявления неявных дубликатов\n",
    "genre_name = df['genre'].sort_values().unique()\n",
    "print(genre_name)"
   ]
  },
  {
   "attachments": {},
   "cell_type": "markdown",
   "metadata": {},
   "source": [
    "Были найдены следующие неявные дубликаты:\n",
    "- `hip`\n",
    "- `hip-hop`\n",
    "- `hiphop`\n",
    "- `hop`"
   ]
  },
  {
   "cell_type": "code",
   "execution_count": 15,
   "metadata": {
    "deletable": false,
    "id": "ErNDkmns_Zct"
   },
   "outputs": [],
   "source": [
    "#Устраним найденые дубликаты\n",
    "duplicates = ['hip','hop','hip-hop']\n",
    "name = 'hiphop'\n",
    "df['genre'] = df['genre'].replace(duplicates, name)    "
   ]
  },
  {
   "attachments": {},
   "cell_type": "markdown",
   "metadata": {
    "deletable": false,
    "editable": false,
    "id": "jz6a9-7HQUDd"
   },
   "source": [
    "**Выводы**\n",
    "\n",
    "Предобработка обнаружила три проблемы в данных:\n",
    "\n",
    "- нарушения в стиле заголовков - исправлены,\n",
    "- пропущенные значения - заполнены,\n",
    "- дубликаты — явные и неявные - удалены."
   ]
  },
  {
   "attachments": {},
   "cell_type": "markdown",
   "metadata": {},
   "source": [
    "<a id=\"hypotheses\"></a>"
   ]
  },
  {
   "attachments": {},
   "cell_type": "markdown",
   "metadata": {},
   "source": [
    "[Описание проекта](#introduction)"
   ]
  },
  {
   "cell_type": "markdown",
   "metadata": {
    "deletable": false,
    "editable": false,
    "id": "WttZHXH0SqKk"
   },
   "source": [
    "## Проверка гипотез"
   ]
  },
  {
   "cell_type": "markdown",
   "metadata": {
    "deletable": false,
    "editable": false,
    "id": "Im936VVi_Zcu"
   },
   "source": [
    "### Сравнение поведения пользователей двух столиц"
   ]
  },
  {
   "attachments": {},
   "cell_type": "markdown",
   "metadata": {
    "deletable": false,
    "editable": false,
    "id": "nwt_MuaL_Zcu"
   },
   "source": [
    "Первая гипотеза утверждает, что пользователи по-разному слушают музыку в Москве и Санкт-Петербурге. Проверим это предположение по данным о трёх днях недели — понедельнике, среде и пятнице."
   ]
  },
  {
   "cell_type": "code",
   "execution_count": 16,
   "metadata": {
    "deletable": false,
    "id": "0_Qs96oh_Zcu"
   },
   "outputs": [
    {
     "data": {
      "text/plain": [
       "city\n",
       "Moscow              42741\n",
       "Saint-Petersburg    18512\n",
       "Name: user_id, dtype: int64"
      ]
     },
     "execution_count": 16,
     "metadata": {},
     "output_type": "execute_result"
    }
   ],
   "source": [
    "#Подсчитаем количество прослушиваний в каждом городе\n",
    "df.groupby('city')['user_id'].count()"
   ]
  },
  {
   "cell_type": "code",
   "execution_count": 17,
   "metadata": {
    "deletable": false,
    "id": "uZMKjiJz_Zcu"
   },
   "outputs": [
    {
     "data": {
      "text/plain": [
       "day\n",
       "Friday       21840\n",
       "Monday       21354\n",
       "Wednesday    18059\n",
       "Name: user_id, dtype: int64"
      ]
     },
     "execution_count": 17,
     "metadata": {},
     "output_type": "execute_result"
    }
   ],
   "source": [
    "#Подсчитаем количество прослушиваний в каждый из трёх дней\n",
    "df.groupby('day')['user_id'].count()"
   ]
  },
  {
   "cell_type": "markdown",
   "metadata": {
    "deletable": false,
    "editable": false,
    "id": "cC2tNrlL_Zcu"
   },
   "source": [
    "В среднем пользователи из двух городов менее активны по средам. Но картина может измениться, если рассмотреть каждый город в отдельности."
   ]
  },
  {
   "cell_type": "code",
   "execution_count": 18,
   "metadata": {
    "deletable": false,
    "id": "Nz3GdQB1_Zcu"
   },
   "outputs": [],
   "source": [
    "#Напишем функцию, которая посчитает прослушивания для заданного дня и города. Ей понадобятся два параметра:\n",
    "#- день недели,\n",
    "#- название города.\n",
    "\n",
    "def number_tracks(day, city): #Объявляется функция с двумя параметрами: day, city.\n",
    "\n",
    "    track_list = df[df['day'] == day] #В переменной track_list сохраняются те строки таблицы df, для которых \n",
    "    track_list = track_list[track_list['city'] == city] #значение в столбце 'day' равно параметру day и одновременно значение\n",
    "                                        #в столбце 'city' равно параметру city\n",
    "    track_list_count = track_list['user_id'].count() #В переменной track_list_count сохраняется число значений столбца 'user_id'\n",
    "\n",
    "    return track_list_count #Функция возвращает число - значение track_list_count.\n"
   ]
  },
  {
   "cell_type": "code",
   "execution_count": 19,
   "metadata": {
    "deletable": false,
    "id": "rJcRATNQ_Zcu"
   },
   "outputs": [
    {
     "data": {
      "text/plain": [
       "15740"
      ]
     },
     "execution_count": 19,
     "metadata": {},
     "output_type": "execute_result"
    }
   ],
   "source": [
    "#Количество прослушиваний в Москве по понедельникам\n",
    "number_tracks('Monday','Moscow')"
   ]
  },
  {
   "cell_type": "code",
   "execution_count": 20,
   "metadata": {
    "deletable": false,
    "id": "hq_ncZ5T_Zcu"
   },
   "outputs": [
    {
     "data": {
      "text/plain": [
       "5614"
      ]
     },
     "execution_count": 20,
     "metadata": {},
     "output_type": "execute_result"
    }
   ],
   "source": [
    "#Количество прослушиваний в Санкт-Петербурге по понедельникам\n",
    "number_tracks('Monday','Saint-Petersburg')"
   ]
  },
  {
   "cell_type": "code",
   "execution_count": 21,
   "metadata": {
    "deletable": false,
    "id": "_NTy2VPU_Zcu"
   },
   "outputs": [
    {
     "data": {
      "text/plain": [
       "11056"
      ]
     },
     "execution_count": 21,
     "metadata": {},
     "output_type": "execute_result"
    }
   ],
   "source": [
    "#Количество прослушиваний в Москве по средам\n",
    "number_tracks('Wednesday','Moscow')"
   ]
  },
  {
   "cell_type": "code",
   "execution_count": 22,
   "metadata": {
    "deletable": false,
    "id": "j2y3TAwo_Zcu"
   },
   "outputs": [
    {
     "data": {
      "text/plain": [
       "7003"
      ]
     },
     "execution_count": 22,
     "metadata": {},
     "output_type": "execute_result"
    }
   ],
   "source": [
    "#Количество прослушиваний в Санкт-Петербурге по средам\n",
    "number_tracks('Wednesday','Saint-Petersburg')"
   ]
  },
  {
   "cell_type": "code",
   "execution_count": 23,
   "metadata": {
    "deletable": false,
    "id": "vYDw5u_K_Zcu",
    "scrolled": true
   },
   "outputs": [
    {
     "data": {
      "text/plain": [
       "15945"
      ]
     },
     "execution_count": 23,
     "metadata": {},
     "output_type": "execute_result"
    }
   ],
   "source": [
    "#Количество прослушиваний в Москве по пятницам\n",
    "number_tracks('Friday','Moscow')"
   ]
  },
  {
   "cell_type": "code",
   "execution_count": 24,
   "metadata": {
    "deletable": false,
    "id": "8_yzFtW3_Zcu"
   },
   "outputs": [
    {
     "data": {
      "text/plain": [
       "5895"
      ]
     },
     "execution_count": 24,
     "metadata": {},
     "output_type": "execute_result"
    }
   ],
   "source": [
    "#Количество прослушиваний в Санкт-Петербурге по пятницам\n",
    "number_tracks('Friday','Saint-Petersburg')"
   ]
  },
  {
   "cell_type": "code",
   "execution_count": 25,
   "metadata": {
    "deletable": false,
    "id": "APAcLpOr_Zcu"
   },
   "outputs": [
    {
     "name": "stdout",
     "output_type": "stream",
     "text": [
      "               city  monday  wednesday  friday\n",
      "0            Moscow   15740      11056   15945\n",
      "1  Saint-Petersburg    5614       7003    5895\n"
     ]
    }
   ],
   "source": [
    "#Соберем таблицу с полученными результатами\n",
    "columns = ['city', 'monday', 'wednesday', 'friday']\n",
    "data = [['Moscow', 15740, 11056, 15945],\n",
    "       ['Saint-Petersburg', 5614, 7003, 5895]]\n",
    "info = pd.DataFrame(data=data, columns=columns)\n",
    "print(info)"
   ]
  },
  {
   "attachments": {},
   "cell_type": "markdown",
   "metadata": {
    "deletable": false,
    "editable": false,
    "id": "-EgPIHYu_Zcu"
   },
   "source": [
    "**Выводы**\n",
    "\n",
    "Данные показывают разницу поведения пользователей:\n",
    "\n",
    "- В Москве пик прослушиваний приходится на понедельник и пятницу, а в среду заметен спад.\n",
    "- В Петербурге, наоборот, больше слушают музыку по средам. Активность в понедельник и пятницу здесь почти в равной мере уступает среде.\n",
    "\n",
    "Значит, данные говорят в пользу гипотезы о том, что активность пользователей зависит от дня недели. Причём в Москве и Петербурге это проявляется по-разному."
   ]
  },
  {
   "cell_type": "markdown",
   "metadata": {
    "deletable": false,
    "editable": false,
    "id": "atZAxtq4_Zcu"
   },
   "source": [
    "### Музыка в начале и в конце недели"
   ]
  },
  {
   "cell_type": "markdown",
   "metadata": {
    "deletable": false,
    "editable": false,
    "id": "eXrQqXFH_Zcu"
   },
   "source": [
    "Согласно второй гипотезе, утром в понедельник в Москве преобладают одни жанры, а в Петербурге — другие. Так же и вечером пятницы преобладают разные жанры — в зависимости от города."
   ]
  },
  {
   "cell_type": "code",
   "execution_count": 26,
   "metadata": {
    "deletable": false,
    "id": "qeaFfM_P_Zcu"
   },
   "outputs": [],
   "source": [
    "#Сохраним датасет с данными только по Москве в переменную moscow_general\n",
    "moscow_general = df[df['city'] == 'Moscow']"
   ]
  },
  {
   "cell_type": "code",
   "execution_count": 27,
   "metadata": {
    "deletable": false,
    "id": "ORaVRKto_Zcu"
   },
   "outputs": [],
   "source": [
    "#Сохраним датасет с данными только по Питеру в переменную spb_general\n",
    "spb_general = df[df['city'] == 'Saint-Petersburg']"
   ]
  },
  {
   "cell_type": "code",
   "execution_count": 28,
   "metadata": {
    "deletable": false,
    "id": "laJT9BYl_Zcu"
   },
   "outputs": [],
   "source": [
    "# Создайте функцию `genre_weekday()` с четырьмя параметрами:\n",
    "# таблица (датафрейм) с данными,\n",
    "# день недели,\n",
    "# начальная временная метка в формате 'hh:mm', \n",
    "# последняя временная метка в формате 'hh:mm'.\n",
    "\n",
    "#Функция будет возвращать информацию о топ-10 жанров тех треков, которые прослушивали в указанный день, в промежутке между двумя отметками времени.\n",
    "\n",
    "def genre_weekday(df, day, time1, time2):\n",
    "    #Последовательная фильтрация\n",
    "    #Оставляем в genre_df только те строки df, у которых день равен day\n",
    "    genre_df = df[df['day'] == day]\n",
    "    #Оставляем в genre_df только те строки genre_df, у которых время меньше time2\n",
    "    genre_df = genre_df[genre_df['time'] < time2] \n",
    "    #Оставляем в genre_df только те строки genre_df, у которых время больше time1\n",
    "    genre_df = genre_df[genre_df['time'] > time1]\n",
    "    #Сгруппируем отфильтрованный датафрейм по столбцу с названиями жанров, возьмём столбец genre и посчитаем кол-во строк для каждого жанра методом count()\n",
    "    genre_df_grouped = genre_df.groupby('genre')['genre'].count()\n",
    "    #Отсортируем результат по убыванию (чтобы в начале Series оказались самые популярные жанры)\n",
    "    genre_df_sorted = genre_df_grouped.sort_values(ascending=False)\n",
    "\n",
    "    return genre_df_sorted[:10]"
   ]
  },
  {
   "attachments": {},
   "cell_type": "markdown",
   "metadata": {
    "deletable": false,
    "editable": false,
    "id": "la2s2_PF_Zcu",
    "tags": [
     "start_task"
    ]
   },
   "source": [
    "Cравним результаты функции `genre_weekday()` для Москвы и Санкт-Петербурга в понедельник утром (с 7:00 до 11:00) и в пятницу вечером (с 17:00 до 23:00):"
   ]
  },
  {
   "cell_type": "code",
   "execution_count": 29,
   "metadata": {
    "deletable": false,
    "id": "yz7itPUQ_Zcu"
   },
   "outputs": [
    {
     "data": {
      "text/plain": [
       "genre\n",
       "pop            781\n",
       "dance          549\n",
       "electronic     480\n",
       "rock           474\n",
       "hiphop         286\n",
       "ruspop         186\n",
       "world          181\n",
       "rusrap         175\n",
       "alternative    164\n",
       "unknown        161\n",
       "Name: genre, dtype: int64"
      ]
     },
     "execution_count": 29,
     "metadata": {},
     "output_type": "execute_result"
    }
   ],
   "source": [
    "#Результаты функции по Москве\n",
    "genre_weekday(moscow_general, 'Monday', '07:00', '11:00')"
   ]
  },
  {
   "cell_type": "code",
   "execution_count": 30,
   "metadata": {
    "deletable": false,
    "id": "kwUcHPdy_Zcu"
   },
   "outputs": [
    {
     "data": {
      "text/plain": [
       "genre\n",
       "pop            218\n",
       "dance          182\n",
       "rock           162\n",
       "electronic     147\n",
       "hiphop          80\n",
       "ruspop          64\n",
       "alternative     58\n",
       "rusrap          55\n",
       "jazz            44\n",
       "classical       40\n",
       "Name: genre, dtype: int64"
      ]
     },
     "execution_count": 30,
     "metadata": {},
     "output_type": "execute_result"
    }
   ],
   "source": [
    "#Результаты функции по Санкт - Петербургу\n",
    "genre_weekday(spb_general, 'Monday', '07:00', '11:00')"
   ]
  },
  {
   "cell_type": "code",
   "execution_count": 31,
   "metadata": {
    "deletable": false,
    "id": "EzXVRE1o_Zcu"
   },
   "outputs": [
    {
     "data": {
      "text/plain": [
       "genre\n",
       "pop            713\n",
       "rock           517\n",
       "dance          495\n",
       "electronic     482\n",
       "hiphop         273\n",
       "world          208\n",
       "ruspop         170\n",
       "alternative    163\n",
       "classical      163\n",
       "rusrap         142\n",
       "Name: genre, dtype: int64"
      ]
     },
     "execution_count": 31,
     "metadata": {},
     "output_type": "execute_result"
    }
   ],
   "source": [
    "#Результаты функции по Москве\n",
    "genre_weekday(moscow_general, 'Friday', '17:00', '23:00')"
   ]
  },
  {
   "cell_type": "code",
   "execution_count": 32,
   "metadata": {
    "deletable": false,
    "id": "JZaEKu5v_Zcu"
   },
   "outputs": [
    {
     "data": {
      "text/plain": [
       "genre\n",
       "pop            256\n",
       "electronic     216\n",
       "rock           216\n",
       "dance          210\n",
       "hiphop          97\n",
       "alternative     63\n",
       "jazz            61\n",
       "classical       60\n",
       "rusrap          59\n",
       "world           54\n",
       "Name: genre, dtype: int64"
      ]
     },
     "execution_count": 32,
     "metadata": {},
     "output_type": "execute_result"
    }
   ],
   "source": [
    "#Результаты функции по Санкт - Петербургу\n",
    "genre_weekday(spb_general, 'Friday', '17:00', '23:00')"
   ]
  },
  {
   "cell_type": "markdown",
   "metadata": {
    "deletable": false,
    "editable": false,
    "id": "wrCe4MNX_Zcu"
   },
   "source": [
    "**Выводы**\n",
    "\n",
    "Если сравнить топ-10 жанров в понедельник утром, можно сделать такие выводы:\n",
    "\n",
    "1. В Москве и Петербурге слушают похожую музыку. Единственное отличие — в московский рейтинг вошёл жанр “world”, а в петербургский — джаз и классика.\n",
    "\n",
    "2. В Москве пропущенных значений оказалось так много, что значение `'unknown'` заняло десятое место среди самых популярных жанров. Значит, пропущенные значения занимают существенную долю в данных и угрожают достоверности исследования.\n",
    "\n",
    "Вечер пятницы не меняет эту картину. Некоторые жанры поднимаются немного выше, другие спускаются, но в целом топ-10 остаётся тем же самым.\n",
    "\n",
    "Таким образом, вторая гипотеза подтвердилась лишь частично:\n",
    "* Пользователи слушают похожую музыку в начале недели и в конце.\n",
    "* Разница между Москвой и Петербургом не слишком выражена. В Москве чаще слушают русскую популярную музыку, в Петербурге — джаз.\n",
    "\n",
    "Однако пропуски в данных ставят под сомнение этот результат. В Москве их так много, что рейтинг топ-10 мог бы выглядеть иначе, если бы не утерянные  данные о жанрах."
   ]
  },
  {
   "cell_type": "markdown",
   "metadata": {
    "deletable": false,
    "editable": false,
    "id": "JolODAqr_Zcu"
   },
   "source": [
    "### Жанровые предпочтения в Москве и Петербурге\n",
    "\n",
    "Гипотеза: Петербург — столица рэпа, музыку этого жанра там слушают чаще, чем в Москве.  А Москва — город контрастов, в котором, тем не менее, преобладает поп-музыка."
   ]
  },
  {
   "cell_type": "code",
   "execution_count": 33,
   "metadata": {
    "deletable": false,
    "id": "r19lIPke_Zcu"
   },
   "outputs": [],
   "source": [
    "#Создадим сводную таблицу с количеством прослушиваний каждого жанра в Москве\n",
    "moscow_genres = moscow_general.groupby(by = 'genre')['genre'].count().sort_values(ascending = False)"
   ]
  },
  {
   "cell_type": "code",
   "execution_count": 34,
   "metadata": {
    "deletable": false,
    "id": "WhCSooF8_Zcv"
   },
   "outputs": [
    {
     "name": "stdout",
     "output_type": "stream",
     "text": [
      "genre\n",
      "pop            5892\n",
      "dance          4435\n",
      "rock           3965\n",
      "electronic     3786\n",
      "hiphop         2096\n",
      "classical      1616\n",
      "world          1432\n",
      "alternative    1379\n",
      "ruspop         1372\n",
      "rusrap         1161\n",
      "Name: genre, dtype: int64\n"
     ]
    }
   ],
   "source": [
    "#Выведем первые 10 строк moscow_genres\n",
    "print(moscow_genres.head(10))"
   ]
  },
  {
   "cell_type": "code",
   "execution_count": 35,
   "metadata": {
    "deletable": false,
    "id": "gluLIpE7_Zcv"
   },
   "outputs": [],
   "source": [
    "#Создадим сводную таблицу с количеством прослушиваний каждого жанра в Санкт - Петербурге\n",
    "spb_genres = spb_general.groupby(by = 'genre')['genre'].count().sort_values(ascending = False)"
   ]
  },
  {
   "cell_type": "code",
   "execution_count": 36,
   "metadata": {
    "deletable": false,
    "id": "uaGJHjVU_Zcv"
   },
   "outputs": [
    {
     "name": "stdout",
     "output_type": "stream",
     "text": [
      "genre\n",
      "pop            2431\n",
      "dance          1932\n",
      "rock           1879\n",
      "electronic     1736\n",
      "hiphop          960\n",
      "alternative     649\n",
      "classical       646\n",
      "rusrap          564\n",
      "ruspop          538\n",
      "world           515\n",
      "Name: genre, dtype: int64\n"
     ]
    }
   ],
   "source": [
    "# просмотр первых 10 строк spb_genres\n",
    "print(spb_genres.head(10))"
   ]
  },
  {
   "cell_type": "markdown",
   "metadata": {
    "deletable": false,
    "editable": false,
    "id": "RY51YJYu_Zcv"
   },
   "source": [
    "**Выводы**"
   ]
  },
  {
   "cell_type": "markdown",
   "metadata": {
    "deletable": false,
    "editable": false,
    "id": "nVhnJEm__Zcv"
   },
   "source": [
    "Гипотеза частично подтвердилась:\n",
    "* Поп-музыка — самый популярный жанр в Москве, как и предполагала гипотеза. Более того, в топ-10 жанров встречается близкий жанр — русская популярная музыка.\n",
    "* Вопреки ожиданиям, рэп одинаково популярен в Москве и Петербурге. \n"
   ]
  },
  {
   "attachments": {},
   "cell_type": "markdown",
   "metadata": {},
   "source": [
    "<a id=\"end\"></a>"
   ]
  },
  {
   "attachments": {},
   "cell_type": "markdown",
   "metadata": {},
   "source": [
    "[Описание проекта](#introduction)"
   ]
  },
  {
   "cell_type": "markdown",
   "metadata": {
    "deletable": false,
    "editable": false,
    "id": "ykKQ0N65_Zcv"
   },
   "source": [
    "## Итоги исследования"
   ]
  },
  {
   "attachments": {},
   "cell_type": "markdown",
   "metadata": {
    "deletable": false,
    "editable": false,
    "id": "tjUwbHb3_Zcv"
   },
   "source": [
    "1. День недели по-разному влияет на активность пользователей в Москве и Петербурге. \n",
    "\n",
    "Первая гипотеза полностью подтвердилась.\n",
    "\n",
    "2. Музыкальные предпочтения не сильно меняются в течение недели — будь то Москва или Петербург. Небольшие различия заметны в начале недели, по понедельникам:\n",
    "* в Москве слушают музыку жанра “world”,\n",
    "* в Петербурге — джаз и классику.\n",
    "\n",
    "Таким образом, вторая гипотеза подтвердилась лишь отчасти. Этот результат мог оказаться иным, если бы не пропуски в данных.\n",
    "\n",
    "3. Во вкусах пользователей Москвы и Петербурга больше общего чем различий. Вопреки ожиданиям, предпочтения жанров в Петербурге напоминают московские.\n",
    "\n",
    "Третья гипотеза не подтвердилась. Если различия в предпочтениях и существуют, на основной массе пользователей они незаметны."
   ]
  },
  {
   "cell_type": "markdown",
   "metadata": {},
   "source": []
  }
 ],
 "metadata": {
  "ExecuteTimeLog": [
   {
    "duration": 393,
    "start_time": "2022-09-26T19:14:05.697Z"
   },
   {
    "duration": 2,
    "start_time": "2022-09-26T19:14:21.978Z"
   },
   {
    "duration": 214,
    "start_time": "2022-09-26T19:14:58.658Z"
   },
   {
    "duration": 67,
    "start_time": "2022-09-26T19:15:04.288Z"
   },
   {
    "duration": 160,
    "start_time": "2022-09-26T19:15:06.929Z"
   },
   {
    "duration": 7,
    "start_time": "2022-09-26T19:16:37.379Z"
   },
   {
    "duration": 2,
    "start_time": "2022-09-26T19:17:20.691Z"
   },
   {
    "duration": 26,
    "start_time": "2022-09-26T19:17:32.467Z"
   },
   {
    "duration": 3,
    "start_time": "2022-09-26T19:19:53.552Z"
   },
   {
    "duration": 4,
    "start_time": "2022-09-26T19:21:16.614Z"
   },
   {
    "duration": 12,
    "start_time": "2022-09-26T19:24:06.927Z"
   },
   {
    "duration": 3,
    "start_time": "2022-09-26T19:24:27.938Z"
   },
   {
    "duration": 26,
    "start_time": "2022-09-26T19:25:27.602Z"
   },
   {
    "duration": 10,
    "start_time": "2022-09-26T19:28:33.687Z"
   },
   {
    "duration": 17,
    "start_time": "2022-09-26T19:29:28.524Z"
   },
   {
    "duration": 24,
    "start_time": "2022-09-26T19:29:48.429Z"
   },
   {
    "duration": 64,
    "start_time": "2022-09-26T19:30:04.310Z"
   },
   {
    "duration": 58,
    "start_time": "2022-09-26T19:30:10.386Z"
   },
   {
    "duration": 68,
    "start_time": "2022-09-26T19:30:43.591Z"
   },
   {
    "duration": 56,
    "start_time": "2022-09-26T19:31:19.520Z"
   },
   {
    "duration": 72,
    "start_time": "2022-09-26T19:31:30.943Z"
   },
   {
    "duration": 53,
    "start_time": "2022-09-26T19:31:35.223Z"
   },
   {
    "duration": 22,
    "start_time": "2022-09-26T19:33:00.281Z"
   },
   {
    "duration": 19,
    "start_time": "2022-09-26T19:33:16.743Z"
   },
   {
    "duration": 22,
    "start_time": "2022-09-26T19:33:36.084Z"
   },
   {
    "duration": 7,
    "start_time": "2022-09-26T19:34:16.729Z"
   },
   {
    "duration": 23,
    "start_time": "2022-09-26T19:34:45.663Z"
   },
   {
    "duration": 31,
    "start_time": "2022-09-26T19:35:52.982Z"
   },
   {
    "duration": 32,
    "start_time": "2022-09-26T19:36:20.481Z"
   },
   {
    "duration": 32,
    "start_time": "2022-09-26T19:37:11.693Z"
   },
   {
    "duration": 56,
    "start_time": "2022-09-26T19:44:11.386Z"
   },
   {
    "duration": 45,
    "start_time": "2022-09-26T19:45:40.443Z"
   },
   {
    "duration": 16,
    "start_time": "2022-09-26T19:46:29.283Z"
   },
   {
    "duration": 11,
    "start_time": "2022-09-26T19:46:42.908Z"
   },
   {
    "duration": 12,
    "start_time": "2022-09-26T19:47:43.882Z"
   },
   {
    "duration": 13,
    "start_time": "2022-09-26T19:48:59.455Z"
   },
   {
    "duration": 9,
    "start_time": "2022-09-26T19:49:14.847Z"
   },
   {
    "duration": 15,
    "start_time": "2022-09-26T19:50:11.392Z"
   },
   {
    "duration": 7,
    "start_time": "2022-09-26T19:51:18.411Z"
   },
   {
    "duration": 5,
    "start_time": "2022-09-26T19:51:39.514Z"
   },
   {
    "duration": 35,
    "start_time": "2022-09-26T19:51:49.514Z"
   },
   {
    "duration": 10,
    "start_time": "2022-09-26T19:54:38.268Z"
   },
   {
    "duration": 4,
    "start_time": "2022-09-26T19:55:00.309Z"
   },
   {
    "duration": 32,
    "start_time": "2022-09-26T19:55:18.101Z"
   },
   {
    "duration": 6,
    "start_time": "2022-09-26T20:01:28.472Z"
   },
   {
    "duration": 29,
    "start_time": "2022-09-26T20:01:39.187Z"
   },
   {
    "duration": 11,
    "start_time": "2022-09-26T20:02:22.897Z"
   },
   {
    "duration": 13,
    "start_time": "2022-09-26T20:03:20.828Z"
   },
   {
    "duration": 11,
    "start_time": "2022-09-26T20:04:18.758Z"
   },
   {
    "duration": 13,
    "start_time": "2022-09-26T20:07:40.350Z"
   },
   {
    "duration": 11,
    "start_time": "2022-09-26T20:07:46.175Z"
   },
   {
    "duration": 42,
    "start_time": "2022-09-26T20:10:54.943Z"
   },
   {
    "duration": 8,
    "start_time": "2022-09-26T20:11:56.082Z"
   },
   {
    "duration": 19,
    "start_time": "2022-09-26T20:12:30.356Z"
   },
   {
    "duration": 12,
    "start_time": "2022-09-26T20:12:38.981Z"
   },
   {
    "duration": 4,
    "start_time": "2022-09-26T20:16:28.242Z"
   },
   {
    "duration": 9,
    "start_time": "2022-09-26T20:18:03.539Z"
   },
   {
    "duration": 6,
    "start_time": "2022-09-26T20:18:03.549Z"
   },
   {
    "duration": 11,
    "start_time": "2022-09-26T20:18:03.556Z"
   },
   {
    "duration": 6,
    "start_time": "2022-09-26T20:18:03.568Z"
   },
   {
    "duration": 12,
    "start_time": "2022-09-26T20:18:03.576Z"
   },
   {
    "duration": 4,
    "start_time": "2022-09-26T20:18:03.590Z"
   },
   {
    "duration": 6,
    "start_time": "2022-09-26T20:19:01.682Z"
   },
   {
    "duration": 4,
    "start_time": "2022-09-26T20:19:31.915Z"
   },
   {
    "duration": 393,
    "start_time": "2022-09-26T20:20:13.975Z"
   },
   {
    "duration": 196,
    "start_time": "2022-09-26T20:20:14.371Z"
   },
   {
    "duration": 9,
    "start_time": "2022-09-26T20:20:14.569Z"
   },
   {
    "duration": 44,
    "start_time": "2022-09-26T20:20:14.581Z"
   },
   {
    "duration": 44,
    "start_time": "2022-09-26T20:20:14.626Z"
   },
   {
    "duration": 35,
    "start_time": "2022-09-26T20:20:14.672Z"
   },
   {
    "duration": 18,
    "start_time": "2022-09-26T20:20:14.709Z"
   },
   {
    "duration": 10,
    "start_time": "2022-09-26T20:20:14.729Z"
   },
   {
    "duration": 40,
    "start_time": "2022-09-26T20:20:14.740Z"
   },
   {
    "duration": 35,
    "start_time": "2022-09-26T20:20:14.784Z"
   },
   {
    "duration": 23,
    "start_time": "2022-09-26T20:20:14.822Z"
   },
   {
    "duration": 85,
    "start_time": "2022-09-26T20:20:14.846Z"
   },
   {
    "duration": 77,
    "start_time": "2022-09-26T20:20:14.933Z"
   },
   {
    "duration": 58,
    "start_time": "2022-09-26T20:20:15.011Z"
   },
   {
    "duration": 42,
    "start_time": "2022-09-26T20:20:15.070Z"
   },
   {
    "duration": 10,
    "start_time": "2022-09-26T20:20:15.113Z"
   },
   {
    "duration": 64,
    "start_time": "2022-09-26T20:20:15.124Z"
   },
   {
    "duration": 15,
    "start_time": "2022-09-26T20:20:15.190Z"
   },
   {
    "duration": 21,
    "start_time": "2022-09-26T20:20:15.207Z"
   },
   {
    "duration": 7,
    "start_time": "2022-09-26T20:20:15.230Z"
   },
   {
    "duration": 51,
    "start_time": "2022-09-26T20:20:15.238Z"
   },
   {
    "duration": 26,
    "start_time": "2022-09-26T20:20:15.291Z"
   },
   {
    "duration": 30,
    "start_time": "2022-09-26T20:20:15.319Z"
   },
   {
    "duration": 28,
    "start_time": "2022-09-26T20:20:15.351Z"
   },
   {
    "duration": 20,
    "start_time": "2022-09-26T20:20:15.381Z"
   },
   {
    "duration": 19,
    "start_time": "2022-09-26T20:20:15.403Z"
   },
   {
    "duration": 22,
    "start_time": "2022-09-26T20:20:15.424Z"
   },
   {
    "duration": 25,
    "start_time": "2022-09-26T20:20:15.450Z"
   },
   {
    "duration": 31,
    "start_time": "2022-09-26T20:20:15.477Z"
   },
   {
    "duration": 47,
    "start_time": "2022-09-26T20:20:15.510Z"
   },
   {
    "duration": 0,
    "start_time": "2022-09-26T20:20:15.559Z"
   },
   {
    "duration": 0,
    "start_time": "2022-09-26T20:20:15.560Z"
   },
   {
    "duration": 0,
    "start_time": "2022-09-26T20:20:15.562Z"
   },
   {
    "duration": 0,
    "start_time": "2022-09-26T20:20:15.563Z"
   },
   {
    "duration": 0,
    "start_time": "2022-09-26T20:20:15.565Z"
   },
   {
    "duration": 0,
    "start_time": "2022-09-26T20:20:15.566Z"
   },
   {
    "duration": 0,
    "start_time": "2022-09-26T20:20:15.567Z"
   },
   {
    "duration": 0,
    "start_time": "2022-09-26T20:20:15.569Z"
   },
   {
    "duration": 25,
    "start_time": "2022-09-26T20:20:53.287Z"
   },
   {
    "duration": 20,
    "start_time": "2022-09-26T20:20:55.410Z"
   },
   {
    "duration": 4,
    "start_time": "2022-09-26T20:21:48.660Z"
   },
   {
    "duration": 21,
    "start_time": "2022-09-26T20:21:52.387Z"
   },
   {
    "duration": 4,
    "start_time": "2022-09-26T20:22:06.764Z"
   },
   {
    "duration": 15,
    "start_time": "2022-09-26T20:22:09.020Z"
   },
   {
    "duration": 13,
    "start_time": "2022-09-26T20:22:11.342Z"
   },
   {
    "duration": 14,
    "start_time": "2022-09-26T20:22:16.875Z"
   },
   {
    "duration": 30,
    "start_time": "2022-09-26T20:22:16.891Z"
   },
   {
    "duration": 38,
    "start_time": "2022-09-26T20:22:16.922Z"
   },
   {
    "duration": 63,
    "start_time": "2022-09-26T20:23:37.259Z"
   },
   {
    "duration": 8,
    "start_time": "2022-09-26T20:23:58.749Z"
   },
   {
    "duration": 8,
    "start_time": "2022-09-26T20:31:34.011Z"
   },
   {
    "duration": 14,
    "start_time": "2022-09-26T20:31:46.941Z"
   },
   {
    "duration": 4,
    "start_time": "2022-09-26T20:32:57.134Z"
   },
   {
    "duration": 4,
    "start_time": "2022-09-26T20:33:25.863Z"
   },
   {
    "duration": 6,
    "start_time": "2022-09-26T20:33:33.030Z"
   },
   {
    "duration": 14,
    "start_time": "2022-09-26T20:34:06.231Z"
   },
   {
    "duration": 6,
    "start_time": "2022-09-26T20:34:15.270Z"
   },
   {
    "duration": 9,
    "start_time": "2022-09-26T20:36:11.129Z"
   },
   {
    "duration": 10,
    "start_time": "2022-09-26T20:36:13.561Z"
   },
   {
    "duration": 12,
    "start_time": "2022-09-26T20:36:15.826Z"
   },
   {
    "duration": 4,
    "start_time": "2022-09-26T20:55:00.754Z"
   },
   {
    "duration": 5,
    "start_time": "2022-09-26T20:56:41.597Z"
   },
   {
    "duration": 4,
    "start_time": "2022-09-26T20:57:40.375Z"
   },
   {
    "duration": 5,
    "start_time": "2022-09-26T20:58:10.199Z"
   },
   {
    "duration": 5,
    "start_time": "2022-09-26T21:03:35.050Z"
   },
   {
    "duration": 43,
    "start_time": "2022-09-27T11:02:09.801Z"
   },
   {
    "duration": 5,
    "start_time": "2022-09-27T11:02:24.147Z"
   },
   {
    "duration": 9,
    "start_time": "2022-09-27T11:02:26.293Z"
   },
   {
    "duration": 6,
    "start_time": "2022-09-27T11:02:32.464Z"
   },
   {
    "duration": 8,
    "start_time": "2022-09-27T11:02:42.024Z"
   },
   {
    "duration": 405,
    "start_time": "2022-09-27T11:02:51.113Z"
   },
   {
    "duration": 441,
    "start_time": "2022-09-27T11:02:51.522Z"
   },
   {
    "duration": 9,
    "start_time": "2022-09-27T11:02:51.965Z"
   },
   {
    "duration": 55,
    "start_time": "2022-09-27T11:02:51.977Z"
   },
   {
    "duration": 13,
    "start_time": "2022-09-27T11:02:52.034Z"
   },
   {
    "duration": 31,
    "start_time": "2022-09-27T11:02:52.049Z"
   },
   {
    "duration": 23,
    "start_time": "2022-09-27T11:02:52.082Z"
   },
   {
    "duration": 20,
    "start_time": "2022-09-27T11:02:52.107Z"
   },
   {
    "duration": 55,
    "start_time": "2022-09-27T11:02:52.128Z"
   },
   {
    "duration": 33,
    "start_time": "2022-09-27T11:02:52.185Z"
   },
   {
    "duration": 41,
    "start_time": "2022-09-27T11:02:52.220Z"
   },
   {
    "duration": 77,
    "start_time": "2022-09-27T11:02:52.262Z"
   },
   {
    "duration": 59,
    "start_time": "2022-09-27T11:02:52.341Z"
   },
   {
    "duration": 72,
    "start_time": "2022-09-27T11:02:52.401Z"
   },
   {
    "duration": 32,
    "start_time": "2022-09-27T11:02:52.475Z"
   },
   {
    "duration": 33,
    "start_time": "2022-09-27T11:02:52.509Z"
   },
   {
    "duration": 64,
    "start_time": "2022-09-27T11:02:52.544Z"
   },
   {
    "duration": 28,
    "start_time": "2022-09-27T11:02:52.610Z"
   },
   {
    "duration": 32,
    "start_time": "2022-09-27T11:02:52.639Z"
   },
   {
    "duration": 23,
    "start_time": "2022-09-27T11:02:52.672Z"
   },
   {
    "duration": 62,
    "start_time": "2022-09-27T11:02:52.696Z"
   },
   {
    "duration": 44,
    "start_time": "2022-09-27T11:02:52.760Z"
   },
   {
    "duration": 60,
    "start_time": "2022-09-27T11:02:52.805Z"
   },
   {
    "duration": 24,
    "start_time": "2022-09-27T11:02:52.866Z"
   },
   {
    "duration": 55,
    "start_time": "2022-09-27T11:02:52.892Z"
   },
   {
    "duration": 35,
    "start_time": "2022-09-27T11:02:52.949Z"
   },
   {
    "duration": 26,
    "start_time": "2022-09-27T11:02:52.986Z"
   },
   {
    "duration": 47,
    "start_time": "2022-09-27T11:02:53.014Z"
   },
   {
    "duration": 17,
    "start_time": "2022-09-27T11:02:53.063Z"
   },
   {
    "duration": 29,
    "start_time": "2022-09-27T11:02:53.082Z"
   },
   {
    "duration": 66,
    "start_time": "2022-09-27T11:02:53.113Z"
   },
   {
    "duration": 42,
    "start_time": "2022-09-27T11:02:53.180Z"
   },
   {
    "duration": 43,
    "start_time": "2022-09-27T11:02:53.224Z"
   },
   {
    "duration": 25,
    "start_time": "2022-09-27T11:02:53.268Z"
   },
   {
    "duration": 20,
    "start_time": "2022-09-27T11:02:53.295Z"
   },
   {
    "duration": 77,
    "start_time": "2022-09-27T11:02:53.317Z"
   },
   {
    "duration": 31,
    "start_time": "2022-09-27T11:02:53.396Z"
   },
   {
    "duration": 40,
    "start_time": "2022-09-27T11:02:53.428Z"
   },
   {
    "duration": 10,
    "start_time": "2022-09-27T11:06:55.255Z"
   },
   {
    "duration": 10,
    "start_time": "2022-09-27T11:06:57.836Z"
   },
   {
    "duration": 12,
    "start_time": "2022-09-27T11:07:06.256Z"
   },
   {
    "duration": 9,
    "start_time": "2022-09-27T11:07:42.192Z"
   },
   {
    "duration": 4,
    "start_time": "2022-09-27T11:08:05.084Z"
   },
   {
    "duration": 8,
    "start_time": "2022-09-27T11:09:12.069Z"
   },
   {
    "duration": 4,
    "start_time": "2022-09-27T11:09:35.831Z"
   }
  ],
  "colab": {
   "collapsed_sections": [
    "E0vqbgi9ay0H",
    "VUC88oWjTJw2"
   ],
   "name": "automatization_template_upd4.ipynb",
   "provenance": []
  },
  "kernelspec": {
   "display_name": "Python 3 (ipykernel)",
   "language": "python",
   "name": "python3"
  },
  "language_info": {
   "codemirror_mode": {
    "name": "ipython",
    "version": 3
   },
   "file_extension": ".py",
   "mimetype": "text/x-python",
   "name": "python",
   "nbconvert_exporter": "python",
   "pygments_lexer": "ipython3",
   "version": "3.9.12"
  },
  "toc": {
   "base_numbering": 1,
   "nav_menu": {
    "height": "215px",
    "width": "403px"
   },
   "number_sections": true,
   "sideBar": true,
   "skip_h1_title": true,
   "title_cell": "Table of Contents",
   "title_sidebar": "Contents",
   "toc_cell": false,
   "toc_position": {
    "height": "calc(100% - 180px)",
    "left": "10px",
    "top": "150px",
    "width": "285.825px"
   },
   "toc_section_display": true,
   "toc_window_display": false
  }
 },
 "nbformat": 4,
 "nbformat_minor": 1
}
